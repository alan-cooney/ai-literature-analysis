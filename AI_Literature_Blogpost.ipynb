{
 "cells": [
  {
   "cell_type": "code",
   "execution_count": 15,
   "id": "864371e2-b74d-49c9-a5f1-dc9c3f5d49d3",
   "metadata": {},
   "outputs": [
    {
     "name": "stderr",
     "output_type": "stream",
     "text": [
      "16it [00:35,  2.25s/it]\n"
     ]
    }
   ],
   "source": [
    "%run ./AI_Literature_Analysis.ipynb"
   ]
  },
  {
   "cell_type": "markdown",
   "id": "8626ccf0-f74b-4955-95d9-b2bfbeccc87c",
   "metadata": {},
   "source": [
    "# Topic Trends in Machine Learning\n",
    "## The Increasing focus on Safety, Fairness & Interpretability\n",
    "\n",
    "*This blog post was written as part of a paid work trial for [Epoch](https://epochai.org/). Epoch investigates and forecasts the development of advanced AI.*"
   ]
  },
  {
   "cell_type": "markdown",
   "id": "1b6ca92d-3f2f-4654-9300-f38360bddbfb",
   "metadata": {},
   "source": [
    "## In Short\n",
    "\n",
    "In this blog post we conduct topic analysis on all $n=155,223$ ML/AI papers, submitted to [Arxiv](https://arxiv.org/) between 2007 and 2022. This is done with state-of-the-art topic modelling techniques, utilising [BERTopic](https://arxiv.org/abs/2203.05794).\n",
    "\n",
    "We look specifically at topics that can be considered most relavent to AI Alignment - specifically adversarial safety, fairness and interpretability. We find that this subset has grown significantly, from 0.5% to 7.2% of literature over the past 11 years."
   ]
  },
  {
   "cell_type": "markdown",
   "id": "725d6e55-a27b-4e15-8847-2a8a212a72ae",
   "metadata": {},
   "source": [
    "## The Arxiv Dataset"
   ]
  },
  {
   "cell_type": "code",
   "execution_count": 25,
   "id": "c4700d5b-137b-40b3-a6a0-4d1c485f6b7f",
   "metadata": {},
   "outputs": [
    {
     "data": {
      "text/plain": [
       "<AxesSubplot:xlabel='update_date'>"
      ]
     },
     "execution_count": 25,
     "metadata": {},
     "output_type": "execute_result"
    },
    {
     "data": {
      "image/png": "[encoded data removed]",
      "text/plain": [
       "<Figure size 640x480 with 1 Axes>"
      ]
     },
     "metadata": {},
     "output_type": "display_data"
    }
   ],
   "source": [
    "# Show papers over time\n",
    "ai_papers[\"update_date\"].groupby(ai_papers[\"update_date\"].dt.year).count().plot(kind=\"bar\")"
   ]
  },
  {
   "cell_type": "markdown",
   "id": "2c6982dd-d42c-4419-9a6e-19a154f6fc8d",
   "metadata": {},
   "source": [
    " - [Arxiv](https://arxiv.org/) is widely used within the AI research community, to publish preprints and postprints of papers.\n",
    " - The [Arxiv dataset](https://www.kaggle.com/Cornell-University/arxiv) spans 2007-2022, including all 2.1m papers that have been published on Arxiv.\n",
    " - Each paper within the dataset is categorised according to the [Arxiv taxonomy](https://arxiv.org/category_taxonomy), such that each paper belongs to one or more categories. In addition, a team of Arxiv moderators [re-categorize papers](https://arxiv.org/help/moderation), which likely results in more robust categorization than other well-known literature datasets (e.g. [DLBP](https://dblp.org/) and the [Citation network dataset](https://www.aminer.org/citation)).\n",
    " - The dataset includes paper abstracts, which will be used for topic modelling. It does not include the full text of articles.\n",
    " - The dataset is updated automatically, on a weekly basis.\n",
    " - Varios forms of topic modelling [have previously been done](https://www.kaggle.com/datasets/Cornell-University/arxiv/code) on the whole Arxiv dataset, including utilizing [Top2Vec](https://www.kaggle.com/code/ritheshsreenivasan/top2vecdemo) and [BERTopic](https://www.kaggle.com/code/maartengr/topic-modeling-arxiv-abstract-with-bertopic). However, to our knowledge this has not been done specifically for AI related papers."
   ]
  },
  {
   "cell_type": "markdown",
   "id": "81967355-6973-4b6a-ac25-5377264f4f9d",
   "metadata": {},
   "source": [
    "## BERTopic Modelling"
   ]
  },
  {
   "cell_type": "markdown",
   "id": "685f19b8-81d6-40cd-a551-c5522a60c60e",
   "metadata": {},
   "source": [
    "### Introduction to BERTopic\n",
    "\n",
    "> BERTopic generates topic representations through three steps. First, each document is converted to its embedding representation using a pre-trained language model. Then, before clustering these embeddings, the dimensionality of the resulting embeddings is reduced to optimize the clustering process. Lastly, from the clusters of documents, topic representations are extracted using a custom class-based variation of TF-IDF.\n",
    "\n",
    "Source: [BERTopic: Neural topic modeling with a class-based TF-IDF procedure\n",
    "](https://arxiv.org/pdf/2203.05794.pdf)\n",
    "\n",
    "- BERTopic has been found to produce state-of-the-art topic representations on a [wide variety of tasks](https://arxiv.org/pdf/2203.05794.pdf), including [in comparison to](https://www.researchgate.net/publication/360410995_A_Topic_Modeling_Comparison_Between_LDA_NMF_Top2Vec_and_BERTopic_to_Demystify_Twitter_Posts) latent Dirichlet allocation (LDA), non-negative matrix factorization (NMF) and Top2Vec.\n",
    "- It supports dynamic topic modelling (analysing trends over time).\n",
    "- Our analysis uses [Maartengr's implementation](https://maartengr.github.io/BERTopic/index.html)."
   ]
  },
  {
   "cell_type": "markdown",
   "id": "9f925929-54f6-4f3f-abb9-700cbe80cdfc",
   "metadata": {},
   "source": [
    "### Analysis\n",
    "\n",
    "The BERTopic model was supplimented with three key modifications, from the default approach:\n",
    "\n",
    " - The list of stop words was supplimented to remove common terms within achademic literature in general (e.g. \"research\", \"method\", \"proposed\"), as well as common terms across almost all fields of ML (e.g. \"algorithm\", \"machine\", \"learning\").\n",
    " - Given the inherent increased complexity of academic writting as oposed to other bodies of text, the [all-mpnet-base-v2](https://huggingface.co/sentence-transformers/all-mpnet-base-v2) sentence transform model has been used to create embeddings. The BERTopic authors note this change typically results in a [higher quality model at the expense of performance](https://maartengr.github.io/BERTopic/faq.html#which-embedding-model-should-i-choose).\n",
    " - The minimum topic hyperparameter has been increased from 10 to 500, given the large size of the dataset that we're working with (the number still represents just 0.3% of papers)."
   ]
  },
  {
   "cell_type": "markdown",
   "id": "189f66d8-6b95-444e-840a-a810d8bae19c",
   "metadata": {},
   "source": [
    "### Topics Generated\n",
    "\n",
    " - The model generated a total of 47 topics.\n",
    " - These topics are shown below (with the top 5 keywords from each topic). These clearly represent well-defined categories within ML literature."
   ]
  },
  {
   "cell_type": "code",
   "execution_count": 18,
   "id": "46bfe40d-c3f7-4c0c-ac2e-31939a5a8101",
   "metadata": {},
   "outputs": [
    {
     "data": {
      "application/vnd.plotly.v1+json": {
       "config": {
        "plotlyServerURL": "https://plot.ly"
       },
       "data": [
        {
         "marker": {
          "color": "#D55E00"
         },
         "orientation": "h",
         "type": "bar",
         "x": [
          0.013760587672077274,
          0.014357368185067741,
          0.01484410413702482,
          0.016640809059243204,
          0.025037573574902817
         ],
         "xaxis": "x",
         "y": [
          "task  ",
          "knowledge  ",
          "word  ",
          "text  ",
          "language  "
         ],
         "yaxis": "y"
        },
        {
         "marker": {
          "color": "#0072B2"
         },
         "orientation": "h",
         "type": "bar",
         "x": [
          0.01747804606927979,
          0.017919562063674944,
          0.020096533164648007,
          0.031070805210568236,
          0.0325753076561593
         ],
         "xaxis": "x2",
         "y": [
          "agent  ",
          "control  ",
          "reward  ",
          "rl  ",
          "reinforcement  "
         ],
         "yaxis": "y2"
        },
        {
         "marker": {
          "color": "#CC79A7"
         },
         "orientation": "h",
         "type": "bar",
         "x": [
          0.02537208285815489,
          0.02585012819654151,
          0.03407204945629832,
          0.040946183125068786,
          0.05850611042241666
         ],
         "xaxis": "x3",
         "y": [
          "communication  ",
          "private  ",
          "fl  ",
          "federated  ",
          "privacy  "
         ],
         "yaxis": "y3"
        },
        {
         "marker": {
          "color": "#E69F00"
         },
         "orientation": "h",
         "type": "bar",
         "x": [
          0.021240346505836144,
          0.02304915275855311,
          0.024440257682423475,
          0.024690455404149655,
          0.032645108511674605
         ],
         "xaxis": "x4",
         "y": [
          "convex  ",
          "descent  ",
          "convergence  ",
          "stochastic  ",
          "gradient  "
         ],
         "yaxis": "y4"
        },
        {
         "marker": {
          "color": "#56B4E9"
         },
         "orientation": "h",
         "type": "bar",
         "x": [
          0.016764784138217814,
          0.01836558262652742,
          0.019994661709241995,
          0.021192576837969816,
          0.038453896845572835
         ],
         "xaxis": "x5",
         "y": [
          "knowledge  ",
          "ontology  ",
          "semantics  ",
          "reasoning  ",
          "logic  "
         ],
         "yaxis": "y5"
        },
        {
         "marker": {
          "color": "#009E73"
         },
         "orientation": "h",
         "type": "bar",
         "x": [
          0.020861239599225454,
          0.02260016450019574,
          0.02577514098673725,
          0.03053112003636369,
          0.03233718900466075
         ],
         "xaxis": "x6",
         "y": [
          "medical  ",
          "imaging  ",
          "image  ",
          "images  ",
          "segmentation  "
         ],
         "yaxis": "y6"
        },
        {
         "marker": {
          "color": "#F0E442"
         },
         "orientation": "h",
         "type": "bar",
         "x": [
          0.019544934053477694,
          0.028892590759638057,
          0.034693286460769475,
          0.03997386990016198,
          0.06157625811411067
         ],
         "xaxis": "x7",
         "y": [
          "acoustic  ",
          "music  ",
          "speaker  ",
          "audio  ",
          "speech  "
         ],
         "yaxis": "y7"
        },
        {
         "marker": {
          "color": "#D55E00"
         },
         "orientation": "h",
         "type": "bar",
         "x": [
          0.017299662370455774,
          0.026750202927992812,
          0.028979407064077596,
          0.030423899595226036,
          0.033919265591480646
         ],
         "xaxis": "x8",
         "y": [
          "low  ",
          "sparse  ",
          "tensor  ",
          "rank  ",
          "matrix  "
         ],
         "yaxis": "y8"
        },
        {
         "marker": {
          "color": "#0072B2"
         },
         "orientation": "h",
         "type": "bar",
         "x": [
          0.019178001126404207,
          0.019207564392140185,
          0.021058668923672925,
          0.022230480142619923,
          0.02754995755038733
         ],
         "xaxis": "x9",
         "y": [
          "search  ",
          "nas  ",
          "hardware  ",
          "quantization  ",
          "pruning  "
         ],
         "yaxis": "y9"
        },
        {
         "marker": {
          "color": "#CC79A7"
         },
         "orientation": "h",
         "type": "bar",
         "x": [
          0.018123180734843918,
          0.018990344194963246,
          0.019283217438671705,
          0.02946877592972866,
          0.03509670679907552
         ],
         "xaxis": "x10",
         "y": [
          "video  ",
          "point  ",
          "segmentation  ",
          "object  ",
          "3d  "
         ],
         "yaxis": "y10"
        },
        {
         "marker": {
          "color": "#E69F00"
         },
         "orientation": "h",
         "type": "bar",
         "x": [
          0.028766864592550588,
          0.038743247019350564,
          0.040930025621002716,
          0.052917583980280944,
          0.0857696090602453
         ],
         "xaxis": "x11",
         "y": [
          "examples  ",
          "robustness  ",
          "attack  ",
          "attacks  ",
          "adversarial  "
         ],
         "yaxis": "y11"
        },
        {
         "marker": {
          "color": "#56B4E9"
         },
         "orientation": "h",
         "type": "bar",
         "x": [
          0.023028289812504356,
          0.025131168242840497,
          0.030674965175792476,
          0.04359202255366065,
          0.0618672534006752
         ],
         "xaxis": "x12",
         "y": [
          "arm  ",
          "bandits  ",
          "online  ",
          "bandit  ",
          "regret  "
         ],
         "yaxis": "y12"
        },
        {
         "marker": {
          "color": "#009E73"
         },
         "orientation": "h",
         "type": "bar",
         "x": [
          0.018333625396678096,
          0.019546648976782093,
          0.02711132024321936,
          0.027987460966679124,
          0.06509990659488807
         ],
         "xaxis": "x13",
         "y": [
          "bayesian  ",
          "graphical  ",
          "variables  ",
          "treatment  ",
          "causal  "
         ],
         "yaxis": "y13"
        },
        {
         "marker": {
          "color": "#F0E442"
         },
         "orientation": "h",
         "type": "bar",
         "x": [
          0.022718705851542006,
          0.0298332253372163,
          0.03229744610469194,
          0.03612726083572007,
          0.043600674489201525
         ],
         "xaxis": "x14",
         "y": [
          "image  ",
          "latent  ",
          "gan  ",
          "gans  ",
          "generative  "
         ],
         "yaxis": "y14"
        },
        {
         "marker": {
          "color": "#D55E00"
         },
         "orientation": "h",
         "type": "bar",
         "x": [
          0.01958173583573083,
          0.022639256563864108,
          0.03167992522848368,
          0.04913484812486731,
          0.052310783371353316
         ],
         "xaxis": "x15",
         "y": [
          "security  ",
          "anomalies  ",
          "malware  ",
          "anomaly  ",
          "detection  "
         ],
         "yaxis": "y15"
        },
        {
         "marker": {
          "color": "#0072B2"
         },
         "orientation": "h",
         "type": "bar",
         "x": [
          0.017964501125480037,
          0.02415911264217235,
          0.031652211174973986,
          0.031768868960370275,
          0.05217076412679117
         ],
         "xaxis": "x16",
         "y": [
          "recommendations  ",
          "ranking  ",
          "users  ",
          "recommender  ",
          "recommendation  "
         ],
         "yaxis": "y16"
        }
       ],
       "layout": {
        "annotations": [
         {
          "font": {
           "size": 16
          },
          "showarrow": false,
          "text": "Topic 0",
          "x": 0.0875,
          "xanchor": "center",
          "xref": "paper",
          "y": 1,
          "yanchor": "bottom",
          "yref": "paper"
         },
         {
          "font": {
           "size": 16
          },
          "showarrow": false,
          "text": "Topic 1",
          "x": 0.36250000000000004,
          "xanchor": "center",
          "xref": "paper",
          "y": 1,
          "yanchor": "bottom",
          "yref": "paper"
         },
         {
          "font": {
           "size": 16
          },
          "showarrow": false,
          "text": "Topic 2",
          "x": 0.6375000000000001,
          "xanchor": "center",
          "xref": "paper",
          "y": 1,
          "yanchor": "bottom",
          "yref": "paper"
         },
         {
          "font": {
           "size": 16
          },
          "showarrow": false,
          "text": "Topic 3",
          "x": 0.9125,
          "xanchor": "center",
          "xref": "paper",
          "y": 1,
          "yanchor": "bottom",
          "yref": "paper"
         },
         {
          "font": {
           "size": 16
          },
          "showarrow": false,
          "text": "Topic 4",
          "x": 0.0875,
          "xanchor": "center",
          "xref": "paper",
          "y": 0.7250000000000001,
          "yanchor": "bottom",
          "yref": "paper"
         },
         {
          "font": {
           "size": 16
          },
          "showarrow": false,
          "text": "Topic 5",
          "x": 0.36250000000000004,
          "xanchor": "center",
          "xref": "paper",
          "y": 0.7250000000000001,
          "yanchor": "bottom",
          "yref": "paper"
         },
         {
          "font": {
           "size": 16
          },
          "showarrow": false,
          "text": "Topic 6",
          "x": 0.6375000000000001,
          "xanchor": "center",
          "xref": "paper",
          "y": 0.7250000000000001,
          "yanchor": "bottom",
          "yref": "paper"
         },
         {
          "font": {
           "size": 16
          },
          "showarrow": false,
          "text": "Topic 7",
          "x": 0.9125,
          "xanchor": "center",
          "xref": "paper",
          "y": 0.7250000000000001,
          "yanchor": "bottom",
          "yref": "paper"
         },
         {
          "font": {
           "size": 16
          },
          "showarrow": false,
          "text": "Topic 8",
          "x": 0.0875,
          "xanchor": "center",
          "xref": "paper",
          "y": 0.45,
          "yanchor": "bottom",
          "yref": "paper"
         },
         {
          "font": {
           "size": 16
          },
          "showarrow": false,
          "text": "Topic 9",
          "x": 0.36250000000000004,
          "xanchor": "center",
          "xref": "paper",
          "y": 0.45,
          "yanchor": "bottom",
          "yref": "paper"
         },
         {
          "font": {
           "size": 16
          },
          "showarrow": false,
          "text": "Topic 10",
          "x": 0.6375000000000001,
          "xanchor": "center",
          "xref": "paper",
          "y": 0.45,
          "yanchor": "bottom",
          "yref": "paper"
         },
         {
          "font": {
           "size": 16
          },
          "showarrow": false,
          "text": "Topic 11",
          "x": 0.9125,
          "xanchor": "center",
          "xref": "paper",
          "y": 0.45,
          "yanchor": "bottom",
          "yref": "paper"
         },
         {
          "font": {
           "size": 16
          },
          "showarrow": false,
          "text": "Topic 12",
          "x": 0.0875,
          "xanchor": "center",
          "xref": "paper",
          "y": 0.175,
          "yanchor": "bottom",
          "yref": "paper"
         },
         {
          "font": {
           "size": 16
          },
          "showarrow": false,
          "text": "Topic 13",
          "x": 0.36250000000000004,
          "xanchor": "center",
          "xref": "paper",
          "y": 0.175,
          "yanchor": "bottom",
          "yref": "paper"
         },
         {
          "font": {
           "size": 16
          },
          "showarrow": false,
          "text": "Topic 14",
          "x": 0.6375000000000001,
          "xanchor": "center",
          "xref": "paper",
          "y": 0.175,
          "yanchor": "bottom",
          "yref": "paper"
         },
         {
          "font": {
           "size": 16
          },
          "showarrow": false,
          "text": "Topic 15",
          "x": 0.9125,
          "xanchor": "center",
          "xref": "paper",
          "y": 0.175,
          "yanchor": "bottom",
          "yref": "paper"
         }
        ],
        "height": 1000,
        "hoverlabel": {
         "bgcolor": "white",
         "font": {
          "family": "Rockwell",
          "size": 16
         }
        },
        "showlegend": false,
        "template": {
         "data": {
          "bar": [
           {
            "error_x": {
             "color": "#2a3f5f"
            },
            "error_y": {
             "color": "#2a3f5f"
            },
            "marker": {
             "line": {
              "color": "white",
              "width": 0.5
             },
             "pattern": {
              "fillmode": "overlay",
              "size": 10,
              "solidity": 0.2
             }
            },
            "type": "bar"
           }
          ],
          "barpolar": [
           {
            "marker": {
             "line": {
              "color": "white",
              "width": 0.5
             },
             "pattern": {
              "fillmode": "overlay",
              "size": 10,
              "solidity": 0.2
             }
            },
            "type": "barpolar"
           }
          ],
          "carpet": [
           {
            "aaxis": {
             "endlinecolor": "#2a3f5f",
             "gridcolor": "#C8D4E3",
             "linecolor": "#C8D4E3",
             "minorgridcolor": "#C8D4E3",
             "startlinecolor": "#2a3f5f"
            },
            "baxis": {
             "endlinecolor": "#2a3f5f",
             "gridcolor": "#C8D4E3",
             "linecolor": "#C8D4E3",
             "minorgridcolor": "#C8D4E3",
             "startlinecolor": "#2a3f5f"
            },
            "type": "carpet"
           }
          ],
          "choropleth": [
           {
            "colorbar": {
             "outlinewidth": 0,
             "ticks": ""
            },
            "type": "choropleth"
           }
          ],
          "contour": [
           {
            "colorbar": {
             "outlinewidth": 0,
             "ticks": ""
            },
            "colorscale": [
             [
              0,
              "#0d0887"
             ],
             [
              0.1111111111111111,
              "#46039f"
             ],
             [
              0.2222222222222222,
              "#7201a8"
             ],
             [
              0.3333333333333333,
              "#9c179e"
             ],
             [
              0.4444444444444444,
              "#bd3786"
             ],
             [
              0.5555555555555556,
              "#d8576b"
             ],
             [
              0.6666666666666666,
              "#ed7953"
             ],
             [
              0.7777777777777778,
              "#fb9f3a"
             ],
             [
              0.8888888888888888,
              "#fdca26"
             ],
             [
              1,
              "#f0f921"
             ]
            ],
            "type": "contour"
           }
          ],
          "contourcarpet": [
           {
            "colorbar": {
             "outlinewidth": 0,
             "ticks": ""
            },
            "type": "contourcarpet"
           }
          ],
          "heatmap": [
           {
            "colorbar": {
             "outlinewidth": 0,
             "ticks": ""
            },
            "colorscale": [
             [
              0,
              "#0d0887"
             ],
             [
              0.1111111111111111,
              "#46039f"
             ],
             [
              0.2222222222222222,
              "#7201a8"
             ],
             [
              0.3333333333333333,
              "#9c179e"
             ],
             [
              0.4444444444444444,
              "#bd3786"
             ],
             [
              0.5555555555555556,
              "#d8576b"
             ],
             [
              0.6666666666666666,
              "#ed7953"
             ],
             [
              0.7777777777777778,
              "#fb9f3a"
             ],
             [
              0.8888888888888888,
              "#fdca26"
             ],
             [
              1,
              "#f0f921"
             ]
            ],
            "type": "heatmap"
           }
          ],
          "heatmapgl": [
           {
            "colorbar": {
             "outlinewidth": 0,
             "ticks": ""
            },
            "colorscale": [
             [
              0,
              "#0d0887"
             ],
             [
              0.1111111111111111,
              "#46039f"
             ],
             [
              0.2222222222222222,
              "#7201a8"
             ],
             [
              0.3333333333333333,
              "#9c179e"
             ],
             [
              0.4444444444444444,
              "#bd3786"
             ],
             [
              0.5555555555555556,
              "#d8576b"
             ],
             [
              0.6666666666666666,
              "#ed7953"
             ],
             [
              0.7777777777777778,
              "#fb9f3a"
             ],
             [
              0.8888888888888888,
              "#fdca26"
             ],
             [
              1,
              "#f0f921"
             ]
            ],
            "type": "heatmapgl"
           }
          ],
          "histogram": [
           {
            "marker": {
             "pattern": {
              "fillmode": "overlay",
              "size": 10,
              "solidity": 0.2
             }
            },
            "type": "histogram"
           }
          ],
          "histogram2d": [
           {
            "colorbar": {
             "outlinewidth": 0,
             "ticks": ""
            },
            "colorscale": [
             [
              0,
              "#0d0887"
             ],
             [
              0.1111111111111111,
              "#46039f"
             ],
             [
              0.2222222222222222,
              "#7201a8"
             ],
             [
              0.3333333333333333,
              "#9c179e"
             ],
             [
              0.4444444444444444,
              "#bd3786"
             ],
             [
              0.5555555555555556,
              "#d8576b"
             ],
             [
              0.6666666666666666,
              "#ed7953"
             ],
             [
              0.7777777777777778,
              "#fb9f3a"
             ],
             [
              0.8888888888888888,
              "#fdca26"
             ],
             [
              1,
              "#f0f921"
             ]
            ],
            "type": "histogram2d"
           }
          ],
          "histogram2dcontour": [
           {
            "colorbar": {
             "outlinewidth": 0,
             "ticks": ""
            },
            "colorscale": [
             [
              0,
              "#0d0887"
             ],
             [
              0.1111111111111111,
              "#46039f"
             ],
             [
              0.2222222222222222,
              "#7201a8"
             ],
             [
              0.3333333333333333,
              "#9c179e"
             ],
             [
              0.4444444444444444,
              "#bd3786"
             ],
             [
              0.5555555555555556,
              "#d8576b"
             ],
             [
              0.6666666666666666,
              "#ed7953"
             ],
             [
              0.7777777777777778,
              "#fb9f3a"
             ],
             [
              0.8888888888888888,
              "#fdca26"
             ],
             [
              1,
              "#f0f921"
             ]
            ],
            "type": "histogram2dcontour"
           }
          ],
          "mesh3d": [
           {
            "colorbar": {
             "outlinewidth": 0,
             "ticks": ""
            },
            "type": "mesh3d"
           }
          ],
          "parcoords": [
           {
            "line": {
             "colorbar": {
              "outlinewidth": 0,
              "ticks": ""
             }
            },
            "type": "parcoords"
           }
          ],
          "pie": [
           {
            "automargin": true,
            "type": "pie"
           }
          ],
          "scatter": [
           {
            "fillpattern": {
             "fillmode": "overlay",
             "size": 10,
             "solidity": 0.2
            },
            "type": "scatter"
           }
          ],
          "scatter3d": [
           {
            "line": {
             "colorbar": {
              "outlinewidth": 0,
              "ticks": ""
             }
            },
            "marker": {
             "colorbar": {
              "outlinewidth": 0,
              "ticks": ""
             }
            },
            "type": "scatter3d"
           }
          ],
          "scattercarpet": [
           {
            "marker": {
             "colorbar": {
              "outlinewidth": 0,
              "ticks": ""
             }
            },
            "type": "scattercarpet"
           }
          ],
          "scattergeo": [
           {
            "marker": {
             "colorbar": {
              "outlinewidth": 0,
              "ticks": ""
             }
            },
            "type": "scattergeo"
           }
          ],
          "scattergl": [
           {
            "marker": {
             "colorbar": {
              "outlinewidth": 0,
              "ticks": ""
             }
            },
            "type": "scattergl"
           }
          ],
          "scattermapbox": [
           {
            "marker": {
             "colorbar": {
              "outlinewidth": 0,
              "ticks": ""
             }
            },
            "type": "scattermapbox"
           }
          ],
          "scatterpolar": [
           {
            "marker": {
             "colorbar": {
              "outlinewidth": 0,
              "ticks": ""
             }
            },
            "type": "scatterpolar"
           }
          ],
          "scatterpolargl": [
           {
            "marker": {
             "colorbar": {
              "outlinewidth": 0,
              "ticks": ""
             }
            },
            "type": "scatterpolargl"
           }
          ],
          "scatterternary": [
           {
            "marker": {
             "colorbar": {
              "outlinewidth": 0,
              "ticks": ""
             }
            },
            "type": "scatterternary"
           }
          ],
          "surface": [
           {
            "colorbar": {
             "outlinewidth": 0,
             "ticks": ""
            },
            "colorscale": [
             [
              0,
              "#0d0887"
             ],
             [
              0.1111111111111111,
              "#46039f"
             ],
             [
              0.2222222222222222,
              "#7201a8"
             ],
             [
              0.3333333333333333,
              "#9c179e"
             ],
             [
              0.4444444444444444,
              "#bd3786"
             ],
             [
              0.5555555555555556,
              "#d8576b"
             ],
             [
              0.6666666666666666,
              "#ed7953"
             ],
             [
              0.7777777777777778,
              "#fb9f3a"
             ],
             [
              0.8888888888888888,
              "#fdca26"
             ],
             [
              1,
              "#f0f921"
             ]
            ],
            "type": "surface"
           }
          ],
          "table": [
           {
            "cells": {
             "fill": {
              "color": "#EBF0F8"
             },
             "line": {
              "color": "white"
             }
            },
            "header": {
             "fill": {
              "color": "#C8D4E3"
             },
             "line": {
              "color": "white"
             }
            },
            "type": "table"
           }
          ]
         },
         "layout": {
          "annotationdefaults": {
           "arrowcolor": "#2a3f5f",
           "arrowhead": 0,
           "arrowwidth": 1
          },
          "autotypenumbers": "strict",
          "coloraxis": {
           "colorbar": {
            "outlinewidth": 0,
            "ticks": ""
           }
          },
          "colorscale": {
           "diverging": [
            [
             0,
             "#8e0152"
            ],
            [
             0.1,
             "#c51b7d"
            ],
            [
             0.2,
             "#de77ae"
            ],
            [
             0.3,
             "#f1b6da"
            ],
            [
             0.4,
             "#fde0ef"
            ],
            [
             0.5,
             "#f7f7f7"
            ],
            [
             0.6,
             "#e6f5d0"
            ],
            [
             0.7,
             "#b8e186"
            ],
            [
             0.8,
             "#7fbc41"
            ],
            [
             0.9,
             "#4d9221"
            ],
            [
             1,
             "#276419"
            ]
           ],
           "sequential": [
            [
             0,
             "#0d0887"
            ],
            [
             0.1111111111111111,
             "#46039f"
            ],
            [
             0.2222222222222222,
             "#7201a8"
            ],
            [
             0.3333333333333333,
             "#9c179e"
            ],
            [
             0.4444444444444444,
             "#bd3786"
            ],
            [
             0.5555555555555556,
             "#d8576b"
            ],
            [
             0.6666666666666666,
             "#ed7953"
            ],
            [
             0.7777777777777778,
             "#fb9f3a"
            ],
            [
             0.8888888888888888,
             "#fdca26"
            ],
            [
             1,
             "#f0f921"
            ]
           ],
           "sequentialminus": [
            [
             0,
             "#0d0887"
            ],
            [
             0.1111111111111111,
             "#46039f"
            ],
            [
             0.2222222222222222,
             "#7201a8"
            ],
            [
             0.3333333333333333,
             "#9c179e"
            ],
            [
             0.4444444444444444,
             "#bd3786"
            ],
            [
             0.5555555555555556,
             "#d8576b"
            ],
            [
             0.6666666666666666,
             "#ed7953"
            ],
            [
             0.7777777777777778,
             "#fb9f3a"
            ],
            [
             0.8888888888888888,
             "#fdca26"
            ],
            [
             1,
             "#f0f921"
            ]
           ]
          },
          "colorway": [
           "#636efa",
           "#EF553B",
           "#00cc96",
           "#ab63fa",
           "#FFA15A",
           "#19d3f3",
           "#FF6692",
           "#B6E880",
           "#FF97FF",
           "#FECB52"
          ],
          "font": {
           "color": "#2a3f5f"
          },
          "geo": {
           "bgcolor": "white",
           "lakecolor": "white",
           "landcolor": "white",
           "showlakes": true,
           "showland": true,
           "subunitcolor": "#C8D4E3"
          },
          "hoverlabel": {
           "align": "left"
          },
          "hovermode": "closest",
          "mapbox": {
           "style": "light"
          },
          "paper_bgcolor": "white",
          "plot_bgcolor": "white",
          "polar": {
           "angularaxis": {
            "gridcolor": "#EBF0F8",
            "linecolor": "#EBF0F8",
            "ticks": ""
           },
           "bgcolor": "white",
           "radialaxis": {
            "gridcolor": "#EBF0F8",
            "linecolor": "#EBF0F8",
            "ticks": ""
           }
          },
          "scene": {
           "xaxis": {
            "backgroundcolor": "white",
            "gridcolor": "#DFE8F3",
            "gridwidth": 2,
            "linecolor": "#EBF0F8",
            "showbackground": true,
            "ticks": "",
            "zerolinecolor": "#EBF0F8"
           },
           "yaxis": {
            "backgroundcolor": "white",
            "gridcolor": "#DFE8F3",
            "gridwidth": 2,
            "linecolor": "#EBF0F8",
            "showbackground": true,
            "ticks": "",
            "zerolinecolor": "#EBF0F8"
           },
           "zaxis": {
            "backgroundcolor": "white",
            "gridcolor": "#DFE8F3",
            "gridwidth": 2,
            "linecolor": "#EBF0F8",
            "showbackground": true,
            "ticks": "",
            "zerolinecolor": "#EBF0F8"
           }
          },
          "shapedefaults": {
           "line": {
            "color": "#2a3f5f"
           }
          },
          "ternary": {
           "aaxis": {
            "gridcolor": "#DFE8F3",
            "linecolor": "#A2B1C6",
            "ticks": ""
           },
           "baxis": {
            "gridcolor": "#DFE8F3",
            "linecolor": "#A2B1C6",
            "ticks": ""
           },
           "bgcolor": "white",
           "caxis": {
            "gridcolor": "#DFE8F3",
            "linecolor": "#A2B1C6",
            "ticks": ""
           }
          },
          "title": {
           "x": 0.05
          },
          "xaxis": {
           "automargin": true,
           "gridcolor": "#EBF0F8",
           "linecolor": "#EBF0F8",
           "ticks": "",
           "title": {
            "standoff": 15
           },
           "zerolinecolor": "#EBF0F8",
           "zerolinewidth": 2
          },
          "yaxis": {
           "automargin": true,
           "gridcolor": "#EBF0F8",
           "linecolor": "#EBF0F8",
           "ticks": "",
           "title": {
            "standoff": 15
           },
           "zerolinecolor": "#EBF0F8",
           "zerolinewidth": 2
          }
         }
        },
        "title": {
         "font": {
          "color": "Black",
          "size": 22
         },
         "text": "<b>Topic Word Scores",
         "x": 0.5,
         "xanchor": "center",
         "yanchor": "top"
        },
        "width": 1000,
        "xaxis": {
         "anchor": "y",
         "autorange": true,
         "domain": [
          0,
          0.175
         ],
         "range": [
          0,
          0.02635534060516086
         ],
         "showgrid": true,
         "type": "linear"
        },
        "xaxis10": {
         "anchor": "y10",
         "autorange": true,
         "domain": [
          0.275,
          0.45
         ],
         "range": [
          0,
          0.0369439018937637
         ],
         "showgrid": true,
         "type": "linear"
        },
        "xaxis11": {
         "anchor": "y11",
         "autorange": true,
         "domain": [
          0.55,
          0.7250000000000001
         ],
         "range": [
          0,
          0.09028379901078454
         ],
         "showgrid": true,
         "type": "linear"
        },
        "xaxis12": {
         "anchor": "y12",
         "autorange": true,
         "domain": [
          0.825,
          1
         ],
         "range": [
          0,
          0.06512342463228968
         ],
         "showgrid": true,
         "type": "linear"
        },
        "xaxis13": {
         "anchor": "y13",
         "autorange": true,
         "domain": [
          0,
          0.175
         ],
         "range": [
          0,
          0.06852621746830323
         ],
         "showgrid": true,
         "type": "linear"
        },
        "xaxis14": {
         "anchor": "y14",
         "autorange": true,
         "domain": [
          0.275,
          0.45
         ],
         "range": [
          0,
          0.04589544683073845
         ],
         "showgrid": true,
         "type": "linear"
        },
        "xaxis15": {
         "anchor": "y15",
         "autorange": true,
         "domain": [
          0.55,
          0.7250000000000001
         ],
         "range": [
          0,
          0.05506398249616139
         ],
         "showgrid": true,
         "type": "linear"
        },
        "xaxis16": {
         "anchor": "y16",
         "autorange": true,
         "domain": [
          0.825,
          1
         ],
         "range": [
          0,
          0.054916593817674914
         ],
         "showgrid": true,
         "type": "linear"
        },
        "xaxis2": {
         "anchor": "y2",
         "autorange": true,
         "domain": [
          0.275,
          0.45
         ],
         "range": [
          0,
          0.03428979753279926
         ],
         "showgrid": true,
         "type": "linear"
        },
        "xaxis3": {
         "anchor": "y3",
         "autorange": true,
         "domain": [
          0.55,
          0.7250000000000001
         ],
         "range": [
          0,
          0.06158537939201753
         ],
         "showgrid": true,
         "type": "linear"
        },
        "xaxis4": {
         "anchor": "y4",
         "autorange": true,
         "domain": [
          0.825,
          1
         ],
         "range": [
          0,
          0.03436327211755222
         ],
         "showgrid": true,
         "type": "linear"
        },
        "xaxis5": {
         "anchor": "y5",
         "autorange": true,
         "domain": [
          0,
          0.175
         ],
         "range": [
          0,
          0.040477786153234566
         ],
         "showgrid": true,
         "type": "linear"
        },
        "xaxis6": {
         "anchor": "y6",
         "autorange": true,
         "domain": [
          0.275,
          0.45
         ],
         "range": [
          0,
          0.03403914632069553
         ],
         "showgrid": true,
         "type": "linear"
        },
        "xaxis7": {
         "anchor": "y7",
         "autorange": true,
         "domain": [
          0.55,
          0.7250000000000001
         ],
         "range": [
          0,
          0.06481711380432702
         ],
         "showgrid": true,
         "type": "linear"
        },
        "xaxis8": {
         "anchor": "y8",
         "autorange": true,
         "domain": [
          0.825,
          1
         ],
         "range": [
          0,
          0.035704490096295415
         ],
         "showgrid": true,
         "type": "linear"
        },
        "xaxis9": {
         "anchor": "y9",
         "autorange": true,
         "domain": [
          0,
          0.175
         ],
         "range": [
          0,
          0.028999955316197187
         ],
         "showgrid": true,
         "type": "linear"
        },
        "yaxis": {
         "anchor": "x",
         "autorange": true,
         "domain": [
          0.825,
          1
         ],
         "range": [
          -0.5,
          4.5
         ],
         "showgrid": true,
         "type": "category"
        },
        "yaxis10": {
         "anchor": "x10",
         "autorange": true,
         "domain": [
          0.275,
          0.45
         ],
         "range": [
          -0.5,
          4.5
         ],
         "showgrid": true,
         "type": "category"
        },
        "yaxis11": {
         "anchor": "x11",
         "autorange": true,
         "domain": [
          0.275,
          0.45
         ],
         "range": [
          -0.5,
          4.5
         ],
         "showgrid": true,
         "type": "category"
        },
        "yaxis12": {
         "anchor": "x12",
         "autorange": true,
         "domain": [
          0.275,
          0.45
         ],
         "range": [
          -0.5,
          4.5
         ],
         "showgrid": true,
         "type": "category"
        },
        "yaxis13": {
         "anchor": "x13",
         "autorange": true,
         "domain": [
          0,
          0.175
         ],
         "range": [
          -0.5,
          4.5
         ],
         "showgrid": true,
         "type": "category"
        },
        "yaxis14": {
         "anchor": "x14",
         "autorange": true,
         "domain": [
          0,
          0.175
         ],
         "range": [
          -0.5,
          4.5
         ],
         "showgrid": true,
         "type": "category"
        },
        "yaxis15": {
         "anchor": "x15",
         "autorange": true,
         "domain": [
          0,
          0.175
         ],
         "range": [
          -0.5,
          4.5
         ],
         "showgrid": true,
         "type": "category"
        },
        "yaxis16": {
         "anchor": "x16",
         "autorange": true,
         "domain": [
          0,
          0.175
         ],
         "range": [
          -0.5,
          4.5
         ],
         "showgrid": true,
         "type": "category"
        },
        "yaxis2": {
         "anchor": "x2",
         "autorange": true,
         "domain": [
          0.825,
          1
         ],
         "range": [
          -0.5,
          4.5
         ],
         "showgrid": true,
         "type": "category"
        },
        "yaxis3": {
         "anchor": "x3",
         "autorange": true,
         "domain": [
          0.825,
          1
         ],
         "range": [
          -0.5,
          4.5
         ],
         "showgrid": true,
         "type": "category"
        },
        "yaxis4": {
         "anchor": "x4",
         "autorange": true,
         "domain": [
          0.825,
          1
         ],
         "range": [
          -0.5,
          4.5
         ],
         "showgrid": true,
         "type": "category"
        },
        "yaxis5": {
         "anchor": "x5",
         "autorange": true,
         "domain": [
          0.55,
          0.7250000000000001
         ],
         "range": [
          -0.5,
          4.5
         ],
         "showgrid": true,
         "type": "category"
        },
        "yaxis6": {
         "anchor": "x6",
         "autorange": true,
         "domain": [
          0.55,
          0.7250000000000001
         ],
         "range": [
          -0.5,
          4.5
         ],
         "showgrid": true,
         "type": "category"
        },
        "yaxis7": {
         "anchor": "x7",
         "autorange": true,
         "domain": [
          0.55,
          0.7250000000000001
         ],
         "range": [
          -0.5,
          4.5
         ],
         "showgrid": true,
         "type": "category"
        },
        "yaxis8": {
         "anchor": "x8",
         "autorange": true,
         "domain": [
          0.55,
          0.7250000000000001
         ],
         "range": [
          -0.5,
          4.5
         ],
         "showgrid": true,
         "type": "category"
        },
        "yaxis9": {
         "anchor": "x9",
         "autorange": true,
         "domain": [
          0.275,
          0.45
         ],
         "range": [
          -0.5,
          4.5
         ],
         "showgrid": true,
         "type": "category"
        }
       }
      },
      "image/png": "[encoded data removed]",
      "text/html": [
       "<div>                            <div id=\"0920b3a0-dd74-4f4c-9783-1da89bab646f\" class=\"plotly-graph-div\" style=\"height:1000px; width:1000px;\"></div>            <script type=\"text/javascript\">                require([\"plotly\"], function(Plotly) {                    window.PLOTLYENV=window.PLOTLYENV || {};                                    if (document.getElementById(\"0920b3a0-dd74-4f4c-9783-1da89bab646f\")) {                    Plotly.newPlot(                        \"0920b3a0-dd74-4f4c-9783-1da89bab646f\",                        [{\"marker\":{\"color\":\"#D55E00\"},\"orientation\":\"h\",\"x\":[0.013760587672077274,0.014357368185067741,0.01484410413702482,0.016640809059243204,0.025037573574902817],\"y\":[\"task  \",\"knowledge  \",\"word  \",\"text  \",\"language  \"],\"type\":\"bar\",\"xaxis\":\"x\",\"yaxis\":\"y\"},{\"marker\":{\"color\":\"#0072B2\"},\"orientation\":\"h\",\"x\":[0.01747804606927979,0.017919562063674944,0.020096533164648007,0.031070805210568236,0.0325753076561593],\"y\":[\"agent  \",\"control  \",\"reward  \",\"rl  \",\"reinforcement  \"],\"type\":\"bar\",\"xaxis\":\"x2\",\"yaxis\":\"y2\"},{\"marker\":{\"color\":\"#CC79A7\"},\"orientation\":\"h\",\"x\":[0.02537208285815489,0.02585012819654151,0.03407204945629832,0.040946183125068786,0.05850611042241666],\"y\":[\"communication  \",\"private  \",\"fl  \",\"federated  \",\"privacy  \"],\"type\":\"bar\",\"xaxis\":\"x3\",\"yaxis\":\"y3\"},{\"marker\":{\"color\":\"#E69F00\"},\"orientation\":\"h\",\"x\":[0.021240346505836144,0.02304915275855311,0.024440257682423475,0.024690455404149655,0.032645108511674605],\"y\":[\"convex  \",\"descent  \",\"convergence  \",\"stochastic  \",\"gradient  \"],\"type\":\"bar\",\"xaxis\":\"x4\",\"yaxis\":\"y4\"},{\"marker\":{\"color\":\"#56B4E9\"},\"orientation\":\"h\",\"x\":[0.016764784138217814,0.01836558262652742,0.019994661709241995,0.021192576837969816,0.038453896845572835],\"y\":[\"knowledge  \",\"ontology  \",\"semantics  \",\"reasoning  \",\"logic  \"],\"type\":\"bar\",\"xaxis\":\"x5\",\"yaxis\":\"y5\"},{\"marker\":{\"color\":\"#009E73\"},\"orientation\":\"h\",\"x\":[0.020861239599225454,0.02260016450019574,0.02577514098673725,0.03053112003636369,0.03233718900466075],\"y\":[\"medical  \",\"imaging  \",\"image  \",\"images  \",\"segmentation  \"],\"type\":\"bar\",\"xaxis\":\"x6\",\"yaxis\":\"y6\"},{\"marker\":{\"color\":\"#F0E442\"},\"orientation\":\"h\",\"x\":[0.019544934053477694,0.028892590759638057,0.034693286460769475,0.03997386990016198,0.06157625811411067],\"y\":[\"acoustic  \",\"music  \",\"speaker  \",\"audio  \",\"speech  \"],\"type\":\"bar\",\"xaxis\":\"x7\",\"yaxis\":\"y7\"},{\"marker\":{\"color\":\"#D55E00\"},\"orientation\":\"h\",\"x\":[0.017299662370455774,0.026750202927992812,0.028979407064077596,0.030423899595226036,0.033919265591480646],\"y\":[\"low  \",\"sparse  \",\"tensor  \",\"rank  \",\"matrix  \"],\"type\":\"bar\",\"xaxis\":\"x8\",\"yaxis\":\"y8\"},{\"marker\":{\"color\":\"#0072B2\"},\"orientation\":\"h\",\"x\":[0.019178001126404207,0.019207564392140185,0.021058668923672925,0.022230480142619923,0.02754995755038733],\"y\":[\"search  \",\"nas  \",\"hardware  \",\"quantization  \",\"pruning  \"],\"type\":\"bar\",\"xaxis\":\"x9\",\"yaxis\":\"y9\"},{\"marker\":{\"color\":\"#CC79A7\"},\"orientation\":\"h\",\"x\":[0.018123180734843918,0.018990344194963246,0.019283217438671705,0.02946877592972866,0.03509670679907552],\"y\":[\"video  \",\"point  \",\"segmentation  \",\"object  \",\"3d  \"],\"type\":\"bar\",\"xaxis\":\"x10\",\"yaxis\":\"y10\"},{\"marker\":{\"color\":\"#E69F00\"},\"orientation\":\"h\",\"x\":[0.028766864592550588,0.038743247019350564,0.040930025621002716,0.052917583980280944,0.0857696090602453],\"y\":[\"examples  \",\"robustness  \",\"attack  \",\"attacks  \",\"adversarial  \"],\"type\":\"bar\",\"xaxis\":\"x11\",\"yaxis\":\"y11\"},{\"marker\":{\"color\":\"#56B4E9\"},\"orientation\":\"h\",\"x\":[0.023028289812504356,0.025131168242840497,0.030674965175792476,0.04359202255366065,0.0618672534006752],\"y\":[\"arm  \",\"bandits  \",\"online  \",\"bandit  \",\"regret  \"],\"type\":\"bar\",\"xaxis\":\"x12\",\"yaxis\":\"y12\"},{\"marker\":{\"color\":\"#009E73\"},\"orientation\":\"h\",\"x\":[0.018333625396678096,0.019546648976782093,0.02711132024321936,0.027987460966679124,0.06509990659488807],\"y\":[\"bayesian  \",\"graphical  \",\"variables  \",\"treatment  \",\"causal  \"],\"type\":\"bar\",\"xaxis\":\"x13\",\"yaxis\":\"y13\"},{\"marker\":{\"color\":\"#F0E442\"},\"orientation\":\"h\",\"x\":[0.022718705851542006,0.0298332253372163,0.03229744610469194,0.03612726083572007,0.043600674489201525],\"y\":[\"image  \",\"latent  \",\"gan  \",\"gans  \",\"generative  \"],\"type\":\"bar\",\"xaxis\":\"x14\",\"yaxis\":\"y14\"},{\"marker\":{\"color\":\"#D55E00\"},\"orientation\":\"h\",\"x\":[0.01958173583573083,0.022639256563864108,0.03167992522848368,0.04913484812486731,0.052310783371353316],\"y\":[\"security  \",\"anomalies  \",\"malware  \",\"anomaly  \",\"detection  \"],\"type\":\"bar\",\"xaxis\":\"x15\",\"yaxis\":\"y15\"},{\"marker\":{\"color\":\"#0072B2\"},\"orientation\":\"h\",\"x\":[0.017964501125480037,0.02415911264217235,0.031652211174973986,0.031768868960370275,0.05217076412679117],\"y\":[\"recommendations  \",\"ranking  \",\"users  \",\"recommender  \",\"recommendation  \"],\"type\":\"bar\",\"xaxis\":\"x16\",\"yaxis\":\"y16\"}],                        {\"template\":{\"data\":{\"barpolar\":[{\"marker\":{\"line\":{\"color\":\"white\",\"width\":0.5},\"pattern\":{\"fillmode\":\"overlay\",\"size\":10,\"solidity\":0.2}},\"type\":\"barpolar\"}],\"bar\":[{\"error_x\":{\"color\":\"#2a3f5f\"},\"error_y\":{\"color\":\"#2a3f5f\"},\"marker\":{\"line\":{\"color\":\"white\",\"width\":0.5},\"pattern\":{\"fillmode\":\"overlay\",\"size\":10,\"solidity\":0.2}},\"type\":\"bar\"}],\"carpet\":[{\"aaxis\":{\"endlinecolor\":\"#2a3f5f\",\"gridcolor\":\"#C8D4E3\",\"linecolor\":\"#C8D4E3\",\"minorgridcolor\":\"#C8D4E3\",\"startlinecolor\":\"#2a3f5f\"},\"baxis\":{\"endlinecolor\":\"#2a3f5f\",\"gridcolor\":\"#C8D4E3\",\"linecolor\":\"#C8D4E3\",\"minorgridcolor\":\"#C8D4E3\",\"startlinecolor\":\"#2a3f5f\"},\"type\":\"carpet\"}],\"choropleth\":[{\"colorbar\":{\"outlinewidth\":0,\"ticks\":\"\"},\"type\":\"choropleth\"}],\"contourcarpet\":[{\"colorbar\":{\"outlinewidth\":0,\"ticks\":\"\"},\"type\":\"contourcarpet\"}],\"contour\":[{\"colorbar\":{\"outlinewidth\":0,\"ticks\":\"\"},\"colorscale\":[[0.0,\"#0d0887\"],[0.1111111111111111,\"#46039f\"],[0.2222222222222222,\"#7201a8\"],[0.3333333333333333,\"#9c179e\"],[0.4444444444444444,\"#bd3786\"],[0.5555555555555556,\"#d8576b\"],[0.6666666666666666,\"#ed7953\"],[0.7777777777777778,\"#fb9f3a\"],[0.8888888888888888,\"#fdca26\"],[1.0,\"#f0f921\"]],\"type\":\"contour\"}],\"heatmapgl\":[{\"colorbar\":{\"outlinewidth\":0,\"ticks\":\"\"},\"colorscale\":[[0.0,\"#0d0887\"],[0.1111111111111111,\"#46039f\"],[0.2222222222222222,\"#7201a8\"],[0.3333333333333333,\"#9c179e\"],[0.4444444444444444,\"#bd3786\"],[0.5555555555555556,\"#d8576b\"],[0.6666666666666666,\"#ed7953\"],[0.7777777777777778,\"#fb9f3a\"],[0.8888888888888888,\"#fdca26\"],[1.0,\"#f0f921\"]],\"type\":\"heatmapgl\"}],\"heatmap\":[{\"colorbar\":{\"outlinewidth\":0,\"ticks\":\"\"},\"colorscale\":[[0.0,\"#0d0887\"],[0.1111111111111111,\"#46039f\"],[0.2222222222222222,\"#7201a8\"],[0.3333333333333333,\"#9c179e\"],[0.4444444444444444,\"#bd3786\"],[0.5555555555555556,\"#d8576b\"],[0.6666666666666666,\"#ed7953\"],[0.7777777777777778,\"#fb9f3a\"],[0.8888888888888888,\"#fdca26\"],[1.0,\"#f0f921\"]],\"type\":\"heatmap\"}],\"histogram2dcontour\":[{\"colorbar\":{\"outlinewidth\":0,\"ticks\":\"\"},\"colorscale\":[[0.0,\"#0d0887\"],[0.1111111111111111,\"#46039f\"],[0.2222222222222222,\"#7201a8\"],[0.3333333333333333,\"#9c179e\"],[0.4444444444444444,\"#bd3786\"],[0.5555555555555556,\"#d8576b\"],[0.6666666666666666,\"#ed7953\"],[0.7777777777777778,\"#fb9f3a\"],[0.8888888888888888,\"#fdca26\"],[1.0,\"#f0f921\"]],\"type\":\"histogram2dcontour\"}],\"histogram2d\":[{\"colorbar\":{\"outlinewidth\":0,\"ticks\":\"\"},\"colorscale\":[[0.0,\"#0d0887\"],[0.1111111111111111,\"#46039f\"],[0.2222222222222222,\"#7201a8\"],[0.3333333333333333,\"#9c179e\"],[0.4444444444444444,\"#bd3786\"],[0.5555555555555556,\"#d8576b\"],[0.6666666666666666,\"#ed7953\"],[0.7777777777777778,\"#fb9f3a\"],[0.8888888888888888,\"#fdca26\"],[1.0,\"#f0f921\"]],\"type\":\"histogram2d\"}],\"histogram\":[{\"marker\":{\"pattern\":{\"fillmode\":\"overlay\",\"size\":10,\"solidity\":0.2}},\"type\":\"histogram\"}],\"mesh3d\":[{\"colorbar\":{\"outlinewidth\":0,\"ticks\":\"\"},\"type\":\"mesh3d\"}],\"parcoords\":[{\"line\":{\"colorbar\":{\"outlinewidth\":0,\"ticks\":\"\"}},\"type\":\"parcoords\"}],\"pie\":[{\"automargin\":true,\"type\":\"pie\"}],\"scatter3d\":[{\"line\":{\"colorbar\":{\"outlinewidth\":0,\"ticks\":\"\"}},\"marker\":{\"colorbar\":{\"outlinewidth\":0,\"ticks\":\"\"}},\"type\":\"scatter3d\"}],\"scattercarpet\":[{\"marker\":{\"colorbar\":{\"outlinewidth\":0,\"ticks\":\"\"}},\"type\":\"scattercarpet\"}],\"scattergeo\":[{\"marker\":{\"colorbar\":{\"outlinewidth\":0,\"ticks\":\"\"}},\"type\":\"scattergeo\"}],\"scattergl\":[{\"marker\":{\"colorbar\":{\"outlinewidth\":0,\"ticks\":\"\"}},\"type\":\"scattergl\"}],\"scattermapbox\":[{\"marker\":{\"colorbar\":{\"outlinewidth\":0,\"ticks\":\"\"}},\"type\":\"scattermapbox\"}],\"scatterpolargl\":[{\"marker\":{\"colorbar\":{\"outlinewidth\":0,\"ticks\":\"\"}},\"type\":\"scatterpolargl\"}],\"scatterpolar\":[{\"marker\":{\"colorbar\":{\"outlinewidth\":0,\"ticks\":\"\"}},\"type\":\"scatterpolar\"}],\"scatter\":[{\"fillpattern\":{\"fillmode\":\"overlay\",\"size\":10,\"solidity\":0.2},\"type\":\"scatter\"}],\"scatterternary\":[{\"marker\":{\"colorbar\":{\"outlinewidth\":0,\"ticks\":\"\"}},\"type\":\"scatterternary\"}],\"surface\":[{\"colorbar\":{\"outlinewidth\":0,\"ticks\":\"\"},\"colorscale\":[[0.0,\"#0d0887\"],[0.1111111111111111,\"#46039f\"],[0.2222222222222222,\"#7201a8\"],[0.3333333333333333,\"#9c179e\"],[0.4444444444444444,\"#bd3786\"],[0.5555555555555556,\"#d8576b\"],[0.6666666666666666,\"#ed7953\"],[0.7777777777777778,\"#fb9f3a\"],[0.8888888888888888,\"#fdca26\"],[1.0,\"#f0f921\"]],\"type\":\"surface\"}],\"table\":[{\"cells\":{\"fill\":{\"color\":\"#EBF0F8\"},\"line\":{\"color\":\"white\"}},\"header\":{\"fill\":{\"color\":\"#C8D4E3\"},\"line\":{\"color\":\"white\"}},\"type\":\"table\"}]},\"layout\":{\"annotationdefaults\":{\"arrowcolor\":\"#2a3f5f\",\"arrowhead\":0,\"arrowwidth\":1},\"autotypenumbers\":\"strict\",\"coloraxis\":{\"colorbar\":{\"outlinewidth\":0,\"ticks\":\"\"}},\"colorscale\":{\"diverging\":[[0,\"#8e0152\"],[0.1,\"#c51b7d\"],[0.2,\"#de77ae\"],[0.3,\"#f1b6da\"],[0.4,\"#fde0ef\"],[0.5,\"#f7f7f7\"],[0.6,\"#e6f5d0\"],[0.7,\"#b8e186\"],[0.8,\"#7fbc41\"],[0.9,\"#4d9221\"],[1,\"#276419\"]],\"sequential\":[[0.0,\"#0d0887\"],[0.1111111111111111,\"#46039f\"],[0.2222222222222222,\"#7201a8\"],[0.3333333333333333,\"#9c179e\"],[0.4444444444444444,\"#bd3786\"],[0.5555555555555556,\"#d8576b\"],[0.6666666666666666,\"#ed7953\"],[0.7777777777777778,\"#fb9f3a\"],[0.8888888888888888,\"#fdca26\"],[1.0,\"#f0f921\"]],\"sequentialminus\":[[0.0,\"#0d0887\"],[0.1111111111111111,\"#46039f\"],[0.2222222222222222,\"#7201a8\"],[0.3333333333333333,\"#9c179e\"],[0.4444444444444444,\"#bd3786\"],[0.5555555555555556,\"#d8576b\"],[0.6666666666666666,\"#ed7953\"],[0.7777777777777778,\"#fb9f3a\"],[0.8888888888888888,\"#fdca26\"],[1.0,\"#f0f921\"]]},\"colorway\":[\"#636efa\",\"#EF553B\",\"#00cc96\",\"#ab63fa\",\"#FFA15A\",\"#19d3f3\",\"#FF6692\",\"#B6E880\",\"#FF97FF\",\"#FECB52\"],\"font\":{\"color\":\"#2a3f5f\"},\"geo\":{\"bgcolor\":\"white\",\"lakecolor\":\"white\",\"landcolor\":\"white\",\"showlakes\":true,\"showland\":true,\"subunitcolor\":\"#C8D4E3\"},\"hoverlabel\":{\"align\":\"left\"},\"hovermode\":\"closest\",\"mapbox\":{\"style\":\"light\"},\"paper_bgcolor\":\"white\",\"plot_bgcolor\":\"white\",\"polar\":{\"angularaxis\":{\"gridcolor\":\"#EBF0F8\",\"linecolor\":\"#EBF0F8\",\"ticks\":\"\"},\"bgcolor\":\"white\",\"radialaxis\":{\"gridcolor\":\"#EBF0F8\",\"linecolor\":\"#EBF0F8\",\"ticks\":\"\"}},\"scene\":{\"xaxis\":{\"backgroundcolor\":\"white\",\"gridcolor\":\"#DFE8F3\",\"gridwidth\":2,\"linecolor\":\"#EBF0F8\",\"showbackground\":true,\"ticks\":\"\",\"zerolinecolor\":\"#EBF0F8\"},\"yaxis\":{\"backgroundcolor\":\"white\",\"gridcolor\":\"#DFE8F3\",\"gridwidth\":2,\"linecolor\":\"#EBF0F8\",\"showbackground\":true,\"ticks\":\"\",\"zerolinecolor\":\"#EBF0F8\"},\"zaxis\":{\"backgroundcolor\":\"white\",\"gridcolor\":\"#DFE8F3\",\"gridwidth\":2,\"linecolor\":\"#EBF0F8\",\"showbackground\":true,\"ticks\":\"\",\"zerolinecolor\":\"#EBF0F8\"}},\"shapedefaults\":{\"line\":{\"color\":\"#2a3f5f\"}},\"ternary\":{\"aaxis\":{\"gridcolor\":\"#DFE8F3\",\"linecolor\":\"#A2B1C6\",\"ticks\":\"\"},\"baxis\":{\"gridcolor\":\"#DFE8F3\",\"linecolor\":\"#A2B1C6\",\"ticks\":\"\"},\"bgcolor\":\"white\",\"caxis\":{\"gridcolor\":\"#DFE8F3\",\"linecolor\":\"#A2B1C6\",\"ticks\":\"\"}},\"title\":{\"x\":0.05},\"xaxis\":{\"automargin\":true,\"gridcolor\":\"#EBF0F8\",\"linecolor\":\"#EBF0F8\",\"ticks\":\"\",\"title\":{\"standoff\":15},\"zerolinecolor\":\"#EBF0F8\",\"zerolinewidth\":2},\"yaxis\":{\"automargin\":true,\"gridcolor\":\"#EBF0F8\",\"linecolor\":\"#EBF0F8\",\"ticks\":\"\",\"title\":{\"standoff\":15},\"zerolinecolor\":\"#EBF0F8\",\"zerolinewidth\":2}}},\"xaxis\":{\"anchor\":\"y\",\"domain\":[0.0,0.175],\"showgrid\":true},\"yaxis\":{\"anchor\":\"x\",\"domain\":[0.825,1.0],\"showgrid\":true},\"xaxis2\":{\"anchor\":\"y2\",\"domain\":[0.275,0.45],\"showgrid\":true},\"yaxis2\":{\"anchor\":\"x2\",\"domain\":[0.825,1.0],\"showgrid\":true},\"xaxis3\":{\"anchor\":\"y3\",\"domain\":[0.55,0.7250000000000001],\"showgrid\":true},\"yaxis3\":{\"anchor\":\"x3\",\"domain\":[0.825,1.0],\"showgrid\":true},\"xaxis4\":{\"anchor\":\"y4\",\"domain\":[0.825,1.0],\"showgrid\":true},\"yaxis4\":{\"anchor\":\"x4\",\"domain\":[0.825,1.0],\"showgrid\":true},\"xaxis5\":{\"anchor\":\"y5\",\"domain\":[0.0,0.175],\"showgrid\":true},\"yaxis5\":{\"anchor\":\"x5\",\"domain\":[0.55,0.7250000000000001],\"showgrid\":true},\"xaxis6\":{\"anchor\":\"y6\",\"domain\":[0.275,0.45],\"showgrid\":true},\"yaxis6\":{\"anchor\":\"x6\",\"domain\":[0.55,0.7250000000000001],\"showgrid\":true},\"xaxis7\":{\"anchor\":\"y7\",\"domain\":[0.55,0.7250000000000001],\"showgrid\":true},\"yaxis7\":{\"anchor\":\"x7\",\"domain\":[0.55,0.7250000000000001],\"showgrid\":true},\"xaxis8\":{\"anchor\":\"y8\",\"domain\":[0.825,1.0],\"showgrid\":true},\"yaxis8\":{\"anchor\":\"x8\",\"domain\":[0.55,0.7250000000000001],\"showgrid\":true},\"xaxis9\":{\"anchor\":\"y9\",\"domain\":[0.0,0.175],\"showgrid\":true},\"yaxis9\":{\"anchor\":\"x9\",\"domain\":[0.275,0.45],\"showgrid\":true},\"xaxis10\":{\"anchor\":\"y10\",\"domain\":[0.275,0.45],\"showgrid\":true},\"yaxis10\":{\"anchor\":\"x10\",\"domain\":[0.275,0.45],\"showgrid\":true},\"xaxis11\":{\"anchor\":\"y11\",\"domain\":[0.55,0.7250000000000001],\"showgrid\":true},\"yaxis11\":{\"anchor\":\"x11\",\"domain\":[0.275,0.45],\"showgrid\":true},\"xaxis12\":{\"anchor\":\"y12\",\"domain\":[0.825,1.0],\"showgrid\":true},\"yaxis12\":{\"anchor\":\"x12\",\"domain\":[0.275,0.45],\"showgrid\":true},\"xaxis13\":{\"anchor\":\"y13\",\"domain\":[0.0,0.175],\"showgrid\":true},\"yaxis13\":{\"anchor\":\"x13\",\"domain\":[0.0,0.175],\"showgrid\":true},\"xaxis14\":{\"anchor\":\"y14\",\"domain\":[0.275,0.45],\"showgrid\":true},\"yaxis14\":{\"anchor\":\"x14\",\"domain\":[0.0,0.175],\"showgrid\":true},\"xaxis15\":{\"anchor\":\"y15\",\"domain\":[0.55,0.7250000000000001],\"showgrid\":true},\"yaxis15\":{\"anchor\":\"x15\",\"domain\":[0.0,0.175],\"showgrid\":true},\"xaxis16\":{\"anchor\":\"y16\",\"domain\":[0.825,1.0],\"showgrid\":true},\"yaxis16\":{\"anchor\":\"x16\",\"domain\":[0.0,0.175],\"showgrid\":true},\"annotations\":[{\"font\":{\"size\":16},\"showarrow\":false,\"text\":\"Topic 0\",\"x\":0.0875,\"xanchor\":\"center\",\"xref\":\"paper\",\"y\":1.0,\"yanchor\":\"bottom\",\"yref\":\"paper\"},{\"font\":{\"size\":16},\"showarrow\":false,\"text\":\"Topic 1\",\"x\":0.36250000000000004,\"xanchor\":\"center\",\"xref\":\"paper\",\"y\":1.0,\"yanchor\":\"bottom\",\"yref\":\"paper\"},{\"font\":{\"size\":16},\"showarrow\":false,\"text\":\"Topic 2\",\"x\":0.6375000000000001,\"xanchor\":\"center\",\"xref\":\"paper\",\"y\":1.0,\"yanchor\":\"bottom\",\"yref\":\"paper\"},{\"font\":{\"size\":16},\"showarrow\":false,\"text\":\"Topic 3\",\"x\":0.9125,\"xanchor\":\"center\",\"xref\":\"paper\",\"y\":1.0,\"yanchor\":\"bottom\",\"yref\":\"paper\"},{\"font\":{\"size\":16},\"showarrow\":false,\"text\":\"Topic 4\",\"x\":0.0875,\"xanchor\":\"center\",\"xref\":\"paper\",\"y\":0.7250000000000001,\"yanchor\":\"bottom\",\"yref\":\"paper\"},{\"font\":{\"size\":16},\"showarrow\":false,\"text\":\"Topic 5\",\"x\":0.36250000000000004,\"xanchor\":\"center\",\"xref\":\"paper\",\"y\":0.7250000000000001,\"yanchor\":\"bottom\",\"yref\":\"paper\"},{\"font\":{\"size\":16},\"showarrow\":false,\"text\":\"Topic 6\",\"x\":0.6375000000000001,\"xanchor\":\"center\",\"xref\":\"paper\",\"y\":0.7250000000000001,\"yanchor\":\"bottom\",\"yref\":\"paper\"},{\"font\":{\"size\":16},\"showarrow\":false,\"text\":\"Topic 7\",\"x\":0.9125,\"xanchor\":\"center\",\"xref\":\"paper\",\"y\":0.7250000000000001,\"yanchor\":\"bottom\",\"yref\":\"paper\"},{\"font\":{\"size\":16},\"showarrow\":false,\"text\":\"Topic 8\",\"x\":0.0875,\"xanchor\":\"center\",\"xref\":\"paper\",\"y\":0.45,\"yanchor\":\"bottom\",\"yref\":\"paper\"},{\"font\":{\"size\":16},\"showarrow\":false,\"text\":\"Topic 9\",\"x\":0.36250000000000004,\"xanchor\":\"center\",\"xref\":\"paper\",\"y\":0.45,\"yanchor\":\"bottom\",\"yref\":\"paper\"},{\"font\":{\"size\":16},\"showarrow\":false,\"text\":\"Topic 10\",\"x\":0.6375000000000001,\"xanchor\":\"center\",\"xref\":\"paper\",\"y\":0.45,\"yanchor\":\"bottom\",\"yref\":\"paper\"},{\"font\":{\"size\":16},\"showarrow\":false,\"text\":\"Topic 11\",\"x\":0.9125,\"xanchor\":\"center\",\"xref\":\"paper\",\"y\":0.45,\"yanchor\":\"bottom\",\"yref\":\"paper\"},{\"font\":{\"size\":16},\"showarrow\":false,\"text\":\"Topic 12\",\"x\":0.0875,\"xanchor\":\"center\",\"xref\":\"paper\",\"y\":0.175,\"yanchor\":\"bottom\",\"yref\":\"paper\"},{\"font\":{\"size\":16},\"showarrow\":false,\"text\":\"Topic 13\",\"x\":0.36250000000000004,\"xanchor\":\"center\",\"xref\":\"paper\",\"y\":0.175,\"yanchor\":\"bottom\",\"yref\":\"paper\"},{\"font\":{\"size\":16},\"showarrow\":false,\"text\":\"Topic 14\",\"x\":0.6375000000000001,\"xanchor\":\"center\",\"xref\":\"paper\",\"y\":0.175,\"yanchor\":\"bottom\",\"yref\":\"paper\"},{\"font\":{\"size\":16},\"showarrow\":false,\"text\":\"Topic 15\",\"x\":0.9125,\"xanchor\":\"center\",\"xref\":\"paper\",\"y\":0.175,\"yanchor\":\"bottom\",\"yref\":\"paper\"}],\"title\":{\"font\":{\"size\":22,\"color\":\"Black\"},\"text\":\"<b>Topic Word Scores\",\"x\":0.5,\"xanchor\":\"center\",\"yanchor\":\"top\"},\"hoverlabel\":{\"font\":{\"size\":16,\"family\":\"Rockwell\"},\"bgcolor\":\"white\"},\"showlegend\":false,\"width\":1000,\"height\":1000},                        {\"responsive\": true}                    ).then(function(){\n",
       "                            \n",
       "var gd = document.getElementById('0920b3a0-dd74-4f4c-9783-1da89bab646f');\n",
       "var x = new MutationObserver(function (mutations, observer) {{\n",
       "        var display = window.getComputedStyle(gd).display;\n",
       "        if (!display || display === 'none') {{\n",
       "            console.log([gd, 'removed!']);\n",
       "            Plotly.purge(gd);\n",
       "            observer.disconnect();\n",
       "        }}\n",
       "}});\n",
       "\n",
       "// Listen for the removal of the full notebook cells\n",
       "var notebookContainer = gd.closest('#notebook-container');\n",
       "if (notebookContainer) {{\n",
       "    x.observe(notebookContainer, {childList: true});\n",
       "}}\n",
       "\n",
       "// Listen for the clearing of the current output cell\n",
       "var outputEl = gd.closest('.output');\n",
       "if (outputEl) {{\n",
       "    x.observe(outputEl, {childList: true});\n",
       "}}\n",
       "\n",
       "                        })                };                });            </script>        </div>"
      ]
     },
     "metadata": {},
     "output_type": "display_data"
    }
   ],
   "source": [
    "# Show Topics\n",
    "topic_visualization"
   ]
  },
  {
   "cell_type": "markdown",
   "id": "d76b9c67-588b-4f08-8b08-6247a44d7224",
   "metadata": {},
   "source": [
    " - Conducting dimensionality reduction with [UMAP](https://umap-learn.readthedocs.io/en/latest/) we can see that these topics have clustered around a few areas (split noticibly between applied and theoretical fields)."
   ]
  },
  {
   "cell_type": "code",
   "execution_count": 19,
   "id": "992a7cef-bf99-4822-8414-03cf7814eb14",
   "metadata": {},
   "outputs": [
    {
     "data": {
      "application/vnd.plotly.v1+json": {
       "config": {
        "plotlyServerURL": "https://plot.ly"
       },
       "data": [
        {
         "customdata": [
          [
           0,
           "language | text | word | knowledge | task",
           10843
          ],
          [
           1,
           "reinforcement | rl | reward | control | agent",
           6837
          ],
          [
           2,
           "privacy | federated | fl | private | communication",
           5100
          ],
          [
           3,
           "gradient | stochastic | convergence | descent | convex",
           5017
          ],
          [
           4,
           "logic | reasoning | semantics | ontology | knowledge",
           4572
          ],
          [
           5,
           "segmentation | images | image | imaging | medical",
           4314
          ],
          [
           6,
           "speech | audio | speaker | music | acoustic",
           4020
          ],
          [
           7,
           "matrix | rank | tensor | sparse | low",
           3666
          ],
          [
           8,
           "pruning | quantization | hardware | nas | search",
           3539
          ],
          [
           9,
           "3d | object | segmentation | point | video",
           3473
          ],
          [
           10,
           "adversarial | attacks | attack | robustness | examples",
           3289
          ],
          [
           11,
           "regret | bandit | online | bandits | arm",
           3099
          ],
          [
           12,
           "causal | treatment | variables | graphical | bayesian",
           3074
          ],
          [
           13,
           "generative | gans | gan | latent | image",
           2723
          ],
          [
           14,
           "detection | anomaly | malware | anomalies | security",
           2713
          ],
          [
           15,
           "recommendation | recommender | users | ranking | recommendations",
           2524
          ],
          [
           16,
           "explanations | interpretability | explainable | explainability | interpretable",
           2314
          ],
          [
           17,
           "graph | node | graphs | gnns | nodes",
           2265
          ],
          [
           18,
           "channel | wireless | communication | radio | resource",
           2228
          ],
          [
           19,
           "molecular | protein | drug | molecules | chemical",
           2180
          ],
          [
           20,
           "series | time | forecasting | stock | market",
           2081
          ],
          [
           21,
           "equations | differential | physics | pdes | equation",
           1967
          ],
          [
           22,
           "gaussian | posterior | variational | gp | bayesian",
           1956
          ],
          [
           23,
           "patients | patient | clinical | health | medical",
           1731
          ],
          [
           24,
           "classification | class | ensemble | trees | tree",
           1705
          ],
          [
           25,
           "visual | image | video | text | language",
           1484
          ],
          [
           26,
           "problems | search | solutions | solution | evolutionary",
           1465
          ],
          [
           27,
           "climate | satellite | weather | images | imagery",
           1302
          ],
          [
           28,
           "driving | autonomous | vehicle | vehicles | traffic",
           1266
          ],
          [
           29,
           "clustering | means | clusters | cluster | manifold",
           1234
          ],
          [
           30,
           "quantum | classical | circuits | circuit | states",
           1177
          ],
          [
           31,
           "fairness | fair | bias | groups | discrimination",
           1142
          ],
          [
           32,
           "energy | power | load | electricity | forecasting",
           1108
          ],
          [
           33,
           "game | agent | agents | games | marl",
           1070
          ],
          [
           34,
           "physics | galaxy | gravitational | particle | galaxies",
           1004
          ],
          [
           35,
           "eeg | sleep | signals | brain | bci",
           976
          ],
          [
           36,
           "program | programs | source | language | bug",
           950
          ],
          [
           37,
           "traffic | temporal | spatial | travel | prediction",
           900
          ],
          [
           38,
           "domain | adaptation | target | source | domains",
           878
          ],
          [
           39,
           "meta | shot | tasks | classes | task",
           829
          ],
          [
           40,
           "bo | bayesian | function | objective | acquisition",
           784
          ],
          [
           41,
           "community | communities | block | nodes | clustering",
           781
          ],
          [
           42,
           "spiking | snns | neuromorphic | snn | spike",
           671
          ],
          [
           43,
           "continual | forgetting | catastrophic | tasks | incremental",
           654
          ],
          [
           44,
           "cognitive | consciousness | turing | human | brain",
           533
          ],
          [
           45,
           "brain | fmri | functional | neuroimaging | connectivity",
           528
          ],
          [
           46,
           "activity | gait | har | recognition | sensor",
           520
          ]
         ],
         "hovertemplate": "<b>Topic %{customdata[0]}</b><br>Words: %{customdata[1]}<br>Size: %{customdata[2]}",
         "legendgroup": "",
         "marker": {
          "color": "#B0BEC5",
          "line": {
           "color": "DarkSlateGrey",
           "width": 2
          },
          "size": [
           10843,
           6837,
           5100,
           5017,
           4572,
           4314,
           4020,
           3666,
           3539,
           3473,
           3289,
           3099,
           3074,
           2723,
           2713,
           2524,
           2314,
           2265,
           2228,
           2180,
           2081,
           1967,
           1956,
           1731,
           1705,
           1484,
           1465,
           1302,
           1266,
           1234,
           1177,
           1142,
           1108,
           1070,
           1004,
           976,
           950,
           900,
           878,
           829,
           784,
           781,
           671,
           654,
           533,
           528,
           520
          ],
          "sizemode": "area",
          "sizeref": 6.776875,
          "symbol": "circle"
         },
         "mode": "markers",
         "name": "",
         "orientation": "v",
         "showlegend": false,
         "type": "scatter",
         "x": [
          3.4711756706237793,
          -7.545895099639893,
          -12.945761680603027,
          19.243976593017578,
          -14.14752197265625,
          -4.8616180419921875,
          3.224368095397949,
          19.0518856048584,
          4.28539514541626,
          -7.799363136291504,
          -13.152823448181152,
          -13.558768272399902,
          18.93562126159668,
          18.653024673461914,
          -13.067041397094727,
          -13.470602035522461,
          -14.117840766906738,
          3.930307388305664,
          -6.352786064147949,
          -5.12882661819458,
          -6.763172626495361,
          18.342588424682617,
          18.756277084350586,
          -5.053803443908691,
          3.9648263454437256,
          3.3821775913238525,
          18.174463272094727,
          -6.659205436706543,
          -7.452006816864014,
          10.248332977294922,
          4.549910068511963,
          -13.629218101501465,
          -6.713930130004883,
          -7.587070465087891,
          18.213043212890625,
          -5.71726655960083,
          -14.202366828918457,
          -7.0779643058776855,
          3.8440144062042236,
          3.882218837738037,
          18.30503273010254,
          10.327601432800293,
          4.491333484649658,
          4.160755157470703,
          -14.357447624206543,
          -5.617758274078369,
          -5.640651226043701
         ],
         "xaxis": "x",
         "y": [
          -14.584457397460938,
          11.786434173583984,
          6.971323013305664,
          8.712059020996094,
          5.394265174865723,
          0.8670954704284668,
          -14.784684181213379,
          8.8670654296875,
          -15.63343620300293,
          11.989933013916016,
          6.750140190124512,
          6.040618419647217,
          9.133267402648926,
          9.099919319152832,
          6.858888626098633,
          6.114100456237793,
          5.4924821853637695,
          -14.886011123657227,
          11.653549194335938,
          0.6124370098114014,
          11.294418334960938,
          9.51445198059082,
          9.094199180603027,
          0.7744364142417908,
          -14.435345649719238,
          -14.676347732543945,
          8.433426856994629,
          11.418606758117676,
          12.022957801818848,
          14.851090431213379,
          -15.89617919921875,
          5.982363700866699,
          11.624227523803711,
          12.172491073608398,
          9.633196830749512,
          0.4307374954223633,
          5.588203430175781,
          11.792414665222168,
          -15.089018821716309,
          -14.830597877502441,
          8.540584564208984,
          14.77512264251709,
          -15.932306289672852,
          -15.506616592407227,
          5.76395845413208,
          0.160586878657341,
          0.1228206679224968
         ],
         "yaxis": "y"
        }
       ],
       "layout": {
        "annotations": [
         {
          "showarrow": false,
          "text": "D1",
          "x": -16.511064767837524,
          "y": -0.6216991186141971,
          "yshift": 10
         },
         {
          "showarrow": false,
          "text": "D2",
          "x": 2.8097541570663456,
          "xshift": 10,
          "y": 17.078753995895386
         }
        ],
        "height": 650,
        "hoverlabel": {
         "bgcolor": "white",
         "font": {
          "family": "Rockwell",
          "size": 16
         }
        },
        "legend": {
         "itemsizing": "constant",
         "tracegroupgap": 0
        },
        "margin": {
         "t": 60
        },
        "shapes": [
         {
          "line": {
           "color": "#CFD8DC",
           "width": 2
          },
          "type": "line",
          "x0": 2.8097541570663456,
          "x1": 2.8097541570663456,
          "y0": -18.32215223312378,
          "y1": 17.078753995895386
         },
         {
          "line": {
           "color": "#9E9E9E",
           "width": 2
          },
          "type": "line",
          "x0": -16.511064767837524,
          "x1": 22.130573081970216,
          "y0": -0.6216991186141971,
          "y1": -0.6216991186141971
         }
        ],
        "sliders": [
         {
          "active": 0,
          "pad": {
           "t": 50
          },
          "steps": [
           {
            "args": [
             {
              "marker.color": [
               [
                "red",
                "#B0BEC5",
                "#B0BEC5",
                "#B0BEC5",
                "#B0BEC5",
                "#B0BEC5",
                "#B0BEC5",
                "#B0BEC5",
                "#B0BEC5",
                "#B0BEC5",
                "#B0BEC5",
                "#B0BEC5",
                "#B0BEC5",
                "#B0BEC5",
                "#B0BEC5",
                "#B0BEC5",
                "#B0BEC5",
                "#B0BEC5",
                "#B0BEC5",
                "#B0BEC5",
                "#B0BEC5",
                "#B0BEC5",
                "#B0BEC5",
                "#B0BEC5",
                "#B0BEC5",
                "#B0BEC5",
                "#B0BEC5",
                "#B0BEC5",
                "#B0BEC5",
                "#B0BEC5",
                "#B0BEC5",
                "#B0BEC5",
                "#B0BEC5",
                "#B0BEC5",
                "#B0BEC5",
                "#B0BEC5",
                "#B0BEC5",
                "#B0BEC5",
                "#B0BEC5",
                "#B0BEC5",
                "#B0BEC5",
                "#B0BEC5",
                "#B0BEC5",
                "#B0BEC5",
                "#B0BEC5",
                "#B0BEC5",
                "#B0BEC5"
               ]
              ]
             }
            ],
            "label": "Topic 0",
            "method": "update"
           },
           {
            "args": [
             {
              "marker.color": [
               [
                "#B0BEC5",
                "red",
                "#B0BEC5",
                "#B0BEC5",
                "#B0BEC5",
                "#B0BEC5",
                "#B0BEC5",
                "#B0BEC5",
                "#B0BEC5",
                "#B0BEC5",
                "#B0BEC5",
                "#B0BEC5",
                "#B0BEC5",
                "#B0BEC5",
                "#B0BEC5",
                "#B0BEC5",
                "#B0BEC5",
                "#B0BEC5",
                "#B0BEC5",
                "#B0BEC5",
                "#B0BEC5",
                "#B0BEC5",
                "#B0BEC5",
                "#B0BEC5",
                "#B0BEC5",
                "#B0BEC5",
                "#B0BEC5",
                "#B0BEC5",
                "#B0BEC5",
                "#B0BEC5",
                "#B0BEC5",
                "#B0BEC5",
                "#B0BEC5",
                "#B0BEC5",
                "#B0BEC5",
                "#B0BEC5",
                "#B0BEC5",
                "#B0BEC5",
                "#B0BEC5",
                "#B0BEC5",
                "#B0BEC5",
                "#B0BEC5",
                "#B0BEC5",
                "#B0BEC5",
                "#B0BEC5",
                "#B0BEC5",
                "#B0BEC5"
               ]
              ]
             }
            ],
            "label": "Topic 1",
            "method": "update"
           },
           {
            "args": [
             {
              "marker.color": [
               [
                "#B0BEC5",
                "#B0BEC5",
                "red",
                "#B0BEC5",
                "#B0BEC5",
                "#B0BEC5",
                "#B0BEC5",
                "#B0BEC5",
                "#B0BEC5",
                "#B0BEC5",
                "#B0BEC5",
                "#B0BEC5",
                "#B0BEC5",
                "#B0BEC5",
                "#B0BEC5",
                "#B0BEC5",
                "#B0BEC5",
                "#B0BEC5",
                "#B0BEC5",
                "#B0BEC5",
                "#B0BEC5",
                "#B0BEC5",
                "#B0BEC5",
                "#B0BEC5",
                "#B0BEC5",
                "#B0BEC5",
                "#B0BEC5",
                "#B0BEC5",
                "#B0BEC5",
                "#B0BEC5",
                "#B0BEC5",
                "#B0BEC5",
                "#B0BEC5",
                "#B0BEC5",
                "#B0BEC5",
                "#B0BEC5",
                "#B0BEC5",
                "#B0BEC5",
                "#B0BEC5",
                "#B0BEC5",
                "#B0BEC5",
                "#B0BEC5",
                "#B0BEC5",
                "#B0BEC5",
                "#B0BEC5",
                "#B0BEC5",
                "#B0BEC5"
               ]
              ]
             }
            ],
            "label": "Topic 2",
            "method": "update"
           },
           {
            "args": [
             {
              "marker.color": [
               [
                "#B0BEC5",
                "#B0BEC5",
                "#B0BEC5",
                "red",
                "#B0BEC5",
                "#B0BEC5",
                "#B0BEC5",
                "#B0BEC5",
                "#B0BEC5",
                "#B0BEC5",
                "#B0BEC5",
                "#B0BEC5",
                "#B0BEC5",
                "#B0BEC5",
                "#B0BEC5",
                "#B0BEC5",
                "#B0BEC5",
                "#B0BEC5",
                "#B0BEC5",
                "#B0BEC5",
                "#B0BEC5",
                "#B0BEC5",
                "#B0BEC5",
                "#B0BEC5",
                "#B0BEC5",
                "#B0BEC5",
                "#B0BEC5",
                "#B0BEC5",
                "#B0BEC5",
                "#B0BEC5",
                "#B0BEC5",
                "#B0BEC5",
                "#B0BEC5",
                "#B0BEC5",
                "#B0BEC5",
                "#B0BEC5",
                "#B0BEC5",
                "#B0BEC5",
                "#B0BEC5",
                "#B0BEC5",
                "#B0BEC5",
                "#B0BEC5",
                "#B0BEC5",
                "#B0BEC5",
                "#B0BEC5",
                "#B0BEC5",
                "#B0BEC5"
               ]
              ]
             }
            ],
            "label": "Topic 3",
            "method": "update"
           },
           {
            "args": [
             {
              "marker.color": [
               [
                "#B0BEC5",
                "#B0BEC5",
                "#B0BEC5",
                "#B0BEC5",
                "red",
                "#B0BEC5",
                "#B0BEC5",
                "#B0BEC5",
                "#B0BEC5",
                "#B0BEC5",
                "#B0BEC5",
                "#B0BEC5",
                "#B0BEC5",
                "#B0BEC5",
                "#B0BEC5",
                "#B0BEC5",
                "#B0BEC5",
                "#B0BEC5",
                "#B0BEC5",
                "#B0BEC5",
                "#B0BEC5",
                "#B0BEC5",
                "#B0BEC5",
                "#B0BEC5",
                "#B0BEC5",
                "#B0BEC5",
                "#B0BEC5",
                "#B0BEC5",
                "#B0BEC5",
                "#B0BEC5",
                "#B0BEC5",
                "#B0BEC5",
                "#B0BEC5",
                "#B0BEC5",
                "#B0BEC5",
                "#B0BEC5",
                "#B0BEC5",
                "#B0BEC5",
                "#B0BEC5",
                "#B0BEC5",
                "#B0BEC5",
                "#B0BEC5",
                "#B0BEC5",
                "#B0BEC5",
                "#B0BEC5",
                "#B0BEC5",
                "#B0BEC5"
               ]
              ]
             }
            ],
            "label": "Topic 4",
            "method": "update"
           },
           {
            "args": [
             {
              "marker.color": [
               [
                "#B0BEC5",
                "#B0BEC5",
                "#B0BEC5",
                "#B0BEC5",
                "#B0BEC5",
                "red",
                "#B0BEC5",
                "#B0BEC5",
                "#B0BEC5",
                "#B0BEC5",
                "#B0BEC5",
                "#B0BEC5",
                "#B0BEC5",
                "#B0BEC5",
                "#B0BEC5",
                "#B0BEC5",
                "#B0BEC5",
                "#B0BEC5",
                "#B0BEC5",
                "#B0BEC5",
                "#B0BEC5",
                "#B0BEC5",
                "#B0BEC5",
                "#B0BEC5",
                "#B0BEC5",
                "#B0BEC5",
                "#B0BEC5",
                "#B0BEC5",
                "#B0BEC5",
                "#B0BEC5",
                "#B0BEC5",
                "#B0BEC5",
                "#B0BEC5",
                "#B0BEC5",
                "#B0BEC5",
                "#B0BEC5",
                "#B0BEC5",
                "#B0BEC5",
                "#B0BEC5",
                "#B0BEC5",
                "#B0BEC5",
                "#B0BEC5",
                "#B0BEC5",
                "#B0BEC5",
                "#B0BEC5",
                "#B0BEC5",
                "#B0BEC5"
               ]
              ]
             }
            ],
            "label": "Topic 5",
            "method": "update"
           },
           {
            "args": [
             {
              "marker.color": [
               [
                "#B0BEC5",
                "#B0BEC5",
                "#B0BEC5",
                "#B0BEC5",
                "#B0BEC5",
                "#B0BEC5",
                "red",
                "#B0BEC5",
                "#B0BEC5",
                "#B0BEC5",
                "#B0BEC5",
                "#B0BEC5",
                "#B0BEC5",
                "#B0BEC5",
                "#B0BEC5",
                "#B0BEC5",
                "#B0BEC5",
                "#B0BEC5",
                "#B0BEC5",
                "#B0BEC5",
                "#B0BEC5",
                "#B0BEC5",
                "#B0BEC5",
                "#B0BEC5",
                "#B0BEC5",
                "#B0BEC5",
                "#B0BEC5",
                "#B0BEC5",
                "#B0BEC5",
                "#B0BEC5",
                "#B0BEC5",
                "#B0BEC5",
                "#B0BEC5",
                "#B0BEC5",
                "#B0BEC5",
                "#B0BEC5",
                "#B0BEC5",
                "#B0BEC5",
                "#B0BEC5",
                "#B0BEC5",
                "#B0BEC5",
                "#B0BEC5",
                "#B0BEC5",
                "#B0BEC5",
                "#B0BEC5",
                "#B0BEC5",
                "#B0BEC5"
               ]
              ]
             }
            ],
            "label": "Topic 6",
            "method": "update"
           },
           {
            "args": [
             {
              "marker.color": [
               [
                "#B0BEC5",
                "#B0BEC5",
                "#B0BEC5",
                "#B0BEC5",
                "#B0BEC5",
                "#B0BEC5",
                "#B0BEC5",
                "red",
                "#B0BEC5",
                "#B0BEC5",
                "#B0BEC5",
                "#B0BEC5",
                "#B0BEC5",
                "#B0BEC5",
                "#B0BEC5",
                "#B0BEC5",
                "#B0BEC5",
                "#B0BEC5",
                "#B0BEC5",
                "#B0BEC5",
                "#B0BEC5",
                "#B0BEC5",
                "#B0BEC5",
                "#B0BEC5",
                "#B0BEC5",
                "#B0BEC5",
                "#B0BEC5",
                "#B0BEC5",
                "#B0BEC5",
                "#B0BEC5",
                "#B0BEC5",
                "#B0BEC5",
                "#B0BEC5",
                "#B0BEC5",
                "#B0BEC5",
                "#B0BEC5",
                "#B0BEC5",
                "#B0BEC5",
                "#B0BEC5",
                "#B0BEC5",
                "#B0BEC5",
                "#B0BEC5",
                "#B0BEC5",
                "#B0BEC5",
                "#B0BEC5",
                "#B0BEC5",
                "#B0BEC5"
               ]
              ]
             }
            ],
            "label": "Topic 7",
            "method": "update"
           },
           {
            "args": [
             {
              "marker.color": [
               [
                "#B0BEC5",
                "#B0BEC5",
                "#B0BEC5",
                "#B0BEC5",
                "#B0BEC5",
                "#B0BEC5",
                "#B0BEC5",
                "#B0BEC5",
                "red",
                "#B0BEC5",
                "#B0BEC5",
                "#B0BEC5",
                "#B0BEC5",
                "#B0BEC5",
                "#B0BEC5",
                "#B0BEC5",
                "#B0BEC5",
                "#B0BEC5",
                "#B0BEC5",
                "#B0BEC5",
                "#B0BEC5",
                "#B0BEC5",
                "#B0BEC5",
                "#B0BEC5",
                "#B0BEC5",
                "#B0BEC5",
                "#B0BEC5",
                "#B0BEC5",
                "#B0BEC5",
                "#B0BEC5",
                "#B0BEC5",
                "#B0BEC5",
                "#B0BEC5",
                "#B0BEC5",
                "#B0BEC5",
                "#B0BEC5",
                "#B0BEC5",
                "#B0BEC5",
                "#B0BEC5",
                "#B0BEC5",
                "#B0BEC5",
                "#B0BEC5",
                "#B0BEC5",
                "#B0BEC5",
                "#B0BEC5",
                "#B0BEC5",
                "#B0BEC5"
               ]
              ]
             }
            ],
            "label": "Topic 8",
            "method": "update"
           },
           {
            "args": [
             {
              "marker.color": [
               [
                "#B0BEC5",
                "#B0BEC5",
                "#B0BEC5",
                "#B0BEC5",
                "#B0BEC5",
                "#B0BEC5",
                "#B0BEC5",
                "#B0BEC5",
                "#B0BEC5",
                "red",
                "#B0BEC5",
                "#B0BEC5",
                "#B0BEC5",
                "#B0BEC5",
                "#B0BEC5",
                "#B0BEC5",
                "#B0BEC5",
                "#B0BEC5",
                "#B0BEC5",
                "#B0BEC5",
                "#B0BEC5",
                "#B0BEC5",
                "#B0BEC5",
                "#B0BEC5",
                "#B0BEC5",
                "#B0BEC5",
                "#B0BEC5",
                "#B0BEC5",
                "#B0BEC5",
                "#B0BEC5",
                "#B0BEC5",
                "#B0BEC5",
                "#B0BEC5",
                "#B0BEC5",
                "#B0BEC5",
                "#B0BEC5",
                "#B0BEC5",
                "#B0BEC5",
                "#B0BEC5",
                "#B0BEC5",
                "#B0BEC5",
                "#B0BEC5",
                "#B0BEC5",
                "#B0BEC5",
                "#B0BEC5",
                "#B0BEC5",
                "#B0BEC5"
               ]
              ]
             }
            ],
            "label": "Topic 9",
            "method": "update"
           },
           {
            "args": [
             {
              "marker.color": [
               [
                "#B0BEC5",
                "#B0BEC5",
                "#B0BEC5",
                "#B0BEC5",
                "#B0BEC5",
                "#B0BEC5",
                "#B0BEC5",
                "#B0BEC5",
                "#B0BEC5",
                "#B0BEC5",
                "red",
                "#B0BEC5",
                "#B0BEC5",
                "#B0BEC5",
                "#B0BEC5",
                "#B0BEC5",
                "#B0BEC5",
                "#B0BEC5",
                "#B0BEC5",
                "#B0BEC5",
                "#B0BEC5",
                "#B0BEC5",
                "#B0BEC5",
                "#B0BEC5",
                "#B0BEC5",
                "#B0BEC5",
                "#B0BEC5",
                "#B0BEC5",
                "#B0BEC5",
                "#B0BEC5",
                "#B0BEC5",
                "#B0BEC5",
                "#B0BEC5",
                "#B0BEC5",
                "#B0BEC5",
                "#B0BEC5",
                "#B0BEC5",
                "#B0BEC5",
                "#B0BEC5",
                "#B0BEC5",
                "#B0BEC5",
                "#B0BEC5",
                "#B0BEC5",
                "#B0BEC5",
                "#B0BEC5",
                "#B0BEC5",
                "#B0BEC5"
               ]
              ]
             }
            ],
            "label": "Topic 10",
            "method": "update"
           },
           {
            "args": [
             {
              "marker.color": [
               [
                "#B0BEC5",
                "#B0BEC5",
                "#B0BEC5",
                "#B0BEC5",
                "#B0BEC5",
                "#B0BEC5",
                "#B0BEC5",
                "#B0BEC5",
                "#B0BEC5",
                "#B0BEC5",
                "#B0BEC5",
                "red",
                "#B0BEC5",
                "#B0BEC5",
                "#B0BEC5",
                "#B0BEC5",
                "#B0BEC5",
                "#B0BEC5",
                "#B0BEC5",
                "#B0BEC5",
                "#B0BEC5",
                "#B0BEC5",
                "#B0BEC5",
                "#B0BEC5",
                "#B0BEC5",
                "#B0BEC5",
                "#B0BEC5",
                "#B0BEC5",
                "#B0BEC5",
                "#B0BEC5",
                "#B0BEC5",
                "#B0BEC5",
                "#B0BEC5",
                "#B0BEC5",
                "#B0BEC5",
                "#B0BEC5",
                "#B0BEC5",
                "#B0BEC5",
                "#B0BEC5",
                "#B0BEC5",
                "#B0BEC5",
                "#B0BEC5",
                "#B0BEC5",
                "#B0BEC5",
                "#B0BEC5",
                "#B0BEC5",
                "#B0BEC5"
               ]
              ]
             }
            ],
            "label": "Topic 11",
            "method": "update"
           },
           {
            "args": [
             {
              "marker.color": [
               [
                "#B0BEC5",
                "#B0BEC5",
                "#B0BEC5",
                "#B0BEC5",
                "#B0BEC5",
                "#B0BEC5",
                "#B0BEC5",
                "#B0BEC5",
                "#B0BEC5",
                "#B0BEC5",
                "#B0BEC5",
                "#B0BEC5",
                "red",
                "#B0BEC5",
                "#B0BEC5",
                "#B0BEC5",
                "#B0BEC5",
                "#B0BEC5",
                "#B0BEC5",
                "#B0BEC5",
                "#B0BEC5",
                "#B0BEC5",
                "#B0BEC5",
                "#B0BEC5",
                "#B0BEC5",
                "#B0BEC5",
                "#B0BEC5",
                "#B0BEC5",
                "#B0BEC5",
                "#B0BEC5",
                "#B0BEC5",
                "#B0BEC5",
                "#B0BEC5",
                "#B0BEC5",
                "#B0BEC5",
                "#B0BEC5",
                "#B0BEC5",
                "#B0BEC5",
                "#B0BEC5",
                "#B0BEC5",
                "#B0BEC5",
                "#B0BEC5",
                "#B0BEC5",
                "#B0BEC5",
                "#B0BEC5",
                "#B0BEC5",
                "#B0BEC5"
               ]
              ]
             }
            ],
            "label": "Topic 12",
            "method": "update"
           },
           {
            "args": [
             {
              "marker.color": [
               [
                "#B0BEC5",
                "#B0BEC5",
                "#B0BEC5",
                "#B0BEC5",
                "#B0BEC5",
                "#B0BEC5",
                "#B0BEC5",
                "#B0BEC5",
                "#B0BEC5",
                "#B0BEC5",
                "#B0BEC5",
                "#B0BEC5",
                "#B0BEC5",
                "red",
                "#B0BEC5",
                "#B0BEC5",
                "#B0BEC5",
                "#B0BEC5",
                "#B0BEC5",
                "#B0BEC5",
                "#B0BEC5",
                "#B0BEC5",
                "#B0BEC5",
                "#B0BEC5",
                "#B0BEC5",
                "#B0BEC5",
                "#B0BEC5",
                "#B0BEC5",
                "#B0BEC5",
                "#B0BEC5",
                "#B0BEC5",
                "#B0BEC5",
                "#B0BEC5",
                "#B0BEC5",
                "#B0BEC5",
                "#B0BEC5",
                "#B0BEC5",
                "#B0BEC5",
                "#B0BEC5",
                "#B0BEC5",
                "#B0BEC5",
                "#B0BEC5",
                "#B0BEC5",
                "#B0BEC5",
                "#B0BEC5",
                "#B0BEC5",
                "#B0BEC5"
               ]
              ]
             }
            ],
            "label": "Topic 13",
            "method": "update"
           },
           {
            "args": [
             {
              "marker.color": [
               [
                "#B0BEC5",
                "#B0BEC5",
                "#B0BEC5",
                "#B0BEC5",
                "#B0BEC5",
                "#B0BEC5",
                "#B0BEC5",
                "#B0BEC5",
                "#B0BEC5",
                "#B0BEC5",
                "#B0BEC5",
                "#B0BEC5",
                "#B0BEC5",
                "#B0BEC5",
                "red",
                "#B0BEC5",
                "#B0BEC5",
                "#B0BEC5",
                "#B0BEC5",
                "#B0BEC5",
                "#B0BEC5",
                "#B0BEC5",
                "#B0BEC5",
                "#B0BEC5",
                "#B0BEC5",
                "#B0BEC5",
                "#B0BEC5",
                "#B0BEC5",
                "#B0BEC5",
                "#B0BEC5",
                "#B0BEC5",
                "#B0BEC5",
                "#B0BEC5",
                "#B0BEC5",
                "#B0BEC5",
                "#B0BEC5",
                "#B0BEC5",
                "#B0BEC5",
                "#B0BEC5",
                "#B0BEC5",
                "#B0BEC5",
                "#B0BEC5",
                "#B0BEC5",
                "#B0BEC5",
                "#B0BEC5",
                "#B0BEC5",
                "#B0BEC5"
               ]
              ]
             }
            ],
            "label": "Topic 14",
            "method": "update"
           },
           {
            "args": [
             {
              "marker.color": [
               [
                "#B0BEC5",
                "#B0BEC5",
                "#B0BEC5",
                "#B0BEC5",
                "#B0BEC5",
                "#B0BEC5",
                "#B0BEC5",
                "#B0BEC5",
                "#B0BEC5",
                "#B0BEC5",
                "#B0BEC5",
                "#B0BEC5",
                "#B0BEC5",
                "#B0BEC5",
                "#B0BEC5",
                "red",
                "#B0BEC5",
                "#B0BEC5",
                "#B0BEC5",
                "#B0BEC5",
                "#B0BEC5",
                "#B0BEC5",
                "#B0BEC5",
                "#B0BEC5",
                "#B0BEC5",
                "#B0BEC5",
                "#B0BEC5",
                "#B0BEC5",
                "#B0BEC5",
                "#B0BEC5",
                "#B0BEC5",
                "#B0BEC5",
                "#B0BEC5",
                "#B0BEC5",
                "#B0BEC5",
                "#B0BEC5",
                "#B0BEC5",
                "#B0BEC5",
                "#B0BEC5",
                "#B0BEC5",
                "#B0BEC5",
                "#B0BEC5",
                "#B0BEC5",
                "#B0BEC5",
                "#B0BEC5",
                "#B0BEC5",
                "#B0BEC5"
               ]
              ]
             }
            ],
            "label": "Topic 15",
            "method": "update"
           },
           {
            "args": [
             {
              "marker.color": [
               [
                "#B0BEC5",
                "#B0BEC5",
                "#B0BEC5",
                "#B0BEC5",
                "#B0BEC5",
                "#B0BEC5",
                "#B0BEC5",
                "#B0BEC5",
                "#B0BEC5",
                "#B0BEC5",
                "#B0BEC5",
                "#B0BEC5",
                "#B0BEC5",
                "#B0BEC5",
                "#B0BEC5",
                "#B0BEC5",
                "red",
                "#B0BEC5",
                "#B0BEC5",
                "#B0BEC5",
                "#B0BEC5",
                "#B0BEC5",
                "#B0BEC5",
                "#B0BEC5",
                "#B0BEC5",
                "#B0BEC5",
                "#B0BEC5",
                "#B0BEC5",
                "#B0BEC5",
                "#B0BEC5",
                "#B0BEC5",
                "#B0BEC5",
                "#B0BEC5",
                "#B0BEC5",
                "#B0BEC5",
                "#B0BEC5",
                "#B0BEC5",
                "#B0BEC5",
                "#B0BEC5",
                "#B0BEC5",
                "#B0BEC5",
                "#B0BEC5",
                "#B0BEC5",
                "#B0BEC5",
                "#B0BEC5",
                "#B0BEC5",
                "#B0BEC5"
               ]
              ]
             }
            ],
            "label": "Topic 16",
            "method": "update"
           },
           {
            "args": [
             {
              "marker.color": [
               [
                "#B0BEC5",
                "#B0BEC5",
                "#B0BEC5",
                "#B0BEC5",
                "#B0BEC5",
                "#B0BEC5",
                "#B0BEC5",
                "#B0BEC5",
                "#B0BEC5",
                "#B0BEC5",
                "#B0BEC5",
                "#B0BEC5",
                "#B0BEC5",
                "#B0BEC5",
                "#B0BEC5",
                "#B0BEC5",
                "#B0BEC5",
                "red",
                "#B0BEC5",
                "#B0BEC5",
                "#B0BEC5",
                "#B0BEC5",
                "#B0BEC5",
                "#B0BEC5",
                "#B0BEC5",
                "#B0BEC5",
                "#B0BEC5",
                "#B0BEC5",
                "#B0BEC5",
                "#B0BEC5",
                "#B0BEC5",
                "#B0BEC5",
                "#B0BEC5",
                "#B0BEC5",
                "#B0BEC5",
                "#B0BEC5",
                "#B0BEC5",
                "#B0BEC5",
                "#B0BEC5",
                "#B0BEC5",
                "#B0BEC5",
                "#B0BEC5",
                "#B0BEC5",
                "#B0BEC5",
                "#B0BEC5",
                "#B0BEC5",
                "#B0BEC5"
               ]
              ]
             }
            ],
            "label": "Topic 17",
            "method": "update"
           },
           {
            "args": [
             {
              "marker.color": [
               [
                "#B0BEC5",
                "#B0BEC5",
                "#B0BEC5",
                "#B0BEC5",
                "#B0BEC5",
                "#B0BEC5",
                "#B0BEC5",
                "#B0BEC5",
                "#B0BEC5",
                "#B0BEC5",
                "#B0BEC5",
                "#B0BEC5",
                "#B0BEC5",
                "#B0BEC5",
                "#B0BEC5",
                "#B0BEC5",
                "#B0BEC5",
                "#B0BEC5",
                "red",
                "#B0BEC5",
                "#B0BEC5",
                "#B0BEC5",
                "#B0BEC5",
                "#B0BEC5",
                "#B0BEC5",
                "#B0BEC5",
                "#B0BEC5",
                "#B0BEC5",
                "#B0BEC5",
                "#B0BEC5",
                "#B0BEC5",
                "#B0BEC5",
                "#B0BEC5",
                "#B0BEC5",
                "#B0BEC5",
                "#B0BEC5",
                "#B0BEC5",
                "#B0BEC5",
                "#B0BEC5",
                "#B0BEC5",
                "#B0BEC5",
                "#B0BEC5",
                "#B0BEC5",
                "#B0BEC5",
                "#B0BEC5",
                "#B0BEC5",
                "#B0BEC5"
               ]
              ]
             }
            ],
            "label": "Topic 18",
            "method": "update"
           },
           {
            "args": [
             {
              "marker.color": [
               [
                "#B0BEC5",
                "#B0BEC5",
                "#B0BEC5",
                "#B0BEC5",
                "#B0BEC5",
                "#B0BEC5",
                "#B0BEC5",
                "#B0BEC5",
                "#B0BEC5",
                "#B0BEC5",
                "#B0BEC5",
                "#B0BEC5",
                "#B0BEC5",
                "#B0BEC5",
                "#B0BEC5",
                "#B0BEC5",
                "#B0BEC5",
                "#B0BEC5",
                "#B0BEC5",
                "red",
                "#B0BEC5",
                "#B0BEC5",
                "#B0BEC5",
                "#B0BEC5",
                "#B0BEC5",
                "#B0BEC5",
                "#B0BEC5",
                "#B0BEC5",
                "#B0BEC5",
                "#B0BEC5",
                "#B0BEC5",
                "#B0BEC5",
                "#B0BEC5",
                "#B0BEC5",
                "#B0BEC5",
                "#B0BEC5",
                "#B0BEC5",
                "#B0BEC5",
                "#B0BEC5",
                "#B0BEC5",
                "#B0BEC5",
                "#B0BEC5",
                "#B0BEC5",
                "#B0BEC5",
                "#B0BEC5",
                "#B0BEC5",
                "#B0BEC5"
               ]
              ]
             }
            ],
            "label": "Topic 19",
            "method": "update"
           },
           {
            "args": [
             {
              "marker.color": [
               [
                "#B0BEC5",
                "#B0BEC5",
                "#B0BEC5",
                "#B0BEC5",
                "#B0BEC5",
                "#B0BEC5",
                "#B0BEC5",
                "#B0BEC5",
                "#B0BEC5",
                "#B0BEC5",
                "#B0BEC5",
                "#B0BEC5",
                "#B0BEC5",
                "#B0BEC5",
                "#B0BEC5",
                "#B0BEC5",
                "#B0BEC5",
                "#B0BEC5",
                "#B0BEC5",
                "#B0BEC5",
                "red",
                "#B0BEC5",
                "#B0BEC5",
                "#B0BEC5",
                "#B0BEC5",
                "#B0BEC5",
                "#B0BEC5",
                "#B0BEC5",
                "#B0BEC5",
                "#B0BEC5",
                "#B0BEC5",
                "#B0BEC5",
                "#B0BEC5",
                "#B0BEC5",
                "#B0BEC5",
                "#B0BEC5",
                "#B0BEC5",
                "#B0BEC5",
                "#B0BEC5",
                "#B0BEC5",
                "#B0BEC5",
                "#B0BEC5",
                "#B0BEC5",
                "#B0BEC5",
                "#B0BEC5",
                "#B0BEC5",
                "#B0BEC5"
               ]
              ]
             }
            ],
            "label": "Topic 20",
            "method": "update"
           },
           {
            "args": [
             {
              "marker.color": [
               [
                "#B0BEC5",
                "#B0BEC5",
                "#B0BEC5",
                "#B0BEC5",
                "#B0BEC5",
                "#B0BEC5",
                "#B0BEC5",
                "#B0BEC5",
                "#B0BEC5",
                "#B0BEC5",
                "#B0BEC5",
                "#B0BEC5",
                "#B0BEC5",
                "#B0BEC5",
                "#B0BEC5",
                "#B0BEC5",
                "#B0BEC5",
                "#B0BEC5",
                "#B0BEC5",
                "#B0BEC5",
                "#B0BEC5",
                "red",
                "#B0BEC5",
                "#B0BEC5",
                "#B0BEC5",
                "#B0BEC5",
                "#B0BEC5",
                "#B0BEC5",
                "#B0BEC5",
                "#B0BEC5",
                "#B0BEC5",
                "#B0BEC5",
                "#B0BEC5",
                "#B0BEC5",
                "#B0BEC5",
                "#B0BEC5",
                "#B0BEC5",
                "#B0BEC5",
                "#B0BEC5",
                "#B0BEC5",
                "#B0BEC5",
                "#B0BEC5",
                "#B0BEC5",
                "#B0BEC5",
                "#B0BEC5",
                "#B0BEC5",
                "#B0BEC5"
               ]
              ]
             }
            ],
            "label": "Topic 21",
            "method": "update"
           },
           {
            "args": [
             {
              "marker.color": [
               [
                "#B0BEC5",
                "#B0BEC5",
                "#B0BEC5",
                "#B0BEC5",
                "#B0BEC5",
                "#B0BEC5",
                "#B0BEC5",
                "#B0BEC5",
                "#B0BEC5",
                "#B0BEC5",
                "#B0BEC5",
                "#B0BEC5",
                "#B0BEC5",
                "#B0BEC5",
                "#B0BEC5",
                "#B0BEC5",
                "#B0BEC5",
                "#B0BEC5",
                "#B0BEC5",
                "#B0BEC5",
                "#B0BEC5",
                "#B0BEC5",
                "red",
                "#B0BEC5",
                "#B0BEC5",
                "#B0BEC5",
                "#B0BEC5",
                "#B0BEC5",
                "#B0BEC5",
                "#B0BEC5",
                "#B0BEC5",
                "#B0BEC5",
                "#B0BEC5",
                "#B0BEC5",
                "#B0BEC5",
                "#B0BEC5",
                "#B0BEC5",
                "#B0BEC5",
                "#B0BEC5",
                "#B0BEC5",
                "#B0BEC5",
                "#B0BEC5",
                "#B0BEC5",
                "#B0BEC5",
                "#B0BEC5",
                "#B0BEC5",
                "#B0BEC5"
               ]
              ]
             }
            ],
            "label": "Topic 22",
            "method": "update"
           },
           {
            "args": [
             {
              "marker.color": [
               [
                "#B0BEC5",
                "#B0BEC5",
                "#B0BEC5",
                "#B0BEC5",
                "#B0BEC5",
                "#B0BEC5",
                "#B0BEC5",
                "#B0BEC5",
                "#B0BEC5",
                "#B0BEC5",
                "#B0BEC5",
                "#B0BEC5",
                "#B0BEC5",
                "#B0BEC5",
                "#B0BEC5",
                "#B0BEC5",
                "#B0BEC5",
                "#B0BEC5",
                "#B0BEC5",
                "#B0BEC5",
                "#B0BEC5",
                "#B0BEC5",
                "#B0BEC5",
                "red",
                "#B0BEC5",
                "#B0BEC5",
                "#B0BEC5",
                "#B0BEC5",
                "#B0BEC5",
                "#B0BEC5",
                "#B0BEC5",
                "#B0BEC5",
                "#B0BEC5",
                "#B0BEC5",
                "#B0BEC5",
                "#B0BEC5",
                "#B0BEC5",
                "#B0BEC5",
                "#B0BEC5",
                "#B0BEC5",
                "#B0BEC5",
                "#B0BEC5",
                "#B0BEC5",
                "#B0BEC5",
                "#B0BEC5",
                "#B0BEC5",
                "#B0BEC5"
               ]
              ]
             }
            ],
            "label": "Topic 23",
            "method": "update"
           },
           {
            "args": [
             {
              "marker.color": [
               [
                "#B0BEC5",
                "#B0BEC5",
                "#B0BEC5",
                "#B0BEC5",
                "#B0BEC5",
                "#B0BEC5",
                "#B0BEC5",
                "#B0BEC5",
                "#B0BEC5",
                "#B0BEC5",
                "#B0BEC5",
                "#B0BEC5",
                "#B0BEC5",
                "#B0BEC5",
                "#B0BEC5",
                "#B0BEC5",
                "#B0BEC5",
                "#B0BEC5",
                "#B0BEC5",
                "#B0BEC5",
                "#B0BEC5",
                "#B0BEC5",
                "#B0BEC5",
                "#B0BEC5",
                "red",
                "#B0BEC5",
                "#B0BEC5",
                "#B0BEC5",
                "#B0BEC5",
                "#B0BEC5",
                "#B0BEC5",
                "#B0BEC5",
                "#B0BEC5",
                "#B0BEC5",
                "#B0BEC5",
                "#B0BEC5",
                "#B0BEC5",
                "#B0BEC5",
                "#B0BEC5",
                "#B0BEC5",
                "#B0BEC5",
                "#B0BEC5",
                "#B0BEC5",
                "#B0BEC5",
                "#B0BEC5",
                "#B0BEC5",
                "#B0BEC5"
               ]
              ]
             }
            ],
            "label": "Topic 24",
            "method": "update"
           },
           {
            "args": [
             {
              "marker.color": [
               [
                "#B0BEC5",
                "#B0BEC5",
                "#B0BEC5",
                "#B0BEC5",
                "#B0BEC5",
                "#B0BEC5",
                "#B0BEC5",
                "#B0BEC5",
                "#B0BEC5",
                "#B0BEC5",
                "#B0BEC5",
                "#B0BEC5",
                "#B0BEC5",
                "#B0BEC5",
                "#B0BEC5",
                "#B0BEC5",
                "#B0BEC5",
                "#B0BEC5",
                "#B0BEC5",
                "#B0BEC5",
                "#B0BEC5",
                "#B0BEC5",
                "#B0BEC5",
                "#B0BEC5",
                "#B0BEC5",
                "red",
                "#B0BEC5",
                "#B0BEC5",
                "#B0BEC5",
                "#B0BEC5",
                "#B0BEC5",
                "#B0BEC5",
                "#B0BEC5",
                "#B0BEC5",
                "#B0BEC5",
                "#B0BEC5",
                "#B0BEC5",
                "#B0BEC5",
                "#B0BEC5",
                "#B0BEC5",
                "#B0BEC5",
                "#B0BEC5",
                "#B0BEC5",
                "#B0BEC5",
                "#B0BEC5",
                "#B0BEC5",
                "#B0BEC5"
               ]
              ]
             }
            ],
            "label": "Topic 25",
            "method": "update"
           },
           {
            "args": [
             {
              "marker.color": [
               [
                "#B0BEC5",
                "#B0BEC5",
                "#B0BEC5",
                "#B0BEC5",
                "#B0BEC5",
                "#B0BEC5",
                "#B0BEC5",
                "#B0BEC5",
                "#B0BEC5",
                "#B0BEC5",
                "#B0BEC5",
                "#B0BEC5",
                "#B0BEC5",
                "#B0BEC5",
                "#B0BEC5",
                "#B0BEC5",
                "#B0BEC5",
                "#B0BEC5",
                "#B0BEC5",
                "#B0BEC5",
                "#B0BEC5",
                "#B0BEC5",
                "#B0BEC5",
                "#B0BEC5",
                "#B0BEC5",
                "#B0BEC5",
                "red",
                "#B0BEC5",
                "#B0BEC5",
                "#B0BEC5",
                "#B0BEC5",
                "#B0BEC5",
                "#B0BEC5",
                "#B0BEC5",
                "#B0BEC5",
                "#B0BEC5",
                "#B0BEC5",
                "#B0BEC5",
                "#B0BEC5",
                "#B0BEC5",
                "#B0BEC5",
                "#B0BEC5",
                "#B0BEC5",
                "#B0BEC5",
                "#B0BEC5",
                "#B0BEC5",
                "#B0BEC5"
               ]
              ]
             }
            ],
            "label": "Topic 26",
            "method": "update"
           },
           {
            "args": [
             {
              "marker.color": [
               [
                "#B0BEC5",
                "#B0BEC5",
                "#B0BEC5",
                "#B0BEC5",
                "#B0BEC5",
                "#B0BEC5",
                "#B0BEC5",
                "#B0BEC5",
                "#B0BEC5",
                "#B0BEC5",
                "#B0BEC5",
                "#B0BEC5",
                "#B0BEC5",
                "#B0BEC5",
                "#B0BEC5",
                "#B0BEC5",
                "#B0BEC5",
                "#B0BEC5",
                "#B0BEC5",
                "#B0BEC5",
                "#B0BEC5",
                "#B0BEC5",
                "#B0BEC5",
                "#B0BEC5",
                "#B0BEC5",
                "#B0BEC5",
                "#B0BEC5",
                "red",
                "#B0BEC5",
                "#B0BEC5",
                "#B0BEC5",
                "#B0BEC5",
                "#B0BEC5",
                "#B0BEC5",
                "#B0BEC5",
                "#B0BEC5",
                "#B0BEC5",
                "#B0BEC5",
                "#B0BEC5",
                "#B0BEC5",
                "#B0BEC5",
                "#B0BEC5",
                "#B0BEC5",
                "#B0BEC5",
                "#B0BEC5",
                "#B0BEC5",
                "#B0BEC5"
               ]
              ]
             }
            ],
            "label": "Topic 27",
            "method": "update"
           },
           {
            "args": [
             {
              "marker.color": [
               [
                "#B0BEC5",
                "#B0BEC5",
                "#B0BEC5",
                "#B0BEC5",
                "#B0BEC5",
                "#B0BEC5",
                "#B0BEC5",
                "#B0BEC5",
                "#B0BEC5",
                "#B0BEC5",
                "#B0BEC5",
                "#B0BEC5",
                "#B0BEC5",
                "#B0BEC5",
                "#B0BEC5",
                "#B0BEC5",
                "#B0BEC5",
                "#B0BEC5",
                "#B0BEC5",
                "#B0BEC5",
                "#B0BEC5",
                "#B0BEC5",
                "#B0BEC5",
                "#B0BEC5",
                "#B0BEC5",
                "#B0BEC5",
                "#B0BEC5",
                "#B0BEC5",
                "red",
                "#B0BEC5",
                "#B0BEC5",
                "#B0BEC5",
                "#B0BEC5",
                "#B0BEC5",
                "#B0BEC5",
                "#B0BEC5",
                "#B0BEC5",
                "#B0BEC5",
                "#B0BEC5",
                "#B0BEC5",
                "#B0BEC5",
                "#B0BEC5",
                "#B0BEC5",
                "#B0BEC5",
                "#B0BEC5",
                "#B0BEC5",
                "#B0BEC5"
               ]
              ]
             }
            ],
            "label": "Topic 28",
            "method": "update"
           },
           {
            "args": [
             {
              "marker.color": [
               [
                "#B0BEC5",
                "#B0BEC5",
                "#B0BEC5",
                "#B0BEC5",
                "#B0BEC5",
                "#B0BEC5",
                "#B0BEC5",
                "#B0BEC5",
                "#B0BEC5",
                "#B0BEC5",
                "#B0BEC5",
                "#B0BEC5",
                "#B0BEC5",
                "#B0BEC5",
                "#B0BEC5",
                "#B0BEC5",
                "#B0BEC5",
                "#B0BEC5",
                "#B0BEC5",
                "#B0BEC5",
                "#B0BEC5",
                "#B0BEC5",
                "#B0BEC5",
                "#B0BEC5",
                "#B0BEC5",
                "#B0BEC5",
                "#B0BEC5",
                "#B0BEC5",
                "#B0BEC5",
                "red",
                "#B0BEC5",
                "#B0BEC5",
                "#B0BEC5",
                "#B0BEC5",
                "#B0BEC5",
                "#B0BEC5",
                "#B0BEC5",
                "#B0BEC5",
                "#B0BEC5",
                "#B0BEC5",
                "#B0BEC5",
                "#B0BEC5",
                "#B0BEC5",
                "#B0BEC5",
                "#B0BEC5",
                "#B0BEC5",
                "#B0BEC5"
               ]
              ]
             }
            ],
            "label": "Topic 29",
            "method": "update"
           },
           {
            "args": [
             {
              "marker.color": [
               [
                "#B0BEC5",
                "#B0BEC5",
                "#B0BEC5",
                "#B0BEC5",
                "#B0BEC5",
                "#B0BEC5",
                "#B0BEC5",
                "#B0BEC5",
                "#B0BEC5",
                "#B0BEC5",
                "#B0BEC5",
                "#B0BEC5",
                "#B0BEC5",
                "#B0BEC5",
                "#B0BEC5",
                "#B0BEC5",
                "#B0BEC5",
                "#B0BEC5",
                "#B0BEC5",
                "#B0BEC5",
                "#B0BEC5",
                "#B0BEC5",
                "#B0BEC5",
                "#B0BEC5",
                "#B0BEC5",
                "#B0BEC5",
                "#B0BEC5",
                "#B0BEC5",
                "#B0BEC5",
                "#B0BEC5",
                "red",
                "#B0BEC5",
                "#B0BEC5",
                "#B0BEC5",
                "#B0BEC5",
                "#B0BEC5",
                "#B0BEC5",
                "#B0BEC5",
                "#B0BEC5",
                "#B0BEC5",
                "#B0BEC5",
                "#B0BEC5",
                "#B0BEC5",
                "#B0BEC5",
                "#B0BEC5",
                "#B0BEC5",
                "#B0BEC5"
               ]
              ]
             }
            ],
            "label": "Topic 30",
            "method": "update"
           },
           {
            "args": [
             {
              "marker.color": [
               [
                "#B0BEC5",
                "#B0BEC5",
                "#B0BEC5",
                "#B0BEC5",
                "#B0BEC5",
                "#B0BEC5",
                "#B0BEC5",
                "#B0BEC5",
                "#B0BEC5",
                "#B0BEC5",
                "#B0BEC5",
                "#B0BEC5",
                "#B0BEC5",
                "#B0BEC5",
                "#B0BEC5",
                "#B0BEC5",
                "#B0BEC5",
                "#B0BEC5",
                "#B0BEC5",
                "#B0BEC5",
                "#B0BEC5",
                "#B0BEC5",
                "#B0BEC5",
                "#B0BEC5",
                "#B0BEC5",
                "#B0BEC5",
                "#B0BEC5",
                "#B0BEC5",
                "#B0BEC5",
                "#B0BEC5",
                "#B0BEC5",
                "red",
                "#B0BEC5",
                "#B0BEC5",
                "#B0BEC5",
                "#B0BEC5",
                "#B0BEC5",
                "#B0BEC5",
                "#B0BEC5",
                "#B0BEC5",
                "#B0BEC5",
                "#B0BEC5",
                "#B0BEC5",
                "#B0BEC5",
                "#B0BEC5",
                "#B0BEC5",
                "#B0BEC5"
               ]
              ]
             }
            ],
            "label": "Topic 31",
            "method": "update"
           },
           {
            "args": [
             {
              "marker.color": [
               [
                "#B0BEC5",
                "#B0BEC5",
                "#B0BEC5",
                "#B0BEC5",
                "#B0BEC5",
                "#B0BEC5",
                "#B0BEC5",
                "#B0BEC5",
                "#B0BEC5",
                "#B0BEC5",
                "#B0BEC5",
                "#B0BEC5",
                "#B0BEC5",
                "#B0BEC5",
                "#B0BEC5",
                "#B0BEC5",
                "#B0BEC5",
                "#B0BEC5",
                "#B0BEC5",
                "#B0BEC5",
                "#B0BEC5",
                "#B0BEC5",
                "#B0BEC5",
                "#B0BEC5",
                "#B0BEC5",
                "#B0BEC5",
                "#B0BEC5",
                "#B0BEC5",
                "#B0BEC5",
                "#B0BEC5",
                "#B0BEC5",
                "#B0BEC5",
                "red",
                "#B0BEC5",
                "#B0BEC5",
                "#B0BEC5",
                "#B0BEC5",
                "#B0BEC5",
                "#B0BEC5",
                "#B0BEC5",
                "#B0BEC5",
                "#B0BEC5",
                "#B0BEC5",
                "#B0BEC5",
                "#B0BEC5",
                "#B0BEC5",
                "#B0BEC5"
               ]
              ]
             }
            ],
            "label": "Topic 32",
            "method": "update"
           },
           {
            "args": [
             {
              "marker.color": [
               [
                "#B0BEC5",
                "#B0BEC5",
                "#B0BEC5",
                "#B0BEC5",
                "#B0BEC5",
                "#B0BEC5",
                "#B0BEC5",
                "#B0BEC5",
                "#B0BEC5",
                "#B0BEC5",
                "#B0BEC5",
                "#B0BEC5",
                "#B0BEC5",
                "#B0BEC5",
                "#B0BEC5",
                "#B0BEC5",
                "#B0BEC5",
                "#B0BEC5",
                "#B0BEC5",
                "#B0BEC5",
                "#B0BEC5",
                "#B0BEC5",
                "#B0BEC5",
                "#B0BEC5",
                "#B0BEC5",
                "#B0BEC5",
                "#B0BEC5",
                "#B0BEC5",
                "#B0BEC5",
                "#B0BEC5",
                "#B0BEC5",
                "#B0BEC5",
                "#B0BEC5",
                "red",
                "#B0BEC5",
                "#B0BEC5",
                "#B0BEC5",
                "#B0BEC5",
                "#B0BEC5",
                "#B0BEC5",
                "#B0BEC5",
                "#B0BEC5",
                "#B0BEC5",
                "#B0BEC5",
                "#B0BEC5",
                "#B0BEC5",
                "#B0BEC5"
               ]
              ]
             }
            ],
            "label": "Topic 33",
            "method": "update"
           },
           {
            "args": [
             {
              "marker.color": [
               [
                "#B0BEC5",
                "#B0BEC5",
                "#B0BEC5",
                "#B0BEC5",
                "#B0BEC5",
                "#B0BEC5",
                "#B0BEC5",
                "#B0BEC5",
                "#B0BEC5",
                "#B0BEC5",
                "#B0BEC5",
                "#B0BEC5",
                "#B0BEC5",
                "#B0BEC5",
                "#B0BEC5",
                "#B0BEC5",
                "#B0BEC5",
                "#B0BEC5",
                "#B0BEC5",
                "#B0BEC5",
                "#B0BEC5",
                "#B0BEC5",
                "#B0BEC5",
                "#B0BEC5",
                "#B0BEC5",
                "#B0BEC5",
                "#B0BEC5",
                "#B0BEC5",
                "#B0BEC5",
                "#B0BEC5",
                "#B0BEC5",
                "#B0BEC5",
                "#B0BEC5",
                "#B0BEC5",
                "red",
                "#B0BEC5",
                "#B0BEC5",
                "#B0BEC5",
                "#B0BEC5",
                "#B0BEC5",
                "#B0BEC5",
                "#B0BEC5",
                "#B0BEC5",
                "#B0BEC5",
                "#B0BEC5",
                "#B0BEC5",
                "#B0BEC5"
               ]
              ]
             }
            ],
            "label": "Topic 34",
            "method": "update"
           },
           {
            "args": [
             {
              "marker.color": [
               [
                "#B0BEC5",
                "#B0BEC5",
                "#B0BEC5",
                "#B0BEC5",
                "#B0BEC5",
                "#B0BEC5",
                "#B0BEC5",
                "#B0BEC5",
                "#B0BEC5",
                "#B0BEC5",
                "#B0BEC5",
                "#B0BEC5",
                "#B0BEC5",
                "#B0BEC5",
                "#B0BEC5",
                "#B0BEC5",
                "#B0BEC5",
                "#B0BEC5",
                "#B0BEC5",
                "#B0BEC5",
                "#B0BEC5",
                "#B0BEC5",
                "#B0BEC5",
                "#B0BEC5",
                "#B0BEC5",
                "#B0BEC5",
                "#B0BEC5",
                "#B0BEC5",
                "#B0BEC5",
                "#B0BEC5",
                "#B0BEC5",
                "#B0BEC5",
                "#B0BEC5",
                "#B0BEC5",
                "#B0BEC5",
                "red",
                "#B0BEC5",
                "#B0BEC5",
                "#B0BEC5",
                "#B0BEC5",
                "#B0BEC5",
                "#B0BEC5",
                "#B0BEC5",
                "#B0BEC5",
                "#B0BEC5",
                "#B0BEC5",
                "#B0BEC5"
               ]
              ]
             }
            ],
            "label": "Topic 35",
            "method": "update"
           },
           {
            "args": [
             {
              "marker.color": [
               [
                "#B0BEC5",
                "#B0BEC5",
                "#B0BEC5",
                "#B0BEC5",
                "#B0BEC5",
                "#B0BEC5",
                "#B0BEC5",
                "#B0BEC5",
                "#B0BEC5",
                "#B0BEC5",
                "#B0BEC5",
                "#B0BEC5",
                "#B0BEC5",
                "#B0BEC5",
                "#B0BEC5",
                "#B0BEC5",
                "#B0BEC5",
                "#B0BEC5",
                "#B0BEC5",
                "#B0BEC5",
                "#B0BEC5",
                "#B0BEC5",
                "#B0BEC5",
                "#B0BEC5",
                "#B0BEC5",
                "#B0BEC5",
                "#B0BEC5",
                "#B0BEC5",
                "#B0BEC5",
                "#B0BEC5",
                "#B0BEC5",
                "#B0BEC5",
                "#B0BEC5",
                "#B0BEC5",
                "#B0BEC5",
                "#B0BEC5",
                "red",
                "#B0BEC5",
                "#B0BEC5",
                "#B0BEC5",
                "#B0BEC5",
                "#B0BEC5",
                "#B0BEC5",
                "#B0BEC5",
                "#B0BEC5",
                "#B0BEC5",
                "#B0BEC5"
               ]
              ]
             }
            ],
            "label": "Topic 36",
            "method": "update"
           },
           {
            "args": [
             {
              "marker.color": [
               [
                "#B0BEC5",
                "#B0BEC5",
                "#B0BEC5",
                "#B0BEC5",
                "#B0BEC5",
                "#B0BEC5",
                "#B0BEC5",
                "#B0BEC5",
                "#B0BEC5",
                "#B0BEC5",
                "#B0BEC5",
                "#B0BEC5",
                "#B0BEC5",
                "#B0BEC5",
                "#B0BEC5",
                "#B0BEC5",
                "#B0BEC5",
                "#B0BEC5",
                "#B0BEC5",
                "#B0BEC5",
                "#B0BEC5",
                "#B0BEC5",
                "#B0BEC5",
                "#B0BEC5",
                "#B0BEC5",
                "#B0BEC5",
                "#B0BEC5",
                "#B0BEC5",
                "#B0BEC5",
                "#B0BEC5",
                "#B0BEC5",
                "#B0BEC5",
                "#B0BEC5",
                "#B0BEC5",
                "#B0BEC5",
                "#B0BEC5",
                "#B0BEC5",
                "red",
                "#B0BEC5",
                "#B0BEC5",
                "#B0BEC5",
                "#B0BEC5",
                "#B0BEC5",
                "#B0BEC5",
                "#B0BEC5",
                "#B0BEC5",
                "#B0BEC5"
               ]
              ]
             }
            ],
            "label": "Topic 37",
            "method": "update"
           },
           {
            "args": [
             {
              "marker.color": [
               [
                "#B0BEC5",
                "#B0BEC5",
                "#B0BEC5",
                "#B0BEC5",
                "#B0BEC5",
                "#B0BEC5",
                "#B0BEC5",
                "#B0BEC5",
                "#B0BEC5",
                "#B0BEC5",
                "#B0BEC5",
                "#B0BEC5",
                "#B0BEC5",
                "#B0BEC5",
                "#B0BEC5",
                "#B0BEC5",
                "#B0BEC5",
                "#B0BEC5",
                "#B0BEC5",
                "#B0BEC5",
                "#B0BEC5",
                "#B0BEC5",
                "#B0BEC5",
                "#B0BEC5",
                "#B0BEC5",
                "#B0BEC5",
                "#B0BEC5",
                "#B0BEC5",
                "#B0BEC5",
                "#B0BEC5",
                "#B0BEC5",
                "#B0BEC5",
                "#B0BEC5",
                "#B0BEC5",
                "#B0BEC5",
                "#B0BEC5",
                "#B0BEC5",
                "#B0BEC5",
                "red",
                "#B0BEC5",
                "#B0BEC5",
                "#B0BEC5",
                "#B0BEC5",
                "#B0BEC5",
                "#B0BEC5",
                "#B0BEC5",
                "#B0BEC5"
               ]
              ]
             }
            ],
            "label": "Topic 38",
            "method": "update"
           },
           {
            "args": [
             {
              "marker.color": [
               [
                "#B0BEC5",
                "#B0BEC5",
                "#B0BEC5",
                "#B0BEC5",
                "#B0BEC5",
                "#B0BEC5",
                "#B0BEC5",
                "#B0BEC5",
                "#B0BEC5",
                "#B0BEC5",
                "#B0BEC5",
                "#B0BEC5",
                "#B0BEC5",
                "#B0BEC5",
                "#B0BEC5",
                "#B0BEC5",
                "#B0BEC5",
                "#B0BEC5",
                "#B0BEC5",
                "#B0BEC5",
                "#B0BEC5",
                "#B0BEC5",
                "#B0BEC5",
                "#B0BEC5",
                "#B0BEC5",
                "#B0BEC5",
                "#B0BEC5",
                "#B0BEC5",
                "#B0BEC5",
                "#B0BEC5",
                "#B0BEC5",
                "#B0BEC5",
                "#B0BEC5",
                "#B0BEC5",
                "#B0BEC5",
                "#B0BEC5",
                "#B0BEC5",
                "#B0BEC5",
                "#B0BEC5",
                "red",
                "#B0BEC5",
                "#B0BEC5",
                "#B0BEC5",
                "#B0BEC5",
                "#B0BEC5",
                "#B0BEC5",
                "#B0BEC5"
               ]
              ]
             }
            ],
            "label": "Topic 39",
            "method": "update"
           },
           {
            "args": [
             {
              "marker.color": [
               [
                "#B0BEC5",
                "#B0BEC5",
                "#B0BEC5",
                "#B0BEC5",
                "#B0BEC5",
                "#B0BEC5",
                "#B0BEC5",
                "#B0BEC5",
                "#B0BEC5",
                "#B0BEC5",
                "#B0BEC5",
                "#B0BEC5",
                "#B0BEC5",
                "#B0BEC5",
                "#B0BEC5",
                "#B0BEC5",
                "#B0BEC5",
                "#B0BEC5",
                "#B0BEC5",
                "#B0BEC5",
                "#B0BEC5",
                "#B0BEC5",
                "#B0BEC5",
                "#B0BEC5",
                "#B0BEC5",
                "#B0BEC5",
                "#B0BEC5",
                "#B0BEC5",
                "#B0BEC5",
                "#B0BEC5",
                "#B0BEC5",
                "#B0BEC5",
                "#B0BEC5",
                "#B0BEC5",
                "#B0BEC5",
                "#B0BEC5",
                "#B0BEC5",
                "#B0BEC5",
                "#B0BEC5",
                "#B0BEC5",
                "red",
                "#B0BEC5",
                "#B0BEC5",
                "#B0BEC5",
                "#B0BEC5",
                "#B0BEC5",
                "#B0BEC5"
               ]
              ]
             }
            ],
            "label": "Topic 40",
            "method": "update"
           },
           {
            "args": [
             {
              "marker.color": [
               [
                "#B0BEC5",
                "#B0BEC5",
                "#B0BEC5",
                "#B0BEC5",
                "#B0BEC5",
                "#B0BEC5",
                "#B0BEC5",
                "#B0BEC5",
                "#B0BEC5",
                "#B0BEC5",
                "#B0BEC5",
                "#B0BEC5",
                "#B0BEC5",
                "#B0BEC5",
                "#B0BEC5",
                "#B0BEC5",
                "#B0BEC5",
                "#B0BEC5",
                "#B0BEC5",
                "#B0BEC5",
                "#B0BEC5",
                "#B0BEC5",
                "#B0BEC5",
                "#B0BEC5",
                "#B0BEC5",
                "#B0BEC5",
                "#B0BEC5",
                "#B0BEC5",
                "#B0BEC5",
                "#B0BEC5",
                "#B0BEC5",
                "#B0BEC5",
                "#B0BEC5",
                "#B0BEC5",
                "#B0BEC5",
                "#B0BEC5",
                "#B0BEC5",
                "#B0BEC5",
                "#B0BEC5",
                "#B0BEC5",
                "#B0BEC5",
                "red",
                "#B0BEC5",
                "#B0BEC5",
                "#B0BEC5",
                "#B0BEC5",
                "#B0BEC5"
               ]
              ]
             }
            ],
            "label": "Topic 41",
            "method": "update"
           },
           {
            "args": [
             {
              "marker.color": [
               [
                "#B0BEC5",
                "#B0BEC5",
                "#B0BEC5",
                "#B0BEC5",
                "#B0BEC5",
                "#B0BEC5",
                "#B0BEC5",
                "#B0BEC5",
                "#B0BEC5",
                "#B0BEC5",
                "#B0BEC5",
                "#B0BEC5",
                "#B0BEC5",
                "#B0BEC5",
                "#B0BEC5",
                "#B0BEC5",
                "#B0BEC5",
                "#B0BEC5",
                "#B0BEC5",
                "#B0BEC5",
                "#B0BEC5",
                "#B0BEC5",
                "#B0BEC5",
                "#B0BEC5",
                "#B0BEC5",
                "#B0BEC5",
                "#B0BEC5",
                "#B0BEC5",
                "#B0BEC5",
                "#B0BEC5",
                "#B0BEC5",
                "#B0BEC5",
                "#B0BEC5",
                "#B0BEC5",
                "#B0BEC5",
                "#B0BEC5",
                "#B0BEC5",
                "#B0BEC5",
                "#B0BEC5",
                "#B0BEC5",
                "#B0BEC5",
                "#B0BEC5",
                "red",
                "#B0BEC5",
                "#B0BEC5",
                "#B0BEC5",
                "#B0BEC5"
               ]
              ]
             }
            ],
            "label": "Topic 42",
            "method": "update"
           },
           {
            "args": [
             {
              "marker.color": [
               [
                "#B0BEC5",
                "#B0BEC5",
                "#B0BEC5",
                "#B0BEC5",
                "#B0BEC5",
                "#B0BEC5",
                "#B0BEC5",
                "#B0BEC5",
                "#B0BEC5",
                "#B0BEC5",
                "#B0BEC5",
                "#B0BEC5",
                "#B0BEC5",
                "#B0BEC5",
                "#B0BEC5",
                "#B0BEC5",
                "#B0BEC5",
                "#B0BEC5",
                "#B0BEC5",
                "#B0BEC5",
                "#B0BEC5",
                "#B0BEC5",
                "#B0BEC5",
                "#B0BEC5",
                "#B0BEC5",
                "#B0BEC5",
                "#B0BEC5",
                "#B0BEC5",
                "#B0BEC5",
                "#B0BEC5",
                "#B0BEC5",
                "#B0BEC5",
                "#B0BEC5",
                "#B0BEC5",
                "#B0BEC5",
                "#B0BEC5",
                "#B0BEC5",
                "#B0BEC5",
                "#B0BEC5",
                "#B0BEC5",
                "#B0BEC5",
                "#B0BEC5",
                "#B0BEC5",
                "red",
                "#B0BEC5",
                "#B0BEC5",
                "#B0BEC5"
               ]
              ]
             }
            ],
            "label": "Topic 43",
            "method": "update"
           },
           {
            "args": [
             {
              "marker.color": [
               [
                "#B0BEC5",
                "#B0BEC5",
                "#B0BEC5",
                "#B0BEC5",
                "#B0BEC5",
                "#B0BEC5",
                "#B0BEC5",
                "#B0BEC5",
                "#B0BEC5",
                "#B0BEC5",
                "#B0BEC5",
                "#B0BEC5",
                "#B0BEC5",
                "#B0BEC5",
                "#B0BEC5",
                "#B0BEC5",
                "#B0BEC5",
                "#B0BEC5",
                "#B0BEC5",
                "#B0BEC5",
                "#B0BEC5",
                "#B0BEC5",
                "#B0BEC5",
                "#B0BEC5",
                "#B0BEC5",
                "#B0BEC5",
                "#B0BEC5",
                "#B0BEC5",
                "#B0BEC5",
                "#B0BEC5",
                "#B0BEC5",
                "#B0BEC5",
                "#B0BEC5",
                "#B0BEC5",
                "#B0BEC5",
                "#B0BEC5",
                "#B0BEC5",
                "#B0BEC5",
                "#B0BEC5",
                "#B0BEC5",
                "#B0BEC5",
                "#B0BEC5",
                "#B0BEC5",
                "#B0BEC5",
                "red",
                "#B0BEC5",
                "#B0BEC5"
               ]
              ]
             }
            ],
            "label": "Topic 44",
            "method": "update"
           },
           {
            "args": [
             {
              "marker.color": [
               [
                "#B0BEC5",
                "#B0BEC5",
                "#B0BEC5",
                "#B0BEC5",
                "#B0BEC5",
                "#B0BEC5",
                "#B0BEC5",
                "#B0BEC5",
                "#B0BEC5",
                "#B0BEC5",
                "#B0BEC5",
                "#B0BEC5",
                "#B0BEC5",
                "#B0BEC5",
                "#B0BEC5",
                "#B0BEC5",
                "#B0BEC5",
                "#B0BEC5",
                "#B0BEC5",
                "#B0BEC5",
                "#B0BEC5",
                "#B0BEC5",
                "#B0BEC5",
                "#B0BEC5",
                "#B0BEC5",
                "#B0BEC5",
                "#B0BEC5",
                "#B0BEC5",
                "#B0BEC5",
                "#B0BEC5",
                "#B0BEC5",
                "#B0BEC5",
                "#B0BEC5",
                "#B0BEC5",
                "#B0BEC5",
                "#B0BEC5",
                "#B0BEC5",
                "#B0BEC5",
                "#B0BEC5",
                "#B0BEC5",
                "#B0BEC5",
                "#B0BEC5",
                "#B0BEC5",
                "#B0BEC5",
                "#B0BEC5",
                "red",
                "#B0BEC5"
               ]
              ]
             }
            ],
            "label": "Topic 45",
            "method": "update"
           },
           {
            "args": [
             {
              "marker.color": [
               [
                "#B0BEC5",
                "#B0BEC5",
                "#B0BEC5",
                "#B0BEC5",
                "#B0BEC5",
                "#B0BEC5",
                "#B0BEC5",
                "#B0BEC5",
                "#B0BEC5",
                "#B0BEC5",
                "#B0BEC5",
                "#B0BEC5",
                "#B0BEC5",
                "#B0BEC5",
                "#B0BEC5",
                "#B0BEC5",
                "#B0BEC5",
                "#B0BEC5",
                "#B0BEC5",
                "#B0BEC5",
                "#B0BEC5",
                "#B0BEC5",
                "#B0BEC5",
                "#B0BEC5",
                "#B0BEC5",
                "#B0BEC5",
                "#B0BEC5",
                "#B0BEC5",
                "#B0BEC5",
                "#B0BEC5",
                "#B0BEC5",
                "#B0BEC5",
                "#B0BEC5",
                "#B0BEC5",
                "#B0BEC5",
                "#B0BEC5",
                "#B0BEC5",
                "#B0BEC5",
                "#B0BEC5",
                "#B0BEC5",
                "#B0BEC5",
                "#B0BEC5",
                "#B0BEC5",
                "#B0BEC5",
                "#B0BEC5",
                "#B0BEC5",
                "red"
               ]
              ]
             }
            ],
            "label": "Topic 46",
            "method": "update"
           }
          ]
         }
        ],
        "template": {
         "data": {
          "bar": [
           {
            "error_x": {
             "color": "rgb(36,36,36)"
            },
            "error_y": {
             "color": "rgb(36,36,36)"
            },
            "marker": {
             "line": {
              "color": "white",
              "width": 0.5
             },
             "pattern": {
              "fillmode": "overlay",
              "size": 10,
              "solidity": 0.2
             }
            },
            "type": "bar"
           }
          ],
          "barpolar": [
           {
            "marker": {
             "line": {
              "color": "white",
              "width": 0.5
             },
             "pattern": {
              "fillmode": "overlay",
              "size": 10,
              "solidity": 0.2
             }
            },
            "type": "barpolar"
           }
          ],
          "carpet": [
           {
            "aaxis": {
             "endlinecolor": "rgb(36,36,36)",
             "gridcolor": "white",
             "linecolor": "white",
             "minorgridcolor": "white",
             "startlinecolor": "rgb(36,36,36)"
            },
            "baxis": {
             "endlinecolor": "rgb(36,36,36)",
             "gridcolor": "white",
             "linecolor": "white",
             "minorgridcolor": "white",
             "startlinecolor": "rgb(36,36,36)"
            },
            "type": "carpet"
           }
          ],
          "choropleth": [
           {
            "colorbar": {
             "outlinewidth": 1,
             "tickcolor": "rgb(36,36,36)",
             "ticks": "outside"
            },
            "type": "choropleth"
           }
          ],
          "contour": [
           {
            "colorbar": {
             "outlinewidth": 1,
             "tickcolor": "rgb(36,36,36)",
             "ticks": "outside"
            },
            "colorscale": [
             [
              0,
              "#440154"
             ],
             [
              0.1111111111111111,
              "#482878"
             ],
             [
              0.2222222222222222,
              "#3e4989"
             ],
             [
              0.3333333333333333,
              "#31688e"
             ],
             [
              0.4444444444444444,
              "#26828e"
             ],
             [
              0.5555555555555556,
              "#1f9e89"
             ],
             [
              0.6666666666666666,
              "#35b779"
             ],
             [
              0.7777777777777778,
              "#6ece58"
             ],
             [
              0.8888888888888888,
              "#b5de2b"
             ],
             [
              1,
              "#fde725"
             ]
            ],
            "type": "contour"
           }
          ],
          "contourcarpet": [
           {
            "colorbar": {
             "outlinewidth": 1,
             "tickcolor": "rgb(36,36,36)",
             "ticks": "outside"
            },
            "type": "contourcarpet"
           }
          ],
          "heatmap": [
           {
            "colorbar": {
             "outlinewidth": 1,
             "tickcolor": "rgb(36,36,36)",
             "ticks": "outside"
            },
            "colorscale": [
             [
              0,
              "#440154"
             ],
             [
              0.1111111111111111,
              "#482878"
             ],
             [
              0.2222222222222222,
              "#3e4989"
             ],
             [
              0.3333333333333333,
              "#31688e"
             ],
             [
              0.4444444444444444,
              "#26828e"
             ],
             [
              0.5555555555555556,
              "#1f9e89"
             ],
             [
              0.6666666666666666,
              "#35b779"
             ],
             [
              0.7777777777777778,
              "#6ece58"
             ],
             [
              0.8888888888888888,
              "#b5de2b"
             ],
             [
              1,
              "#fde725"
             ]
            ],
            "type": "heatmap"
           }
          ],
          "heatmapgl": [
           {
            "colorbar": {
             "outlinewidth": 1,
             "tickcolor": "rgb(36,36,36)",
             "ticks": "outside"
            },
            "colorscale": [
             [
              0,
              "#440154"
             ],
             [
              0.1111111111111111,
              "#482878"
             ],
             [
              0.2222222222222222,
              "#3e4989"
             ],
             [
              0.3333333333333333,
              "#31688e"
             ],
             [
              0.4444444444444444,
              "#26828e"
             ],
             [
              0.5555555555555556,
              "#1f9e89"
             ],
             [
              0.6666666666666666,
              "#35b779"
             ],
             [
              0.7777777777777778,
              "#6ece58"
             ],
             [
              0.8888888888888888,
              "#b5de2b"
             ],
             [
              1,
              "#fde725"
             ]
            ],
            "type": "heatmapgl"
           }
          ],
          "histogram": [
           {
            "marker": {
             "line": {
              "color": "white",
              "width": 0.6
             }
            },
            "type": "histogram"
           }
          ],
          "histogram2d": [
           {
            "colorbar": {
             "outlinewidth": 1,
             "tickcolor": "rgb(36,36,36)",
             "ticks": "outside"
            },
            "colorscale": [
             [
              0,
              "#440154"
             ],
             [
              0.1111111111111111,
              "#482878"
             ],
             [
              0.2222222222222222,
              "#3e4989"
             ],
             [
              0.3333333333333333,
              "#31688e"
             ],
             [
              0.4444444444444444,
              "#26828e"
             ],
             [
              0.5555555555555556,
              "#1f9e89"
             ],
             [
              0.6666666666666666,
              "#35b779"
             ],
             [
              0.7777777777777778,
              "#6ece58"
             ],
             [
              0.8888888888888888,
              "#b5de2b"
             ],
             [
              1,
              "#fde725"
             ]
            ],
            "type": "histogram2d"
           }
          ],
          "histogram2dcontour": [
           {
            "colorbar": {
             "outlinewidth": 1,
             "tickcolor": "rgb(36,36,36)",
             "ticks": "outside"
            },
            "colorscale": [
             [
              0,
              "#440154"
             ],
             [
              0.1111111111111111,
              "#482878"
             ],
             [
              0.2222222222222222,
              "#3e4989"
             ],
             [
              0.3333333333333333,
              "#31688e"
             ],
             [
              0.4444444444444444,
              "#26828e"
             ],
             [
              0.5555555555555556,
              "#1f9e89"
             ],
             [
              0.6666666666666666,
              "#35b779"
             ],
             [
              0.7777777777777778,
              "#6ece58"
             ],
             [
              0.8888888888888888,
              "#b5de2b"
             ],
             [
              1,
              "#fde725"
             ]
            ],
            "type": "histogram2dcontour"
           }
          ],
          "mesh3d": [
           {
            "colorbar": {
             "outlinewidth": 1,
             "tickcolor": "rgb(36,36,36)",
             "ticks": "outside"
            },
            "type": "mesh3d"
           }
          ],
          "parcoords": [
           {
            "line": {
             "colorbar": {
              "outlinewidth": 1,
              "tickcolor": "rgb(36,36,36)",
              "ticks": "outside"
             }
            },
            "type": "parcoords"
           }
          ],
          "pie": [
           {
            "automargin": true,
            "type": "pie"
           }
          ],
          "scatter": [
           {
            "fillpattern": {
             "fillmode": "overlay",
             "size": 10,
             "solidity": 0.2
            },
            "type": "scatter"
           }
          ],
          "scatter3d": [
           {
            "line": {
             "colorbar": {
              "outlinewidth": 1,
              "tickcolor": "rgb(36,36,36)",
              "ticks": "outside"
             }
            },
            "marker": {
             "colorbar": {
              "outlinewidth": 1,
              "tickcolor": "rgb(36,36,36)",
              "ticks": "outside"
             }
            },
            "type": "scatter3d"
           }
          ],
          "scattercarpet": [
           {
            "marker": {
             "colorbar": {
              "outlinewidth": 1,
              "tickcolor": "rgb(36,36,36)",
              "ticks": "outside"
             }
            },
            "type": "scattercarpet"
           }
          ],
          "scattergeo": [
           {
            "marker": {
             "colorbar": {
              "outlinewidth": 1,
              "tickcolor": "rgb(36,36,36)",
              "ticks": "outside"
             }
            },
            "type": "scattergeo"
           }
          ],
          "scattergl": [
           {
            "marker": {
             "colorbar": {
              "outlinewidth": 1,
              "tickcolor": "rgb(36,36,36)",
              "ticks": "outside"
             }
            },
            "type": "scattergl"
           }
          ],
          "scattermapbox": [
           {
            "marker": {
             "colorbar": {
              "outlinewidth": 1,
              "tickcolor": "rgb(36,36,36)",
              "ticks": "outside"
             }
            },
            "type": "scattermapbox"
           }
          ],
          "scatterpolar": [
           {
            "marker": {
             "colorbar": {
              "outlinewidth": 1,
              "tickcolor": "rgb(36,36,36)",
              "ticks": "outside"
             }
            },
            "type": "scatterpolar"
           }
          ],
          "scatterpolargl": [
           {
            "marker": {
             "colorbar": {
              "outlinewidth": 1,
              "tickcolor": "rgb(36,36,36)",
              "ticks": "outside"
             }
            },
            "type": "scatterpolargl"
           }
          ],
          "scatterternary": [
           {
            "marker": {
             "colorbar": {
              "outlinewidth": 1,
              "tickcolor": "rgb(36,36,36)",
              "ticks": "outside"
             }
            },
            "type": "scatterternary"
           }
          ],
          "surface": [
           {
            "colorbar": {
             "outlinewidth": 1,
             "tickcolor": "rgb(36,36,36)",
             "ticks": "outside"
            },
            "colorscale": [
             [
              0,
              "#440154"
             ],
             [
              0.1111111111111111,
              "#482878"
             ],
             [
              0.2222222222222222,
              "#3e4989"
             ],
             [
              0.3333333333333333,
              "#31688e"
             ],
             [
              0.4444444444444444,
              "#26828e"
             ],
             [
              0.5555555555555556,
              "#1f9e89"
             ],
             [
              0.6666666666666666,
              "#35b779"
             ],
             [
              0.7777777777777778,
              "#6ece58"
             ],
             [
              0.8888888888888888,
              "#b5de2b"
             ],
             [
              1,
              "#fde725"
             ]
            ],
            "type": "surface"
           }
          ],
          "table": [
           {
            "cells": {
             "fill": {
              "color": "rgb(237,237,237)"
             },
             "line": {
              "color": "white"
             }
            },
            "header": {
             "fill": {
              "color": "rgb(217,217,217)"
             },
             "line": {
              "color": "white"
             }
            },
            "type": "table"
           }
          ]
         },
         "layout": {
          "annotationdefaults": {
           "arrowhead": 0,
           "arrowwidth": 1
          },
          "autotypenumbers": "strict",
          "coloraxis": {
           "colorbar": {
            "outlinewidth": 1,
            "tickcolor": "rgb(36,36,36)",
            "ticks": "outside"
           }
          },
          "colorscale": {
           "diverging": [
            [
             0,
             "rgb(103,0,31)"
            ],
            [
             0.1,
             "rgb(178,24,43)"
            ],
            [
             0.2,
             "rgb(214,96,77)"
            ],
            [
             0.3,
             "rgb(244,165,130)"
            ],
            [
             0.4,
             "rgb(253,219,199)"
            ],
            [
             0.5,
             "rgb(247,247,247)"
            ],
            [
             0.6,
             "rgb(209,229,240)"
            ],
            [
             0.7,
             "rgb(146,197,222)"
            ],
            [
             0.8,
             "rgb(67,147,195)"
            ],
            [
             0.9,
             "rgb(33,102,172)"
            ],
            [
             1,
             "rgb(5,48,97)"
            ]
           ],
           "sequential": [
            [
             0,
             "#440154"
            ],
            [
             0.1111111111111111,
             "#482878"
            ],
            [
             0.2222222222222222,
             "#3e4989"
            ],
            [
             0.3333333333333333,
             "#31688e"
            ],
            [
             0.4444444444444444,
             "#26828e"
            ],
            [
             0.5555555555555556,
             "#1f9e89"
            ],
            [
             0.6666666666666666,
             "#35b779"
            ],
            [
             0.7777777777777778,
             "#6ece58"
            ],
            [
             0.8888888888888888,
             "#b5de2b"
            ],
            [
             1,
             "#fde725"
            ]
           ],
           "sequentialminus": [
            [
             0,
             "#440154"
            ],
            [
             0.1111111111111111,
             "#482878"
            ],
            [
             0.2222222222222222,
             "#3e4989"
            ],
            [
             0.3333333333333333,
             "#31688e"
            ],
            [
             0.4444444444444444,
             "#26828e"
            ],
            [
             0.5555555555555556,
             "#1f9e89"
            ],
            [
             0.6666666666666666,
             "#35b779"
            ],
            [
             0.7777777777777778,
             "#6ece58"
            ],
            [
             0.8888888888888888,
             "#b5de2b"
            ],
            [
             1,
             "#fde725"
            ]
           ]
          },
          "colorway": [
           "#1F77B4",
           "#FF7F0E",
           "#2CA02C",
           "#D62728",
           "#9467BD",
           "#8C564B",
           "#E377C2",
           "#7F7F7F",
           "#BCBD22",
           "#17BECF"
          ],
          "font": {
           "color": "rgb(36,36,36)"
          },
          "geo": {
           "bgcolor": "white",
           "lakecolor": "white",
           "landcolor": "white",
           "showlakes": true,
           "showland": true,
           "subunitcolor": "white"
          },
          "hoverlabel": {
           "align": "left"
          },
          "hovermode": "closest",
          "mapbox": {
           "style": "light"
          },
          "paper_bgcolor": "white",
          "plot_bgcolor": "white",
          "polar": {
           "angularaxis": {
            "gridcolor": "rgb(232,232,232)",
            "linecolor": "rgb(36,36,36)",
            "showgrid": false,
            "showline": true,
            "ticks": "outside"
           },
           "bgcolor": "white",
           "radialaxis": {
            "gridcolor": "rgb(232,232,232)",
            "linecolor": "rgb(36,36,36)",
            "showgrid": false,
            "showline": true,
            "ticks": "outside"
           }
          },
          "scene": {
           "xaxis": {
            "backgroundcolor": "white",
            "gridcolor": "rgb(232,232,232)",
            "gridwidth": 2,
            "linecolor": "rgb(36,36,36)",
            "showbackground": true,
            "showgrid": false,
            "showline": true,
            "ticks": "outside",
            "zeroline": false,
            "zerolinecolor": "rgb(36,36,36)"
           },
           "yaxis": {
            "backgroundcolor": "white",
            "gridcolor": "rgb(232,232,232)",
            "gridwidth": 2,
            "linecolor": "rgb(36,36,36)",
            "showbackground": true,
            "showgrid": false,
            "showline": true,
            "ticks": "outside",
            "zeroline": false,
            "zerolinecolor": "rgb(36,36,36)"
           },
           "zaxis": {
            "backgroundcolor": "white",
            "gridcolor": "rgb(232,232,232)",
            "gridwidth": 2,
            "linecolor": "rgb(36,36,36)",
            "showbackground": true,
            "showgrid": false,
            "showline": true,
            "ticks": "outside",
            "zeroline": false,
            "zerolinecolor": "rgb(36,36,36)"
           }
          },
          "shapedefaults": {
           "fillcolor": "black",
           "line": {
            "width": 0
           },
           "opacity": 0.3
          },
          "ternary": {
           "aaxis": {
            "gridcolor": "rgb(232,232,232)",
            "linecolor": "rgb(36,36,36)",
            "showgrid": false,
            "showline": true,
            "ticks": "outside"
           },
           "baxis": {
            "gridcolor": "rgb(232,232,232)",
            "linecolor": "rgb(36,36,36)",
            "showgrid": false,
            "showline": true,
            "ticks": "outside"
           },
           "bgcolor": "white",
           "caxis": {
            "gridcolor": "rgb(232,232,232)",
            "linecolor": "rgb(36,36,36)",
            "showgrid": false,
            "showline": true,
            "ticks": "outside"
           }
          },
          "title": {
           "x": 0.05
          },
          "xaxis": {
           "automargin": true,
           "gridcolor": "rgb(232,232,232)",
           "linecolor": "rgb(36,36,36)",
           "showgrid": false,
           "showline": true,
           "ticks": "outside",
           "title": {
            "standoff": 15
           },
           "zeroline": false,
           "zerolinecolor": "rgb(36,36,36)"
          },
          "yaxis": {
           "automargin": true,
           "gridcolor": "rgb(232,232,232)",
           "linecolor": "rgb(36,36,36)",
           "showgrid": false,
           "showline": true,
           "ticks": "outside",
           "title": {
            "standoff": 15
           },
           "zeroline": false,
           "zerolinecolor": "rgb(36,36,36)"
          }
         }
        },
        "title": {
         "font": {
          "color": "Black",
          "size": 22
         },
         "text": "<b>Intertopic Distance Map",
         "x": 0.5,
         "xanchor": "center",
         "y": 0.95,
         "yanchor": "top"
        },
        "width": 650,
        "xaxis": {
         "anchor": "y",
         "domain": [
          0,
          1
         ],
         "range": [
          -16.511064767837524,
          22.130573081970216
         ],
         "title": {
          "text": ""
         },
         "type": "linear",
         "visible": false
        },
        "yaxis": {
         "anchor": "x",
         "domain": [
          0,
          1
         ],
         "range": [
          -18.32215223312378,
          17.078753995895386
         ],
         "title": {
          "text": ""
         },
         "type": "linear",
         "visible": false
        }
       }
      },
      "image/png": "[encoded data removed]",
      "text/html": [
       "<div>                            <div id=\"256ed07c-7df9-42d2-a6d0-06f55cda726c\" class=\"plotly-graph-div\" style=\"height:650px; width:650px;\"></div>            <script type=\"text/javascript\">                require([\"plotly\"], function(Plotly) {                    window.PLOTLYENV=window.PLOTLYENV || {};                                    if (document.getElementById(\"256ed07c-7df9-42d2-a6d0-06f55cda726c\")) {                    Plotly.newPlot(                        \"256ed07c-7df9-42d2-a6d0-06f55cda726c\",                        [{\"customdata\":[[0,\"language | text | word | knowledge | task\",10843],[1,\"reinforcement | rl | reward | control | agent\",6837],[2,\"privacy | federated | fl | private | communication\",5100],[3,\"gradient | stochastic | convergence | descent | convex\",5017],[4,\"logic | reasoning | semantics | ontology | knowledge\",4572],[5,\"segmentation | images | image | imaging | medical\",4314],[6,\"speech | audio | speaker | music | acoustic\",4020],[7,\"matrix | rank | tensor | sparse | low\",3666],[8,\"pruning | quantization | hardware | nas | search\",3539],[9,\"3d | object | segmentation | point | video\",3473],[10,\"adversarial | attacks | attack | robustness | examples\",3289],[11,\"regret | bandit | online | bandits | arm\",3099],[12,\"causal | treatment | variables | graphical | bayesian\",3074],[13,\"generative | gans | gan | latent | image\",2723],[14,\"detection | anomaly | malware | anomalies | security\",2713],[15,\"recommendation | recommender | users | ranking | recommendations\",2524],[16,\"explanations | interpretability | explainable | explainability | interpretable\",2314],[17,\"graph | node | graphs | gnns | nodes\",2265],[18,\"channel | wireless | communication | radio | resource\",2228],[19,\"molecular | protein | drug | molecules | chemical\",2180],[20,\"series | time | forecasting | stock | market\",2081],[21,\"equations | differential | physics | pdes | equation\",1967],[22,\"gaussian | posterior | variational | gp | bayesian\",1956],[23,\"patients | patient | clinical | health | medical\",1731],[24,\"classification | class | ensemble | trees | tree\",1705],[25,\"visual | image | video | text | language\",1484],[26,\"problems | search | solutions | solution | evolutionary\",1465],[27,\"climate | satellite | weather | images | imagery\",1302],[28,\"driving | autonomous | vehicle | vehicles | traffic\",1266],[29,\"clustering | means | clusters | cluster | manifold\",1234],[30,\"quantum | classical | circuits | circuit | states\",1177],[31,\"fairness | fair | bias | groups | discrimination\",1142],[32,\"energy | power | load | electricity | forecasting\",1108],[33,\"game | agent | agents | games | marl\",1070],[34,\"physics | galaxy | gravitational | particle | galaxies\",1004],[35,\"eeg | sleep | signals | brain | bci\",976],[36,\"program | programs | source | language | bug\",950],[37,\"traffic | temporal | spatial | travel | prediction\",900],[38,\"domain | adaptation | target | source | domains\",878],[39,\"meta | shot | tasks | classes | task\",829],[40,\"bo | bayesian | function | objective | acquisition\",784],[41,\"community | communities | block | nodes | clustering\",781],[42,\"spiking | snns | neuromorphic | snn | spike\",671],[43,\"continual | forgetting | catastrophic | tasks | incremental\",654],[44,\"cognitive | consciousness | turing | human | brain\",533],[45,\"brain | fmri | functional | neuroimaging | connectivity\",528],[46,\"activity | gait | har | recognition | sensor\",520]],\"hovertemplate\":\"<b>Topic %{customdata[0]}</b><br>Words: %{customdata[1]}<br>Size: %{customdata[2]}\",\"legendgroup\":\"\",\"marker\":{\"color\":\"#B0BEC5\",\"size\":[10843,6837,5100,5017,4572,4314,4020,3666,3539,3473,3289,3099,3074,2723,2713,2524,2314,2265,2228,2180,2081,1967,1956,1731,1705,1484,1465,1302,1266,1234,1177,1142,1108,1070,1004,976,950,900,878,829,784,781,671,654,533,528,520],\"sizemode\":\"area\",\"sizeref\":6.776875,\"symbol\":\"circle\",\"line\":{\"color\":\"DarkSlateGrey\",\"width\":2}},\"mode\":\"markers\",\"name\":\"\",\"orientation\":\"v\",\"showlegend\":false,\"x\":[3.4711756706237793,-7.545895099639893,-12.945761680603027,19.243976593017578,-14.14752197265625,-4.8616180419921875,3.224368095397949,19.0518856048584,4.28539514541626,-7.799363136291504,-13.152823448181152,-13.558768272399902,18.93562126159668,18.653024673461914,-13.067041397094727,-13.470602035522461,-14.117840766906738,3.930307388305664,-6.352786064147949,-5.12882661819458,-6.763172626495361,18.342588424682617,18.756277084350586,-5.053803443908691,3.9648263454437256,3.3821775913238525,18.174463272094727,-6.659205436706543,-7.452006816864014,10.248332977294922,4.549910068511963,-13.629218101501465,-6.713930130004883,-7.587070465087891,18.213043212890625,-5.71726655960083,-14.202366828918457,-7.0779643058776855,3.8440144062042236,3.882218837738037,18.30503273010254,10.327601432800293,4.491333484649658,4.160755157470703,-14.357447624206543,-5.617758274078369,-5.640651226043701],\"xaxis\":\"x\",\"y\":[-14.584457397460938,11.786434173583984,6.971323013305664,8.712059020996094,5.394265174865723,0.8670954704284668,-14.784684181213379,8.8670654296875,-15.63343620300293,11.989933013916016,6.750140190124512,6.040618419647217,9.133267402648926,9.099919319152832,6.858888626098633,6.114100456237793,5.4924821853637695,-14.886011123657227,11.653549194335938,0.6124370098114014,11.294418334960938,9.51445198059082,9.094199180603027,0.7744364142417908,-14.435345649719238,-14.676347732543945,8.433426856994629,11.418606758117676,12.022957801818848,14.851090431213379,-15.89617919921875,5.982363700866699,11.624227523803711,12.172491073608398,9.633196830749512,0.4307374954223633,5.588203430175781,11.792414665222168,-15.089018821716309,-14.830597877502441,8.540584564208984,14.77512264251709,-15.932306289672852,-15.506616592407227,5.76395845413208,0.160586878657341,0.1228206679224968],\"yaxis\":\"y\",\"type\":\"scatter\"}],                        {\"template\":{\"data\":{\"barpolar\":[{\"marker\":{\"line\":{\"color\":\"white\",\"width\":0.5},\"pattern\":{\"fillmode\":\"overlay\",\"size\":10,\"solidity\":0.2}},\"type\":\"barpolar\"}],\"bar\":[{\"error_x\":{\"color\":\"rgb(36,36,36)\"},\"error_y\":{\"color\":\"rgb(36,36,36)\"},\"marker\":{\"line\":{\"color\":\"white\",\"width\":0.5},\"pattern\":{\"fillmode\":\"overlay\",\"size\":10,\"solidity\":0.2}},\"type\":\"bar\"}],\"carpet\":[{\"aaxis\":{\"endlinecolor\":\"rgb(36,36,36)\",\"gridcolor\":\"white\",\"linecolor\":\"white\",\"minorgridcolor\":\"white\",\"startlinecolor\":\"rgb(36,36,36)\"},\"baxis\":{\"endlinecolor\":\"rgb(36,36,36)\",\"gridcolor\":\"white\",\"linecolor\":\"white\",\"minorgridcolor\":\"white\",\"startlinecolor\":\"rgb(36,36,36)\"},\"type\":\"carpet\"}],\"choropleth\":[{\"colorbar\":{\"outlinewidth\":1,\"tickcolor\":\"rgb(36,36,36)\",\"ticks\":\"outside\"},\"type\":\"choropleth\"}],\"contourcarpet\":[{\"colorbar\":{\"outlinewidth\":1,\"tickcolor\":\"rgb(36,36,36)\",\"ticks\":\"outside\"},\"type\":\"contourcarpet\"}],\"contour\":[{\"colorbar\":{\"outlinewidth\":1,\"tickcolor\":\"rgb(36,36,36)\",\"ticks\":\"outside\"},\"colorscale\":[[0.0,\"#440154\"],[0.1111111111111111,\"#482878\"],[0.2222222222222222,\"#3e4989\"],[0.3333333333333333,\"#31688e\"],[0.4444444444444444,\"#26828e\"],[0.5555555555555556,\"#1f9e89\"],[0.6666666666666666,\"#35b779\"],[0.7777777777777778,\"#6ece58\"],[0.8888888888888888,\"#b5de2b\"],[1.0,\"#fde725\"]],\"type\":\"contour\"}],\"heatmapgl\":[{\"colorbar\":{\"outlinewidth\":1,\"tickcolor\":\"rgb(36,36,36)\",\"ticks\":\"outside\"},\"colorscale\":[[0.0,\"#440154\"],[0.1111111111111111,\"#482878\"],[0.2222222222222222,\"#3e4989\"],[0.3333333333333333,\"#31688e\"],[0.4444444444444444,\"#26828e\"],[0.5555555555555556,\"#1f9e89\"],[0.6666666666666666,\"#35b779\"],[0.7777777777777778,\"#6ece58\"],[0.8888888888888888,\"#b5de2b\"],[1.0,\"#fde725\"]],\"type\":\"heatmapgl\"}],\"heatmap\":[{\"colorbar\":{\"outlinewidth\":1,\"tickcolor\":\"rgb(36,36,36)\",\"ticks\":\"outside\"},\"colorscale\":[[0.0,\"#440154\"],[0.1111111111111111,\"#482878\"],[0.2222222222222222,\"#3e4989\"],[0.3333333333333333,\"#31688e\"],[0.4444444444444444,\"#26828e\"],[0.5555555555555556,\"#1f9e89\"],[0.6666666666666666,\"#35b779\"],[0.7777777777777778,\"#6ece58\"],[0.8888888888888888,\"#b5de2b\"],[1.0,\"#fde725\"]],\"type\":\"heatmap\"}],\"histogram2dcontour\":[{\"colorbar\":{\"outlinewidth\":1,\"tickcolor\":\"rgb(36,36,36)\",\"ticks\":\"outside\"},\"colorscale\":[[0.0,\"#440154\"],[0.1111111111111111,\"#482878\"],[0.2222222222222222,\"#3e4989\"],[0.3333333333333333,\"#31688e\"],[0.4444444444444444,\"#26828e\"],[0.5555555555555556,\"#1f9e89\"],[0.6666666666666666,\"#35b779\"],[0.7777777777777778,\"#6ece58\"],[0.8888888888888888,\"#b5de2b\"],[1.0,\"#fde725\"]],\"type\":\"histogram2dcontour\"}],\"histogram2d\":[{\"colorbar\":{\"outlinewidth\":1,\"tickcolor\":\"rgb(36,36,36)\",\"ticks\":\"outside\"},\"colorscale\":[[0.0,\"#440154\"],[0.1111111111111111,\"#482878\"],[0.2222222222222222,\"#3e4989\"],[0.3333333333333333,\"#31688e\"],[0.4444444444444444,\"#26828e\"],[0.5555555555555556,\"#1f9e89\"],[0.6666666666666666,\"#35b779\"],[0.7777777777777778,\"#6ece58\"],[0.8888888888888888,\"#b5de2b\"],[1.0,\"#fde725\"]],\"type\":\"histogram2d\"}],\"histogram\":[{\"marker\":{\"line\":{\"color\":\"white\",\"width\":0.6}},\"type\":\"histogram\"}],\"mesh3d\":[{\"colorbar\":{\"outlinewidth\":1,\"tickcolor\":\"rgb(36,36,36)\",\"ticks\":\"outside\"},\"type\":\"mesh3d\"}],\"parcoords\":[{\"line\":{\"colorbar\":{\"outlinewidth\":1,\"tickcolor\":\"rgb(36,36,36)\",\"ticks\":\"outside\"}},\"type\":\"parcoords\"}],\"pie\":[{\"automargin\":true,\"type\":\"pie\"}],\"scatter3d\":[{\"line\":{\"colorbar\":{\"outlinewidth\":1,\"tickcolor\":\"rgb(36,36,36)\",\"ticks\":\"outside\"}},\"marker\":{\"colorbar\":{\"outlinewidth\":1,\"tickcolor\":\"rgb(36,36,36)\",\"ticks\":\"outside\"}},\"type\":\"scatter3d\"}],\"scattercarpet\":[{\"marker\":{\"colorbar\":{\"outlinewidth\":1,\"tickcolor\":\"rgb(36,36,36)\",\"ticks\":\"outside\"}},\"type\":\"scattercarpet\"}],\"scattergeo\":[{\"marker\":{\"colorbar\":{\"outlinewidth\":1,\"tickcolor\":\"rgb(36,36,36)\",\"ticks\":\"outside\"}},\"type\":\"scattergeo\"}],\"scattergl\":[{\"marker\":{\"colorbar\":{\"outlinewidth\":1,\"tickcolor\":\"rgb(36,36,36)\",\"ticks\":\"outside\"}},\"type\":\"scattergl\"}],\"scattermapbox\":[{\"marker\":{\"colorbar\":{\"outlinewidth\":1,\"tickcolor\":\"rgb(36,36,36)\",\"ticks\":\"outside\"}},\"type\":\"scattermapbox\"}],\"scatterpolargl\":[{\"marker\":{\"colorbar\":{\"outlinewidth\":1,\"tickcolor\":\"rgb(36,36,36)\",\"ticks\":\"outside\"}},\"type\":\"scatterpolargl\"}],\"scatterpolar\":[{\"marker\":{\"colorbar\":{\"outlinewidth\":1,\"tickcolor\":\"rgb(36,36,36)\",\"ticks\":\"outside\"}},\"type\":\"scatterpolar\"}],\"scatter\":[{\"fillpattern\":{\"fillmode\":\"overlay\",\"size\":10,\"solidity\":0.2},\"type\":\"scatter\"}],\"scatterternary\":[{\"marker\":{\"colorbar\":{\"outlinewidth\":1,\"tickcolor\":\"rgb(36,36,36)\",\"ticks\":\"outside\"}},\"type\":\"scatterternary\"}],\"surface\":[{\"colorbar\":{\"outlinewidth\":1,\"tickcolor\":\"rgb(36,36,36)\",\"ticks\":\"outside\"},\"colorscale\":[[0.0,\"#440154\"],[0.1111111111111111,\"#482878\"],[0.2222222222222222,\"#3e4989\"],[0.3333333333333333,\"#31688e\"],[0.4444444444444444,\"#26828e\"],[0.5555555555555556,\"#1f9e89\"],[0.6666666666666666,\"#35b779\"],[0.7777777777777778,\"#6ece58\"],[0.8888888888888888,\"#b5de2b\"],[1.0,\"#fde725\"]],\"type\":\"surface\"}],\"table\":[{\"cells\":{\"fill\":{\"color\":\"rgb(237,237,237)\"},\"line\":{\"color\":\"white\"}},\"header\":{\"fill\":{\"color\":\"rgb(217,217,217)\"},\"line\":{\"color\":\"white\"}},\"type\":\"table\"}]},\"layout\":{\"annotationdefaults\":{\"arrowhead\":0,\"arrowwidth\":1},\"autotypenumbers\":\"strict\",\"coloraxis\":{\"colorbar\":{\"outlinewidth\":1,\"tickcolor\":\"rgb(36,36,36)\",\"ticks\":\"outside\"}},\"colorscale\":{\"diverging\":[[0.0,\"rgb(103,0,31)\"],[0.1,\"rgb(178,24,43)\"],[0.2,\"rgb(214,96,77)\"],[0.3,\"rgb(244,165,130)\"],[0.4,\"rgb(253,219,199)\"],[0.5,\"rgb(247,247,247)\"],[0.6,\"rgb(209,229,240)\"],[0.7,\"rgb(146,197,222)\"],[0.8,\"rgb(67,147,195)\"],[0.9,\"rgb(33,102,172)\"],[1.0,\"rgb(5,48,97)\"]],\"sequential\":[[0.0,\"#440154\"],[0.1111111111111111,\"#482878\"],[0.2222222222222222,\"#3e4989\"],[0.3333333333333333,\"#31688e\"],[0.4444444444444444,\"#26828e\"],[0.5555555555555556,\"#1f9e89\"],[0.6666666666666666,\"#35b779\"],[0.7777777777777778,\"#6ece58\"],[0.8888888888888888,\"#b5de2b\"],[1.0,\"#fde725\"]],\"sequentialminus\":[[0.0,\"#440154\"],[0.1111111111111111,\"#482878\"],[0.2222222222222222,\"#3e4989\"],[0.3333333333333333,\"#31688e\"],[0.4444444444444444,\"#26828e\"],[0.5555555555555556,\"#1f9e89\"],[0.6666666666666666,\"#35b779\"],[0.7777777777777778,\"#6ece58\"],[0.8888888888888888,\"#b5de2b\"],[1.0,\"#fde725\"]]},\"colorway\":[\"#1F77B4\",\"#FF7F0E\",\"#2CA02C\",\"#D62728\",\"#9467BD\",\"#8C564B\",\"#E377C2\",\"#7F7F7F\",\"#BCBD22\",\"#17BECF\"],\"font\":{\"color\":\"rgb(36,36,36)\"},\"geo\":{\"bgcolor\":\"white\",\"lakecolor\":\"white\",\"landcolor\":\"white\",\"showlakes\":true,\"showland\":true,\"subunitcolor\":\"white\"},\"hoverlabel\":{\"align\":\"left\"},\"hovermode\":\"closest\",\"mapbox\":{\"style\":\"light\"},\"paper_bgcolor\":\"white\",\"plot_bgcolor\":\"white\",\"polar\":{\"angularaxis\":{\"gridcolor\":\"rgb(232,232,232)\",\"linecolor\":\"rgb(36,36,36)\",\"showgrid\":false,\"showline\":true,\"ticks\":\"outside\"},\"bgcolor\":\"white\",\"radialaxis\":{\"gridcolor\":\"rgb(232,232,232)\",\"linecolor\":\"rgb(36,36,36)\",\"showgrid\":false,\"showline\":true,\"ticks\":\"outside\"}},\"scene\":{\"xaxis\":{\"backgroundcolor\":\"white\",\"gridcolor\":\"rgb(232,232,232)\",\"gridwidth\":2,\"linecolor\":\"rgb(36,36,36)\",\"showbackground\":true,\"showgrid\":false,\"showline\":true,\"ticks\":\"outside\",\"zeroline\":false,\"zerolinecolor\":\"rgb(36,36,36)\"},\"yaxis\":{\"backgroundcolor\":\"white\",\"gridcolor\":\"rgb(232,232,232)\",\"gridwidth\":2,\"linecolor\":\"rgb(36,36,36)\",\"showbackground\":true,\"showgrid\":false,\"showline\":true,\"ticks\":\"outside\",\"zeroline\":false,\"zerolinecolor\":\"rgb(36,36,36)\"},\"zaxis\":{\"backgroundcolor\":\"white\",\"gridcolor\":\"rgb(232,232,232)\",\"gridwidth\":2,\"linecolor\":\"rgb(36,36,36)\",\"showbackground\":true,\"showgrid\":false,\"showline\":true,\"ticks\":\"outside\",\"zeroline\":false,\"zerolinecolor\":\"rgb(36,36,36)\"}},\"shapedefaults\":{\"fillcolor\":\"black\",\"line\":{\"width\":0},\"opacity\":0.3},\"ternary\":{\"aaxis\":{\"gridcolor\":\"rgb(232,232,232)\",\"linecolor\":\"rgb(36,36,36)\",\"showgrid\":false,\"showline\":true,\"ticks\":\"outside\"},\"baxis\":{\"gridcolor\":\"rgb(232,232,232)\",\"linecolor\":\"rgb(36,36,36)\",\"showgrid\":false,\"showline\":true,\"ticks\":\"outside\"},\"bgcolor\":\"white\",\"caxis\":{\"gridcolor\":\"rgb(232,232,232)\",\"linecolor\":\"rgb(36,36,36)\",\"showgrid\":false,\"showline\":true,\"ticks\":\"outside\"}},\"title\":{\"x\":0.05},\"xaxis\":{\"automargin\":true,\"gridcolor\":\"rgb(232,232,232)\",\"linecolor\":\"rgb(36,36,36)\",\"showgrid\":false,\"showline\":true,\"ticks\":\"outside\",\"title\":{\"standoff\":15},\"zeroline\":false,\"zerolinecolor\":\"rgb(36,36,36)\"},\"yaxis\":{\"automargin\":true,\"gridcolor\":\"rgb(232,232,232)\",\"linecolor\":\"rgb(36,36,36)\",\"showgrid\":false,\"showline\":true,\"ticks\":\"outside\",\"title\":{\"standoff\":15},\"zeroline\":false,\"zerolinecolor\":\"rgb(36,36,36)\"}}},\"xaxis\":{\"anchor\":\"y\",\"domain\":[0.0,1.0],\"title\":{\"text\":\"\"},\"visible\":false,\"range\":[-16.511064767837524,22.130573081970216]},\"yaxis\":{\"anchor\":\"x\",\"domain\":[0.0,1.0],\"title\":{\"text\":\"\"},\"visible\":false,\"range\":[-18.32215223312378,17.078753995895386]},\"legend\":{\"tracegroupgap\":0,\"itemsizing\":\"constant\"},\"margin\":{\"t\":60},\"title\":{\"font\":{\"size\":22,\"color\":\"Black\"},\"text\":\"<b>Intertopic Distance Map\",\"y\":0.95,\"x\":0.5,\"xanchor\":\"center\",\"yanchor\":\"top\"},\"hoverlabel\":{\"font\":{\"size\":16,\"family\":\"Rockwell\"},\"bgcolor\":\"white\"},\"width\":650,\"height\":650,\"sliders\":[{\"active\":0,\"pad\":{\"t\":50},\"steps\":[{\"args\":[{\"marker.color\":[[\"red\",\"#B0BEC5\",\"#B0BEC5\",\"#B0BEC5\",\"#B0BEC5\",\"#B0BEC5\",\"#B0BEC5\",\"#B0BEC5\",\"#B0BEC5\",\"#B0BEC5\",\"#B0BEC5\",\"#B0BEC5\",\"#B0BEC5\",\"#B0BEC5\",\"#B0BEC5\",\"#B0BEC5\",\"#B0BEC5\",\"#B0BEC5\",\"#B0BEC5\",\"#B0BEC5\",\"#B0BEC5\",\"#B0BEC5\",\"#B0BEC5\",\"#B0BEC5\",\"#B0BEC5\",\"#B0BEC5\",\"#B0BEC5\",\"#B0BEC5\",\"#B0BEC5\",\"#B0BEC5\",\"#B0BEC5\",\"#B0BEC5\",\"#B0BEC5\",\"#B0BEC5\",\"#B0BEC5\",\"#B0BEC5\",\"#B0BEC5\",\"#B0BEC5\",\"#B0BEC5\",\"#B0BEC5\",\"#B0BEC5\",\"#B0BEC5\",\"#B0BEC5\",\"#B0BEC5\",\"#B0BEC5\",\"#B0BEC5\",\"#B0BEC5\"]]}],\"label\":\"Topic 0\",\"method\":\"update\"},{\"args\":[{\"marker.color\":[[\"#B0BEC5\",\"red\",\"#B0BEC5\",\"#B0BEC5\",\"#B0BEC5\",\"#B0BEC5\",\"#B0BEC5\",\"#B0BEC5\",\"#B0BEC5\",\"#B0BEC5\",\"#B0BEC5\",\"#B0BEC5\",\"#B0BEC5\",\"#B0BEC5\",\"#B0BEC5\",\"#B0BEC5\",\"#B0BEC5\",\"#B0BEC5\",\"#B0BEC5\",\"#B0BEC5\",\"#B0BEC5\",\"#B0BEC5\",\"#B0BEC5\",\"#B0BEC5\",\"#B0BEC5\",\"#B0BEC5\",\"#B0BEC5\",\"#B0BEC5\",\"#B0BEC5\",\"#B0BEC5\",\"#B0BEC5\",\"#B0BEC5\",\"#B0BEC5\",\"#B0BEC5\",\"#B0BEC5\",\"#B0BEC5\",\"#B0BEC5\",\"#B0BEC5\",\"#B0BEC5\",\"#B0BEC5\",\"#B0BEC5\",\"#B0BEC5\",\"#B0BEC5\",\"#B0BEC5\",\"#B0BEC5\",\"#B0BEC5\",\"#B0BEC5\"]]}],\"label\":\"Topic 1\",\"method\":\"update\"},{\"args\":[{\"marker.color\":[[\"#B0BEC5\",\"#B0BEC5\",\"red\",\"#B0BEC5\",\"#B0BEC5\",\"#B0BEC5\",\"#B0BEC5\",\"#B0BEC5\",\"#B0BEC5\",\"#B0BEC5\",\"#B0BEC5\",\"#B0BEC5\",\"#B0BEC5\",\"#B0BEC5\",\"#B0BEC5\",\"#B0BEC5\",\"#B0BEC5\",\"#B0BEC5\",\"#B0BEC5\",\"#B0BEC5\",\"#B0BEC5\",\"#B0BEC5\",\"#B0BEC5\",\"#B0BEC5\",\"#B0BEC5\",\"#B0BEC5\",\"#B0BEC5\",\"#B0BEC5\",\"#B0BEC5\",\"#B0BEC5\",\"#B0BEC5\",\"#B0BEC5\",\"#B0BEC5\",\"#B0BEC5\",\"#B0BEC5\",\"#B0BEC5\",\"#B0BEC5\",\"#B0BEC5\",\"#B0BEC5\",\"#B0BEC5\",\"#B0BEC5\",\"#B0BEC5\",\"#B0BEC5\",\"#B0BEC5\",\"#B0BEC5\",\"#B0BEC5\",\"#B0BEC5\"]]}],\"label\":\"Topic 2\",\"method\":\"update\"},{\"args\":[{\"marker.color\":[[\"#B0BEC5\",\"#B0BEC5\",\"#B0BEC5\",\"red\",\"#B0BEC5\",\"#B0BEC5\",\"#B0BEC5\",\"#B0BEC5\",\"#B0BEC5\",\"#B0BEC5\",\"#B0BEC5\",\"#B0BEC5\",\"#B0BEC5\",\"#B0BEC5\",\"#B0BEC5\",\"#B0BEC5\",\"#B0BEC5\",\"#B0BEC5\",\"#B0BEC5\",\"#B0BEC5\",\"#B0BEC5\",\"#B0BEC5\",\"#B0BEC5\",\"#B0BEC5\",\"#B0BEC5\",\"#B0BEC5\",\"#B0BEC5\",\"#B0BEC5\",\"#B0BEC5\",\"#B0BEC5\",\"#B0BEC5\",\"#B0BEC5\",\"#B0BEC5\",\"#B0BEC5\",\"#B0BEC5\",\"#B0BEC5\",\"#B0BEC5\",\"#B0BEC5\",\"#B0BEC5\",\"#B0BEC5\",\"#B0BEC5\",\"#B0BEC5\",\"#B0BEC5\",\"#B0BEC5\",\"#B0BEC5\",\"#B0BEC5\",\"#B0BEC5\"]]}],\"label\":\"Topic 3\",\"method\":\"update\"},{\"args\":[{\"marker.color\":[[\"#B0BEC5\",\"#B0BEC5\",\"#B0BEC5\",\"#B0BEC5\",\"red\",\"#B0BEC5\",\"#B0BEC5\",\"#B0BEC5\",\"#B0BEC5\",\"#B0BEC5\",\"#B0BEC5\",\"#B0BEC5\",\"#B0BEC5\",\"#B0BEC5\",\"#B0BEC5\",\"#B0BEC5\",\"#B0BEC5\",\"#B0BEC5\",\"#B0BEC5\",\"#B0BEC5\",\"#B0BEC5\",\"#B0BEC5\",\"#B0BEC5\",\"#B0BEC5\",\"#B0BEC5\",\"#B0BEC5\",\"#B0BEC5\",\"#B0BEC5\",\"#B0BEC5\",\"#B0BEC5\",\"#B0BEC5\",\"#B0BEC5\",\"#B0BEC5\",\"#B0BEC5\",\"#B0BEC5\",\"#B0BEC5\",\"#B0BEC5\",\"#B0BEC5\",\"#B0BEC5\",\"#B0BEC5\",\"#B0BEC5\",\"#B0BEC5\",\"#B0BEC5\",\"#B0BEC5\",\"#B0BEC5\",\"#B0BEC5\",\"#B0BEC5\"]]}],\"label\":\"Topic 4\",\"method\":\"update\"},{\"args\":[{\"marker.color\":[[\"#B0BEC5\",\"#B0BEC5\",\"#B0BEC5\",\"#B0BEC5\",\"#B0BEC5\",\"red\",\"#B0BEC5\",\"#B0BEC5\",\"#B0BEC5\",\"#B0BEC5\",\"#B0BEC5\",\"#B0BEC5\",\"#B0BEC5\",\"#B0BEC5\",\"#B0BEC5\",\"#B0BEC5\",\"#B0BEC5\",\"#B0BEC5\",\"#B0BEC5\",\"#B0BEC5\",\"#B0BEC5\",\"#B0BEC5\",\"#B0BEC5\",\"#B0BEC5\",\"#B0BEC5\",\"#B0BEC5\",\"#B0BEC5\",\"#B0BEC5\",\"#B0BEC5\",\"#B0BEC5\",\"#B0BEC5\",\"#B0BEC5\",\"#B0BEC5\",\"#B0BEC5\",\"#B0BEC5\",\"#B0BEC5\",\"#B0BEC5\",\"#B0BEC5\",\"#B0BEC5\",\"#B0BEC5\",\"#B0BEC5\",\"#B0BEC5\",\"#B0BEC5\",\"#B0BEC5\",\"#B0BEC5\",\"#B0BEC5\",\"#B0BEC5\"]]}],\"label\":\"Topic 5\",\"method\":\"update\"},{\"args\":[{\"marker.color\":[[\"#B0BEC5\",\"#B0BEC5\",\"#B0BEC5\",\"#B0BEC5\",\"#B0BEC5\",\"#B0BEC5\",\"red\",\"#B0BEC5\",\"#B0BEC5\",\"#B0BEC5\",\"#B0BEC5\",\"#B0BEC5\",\"#B0BEC5\",\"#B0BEC5\",\"#B0BEC5\",\"#B0BEC5\",\"#B0BEC5\",\"#B0BEC5\",\"#B0BEC5\",\"#B0BEC5\",\"#B0BEC5\",\"#B0BEC5\",\"#B0BEC5\",\"#B0BEC5\",\"#B0BEC5\",\"#B0BEC5\",\"#B0BEC5\",\"#B0BEC5\",\"#B0BEC5\",\"#B0BEC5\",\"#B0BEC5\",\"#B0BEC5\",\"#B0BEC5\",\"#B0BEC5\",\"#B0BEC5\",\"#B0BEC5\",\"#B0BEC5\",\"#B0BEC5\",\"#B0BEC5\",\"#B0BEC5\",\"#B0BEC5\",\"#B0BEC5\",\"#B0BEC5\",\"#B0BEC5\",\"#B0BEC5\",\"#B0BEC5\",\"#B0BEC5\"]]}],\"label\":\"Topic 6\",\"method\":\"update\"},{\"args\":[{\"marker.color\":[[\"#B0BEC5\",\"#B0BEC5\",\"#B0BEC5\",\"#B0BEC5\",\"#B0BEC5\",\"#B0BEC5\",\"#B0BEC5\",\"red\",\"#B0BEC5\",\"#B0BEC5\",\"#B0BEC5\",\"#B0BEC5\",\"#B0BEC5\",\"#B0BEC5\",\"#B0BEC5\",\"#B0BEC5\",\"#B0BEC5\",\"#B0BEC5\",\"#B0BEC5\",\"#B0BEC5\",\"#B0BEC5\",\"#B0BEC5\",\"#B0BEC5\",\"#B0BEC5\",\"#B0BEC5\",\"#B0BEC5\",\"#B0BEC5\",\"#B0BEC5\",\"#B0BEC5\",\"#B0BEC5\",\"#B0BEC5\",\"#B0BEC5\",\"#B0BEC5\",\"#B0BEC5\",\"#B0BEC5\",\"#B0BEC5\",\"#B0BEC5\",\"#B0BEC5\",\"#B0BEC5\",\"#B0BEC5\",\"#B0BEC5\",\"#B0BEC5\",\"#B0BEC5\",\"#B0BEC5\",\"#B0BEC5\",\"#B0BEC5\",\"#B0BEC5\"]]}],\"label\":\"Topic 7\",\"method\":\"update\"},{\"args\":[{\"marker.color\":[[\"#B0BEC5\",\"#B0BEC5\",\"#B0BEC5\",\"#B0BEC5\",\"#B0BEC5\",\"#B0BEC5\",\"#B0BEC5\",\"#B0BEC5\",\"red\",\"#B0BEC5\",\"#B0BEC5\",\"#B0BEC5\",\"#B0BEC5\",\"#B0BEC5\",\"#B0BEC5\",\"#B0BEC5\",\"#B0BEC5\",\"#B0BEC5\",\"#B0BEC5\",\"#B0BEC5\",\"#B0BEC5\",\"#B0BEC5\",\"#B0BEC5\",\"#B0BEC5\",\"#B0BEC5\",\"#B0BEC5\",\"#B0BEC5\",\"#B0BEC5\",\"#B0BEC5\",\"#B0BEC5\",\"#B0BEC5\",\"#B0BEC5\",\"#B0BEC5\",\"#B0BEC5\",\"#B0BEC5\",\"#B0BEC5\",\"#B0BEC5\",\"#B0BEC5\",\"#B0BEC5\",\"#B0BEC5\",\"#B0BEC5\",\"#B0BEC5\",\"#B0BEC5\",\"#B0BEC5\",\"#B0BEC5\",\"#B0BEC5\",\"#B0BEC5\"]]}],\"label\":\"Topic 8\",\"method\":\"update\"},{\"args\":[{\"marker.color\":[[\"#B0BEC5\",\"#B0BEC5\",\"#B0BEC5\",\"#B0BEC5\",\"#B0BEC5\",\"#B0BEC5\",\"#B0BEC5\",\"#B0BEC5\",\"#B0BEC5\",\"red\",\"#B0BEC5\",\"#B0BEC5\",\"#B0BEC5\",\"#B0BEC5\",\"#B0BEC5\",\"#B0BEC5\",\"#B0BEC5\",\"#B0BEC5\",\"#B0BEC5\",\"#B0BEC5\",\"#B0BEC5\",\"#B0BEC5\",\"#B0BEC5\",\"#B0BEC5\",\"#B0BEC5\",\"#B0BEC5\",\"#B0BEC5\",\"#B0BEC5\",\"#B0BEC5\",\"#B0BEC5\",\"#B0BEC5\",\"#B0BEC5\",\"#B0BEC5\",\"#B0BEC5\",\"#B0BEC5\",\"#B0BEC5\",\"#B0BEC5\",\"#B0BEC5\",\"#B0BEC5\",\"#B0BEC5\",\"#B0BEC5\",\"#B0BEC5\",\"#B0BEC5\",\"#B0BEC5\",\"#B0BEC5\",\"#B0BEC5\",\"#B0BEC5\"]]}],\"label\":\"Topic 9\",\"method\":\"update\"},{\"args\":[{\"marker.color\":[[\"#B0BEC5\",\"#B0BEC5\",\"#B0BEC5\",\"#B0BEC5\",\"#B0BEC5\",\"#B0BEC5\",\"#B0BEC5\",\"#B0BEC5\",\"#B0BEC5\",\"#B0BEC5\",\"red\",\"#B0BEC5\",\"#B0BEC5\",\"#B0BEC5\",\"#B0BEC5\",\"#B0BEC5\",\"#B0BEC5\",\"#B0BEC5\",\"#B0BEC5\",\"#B0BEC5\",\"#B0BEC5\",\"#B0BEC5\",\"#B0BEC5\",\"#B0BEC5\",\"#B0BEC5\",\"#B0BEC5\",\"#B0BEC5\",\"#B0BEC5\",\"#B0BEC5\",\"#B0BEC5\",\"#B0BEC5\",\"#B0BEC5\",\"#B0BEC5\",\"#B0BEC5\",\"#B0BEC5\",\"#B0BEC5\",\"#B0BEC5\",\"#B0BEC5\",\"#B0BEC5\",\"#B0BEC5\",\"#B0BEC5\",\"#B0BEC5\",\"#B0BEC5\",\"#B0BEC5\",\"#B0BEC5\",\"#B0BEC5\",\"#B0BEC5\"]]}],\"label\":\"Topic 10\",\"method\":\"update\"},{\"args\":[{\"marker.color\":[[\"#B0BEC5\",\"#B0BEC5\",\"#B0BEC5\",\"#B0BEC5\",\"#B0BEC5\",\"#B0BEC5\",\"#B0BEC5\",\"#B0BEC5\",\"#B0BEC5\",\"#B0BEC5\",\"#B0BEC5\",\"red\",\"#B0BEC5\",\"#B0BEC5\",\"#B0BEC5\",\"#B0BEC5\",\"#B0BEC5\",\"#B0BEC5\",\"#B0BEC5\",\"#B0BEC5\",\"#B0BEC5\",\"#B0BEC5\",\"#B0BEC5\",\"#B0BEC5\",\"#B0BEC5\",\"#B0BEC5\",\"#B0BEC5\",\"#B0BEC5\",\"#B0BEC5\",\"#B0BEC5\",\"#B0BEC5\",\"#B0BEC5\",\"#B0BEC5\",\"#B0BEC5\",\"#B0BEC5\",\"#B0BEC5\",\"#B0BEC5\",\"#B0BEC5\",\"#B0BEC5\",\"#B0BEC5\",\"#B0BEC5\",\"#B0BEC5\",\"#B0BEC5\",\"#B0BEC5\",\"#B0BEC5\",\"#B0BEC5\",\"#B0BEC5\"]]}],\"label\":\"Topic 11\",\"method\":\"update\"},{\"args\":[{\"marker.color\":[[\"#B0BEC5\",\"#B0BEC5\",\"#B0BEC5\",\"#B0BEC5\",\"#B0BEC5\",\"#B0BEC5\",\"#B0BEC5\",\"#B0BEC5\",\"#B0BEC5\",\"#B0BEC5\",\"#B0BEC5\",\"#B0BEC5\",\"red\",\"#B0BEC5\",\"#B0BEC5\",\"#B0BEC5\",\"#B0BEC5\",\"#B0BEC5\",\"#B0BEC5\",\"#B0BEC5\",\"#B0BEC5\",\"#B0BEC5\",\"#B0BEC5\",\"#B0BEC5\",\"#B0BEC5\",\"#B0BEC5\",\"#B0BEC5\",\"#B0BEC5\",\"#B0BEC5\",\"#B0BEC5\",\"#B0BEC5\",\"#B0BEC5\",\"#B0BEC5\",\"#B0BEC5\",\"#B0BEC5\",\"#B0BEC5\",\"#B0BEC5\",\"#B0BEC5\",\"#B0BEC5\",\"#B0BEC5\",\"#B0BEC5\",\"#B0BEC5\",\"#B0BEC5\",\"#B0BEC5\",\"#B0BEC5\",\"#B0BEC5\",\"#B0BEC5\"]]}],\"label\":\"Topic 12\",\"method\":\"update\"},{\"args\":[{\"marker.color\":[[\"#B0BEC5\",\"#B0BEC5\",\"#B0BEC5\",\"#B0BEC5\",\"#B0BEC5\",\"#B0BEC5\",\"#B0BEC5\",\"#B0BEC5\",\"#B0BEC5\",\"#B0BEC5\",\"#B0BEC5\",\"#B0BEC5\",\"#B0BEC5\",\"red\",\"#B0BEC5\",\"#B0BEC5\",\"#B0BEC5\",\"#B0BEC5\",\"#B0BEC5\",\"#B0BEC5\",\"#B0BEC5\",\"#B0BEC5\",\"#B0BEC5\",\"#B0BEC5\",\"#B0BEC5\",\"#B0BEC5\",\"#B0BEC5\",\"#B0BEC5\",\"#B0BEC5\",\"#B0BEC5\",\"#B0BEC5\",\"#B0BEC5\",\"#B0BEC5\",\"#B0BEC5\",\"#B0BEC5\",\"#B0BEC5\",\"#B0BEC5\",\"#B0BEC5\",\"#B0BEC5\",\"#B0BEC5\",\"#B0BEC5\",\"#B0BEC5\",\"#B0BEC5\",\"#B0BEC5\",\"#B0BEC5\",\"#B0BEC5\",\"#B0BEC5\"]]}],\"label\":\"Topic 13\",\"method\":\"update\"},{\"args\":[{\"marker.color\":[[\"#B0BEC5\",\"#B0BEC5\",\"#B0BEC5\",\"#B0BEC5\",\"#B0BEC5\",\"#B0BEC5\",\"#B0BEC5\",\"#B0BEC5\",\"#B0BEC5\",\"#B0BEC5\",\"#B0BEC5\",\"#B0BEC5\",\"#B0BEC5\",\"#B0BEC5\",\"red\",\"#B0BEC5\",\"#B0BEC5\",\"#B0BEC5\",\"#B0BEC5\",\"#B0BEC5\",\"#B0BEC5\",\"#B0BEC5\",\"#B0BEC5\",\"#B0BEC5\",\"#B0BEC5\",\"#B0BEC5\",\"#B0BEC5\",\"#B0BEC5\",\"#B0BEC5\",\"#B0BEC5\",\"#B0BEC5\",\"#B0BEC5\",\"#B0BEC5\",\"#B0BEC5\",\"#B0BEC5\",\"#B0BEC5\",\"#B0BEC5\",\"#B0BEC5\",\"#B0BEC5\",\"#B0BEC5\",\"#B0BEC5\",\"#B0BEC5\",\"#B0BEC5\",\"#B0BEC5\",\"#B0BEC5\",\"#B0BEC5\",\"#B0BEC5\"]]}],\"label\":\"Topic 14\",\"method\":\"update\"},{\"args\":[{\"marker.color\":[[\"#B0BEC5\",\"#B0BEC5\",\"#B0BEC5\",\"#B0BEC5\",\"#B0BEC5\",\"#B0BEC5\",\"#B0BEC5\",\"#B0BEC5\",\"#B0BEC5\",\"#B0BEC5\",\"#B0BEC5\",\"#B0BEC5\",\"#B0BEC5\",\"#B0BEC5\",\"#B0BEC5\",\"red\",\"#B0BEC5\",\"#B0BEC5\",\"#B0BEC5\",\"#B0BEC5\",\"#B0BEC5\",\"#B0BEC5\",\"#B0BEC5\",\"#B0BEC5\",\"#B0BEC5\",\"#B0BEC5\",\"#B0BEC5\",\"#B0BEC5\",\"#B0BEC5\",\"#B0BEC5\",\"#B0BEC5\",\"#B0BEC5\",\"#B0BEC5\",\"#B0BEC5\",\"#B0BEC5\",\"#B0BEC5\",\"#B0BEC5\",\"#B0BEC5\",\"#B0BEC5\",\"#B0BEC5\",\"#B0BEC5\",\"#B0BEC5\",\"#B0BEC5\",\"#B0BEC5\",\"#B0BEC5\",\"#B0BEC5\",\"#B0BEC5\"]]}],\"label\":\"Topic 15\",\"method\":\"update\"},{\"args\":[{\"marker.color\":[[\"#B0BEC5\",\"#B0BEC5\",\"#B0BEC5\",\"#B0BEC5\",\"#B0BEC5\",\"#B0BEC5\",\"#B0BEC5\",\"#B0BEC5\",\"#B0BEC5\",\"#B0BEC5\",\"#B0BEC5\",\"#B0BEC5\",\"#B0BEC5\",\"#B0BEC5\",\"#B0BEC5\",\"#B0BEC5\",\"red\",\"#B0BEC5\",\"#B0BEC5\",\"#B0BEC5\",\"#B0BEC5\",\"#B0BEC5\",\"#B0BEC5\",\"#B0BEC5\",\"#B0BEC5\",\"#B0BEC5\",\"#B0BEC5\",\"#B0BEC5\",\"#B0BEC5\",\"#B0BEC5\",\"#B0BEC5\",\"#B0BEC5\",\"#B0BEC5\",\"#B0BEC5\",\"#B0BEC5\",\"#B0BEC5\",\"#B0BEC5\",\"#B0BEC5\",\"#B0BEC5\",\"#B0BEC5\",\"#B0BEC5\",\"#B0BEC5\",\"#B0BEC5\",\"#B0BEC5\",\"#B0BEC5\",\"#B0BEC5\",\"#B0BEC5\"]]}],\"label\":\"Topic 16\",\"method\":\"update\"},{\"args\":[{\"marker.color\":[[\"#B0BEC5\",\"#B0BEC5\",\"#B0BEC5\",\"#B0BEC5\",\"#B0BEC5\",\"#B0BEC5\",\"#B0BEC5\",\"#B0BEC5\",\"#B0BEC5\",\"#B0BEC5\",\"#B0BEC5\",\"#B0BEC5\",\"#B0BEC5\",\"#B0BEC5\",\"#B0BEC5\",\"#B0BEC5\",\"#B0BEC5\",\"red\",\"#B0BEC5\",\"#B0BEC5\",\"#B0BEC5\",\"#B0BEC5\",\"#B0BEC5\",\"#B0BEC5\",\"#B0BEC5\",\"#B0BEC5\",\"#B0BEC5\",\"#B0BEC5\",\"#B0BEC5\",\"#B0BEC5\",\"#B0BEC5\",\"#B0BEC5\",\"#B0BEC5\",\"#B0BEC5\",\"#B0BEC5\",\"#B0BEC5\",\"#B0BEC5\",\"#B0BEC5\",\"#B0BEC5\",\"#B0BEC5\",\"#B0BEC5\",\"#B0BEC5\",\"#B0BEC5\",\"#B0BEC5\",\"#B0BEC5\",\"#B0BEC5\",\"#B0BEC5\"]]}],\"label\":\"Topic 17\",\"method\":\"update\"},{\"args\":[{\"marker.color\":[[\"#B0BEC5\",\"#B0BEC5\",\"#B0BEC5\",\"#B0BEC5\",\"#B0BEC5\",\"#B0BEC5\",\"#B0BEC5\",\"#B0BEC5\",\"#B0BEC5\",\"#B0BEC5\",\"#B0BEC5\",\"#B0BEC5\",\"#B0BEC5\",\"#B0BEC5\",\"#B0BEC5\",\"#B0BEC5\",\"#B0BEC5\",\"#B0BEC5\",\"red\",\"#B0BEC5\",\"#B0BEC5\",\"#B0BEC5\",\"#B0BEC5\",\"#B0BEC5\",\"#B0BEC5\",\"#B0BEC5\",\"#B0BEC5\",\"#B0BEC5\",\"#B0BEC5\",\"#B0BEC5\",\"#B0BEC5\",\"#B0BEC5\",\"#B0BEC5\",\"#B0BEC5\",\"#B0BEC5\",\"#B0BEC5\",\"#B0BEC5\",\"#B0BEC5\",\"#B0BEC5\",\"#B0BEC5\",\"#B0BEC5\",\"#B0BEC5\",\"#B0BEC5\",\"#B0BEC5\",\"#B0BEC5\",\"#B0BEC5\",\"#B0BEC5\"]]}],\"label\":\"Topic 18\",\"method\":\"update\"},{\"args\":[{\"marker.color\":[[\"#B0BEC5\",\"#B0BEC5\",\"#B0BEC5\",\"#B0BEC5\",\"#B0BEC5\",\"#B0BEC5\",\"#B0BEC5\",\"#B0BEC5\",\"#B0BEC5\",\"#B0BEC5\",\"#B0BEC5\",\"#B0BEC5\",\"#B0BEC5\",\"#B0BEC5\",\"#B0BEC5\",\"#B0BEC5\",\"#B0BEC5\",\"#B0BEC5\",\"#B0BEC5\",\"red\",\"#B0BEC5\",\"#B0BEC5\",\"#B0BEC5\",\"#B0BEC5\",\"#B0BEC5\",\"#B0BEC5\",\"#B0BEC5\",\"#B0BEC5\",\"#B0BEC5\",\"#B0BEC5\",\"#B0BEC5\",\"#B0BEC5\",\"#B0BEC5\",\"#B0BEC5\",\"#B0BEC5\",\"#B0BEC5\",\"#B0BEC5\",\"#B0BEC5\",\"#B0BEC5\",\"#B0BEC5\",\"#B0BEC5\",\"#B0BEC5\",\"#B0BEC5\",\"#B0BEC5\",\"#B0BEC5\",\"#B0BEC5\",\"#B0BEC5\"]]}],\"label\":\"Topic 19\",\"method\":\"update\"},{\"args\":[{\"marker.color\":[[\"#B0BEC5\",\"#B0BEC5\",\"#B0BEC5\",\"#B0BEC5\",\"#B0BEC5\",\"#B0BEC5\",\"#B0BEC5\",\"#B0BEC5\",\"#B0BEC5\",\"#B0BEC5\",\"#B0BEC5\",\"#B0BEC5\",\"#B0BEC5\",\"#B0BEC5\",\"#B0BEC5\",\"#B0BEC5\",\"#B0BEC5\",\"#B0BEC5\",\"#B0BEC5\",\"#B0BEC5\",\"red\",\"#B0BEC5\",\"#B0BEC5\",\"#B0BEC5\",\"#B0BEC5\",\"#B0BEC5\",\"#B0BEC5\",\"#B0BEC5\",\"#B0BEC5\",\"#B0BEC5\",\"#B0BEC5\",\"#B0BEC5\",\"#B0BEC5\",\"#B0BEC5\",\"#B0BEC5\",\"#B0BEC5\",\"#B0BEC5\",\"#B0BEC5\",\"#B0BEC5\",\"#B0BEC5\",\"#B0BEC5\",\"#B0BEC5\",\"#B0BEC5\",\"#B0BEC5\",\"#B0BEC5\",\"#B0BEC5\",\"#B0BEC5\"]]}],\"label\":\"Topic 20\",\"method\":\"update\"},{\"args\":[{\"marker.color\":[[\"#B0BEC5\",\"#B0BEC5\",\"#B0BEC5\",\"#B0BEC5\",\"#B0BEC5\",\"#B0BEC5\",\"#B0BEC5\",\"#B0BEC5\",\"#B0BEC5\",\"#B0BEC5\",\"#B0BEC5\",\"#B0BEC5\",\"#B0BEC5\",\"#B0BEC5\",\"#B0BEC5\",\"#B0BEC5\",\"#B0BEC5\",\"#B0BEC5\",\"#B0BEC5\",\"#B0BEC5\",\"#B0BEC5\",\"red\",\"#B0BEC5\",\"#B0BEC5\",\"#B0BEC5\",\"#B0BEC5\",\"#B0BEC5\",\"#B0BEC5\",\"#B0BEC5\",\"#B0BEC5\",\"#B0BEC5\",\"#B0BEC5\",\"#B0BEC5\",\"#B0BEC5\",\"#B0BEC5\",\"#B0BEC5\",\"#B0BEC5\",\"#B0BEC5\",\"#B0BEC5\",\"#B0BEC5\",\"#B0BEC5\",\"#B0BEC5\",\"#B0BEC5\",\"#B0BEC5\",\"#B0BEC5\",\"#B0BEC5\",\"#B0BEC5\"]]}],\"label\":\"Topic 21\",\"method\":\"update\"},{\"args\":[{\"marker.color\":[[\"#B0BEC5\",\"#B0BEC5\",\"#B0BEC5\",\"#B0BEC5\",\"#B0BEC5\",\"#B0BEC5\",\"#B0BEC5\",\"#B0BEC5\",\"#B0BEC5\",\"#B0BEC5\",\"#B0BEC5\",\"#B0BEC5\",\"#B0BEC5\",\"#B0BEC5\",\"#B0BEC5\",\"#B0BEC5\",\"#B0BEC5\",\"#B0BEC5\",\"#B0BEC5\",\"#B0BEC5\",\"#B0BEC5\",\"#B0BEC5\",\"red\",\"#B0BEC5\",\"#B0BEC5\",\"#B0BEC5\",\"#B0BEC5\",\"#B0BEC5\",\"#B0BEC5\",\"#B0BEC5\",\"#B0BEC5\",\"#B0BEC5\",\"#B0BEC5\",\"#B0BEC5\",\"#B0BEC5\",\"#B0BEC5\",\"#B0BEC5\",\"#B0BEC5\",\"#B0BEC5\",\"#B0BEC5\",\"#B0BEC5\",\"#B0BEC5\",\"#B0BEC5\",\"#B0BEC5\",\"#B0BEC5\",\"#B0BEC5\",\"#B0BEC5\"]]}],\"label\":\"Topic 22\",\"method\":\"update\"},{\"args\":[{\"marker.color\":[[\"#B0BEC5\",\"#B0BEC5\",\"#B0BEC5\",\"#B0BEC5\",\"#B0BEC5\",\"#B0BEC5\",\"#B0BEC5\",\"#B0BEC5\",\"#B0BEC5\",\"#B0BEC5\",\"#B0BEC5\",\"#B0BEC5\",\"#B0BEC5\",\"#B0BEC5\",\"#B0BEC5\",\"#B0BEC5\",\"#B0BEC5\",\"#B0BEC5\",\"#B0BEC5\",\"#B0BEC5\",\"#B0BEC5\",\"#B0BEC5\",\"#B0BEC5\",\"red\",\"#B0BEC5\",\"#B0BEC5\",\"#B0BEC5\",\"#B0BEC5\",\"#B0BEC5\",\"#B0BEC5\",\"#B0BEC5\",\"#B0BEC5\",\"#B0BEC5\",\"#B0BEC5\",\"#B0BEC5\",\"#B0BEC5\",\"#B0BEC5\",\"#B0BEC5\",\"#B0BEC5\",\"#B0BEC5\",\"#B0BEC5\",\"#B0BEC5\",\"#B0BEC5\",\"#B0BEC5\",\"#B0BEC5\",\"#B0BEC5\",\"#B0BEC5\"]]}],\"label\":\"Topic 23\",\"method\":\"update\"},{\"args\":[{\"marker.color\":[[\"#B0BEC5\",\"#B0BEC5\",\"#B0BEC5\",\"#B0BEC5\",\"#B0BEC5\",\"#B0BEC5\",\"#B0BEC5\",\"#B0BEC5\",\"#B0BEC5\",\"#B0BEC5\",\"#B0BEC5\",\"#B0BEC5\",\"#B0BEC5\",\"#B0BEC5\",\"#B0BEC5\",\"#B0BEC5\",\"#B0BEC5\",\"#B0BEC5\",\"#B0BEC5\",\"#B0BEC5\",\"#B0BEC5\",\"#B0BEC5\",\"#B0BEC5\",\"#B0BEC5\",\"red\",\"#B0BEC5\",\"#B0BEC5\",\"#B0BEC5\",\"#B0BEC5\",\"#B0BEC5\",\"#B0BEC5\",\"#B0BEC5\",\"#B0BEC5\",\"#B0BEC5\",\"#B0BEC5\",\"#B0BEC5\",\"#B0BEC5\",\"#B0BEC5\",\"#B0BEC5\",\"#B0BEC5\",\"#B0BEC5\",\"#B0BEC5\",\"#B0BEC5\",\"#B0BEC5\",\"#B0BEC5\",\"#B0BEC5\",\"#B0BEC5\"]]}],\"label\":\"Topic 24\",\"method\":\"update\"},{\"args\":[{\"marker.color\":[[\"#B0BEC5\",\"#B0BEC5\",\"#B0BEC5\",\"#B0BEC5\",\"#B0BEC5\",\"#B0BEC5\",\"#B0BEC5\",\"#B0BEC5\",\"#B0BEC5\",\"#B0BEC5\",\"#B0BEC5\",\"#B0BEC5\",\"#B0BEC5\",\"#B0BEC5\",\"#B0BEC5\",\"#B0BEC5\",\"#B0BEC5\",\"#B0BEC5\",\"#B0BEC5\",\"#B0BEC5\",\"#B0BEC5\",\"#B0BEC5\",\"#B0BEC5\",\"#B0BEC5\",\"#B0BEC5\",\"red\",\"#B0BEC5\",\"#B0BEC5\",\"#B0BEC5\",\"#B0BEC5\",\"#B0BEC5\",\"#B0BEC5\",\"#B0BEC5\",\"#B0BEC5\",\"#B0BEC5\",\"#B0BEC5\",\"#B0BEC5\",\"#B0BEC5\",\"#B0BEC5\",\"#B0BEC5\",\"#B0BEC5\",\"#B0BEC5\",\"#B0BEC5\",\"#B0BEC5\",\"#B0BEC5\",\"#B0BEC5\",\"#B0BEC5\"]]}],\"label\":\"Topic 25\",\"method\":\"update\"},{\"args\":[{\"marker.color\":[[\"#B0BEC5\",\"#B0BEC5\",\"#B0BEC5\",\"#B0BEC5\",\"#B0BEC5\",\"#B0BEC5\",\"#B0BEC5\",\"#B0BEC5\",\"#B0BEC5\",\"#B0BEC5\",\"#B0BEC5\",\"#B0BEC5\",\"#B0BEC5\",\"#B0BEC5\",\"#B0BEC5\",\"#B0BEC5\",\"#B0BEC5\",\"#B0BEC5\",\"#B0BEC5\",\"#B0BEC5\",\"#B0BEC5\",\"#B0BEC5\",\"#B0BEC5\",\"#B0BEC5\",\"#B0BEC5\",\"#B0BEC5\",\"red\",\"#B0BEC5\",\"#B0BEC5\",\"#B0BEC5\",\"#B0BEC5\",\"#B0BEC5\",\"#B0BEC5\",\"#B0BEC5\",\"#B0BEC5\",\"#B0BEC5\",\"#B0BEC5\",\"#B0BEC5\",\"#B0BEC5\",\"#B0BEC5\",\"#B0BEC5\",\"#B0BEC5\",\"#B0BEC5\",\"#B0BEC5\",\"#B0BEC5\",\"#B0BEC5\",\"#B0BEC5\"]]}],\"label\":\"Topic 26\",\"method\":\"update\"},{\"args\":[{\"marker.color\":[[\"#B0BEC5\",\"#B0BEC5\",\"#B0BEC5\",\"#B0BEC5\",\"#B0BEC5\",\"#B0BEC5\",\"#B0BEC5\",\"#B0BEC5\",\"#B0BEC5\",\"#B0BEC5\",\"#B0BEC5\",\"#B0BEC5\",\"#B0BEC5\",\"#B0BEC5\",\"#B0BEC5\",\"#B0BEC5\",\"#B0BEC5\",\"#B0BEC5\",\"#B0BEC5\",\"#B0BEC5\",\"#B0BEC5\",\"#B0BEC5\",\"#B0BEC5\",\"#B0BEC5\",\"#B0BEC5\",\"#B0BEC5\",\"#B0BEC5\",\"red\",\"#B0BEC5\",\"#B0BEC5\",\"#B0BEC5\",\"#B0BEC5\",\"#B0BEC5\",\"#B0BEC5\",\"#B0BEC5\",\"#B0BEC5\",\"#B0BEC5\",\"#B0BEC5\",\"#B0BEC5\",\"#B0BEC5\",\"#B0BEC5\",\"#B0BEC5\",\"#B0BEC5\",\"#B0BEC5\",\"#B0BEC5\",\"#B0BEC5\",\"#B0BEC5\"]]}],\"label\":\"Topic 27\",\"method\":\"update\"},{\"args\":[{\"marker.color\":[[\"#B0BEC5\",\"#B0BEC5\",\"#B0BEC5\",\"#B0BEC5\",\"#B0BEC5\",\"#B0BEC5\",\"#B0BEC5\",\"#B0BEC5\",\"#B0BEC5\",\"#B0BEC5\",\"#B0BEC5\",\"#B0BEC5\",\"#B0BEC5\",\"#B0BEC5\",\"#B0BEC5\",\"#B0BEC5\",\"#B0BEC5\",\"#B0BEC5\",\"#B0BEC5\",\"#B0BEC5\",\"#B0BEC5\",\"#B0BEC5\",\"#B0BEC5\",\"#B0BEC5\",\"#B0BEC5\",\"#B0BEC5\",\"#B0BEC5\",\"#B0BEC5\",\"red\",\"#B0BEC5\",\"#B0BEC5\",\"#B0BEC5\",\"#B0BEC5\",\"#B0BEC5\",\"#B0BEC5\",\"#B0BEC5\",\"#B0BEC5\",\"#B0BEC5\",\"#B0BEC5\",\"#B0BEC5\",\"#B0BEC5\",\"#B0BEC5\",\"#B0BEC5\",\"#B0BEC5\",\"#B0BEC5\",\"#B0BEC5\",\"#B0BEC5\"]]}],\"label\":\"Topic 28\",\"method\":\"update\"},{\"args\":[{\"marker.color\":[[\"#B0BEC5\",\"#B0BEC5\",\"#B0BEC5\",\"#B0BEC5\",\"#B0BEC5\",\"#B0BEC5\",\"#B0BEC5\",\"#B0BEC5\",\"#B0BEC5\",\"#B0BEC5\",\"#B0BEC5\",\"#B0BEC5\",\"#B0BEC5\",\"#B0BEC5\",\"#B0BEC5\",\"#B0BEC5\",\"#B0BEC5\",\"#B0BEC5\",\"#B0BEC5\",\"#B0BEC5\",\"#B0BEC5\",\"#B0BEC5\",\"#B0BEC5\",\"#B0BEC5\",\"#B0BEC5\",\"#B0BEC5\",\"#B0BEC5\",\"#B0BEC5\",\"#B0BEC5\",\"red\",\"#B0BEC5\",\"#B0BEC5\",\"#B0BEC5\",\"#B0BEC5\",\"#B0BEC5\",\"#B0BEC5\",\"#B0BEC5\",\"#B0BEC5\",\"#B0BEC5\",\"#B0BEC5\",\"#B0BEC5\",\"#B0BEC5\",\"#B0BEC5\",\"#B0BEC5\",\"#B0BEC5\",\"#B0BEC5\",\"#B0BEC5\"]]}],\"label\":\"Topic 29\",\"method\":\"update\"},{\"args\":[{\"marker.color\":[[\"#B0BEC5\",\"#B0BEC5\",\"#B0BEC5\",\"#B0BEC5\",\"#B0BEC5\",\"#B0BEC5\",\"#B0BEC5\",\"#B0BEC5\",\"#B0BEC5\",\"#B0BEC5\",\"#B0BEC5\",\"#B0BEC5\",\"#B0BEC5\",\"#B0BEC5\",\"#B0BEC5\",\"#B0BEC5\",\"#B0BEC5\",\"#B0BEC5\",\"#B0BEC5\",\"#B0BEC5\",\"#B0BEC5\",\"#B0BEC5\",\"#B0BEC5\",\"#B0BEC5\",\"#B0BEC5\",\"#B0BEC5\",\"#B0BEC5\",\"#B0BEC5\",\"#B0BEC5\",\"#B0BEC5\",\"red\",\"#B0BEC5\",\"#B0BEC5\",\"#B0BEC5\",\"#B0BEC5\",\"#B0BEC5\",\"#B0BEC5\",\"#B0BEC5\",\"#B0BEC5\",\"#B0BEC5\",\"#B0BEC5\",\"#B0BEC5\",\"#B0BEC5\",\"#B0BEC5\",\"#B0BEC5\",\"#B0BEC5\",\"#B0BEC5\"]]}],\"label\":\"Topic 30\",\"method\":\"update\"},{\"args\":[{\"marker.color\":[[\"#B0BEC5\",\"#B0BEC5\",\"#B0BEC5\",\"#B0BEC5\",\"#B0BEC5\",\"#B0BEC5\",\"#B0BEC5\",\"#B0BEC5\",\"#B0BEC5\",\"#B0BEC5\",\"#B0BEC5\",\"#B0BEC5\",\"#B0BEC5\",\"#B0BEC5\",\"#B0BEC5\",\"#B0BEC5\",\"#B0BEC5\",\"#B0BEC5\",\"#B0BEC5\",\"#B0BEC5\",\"#B0BEC5\",\"#B0BEC5\",\"#B0BEC5\",\"#B0BEC5\",\"#B0BEC5\",\"#B0BEC5\",\"#B0BEC5\",\"#B0BEC5\",\"#B0BEC5\",\"#B0BEC5\",\"#B0BEC5\",\"red\",\"#B0BEC5\",\"#B0BEC5\",\"#B0BEC5\",\"#B0BEC5\",\"#B0BEC5\",\"#B0BEC5\",\"#B0BEC5\",\"#B0BEC5\",\"#B0BEC5\",\"#B0BEC5\",\"#B0BEC5\",\"#B0BEC5\",\"#B0BEC5\",\"#B0BEC5\",\"#B0BEC5\"]]}],\"label\":\"Topic 31\",\"method\":\"update\"},{\"args\":[{\"marker.color\":[[\"#B0BEC5\",\"#B0BEC5\",\"#B0BEC5\",\"#B0BEC5\",\"#B0BEC5\",\"#B0BEC5\",\"#B0BEC5\",\"#B0BEC5\",\"#B0BEC5\",\"#B0BEC5\",\"#B0BEC5\",\"#B0BEC5\",\"#B0BEC5\",\"#B0BEC5\",\"#B0BEC5\",\"#B0BEC5\",\"#B0BEC5\",\"#B0BEC5\",\"#B0BEC5\",\"#B0BEC5\",\"#B0BEC5\",\"#B0BEC5\",\"#B0BEC5\",\"#B0BEC5\",\"#B0BEC5\",\"#B0BEC5\",\"#B0BEC5\",\"#B0BEC5\",\"#B0BEC5\",\"#B0BEC5\",\"#B0BEC5\",\"#B0BEC5\",\"red\",\"#B0BEC5\",\"#B0BEC5\",\"#B0BEC5\",\"#B0BEC5\",\"#B0BEC5\",\"#B0BEC5\",\"#B0BEC5\",\"#B0BEC5\",\"#B0BEC5\",\"#B0BEC5\",\"#B0BEC5\",\"#B0BEC5\",\"#B0BEC5\",\"#B0BEC5\"]]}],\"label\":\"Topic 32\",\"method\":\"update\"},{\"args\":[{\"marker.color\":[[\"#B0BEC5\",\"#B0BEC5\",\"#B0BEC5\",\"#B0BEC5\",\"#B0BEC5\",\"#B0BEC5\",\"#B0BEC5\",\"#B0BEC5\",\"#B0BEC5\",\"#B0BEC5\",\"#B0BEC5\",\"#B0BEC5\",\"#B0BEC5\",\"#B0BEC5\",\"#B0BEC5\",\"#B0BEC5\",\"#B0BEC5\",\"#B0BEC5\",\"#B0BEC5\",\"#B0BEC5\",\"#B0BEC5\",\"#B0BEC5\",\"#B0BEC5\",\"#B0BEC5\",\"#B0BEC5\",\"#B0BEC5\",\"#B0BEC5\",\"#B0BEC5\",\"#B0BEC5\",\"#B0BEC5\",\"#B0BEC5\",\"#B0BEC5\",\"#B0BEC5\",\"red\",\"#B0BEC5\",\"#B0BEC5\",\"#B0BEC5\",\"#B0BEC5\",\"#B0BEC5\",\"#B0BEC5\",\"#B0BEC5\",\"#B0BEC5\",\"#B0BEC5\",\"#B0BEC5\",\"#B0BEC5\",\"#B0BEC5\",\"#B0BEC5\"]]}],\"label\":\"Topic 33\",\"method\":\"update\"},{\"args\":[{\"marker.color\":[[\"#B0BEC5\",\"#B0BEC5\",\"#B0BEC5\",\"#B0BEC5\",\"#B0BEC5\",\"#B0BEC5\",\"#B0BEC5\",\"#B0BEC5\",\"#B0BEC5\",\"#B0BEC5\",\"#B0BEC5\",\"#B0BEC5\",\"#B0BEC5\",\"#B0BEC5\",\"#B0BEC5\",\"#B0BEC5\",\"#B0BEC5\",\"#B0BEC5\",\"#B0BEC5\",\"#B0BEC5\",\"#B0BEC5\",\"#B0BEC5\",\"#B0BEC5\",\"#B0BEC5\",\"#B0BEC5\",\"#B0BEC5\",\"#B0BEC5\",\"#B0BEC5\",\"#B0BEC5\",\"#B0BEC5\",\"#B0BEC5\",\"#B0BEC5\",\"#B0BEC5\",\"#B0BEC5\",\"red\",\"#B0BEC5\",\"#B0BEC5\",\"#B0BEC5\",\"#B0BEC5\",\"#B0BEC5\",\"#B0BEC5\",\"#B0BEC5\",\"#B0BEC5\",\"#B0BEC5\",\"#B0BEC5\",\"#B0BEC5\",\"#B0BEC5\"]]}],\"label\":\"Topic 34\",\"method\":\"update\"},{\"args\":[{\"marker.color\":[[\"#B0BEC5\",\"#B0BEC5\",\"#B0BEC5\",\"#B0BEC5\",\"#B0BEC5\",\"#B0BEC5\",\"#B0BEC5\",\"#B0BEC5\",\"#B0BEC5\",\"#B0BEC5\",\"#B0BEC5\",\"#B0BEC5\",\"#B0BEC5\",\"#B0BEC5\",\"#B0BEC5\",\"#B0BEC5\",\"#B0BEC5\",\"#B0BEC5\",\"#B0BEC5\",\"#B0BEC5\",\"#B0BEC5\",\"#B0BEC5\",\"#B0BEC5\",\"#B0BEC5\",\"#B0BEC5\",\"#B0BEC5\",\"#B0BEC5\",\"#B0BEC5\",\"#B0BEC5\",\"#B0BEC5\",\"#B0BEC5\",\"#B0BEC5\",\"#B0BEC5\",\"#B0BEC5\",\"#B0BEC5\",\"red\",\"#B0BEC5\",\"#B0BEC5\",\"#B0BEC5\",\"#B0BEC5\",\"#B0BEC5\",\"#B0BEC5\",\"#B0BEC5\",\"#B0BEC5\",\"#B0BEC5\",\"#B0BEC5\",\"#B0BEC5\"]]}],\"label\":\"Topic 35\",\"method\":\"update\"},{\"args\":[{\"marker.color\":[[\"#B0BEC5\",\"#B0BEC5\",\"#B0BEC5\",\"#B0BEC5\",\"#B0BEC5\",\"#B0BEC5\",\"#B0BEC5\",\"#B0BEC5\",\"#B0BEC5\",\"#B0BEC5\",\"#B0BEC5\",\"#B0BEC5\",\"#B0BEC5\",\"#B0BEC5\",\"#B0BEC5\",\"#B0BEC5\",\"#B0BEC5\",\"#B0BEC5\",\"#B0BEC5\",\"#B0BEC5\",\"#B0BEC5\",\"#B0BEC5\",\"#B0BEC5\",\"#B0BEC5\",\"#B0BEC5\",\"#B0BEC5\",\"#B0BEC5\",\"#B0BEC5\",\"#B0BEC5\",\"#B0BEC5\",\"#B0BEC5\",\"#B0BEC5\",\"#B0BEC5\",\"#B0BEC5\",\"#B0BEC5\",\"#B0BEC5\",\"red\",\"#B0BEC5\",\"#B0BEC5\",\"#B0BEC5\",\"#B0BEC5\",\"#B0BEC5\",\"#B0BEC5\",\"#B0BEC5\",\"#B0BEC5\",\"#B0BEC5\",\"#B0BEC5\"]]}],\"label\":\"Topic 36\",\"method\":\"update\"},{\"args\":[{\"marker.color\":[[\"#B0BEC5\",\"#B0BEC5\",\"#B0BEC5\",\"#B0BEC5\",\"#B0BEC5\",\"#B0BEC5\",\"#B0BEC5\",\"#B0BEC5\",\"#B0BEC5\",\"#B0BEC5\",\"#B0BEC5\",\"#B0BEC5\",\"#B0BEC5\",\"#B0BEC5\",\"#B0BEC5\",\"#B0BEC5\",\"#B0BEC5\",\"#B0BEC5\",\"#B0BEC5\",\"#B0BEC5\",\"#B0BEC5\",\"#B0BEC5\",\"#B0BEC5\",\"#B0BEC5\",\"#B0BEC5\",\"#B0BEC5\",\"#B0BEC5\",\"#B0BEC5\",\"#B0BEC5\",\"#B0BEC5\",\"#B0BEC5\",\"#B0BEC5\",\"#B0BEC5\",\"#B0BEC5\",\"#B0BEC5\",\"#B0BEC5\",\"#B0BEC5\",\"red\",\"#B0BEC5\",\"#B0BEC5\",\"#B0BEC5\",\"#B0BEC5\",\"#B0BEC5\",\"#B0BEC5\",\"#B0BEC5\",\"#B0BEC5\",\"#B0BEC5\"]]}],\"label\":\"Topic 37\",\"method\":\"update\"},{\"args\":[{\"marker.color\":[[\"#B0BEC5\",\"#B0BEC5\",\"#B0BEC5\",\"#B0BEC5\",\"#B0BEC5\",\"#B0BEC5\",\"#B0BEC5\",\"#B0BEC5\",\"#B0BEC5\",\"#B0BEC5\",\"#B0BEC5\",\"#B0BEC5\",\"#B0BEC5\",\"#B0BEC5\",\"#B0BEC5\",\"#B0BEC5\",\"#B0BEC5\",\"#B0BEC5\",\"#B0BEC5\",\"#B0BEC5\",\"#B0BEC5\",\"#B0BEC5\",\"#B0BEC5\",\"#B0BEC5\",\"#B0BEC5\",\"#B0BEC5\",\"#B0BEC5\",\"#B0BEC5\",\"#B0BEC5\",\"#B0BEC5\",\"#B0BEC5\",\"#B0BEC5\",\"#B0BEC5\",\"#B0BEC5\",\"#B0BEC5\",\"#B0BEC5\",\"#B0BEC5\",\"#B0BEC5\",\"red\",\"#B0BEC5\",\"#B0BEC5\",\"#B0BEC5\",\"#B0BEC5\",\"#B0BEC5\",\"#B0BEC5\",\"#B0BEC5\",\"#B0BEC5\"]]}],\"label\":\"Topic 38\",\"method\":\"update\"},{\"args\":[{\"marker.color\":[[\"#B0BEC5\",\"#B0BEC5\",\"#B0BEC5\",\"#B0BEC5\",\"#B0BEC5\",\"#B0BEC5\",\"#B0BEC5\",\"#B0BEC5\",\"#B0BEC5\",\"#B0BEC5\",\"#B0BEC5\",\"#B0BEC5\",\"#B0BEC5\",\"#B0BEC5\",\"#B0BEC5\",\"#B0BEC5\",\"#B0BEC5\",\"#B0BEC5\",\"#B0BEC5\",\"#B0BEC5\",\"#B0BEC5\",\"#B0BEC5\",\"#B0BEC5\",\"#B0BEC5\",\"#B0BEC5\",\"#B0BEC5\",\"#B0BEC5\",\"#B0BEC5\",\"#B0BEC5\",\"#B0BEC5\",\"#B0BEC5\",\"#B0BEC5\",\"#B0BEC5\",\"#B0BEC5\",\"#B0BEC5\",\"#B0BEC5\",\"#B0BEC5\",\"#B0BEC5\",\"#B0BEC5\",\"red\",\"#B0BEC5\",\"#B0BEC5\",\"#B0BEC5\",\"#B0BEC5\",\"#B0BEC5\",\"#B0BEC5\",\"#B0BEC5\"]]}],\"label\":\"Topic 39\",\"method\":\"update\"},{\"args\":[{\"marker.color\":[[\"#B0BEC5\",\"#B0BEC5\",\"#B0BEC5\",\"#B0BEC5\",\"#B0BEC5\",\"#B0BEC5\",\"#B0BEC5\",\"#B0BEC5\",\"#B0BEC5\",\"#B0BEC5\",\"#B0BEC5\",\"#B0BEC5\",\"#B0BEC5\",\"#B0BEC5\",\"#B0BEC5\",\"#B0BEC5\",\"#B0BEC5\",\"#B0BEC5\",\"#B0BEC5\",\"#B0BEC5\",\"#B0BEC5\",\"#B0BEC5\",\"#B0BEC5\",\"#B0BEC5\",\"#B0BEC5\",\"#B0BEC5\",\"#B0BEC5\",\"#B0BEC5\",\"#B0BEC5\",\"#B0BEC5\",\"#B0BEC5\",\"#B0BEC5\",\"#B0BEC5\",\"#B0BEC5\",\"#B0BEC5\",\"#B0BEC5\",\"#B0BEC5\",\"#B0BEC5\",\"#B0BEC5\",\"#B0BEC5\",\"red\",\"#B0BEC5\",\"#B0BEC5\",\"#B0BEC5\",\"#B0BEC5\",\"#B0BEC5\",\"#B0BEC5\"]]}],\"label\":\"Topic 40\",\"method\":\"update\"},{\"args\":[{\"marker.color\":[[\"#B0BEC5\",\"#B0BEC5\",\"#B0BEC5\",\"#B0BEC5\",\"#B0BEC5\",\"#B0BEC5\",\"#B0BEC5\",\"#B0BEC5\",\"#B0BEC5\",\"#B0BEC5\",\"#B0BEC5\",\"#B0BEC5\",\"#B0BEC5\",\"#B0BEC5\",\"#B0BEC5\",\"#B0BEC5\",\"#B0BEC5\",\"#B0BEC5\",\"#B0BEC5\",\"#B0BEC5\",\"#B0BEC5\",\"#B0BEC5\",\"#B0BEC5\",\"#B0BEC5\",\"#B0BEC5\",\"#B0BEC5\",\"#B0BEC5\",\"#B0BEC5\",\"#B0BEC5\",\"#B0BEC5\",\"#B0BEC5\",\"#B0BEC5\",\"#B0BEC5\",\"#B0BEC5\",\"#B0BEC5\",\"#B0BEC5\",\"#B0BEC5\",\"#B0BEC5\",\"#B0BEC5\",\"#B0BEC5\",\"#B0BEC5\",\"red\",\"#B0BEC5\",\"#B0BEC5\",\"#B0BEC5\",\"#B0BEC5\",\"#B0BEC5\"]]}],\"label\":\"Topic 41\",\"method\":\"update\"},{\"args\":[{\"marker.color\":[[\"#B0BEC5\",\"#B0BEC5\",\"#B0BEC5\",\"#B0BEC5\",\"#B0BEC5\",\"#B0BEC5\",\"#B0BEC5\",\"#B0BEC5\",\"#B0BEC5\",\"#B0BEC5\",\"#B0BEC5\",\"#B0BEC5\",\"#B0BEC5\",\"#B0BEC5\",\"#B0BEC5\",\"#B0BEC5\",\"#B0BEC5\",\"#B0BEC5\",\"#B0BEC5\",\"#B0BEC5\",\"#B0BEC5\",\"#B0BEC5\",\"#B0BEC5\",\"#B0BEC5\",\"#B0BEC5\",\"#B0BEC5\",\"#B0BEC5\",\"#B0BEC5\",\"#B0BEC5\",\"#B0BEC5\",\"#B0BEC5\",\"#B0BEC5\",\"#B0BEC5\",\"#B0BEC5\",\"#B0BEC5\",\"#B0BEC5\",\"#B0BEC5\",\"#B0BEC5\",\"#B0BEC5\",\"#B0BEC5\",\"#B0BEC5\",\"#B0BEC5\",\"red\",\"#B0BEC5\",\"#B0BEC5\",\"#B0BEC5\",\"#B0BEC5\"]]}],\"label\":\"Topic 42\",\"method\":\"update\"},{\"args\":[{\"marker.color\":[[\"#B0BEC5\",\"#B0BEC5\",\"#B0BEC5\",\"#B0BEC5\",\"#B0BEC5\",\"#B0BEC5\",\"#B0BEC5\",\"#B0BEC5\",\"#B0BEC5\",\"#B0BEC5\",\"#B0BEC5\",\"#B0BEC5\",\"#B0BEC5\",\"#B0BEC5\",\"#B0BEC5\",\"#B0BEC5\",\"#B0BEC5\",\"#B0BEC5\",\"#B0BEC5\",\"#B0BEC5\",\"#B0BEC5\",\"#B0BEC5\",\"#B0BEC5\",\"#B0BEC5\",\"#B0BEC5\",\"#B0BEC5\",\"#B0BEC5\",\"#B0BEC5\",\"#B0BEC5\",\"#B0BEC5\",\"#B0BEC5\",\"#B0BEC5\",\"#B0BEC5\",\"#B0BEC5\",\"#B0BEC5\",\"#B0BEC5\",\"#B0BEC5\",\"#B0BEC5\",\"#B0BEC5\",\"#B0BEC5\",\"#B0BEC5\",\"#B0BEC5\",\"#B0BEC5\",\"red\",\"#B0BEC5\",\"#B0BEC5\",\"#B0BEC5\"]]}],\"label\":\"Topic 43\",\"method\":\"update\"},{\"args\":[{\"marker.color\":[[\"#B0BEC5\",\"#B0BEC5\",\"#B0BEC5\",\"#B0BEC5\",\"#B0BEC5\",\"#B0BEC5\",\"#B0BEC5\",\"#B0BEC5\",\"#B0BEC5\",\"#B0BEC5\",\"#B0BEC5\",\"#B0BEC5\",\"#B0BEC5\",\"#B0BEC5\",\"#B0BEC5\",\"#B0BEC5\",\"#B0BEC5\",\"#B0BEC5\",\"#B0BEC5\",\"#B0BEC5\",\"#B0BEC5\",\"#B0BEC5\",\"#B0BEC5\",\"#B0BEC5\",\"#B0BEC5\",\"#B0BEC5\",\"#B0BEC5\",\"#B0BEC5\",\"#B0BEC5\",\"#B0BEC5\",\"#B0BEC5\",\"#B0BEC5\",\"#B0BEC5\",\"#B0BEC5\",\"#B0BEC5\",\"#B0BEC5\",\"#B0BEC5\",\"#B0BEC5\",\"#B0BEC5\",\"#B0BEC5\",\"#B0BEC5\",\"#B0BEC5\",\"#B0BEC5\",\"#B0BEC5\",\"red\",\"#B0BEC5\",\"#B0BEC5\"]]}],\"label\":\"Topic 44\",\"method\":\"update\"},{\"args\":[{\"marker.color\":[[\"#B0BEC5\",\"#B0BEC5\",\"#B0BEC5\",\"#B0BEC5\",\"#B0BEC5\",\"#B0BEC5\",\"#B0BEC5\",\"#B0BEC5\",\"#B0BEC5\",\"#B0BEC5\",\"#B0BEC5\",\"#B0BEC5\",\"#B0BEC5\",\"#B0BEC5\",\"#B0BEC5\",\"#B0BEC5\",\"#B0BEC5\",\"#B0BEC5\",\"#B0BEC5\",\"#B0BEC5\",\"#B0BEC5\",\"#B0BEC5\",\"#B0BEC5\",\"#B0BEC5\",\"#B0BEC5\",\"#B0BEC5\",\"#B0BEC5\",\"#B0BEC5\",\"#B0BEC5\",\"#B0BEC5\",\"#B0BEC5\",\"#B0BEC5\",\"#B0BEC5\",\"#B0BEC5\",\"#B0BEC5\",\"#B0BEC5\",\"#B0BEC5\",\"#B0BEC5\",\"#B0BEC5\",\"#B0BEC5\",\"#B0BEC5\",\"#B0BEC5\",\"#B0BEC5\",\"#B0BEC5\",\"#B0BEC5\",\"red\",\"#B0BEC5\"]]}],\"label\":\"Topic 45\",\"method\":\"update\"},{\"args\":[{\"marker.color\":[[\"#B0BEC5\",\"#B0BEC5\",\"#B0BEC5\",\"#B0BEC5\",\"#B0BEC5\",\"#B0BEC5\",\"#B0BEC5\",\"#B0BEC5\",\"#B0BEC5\",\"#B0BEC5\",\"#B0BEC5\",\"#B0BEC5\",\"#B0BEC5\",\"#B0BEC5\",\"#B0BEC5\",\"#B0BEC5\",\"#B0BEC5\",\"#B0BEC5\",\"#B0BEC5\",\"#B0BEC5\",\"#B0BEC5\",\"#B0BEC5\",\"#B0BEC5\",\"#B0BEC5\",\"#B0BEC5\",\"#B0BEC5\",\"#B0BEC5\",\"#B0BEC5\",\"#B0BEC5\",\"#B0BEC5\",\"#B0BEC5\",\"#B0BEC5\",\"#B0BEC5\",\"#B0BEC5\",\"#B0BEC5\",\"#B0BEC5\",\"#B0BEC5\",\"#B0BEC5\",\"#B0BEC5\",\"#B0BEC5\",\"#B0BEC5\",\"#B0BEC5\",\"#B0BEC5\",\"#B0BEC5\",\"#B0BEC5\",\"#B0BEC5\",\"red\"]]}],\"label\":\"Topic 46\",\"method\":\"update\"}]}],\"shapes\":[{\"line\":{\"color\":\"#CFD8DC\",\"width\":2},\"type\":\"line\",\"x0\":2.8097541570663456,\"x1\":2.8097541570663456,\"y0\":-18.32215223312378,\"y1\":17.078753995895386},{\"line\":{\"color\":\"#9E9E9E\",\"width\":2},\"type\":\"line\",\"x0\":-16.511064767837524,\"x1\":22.130573081970216,\"y0\":-0.6216991186141971,\"y1\":-0.6216991186141971}],\"annotations\":[{\"showarrow\":false,\"text\":\"D1\",\"x\":-16.511064767837524,\"y\":-0.6216991186141971,\"yshift\":10},{\"showarrow\":false,\"text\":\"D2\",\"x\":2.8097541570663456,\"xshift\":10,\"y\":17.078753995895386}]},                        {\"responsive\": true}                    ).then(function(){\n",
       "                            \n",
       "var gd = document.getElementById('256ed07c-7df9-42d2-a6d0-06f55cda726c');\n",
       "var x = new MutationObserver(function (mutations, observer) {{\n",
       "        var display = window.getComputedStyle(gd).display;\n",
       "        if (!display || display === 'none') {{\n",
       "            console.log([gd, 'removed!']);\n",
       "            Plotly.purge(gd);\n",
       "            observer.disconnect();\n",
       "        }}\n",
       "}});\n",
       "\n",
       "// Listen for the removal of the full notebook cells\n",
       "var notebookContainer = gd.closest('#notebook-container');\n",
       "if (notebookContainer) {{\n",
       "    x.observe(notebookContainer, {childList: true});\n",
       "}}\n",
       "\n",
       "// Listen for the clearing of the current output cell\n",
       "var outputEl = gd.closest('.output');\n",
       "if (outputEl) {{\n",
       "    x.observe(outputEl, {childList: true});\n",
       "}}\n",
       "\n",
       "                        })                };                });            </script>        </div>"
      ]
     },
     "metadata": {},
     "output_type": "display_data"
    }
   ],
   "source": [
    "# Show UMAP\n",
    "topic_distance"
   ]
  },
  {
   "cell_type": "markdown",
   "id": "82f9e0df-751f-483c-b113-9f1a711cf4ba",
   "metadata": {},
   "source": [
    " - Examples of representitive papers were analysied to further verify that the topics were applicable. This can be seen in the appendix."
   ]
  },
  {
   "cell_type": "markdown",
   "id": "c403e2d1-15ee-40f4-ba5c-8c0c14914fec",
   "metadata": {},
   "source": [
    "## Insights\n",
    "\n",
    " - Of the 47 topics generated, we consider adverserial safety research (topics 10, 14), fairness (topic 31) and interperability (topic 16) to be of most direct relevance to AI Alignment.\n",
    " - Form 2007-2022 (11 years), these topics have grown from 0.5% to 7.2% of all literature.\n",
    " - Over the past 5 years, these topics have grown from 3.9% to 7.2%."
   ]
  },
  {
   "cell_type": "code",
   "execution_count": 20,
   "id": "62e611a1-1d29-4cf2-8e50-105cfeddb892",
   "metadata": {},
   "outputs": [
    {
     "data": {
      "application/vnd.plotly.v1+json": {
       "config": {
        "plotlyServerURL": "https://plot.ly"
       },
       "data": [
        {
         "hoverinfo": "text",
         "hovertext": [
          "<b>Topic 10</b><br>Words: bitstream, watermark, message, attack, watermarking",
          "<b>Topic 10</b><br>Words: subsvms, svm, attacks, adversarial, subsampled",
          "<b>Topic 10</b><br>Words: svms, security, evasion, poisoning, attack",
          "<b>Topic 10</b><br>Words: adversarial, dnns, examples, watermarking, lion",
          "<b>Topic 10</b><br>Words: adversarial, attacks, perturbations, robustness, examples",
          "<b>Topic 10</b><br>Words: adversarial, attacks, examples, attack, robustness",
          "<b>Topic 10</b><br>Words: adversarial, attacks, attack, examples, robustness",
          "<b>Topic 10</b><br>Words: adversarial, attacks, attack, robustness, examples",
          "<b>Topic 10</b><br>Words: adversarial, attacks, attack, robustness, perturbations",
          "<b>Topic 10</b><br>Words: adversarial, attacks, attack, robustness, perturbations",
          "<b>Topic 10</b><br>Words: adversarial, attacks, robustness, attack, examples"
         ],
         "marker": {
          "color": "#E69F00"
         },
         "mode": "lines",
         "name": "10_adversarial_attacks_attack_robustness",
         "type": "scatter",
         "x": [
          2012,
          2013,
          2014,
          2015,
          2016,
          2017,
          2018,
          2019,
          2020,
          2021,
          2022
         ],
         "y": [
          0.00046882325363338024,
          0.000666000666000666,
          0.000362844702467344,
          0.0015723270440251573,
          0.005676616004394799,
          0.012760702524698134,
          0.022894872234608128,
          0.02739294710327456,
          0.02507792068211944,
          0.025051196454119563,
          0.023769782393669635
         ]
        },
        {
         "hoverinfo": "text",
         "hovertext": [
          "<b>Topic 14</b><br>Words: ctd, anomaly, detection, pe, immune",
          "<b>Topic 14</b><br>Words: detection, intrusion, client, security, iacd",
          "<b>Topic 14</b><br>Words: detection, anomaly, malware, attack, security",
          "<b>Topic 14</b><br>Words: detection, anomaly, anomalies, outliers, phishing",
          "<b>Topic 14</b><br>Words: anomaly, detection, outlier, anomalies, detect",
          "<b>Topic 14</b><br>Words: detection, anomaly, malware, anomalies, security",
          "<b>Topic 14</b><br>Words: detection, malware, anomaly, anomalies, security",
          "<b>Topic 14</b><br>Words: detection, anomaly, malware, security, anomalies",
          "<b>Topic 14</b><br>Words: detection, anomaly, malware, anomalies, security",
          "<b>Topic 14</b><br>Words: detection, anomaly, malware, anomalies, attacks",
          "<b>Topic 14</b><br>Words: detection, anomaly, malware, anomalies, attacks",
          "<b>Topic 14</b><br>Words: detection, anomaly, malware, anomalies, attacks"
         ],
         "marker": {
          "color": "#56B4E9"
         },
         "mode": "lines",
         "name": "14_detection_anomaly_malware_anomalies",
         "type": "scatter",
         "x": [
          2011,
          2012,
          2013,
          2014,
          2015,
          2016,
          2017,
          2018,
          2019,
          2020,
          2021,
          2022
         ],
         "y": [
          0.0034904013961605585,
          0.007032348804500703,
          0.009657009657009658,
          0.011248185776487663,
          0.008385744234800839,
          0.018494781175608863,
          0.012486278814489571,
          0.01800720288115246,
          0.017737195633921076,
          0.016623078852147744,
          0.0209274272729823,
          0.01777324431256182
         ]
        },
        {
         "hoverinfo": "text",
         "hovertext": [
          "<b>Topic 16</b><br>Words: projects, stage, intelligent, joined, subsamples",
          "<b>Topic 16</b><br>Words: generalisation, corporate, education, evaluation, intelligent",
          "<b>Topic 16</b><br>Words: entwined, concerns, intelligent, sociological, began",
          "<b>Topic 16</b><br>Words: explanations, morally, halting, robots, computable",
          "<b>Topic 16</b><br>Words: sociotechnological, triclustering, ethical, progress, explanations",
          "<b>Topic 16</b><br>Words: explanations, interpretable, ethical, interpretability, predictions",
          "<b>Topic 16</b><br>Words: explanations, interpretability, ethics, interpretable, human",
          "<b>Topic 16</b><br>Words: explanations, interpretability, black, human, interpretable",
          "<b>Topic 16</b><br>Words: explanations, interpretability, interpretable, black, human",
          "<b>Topic 16</b><br>Words: explanations, interpretability, explainable, interpretable, explainability",
          "<b>Topic 16</b><br>Words: explanations, interpretability, explainable, counterfactual, explainability",
          "<b>Topic 16</b><br>Words: explanations, interpretability, explainability, explainable, xai"
         ],
         "marker": {
          "color": "#009E73"
         },
         "mode": "lines",
         "name": "16_explanations_interpretability_explain...",
         "type": "scatter",
         "x": [
          2011,
          2012,
          2013,
          2014,
          2015,
          2016,
          2017,
          2018,
          2019,
          2020,
          2021,
          2022
         ],
         "y": [
          0.0017452006980802793,
          0.0014064697609001407,
          0.000333000333000333,
          0.0010885341074020319,
          0.0018343815513626835,
          0.005676616004394799,
          0.009193194291986827,
          0.013719773623735209,
          0.014221242653232578,
          0.016121520438505357,
          0.019693101803798355,
          0.018886003956478735
         ]
        },
        {
         "hoverinfo": "text",
         "hovertext": [
          "<b>Topic 31</b><br>Words: fairness, nerm, disparate, neutral, erm",
          "<b>Topic 31</b><br>Words: fairness, discrimination, bias, fair, algorithmic",
          "<b>Topic 31</b><br>Words: fairness, fair, discrimination, sensitive, groups",
          "<b>Topic 31</b><br>Words: fairness, fair, discrimination, bias, protected",
          "<b>Topic 31</b><br>Words: fairness, fair, bias, discrimination, groups",
          "<b>Topic 31</b><br>Words: fairness, fair, bias, groups, sensitive",
          "<b>Topic 31</b><br>Words: fairness, fair, bias, groups, sensitive",
          "<b>Topic 31</b><br>Words: fairness, fair, bias, groups, sensitive"
         ],
         "marker": {
          "color": "#F0E442"
         },
         "mode": "lines",
         "name": "31_fairness_fair_bias_groups",
         "type": "scatter",
         "x": [
          2015,
          2016,
          2017,
          2018,
          2019,
          2020,
          2021,
          2022
         ],
         "y": [
          0.0010482180293501049,
          0.0023805163889397546,
          0.004253567508232711,
          0.00763162407820271,
          0.006821998320738875,
          0.00813241142120159,
          0.008107274104412714,
          0.011096686449060335
         ]
        }
       ],
       "layout": {
        "height": 800,
        "hoverlabel": {
         "bgcolor": "white",
         "font": {
          "family": "Rockwell",
          "size": 16
         }
        },
        "legend": {
         "title": {
          "text": "<b>Global Topic Representation"
         }
        },
        "template": {
         "data": {
          "bar": [
           {
            "error_x": {
             "color": "rgb(36,36,36)"
            },
            "error_y": {
             "color": "rgb(36,36,36)"
            },
            "marker": {
             "line": {
              "color": "white",
              "width": 0.5
             },
             "pattern": {
              "fillmode": "overlay",
              "size": 10,
              "solidity": 0.2
             }
            },
            "type": "bar"
           }
          ],
          "barpolar": [
           {
            "marker": {
             "line": {
              "color": "white",
              "width": 0.5
             },
             "pattern": {
              "fillmode": "overlay",
              "size": 10,
              "solidity": 0.2
             }
            },
            "type": "barpolar"
           }
          ],
          "carpet": [
           {
            "aaxis": {
             "endlinecolor": "rgb(36,36,36)",
             "gridcolor": "white",
             "linecolor": "white",
             "minorgridcolor": "white",
             "startlinecolor": "rgb(36,36,36)"
            },
            "baxis": {
             "endlinecolor": "rgb(36,36,36)",
             "gridcolor": "white",
             "linecolor": "white",
             "minorgridcolor": "white",
             "startlinecolor": "rgb(36,36,36)"
            },
            "type": "carpet"
           }
          ],
          "choropleth": [
           {
            "colorbar": {
             "outlinewidth": 1,
             "tickcolor": "rgb(36,36,36)",
             "ticks": "outside"
            },
            "type": "choropleth"
           }
          ],
          "contour": [
           {
            "colorbar": {
             "outlinewidth": 1,
             "tickcolor": "rgb(36,36,36)",
             "ticks": "outside"
            },
            "colorscale": [
             [
              0,
              "#440154"
             ],
             [
              0.1111111111111111,
              "#482878"
             ],
             [
              0.2222222222222222,
              "#3e4989"
             ],
             [
              0.3333333333333333,
              "#31688e"
             ],
             [
              0.4444444444444444,
              "#26828e"
             ],
             [
              0.5555555555555556,
              "#1f9e89"
             ],
             [
              0.6666666666666666,
              "#35b779"
             ],
             [
              0.7777777777777778,
              "#6ece58"
             ],
             [
              0.8888888888888888,
              "#b5de2b"
             ],
             [
              1,
              "#fde725"
             ]
            ],
            "type": "contour"
           }
          ],
          "contourcarpet": [
           {
            "colorbar": {
             "outlinewidth": 1,
             "tickcolor": "rgb(36,36,36)",
             "ticks": "outside"
            },
            "type": "contourcarpet"
           }
          ],
          "heatmap": [
           {
            "colorbar": {
             "outlinewidth": 1,
             "tickcolor": "rgb(36,36,36)",
             "ticks": "outside"
            },
            "colorscale": [
             [
              0,
              "#440154"
             ],
             [
              0.1111111111111111,
              "#482878"
             ],
             [
              0.2222222222222222,
              "#3e4989"
             ],
             [
              0.3333333333333333,
              "#31688e"
             ],
             [
              0.4444444444444444,
              "#26828e"
             ],
             [
              0.5555555555555556,
              "#1f9e89"
             ],
             [
              0.6666666666666666,
              "#35b779"
             ],
             [
              0.7777777777777778,
              "#6ece58"
             ],
             [
              0.8888888888888888,
              "#b5de2b"
             ],
             [
              1,
              "#fde725"
             ]
            ],
            "type": "heatmap"
           }
          ],
          "heatmapgl": [
           {
            "colorbar": {
             "outlinewidth": 1,
             "tickcolor": "rgb(36,36,36)",
             "ticks": "outside"
            },
            "colorscale": [
             [
              0,
              "#440154"
             ],
             [
              0.1111111111111111,
              "#482878"
             ],
             [
              0.2222222222222222,
              "#3e4989"
             ],
             [
              0.3333333333333333,
              "#31688e"
             ],
             [
              0.4444444444444444,
              "#26828e"
             ],
             [
              0.5555555555555556,
              "#1f9e89"
             ],
             [
              0.6666666666666666,
              "#35b779"
             ],
             [
              0.7777777777777778,
              "#6ece58"
             ],
             [
              0.8888888888888888,
              "#b5de2b"
             ],
             [
              1,
              "#fde725"
             ]
            ],
            "type": "heatmapgl"
           }
          ],
          "histogram": [
           {
            "marker": {
             "line": {
              "color": "white",
              "width": 0.6
             }
            },
            "type": "histogram"
           }
          ],
          "histogram2d": [
           {
            "colorbar": {
             "outlinewidth": 1,
             "tickcolor": "rgb(36,36,36)",
             "ticks": "outside"
            },
            "colorscale": [
             [
              0,
              "#440154"
             ],
             [
              0.1111111111111111,
              "#482878"
             ],
             [
              0.2222222222222222,
              "#3e4989"
             ],
             [
              0.3333333333333333,
              "#31688e"
             ],
             [
              0.4444444444444444,
              "#26828e"
             ],
             [
              0.5555555555555556,
              "#1f9e89"
             ],
             [
              0.6666666666666666,
              "#35b779"
             ],
             [
              0.7777777777777778,
              "#6ece58"
             ],
             [
              0.8888888888888888,
              "#b5de2b"
             ],
             [
              1,
              "#fde725"
             ]
            ],
            "type": "histogram2d"
           }
          ],
          "histogram2dcontour": [
           {
            "colorbar": {
             "outlinewidth": 1,
             "tickcolor": "rgb(36,36,36)",
             "ticks": "outside"
            },
            "colorscale": [
             [
              0,
              "#440154"
             ],
             [
              0.1111111111111111,
              "#482878"
             ],
             [
              0.2222222222222222,
              "#3e4989"
             ],
             [
              0.3333333333333333,
              "#31688e"
             ],
             [
              0.4444444444444444,
              "#26828e"
             ],
             [
              0.5555555555555556,
              "#1f9e89"
             ],
             [
              0.6666666666666666,
              "#35b779"
             ],
             [
              0.7777777777777778,
              "#6ece58"
             ],
             [
              0.8888888888888888,
              "#b5de2b"
             ],
             [
              1,
              "#fde725"
             ]
            ],
            "type": "histogram2dcontour"
           }
          ],
          "mesh3d": [
           {
            "colorbar": {
             "outlinewidth": 1,
             "tickcolor": "rgb(36,36,36)",
             "ticks": "outside"
            },
            "type": "mesh3d"
           }
          ],
          "parcoords": [
           {
            "line": {
             "colorbar": {
              "outlinewidth": 1,
              "tickcolor": "rgb(36,36,36)",
              "ticks": "outside"
             }
            },
            "type": "parcoords"
           }
          ],
          "pie": [
           {
            "automargin": true,
            "type": "pie"
           }
          ],
          "scatter": [
           {
            "fillpattern": {
             "fillmode": "overlay",
             "size": 10,
             "solidity": 0.2
            },
            "type": "scatter"
           }
          ],
          "scatter3d": [
           {
            "line": {
             "colorbar": {
              "outlinewidth": 1,
              "tickcolor": "rgb(36,36,36)",
              "ticks": "outside"
             }
            },
            "marker": {
             "colorbar": {
              "outlinewidth": 1,
              "tickcolor": "rgb(36,36,36)",
              "ticks": "outside"
             }
            },
            "type": "scatter3d"
           }
          ],
          "scattercarpet": [
           {
            "marker": {
             "colorbar": {
              "outlinewidth": 1,
              "tickcolor": "rgb(36,36,36)",
              "ticks": "outside"
             }
            },
            "type": "scattercarpet"
           }
          ],
          "scattergeo": [
           {
            "marker": {
             "colorbar": {
              "outlinewidth": 1,
              "tickcolor": "rgb(36,36,36)",
              "ticks": "outside"
             }
            },
            "type": "scattergeo"
           }
          ],
          "scattergl": [
           {
            "marker": {
             "colorbar": {
              "outlinewidth": 1,
              "tickcolor": "rgb(36,36,36)",
              "ticks": "outside"
             }
            },
            "type": "scattergl"
           }
          ],
          "scattermapbox": [
           {
            "marker": {
             "colorbar": {
              "outlinewidth": 1,
              "tickcolor": "rgb(36,36,36)",
              "ticks": "outside"
             }
            },
            "type": "scattermapbox"
           }
          ],
          "scatterpolar": [
           {
            "marker": {
             "colorbar": {
              "outlinewidth": 1,
              "tickcolor": "rgb(36,36,36)",
              "ticks": "outside"
             }
            },
            "type": "scatterpolar"
           }
          ],
          "scatterpolargl": [
           {
            "marker": {
             "colorbar": {
              "outlinewidth": 1,
              "tickcolor": "rgb(36,36,36)",
              "ticks": "outside"
             }
            },
            "type": "scatterpolargl"
           }
          ],
          "scatterternary": [
           {
            "marker": {
             "colorbar": {
              "outlinewidth": 1,
              "tickcolor": "rgb(36,36,36)",
              "ticks": "outside"
             }
            },
            "type": "scatterternary"
           }
          ],
          "surface": [
           {
            "colorbar": {
             "outlinewidth": 1,
             "tickcolor": "rgb(36,36,36)",
             "ticks": "outside"
            },
            "colorscale": [
             [
              0,
              "#440154"
             ],
             [
              0.1111111111111111,
              "#482878"
             ],
             [
              0.2222222222222222,
              "#3e4989"
             ],
             [
              0.3333333333333333,
              "#31688e"
             ],
             [
              0.4444444444444444,
              "#26828e"
             ],
             [
              0.5555555555555556,
              "#1f9e89"
             ],
             [
              0.6666666666666666,
              "#35b779"
             ],
             [
              0.7777777777777778,
              "#6ece58"
             ],
             [
              0.8888888888888888,
              "#b5de2b"
             ],
             [
              1,
              "#fde725"
             ]
            ],
            "type": "surface"
           }
          ],
          "table": [
           {
            "cells": {
             "fill": {
              "color": "rgb(237,237,237)"
             },
             "line": {
              "color": "white"
             }
            },
            "header": {
             "fill": {
              "color": "rgb(217,217,217)"
             },
             "line": {
              "color": "white"
             }
            },
            "type": "table"
           }
          ]
         },
         "layout": {
          "annotationdefaults": {
           "arrowhead": 0,
           "arrowwidth": 1
          },
          "autotypenumbers": "strict",
          "coloraxis": {
           "colorbar": {
            "outlinewidth": 1,
            "tickcolor": "rgb(36,36,36)",
            "ticks": "outside"
           }
          },
          "colorscale": {
           "diverging": [
            [
             0,
             "rgb(103,0,31)"
            ],
            [
             0.1,
             "rgb(178,24,43)"
            ],
            [
             0.2,
             "rgb(214,96,77)"
            ],
            [
             0.3,
             "rgb(244,165,130)"
            ],
            [
             0.4,
             "rgb(253,219,199)"
            ],
            [
             0.5,
             "rgb(247,247,247)"
            ],
            [
             0.6,
             "rgb(209,229,240)"
            ],
            [
             0.7,
             "rgb(146,197,222)"
            ],
            [
             0.8,
             "rgb(67,147,195)"
            ],
            [
             0.9,
             "rgb(33,102,172)"
            ],
            [
             1,
             "rgb(5,48,97)"
            ]
           ],
           "sequential": [
            [
             0,
             "#440154"
            ],
            [
             0.1111111111111111,
             "#482878"
            ],
            [
             0.2222222222222222,
             "#3e4989"
            ],
            [
             0.3333333333333333,
             "#31688e"
            ],
            [
             0.4444444444444444,
             "#26828e"
            ],
            [
             0.5555555555555556,
             "#1f9e89"
            ],
            [
             0.6666666666666666,
             "#35b779"
            ],
            [
             0.7777777777777778,
             "#6ece58"
            ],
            [
             0.8888888888888888,
             "#b5de2b"
            ],
            [
             1,
             "#fde725"
            ]
           ],
           "sequentialminus": [
            [
             0,
             "#440154"
            ],
            [
             0.1111111111111111,
             "#482878"
            ],
            [
             0.2222222222222222,
             "#3e4989"
            ],
            [
             0.3333333333333333,
             "#31688e"
            ],
            [
             0.4444444444444444,
             "#26828e"
            ],
            [
             0.5555555555555556,
             "#1f9e89"
            ],
            [
             0.6666666666666666,
             "#35b779"
            ],
            [
             0.7777777777777778,
             "#6ece58"
            ],
            [
             0.8888888888888888,
             "#b5de2b"
            ],
            [
             1,
             "#fde725"
            ]
           ]
          },
          "colorway": [
           "#1F77B4",
           "#FF7F0E",
           "#2CA02C",
           "#D62728",
           "#9467BD",
           "#8C564B",
           "#E377C2",
           "#7F7F7F",
           "#BCBD22",
           "#17BECF"
          ],
          "font": {
           "color": "rgb(36,36,36)"
          },
          "geo": {
           "bgcolor": "white",
           "lakecolor": "white",
           "landcolor": "white",
           "showlakes": true,
           "showland": true,
           "subunitcolor": "white"
          },
          "hoverlabel": {
           "align": "left"
          },
          "hovermode": "closest",
          "mapbox": {
           "style": "light"
          },
          "paper_bgcolor": "white",
          "plot_bgcolor": "white",
          "polar": {
           "angularaxis": {
            "gridcolor": "rgb(232,232,232)",
            "linecolor": "rgb(36,36,36)",
            "showgrid": false,
            "showline": true,
            "ticks": "outside"
           },
           "bgcolor": "white",
           "radialaxis": {
            "gridcolor": "rgb(232,232,232)",
            "linecolor": "rgb(36,36,36)",
            "showgrid": false,
            "showline": true,
            "ticks": "outside"
           }
          },
          "scene": {
           "xaxis": {
            "backgroundcolor": "white",
            "gridcolor": "rgb(232,232,232)",
            "gridwidth": 2,
            "linecolor": "rgb(36,36,36)",
            "showbackground": true,
            "showgrid": false,
            "showline": true,
            "ticks": "outside",
            "zeroline": false,
            "zerolinecolor": "rgb(36,36,36)"
           },
           "yaxis": {
            "backgroundcolor": "white",
            "gridcolor": "rgb(232,232,232)",
            "gridwidth": 2,
            "linecolor": "rgb(36,36,36)",
            "showbackground": true,
            "showgrid": false,
            "showline": true,
            "ticks": "outside",
            "zeroline": false,
            "zerolinecolor": "rgb(36,36,36)"
           },
           "zaxis": {
            "backgroundcolor": "white",
            "gridcolor": "rgb(232,232,232)",
            "gridwidth": 2,
            "linecolor": "rgb(36,36,36)",
            "showbackground": true,
            "showgrid": false,
            "showline": true,
            "ticks": "outside",
            "zeroline": false,
            "zerolinecolor": "rgb(36,36,36)"
           }
          },
          "shapedefaults": {
           "fillcolor": "black",
           "line": {
            "width": 0
           },
           "opacity": 0.3
          },
          "ternary": {
           "aaxis": {
            "gridcolor": "rgb(232,232,232)",
            "linecolor": "rgb(36,36,36)",
            "showgrid": false,
            "showline": true,
            "ticks": "outside"
           },
           "baxis": {
            "gridcolor": "rgb(232,232,232)",
            "linecolor": "rgb(36,36,36)",
            "showgrid": false,
            "showline": true,
            "ticks": "outside"
           },
           "bgcolor": "white",
           "caxis": {
            "gridcolor": "rgb(232,232,232)",
            "linecolor": "rgb(36,36,36)",
            "showgrid": false,
            "showline": true,
            "ticks": "outside"
           }
          },
          "title": {
           "x": 0.05
          },
          "xaxis": {
           "automargin": true,
           "gridcolor": "rgb(232,232,232)",
           "linecolor": "rgb(36,36,36)",
           "showgrid": false,
           "showline": true,
           "ticks": "outside",
           "title": {
            "standoff": 15
           },
           "zeroline": false,
           "zerolinecolor": "rgb(36,36,36)"
          },
          "yaxis": {
           "automargin": true,
           "gridcolor": "rgb(232,232,232)",
           "linecolor": "rgb(36,36,36)",
           "showgrid": false,
           "showline": true,
           "ticks": "outside",
           "title": {
            "standoff": 15
           },
           "zeroline": false,
           "zerolinecolor": "rgb(36,36,36)"
          }
         }
        },
        "title": {
         "font": {
          "color": "Black",
          "size": 22
         },
         "text": "<b>Topics over Time",
         "x": 0.4,
         "xanchor": "center",
         "y": 0.95,
         "yanchor": "top"
        },
        "width": 1250,
        "xaxis": {
         "autorange": true,
         "range": [
          2011,
          2022
         ],
         "showgrid": true,
         "type": "linear"
        },
        "yaxis": {
         "range": [
          0,
          0.03
         ],
         "showgrid": true,
         "tickformat": ",.1%",
         "title": {
          "text": "Frequency"
         },
         "type": "linear"
        }
       }
      },
      "image/png": "[encoded data removed]",
      "text/html": [
       "<div>                            <div id=\"7051c497-3dc0-454d-a544-21799890c1eb\" class=\"plotly-graph-div\" style=\"height:800px; width:1250px;\"></div>            <script type=\"text/javascript\">                require([\"plotly\"], function(Plotly) {                    window.PLOTLYENV=window.PLOTLYENV || {};                                    if (document.getElementById(\"7051c497-3dc0-454d-a544-21799890c1eb\")) {                    Plotly.newPlot(                        \"7051c497-3dc0-454d-a544-21799890c1eb\",                        [{\"hoverinfo\":\"text\",\"hovertext\":[\"<b>Topic 10</b><br>Words: bitstream, watermark, message, attack, watermarking\",\"<b>Topic 10</b><br>Words: subsvms, svm, attacks, adversarial, subsampled\",\"<b>Topic 10</b><br>Words: svms, security, evasion, poisoning, attack\",\"<b>Topic 10</b><br>Words: adversarial, dnns, examples, watermarking, lion\",\"<b>Topic 10</b><br>Words: adversarial, attacks, perturbations, robustness, examples\",\"<b>Topic 10</b><br>Words: adversarial, attacks, examples, attack, robustness\",\"<b>Topic 10</b><br>Words: adversarial, attacks, attack, examples, robustness\",\"<b>Topic 10</b><br>Words: adversarial, attacks, attack, robustness, examples\",\"<b>Topic 10</b><br>Words: adversarial, attacks, attack, robustness, perturbations\",\"<b>Topic 10</b><br>Words: adversarial, attacks, attack, robustness, perturbations\",\"<b>Topic 10</b><br>Words: adversarial, attacks, robustness, attack, examples\"],\"marker\":{\"color\":\"#E69F00\"},\"mode\":\"lines\",\"name\":\"10_adversarial_attacks_attack_robustness\",\"x\":[2012,2013,2014,2015,2016,2017,2018,2019,2020,2021,2022],\"y\":[0.00046882325363338024,0.000666000666000666,0.000362844702467344,0.0015723270440251573,0.005676616004394799,0.012760702524698134,0.022894872234608128,0.02739294710327456,0.02507792068211944,0.025051196454119563,0.023769782393669635],\"type\":\"scatter\"},{\"hoverinfo\":\"text\",\"hovertext\":[\"<b>Topic 14</b><br>Words: ctd, anomaly, detection, pe, immune\",\"<b>Topic 14</b><br>Words: detection, intrusion, client, security, iacd\",\"<b>Topic 14</b><br>Words: detection, anomaly, malware, attack, security\",\"<b>Topic 14</b><br>Words: detection, anomaly, anomalies, outliers, phishing\",\"<b>Topic 14</b><br>Words: anomaly, detection, outlier, anomalies, detect\",\"<b>Topic 14</b><br>Words: detection, anomaly, malware, anomalies, security\",\"<b>Topic 14</b><br>Words: detection, malware, anomaly, anomalies, security\",\"<b>Topic 14</b><br>Words: detection, anomaly, malware, security, anomalies\",\"<b>Topic 14</b><br>Words: detection, anomaly, malware, anomalies, security\",\"<b>Topic 14</b><br>Words: detection, anomaly, malware, anomalies, attacks\",\"<b>Topic 14</b><br>Words: detection, anomaly, malware, anomalies, attacks\",\"<b>Topic 14</b><br>Words: detection, anomaly, malware, anomalies, attacks\"],\"marker\":{\"color\":\"#56B4E9\"},\"mode\":\"lines\",\"name\":\"14_detection_anomaly_malware_anomalies\",\"x\":[2011,2012,2013,2014,2015,2016,2017,2018,2019,2020,2021,2022],\"y\":[0.0034904013961605585,0.007032348804500703,0.009657009657009658,0.011248185776487663,0.008385744234800839,0.018494781175608863,0.012486278814489571,0.01800720288115246,0.017737195633921076,0.016623078852147744,0.0209274272729823,0.01777324431256182],\"type\":\"scatter\"},{\"hoverinfo\":\"text\",\"hovertext\":[\"<b>Topic 16</b><br>Words: projects, stage, intelligent, joined, subsamples\",\"<b>Topic 16</b><br>Words: generalisation, corporate, education, evaluation, intelligent\",\"<b>Topic 16</b><br>Words: entwined, concerns, intelligent, sociological, began\",\"<b>Topic 16</b><br>Words: explanations, morally, halting, robots, computable\",\"<b>Topic 16</b><br>Words: sociotechnological, triclustering, ethical, progress, explanations\",\"<b>Topic 16</b><br>Words: explanations, interpretable, ethical, interpretability, predictions\",\"<b>Topic 16</b><br>Words: explanations, interpretability, ethics, interpretable, human\",\"<b>Topic 16</b><br>Words: explanations, interpretability, black, human, interpretable\",\"<b>Topic 16</b><br>Words: explanations, interpretability, interpretable, black, human\",\"<b>Topic 16</b><br>Words: explanations, interpretability, explainable, interpretable, explainability\",\"<b>Topic 16</b><br>Words: explanations, interpretability, explainable, counterfactual, explainability\",\"<b>Topic 16</b><br>Words: explanations, interpretability, explainability, explainable, xai\"],\"marker\":{\"color\":\"#009E73\"},\"mode\":\"lines\",\"name\":\"16_explanations_interpretability_explain...\",\"x\":[2011,2012,2013,2014,2015,2016,2017,2018,2019,2020,2021,2022],\"y\":[0.0017452006980802793,0.0014064697609001407,0.000333000333000333,0.0010885341074020319,0.0018343815513626835,0.005676616004394799,0.009193194291986827,0.013719773623735209,0.014221242653232578,0.016121520438505357,0.019693101803798355,0.018886003956478735],\"type\":\"scatter\"},{\"hoverinfo\":\"text\",\"hovertext\":[\"<b>Topic 31</b><br>Words: fairness, nerm, disparate, neutral, erm\",\"<b>Topic 31</b><br>Words: fairness, discrimination, bias, fair, algorithmic\",\"<b>Topic 31</b><br>Words: fairness, fair, discrimination, sensitive, groups\",\"<b>Topic 31</b><br>Words: fairness, fair, discrimination, bias, protected\",\"<b>Topic 31</b><br>Words: fairness, fair, bias, discrimination, groups\",\"<b>Topic 31</b><br>Words: fairness, fair, bias, groups, sensitive\",\"<b>Topic 31</b><br>Words: fairness, fair, bias, groups, sensitive\",\"<b>Topic 31</b><br>Words: fairness, fair, bias, groups, sensitive\"],\"marker\":{\"color\":\"#F0E442\"},\"mode\":\"lines\",\"name\":\"31_fairness_fair_bias_groups\",\"x\":[2015,2016,2017,2018,2019,2020,2021,2022],\"y\":[0.0010482180293501049,0.0023805163889397546,0.004253567508232711,0.00763162407820271,0.006821998320738875,0.00813241142120159,0.008107274104412714,0.011096686449060335],\"type\":\"scatter\"}],                        {\"template\":{\"data\":{\"barpolar\":[{\"marker\":{\"line\":{\"color\":\"white\",\"width\":0.5},\"pattern\":{\"fillmode\":\"overlay\",\"size\":10,\"solidity\":0.2}},\"type\":\"barpolar\"}],\"bar\":[{\"error_x\":{\"color\":\"rgb(36,36,36)\"},\"error_y\":{\"color\":\"rgb(36,36,36)\"},\"marker\":{\"line\":{\"color\":\"white\",\"width\":0.5},\"pattern\":{\"fillmode\":\"overlay\",\"size\":10,\"solidity\":0.2}},\"type\":\"bar\"}],\"carpet\":[{\"aaxis\":{\"endlinecolor\":\"rgb(36,36,36)\",\"gridcolor\":\"white\",\"linecolor\":\"white\",\"minorgridcolor\":\"white\",\"startlinecolor\":\"rgb(36,36,36)\"},\"baxis\":{\"endlinecolor\":\"rgb(36,36,36)\",\"gridcolor\":\"white\",\"linecolor\":\"white\",\"minorgridcolor\":\"white\",\"startlinecolor\":\"rgb(36,36,36)\"},\"type\":\"carpet\"}],\"choropleth\":[{\"colorbar\":{\"outlinewidth\":1,\"tickcolor\":\"rgb(36,36,36)\",\"ticks\":\"outside\"},\"type\":\"choropleth\"}],\"contourcarpet\":[{\"colorbar\":{\"outlinewidth\":1,\"tickcolor\":\"rgb(36,36,36)\",\"ticks\":\"outside\"},\"type\":\"contourcarpet\"}],\"contour\":[{\"colorbar\":{\"outlinewidth\":1,\"tickcolor\":\"rgb(36,36,36)\",\"ticks\":\"outside\"},\"colorscale\":[[0.0,\"#440154\"],[0.1111111111111111,\"#482878\"],[0.2222222222222222,\"#3e4989\"],[0.3333333333333333,\"#31688e\"],[0.4444444444444444,\"#26828e\"],[0.5555555555555556,\"#1f9e89\"],[0.6666666666666666,\"#35b779\"],[0.7777777777777778,\"#6ece58\"],[0.8888888888888888,\"#b5de2b\"],[1.0,\"#fde725\"]],\"type\":\"contour\"}],\"heatmapgl\":[{\"colorbar\":{\"outlinewidth\":1,\"tickcolor\":\"rgb(36,36,36)\",\"ticks\":\"outside\"},\"colorscale\":[[0.0,\"#440154\"],[0.1111111111111111,\"#482878\"],[0.2222222222222222,\"#3e4989\"],[0.3333333333333333,\"#31688e\"],[0.4444444444444444,\"#26828e\"],[0.5555555555555556,\"#1f9e89\"],[0.6666666666666666,\"#35b779\"],[0.7777777777777778,\"#6ece58\"],[0.8888888888888888,\"#b5de2b\"],[1.0,\"#fde725\"]],\"type\":\"heatmapgl\"}],\"heatmap\":[{\"colorbar\":{\"outlinewidth\":1,\"tickcolor\":\"rgb(36,36,36)\",\"ticks\":\"outside\"},\"colorscale\":[[0.0,\"#440154\"],[0.1111111111111111,\"#482878\"],[0.2222222222222222,\"#3e4989\"],[0.3333333333333333,\"#31688e\"],[0.4444444444444444,\"#26828e\"],[0.5555555555555556,\"#1f9e89\"],[0.6666666666666666,\"#35b779\"],[0.7777777777777778,\"#6ece58\"],[0.8888888888888888,\"#b5de2b\"],[1.0,\"#fde725\"]],\"type\":\"heatmap\"}],\"histogram2dcontour\":[{\"colorbar\":{\"outlinewidth\":1,\"tickcolor\":\"rgb(36,36,36)\",\"ticks\":\"outside\"},\"colorscale\":[[0.0,\"#440154\"],[0.1111111111111111,\"#482878\"],[0.2222222222222222,\"#3e4989\"],[0.3333333333333333,\"#31688e\"],[0.4444444444444444,\"#26828e\"],[0.5555555555555556,\"#1f9e89\"],[0.6666666666666666,\"#35b779\"],[0.7777777777777778,\"#6ece58\"],[0.8888888888888888,\"#b5de2b\"],[1.0,\"#fde725\"]],\"type\":\"histogram2dcontour\"}],\"histogram2d\":[{\"colorbar\":{\"outlinewidth\":1,\"tickcolor\":\"rgb(36,36,36)\",\"ticks\":\"outside\"},\"colorscale\":[[0.0,\"#440154\"],[0.1111111111111111,\"#482878\"],[0.2222222222222222,\"#3e4989\"],[0.3333333333333333,\"#31688e\"],[0.4444444444444444,\"#26828e\"],[0.5555555555555556,\"#1f9e89\"],[0.6666666666666666,\"#35b779\"],[0.7777777777777778,\"#6ece58\"],[0.8888888888888888,\"#b5de2b\"],[1.0,\"#fde725\"]],\"type\":\"histogram2d\"}],\"histogram\":[{\"marker\":{\"line\":{\"color\":\"white\",\"width\":0.6}},\"type\":\"histogram\"}],\"mesh3d\":[{\"colorbar\":{\"outlinewidth\":1,\"tickcolor\":\"rgb(36,36,36)\",\"ticks\":\"outside\"},\"type\":\"mesh3d\"}],\"parcoords\":[{\"line\":{\"colorbar\":{\"outlinewidth\":1,\"tickcolor\":\"rgb(36,36,36)\",\"ticks\":\"outside\"}},\"type\":\"parcoords\"}],\"pie\":[{\"automargin\":true,\"type\":\"pie\"}],\"scatter3d\":[{\"line\":{\"colorbar\":{\"outlinewidth\":1,\"tickcolor\":\"rgb(36,36,36)\",\"ticks\":\"outside\"}},\"marker\":{\"colorbar\":{\"outlinewidth\":1,\"tickcolor\":\"rgb(36,36,36)\",\"ticks\":\"outside\"}},\"type\":\"scatter3d\"}],\"scattercarpet\":[{\"marker\":{\"colorbar\":{\"outlinewidth\":1,\"tickcolor\":\"rgb(36,36,36)\",\"ticks\":\"outside\"}},\"type\":\"scattercarpet\"}],\"scattergeo\":[{\"marker\":{\"colorbar\":{\"outlinewidth\":1,\"tickcolor\":\"rgb(36,36,36)\",\"ticks\":\"outside\"}},\"type\":\"scattergeo\"}],\"scattergl\":[{\"marker\":{\"colorbar\":{\"outlinewidth\":1,\"tickcolor\":\"rgb(36,36,36)\",\"ticks\":\"outside\"}},\"type\":\"scattergl\"}],\"scattermapbox\":[{\"marker\":{\"colorbar\":{\"outlinewidth\":1,\"tickcolor\":\"rgb(36,36,36)\",\"ticks\":\"outside\"}},\"type\":\"scattermapbox\"}],\"scatterpolargl\":[{\"marker\":{\"colorbar\":{\"outlinewidth\":1,\"tickcolor\":\"rgb(36,36,36)\",\"ticks\":\"outside\"}},\"type\":\"scatterpolargl\"}],\"scatterpolar\":[{\"marker\":{\"colorbar\":{\"outlinewidth\":1,\"tickcolor\":\"rgb(36,36,36)\",\"ticks\":\"outside\"}},\"type\":\"scatterpolar\"}],\"scatter\":[{\"fillpattern\":{\"fillmode\":\"overlay\",\"size\":10,\"solidity\":0.2},\"type\":\"scatter\"}],\"scatterternary\":[{\"marker\":{\"colorbar\":{\"outlinewidth\":1,\"tickcolor\":\"rgb(36,36,36)\",\"ticks\":\"outside\"}},\"type\":\"scatterternary\"}],\"surface\":[{\"colorbar\":{\"outlinewidth\":1,\"tickcolor\":\"rgb(36,36,36)\",\"ticks\":\"outside\"},\"colorscale\":[[0.0,\"#440154\"],[0.1111111111111111,\"#482878\"],[0.2222222222222222,\"#3e4989\"],[0.3333333333333333,\"#31688e\"],[0.4444444444444444,\"#26828e\"],[0.5555555555555556,\"#1f9e89\"],[0.6666666666666666,\"#35b779\"],[0.7777777777777778,\"#6ece58\"],[0.8888888888888888,\"#b5de2b\"],[1.0,\"#fde725\"]],\"type\":\"surface\"}],\"table\":[{\"cells\":{\"fill\":{\"color\":\"rgb(237,237,237)\"},\"line\":{\"color\":\"white\"}},\"header\":{\"fill\":{\"color\":\"rgb(217,217,217)\"},\"line\":{\"color\":\"white\"}},\"type\":\"table\"}]},\"layout\":{\"annotationdefaults\":{\"arrowhead\":0,\"arrowwidth\":1},\"autotypenumbers\":\"strict\",\"coloraxis\":{\"colorbar\":{\"outlinewidth\":1,\"tickcolor\":\"rgb(36,36,36)\",\"ticks\":\"outside\"}},\"colorscale\":{\"diverging\":[[0.0,\"rgb(103,0,31)\"],[0.1,\"rgb(178,24,43)\"],[0.2,\"rgb(214,96,77)\"],[0.3,\"rgb(244,165,130)\"],[0.4,\"rgb(253,219,199)\"],[0.5,\"rgb(247,247,247)\"],[0.6,\"rgb(209,229,240)\"],[0.7,\"rgb(146,197,222)\"],[0.8,\"rgb(67,147,195)\"],[0.9,\"rgb(33,102,172)\"],[1.0,\"rgb(5,48,97)\"]],\"sequential\":[[0.0,\"#440154\"],[0.1111111111111111,\"#482878\"],[0.2222222222222222,\"#3e4989\"],[0.3333333333333333,\"#31688e\"],[0.4444444444444444,\"#26828e\"],[0.5555555555555556,\"#1f9e89\"],[0.6666666666666666,\"#35b779\"],[0.7777777777777778,\"#6ece58\"],[0.8888888888888888,\"#b5de2b\"],[1.0,\"#fde725\"]],\"sequentialminus\":[[0.0,\"#440154\"],[0.1111111111111111,\"#482878\"],[0.2222222222222222,\"#3e4989\"],[0.3333333333333333,\"#31688e\"],[0.4444444444444444,\"#26828e\"],[0.5555555555555556,\"#1f9e89\"],[0.6666666666666666,\"#35b779\"],[0.7777777777777778,\"#6ece58\"],[0.8888888888888888,\"#b5de2b\"],[1.0,\"#fde725\"]]},\"colorway\":[\"#1F77B4\",\"#FF7F0E\",\"#2CA02C\",\"#D62728\",\"#9467BD\",\"#8C564B\",\"#E377C2\",\"#7F7F7F\",\"#BCBD22\",\"#17BECF\"],\"font\":{\"color\":\"rgb(36,36,36)\"},\"geo\":{\"bgcolor\":\"white\",\"lakecolor\":\"white\",\"landcolor\":\"white\",\"showlakes\":true,\"showland\":true,\"subunitcolor\":\"white\"},\"hoverlabel\":{\"align\":\"left\"},\"hovermode\":\"closest\",\"mapbox\":{\"style\":\"light\"},\"paper_bgcolor\":\"white\",\"plot_bgcolor\":\"white\",\"polar\":{\"angularaxis\":{\"gridcolor\":\"rgb(232,232,232)\",\"linecolor\":\"rgb(36,36,36)\",\"showgrid\":false,\"showline\":true,\"ticks\":\"outside\"},\"bgcolor\":\"white\",\"radialaxis\":{\"gridcolor\":\"rgb(232,232,232)\",\"linecolor\":\"rgb(36,36,36)\",\"showgrid\":false,\"showline\":true,\"ticks\":\"outside\"}},\"scene\":{\"xaxis\":{\"backgroundcolor\":\"white\",\"gridcolor\":\"rgb(232,232,232)\",\"gridwidth\":2,\"linecolor\":\"rgb(36,36,36)\",\"showbackground\":true,\"showgrid\":false,\"showline\":true,\"ticks\":\"outside\",\"zeroline\":false,\"zerolinecolor\":\"rgb(36,36,36)\"},\"yaxis\":{\"backgroundcolor\":\"white\",\"gridcolor\":\"rgb(232,232,232)\",\"gridwidth\":2,\"linecolor\":\"rgb(36,36,36)\",\"showbackground\":true,\"showgrid\":false,\"showline\":true,\"ticks\":\"outside\",\"zeroline\":false,\"zerolinecolor\":\"rgb(36,36,36)\"},\"zaxis\":{\"backgroundcolor\":\"white\",\"gridcolor\":\"rgb(232,232,232)\",\"gridwidth\":2,\"linecolor\":\"rgb(36,36,36)\",\"showbackground\":true,\"showgrid\":false,\"showline\":true,\"ticks\":\"outside\",\"zeroline\":false,\"zerolinecolor\":\"rgb(36,36,36)\"}},\"shapedefaults\":{\"fillcolor\":\"black\",\"line\":{\"width\":0},\"opacity\":0.3},\"ternary\":{\"aaxis\":{\"gridcolor\":\"rgb(232,232,232)\",\"linecolor\":\"rgb(36,36,36)\",\"showgrid\":false,\"showline\":true,\"ticks\":\"outside\"},\"baxis\":{\"gridcolor\":\"rgb(232,232,232)\",\"linecolor\":\"rgb(36,36,36)\",\"showgrid\":false,\"showline\":true,\"ticks\":\"outside\"},\"bgcolor\":\"white\",\"caxis\":{\"gridcolor\":\"rgb(232,232,232)\",\"linecolor\":\"rgb(36,36,36)\",\"showgrid\":false,\"showline\":true,\"ticks\":\"outside\"}},\"title\":{\"x\":0.05},\"xaxis\":{\"automargin\":true,\"gridcolor\":\"rgb(232,232,232)\",\"linecolor\":\"rgb(36,36,36)\",\"showgrid\":false,\"showline\":true,\"ticks\":\"outside\",\"title\":{\"standoff\":15},\"zeroline\":false,\"zerolinecolor\":\"rgb(36,36,36)\"},\"yaxis\":{\"automargin\":true,\"gridcolor\":\"rgb(232,232,232)\",\"linecolor\":\"rgb(36,36,36)\",\"showgrid\":false,\"showline\":true,\"ticks\":\"outside\",\"title\":{\"standoff\":15},\"zeroline\":false,\"zerolinecolor\":\"rgb(36,36,36)\"}}},\"xaxis\":{\"showgrid\":true},\"yaxis\":{\"showgrid\":true,\"title\":{\"text\":\"Frequency\"},\"range\":[0,0.03],\"tickformat\":\",.1%\"},\"title\":{\"font\":{\"size\":22,\"color\":\"Black\"},\"text\":\"<b>Topics over Time\",\"y\":0.95,\"x\":0.4,\"xanchor\":\"center\",\"yanchor\":\"top\"},\"hoverlabel\":{\"font\":{\"size\":16,\"family\":\"Rockwell\"},\"bgcolor\":\"white\"},\"width\":1250,\"height\":800,\"legend\":{\"title\":{\"text\":\"<b>Global Topic Representation\"}}},                        {\"responsive\": true}                    ).then(function(){\n",
       "                            \n",
       "var gd = document.getElementById('7051c497-3dc0-454d-a544-21799890c1eb');\n",
       "var x = new MutationObserver(function (mutations, observer) {{\n",
       "        var display = window.getComputedStyle(gd).display;\n",
       "        if (!display || display === 'none') {{\n",
       "            console.log([gd, 'removed!']);\n",
       "            Plotly.purge(gd);\n",
       "            observer.disconnect();\n",
       "        }}\n",
       "}});\n",
       "\n",
       "// Listen for the removal of the full notebook cells\n",
       "var notebookContainer = gd.closest('#notebook-container');\n",
       "if (notebookContainer) {{\n",
       "    x.observe(notebookContainer, {childList: true});\n",
       "}}\n",
       "\n",
       "// Listen for the clearing of the current output cell\n",
       "var outputEl = gd.closest('.output');\n",
       "if (outputEl) {{\n",
       "    x.observe(outputEl, {childList: true});\n",
       "}}\n",
       "\n",
       "                        })                };                });            </script>        </div>"
      ]
     },
     "metadata": {},
     "output_type": "display_data"
    }
   ],
   "source": [
    "# Show chart with alginment categories\n",
    "alignment_topic_trends_plt"
   ]
  },
  {
   "cell_type": "markdown",
   "id": "2d4e620d-4532-42c9-8e60-c05fc73c51b6",
   "metadata": {},
   "source": [
    " - Other topics to have increased sigifnicantly include federated learning (topic 2) which has increased from 0.8% to 4.8% over 11 years. Language analysis  (topic 0) has also increased from 2.6% to 6.2%, which may be a result of the increased prominence of large language models. "
   ]
  },
  {
   "cell_type": "markdown",
   "id": "6d23fd58-a787-43bd-8835-6208024e4a01",
   "metadata": {},
   "source": [
    "## Caveats\n",
    "\n",
    " - Limited hyperparmeter analysis has been done on the minimum topic size (set to 500), and further useful work could include evaluating the conclusions of this work for different settings of this hyperparameter.\n",
    " - The Arxiv dataset is not an exhaustive collection of AI related literature. The dataset contains 155k related papers, whereas by contrast the Citation Network Dataset has a total of around [5m items](https://www.aminer.org/citation), including books and websites.\n",
    " - The grouping of topics related to alignment is inherently subjective, and may change with further developments in the field. However prominant authors e.g. Paul Christiano have argued that these topics have [important relevance to alignment](https://aiimpacts.org/conversation-with-paul-christiano/). A full list of topics is included in the appended.\n",
    " - Removal of corpus-specific words through stop words, before inference, is subject to user judgement. It [has been show](https://mimno.infosci.cornell.edu/papers/schofield_eacl_2017.pdf) that removal after inference can result in similar but more transparent results."
   ]
  },
  {
   "cell_type": "markdown",
   "id": "36c58561-ead5-42c1-9f69-29f068e6de97",
   "metadata": {},
   "source": [
    "## Appendix\n",
    "\n",
    "### Representative papers for each topic"
   ]
  },
  {
   "cell_type": "code",
   "execution_count": 21,
   "id": "f5e73f3f-7e5b-402d-af7b-005edaee3094",
   "metadata": {},
   "outputs": [
    {
     "data": {
      "text/html": [
       "<div>\n",
       "<style scoped>\n",
       "    .dataframe tbody tr th:only-of-type {\n",
       "        vertical-align: middle;\n",
       "    }\n",
       "\n",
       "    .dataframe tbody tr th {\n",
       "        vertical-align: top;\n",
       "    }\n",
       "\n",
       "    .dataframe thead th {\n",
       "        text-align: right;\n",
       "    }\n",
       "</style>\n",
       "<table border=\"1\" class=\"dataframe\">\n",
       "  <thead>\n",
       "    <tr style=\"text-align: right;\">\n",
       "      <th></th>\n",
       "      <th>Keywords</th>\n",
       "      <th>Sample 1</th>\n",
       "      <th>Sample 2</th>\n",
       "      <th>Sample 3</th>\n",
       "    </tr>\n",
       "    <tr>\n",
       "      <th>Topic</th>\n",
       "      <th></th>\n",
       "      <th></th>\n",
       "      <th></th>\n",
       "      <th></th>\n",
       "    </tr>\n",
       "  </thead>\n",
       "  <tbody>\n",
       "    <tr>\n",
       "      <th>0</th>\n",
       "      <td>language, text, word, knowledge, task, tasks, translation, natural, dialogue, entity</td>\n",
       "      <td>Discourse-Wizard: Discovering Deep Discourse Structure in your  Conversation with RNNs</td>\n",
       "      <td>Skip-Thought Memory Networks</td>\n",
       "      <td>Conversation Learner -- A Machine Teaching Tool for Building Dialog  Managers for Task-Oriented Dialog Systems</td>\n",
       "    </tr>\n",
       "    <tr>\n",
       "      <th>1</th>\n",
       "      <td>reinforcement, rl, reward, control, agent, tasks, environment, state, exploration, robot</td>\n",
       "      <td>Finite-Time Analysis of Entropy-Regularized Neural Natural Actor-Critic  Algorithm</td>\n",
       "      <td>Implicit Two-Tower Policies</td>\n",
       "      <td>Implicitly Regularized RL with Implicit Q-Values</td>\n",
       "    </tr>\n",
       "    <tr>\n",
       "      <th>2</th>\n",
       "      <td>privacy, federated, fl, private, communication, distributed, clients, local, server, differential</td>\n",
       "      <td>Measuring the Effects of Non-Identical Data Distribution for Federated  Visual Classification</td>\n",
       "      <td>(Nearly) Optimal Private Linear Regression via Adaptive Clipping</td>\n",
       "      <td>Push--Pull with Device Sampling</td>\n",
       "    </tr>\n",
       "    <tr>\n",
       "      <th>3</th>\n",
       "      <td>gradient, stochastic, convergence, descent, convex, sgd, functions, function, rate, generalization</td>\n",
       "      <td>Implicit Bias of Gradient Descent on Linear Convolutional Networks</td>\n",
       "      <td>Quadratic Suffices for Over-parametrization via Matrix Chernoff Bound</td>\n",
       "      <td>Sharper Rates for Separable Minimax and Finite Sum Optimization via  Primal-Dual Extragradient Methods</td>\n",
       "    </tr>\n",
       "    <tr>\n",
       "      <th>4</th>\n",
       "      <td>logic, reasoning, semantics, ontology, knowledge, programming, programs, belief, sat, asp</td>\n",
       "      <td>Automatic Tabulation in Constraint Models</td>\n",
       "      <td>Alternating Fixpoint Operator for Hybrid MKNF Knowledge Bases as an  Approximator of AFT</td>\n",
       "      <td>PYCSP3: Modeling Combinatorial Constrained Problems in Python</td>\n",
       "    </tr>\n",
       "    <tr>\n",
       "      <th>5</th>\n",
       "      <td>segmentation, images, image, imaging, medical, ct, mri, covid, cancer, diagnosis</td>\n",
       "      <td>Wall Stress Estimation of Cerebral Aneurysm based on Zernike  Convolutional Neural Networks</td>\n",
       "      <td>A Neural Ordinary Differential Equation Model for Visualizing Deep  Neural Network Behaviors in Multi-Parametric MRI based Glioma Segmentation</td>\n",
       "      <td>EndoUDA: A modality independent segmentation approach for endoscopy  imaging</td>\n",
       "    </tr>\n",
       "    <tr>\n",
       "      <th>6</th>\n",
       "      <td>speech, audio, speaker, music, acoustic, recognition, asr, end, voice, sound</td>\n",
       "      <td>An Investigation Into On-device Personalization of End-to-end Automatic  Speech Recognition Models</td>\n",
       "      <td>A holistic approach to polyphonic music transcription with neural  networks</td>\n",
       "      <td>A Fully Convolutional Deep Auditory Model for Musical Chord Recognition</td>\n",
       "    </tr>\n",
       "    <tr>\n",
       "      <th>7</th>\n",
       "      <td>matrix, rank, tensor, sparse, low, regression, kernel, lasso, norm, recovery</td>\n",
       "      <td>Tracing Network Evolution Using the PARAFAC2 Model</td>\n",
       "      <td>Coupled Support Tensor Machine Classification for Multimodal  Neuroimaging Data</td>\n",
       "      <td>Classification and regression using an outer approximation  projection-gradient method</td>\n",
       "    </tr>\n",
       "    <tr>\n",
       "      <th>8</th>\n",
       "      <td>pruning, quantization, hardware, nas, search, architecture, memory, architectures, compression, devices</td>\n",
       "      <td>Quantization Loss Re-Learning Method</td>\n",
       "      <td>Compressing Convolutional Neural Networks</td>\n",
       "      <td>Semi-Relaxed Quantization with DropBits: Training Low-Bit Neural  Networks via Bit-wise Regularization</td>\n",
       "    </tr>\n",
       "    <tr>\n",
       "      <th>9</th>\n",
       "      <td>3d, object, segmentation, point, video, image, objects, detection, depth, scene</td>\n",
       "      <td>MonoDETR: Depth-guided Transformer for Monocular 3D Object Detection</td>\n",
       "      <td>Robot Active Neural Sensing and Planning in Unknown Cluttered  Environments</td>\n",
       "      <td>DVI: Depth Guided Video Inpainting for Autonomous Driving</td>\n",
       "    </tr>\n",
       "    <tr>\n",
       "      <th>10</th>\n",
       "      <td>adversarial, attacks, attack, robustness, examples, perturbations, robust, defense, box, backdoor</td>\n",
       "      <td>Adversarial Attacks are Reversible with Natural Supervision</td>\n",
       "      <td>Optimization Models and Interpretations for Three Types of Adversarial  Perturbations against Support Vector Machines</td>\n",
       "      <td>Improving Adversarial Robustness via Channel-wise Activation Suppressing</td>\n",
       "    </tr>\n",
       "    <tr>\n",
       "      <th>11</th>\n",
       "      <td>regret, bandit, online, bandits, arm, bound, armed, arms, algorithms, optimal</td>\n",
       "      <td>Practical Calculation of Gittins Indices for Multi-armed Bandits</td>\n",
       "      <td>Analysis of Thompson Sampling for Graphical Bandits Without the Graphs</td>\n",
       "      <td>Batched Thompson Sampling</td>\n",
       "    </tr>\n",
       "    <tr>\n",
       "      <th>12</th>\n",
       "      <td>causal, treatment, variables, graphical, bayesian, effect, structure, observational, effects, conditional</td>\n",
       "      <td>Identifying Patient-Specific Root Causes of Disease</td>\n",
       "      <td>Noisy-OR Models with Latent Confounding</td>\n",
       "      <td>Normalized Augmented Inverse Probability Weighting with Neural Network  Predictions</td>\n",
       "    </tr>\n",
       "    <tr>\n",
       "      <th>13</th>\n",
       "      <td>generative, gans, gan, latent, image, vae, distribution, variational, generator, adversarial</td>\n",
       "      <td>A Study into the similarity in generator and discriminator in GAN  architecture</td>\n",
       "      <td>Learning GANs and Ensembles Using Discrepancy</td>\n",
       "      <td>Discriminator Rejection Sampling</td>\n",
       "    </tr>\n",
       "    <tr>\n",
       "      <th>14</th>\n",
       "      <td>detection, anomaly, malware, anomalies, security, attacks, cyber, intrusion, attack, detect</td>\n",
       "      <td>How to Evaluate the Quality of Unsupervised Anomaly Detection  Algorithms?</td>\n",
       "      <td>A Flexible Framework for Anomaly Detection via Dimensionality Reduction</td>\n",
       "      <td>A Framework for End-to-End Deep Learning-Based Anomaly Detection in  Transportation Networks</td>\n",
       "    </tr>\n",
       "    <tr>\n",
       "      <th>15</th>\n",
       "      <td>recommendation, recommender, users, ranking, recommendations, systems, collaborative, preferences, information, filtering</td>\n",
       "      <td>HCGR: Hyperbolic Contrastive Graph Representation Learning for  Session-based Recommendation</td>\n",
       "      <td>Revisiting the Performance of iALS on Item Recommendation Benchmarks</td>\n",
       "      <td>Toward Implicit Sample Noise Modeling: Deviation-driven Matrix  Factorization</td>\n",
       "    </tr>\n",
       "    <tr>\n",
       "      <th>16</th>\n",
       "      <td>explanations, interpretability, explainable, explainability, interpretable, human, black, decision, xai, methods</td>\n",
       "      <td>GapTV: Accurate and Interpretable Low-Dimensional Regression and  Classification</td>\n",
       "      <td>Model Learning with Personalized Interpretability Estimation (ML-PIE)</td>\n",
       "      <td>Recovering Localized Adversarial Attacks</td>\n",
       "    </tr>\n",
       "    <tr>\n",
       "      <th>17</th>\n",
       "      <td>graph, node, graphs, gnns, nodes, gnn, embedding, classification, representation, gcn</td>\n",
       "      <td>EEGNN: Edge Enhanced Graph Neural Networks</td>\n",
       "      <td>Deep Manifold Learning with Graph Mining</td>\n",
       "      <td>SimPool: Towards Topology Based Graph Pooling with Structural Similarity  Features</td>\n",
       "    </tr>\n",
       "    <tr>\n",
       "      <th>18</th>\n",
       "      <td>channel, wireless, communication, radio, resource, csi, communications, allocation, 5g, service</td>\n",
       "      <td>On Improving Energy Efficiency within Green Femtocell Networks: A  Hierarchical Reinforcement Learning Approach</td>\n",
       "      <td>Learn to Detect and Detect to Learn: Structure Learning and Decision  Feedback for MIMO-OFDM Receive Processing</td>\n",
       "      <td>Deep learning scheme for recovery of broadband microwave photonic  receiving systems in transceivers without expert knowledge and system priors</td>\n",
       "    </tr>\n",
       "    <tr>\n",
       "      <th>19</th>\n",
       "      <td>molecular, protein, drug, molecules, chemical, prediction, graph, materials, molecule, proteins</td>\n",
       "      <td>Site2Vec: a reference frame invariant algorithm for vector embedding of  protein-ligand binding sites</td>\n",
       "      <td>Fragment Graphical Variational AutoEncoding for Screening Molecules with  Small Data</td>\n",
       "      <td>GeoMol: Torsional Geometric Generation of Molecular 3D Conformer  Ensembles</td>\n",
       "    </tr>\n",
       "    <tr>\n",
       "      <th>20</th>\n",
       "      <td>series, time, forecasting, stock, market, financial, trading, price, prediction, portfolio</td>\n",
       "      <td>The Recurrent Reinforcement Learning Crypto Agent</td>\n",
       "      <td>AlphaStock: A Buying-Winners-and-Selling-Losers Investment Strategy  using Interpretable Deep Reinforcement Attention Networks</td>\n",
       "      <td>News-based forecasts of macroeconomic indicators: A semantic path model  for interpretable predictions</td>\n",
       "    </tr>\n",
       "    <tr>\n",
       "      <th>21</th>\n",
       "      <td>equations, differential, physics, pdes, equation, physical, pde, numerical, dynamics, nonlinear</td>\n",
       "      <td>Machine learning based non-Newtonian fluid model with molecular fidelity</td>\n",
       "      <td>Variational training of neural network approximations of solution maps  for physical models</td>\n",
       "      <td>Learning Green's functions associated with time-dependent partial  differential equations</td>\n",
       "    </tr>\n",
       "    <tr>\n",
       "      <th>22</th>\n",
       "      <td>gaussian, posterior, variational, gp, bayesian, carlo, monte, mcmc, process, processes</td>\n",
       "      <td>Recyclable Gaussian Processes</td>\n",
       "      <td>A Generalized Stochastic Variational Bayesian Hyperparameter Learning  Framework for Sparse Spectrum Gaussian Process Regression</td>\n",
       "      <td>B\\'ezier Gaussian Processes for Tall and Wide Data</td>\n",
       "    </tr>\n",
       "    <tr>\n",
       "      <th>23</th>\n",
       "      <td>patients, patient, clinical, health, medical, disease, covid, 19, healthcare, care</td>\n",
       "      <td>Multimodal Machine Learning in Precision Health</td>\n",
       "      <td>Neural networks versus Logistic regression for 30 days all-cause  readmission prediction</td>\n",
       "      <td>Forecasting adverse surgical events using self-supervised transfer  learning for physiological signals</td>\n",
       "    </tr>\n",
       "    <tr>\n",
       "      <th>24</th>\n",
       "      <td>classification, class, ensemble, trees, tree, label, boosting, classifiers, classifier, decision</td>\n",
       "      <td>Confidence Intervals for Random Forests: The Jackknife and the  Infinitesimal Jackknife</td>\n",
       "      <td>Trees-Based Models for Correlated Data</td>\n",
       "      <td>Credal Classification based on AODE and compression coefficients</td>\n",
       "    </tr>\n",
       "    <tr>\n",
       "      <th>25</th>\n",
       "      <td>visual, image, video, text, language, vqa, multimodal, modal, question, captioning</td>\n",
       "      <td>Bear the Query in Mind: Visual Grounding with Query-conditioned  Convolution</td>\n",
       "      <td>Does language help generalization in vision models?</td>\n",
       "      <td>Rethinking the Openness of CLIP</td>\n",
       "    </tr>\n",
       "    <tr>\n",
       "      <th>26</th>\n",
       "      <td>problems, search, solutions, solution, evolutionary, instances, algorithms, combinatorial, heuristic, scheduling</td>\n",
       "      <td>Cumulative Step-size Adaptation on Linear Functions: Technical Report</td>\n",
       "      <td>A Computational Study of Genetic Crossover Operators for Multi-Objective  Vehicle Routing Problem with Soft Time Windows</td>\n",
       "      <td>Boosting Combinatorial Problem Modeling with Machine Learning</td>\n",
       "    </tr>\n",
       "    <tr>\n",
       "      <th>27</th>\n",
       "      <td>climate, satellite, weather, images, imagery, water, remote, resolution, land, precipitation</td>\n",
       "      <td>Tampered VAE for Improved Satellite Image Time Series Classification</td>\n",
       "      <td>Evaluating Self and Semi-Supervised Methods for Remote Sensing  Segmentation Tasks</td>\n",
       "      <td>Two Headed Dragons: Multimodal Fusion and Cross Modal Transactions</td>\n",
       "    </tr>\n",
       "    <tr>\n",
       "      <th>28</th>\n",
       "      <td>driving, autonomous, vehicle, vehicles, traffic, trajectory, driver, safety, road, scenarios</td>\n",
       "      <td>Learning a Decision Module by Imitating Driver's Control Behaviors</td>\n",
       "      <td>CVAE-H: Conditionalizing Variational Autoencoders via Hypernetworks and  Trajectory Forecasting for Autonomous Driving</td>\n",
       "      <td>Testing the Safety of Self-driving Vehicles by Simulating Perception and  Prediction</td>\n",
       "    </tr>\n",
       "    <tr>\n",
       "      <th>29</th>\n",
       "      <td>clustering, means, clusters, cluster, manifold, points, dimensional, algorithms, dimensionality, methods</td>\n",
       "      <td>Approximation Algorithms for K-Modes Clustering</td>\n",
       "      <td>Evidential relational clustering using medoids</td>\n",
       "      <td>Density-based Clustering with Best-scored Random Forest</td>\n",
       "    </tr>\n",
       "    <tr>\n",
       "      <th>30</th>\n",
       "      <td>quantum, classical, circuits, circuit, states, computers, qubit, qubits, algorithms, variational</td>\n",
       "      <td>Quantum Machine Learning</td>\n",
       "      <td>Experimental measurement of Hilbert-Schmidt distance between two-qubit  states as means for speeding-up machine learning</td>\n",
       "      <td>Can Noise on Qubits Be Learned in Quantum Neural Network? A Case Study  on QuantumFlow</td>\n",
       "    </tr>\n",
       "    <tr>\n",
       "      <th>31</th>\n",
       "      <td>fairness, fair, bias, groups, discrimination, sensitive, protected, group, algorithmic, decision</td>\n",
       "      <td>Fair Data Representation for Machine Learning at the Pareto Frontier</td>\n",
       "      <td>A Novel Regularization Approach to Fair ML</td>\n",
       "      <td>On the Choice of Fairness: Finding Representative Fairness Metrics for a  Given Context</td>\n",
       "    </tr>\n",
       "    <tr>\n",
       "      <th>32</th>\n",
       "      <td>energy, power, load, electricity, forecasting, grid, consumption, solar, demand, renewable</td>\n",
       "      <td>DeepThermal: Combustion Optimization for Thermal Power Generating Units  Using Offline Reinforcement Learning</td>\n",
       "      <td>AI-based Optimal scheduling of Renewable AC Microgrids with  bidirectional LSTM-Based Wind Power Forecasting</td>\n",
       "      <td>Predicting the Voltage Distribution for Low Voltage Networks using Deep  Learning</td>\n",
       "    </tr>\n",
       "    <tr>\n",
       "      <th>33</th>\n",
       "      <td>game, agent, agents, games, marl, multi, reinforcement, player, chess, cooperative</td>\n",
       "      <td>Cooperative Control of Mobile Robots with Stackelberg Learning</td>\n",
       "      <td>Player Modeling via Multi-Armed Bandits</td>\n",
       "      <td>Demonstrating the Feasibility of Automatic Game Balancing</td>\n",
       "    </tr>\n",
       "    <tr>\n",
       "      <th>34</th>\n",
       "      <td>physics, galaxy, gravitational, particle, galaxies, simulations, detector, high, solar, jet</td>\n",
       "      <td>An improved quasar detection method in EROS-2 and MACHO LMC datasets</td>\n",
       "      <td>Accelerated Bayesian SED Modeling using Amortized Neural Posterior  Estimation</td>\n",
       "      <td>Distinguishing short and long $Fermi$ gamma-ray bursts</td>\n",
       "    </tr>\n",
       "    <tr>\n",
       "      <th>35</th>\n",
       "      <td>eeg, sleep, signals, brain, bci, seizure, classification, ecg, signal, features</td>\n",
       "      <td>Wheelchair automation by a hybrid BCI system using SSVEP and eye blinks</td>\n",
       "      <td>Self-supervised EEG Representation Learning for Automatic Sleep Staging</td>\n",
       "      <td>Generating EEG features from Acoustic features</td>\n",
       "    </tr>\n",
       "    <tr>\n",
       "      <th>36</th>\n",
       "      <td>program, programs, source, language, bug, programming, developers, bugs, synthesis, test</td>\n",
       "      <td>Improving the Effectiveness of Traceability Link Recovery using  Hierarchical Bayesian Networks</td>\n",
       "      <td>Learning to Represent Edits</td>\n",
       "      <td>WebAPIRec: Recommending Web APIs to Software Projects via Personalized  Ranking</td>\n",
       "    </tr>\n",
       "    <tr>\n",
       "      <th>37</th>\n",
       "      <td>traffic, temporal, spatial, travel, prediction, transportation, road, urban, mobility, time</td>\n",
       "      <td>One-shot Transfer Learning for Population Mapping</td>\n",
       "      <td>Towards a Generic Multimodal Architecture for Batch and Streaming Big  Data Integration</td>\n",
       "      <td>Large-Scale Traffic Congestion Prediction based on Multimodal Fusion and  Representation Mapping</td>\n",
       "    </tr>\n",
       "    <tr>\n",
       "      <th>38</th>\n",
       "      <td>domain, adaptation, target, source, domains, transfer, uda, shift, generalization, distribution</td>\n",
       "      <td>Sequential Model Adaptation Using Domain Agnostic Internal Distributions</td>\n",
       "      <td>AdaMatch: A Unified Approach to Semi-Supervised Learning and Domain  Adaptation</td>\n",
       "      <td>A Dictionary Approach to Domain-Invariant Learning in Deep Networks</td>\n",
       "    </tr>\n",
       "    <tr>\n",
       "      <th>39</th>\n",
       "      <td>meta, shot, tasks, classes, task, maml, zsl, unseen, class, classification</td>\n",
       "      <td>Meta-Learning with Latent Embedding Optimization</td>\n",
       "      <td>Semantic-Based Few-Shot Learning by Interactive Psychometric Testing</td>\n",
       "      <td>Dynamic Kernel Selection for Improved Generalization and Memory  Efficiency in Meta-learning</td>\n",
       "    </tr>\n",
       "    <tr>\n",
       "      <th>40</th>\n",
       "      <td>bo, bayesian, function, objective, acquisition, functions, problems, black, box, expensive</td>\n",
       "      <td>A Nested Weighted Tchebycheff Multi-Objective Bayesian Optimization  Approach for Flexibility of Unknown Utopia Estimation in Expensive Black-box  Design Problems</td>\n",
       "      <td>Diversified Sampling for Batched Bayesian Optimization with  Determinantal Point Processes</td>\n",
       "      <td>A Stratified Analysis of Bayesian Optimization Methods</td>\n",
       "    </tr>\n",
       "    <tr>\n",
       "      <th>41</th>\n",
       "      <td>community, communities, block, nodes, clustering, graph, graphs, detection, spectral, stochastic</td>\n",
       "      <td>Adapting Stochastic Block Models to Power-Law Degree Distributions</td>\n",
       "      <td>Active Learning for Community Detection in Stochastic Block Models</td>\n",
       "      <td>A new method for quantifying network cyclic structure to improve  community detection</td>\n",
       "    </tr>\n",
       "    <tr>\n",
       "      <th>42</th>\n",
       "      <td>spiking, snns, neuromorphic, snn, spike, neurons, synaptic, neuron, hardware, energy</td>\n",
       "      <td>Explicitly Trained Spiking Sparsity in Spiking Neural Networks with  Backpropagation</td>\n",
       "      <td>Neuromorphic Processing and Sensing: Evolutionary Progression of AI to  Spiking</td>\n",
       "      <td>Bioinspired Cortex-based Fast Codebook Generation</td>\n",
       "    </tr>\n",
       "    <tr>\n",
       "      <th>43</th>\n",
       "      <td>continual, forgetting, catastrophic, tasks, incremental, new, task, memory, replay, cl</td>\n",
       "      <td>Fortuitous Forgetting in Connectionist Networks</td>\n",
       "      <td>Drinking from a Firehose: Continual Learning with Web-scale Natural  Language</td>\n",
       "      <td>Explain to Not Forget: Defending Against Catastrophic Forgetting with  XAI</td>\n",
       "    </tr>\n",
       "    <tr>\n",
       "      <th>44</th>\n",
       "      <td>cognitive, consciousness, turing, human, brain, systems, sp, information, machines, general</td>\n",
       "      <td>AI, Native Supercomputing and The Revival of Moore's Law</td>\n",
       "      <td>The case for psychometric artificial general intelligence</td>\n",
       "      <td>Conscious Intelligent Systems - Part II - Mind, Thought, Language and  Understanding</td>\n",
       "    </tr>\n",
       "    <tr>\n",
       "      <th>45</th>\n",
       "      <td>brain, fmri, functional, neuroimaging, connectivity, imaging, disease, graph, cognitive, subjects</td>\n",
       "      <td>Understanding Graph Isomorphism Network for rs-fMRI Functional  Connectivity Analysis</td>\n",
       "      <td>Contrastive Graph Learning for Population-based fMRI Classification</td>\n",
       "      <td>Identification of brain states, transitions, and communities using  functional MRI</td>\n",
       "    </tr>\n",
       "    <tr>\n",
       "      <th>46</th>\n",
       "      <td>activity, gait, har, recognition, sensor, activities, human, sensors, wearable, emg</td>\n",
       "      <td>Leveraging Activity Recognition to Enable Protective Behavior Detection  in Continuous Data</td>\n",
       "      <td>Predicting gait events from tibial acceleration in rearfoot running: a  structured machine learning approach</td>\n",
       "      <td>B-HAR: an open-source baseline framework for in depth study of human  activity recognition datasets and workflows</td>\n",
       "    </tr>\n",
       "  </tbody>\n",
       "</table>\n",
       "</div>"
      ],
      "text/plain": [
       "                                                                                                                        Keywords  \\\n",
       "Topic                                                                                                                              \n",
       "0                                           language, text, word, knowledge, task, tasks, translation, natural, dialogue, entity   \n",
       "1                                       reinforcement, rl, reward, control, agent, tasks, environment, state, exploration, robot   \n",
       "2                              privacy, federated, fl, private, communication, distributed, clients, local, server, differential   \n",
       "3                             gradient, stochastic, convergence, descent, convex, sgd, functions, function, rate, generalization   \n",
       "4                                      logic, reasoning, semantics, ontology, knowledge, programming, programs, belief, sat, asp   \n",
       "5                                               segmentation, images, image, imaging, medical, ct, mri, covid, cancer, diagnosis   \n",
       "6                                                   speech, audio, speaker, music, acoustic, recognition, asr, end, voice, sound   \n",
       "7                                                   matrix, rank, tensor, sparse, low, regression, kernel, lasso, norm, recovery   \n",
       "8                        pruning, quantization, hardware, nas, search, architecture, memory, architectures, compression, devices   \n",
       "9                                                3d, object, segmentation, point, video, image, objects, detection, depth, scene   \n",
       "10                             adversarial, attacks, attack, robustness, examples, perturbations, robust, defense, box, backdoor   \n",
       "11                                                 regret, bandit, online, bandits, arm, bound, armed, arms, algorithms, optimal   \n",
       "12                     causal, treatment, variables, graphical, bayesian, effect, structure, observational, effects, conditional   \n",
       "13                                  generative, gans, gan, latent, image, vae, distribution, variational, generator, adversarial   \n",
       "14                                   detection, anomaly, malware, anomalies, security, attacks, cyber, intrusion, attack, detect   \n",
       "15     recommendation, recommender, users, ranking, recommendations, systems, collaborative, preferences, information, filtering   \n",
       "16              explanations, interpretability, explainable, explainability, interpretable, human, black, decision, xai, methods   \n",
       "17                                         graph, node, graphs, gnns, nodes, gnn, embedding, classification, representation, gcn   \n",
       "18                               channel, wireless, communication, radio, resource, csi, communications, allocation, 5g, service   \n",
       "19                               molecular, protein, drug, molecules, chemical, prediction, graph, materials, molecule, proteins   \n",
       "20                                    series, time, forecasting, stock, market, financial, trading, price, prediction, portfolio   \n",
       "21                               equations, differential, physics, pdes, equation, physical, pde, numerical, dynamics, nonlinear   \n",
       "22                                        gaussian, posterior, variational, gp, bayesian, carlo, monte, mcmc, process, processes   \n",
       "23                                            patients, patient, clinical, health, medical, disease, covid, 19, healthcare, care   \n",
       "24                              classification, class, ensemble, trees, tree, label, boosting, classifiers, classifier, decision   \n",
       "25                                            visual, image, video, text, language, vqa, multimodal, modal, question, captioning   \n",
       "26              problems, search, solutions, solution, evolutionary, instances, algorithms, combinatorial, heuristic, scheduling   \n",
       "27                                  climate, satellite, weather, images, imagery, water, remote, resolution, land, precipitation   \n",
       "28                                  driving, autonomous, vehicle, vehicles, traffic, trajectory, driver, safety, road, scenarios   \n",
       "29                      clustering, means, clusters, cluster, manifold, points, dimensional, algorithms, dimensionality, methods   \n",
       "30                              quantum, classical, circuits, circuit, states, computers, qubit, qubits, algorithms, variational   \n",
       "31                              fairness, fair, bias, groups, discrimination, sensitive, protected, group, algorithmic, decision   \n",
       "32                                    energy, power, load, electricity, forecasting, grid, consumption, solar, demand, renewable   \n",
       "33                                            game, agent, agents, games, marl, multi, reinforcement, player, chess, cooperative   \n",
       "34                                   physics, galaxy, gravitational, particle, galaxies, simulations, detector, high, solar, jet   \n",
       "35                                               eeg, sleep, signals, brain, bci, seizure, classification, ecg, signal, features   \n",
       "36                                      program, programs, source, language, bug, programming, developers, bugs, synthesis, test   \n",
       "37                                   traffic, temporal, spatial, travel, prediction, transportation, road, urban, mobility, time   \n",
       "38                               domain, adaptation, target, source, domains, transfer, uda, shift, generalization, distribution   \n",
       "39                                                    meta, shot, tasks, classes, task, maml, zsl, unseen, class, classification   \n",
       "40                                    bo, bayesian, function, objective, acquisition, functions, problems, black, box, expensive   \n",
       "41                              community, communities, block, nodes, clustering, graph, graphs, detection, spectral, stochastic   \n",
       "42                                          spiking, snns, neuromorphic, snn, spike, neurons, synaptic, neuron, hardware, energy   \n",
       "43                                        continual, forgetting, catastrophic, tasks, incremental, new, task, memory, replay, cl   \n",
       "44                                   cognitive, consciousness, turing, human, brain, systems, sp, information, machines, general   \n",
       "45                             brain, fmri, functional, neuroimaging, connectivity, imaging, disease, graph, cognitive, subjects   \n",
       "46                                           activity, gait, har, recognition, sensor, activities, human, sensors, wearable, emg   \n",
       "\n",
       "                                                                                                                                                                 Sample 1  \\\n",
       "Topic                                                                                                                                                                       \n",
       "0                                                                                  Discourse-Wizard: Discovering Deep Discourse Structure in your  Conversation with RNNs   \n",
       "1                                                                                      Finite-Time Analysis of Entropy-Regularized Neural Natural Actor-Critic  Algorithm   \n",
       "2                                                                           Measuring the Effects of Non-Identical Data Distribution for Federated  Visual Classification   \n",
       "3                                                                                                      Implicit Bias of Gradient Descent on Linear Convolutional Networks   \n",
       "4                                                                                                                               Automatic Tabulation in Constraint Models   \n",
       "5                                                                             Wall Stress Estimation of Cerebral Aneurysm based on Zernike  Convolutional Neural Networks   \n",
       "6                                                                      An Investigation Into On-device Personalization of End-to-end Automatic  Speech Recognition Models   \n",
       "7                                                                                                                      Tracing Network Evolution Using the PARAFAC2 Model   \n",
       "8                                                                                                                                    Quantization Loss Re-Learning Method   \n",
       "9                                                                                                    MonoDETR: Depth-guided Transformer for Monocular 3D Object Detection   \n",
       "10                                                                                                            Adversarial Attacks are Reversible with Natural Supervision   \n",
       "11                                                                                                       Practical Calculation of Gittins Indices for Multi-armed Bandits   \n",
       "12                                                                                                                    Identifying Patient-Specific Root Causes of Disease   \n",
       "13                                                                                        A Study into the similarity in generator and discriminator in GAN  architecture   \n",
       "14                                                                                             How to Evaluate the Quality of Unsupervised Anomaly Detection  Algorithms?   \n",
       "15                                                                           HCGR: Hyperbolic Contrastive Graph Representation Learning for  Session-based Recommendation   \n",
       "16                                                                                       GapTV: Accurate and Interpretable Low-Dimensional Regression and  Classification   \n",
       "17                                                                                                                             EEGNN: Edge Enhanced Graph Neural Networks   \n",
       "18                                                        On Improving Energy Efficiency within Green Femtocell Networks: A  Hierarchical Reinforcement Learning Approach   \n",
       "19                                                                  Site2Vec: a reference frame invariant algorithm for vector embedding of  protein-ligand binding sites   \n",
       "20                                                                                                                      The Recurrent Reinforcement Learning Crypto Agent   \n",
       "21                                                                                               Machine learning based non-Newtonian fluid model with molecular fidelity   \n",
       "22                                                                                                                                          Recyclable Gaussian Processes   \n",
       "23                                                                                                                        Multimodal Machine Learning in Precision Health   \n",
       "24                                                                                Confidence Intervals for Random Forests: The Jackknife and the  Infinitesimal Jackknife   \n",
       "25                                                                                           Bear the Query in Mind: Visual Grounding with Query-conditioned  Convolution   \n",
       "26                                                                                                  Cumulative Step-size Adaptation on Linear Functions: Technical Report   \n",
       "27                                                                                                   Tampered VAE for Improved Satellite Image Time Series Classification   \n",
       "28                                                                                                     Learning a Decision Module by Imitating Driver's Control Behaviors   \n",
       "29                                                                                                                        Approximation Algorithms for K-Modes Clustering   \n",
       "30                                                                                                                                               Quantum Machine Learning   \n",
       "31                                                                                                   Fair Data Representation for Machine Learning at the Pareto Frontier   \n",
       "32                                                          DeepThermal: Combustion Optimization for Thermal Power Generating Units  Using Offline Reinforcement Learning   \n",
       "33                                                                                                         Cooperative Control of Mobile Robots with Stackelberg Learning   \n",
       "34                                                                                                   An improved quasar detection method in EROS-2 and MACHO LMC datasets   \n",
       "35                                                                                                Wheelchair automation by a hybrid BCI system using SSVEP and eye blinks   \n",
       "36                                                                        Improving the Effectiveness of Traceability Link Recovery using  Hierarchical Bayesian Networks   \n",
       "37                                                                                                                      One-shot Transfer Learning for Population Mapping   \n",
       "38                                                                                               Sequential Model Adaptation Using Domain Agnostic Internal Distributions   \n",
       "39                                                                                                                       Meta-Learning with Latent Embedding Optimization   \n",
       "40     A Nested Weighted Tchebycheff Multi-Objective Bayesian Optimization  Approach for Flexibility of Unknown Utopia Estimation in Expensive Black-box  Design Problems   \n",
       "41                                                                                                     Adapting Stochastic Block Models to Power-Law Degree Distributions   \n",
       "42                                                                                   Explicitly Trained Spiking Sparsity in Spiking Neural Networks with  Backpropagation   \n",
       "43                                                                                                                        Fortuitous Forgetting in Connectionist Networks   \n",
       "44                                                                                                               AI, Native Supercomputing and The Revival of Moore's Law   \n",
       "45                                                                                  Understanding Graph Isomorphism Network for rs-fMRI Functional  Connectivity Analysis   \n",
       "46                                                                            Leveraging Activity Recognition to Enable Protective Behavior Detection  in Continuous Data   \n",
       "\n",
       "                                                                                                                                             Sample 2  \\\n",
       "Topic                                                                                                                                                   \n",
       "0                                                                                                                        Skip-Thought Memory Networks   \n",
       "1                                                                                                                         Implicit Two-Tower Policies   \n",
       "2                                                                                    (Nearly) Optimal Private Linear Regression via Adaptive Clipping   \n",
       "3                                                                               Quadratic Suffices for Over-parametrization via Matrix Chernoff Bound   \n",
       "4                                                            Alternating Fixpoint Operator for Hybrid MKNF Knowledge Bases as an  Approximator of AFT   \n",
       "5      A Neural Ordinary Differential Equation Model for Visualizing Deep  Neural Network Behaviors in Multi-Parametric MRI based Glioma Segmentation   \n",
       "6                                                                         A holistic approach to polyphonic music transcription with neural  networks   \n",
       "7                                                                     Coupled Support Tensor Machine Classification for Multimodal  Neuroimaging Data   \n",
       "8                                                                                                           Compressing Convolutional Neural Networks   \n",
       "9                                                                         Robot Active Neural Sensing and Planning in Unknown Cluttered  Environments   \n",
       "10                              Optimization Models and Interpretations for Three Types of Adversarial  Perturbations against Support Vector Machines   \n",
       "11                                                                             Analysis of Thompson Sampling for Graphical Bandits Without the Graphs   \n",
       "12                                                                                                            Noisy-OR Models with Latent Confounding   \n",
       "13                                                                                                      Learning GANs and Ensembles Using Discrepancy   \n",
       "14                                                                            A Flexible Framework for Anomaly Detection via Dimensionality Reduction   \n",
       "15                                                                               Revisiting the Performance of iALS on Item Recommendation Benchmarks   \n",
       "16                                                                              Model Learning with Personalized Interpretability Estimation (ML-PIE)   \n",
       "17                                                                                                           Deep Manifold Learning with Graph Mining   \n",
       "18                                    Learn to Detect and Detect to Learn: Structure Learning and Decision  Feedback for MIMO-OFDM Receive Processing   \n",
       "19                                                               Fragment Graphical Variational AutoEncoding for Screening Molecules with  Small Data   \n",
       "20                     AlphaStock: A Buying-Winners-and-Selling-Losers Investment Strategy  using Interpretable Deep Reinforcement Attention Networks   \n",
       "21                                                        Variational training of neural network approximations of solution maps  for physical models   \n",
       "22                   A Generalized Stochastic Variational Bayesian Hyperparameter Learning  Framework for Sparse Spectrum Gaussian Process Regression   \n",
       "23                                                           Neural networks versus Logistic regression for 30 days all-cause  readmission prediction   \n",
       "24                                                                                                             Trees-Based Models for Correlated Data   \n",
       "25                                                                                                Does language help generalization in vision models?   \n",
       "26                           A Computational Study of Genetic Crossover Operators for Multi-Objective  Vehicle Routing Problem with Soft Time Windows   \n",
       "27                                                                 Evaluating Self and Semi-Supervised Methods for Remote Sensing  Segmentation Tasks   \n",
       "28                             CVAE-H: Conditionalizing Variational Autoencoders via Hypernetworks and  Trajectory Forecasting for Autonomous Driving   \n",
       "29                                                                                                     Evidential relational clustering using medoids   \n",
       "30                           Experimental measurement of Hilbert-Schmidt distance between two-qubit  states as means for speeding-up machine learning   \n",
       "31                                                                                                         A Novel Regularization Approach to Fair ML   \n",
       "32                                       AI-based Optimal scheduling of Renewable AC Microgrids with  bidirectional LSTM-Based Wind Power Forecasting   \n",
       "33                                                                                                            Player Modeling via Multi-Armed Bandits   \n",
       "34                                                                     Accelerated Bayesian SED Modeling using Amortized Neural Posterior  Estimation   \n",
       "35                                                                            Self-supervised EEG Representation Learning for Automatic Sleep Staging   \n",
       "36                                                                                                                        Learning to Represent Edits   \n",
       "37                                                            Towards a Generic Multimodal Architecture for Batch and Streaming Big  Data Integration   \n",
       "38                                                                    AdaMatch: A Unified Approach to Semi-Supervised Learning and Domain  Adaptation   \n",
       "39                                                                               Semantic-Based Few-Shot Learning by Interactive Psychometric Testing   \n",
       "40                                                         Diversified Sampling for Batched Bayesian Optimization with  Determinantal Point Processes   \n",
       "41                                                                                 Active Learning for Community Detection in Stochastic Block Models   \n",
       "42                                                                    Neuromorphic Processing and Sensing: Evolutionary Progression of AI to  Spiking   \n",
       "43                                                                      Drinking from a Firehose: Continual Learning with Web-scale Natural  Language   \n",
       "44                                                                                          The case for psychometric artificial general intelligence   \n",
       "45                                                                                Contrastive Graph Learning for Population-based fMRI Classification   \n",
       "46                                       Predicting gait events from tibial acceleration in rearfoot running: a  structured machine learning approach   \n",
       "\n",
       "                                                                                                                                              Sample 3  \n",
       "Topic                                                                                                                                                   \n",
       "0                                       Conversation Learner -- A Machine Teaching Tool for Building Dialog  Managers for Task-Oriented Dialog Systems  \n",
       "1                                                                                                     Implicitly Regularized RL with Implicit Q-Values  \n",
       "2                                                                                                                      Push--Pull with Device Sampling  \n",
       "3                                               Sharper Rates for Separable Minimax and Finite Sum Optimization via  Primal-Dual Extragradient Methods  \n",
       "4                                                                                        PYCSP3: Modeling Combinatorial Constrained Problems in Python  \n",
       "5                                                                         EndoUDA: A modality independent segmentation approach for endoscopy  imaging  \n",
       "6                                                                              A Fully Convolutional Deep Auditory Model for Musical Chord Recognition  \n",
       "7                                                               Classification and regression using an outer approximation  projection-gradient method  \n",
       "8                                               Semi-Relaxed Quantization with DropBits: Training Low-Bit Neural  Networks via Bit-wise Regularization  \n",
       "9                                                                                            DVI: Depth Guided Video Inpainting for Autonomous Driving  \n",
       "10                                                                            Improving Adversarial Robustness via Channel-wise Activation Suppressing  \n",
       "11                                                                                                                           Batched Thompson Sampling  \n",
       "12                                                                 Normalized Augmented Inverse Probability Weighting with Neural Network  Predictions  \n",
       "13                                                                                                                    Discriminator Rejection Sampling  \n",
       "14                                                        A Framework for End-to-End Deep Learning-Based Anomaly Detection in  Transportation Networks  \n",
       "15                                                                       Toward Implicit Sample Noise Modeling: Deviation-driven Matrix  Factorization  \n",
       "16                                                                                                            Recovering Localized Adversarial Attacks  \n",
       "17                                                                  SimPool: Towards Topology Based Graph Pooling with Structural Similarity  Features  \n",
       "18     Deep learning scheme for recovery of broadband microwave photonic  receiving systems in transceivers without expert knowledge and system priors  \n",
       "19                                                                         GeoMol: Torsional Geometric Generation of Molecular 3D Conformer  Ensembles  \n",
       "20                                              News-based forecasts of macroeconomic indicators: A semantic path model  for interpretable predictions  \n",
       "21                                                           Learning Green's functions associated with time-dependent partial  differential equations  \n",
       "22                                                                                                  B\\'ezier Gaussian Processes for Tall and Wide Data  \n",
       "23                                              Forecasting adverse surgical events using self-supervised transfer  learning for physiological signals  \n",
       "24                                                                                    Credal Classification based on AODE and compression coefficients  \n",
       "25                                                                                                                     Rethinking the Openness of CLIP  \n",
       "26                                                                                       Boosting Combinatorial Problem Modeling with Machine Learning  \n",
       "27                                                                                  Two Headed Dragons: Multimodal Fusion and Cross Modal Transactions  \n",
       "28                                                                Testing the Safety of Self-driving Vehicles by Simulating Perception and  Prediction  \n",
       "29                                                                                             Density-based Clustering with Best-scored Random Forest  \n",
       "30                                                              Can Noise on Qubits Be Learned in Quantum Neural Network? A Case Study  on QuantumFlow  \n",
       "31                                                             On the Choice of Fairness: Finding Representative Fairness Metrics for a  Given Context  \n",
       "32                                                                   Predicting the Voltage Distribution for Low Voltage Networks using Deep  Learning  \n",
       "33                                                                                           Demonstrating the Feasibility of Automatic Game Balancing  \n",
       "34                                                                                              Distinguishing short and long $Fermi$ gamma-ray bursts  \n",
       "35                                                                                                      Generating EEG features from Acoustic features  \n",
       "36                                                                     WebAPIRec: Recommending Web APIs to Software Projects via Personalized  Ranking  \n",
       "37                                                    Large-Scale Traffic Congestion Prediction based on Multimodal Fusion and  Representation Mapping  \n",
       "38                                                                                 A Dictionary Approach to Domain-Invariant Learning in Deep Networks  \n",
       "39                                                        Dynamic Kernel Selection for Improved Generalization and Memory  Efficiency in Meta-learning  \n",
       "40                                                                                              A Stratified Analysis of Bayesian Optimization Methods  \n",
       "41                                                               A new method for quantifying network cyclic structure to improve  community detection  \n",
       "42                                                                                                   Bioinspired Cortex-based Fast Codebook Generation  \n",
       "43                                                                          Explain to Not Forget: Defending Against Catastrophic Forgetting with  XAI  \n",
       "44                                                                Conscious Intelligent Systems - Part II - Mind, Thought, Language and  Understanding  \n",
       "45                                                                  Identification of brain states, transitions, and communities using  functional MRI  \n",
       "46                                   B-HAR: an open-source baseline framework for in depth study of human  activity recognition datasets and workflows  "
      ]
     },
     "execution_count": 21,
     "metadata": {},
     "output_type": "execute_result"
    }
   ],
   "source": [
    "# Show representative papers\n",
    "topic_representative_papers"
   ]
  },
  {
   "cell_type": "markdown",
   "id": "c4ebbdd9-91ff-4648-a151-74b8b58731a3",
   "metadata": {},
   "source": [
    "### Dynamic topic analysis"
   ]
  },
  {
   "cell_type": "code",
   "execution_count": 22,
   "id": "5a4e79e4-8d96-4206-87e4-62bff08c6312",
   "metadata": {},
   "outputs": [
    {
     "data": {
      "text/html": [
       "<div>\n",
       "<style scoped>\n",
       "    .dataframe tbody tr th:only-of-type {\n",
       "        vertical-align: middle;\n",
       "    }\n",
       "\n",
       "    .dataframe tbody tr th {\n",
       "        vertical-align: top;\n",
       "    }\n",
       "\n",
       "    .dataframe thead th {\n",
       "        text-align: right;\n",
       "    }\n",
       "</style>\n",
       "<table border=\"1\" class=\"dataframe\">\n",
       "  <thead>\n",
       "    <tr style=\"text-align: right;\">\n",
       "      <th></th>\n",
       "      <th>2011</th>\n",
       "      <th>2012</th>\n",
       "      <th>2013</th>\n",
       "      <th>2014</th>\n",
       "      <th>2015</th>\n",
       "      <th>2016</th>\n",
       "      <th>2017</th>\n",
       "      <th>2018</th>\n",
       "      <th>2019</th>\n",
       "      <th>2020</th>\n",
       "      <th>2021</th>\n",
       "      <th>2022</th>\n",
       "      <th>Change</th>\n",
       "    </tr>\n",
       "    <tr>\n",
       "      <th>Name</th>\n",
       "      <th></th>\n",
       "      <th></th>\n",
       "      <th></th>\n",
       "      <th></th>\n",
       "      <th></th>\n",
       "      <th></th>\n",
       "      <th></th>\n",
       "      <th></th>\n",
       "      <th></th>\n",
       "      <th></th>\n",
       "      <th></th>\n",
       "      <th></th>\n",
       "      <th></th>\n",
       "    </tr>\n",
       "  </thead>\n",
       "  <tbody>\n",
       "    <tr>\n",
       "      <th>0_language_text_word_knowledge</th>\n",
       "      <td>2.6%</td>\n",
       "      <td>3.8%</td>\n",
       "      <td>2.4%</td>\n",
       "      <td>4.2%</td>\n",
       "      <td>6.5%</td>\n",
       "      <td>7.7%</td>\n",
       "      <td>7.7%</td>\n",
       "      <td>7.6%</td>\n",
       "      <td>7.9%</td>\n",
       "      <td>7.7%</td>\n",
       "      <td>7.4%</td>\n",
       "      <td>6.2%</td>\n",
       "      <td>3.6%</td>\n",
       "    </tr>\n",
       "    <tr>\n",
       "      <th>1_reinforcement_rl_reward_control</th>\n",
       "      <td>2.5%</td>\n",
       "      <td>4.1%</td>\n",
       "      <td>2.4%</td>\n",
       "      <td>2.1%</td>\n",
       "      <td>2.1%</td>\n",
       "      <td>2.9%</td>\n",
       "      <td>4.3%</td>\n",
       "      <td>5.0%</td>\n",
       "      <td>5.0%</td>\n",
       "      <td>4.6%</td>\n",
       "      <td>4.6%</td>\n",
       "      <td>4.7%</td>\n",
       "      <td>2.2%</td>\n",
       "    </tr>\n",
       "    <tr>\n",
       "      <th>2_privacy_federated_fl_private</th>\n",
       "      <td>0.8%</td>\n",
       "      <td>0.8%</td>\n",
       "      <td>0.5%</td>\n",
       "      <td>1.4%</td>\n",
       "      <td>2.2%</td>\n",
       "      <td>2.2%</td>\n",
       "      <td>1.9%</td>\n",
       "      <td>2.1%</td>\n",
       "      <td>2.6%</td>\n",
       "      <td>3.4%</td>\n",
       "      <td>4.0%</td>\n",
       "      <td>4.8%</td>\n",
       "      <td>4.0%</td>\n",
       "    </tr>\n",
       "    <tr>\n",
       "      <th>3_gradient_stochastic_convergence_descent</th>\n",
       "      <td>1.1%</td>\n",
       "      <td>1.0%</td>\n",
       "      <td>1.4%</td>\n",
       "      <td>2.3%</td>\n",
       "      <td>3.6%</td>\n",
       "      <td>3.1%</td>\n",
       "      <td>4.3%</td>\n",
       "      <td>4.2%</td>\n",
       "      <td>3.8%</td>\n",
       "      <td>3.2%</td>\n",
       "      <td>3.1%</td>\n",
       "      <td>3.1%</td>\n",
       "      <td>2.0%</td>\n",
       "    </tr>\n",
       "    <tr>\n",
       "      <th>4_logic_reasoning_semantics_ontology</th>\n",
       "      <td>19.8%</td>\n",
       "      <td>7.5%</td>\n",
       "      <td>18.4%</td>\n",
       "      <td>13.1%</td>\n",
       "      <td>6.9%</td>\n",
       "      <td>4.8%</td>\n",
       "      <td>3.5%</td>\n",
       "      <td>2.4%</td>\n",
       "      <td>1.5%</td>\n",
       "      <td>1.6%</td>\n",
       "      <td>1.2%</td>\n",
       "      <td>1.0%</td>\n",
       "      <td>-18.8%</td>\n",
       "    </tr>\n",
       "    <tr>\n",
       "      <th>5_segmentation_images_image_imaging</th>\n",
       "      <td>0.1%</td>\n",
       "      <td>0.4%</td>\n",
       "      <td>0.2%</td>\n",
       "      <td>0.3%</td>\n",
       "      <td>0.6%</td>\n",
       "      <td>0.6%</td>\n",
       "      <td>1.2%</td>\n",
       "      <td>2.2%</td>\n",
       "      <td>3.0%</td>\n",
       "      <td>3.8%</td>\n",
       "      <td>3.2%</td>\n",
       "      <td>3.4%</td>\n",
       "      <td>3.3%</td>\n",
       "    </tr>\n",
       "    <tr>\n",
       "      <th>6_speech_audio_speaker_music</th>\n",
       "      <td>0.6%</td>\n",
       "      <td>0.6%</td>\n",
       "      <td>0.7%</td>\n",
       "      <td>1.5%</td>\n",
       "      <td>1.8%</td>\n",
       "      <td>2.5%</td>\n",
       "      <td>2.7%</td>\n",
       "      <td>2.8%</td>\n",
       "      <td>3.2%</td>\n",
       "      <td>2.9%</td>\n",
       "      <td>2.6%</td>\n",
       "      <td>2.6%</td>\n",
       "      <td>2.0%</td>\n",
       "    </tr>\n",
       "    <tr>\n",
       "      <th>7_matrix_rank_tensor_sparse</th>\n",
       "      <td>6.5%</td>\n",
       "      <td>6.0%</td>\n",
       "      <td>5.9%</td>\n",
       "      <td>7.8%</td>\n",
       "      <td>8.0%</td>\n",
       "      <td>6.0%</td>\n",
       "      <td>4.0%</td>\n",
       "      <td>3.0%</td>\n",
       "      <td>1.9%</td>\n",
       "      <td>1.5%</td>\n",
       "      <td>1.4%</td>\n",
       "      <td>1.3%</td>\n",
       "      <td>-5.2%</td>\n",
       "    </tr>\n",
       "    <tr>\n",
       "      <th>8_pruning_quantization_hardware_nas</th>\n",
       "      <td>0.1%</td>\n",
       "      <td>0.1%</td>\n",
       "      <td>0.1%</td>\n",
       "      <td>0.4%</td>\n",
       "      <td>0.9%</td>\n",
       "      <td>1.6%</td>\n",
       "      <td>2.3%</td>\n",
       "      <td>2.5%</td>\n",
       "      <td>2.8%</td>\n",
       "      <td>2.7%</td>\n",
       "      <td>2.7%</td>\n",
       "      <td>2.2%</td>\n",
       "      <td>2.1%</td>\n",
       "    </tr>\n",
       "    <tr>\n",
       "      <th>9_3d_object_segmentation_point</th>\n",
       "      <td>0.4%</td>\n",
       "      <td>0.6%</td>\n",
       "      <td>0.5%</td>\n",
       "      <td>0.7%</td>\n",
       "      <td>1.2%</td>\n",
       "      <td>1.6%</td>\n",
       "      <td>1.6%</td>\n",
       "      <td>1.9%</td>\n",
       "      <td>2.4%</td>\n",
       "      <td>2.6%</td>\n",
       "      <td>2.5%</td>\n",
       "      <td>2.6%</td>\n",
       "      <td>2.2%</td>\n",
       "    </tr>\n",
       "    <tr>\n",
       "      <th>10_adversarial_attacks_attack_robustness</th>\n",
       "      <td>0.0%</td>\n",
       "      <td>0.0%</td>\n",
       "      <td>0.1%</td>\n",
       "      <td>0.0%</td>\n",
       "      <td>0.2%</td>\n",
       "      <td>0.6%</td>\n",
       "      <td>1.3%</td>\n",
       "      <td>2.3%</td>\n",
       "      <td>2.7%</td>\n",
       "      <td>2.5%</td>\n",
       "      <td>2.5%</td>\n",
       "      <td>2.4%</td>\n",
       "      <td>2.4%</td>\n",
       "    </tr>\n",
       "    <tr>\n",
       "      <th>11_regret_bandit_online_bandits</th>\n",
       "      <td>3.5%</td>\n",
       "      <td>3.0%</td>\n",
       "      <td>2.7%</td>\n",
       "      <td>3.0%</td>\n",
       "      <td>3.1%</td>\n",
       "      <td>2.7%</td>\n",
       "      <td>2.6%</td>\n",
       "      <td>1.6%</td>\n",
       "      <td>1.8%</td>\n",
       "      <td>1.8%</td>\n",
       "      <td>1.8%</td>\n",
       "      <td>2.0%</td>\n",
       "      <td>-1.5%</td>\n",
       "    </tr>\n",
       "    <tr>\n",
       "      <th>12_causal_treatment_variables_graphical</th>\n",
       "      <td>3.9%</td>\n",
       "      <td>14.4%</td>\n",
       "      <td>13.0%</td>\n",
       "      <td>4.2%</td>\n",
       "      <td>3.0%</td>\n",
       "      <td>2.1%</td>\n",
       "      <td>2.1%</td>\n",
       "      <td>1.6%</td>\n",
       "      <td>1.1%</td>\n",
       "      <td>1.3%</td>\n",
       "      <td>1.4%</td>\n",
       "      <td>1.6%</td>\n",
       "      <td>-2.4%</td>\n",
       "    </tr>\n",
       "    <tr>\n",
       "      <th>13_generative_gans_gan_latent</th>\n",
       "      <td>0.2%</td>\n",
       "      <td>0.5%</td>\n",
       "      <td>0.1%</td>\n",
       "      <td>0.7%</td>\n",
       "      <td>0.8%</td>\n",
       "      <td>1.4%</td>\n",
       "      <td>2.5%</td>\n",
       "      <td>2.7%</td>\n",
       "      <td>2.4%</td>\n",
       "      <td>2.0%</td>\n",
       "      <td>1.6%</td>\n",
       "      <td>1.5%</td>\n",
       "      <td>1.3%</td>\n",
       "    </tr>\n",
       "    <tr>\n",
       "      <th>14_detection_anomaly_malware_anomalies</th>\n",
       "      <td>0.3%</td>\n",
       "      <td>0.7%</td>\n",
       "      <td>1.0%</td>\n",
       "      <td>1.1%</td>\n",
       "      <td>0.8%</td>\n",
       "      <td>1.8%</td>\n",
       "      <td>1.2%</td>\n",
       "      <td>1.8%</td>\n",
       "      <td>1.8%</td>\n",
       "      <td>1.7%</td>\n",
       "      <td>2.1%</td>\n",
       "      <td>1.8%</td>\n",
       "      <td>1.4%</td>\n",
       "    </tr>\n",
       "    <tr>\n",
       "      <th>15_recommendation_recommender_users_ranking</th>\n",
       "      <td>1.5%</td>\n",
       "      <td>2.1%</td>\n",
       "      <td>1.1%</td>\n",
       "      <td>1.7%</td>\n",
       "      <td>1.4%</td>\n",
       "      <td>2.2%</td>\n",
       "      <td>1.8%</td>\n",
       "      <td>1.8%</td>\n",
       "      <td>1.9%</td>\n",
       "      <td>1.6%</td>\n",
       "      <td>1.5%</td>\n",
       "      <td>1.5%</td>\n",
       "      <td>0.0%</td>\n",
       "    </tr>\n",
       "    <tr>\n",
       "      <th>16_explanations_interpretability_explainable_explainability</th>\n",
       "      <td>0.2%</td>\n",
       "      <td>0.1%</td>\n",
       "      <td>0.0%</td>\n",
       "      <td>0.1%</td>\n",
       "      <td>0.2%</td>\n",
       "      <td>0.6%</td>\n",
       "      <td>0.9%</td>\n",
       "      <td>1.4%</td>\n",
       "      <td>1.4%</td>\n",
       "      <td>1.6%</td>\n",
       "      <td>2.0%</td>\n",
       "      <td>1.9%</td>\n",
       "      <td>1.7%</td>\n",
       "    </tr>\n",
       "    <tr>\n",
       "      <th>17_graph_node_graphs_gnns</th>\n",
       "      <td>0.3%</td>\n",
       "      <td>0.3%</td>\n",
       "      <td>0.1%</td>\n",
       "      <td>0.3%</td>\n",
       "      <td>0.1%</td>\n",
       "      <td>0.4%</td>\n",
       "      <td>0.7%</td>\n",
       "      <td>1.1%</td>\n",
       "      <td>1.5%</td>\n",
       "      <td>1.6%</td>\n",
       "      <td>1.8%</td>\n",
       "      <td>2.0%</td>\n",
       "      <td>1.7%</td>\n",
       "    </tr>\n",
       "    <tr>\n",
       "      <th>18_channel_wireless_communication_radio</th>\n",
       "      <td>1.1%</td>\n",
       "      <td>0.6%</td>\n",
       "      <td>0.7%</td>\n",
       "      <td>0.5%</td>\n",
       "      <td>0.6%</td>\n",
       "      <td>0.9%</td>\n",
       "      <td>0.9%</td>\n",
       "      <td>1.2%</td>\n",
       "      <td>1.5%</td>\n",
       "      <td>1.6%</td>\n",
       "      <td>1.6%</td>\n",
       "      <td>1.6%</td>\n",
       "      <td>0.5%</td>\n",
       "    </tr>\n",
       "    <tr>\n",
       "      <th>19_molecular_protein_drug_molecules</th>\n",
       "      <td>0.4%</td>\n",
       "      <td>0.4%</td>\n",
       "      <td>0.6%</td>\n",
       "      <td>1.2%</td>\n",
       "      <td>1.3%</td>\n",
       "      <td>0.9%</td>\n",
       "      <td>1.5%</td>\n",
       "      <td>1.4%</td>\n",
       "      <td>1.3%</td>\n",
       "      <td>1.4%</td>\n",
       "      <td>1.5%</td>\n",
       "      <td>1.8%</td>\n",
       "      <td>1.4%</td>\n",
       "    </tr>\n",
       "    <tr>\n",
       "      <th>20_series_time_forecasting_stock</th>\n",
       "      <td>0.6%</td>\n",
       "      <td>0.7%</td>\n",
       "      <td>1.0%</td>\n",
       "      <td>1.0%</td>\n",
       "      <td>1.4%</td>\n",
       "      <td>0.9%</td>\n",
       "      <td>0.9%</td>\n",
       "      <td>1.3%</td>\n",
       "      <td>1.3%</td>\n",
       "      <td>1.3%</td>\n",
       "      <td>1.5%</td>\n",
       "      <td>1.5%</td>\n",
       "      <td>0.9%</td>\n",
       "    </tr>\n",
       "    <tr>\n",
       "      <th>21_equations_differential_physics_pdes</th>\n",
       "      <td>0.3%</td>\n",
       "      <td>0.0%</td>\n",
       "      <td>0.1%</td>\n",
       "      <td>0.1%</td>\n",
       "      <td>0.2%</td>\n",
       "      <td>0.1%</td>\n",
       "      <td>0.3%</td>\n",
       "      <td>0.5%</td>\n",
       "      <td>0.9%</td>\n",
       "      <td>1.3%</td>\n",
       "      <td>1.7%</td>\n",
       "      <td>2.2%</td>\n",
       "      <td>1.9%</td>\n",
       "    </tr>\n",
       "    <tr>\n",
       "      <th>22_gaussian_posterior_variational_gp</th>\n",
       "      <td>1.5%</td>\n",
       "      <td>2.5%</td>\n",
       "      <td>1.6%</td>\n",
       "      <td>2.5%</td>\n",
       "      <td>3.4%</td>\n",
       "      <td>2.2%</td>\n",
       "      <td>2.2%</td>\n",
       "      <td>1.7%</td>\n",
       "      <td>1.2%</td>\n",
       "      <td>1.0%</td>\n",
       "      <td>1.0%</td>\n",
       "      <td>0.9%</td>\n",
       "      <td>-0.6%</td>\n",
       "    </tr>\n",
       "    <tr>\n",
       "      <th>23_patients_patient_clinical_health</th>\n",
       "      <td>0.3%</td>\n",
       "      <td>0.2%</td>\n",
       "      <td>0.4%</td>\n",
       "      <td>0.8%</td>\n",
       "      <td>0.6%</td>\n",
       "      <td>1.1%</td>\n",
       "      <td>1.2%</td>\n",
       "      <td>1.1%</td>\n",
       "      <td>1.2%</td>\n",
       "      <td>1.3%</td>\n",
       "      <td>1.3%</td>\n",
       "      <td>1.0%</td>\n",
       "      <td>0.6%</td>\n",
       "    </tr>\n",
       "    <tr>\n",
       "      <th>24_classification_class_ensemble_trees</th>\n",
       "      <td>1.7%</td>\n",
       "      <td>1.8%</td>\n",
       "      <td>1.5%</td>\n",
       "      <td>1.7%</td>\n",
       "      <td>2.5%</td>\n",
       "      <td>1.5%</td>\n",
       "      <td>1.2%</td>\n",
       "      <td>1.2%</td>\n",
       "      <td>1.0%</td>\n",
       "      <td>1.1%</td>\n",
       "      <td>1.0%</td>\n",
       "      <td>0.8%</td>\n",
       "      <td>-0.8%</td>\n",
       "    </tr>\n",
       "    <tr>\n",
       "      <th>25_visual_image_video_text</th>\n",
       "      <td>0.3%</td>\n",
       "      <td>0.0%</td>\n",
       "      <td>0.1%</td>\n",
       "      <td>0.2%</td>\n",
       "      <td>0.7%</td>\n",
       "      <td>1.0%</td>\n",
       "      <td>1.3%</td>\n",
       "      <td>1.0%</td>\n",
       "      <td>1.0%</td>\n",
       "      <td>1.0%</td>\n",
       "      <td>0.9%</td>\n",
       "      <td>1.2%</td>\n",
       "      <td>0.9%</td>\n",
       "    </tr>\n",
       "    <tr>\n",
       "      <th>26_problems_search_solutions_solution</th>\n",
       "      <td>3.3%</td>\n",
       "      <td>2.1%</td>\n",
       "      <td>1.5%</td>\n",
       "      <td>1.7%</td>\n",
       "      <td>0.9%</td>\n",
       "      <td>1.2%</td>\n",
       "      <td>1.0%</td>\n",
       "      <td>0.7%</td>\n",
       "      <td>0.8%</td>\n",
       "      <td>0.9%</td>\n",
       "      <td>0.7%</td>\n",
       "      <td>0.8%</td>\n",
       "      <td>-2.5%</td>\n",
       "    </tr>\n",
       "    <tr>\n",
       "      <th>27_climate_satellite_weather_images</th>\n",
       "      <td>0.1%</td>\n",
       "      <td>0.5%</td>\n",
       "      <td>0.3%</td>\n",
       "      <td>0.3%</td>\n",
       "      <td>0.3%</td>\n",
       "      <td>0.2%</td>\n",
       "      <td>0.5%</td>\n",
       "      <td>0.5%</td>\n",
       "      <td>0.9%</td>\n",
       "      <td>1.0%</td>\n",
       "      <td>1.1%</td>\n",
       "      <td>1.0%</td>\n",
       "      <td>0.9%</td>\n",
       "    </tr>\n",
       "    <tr>\n",
       "      <th>28_driving_autonomous_vehicle_vehicles</th>\n",
       "      <td>0.0%</td>\n",
       "      <td>0.0%</td>\n",
       "      <td>0.0%</td>\n",
       "      <td>0.0%</td>\n",
       "      <td>0.1%</td>\n",
       "      <td>0.3%</td>\n",
       "      <td>0.6%</td>\n",
       "      <td>0.9%</td>\n",
       "      <td>1.0%</td>\n",
       "      <td>1.0%</td>\n",
       "      <td>1.0%</td>\n",
       "      <td>0.8%</td>\n",
       "      <td>0.8%</td>\n",
       "    </tr>\n",
       "    <tr>\n",
       "      <th>29_clustering_means_clusters_cluster</th>\n",
       "      <td>1.6%</td>\n",
       "      <td>2.0%</td>\n",
       "      <td>1.3%</td>\n",
       "      <td>2.1%</td>\n",
       "      <td>2.0%</td>\n",
       "      <td>1.9%</td>\n",
       "      <td>1.2%</td>\n",
       "      <td>0.9%</td>\n",
       "      <td>0.7%</td>\n",
       "      <td>0.6%</td>\n",
       "      <td>0.5%</td>\n",
       "      <td>0.5%</td>\n",
       "      <td>-1.1%</td>\n",
       "    </tr>\n",
       "    <tr>\n",
       "      <th>30_quantum_classical_circuits_circuit</th>\n",
       "      <td>0.6%</td>\n",
       "      <td>0.2%</td>\n",
       "      <td>0.1%</td>\n",
       "      <td>0.4%</td>\n",
       "      <td>0.4%</td>\n",
       "      <td>0.3%</td>\n",
       "      <td>0.5%</td>\n",
       "      <td>0.5%</td>\n",
       "      <td>0.6%</td>\n",
       "      <td>0.7%</td>\n",
       "      <td>0.9%</td>\n",
       "      <td>1.2%</td>\n",
       "      <td>0.6%</td>\n",
       "    </tr>\n",
       "    <tr>\n",
       "      <th>31_fairness_fair_bias_groups</th>\n",
       "      <td>0.0%</td>\n",
       "      <td>0.0%</td>\n",
       "      <td>0.0%</td>\n",
       "      <td>0.0%</td>\n",
       "      <td>0.1%</td>\n",
       "      <td>0.2%</td>\n",
       "      <td>0.4%</td>\n",
       "      <td>0.8%</td>\n",
       "      <td>0.7%</td>\n",
       "      <td>0.8%</td>\n",
       "      <td>0.8%</td>\n",
       "      <td>1.1%</td>\n",
       "      <td>1.1%</td>\n",
       "    </tr>\n",
       "    <tr>\n",
       "      <th>32_energy_power_load_electricity</th>\n",
       "      <td>0.4%</td>\n",
       "      <td>0.4%</td>\n",
       "      <td>0.4%</td>\n",
       "      <td>0.6%</td>\n",
       "      <td>0.4%</td>\n",
       "      <td>0.7%</td>\n",
       "      <td>0.7%</td>\n",
       "      <td>0.7%</td>\n",
       "      <td>0.8%</td>\n",
       "      <td>0.7%</td>\n",
       "      <td>0.7%</td>\n",
       "      <td>0.9%</td>\n",
       "      <td>0.4%</td>\n",
       "    </tr>\n",
       "    <tr>\n",
       "      <th>33_game_agent_agents_games</th>\n",
       "      <td>0.3%</td>\n",
       "      <td>0.4%</td>\n",
       "      <td>0.5%</td>\n",
       "      <td>0.7%</td>\n",
       "      <td>0.6%</td>\n",
       "      <td>0.6%</td>\n",
       "      <td>0.8%</td>\n",
       "      <td>0.8%</td>\n",
       "      <td>0.8%</td>\n",
       "      <td>0.7%</td>\n",
       "      <td>0.7%</td>\n",
       "      <td>0.6%</td>\n",
       "      <td>0.3%</td>\n",
       "    </tr>\n",
       "    <tr>\n",
       "      <th>34_physics_galaxy_gravitational_particle</th>\n",
       "      <td>0.5%</td>\n",
       "      <td>0.2%</td>\n",
       "      <td>0.1%</td>\n",
       "      <td>0.2%</td>\n",
       "      <td>0.6%</td>\n",
       "      <td>0.3%</td>\n",
       "      <td>0.5%</td>\n",
       "      <td>0.5%</td>\n",
       "      <td>0.6%</td>\n",
       "      <td>0.6%</td>\n",
       "      <td>0.8%</td>\n",
       "      <td>0.9%</td>\n",
       "      <td>0.3%</td>\n",
       "    </tr>\n",
       "    <tr>\n",
       "      <th>35_eeg_sleep_signals_brain</th>\n",
       "      <td>0.3%</td>\n",
       "      <td>0.2%</td>\n",
       "      <td>0.2%</td>\n",
       "      <td>0.5%</td>\n",
       "      <td>0.1%</td>\n",
       "      <td>0.6%</td>\n",
       "      <td>0.7%</td>\n",
       "      <td>0.7%</td>\n",
       "      <td>0.6%</td>\n",
       "      <td>0.7%</td>\n",
       "      <td>0.6%</td>\n",
       "      <td>0.7%</td>\n",
       "      <td>0.4%</td>\n",
       "    </tr>\n",
       "    <tr>\n",
       "      <th>36_program_programs_source_language</th>\n",
       "      <td>0.5%</td>\n",
       "      <td>0.3%</td>\n",
       "      <td>0.2%</td>\n",
       "      <td>0.3%</td>\n",
       "      <td>0.3%</td>\n",
       "      <td>0.4%</td>\n",
       "      <td>0.6%</td>\n",
       "      <td>0.7%</td>\n",
       "      <td>0.6%</td>\n",
       "      <td>0.5%</td>\n",
       "      <td>0.7%</td>\n",
       "      <td>0.8%</td>\n",
       "      <td>0.3%</td>\n",
       "    </tr>\n",
       "    <tr>\n",
       "      <th>37_traffic_temporal_spatial_travel</th>\n",
       "      <td>0.0%</td>\n",
       "      <td>0.6%</td>\n",
       "      <td>0.2%</td>\n",
       "      <td>0.1%</td>\n",
       "      <td>0.4%</td>\n",
       "      <td>0.4%</td>\n",
       "      <td>0.6%</td>\n",
       "      <td>0.6%</td>\n",
       "      <td>0.7%</td>\n",
       "      <td>0.6%</td>\n",
       "      <td>0.6%</td>\n",
       "      <td>0.6%</td>\n",
       "      <td>0.6%</td>\n",
       "    </tr>\n",
       "    <tr>\n",
       "      <th>38_domain_adaptation_target_source</th>\n",
       "      <td>0.1%</td>\n",
       "      <td>0.5%</td>\n",
       "      <td>0.2%</td>\n",
       "      <td>0.2%</td>\n",
       "      <td>0.3%</td>\n",
       "      <td>0.4%</td>\n",
       "      <td>0.5%</td>\n",
       "      <td>0.5%</td>\n",
       "      <td>0.5%</td>\n",
       "      <td>0.6%</td>\n",
       "      <td>0.7%</td>\n",
       "      <td>0.7%</td>\n",
       "      <td>0.6%</td>\n",
       "    </tr>\n",
       "    <tr>\n",
       "      <th>39_meta_shot_tasks_classes</th>\n",
       "      <td>0.0%</td>\n",
       "      <td>0.0%</td>\n",
       "      <td>0.0%</td>\n",
       "      <td>0.1%</td>\n",
       "      <td>0.3%</td>\n",
       "      <td>0.2%</td>\n",
       "      <td>0.3%</td>\n",
       "      <td>0.5%</td>\n",
       "      <td>0.5%</td>\n",
       "      <td>0.7%</td>\n",
       "      <td>0.7%</td>\n",
       "      <td>0.5%</td>\n",
       "      <td>0.5%</td>\n",
       "    </tr>\n",
       "    <tr>\n",
       "      <th>40_bo_bayesian_function_objective</th>\n",
       "      <td>0.7%</td>\n",
       "      <td>0.4%</td>\n",
       "      <td>0.3%</td>\n",
       "      <td>0.7%</td>\n",
       "      <td>0.6%</td>\n",
       "      <td>0.7%</td>\n",
       "      <td>0.4%</td>\n",
       "      <td>0.6%</td>\n",
       "      <td>0.5%</td>\n",
       "      <td>0.6%</td>\n",
       "      <td>0.5%</td>\n",
       "      <td>0.5%</td>\n",
       "      <td>-0.2%</td>\n",
       "    </tr>\n",
       "    <tr>\n",
       "      <th>41_community_communities_block_nodes</th>\n",
       "      <td>0.8%</td>\n",
       "      <td>1.0%</td>\n",
       "      <td>1.0%</td>\n",
       "      <td>1.0%</td>\n",
       "      <td>1.3%</td>\n",
       "      <td>1.1%</td>\n",
       "      <td>1.0%</td>\n",
       "      <td>0.7%</td>\n",
       "      <td>0.4%</td>\n",
       "      <td>0.4%</td>\n",
       "      <td>0.3%</td>\n",
       "      <td>0.3%</td>\n",
       "      <td>-0.5%</td>\n",
       "    </tr>\n",
       "    <tr>\n",
       "      <th>42_spiking_snns_neuromorphic_snn</th>\n",
       "      <td>0.0%</td>\n",
       "      <td>0.4%</td>\n",
       "      <td>0.2%</td>\n",
       "      <td>0.3%</td>\n",
       "      <td>0.3%</td>\n",
       "      <td>0.4%</td>\n",
       "      <td>0.4%</td>\n",
       "      <td>0.4%</td>\n",
       "      <td>0.4%</td>\n",
       "      <td>0.4%</td>\n",
       "      <td>0.5%</td>\n",
       "      <td>0.5%</td>\n",
       "      <td>0.5%</td>\n",
       "    </tr>\n",
       "    <tr>\n",
       "      <th>43_continual_forgetting_catastrophic_tasks</th>\n",
       "      <td>0.0%</td>\n",
       "      <td>0.0%</td>\n",
       "      <td>0.0%</td>\n",
       "      <td>0.1%</td>\n",
       "      <td>0.2%</td>\n",
       "      <td>0.1%</td>\n",
       "      <td>0.2%</td>\n",
       "      <td>0.3%</td>\n",
       "      <td>0.4%</td>\n",
       "      <td>0.4%</td>\n",
       "      <td>0.6%</td>\n",
       "      <td>0.6%</td>\n",
       "      <td>0.6%</td>\n",
       "    </tr>\n",
       "    <tr>\n",
       "      <th>44_cognitive_consciousness_turing_human</th>\n",
       "      <td>1.5%</td>\n",
       "      <td>0.9%</td>\n",
       "      <td>0.8%</td>\n",
       "      <td>0.8%</td>\n",
       "      <td>1.0%</td>\n",
       "      <td>0.5%</td>\n",
       "      <td>0.6%</td>\n",
       "      <td>0.4%</td>\n",
       "      <td>0.3%</td>\n",
       "      <td>0.2%</td>\n",
       "      <td>0.2%</td>\n",
       "      <td>0.2%</td>\n",
       "      <td>-1.3%</td>\n",
       "    </tr>\n",
       "    <tr>\n",
       "      <th>45_brain_fmri_functional_neuroimaging</th>\n",
       "      <td>0.1%</td>\n",
       "      <td>0.3%</td>\n",
       "      <td>0.2%</td>\n",
       "      <td>0.3%</td>\n",
       "      <td>0.4%</td>\n",
       "      <td>0.5%</td>\n",
       "      <td>0.4%</td>\n",
       "      <td>0.3%</td>\n",
       "      <td>0.3%</td>\n",
       "      <td>0.3%</td>\n",
       "      <td>0.3%</td>\n",
       "      <td>0.4%</td>\n",
       "      <td>0.3%</td>\n",
       "    </tr>\n",
       "    <tr>\n",
       "      <th>46_activity_gait_har_recognition</th>\n",
       "      <td>0.1%</td>\n",
       "      <td>0.1%</td>\n",
       "      <td>0.2%</td>\n",
       "      <td>0.2%</td>\n",
       "      <td>0.1%</td>\n",
       "      <td>0.3%</td>\n",
       "      <td>0.3%</td>\n",
       "      <td>0.4%</td>\n",
       "      <td>0.4%</td>\n",
       "      <td>0.4%</td>\n",
       "      <td>0.4%</td>\n",
       "      <td>0.3%</td>\n",
       "      <td>0.3%</td>\n",
       "    </tr>\n",
       "  </tbody>\n",
       "</table>\n",
       "</div>"
      ],
      "text/plain": [
       "                                                              2011   2012  \\\n",
       "Name                                                                        \n",
       "0_language_text_word_knowledge                                2.6%   3.8%   \n",
       "1_reinforcement_rl_reward_control                             2.5%   4.1%   \n",
       "2_privacy_federated_fl_private                                0.8%   0.8%   \n",
       "3_gradient_stochastic_convergence_descent                     1.1%   1.0%   \n",
       "4_logic_reasoning_semantics_ontology                         19.8%   7.5%   \n",
       "5_segmentation_images_image_imaging                           0.1%   0.4%   \n",
       "6_speech_audio_speaker_music                                  0.6%   0.6%   \n",
       "7_matrix_rank_tensor_sparse                                   6.5%   6.0%   \n",
       "8_pruning_quantization_hardware_nas                           0.1%   0.1%   \n",
       "9_3d_object_segmentation_point                                0.4%   0.6%   \n",
       "10_adversarial_attacks_attack_robustness                      0.0%   0.0%   \n",
       "11_regret_bandit_online_bandits                               3.5%   3.0%   \n",
       "12_causal_treatment_variables_graphical                       3.9%  14.4%   \n",
       "13_generative_gans_gan_latent                                 0.2%   0.5%   \n",
       "14_detection_anomaly_malware_anomalies                        0.3%   0.7%   \n",
       "15_recommendation_recommender_users_ranking                   1.5%   2.1%   \n",
       "16_explanations_interpretability_explainable_explainability   0.2%   0.1%   \n",
       "17_graph_node_graphs_gnns                                     0.3%   0.3%   \n",
       "18_channel_wireless_communication_radio                       1.1%   0.6%   \n",
       "19_molecular_protein_drug_molecules                           0.4%   0.4%   \n",
       "20_series_time_forecasting_stock                              0.6%   0.7%   \n",
       "21_equations_differential_physics_pdes                        0.3%   0.0%   \n",
       "22_gaussian_posterior_variational_gp                          1.5%   2.5%   \n",
       "23_patients_patient_clinical_health                           0.3%   0.2%   \n",
       "24_classification_class_ensemble_trees                        1.7%   1.8%   \n",
       "25_visual_image_video_text                                    0.3%   0.0%   \n",
       "26_problems_search_solutions_solution                         3.3%   2.1%   \n",
       "27_climate_satellite_weather_images                           0.1%   0.5%   \n",
       "28_driving_autonomous_vehicle_vehicles                        0.0%   0.0%   \n",
       "29_clustering_means_clusters_cluster                          1.6%   2.0%   \n",
       "30_quantum_classical_circuits_circuit                         0.6%   0.2%   \n",
       "31_fairness_fair_bias_groups                                  0.0%   0.0%   \n",
       "32_energy_power_load_electricity                              0.4%   0.4%   \n",
       "33_game_agent_agents_games                                    0.3%   0.4%   \n",
       "34_physics_galaxy_gravitational_particle                      0.5%   0.2%   \n",
       "35_eeg_sleep_signals_brain                                    0.3%   0.2%   \n",
       "36_program_programs_source_language                           0.5%   0.3%   \n",
       "37_traffic_temporal_spatial_travel                            0.0%   0.6%   \n",
       "38_domain_adaptation_target_source                            0.1%   0.5%   \n",
       "39_meta_shot_tasks_classes                                    0.0%   0.0%   \n",
       "40_bo_bayesian_function_objective                             0.7%   0.4%   \n",
       "41_community_communities_block_nodes                          0.8%   1.0%   \n",
       "42_spiking_snns_neuromorphic_snn                              0.0%   0.4%   \n",
       "43_continual_forgetting_catastrophic_tasks                    0.0%   0.0%   \n",
       "44_cognitive_consciousness_turing_human                       1.5%   0.9%   \n",
       "45_brain_fmri_functional_neuroimaging                         0.1%   0.3%   \n",
       "46_activity_gait_har_recognition                              0.1%   0.1%   \n",
       "\n",
       "                                                              2013   2014  \\\n",
       "Name                                                                        \n",
       "0_language_text_word_knowledge                                2.4%   4.2%   \n",
       "1_reinforcement_rl_reward_control                             2.4%   2.1%   \n",
       "2_privacy_federated_fl_private                                0.5%   1.4%   \n",
       "3_gradient_stochastic_convergence_descent                     1.4%   2.3%   \n",
       "4_logic_reasoning_semantics_ontology                         18.4%  13.1%   \n",
       "5_segmentation_images_image_imaging                           0.2%   0.3%   \n",
       "6_speech_audio_speaker_music                                  0.7%   1.5%   \n",
       "7_matrix_rank_tensor_sparse                                   5.9%   7.8%   \n",
       "8_pruning_quantization_hardware_nas                           0.1%   0.4%   \n",
       "9_3d_object_segmentation_point                                0.5%   0.7%   \n",
       "10_adversarial_attacks_attack_robustness                      0.1%   0.0%   \n",
       "11_regret_bandit_online_bandits                               2.7%   3.0%   \n",
       "12_causal_treatment_variables_graphical                      13.0%   4.2%   \n",
       "13_generative_gans_gan_latent                                 0.1%   0.7%   \n",
       "14_detection_anomaly_malware_anomalies                        1.0%   1.1%   \n",
       "15_recommendation_recommender_users_ranking                   1.1%   1.7%   \n",
       "16_explanations_interpretability_explainable_explainability   0.0%   0.1%   \n",
       "17_graph_node_graphs_gnns                                     0.1%   0.3%   \n",
       "18_channel_wireless_communication_radio                       0.7%   0.5%   \n",
       "19_molecular_protein_drug_molecules                           0.6%   1.2%   \n",
       "20_series_time_forecasting_stock                              1.0%   1.0%   \n",
       "21_equations_differential_physics_pdes                        0.1%   0.1%   \n",
       "22_gaussian_posterior_variational_gp                          1.6%   2.5%   \n",
       "23_patients_patient_clinical_health                           0.4%   0.8%   \n",
       "24_classification_class_ensemble_trees                        1.5%   1.7%   \n",
       "25_visual_image_video_text                                    0.1%   0.2%   \n",
       "26_problems_search_solutions_solution                         1.5%   1.7%   \n",
       "27_climate_satellite_weather_images                           0.3%   0.3%   \n",
       "28_driving_autonomous_vehicle_vehicles                        0.0%   0.0%   \n",
       "29_clustering_means_clusters_cluster                          1.3%   2.1%   \n",
       "30_quantum_classical_circuits_circuit                         0.1%   0.4%   \n",
       "31_fairness_fair_bias_groups                                  0.0%   0.0%   \n",
       "32_energy_power_load_electricity                              0.4%   0.6%   \n",
       "33_game_agent_agents_games                                    0.5%   0.7%   \n",
       "34_physics_galaxy_gravitational_particle                      0.1%   0.2%   \n",
       "35_eeg_sleep_signals_brain                                    0.2%   0.5%   \n",
       "36_program_programs_source_language                           0.2%   0.3%   \n",
       "37_traffic_temporal_spatial_travel                            0.2%   0.1%   \n",
       "38_domain_adaptation_target_source                            0.2%   0.2%   \n",
       "39_meta_shot_tasks_classes                                    0.0%   0.1%   \n",
       "40_bo_bayesian_function_objective                             0.3%   0.7%   \n",
       "41_community_communities_block_nodes                          1.0%   1.0%   \n",
       "42_spiking_snns_neuromorphic_snn                              0.2%   0.3%   \n",
       "43_continual_forgetting_catastrophic_tasks                    0.0%   0.1%   \n",
       "44_cognitive_consciousness_turing_human                       0.8%   0.8%   \n",
       "45_brain_fmri_functional_neuroimaging                         0.2%   0.3%   \n",
       "46_activity_gait_har_recognition                              0.2%   0.2%   \n",
       "\n",
       "                                                             2015  2016  2017  \\\n",
       "Name                                                                            \n",
       "0_language_text_word_knowledge                               6.5%  7.7%  7.7%   \n",
       "1_reinforcement_rl_reward_control                            2.1%  2.9%  4.3%   \n",
       "2_privacy_federated_fl_private                               2.2%  2.2%  1.9%   \n",
       "3_gradient_stochastic_convergence_descent                    3.6%  3.1%  4.3%   \n",
       "4_logic_reasoning_semantics_ontology                         6.9%  4.8%  3.5%   \n",
       "5_segmentation_images_image_imaging                          0.6%  0.6%  1.2%   \n",
       "6_speech_audio_speaker_music                                 1.8%  2.5%  2.7%   \n",
       "7_matrix_rank_tensor_sparse                                  8.0%  6.0%  4.0%   \n",
       "8_pruning_quantization_hardware_nas                          0.9%  1.6%  2.3%   \n",
       "9_3d_object_segmentation_point                               1.2%  1.6%  1.6%   \n",
       "10_adversarial_attacks_attack_robustness                     0.2%  0.6%  1.3%   \n",
       "11_regret_bandit_online_bandits                              3.1%  2.7%  2.6%   \n",
       "12_causal_treatment_variables_graphical                      3.0%  2.1%  2.1%   \n",
       "13_generative_gans_gan_latent                                0.8%  1.4%  2.5%   \n",
       "14_detection_anomaly_malware_anomalies                       0.8%  1.8%  1.2%   \n",
       "15_recommendation_recommender_users_ranking                  1.4%  2.2%  1.8%   \n",
       "16_explanations_interpretability_explainable_explainability  0.2%  0.6%  0.9%   \n",
       "17_graph_node_graphs_gnns                                    0.1%  0.4%  0.7%   \n",
       "18_channel_wireless_communication_radio                      0.6%  0.9%  0.9%   \n",
       "19_molecular_protein_drug_molecules                          1.3%  0.9%  1.5%   \n",
       "20_series_time_forecasting_stock                             1.4%  0.9%  0.9%   \n",
       "21_equations_differential_physics_pdes                       0.2%  0.1%  0.3%   \n",
       "22_gaussian_posterior_variational_gp                         3.4%  2.2%  2.2%   \n",
       "23_patients_patient_clinical_health                          0.6%  1.1%  1.2%   \n",
       "24_classification_class_ensemble_trees                       2.5%  1.5%  1.2%   \n",
       "25_visual_image_video_text                                   0.7%  1.0%  1.3%   \n",
       "26_problems_search_solutions_solution                        0.9%  1.2%  1.0%   \n",
       "27_climate_satellite_weather_images                          0.3%  0.2%  0.5%   \n",
       "28_driving_autonomous_vehicle_vehicles                       0.1%  0.3%  0.6%   \n",
       "29_clustering_means_clusters_cluster                         2.0%  1.9%  1.2%   \n",
       "30_quantum_classical_circuits_circuit                        0.4%  0.3%  0.5%   \n",
       "31_fairness_fair_bias_groups                                 0.1%  0.2%  0.4%   \n",
       "32_energy_power_load_electricity                             0.4%  0.7%  0.7%   \n",
       "33_game_agent_agents_games                                   0.6%  0.6%  0.8%   \n",
       "34_physics_galaxy_gravitational_particle                     0.6%  0.3%  0.5%   \n",
       "35_eeg_sleep_signals_brain                                   0.1%  0.6%  0.7%   \n",
       "36_program_programs_source_language                          0.3%  0.4%  0.6%   \n",
       "37_traffic_temporal_spatial_travel                           0.4%  0.4%  0.6%   \n",
       "38_domain_adaptation_target_source                           0.3%  0.4%  0.5%   \n",
       "39_meta_shot_tasks_classes                                   0.3%  0.2%  0.3%   \n",
       "40_bo_bayesian_function_objective                            0.6%  0.7%  0.4%   \n",
       "41_community_communities_block_nodes                         1.3%  1.1%  1.0%   \n",
       "42_spiking_snns_neuromorphic_snn                             0.3%  0.4%  0.4%   \n",
       "43_continual_forgetting_catastrophic_tasks                   0.2%  0.1%  0.2%   \n",
       "44_cognitive_consciousness_turing_human                      1.0%  0.5%  0.6%   \n",
       "45_brain_fmri_functional_neuroimaging                        0.4%  0.5%  0.4%   \n",
       "46_activity_gait_har_recognition                             0.1%  0.3%  0.3%   \n",
       "\n",
       "                                                             2018  2019  2020  \\\n",
       "Name                                                                            \n",
       "0_language_text_word_knowledge                               7.6%  7.9%  7.7%   \n",
       "1_reinforcement_rl_reward_control                            5.0%  5.0%  4.6%   \n",
       "2_privacy_federated_fl_private                               2.1%  2.6%  3.4%   \n",
       "3_gradient_stochastic_convergence_descent                    4.2%  3.8%  3.2%   \n",
       "4_logic_reasoning_semantics_ontology                         2.4%  1.5%  1.6%   \n",
       "5_segmentation_images_image_imaging                          2.2%  3.0%  3.8%   \n",
       "6_speech_audio_speaker_music                                 2.8%  3.2%  2.9%   \n",
       "7_matrix_rank_tensor_sparse                                  3.0%  1.9%  1.5%   \n",
       "8_pruning_quantization_hardware_nas                          2.5%  2.8%  2.7%   \n",
       "9_3d_object_segmentation_point                               1.9%  2.4%  2.6%   \n",
       "10_adversarial_attacks_attack_robustness                     2.3%  2.7%  2.5%   \n",
       "11_regret_bandit_online_bandits                              1.6%  1.8%  1.8%   \n",
       "12_causal_treatment_variables_graphical                      1.6%  1.1%  1.3%   \n",
       "13_generative_gans_gan_latent                                2.7%  2.4%  2.0%   \n",
       "14_detection_anomaly_malware_anomalies                       1.8%  1.8%  1.7%   \n",
       "15_recommendation_recommender_users_ranking                  1.8%  1.9%  1.6%   \n",
       "16_explanations_interpretability_explainable_explainability  1.4%  1.4%  1.6%   \n",
       "17_graph_node_graphs_gnns                                    1.1%  1.5%  1.6%   \n",
       "18_channel_wireless_communication_radio                      1.2%  1.5%  1.6%   \n",
       "19_molecular_protein_drug_molecules                          1.4%  1.3%  1.4%   \n",
       "20_series_time_forecasting_stock                             1.3%  1.3%  1.3%   \n",
       "21_equations_differential_physics_pdes                       0.5%  0.9%  1.3%   \n",
       "22_gaussian_posterior_variational_gp                         1.7%  1.2%  1.0%   \n",
       "23_patients_patient_clinical_health                          1.1%  1.2%  1.3%   \n",
       "24_classification_class_ensemble_trees                       1.2%  1.0%  1.1%   \n",
       "25_visual_image_video_text                                   1.0%  1.0%  1.0%   \n",
       "26_problems_search_solutions_solution                        0.7%  0.8%  0.9%   \n",
       "27_climate_satellite_weather_images                          0.5%  0.9%  1.0%   \n",
       "28_driving_autonomous_vehicle_vehicles                       0.9%  1.0%  1.0%   \n",
       "29_clustering_means_clusters_cluster                         0.9%  0.7%  0.6%   \n",
       "30_quantum_classical_circuits_circuit                        0.5%  0.6%  0.7%   \n",
       "31_fairness_fair_bias_groups                                 0.8%  0.7%  0.8%   \n",
       "32_energy_power_load_electricity                             0.7%  0.8%  0.7%   \n",
       "33_game_agent_agents_games                                   0.8%  0.8%  0.7%   \n",
       "34_physics_galaxy_gravitational_particle                     0.5%  0.6%  0.6%   \n",
       "35_eeg_sleep_signals_brain                                   0.7%  0.6%  0.7%   \n",
       "36_program_programs_source_language                          0.7%  0.6%  0.5%   \n",
       "37_traffic_temporal_spatial_travel                           0.6%  0.7%  0.6%   \n",
       "38_domain_adaptation_target_source                           0.5%  0.5%  0.6%   \n",
       "39_meta_shot_tasks_classes                                   0.5%  0.5%  0.7%   \n",
       "40_bo_bayesian_function_objective                            0.6%  0.5%  0.6%   \n",
       "41_community_communities_block_nodes                         0.7%  0.4%  0.4%   \n",
       "42_spiking_snns_neuromorphic_snn                             0.4%  0.4%  0.4%   \n",
       "43_continual_forgetting_catastrophic_tasks                   0.3%  0.4%  0.4%   \n",
       "44_cognitive_consciousness_turing_human                      0.4%  0.3%  0.2%   \n",
       "45_brain_fmri_functional_neuroimaging                        0.3%  0.3%  0.3%   \n",
       "46_activity_gait_har_recognition                             0.4%  0.4%  0.4%   \n",
       "\n",
       "                                                             2021  2022  \\\n",
       "Name                                                                      \n",
       "0_language_text_word_knowledge                               7.4%  6.2%   \n",
       "1_reinforcement_rl_reward_control                            4.6%  4.7%   \n",
       "2_privacy_federated_fl_private                               4.0%  4.8%   \n",
       "3_gradient_stochastic_convergence_descent                    3.1%  3.1%   \n",
       "4_logic_reasoning_semantics_ontology                         1.2%  1.0%   \n",
       "5_segmentation_images_image_imaging                          3.2%  3.4%   \n",
       "6_speech_audio_speaker_music                                 2.6%  2.6%   \n",
       "7_matrix_rank_tensor_sparse                                  1.4%  1.3%   \n",
       "8_pruning_quantization_hardware_nas                          2.7%  2.2%   \n",
       "9_3d_object_segmentation_point                               2.5%  2.6%   \n",
       "10_adversarial_attacks_attack_robustness                     2.5%  2.4%   \n",
       "11_regret_bandit_online_bandits                              1.8%  2.0%   \n",
       "12_causal_treatment_variables_graphical                      1.4%  1.6%   \n",
       "13_generative_gans_gan_latent                                1.6%  1.5%   \n",
       "14_detection_anomaly_malware_anomalies                       2.1%  1.8%   \n",
       "15_recommendation_recommender_users_ranking                  1.5%  1.5%   \n",
       "16_explanations_interpretability_explainable_explainability  2.0%  1.9%   \n",
       "17_graph_node_graphs_gnns                                    1.8%  2.0%   \n",
       "18_channel_wireless_communication_radio                      1.6%  1.6%   \n",
       "19_molecular_protein_drug_molecules                          1.5%  1.8%   \n",
       "20_series_time_forecasting_stock                             1.5%  1.5%   \n",
       "21_equations_differential_physics_pdes                       1.7%  2.2%   \n",
       "22_gaussian_posterior_variational_gp                         1.0%  0.9%   \n",
       "23_patients_patient_clinical_health                          1.3%  1.0%   \n",
       "24_classification_class_ensemble_trees                       1.0%  0.8%   \n",
       "25_visual_image_video_text                                   0.9%  1.2%   \n",
       "26_problems_search_solutions_solution                        0.7%  0.8%   \n",
       "27_climate_satellite_weather_images                          1.1%  1.0%   \n",
       "28_driving_autonomous_vehicle_vehicles                       1.0%  0.8%   \n",
       "29_clustering_means_clusters_cluster                         0.5%  0.5%   \n",
       "30_quantum_classical_circuits_circuit                        0.9%  1.2%   \n",
       "31_fairness_fair_bias_groups                                 0.8%  1.1%   \n",
       "32_energy_power_load_electricity                             0.7%  0.9%   \n",
       "33_game_agent_agents_games                                   0.7%  0.6%   \n",
       "34_physics_galaxy_gravitational_particle                     0.8%  0.9%   \n",
       "35_eeg_sleep_signals_brain                                   0.6%  0.7%   \n",
       "36_program_programs_source_language                          0.7%  0.8%   \n",
       "37_traffic_temporal_spatial_travel                           0.6%  0.6%   \n",
       "38_domain_adaptation_target_source                           0.7%  0.7%   \n",
       "39_meta_shot_tasks_classes                                   0.7%  0.5%   \n",
       "40_bo_bayesian_function_objective                            0.5%  0.5%   \n",
       "41_community_communities_block_nodes                         0.3%  0.3%   \n",
       "42_spiking_snns_neuromorphic_snn                             0.5%  0.5%   \n",
       "43_continual_forgetting_catastrophic_tasks                   0.6%  0.6%   \n",
       "44_cognitive_consciousness_turing_human                      0.2%  0.2%   \n",
       "45_brain_fmri_functional_neuroimaging                        0.3%  0.4%   \n",
       "46_activity_gait_har_recognition                             0.4%  0.3%   \n",
       "\n",
       "                                                             Change  \n",
       "Name                                                                 \n",
       "0_language_text_word_knowledge                                 3.6%  \n",
       "1_reinforcement_rl_reward_control                              2.2%  \n",
       "2_privacy_federated_fl_private                                 4.0%  \n",
       "3_gradient_stochastic_convergence_descent                      2.0%  \n",
       "4_logic_reasoning_semantics_ontology                         -18.8%  \n",
       "5_segmentation_images_image_imaging                            3.3%  \n",
       "6_speech_audio_speaker_music                                   2.0%  \n",
       "7_matrix_rank_tensor_sparse                                   -5.2%  \n",
       "8_pruning_quantization_hardware_nas                            2.1%  \n",
       "9_3d_object_segmentation_point                                 2.2%  \n",
       "10_adversarial_attacks_attack_robustness                       2.4%  \n",
       "11_regret_bandit_online_bandits                               -1.5%  \n",
       "12_causal_treatment_variables_graphical                       -2.4%  \n",
       "13_generative_gans_gan_latent                                  1.3%  \n",
       "14_detection_anomaly_malware_anomalies                         1.4%  \n",
       "15_recommendation_recommender_users_ranking                    0.0%  \n",
       "16_explanations_interpretability_explainable_explainability    1.7%  \n",
       "17_graph_node_graphs_gnns                                      1.7%  \n",
       "18_channel_wireless_communication_radio                        0.5%  \n",
       "19_molecular_protein_drug_molecules                            1.4%  \n",
       "20_series_time_forecasting_stock                               0.9%  \n",
       "21_equations_differential_physics_pdes                         1.9%  \n",
       "22_gaussian_posterior_variational_gp                          -0.6%  \n",
       "23_patients_patient_clinical_health                            0.6%  \n",
       "24_classification_class_ensemble_trees                        -0.8%  \n",
       "25_visual_image_video_text                                     0.9%  \n",
       "26_problems_search_solutions_solution                         -2.5%  \n",
       "27_climate_satellite_weather_images                            0.9%  \n",
       "28_driving_autonomous_vehicle_vehicles                         0.8%  \n",
       "29_clustering_means_clusters_cluster                          -1.1%  \n",
       "30_quantum_classical_circuits_circuit                          0.6%  \n",
       "31_fairness_fair_bias_groups                                   1.1%  \n",
       "32_energy_power_load_electricity                               0.4%  \n",
       "33_game_agent_agents_games                                     0.3%  \n",
       "34_physics_galaxy_gravitational_particle                       0.3%  \n",
       "35_eeg_sleep_signals_brain                                     0.4%  \n",
       "36_program_programs_source_language                            0.3%  \n",
       "37_traffic_temporal_spatial_travel                             0.6%  \n",
       "38_domain_adaptation_target_source                             0.6%  \n",
       "39_meta_shot_tasks_classes                                     0.5%  \n",
       "40_bo_bayesian_function_objective                             -0.2%  \n",
       "41_community_communities_block_nodes                          -0.5%  \n",
       "42_spiking_snns_neuromorphic_snn                               0.5%  \n",
       "43_continual_forgetting_catastrophic_tasks                     0.6%  \n",
       "44_cognitive_consciousness_turing_human                       -1.3%  \n",
       "45_brain_fmri_functional_neuroimaging                          0.3%  \n",
       "46_activity_gait_har_recognition                               0.3%  "
      ]
     },
     "execution_count": 22,
     "metadata": {},
     "output_type": "execute_result"
    }
   ],
   "source": [
    "# Show table of topics\n",
    "pivot"
   ]
  }
 ],
 "metadata": {
  "kernelspec": {
   "display_name": "Python 3 (ipykernel)",
   "language": "python",
   "name": "python3"
  },
  "language_info": {
   "codemirror_mode": {
    "name": "ipython",
    "version": 3
   },
   "file_extension": ".py",
   "mimetype": "text/x-python",
   "name": "python",
   "nbconvert_exporter": "python",
   "pygments_lexer": "ipython3",
   "version": "3.9.5"
  }
 },
 "nbformat": 4,
 "nbformat_minor": 5
}
