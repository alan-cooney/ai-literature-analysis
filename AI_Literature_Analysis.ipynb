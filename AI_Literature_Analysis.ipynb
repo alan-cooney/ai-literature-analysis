{
 "cells": [
  {
   "cell_type": "markdown",
   "id": "a5b828f6-e80c-4f1d-bd56-e3121e8642e4",
   "metadata": {},
   "source": [
    "# AI Literature Analysis\n",
    "\n",
    "Analysis of AI research topic trends over time, with [BERTopic](https://maartengr.github.io/BERTopic/index.html)."
   ]
  },
  {
   "cell_type": "code",
   "execution_count": 9,
   "id": "6bec11d8-2bc4-4311-a4ed-5082d3b0fcde",
   "metadata": {},
   "outputs": [],
   "source": [
    "from os import path\n",
    "\n",
    "import bertopic\n",
    "import kaggle\n",
    "import pandas as pd\n",
    "from sklearn.feature_extraction import text as sklearn_text\n",
    "from IPython import display\n",
    "import ipywidgets as widgets"
   ]
  },
  {
   "cell_type": "markdown",
   "id": "661bec71-5bc5-4734-89ba-810716233f07",
   "metadata": {},
   "source": [
    "## Arxiv Dataset\n",
    "\n",
    "The [Arxiv dataset](https://www.kaggle.com/datasets/Cornell-University/arxiv) was chosen as:\n",
    "\n",
    " - Arxiv is widely used within the AI research community, to publish preprints and postprints of papers.\n",
    " - The dataset is updated on a weekly basis, which is useful given that the field is both young and evolving rapidly.\n",
    " - A team of moderators [re-categorize papers](https://arxiv.org/help/moderation), resulting in robust categories that can be used to pick out just AI research.\n",
    " \n",
    " To begin we'll download the data and clean it a little:"
   ]
  },
  {
   "cell_type": "code",
   "execution_count": 2,
   "id": "d70b6085-da15-4801-91f9-9c0870337652",
   "metadata": {},
   "outputs": [
    {
     "name": "stdout",
     "output_type": "stream",
     "text": [
      "Downloading arxiv.zip to /tmp/arxiv\n"
     ]
    },
    {
     "name": "stderr",
     "output_type": "stream",
     "text": [
      "100%|████████████████████████████████████████| 1.07G/1.07G [00:16<00:00, 70.8MB/s]\n"
     ]
    },
    {
     "name": "stdout",
     "output_type": "stream",
     "text": [
      "\n"
     ]
    },
    {
     "data": {
      "text/plain": [
       "'Dataset contains 2,117,092 papers, from 2007-2022.'"
      ]
     },
     "execution_count": 2,
     "metadata": {},
     "output_type": "execute_result"
    }
   ],
   "source": [
    "# Download dataset\n",
    "data_dir = \"/tmp/arxiv\"\n",
    "kaggle.api.dataset_download_files(\n",
    "    dataset='Cornell-University/arxiv',\n",
    "    path=data_dir,\n",
    "    quiet=False,\n",
    "    unzip=True,\n",
    ")\n",
    "\n",
    "# Set as a Pandas Dataframe\n",
    "data_path = path.join(data_dir, \"arxiv-metadata-oai-snapshot.json\")\n",
    "metadata = pd.read_json(data_path, orient=\"columns\", lines=True)\n",
    "\n",
    "# Clean data\n",
    "metadata[\"id\"] = metadata[\"id\"].str.split(\"/\").str[-1] # Remove ID prefix\n",
    "metadata['categories'] = metadata['categories'].str.split(' ') # Convert string separated categories to lists\n",
    "metadata[\"update_date\"] = pd.to_datetime(metadata[\"update_date\"], format=\"%Y-%m-%d\") # Use date type\n",
    "metadata.set_index('id', inplace=True) # Set ID as index\n",
    "\n",
    "# Output key facts\n",
    "number_papers = len(metadata)\n",
    "oldest_paper = metadata[\"update_date\"].dt.year.min()\n",
    "newest_paper = metadata[\"update_date\"].dt.year.max()\n",
    "\"Dataset contains {:,} papers, from {}-{}.\".format(number_papers, oldest_paper, newest_paper)"
   ]
  },
  {
   "cell_type": "markdown",
   "id": "56cd5a1d-d7e7-4f21-9fe9-2156259aac5f",
   "metadata": {},
   "source": [
    "Next we'll select just the relevant categories from the broader [Arxiv taxonomy](https://arxiv.org/category_taxonomy)."
   ]
  },
  {
   "cell_type": "code",
   "execution_count": 3,
   "id": "9662d1bc-9036-463b-8842-f0aed7aa6520",
   "metadata": {},
   "outputs": [
    {
     "data": {
      "text/plain": [
       "<AxesSubplot:xlabel='update_date'>"
      ]
     },
     "execution_count": 3,
     "metadata": {},
     "output_type": "execute_result"
    },
    {
     "data": {
      "image/png": "[encoded data removed]",
      "text/plain": [
       "<Figure size 640x480 with 1 Axes>"
      ]
     },
     "metadata": {},
     "output_type": "display_data"
    }
   ],
   "source": [
    "# List of AI categories\n",
    "relevant_categories = [\n",
    "    \"cs.AI\",  # Computer Science: Artificial Intelligence\n",
    "    \"cs.LG\",  # Computer Science: Machine Learning\n",
    "    \"stat.ML\",  # Statistics: Machine Learning\n",
    "]\n",
    "\n",
    "# Apply filter\n",
    "def check_if_ai_paper(paper_categories: list[str]) -> bool:\n",
    "    \"\"\"Determine if the paper is in one of the AI categories\"\"\"\n",
    "    return any(i in paper_categories for i in relevant_categories)\n",
    "\n",
    "is_ai_paper = metadata[\"categories\"].apply(check_if_ai_paper)\n",
    "ai_papers = metadata[is_ai_paper]\n",
    "\n",
    "# Show number of papers over time\n",
    "ai_papers[\"update_date\"].groupby(ai_papers[\"update_date\"].dt.year).count().plot(kind=\"bar\")"
   ]
  },
  {
   "cell_type": "markdown",
   "id": "22d48670-48b1-44f5-bb55-cf4da341390b",
   "metadata": {},
   "source": [
    "## BERTopic Analysis\n",
    "\n",
    "> BERTopic is a topic modeling technique that leverages transformers and c-TF-IDF to create dense clusters allowing for easily interpretable topics whilst keeping important words in the topic descriptions.\n",
    "\n",
    "[BERTopic](https://github.com/MaartenGr/BERTopic) is generally considered [state of the art](https://www.researchgate.net/publication/360410995_A_Topic_Modeling_Comparison_Between_LDA_NMF_Top2Vec_and_BERTopic_to_Demystify_Twitter_Posts) in topic modelling.\n",
    "\n",
    "To begin, we'll add to the default stop words. This will help as there are various generic terms that are widely used amongst academic writing, which we don't want to use within the categories."
   ]
  },
  {
   "cell_type": "code",
   "execution_count": 97,
   "id": "6f206f9e-1bc0-4788-abe6-55a2f8091c8f",
   "metadata": {},
   "outputs": [
    {
     "data": {
      "text/plain": [
       "361"
      ]
     },
     "execution_count": 97,
     "metadata": {},
     "output_type": "execute_result"
    }
   ],
   "source": [
    "# Create the stop words list\n",
    "stop_words = [\n",
    "    *sklearn_text.ENGLISH_STOP_WORDS,\n",
    "    \"accuracy\",\n",
    "    \"ai\",\n",
    "    \"algorithm\",\n",
    "    \"approach\",\n",
    "    \"artificial\",\n",
    "    \"based\",\n",
    "    \"code\",\n",
    "    \"data\",\n",
    "    \"deep\",\n",
    "    \"explain\",\n",
    "    \"explains\",\n",
    "    \"explanation\",\n",
    "    \"inference\",\n",
    "    \"intelligence\",\n",
    "    \"item\",\n",
    "    \"items\",\n",
    "    \"learning\",\n",
    "    \"machine\",\n",
    "    \"method\",\n",
    "    \"model\",\n",
    "    \"model\",\n",
    "    \"models\",\n",
    "    \"models\",\n",
    "    \"network\",\n",
    "    \"networks\",\n",
    "    \"neural\",\n",
    "    \"optimization\",\n",
    "    \"paper\",\n",
    "    \"performance\",\n",
    "    \"policies\",\n",
    "    \"policy\",\n",
    "    \"probability\",\n",
    "    \"problem\",\n",
    "    \"propose\",\n",
    "    \"proposed\",\n",
    "    \"research\",\n",
    "    \"results\",\n",
    "    \"set\",\n",
    "    \"software\",\n",
    "    \"theory\",\n",
    "    \"training\",\n",
    "    \"user\",\n",
    "    \"using\",\n",
    " ]\n",
    "len(stop_words)"
   ]
  },
  {
   "cell_type": "markdown",
   "id": "83401880-168e-4492-8ccf-59755342f73c",
   "metadata": {},
   "source": [
    "Now we can create the BERTopic model. \n",
    "\n",
    "We'll use the [all-mpnet-base-v2]((https://huggingface.co/sentence-transformers/all-mpnet-base-v2) sentence transform which maps paragraphs to a 768 dimensional dense vector space. This will give more accuracy than the default, at the expense of longer training time. It should take less than 30 minutes to train with a modern CUDA GPU, or 1-4 hours with CPU."
   ]
  },
  {
   "cell_type": "code",
   "execution_count": 98,
   "id": "45fb41a1-d6e2-44b6-9ca6-5357bdd56cb5",
   "metadata": {},
   "outputs": [],
   "source": [
    "# Setup the topic model\n",
    "topic_model = bertopic.BERTopic(\n",
    "    verbose=True, \n",
    "    min_topic_size=500, # Increased given the relatively large dataset size\n",
    "    embedding_model=\"all-mpnet-base-v2\",\n",
    "    vectorizer_model=sklearn_text.CountVectorizer(stop_words=stop_words) # Add our stop words\n",
    ")\n",
    "\n",
    "# Run\n",
    "abstracts = ai_papers[\"abstract\"].tolist() # BERTopic requires a list of strings\n",
    "topics, _ = topic_model.fit_transform(abstracts)\n",
    "display.clear_output()"
   ]
  },
  {
   "cell_type": "markdown",
   "id": "2bb1f4c0-16d9-4265-94c2-047a2e8d02ef",
   "metadata": {},
   "source": [
    "We can see below that the categories are broadly as expected:"
   ]
  },
  {
   "cell_type": "code",
   "execution_count": 99,
   "id": "579d2127-a040-4865-ab3e-777bb439359b",
   "metadata": {},
   "outputs": [
    {
     "data": {
      "application/vnd.plotly.v1+json": {
       "config": {
        "plotlyServerURL": "https://plot.ly"
       },
       "data": [
        {
         "marker": {
          "color": "#D55E00"
         },
         "orientation": "h",
         "type": "bar",
         "x": [
          0.013493998573517749,
          0.014156268648108905,
          0.0146000473921928,
          0.016604933938954913,
          0.02441011468655224
         ],
         "xaxis": "x",
         "y": [
          "task  ",
          "knowledge  ",
          "word  ",
          "text  ",
          "language  "
         ],
         "yaxis": "y"
        },
        {
         "marker": {
          "color": "#0072B2"
         },
         "orientation": "h",
         "type": "bar",
         "x": [
          0.017220101008276194,
          0.017369603888364143,
          0.019476884332344263,
          0.030617918319019173,
          0.03200167526099101
         ],
         "xaxis": "x2",
         "y": [
          "agent  ",
          "control  ",
          "reward  ",
          "rl  ",
          "reinforcement  "
         ],
         "yaxis": "y2"
        },
        {
         "marker": {
          "color": "#CC79A7"
         },
         "orientation": "h",
         "type": "bar",
         "x": [
          0.021780484989332615,
          0.02350748727088941,
          0.025121787037924014,
          0.025123017313622518,
          0.03323560216624136
         ],
         "xaxis": "x3",
         "y": [
          "convex  ",
          "descent  ",
          "stochastic  ",
          "convergence  ",
          "gradient  "
         ],
         "yaxis": "y3"
        },
        {
         "marker": {
          "color": "#E69F00"
         },
         "orientation": "h",
         "type": "bar",
         "x": [
          0.016629401538065088,
          0.01872782063685215,
          0.019424976820020083,
          0.020539676994760794,
          0.0370385939977293
         ],
         "xaxis": "x4",
         "y": [
          "knowledge  ",
          "ontology  ",
          "semantics  ",
          "reasoning  ",
          "logic  "
         ],
         "yaxis": "y4"
        },
        {
         "marker": {
          "color": "#56B4E9"
         },
         "orientation": "h",
         "type": "bar",
         "x": [
          0.02068970351593709,
          0.022418072983588073,
          0.025577076864902824,
          0.03001038831593295,
          0.03179948490404506
         ],
         "xaxis": "x5",
         "y": [
          "medical  ",
          "imaging  ",
          "image  ",
          "images  ",
          "segmentation  "
         ],
         "yaxis": "y5"
        },
        {
         "marker": {
          "color": "#009E73"
         },
         "orientation": "h",
         "type": "bar",
         "x": [
          0.0172732679865528,
          0.025137982502245065,
          0.026508220132547902,
          0.02738213989190118,
          0.031500499151911256
         ],
         "xaxis": "x6",
         "y": [
          "regression  ",
          "tensor  ",
          "sparse  ",
          "rank  ",
          "matrix  "
         ],
         "yaxis": "y6"
        },
        {
         "marker": {
          "color": "#F0E442"
         },
         "orientation": "h",
         "type": "bar",
         "x": [
          0.019467553372203093,
          0.028243379847841817,
          0.03424505310470897,
          0.03978685866444304,
          0.06077668463762494
         ],
         "xaxis": "x7",
         "y": [
          "acoustic  ",
          "music  ",
          "speaker  ",
          "audio  ",
          "speech  "
         ],
         "yaxis": "y7"
        },
        {
         "marker": {
          "color": "#D55E00"
         },
         "orientation": "h",
         "type": "bar",
         "x": [
          0.018474916098127164,
          0.01878796708965421,
          0.021498501548647193,
          0.022971085722563466,
          0.02795628948811079
         ],
         "xaxis": "x8",
         "y": [
          "search  ",
          "nas  ",
          "hardware  ",
          "quantization  ",
          "pruning  "
         ],
         "yaxis": "y8"
        },
        {
         "marker": {
          "color": "#0072B2"
         },
         "orientation": "h",
         "type": "bar",
         "x": [
          0.018577211171277256,
          0.018976967066628235,
          0.02692996884399058,
          0.02697606465764941,
          0.0629860419538455
         ],
         "xaxis": "x9",
         "y": [
          "bayesian  ",
          "graphical  ",
          "variables  ",
          "treatment  ",
          "causal  "
         ],
         "yaxis": "y9"
        },
        {
         "marker": {
          "color": "#CC79A7"
         },
         "orientation": "h",
         "type": "bar",
         "x": [
          0.029259894208969826,
          0.0388784203534438,
          0.041057728225152086,
          0.05281898956434326,
          0.08703548750599788
         ],
         "xaxis": "x10",
         "y": [
          "examples  ",
          "robustness  ",
          "attack  ",
          "attacks  ",
          "adversarial  "
         ],
         "yaxis": "y10"
        },
        {
         "marker": {
          "color": "#E69F00"
         },
         "orientation": "h",
         "type": "bar",
         "x": [
          0.02355070424770598,
          0.025532507821271026,
          0.03055566937011022,
          0.044373635028269034,
          0.06277179916491182
         ],
         "xaxis": "x11",
         "y": [
          "arm  ",
          "bandits  ",
          "online  ",
          "bandit  ",
          "regret  "
         ],
         "yaxis": "y11"
        },
        {
         "marker": {
          "color": "#56B4E9"
         },
         "orientation": "h",
         "type": "bar",
         "x": [
          0.014796154356323109,
          0.015039976161646911,
          0.017197076463996198,
          0.01826848008359639,
          0.03812223557240316
         ],
         "xaxis": "x12",
         "y": [
          "decision  ",
          "explainable  ",
          "human  ",
          "interpretability  ",
          "explanations  "
         ],
         "yaxis": "y12"
        },
        {
         "marker": {
          "color": "#009E73"
         },
         "orientation": "h",
         "type": "bar",
         "x": [
          0.022655479400489564,
          0.02853670933449528,
          0.03124926722244318,
          0.03442016141323,
          0.0419411418184763
         ],
         "xaxis": "x13",
         "y": [
          "image  ",
          "latent  ",
          "gan  ",
          "gans  ",
          "generative  "
         ],
         "yaxis": "y13"
        },
        {
         "marker": {
          "color": "#F0E442"
         },
         "orientation": "h",
         "type": "bar",
         "x": [
          0.0191240195677805,
          0.021849124331804595,
          0.030767241231984575,
          0.04785559515234229,
          0.05070802621695445
         ],
         "xaxis": "x14",
         "y": [
          "attacks  ",
          "anomalies  ",
          "malware  ",
          "anomaly  ",
          "detection  "
         ],
         "yaxis": "y14"
        },
        {
         "marker": {
          "color": "#D55E00"
         },
         "orientation": "h",
         "type": "bar",
         "x": [
          0.01805539663063505,
          0.02397373457311794,
          0.03153382377464884,
          0.0323504173215394,
          0.05249674667775868
         ],
         "xaxis": "x15",
         "y": [
          "recommendations  ",
          "ranking  ",
          "users  ",
          "recommender  ",
          "recommendation  "
         ],
         "yaxis": "y15"
        },
        {
         "marker": {
          "color": "#0072B2"
         },
         "orientation": "h",
         "type": "bar",
         "x": [
          0.01867481081528012,
          0.024001897481460484,
          0.02578068328551813,
          0.03342184173783129,
          0.042319776525984475
         ],
         "xaxis": "x16",
         "y": [
          "depth  ",
          "segmentation  ",
          "point  ",
          "object  ",
          "3d  "
         ],
         "yaxis": "y16"
        }
       ],
       "layout": {
        "annotations": [
         {
          "font": {
           "size": 16
          },
          "showarrow": false,
          "text": "Topic 0",
          "x": 0.0875,
          "xanchor": "center",
          "xref": "paper",
          "y": 1,
          "yanchor": "bottom",
          "yref": "paper"
         },
         {
          "font": {
           "size": 16
          },
          "showarrow": false,
          "text": "Topic 1",
          "x": 0.36250000000000004,
          "xanchor": "center",
          "xref": "paper",
          "y": 1,
          "yanchor": "bottom",
          "yref": "paper"
         },
         {
          "font": {
           "size": 16
          },
          "showarrow": false,
          "text": "Topic 2",
          "x": 0.6375000000000001,
          "xanchor": "center",
          "xref": "paper",
          "y": 1,
          "yanchor": "bottom",
          "yref": "paper"
         },
         {
          "font": {
           "size": 16
          },
          "showarrow": false,
          "text": "Topic 3",
          "x": 0.9125,
          "xanchor": "center",
          "xref": "paper",
          "y": 1,
          "yanchor": "bottom",
          "yref": "paper"
         },
         {
          "font": {
           "size": 16
          },
          "showarrow": false,
          "text": "Topic 4",
          "x": 0.0875,
          "xanchor": "center",
          "xref": "paper",
          "y": 0.7250000000000001,
          "yanchor": "bottom",
          "yref": "paper"
         },
         {
          "font": {
           "size": 16
          },
          "showarrow": false,
          "text": "Topic 5",
          "x": 0.36250000000000004,
          "xanchor": "center",
          "xref": "paper",
          "y": 0.7250000000000001,
          "yanchor": "bottom",
          "yref": "paper"
         },
         {
          "font": {
           "size": 16
          },
          "showarrow": false,
          "text": "Topic 6",
          "x": 0.6375000000000001,
          "xanchor": "center",
          "xref": "paper",
          "y": 0.7250000000000001,
          "yanchor": "bottom",
          "yref": "paper"
         },
         {
          "font": {
           "size": 16
          },
          "showarrow": false,
          "text": "Topic 7",
          "x": 0.9125,
          "xanchor": "center",
          "xref": "paper",
          "y": 0.7250000000000001,
          "yanchor": "bottom",
          "yref": "paper"
         },
         {
          "font": {
           "size": 16
          },
          "showarrow": false,
          "text": "Topic 8",
          "x": 0.0875,
          "xanchor": "center",
          "xref": "paper",
          "y": 0.45,
          "yanchor": "bottom",
          "yref": "paper"
         },
         {
          "font": {
           "size": 16
          },
          "showarrow": false,
          "text": "Topic 9",
          "x": 0.36250000000000004,
          "xanchor": "center",
          "xref": "paper",
          "y": 0.45,
          "yanchor": "bottom",
          "yref": "paper"
         },
         {
          "font": {
           "size": 16
          },
          "showarrow": false,
          "text": "Topic 10",
          "x": 0.6375000000000001,
          "xanchor": "center",
          "xref": "paper",
          "y": 0.45,
          "yanchor": "bottom",
          "yref": "paper"
         },
         {
          "font": {
           "size": 16
          },
          "showarrow": false,
          "text": "Topic 11",
          "x": 0.9125,
          "xanchor": "center",
          "xref": "paper",
          "y": 0.45,
          "yanchor": "bottom",
          "yref": "paper"
         },
         {
          "font": {
           "size": 16
          },
          "showarrow": false,
          "text": "Topic 12",
          "x": 0.0875,
          "xanchor": "center",
          "xref": "paper",
          "y": 0.175,
          "yanchor": "bottom",
          "yref": "paper"
         },
         {
          "font": {
           "size": 16
          },
          "showarrow": false,
          "text": "Topic 13",
          "x": 0.36250000000000004,
          "xanchor": "center",
          "xref": "paper",
          "y": 0.175,
          "yanchor": "bottom",
          "yref": "paper"
         },
         {
          "font": {
           "size": 16
          },
          "showarrow": false,
          "text": "Topic 14",
          "x": 0.6375000000000001,
          "xanchor": "center",
          "xref": "paper",
          "y": 0.175,
          "yanchor": "bottom",
          "yref": "paper"
         },
         {
          "font": {
           "size": 16
          },
          "showarrow": false,
          "text": "Topic 15",
          "x": 0.9125,
          "xanchor": "center",
          "xref": "paper",
          "y": 0.175,
          "yanchor": "bottom",
          "yref": "paper"
         }
        ],
        "height": 1000,
        "hoverlabel": {
         "bgcolor": "white",
         "font": {
          "family": "Rockwell",
          "size": 16
         }
        },
        "showlegend": false,
        "template": {
         "data": {
          "bar": [
           {
            "error_x": {
             "color": "#2a3f5f"
            },
            "error_y": {
             "color": "#2a3f5f"
            },
            "marker": {
             "line": {
              "color": "white",
              "width": 0.5
             },
             "pattern": {
              "fillmode": "overlay",
              "size": 10,
              "solidity": 0.2
             }
            },
            "type": "bar"
           }
          ],
          "barpolar": [
           {
            "marker": {
             "line": {
              "color": "white",
              "width": 0.5
             },
             "pattern": {
              "fillmode": "overlay",
              "size": 10,
              "solidity": 0.2
             }
            },
            "type": "barpolar"
           }
          ],
          "carpet": [
           {
            "aaxis": {
             "endlinecolor": "#2a3f5f",
             "gridcolor": "#C8D4E3",
             "linecolor": "#C8D4E3",
             "minorgridcolor": "#C8D4E3",
             "startlinecolor": "#2a3f5f"
            },
            "baxis": {
             "endlinecolor": "#2a3f5f",
             "gridcolor": "#C8D4E3",
             "linecolor": "#C8D4E3",
             "minorgridcolor": "#C8D4E3",
             "startlinecolor": "#2a3f5f"
            },
            "type": "carpet"
           }
          ],
          "choropleth": [
           {
            "colorbar": {
             "outlinewidth": 0,
             "ticks": ""
            },
            "type": "choropleth"
           }
          ],
          "contour": [
           {
            "colorbar": {
             "outlinewidth": 0,
             "ticks": ""
            },
            "colorscale": [
             [
              0,
              "#0d0887"
             ],
             [
              0.1111111111111111,
              "#46039f"
             ],
             [
              0.2222222222222222,
              "#7201a8"
             ],
             [
              0.3333333333333333,
              "#9c179e"
             ],
             [
              0.4444444444444444,
              "#bd3786"
             ],
             [
              0.5555555555555556,
              "#d8576b"
             ],
             [
              0.6666666666666666,
              "#ed7953"
             ],
             [
              0.7777777777777778,
              "#fb9f3a"
             ],
             [
              0.8888888888888888,
              "#fdca26"
             ],
             [
              1,
              "#f0f921"
             ]
            ],
            "type": "contour"
           }
          ],
          "contourcarpet": [
           {
            "colorbar": {
             "outlinewidth": 0,
             "ticks": ""
            },
            "type": "contourcarpet"
           }
          ],
          "heatmap": [
           {
            "colorbar": {
             "outlinewidth": 0,
             "ticks": ""
            },
            "colorscale": [
             [
              0,
              "#0d0887"
             ],
             [
              0.1111111111111111,
              "#46039f"
             ],
             [
              0.2222222222222222,
              "#7201a8"
             ],
             [
              0.3333333333333333,
              "#9c179e"
             ],
             [
              0.4444444444444444,
              "#bd3786"
             ],
             [
              0.5555555555555556,
              "#d8576b"
             ],
             [
              0.6666666666666666,
              "#ed7953"
             ],
             [
              0.7777777777777778,
              "#fb9f3a"
             ],
             [
              0.8888888888888888,
              "#fdca26"
             ],
             [
              1,
              "#f0f921"
             ]
            ],
            "type": "heatmap"
           }
          ],
          "heatmapgl": [
           {
            "colorbar": {
             "outlinewidth": 0,
             "ticks": ""
            },
            "colorscale": [
             [
              0,
              "#0d0887"
             ],
             [
              0.1111111111111111,
              "#46039f"
             ],
             [
              0.2222222222222222,
              "#7201a8"
             ],
             [
              0.3333333333333333,
              "#9c179e"
             ],
             [
              0.4444444444444444,
              "#bd3786"
             ],
             [
              0.5555555555555556,
              "#d8576b"
             ],
             [
              0.6666666666666666,
              "#ed7953"
             ],
             [
              0.7777777777777778,
              "#fb9f3a"
             ],
             [
              0.8888888888888888,
              "#fdca26"
             ],
             [
              1,
              "#f0f921"
             ]
            ],
            "type": "heatmapgl"
           }
          ],
          "histogram": [
           {
            "marker": {
             "pattern": {
              "fillmode": "overlay",
              "size": 10,
              "solidity": 0.2
             }
            },
            "type": "histogram"
           }
          ],
          "histogram2d": [
           {
            "colorbar": {
             "outlinewidth": 0,
             "ticks": ""
            },
            "colorscale": [
             [
              0,
              "#0d0887"
             ],
             [
              0.1111111111111111,
              "#46039f"
             ],
             [
              0.2222222222222222,
              "#7201a8"
             ],
             [
              0.3333333333333333,
              "#9c179e"
             ],
             [
              0.4444444444444444,
              "#bd3786"
             ],
             [
              0.5555555555555556,
              "#d8576b"
             ],
             [
              0.6666666666666666,
              "#ed7953"
             ],
             [
              0.7777777777777778,
              "#fb9f3a"
             ],
             [
              0.8888888888888888,
              "#fdca26"
             ],
             [
              1,
              "#f0f921"
             ]
            ],
            "type": "histogram2d"
           }
          ],
          "histogram2dcontour": [
           {
            "colorbar": {
             "outlinewidth": 0,
             "ticks": ""
            },
            "colorscale": [
             [
              0,
              "#0d0887"
             ],
             [
              0.1111111111111111,
              "#46039f"
             ],
             [
              0.2222222222222222,
              "#7201a8"
             ],
             [
              0.3333333333333333,
              "#9c179e"
             ],
             [
              0.4444444444444444,
              "#bd3786"
             ],
             [
              0.5555555555555556,
              "#d8576b"
             ],
             [
              0.6666666666666666,
              "#ed7953"
             ],
             [
              0.7777777777777778,
              "#fb9f3a"
             ],
             [
              0.8888888888888888,
              "#fdca26"
             ],
             [
              1,
              "#f0f921"
             ]
            ],
            "type": "histogram2dcontour"
           }
          ],
          "mesh3d": [
           {
            "colorbar": {
             "outlinewidth": 0,
             "ticks": ""
            },
            "type": "mesh3d"
           }
          ],
          "parcoords": [
           {
            "line": {
             "colorbar": {
              "outlinewidth": 0,
              "ticks": ""
             }
            },
            "type": "parcoords"
           }
          ],
          "pie": [
           {
            "automargin": true,
            "type": "pie"
           }
          ],
          "scatter": [
           {
            "fillpattern": {
             "fillmode": "overlay",
             "size": 10,
             "solidity": 0.2
            },
            "type": "scatter"
           }
          ],
          "scatter3d": [
           {
            "line": {
             "colorbar": {
              "outlinewidth": 0,
              "ticks": ""
             }
            },
            "marker": {
             "colorbar": {
              "outlinewidth": 0,
              "ticks": ""
             }
            },
            "type": "scatter3d"
           }
          ],
          "scattercarpet": [
           {
            "marker": {
             "colorbar": {
              "outlinewidth": 0,
              "ticks": ""
             }
            },
            "type": "scattercarpet"
           }
          ],
          "scattergeo": [
           {
            "marker": {
             "colorbar": {
              "outlinewidth": 0,
              "ticks": ""
             }
            },
            "type": "scattergeo"
           }
          ],
          "scattergl": [
           {
            "marker": {
             "colorbar": {
              "outlinewidth": 0,
              "ticks": ""
             }
            },
            "type": "scattergl"
           }
          ],
          "scattermapbox": [
           {
            "marker": {
             "colorbar": {
              "outlinewidth": 0,
              "ticks": ""
             }
            },
            "type": "scattermapbox"
           }
          ],
          "scatterpolar": [
           {
            "marker": {
             "colorbar": {
              "outlinewidth": 0,
              "ticks": ""
             }
            },
            "type": "scatterpolar"
           }
          ],
          "scatterpolargl": [
           {
            "marker": {
             "colorbar": {
              "outlinewidth": 0,
              "ticks": ""
             }
            },
            "type": "scatterpolargl"
           }
          ],
          "scatterternary": [
           {
            "marker": {
             "colorbar": {
              "outlinewidth": 0,
              "ticks": ""
             }
            },
            "type": "scatterternary"
           }
          ],
          "surface": [
           {
            "colorbar": {
             "outlinewidth": 0,
             "ticks": ""
            },
            "colorscale": [
             [
              0,
              "#0d0887"
             ],
             [
              0.1111111111111111,
              "#46039f"
             ],
             [
              0.2222222222222222,
              "#7201a8"
             ],
             [
              0.3333333333333333,
              "#9c179e"
             ],
             [
              0.4444444444444444,
              "#bd3786"
             ],
             [
              0.5555555555555556,
              "#d8576b"
             ],
             [
              0.6666666666666666,
              "#ed7953"
             ],
             [
              0.7777777777777778,
              "#fb9f3a"
             ],
             [
              0.8888888888888888,
              "#fdca26"
             ],
             [
              1,
              "#f0f921"
             ]
            ],
            "type": "surface"
           }
          ],
          "table": [
           {
            "cells": {
             "fill": {
              "color": "#EBF0F8"
             },
             "line": {
              "color": "white"
             }
            },
            "header": {
             "fill": {
              "color": "#C8D4E3"
             },
             "line": {
              "color": "white"
             }
            },
            "type": "table"
           }
          ]
         },
         "layout": {
          "annotationdefaults": {
           "arrowcolor": "#2a3f5f",
           "arrowhead": 0,
           "arrowwidth": 1
          },
          "autotypenumbers": "strict",
          "coloraxis": {
           "colorbar": {
            "outlinewidth": 0,
            "ticks": ""
           }
          },
          "colorscale": {
           "diverging": [
            [
             0,
             "#8e0152"
            ],
            [
             0.1,
             "#c51b7d"
            ],
            [
             0.2,
             "#de77ae"
            ],
            [
             0.3,
             "#f1b6da"
            ],
            [
             0.4,
             "#fde0ef"
            ],
            [
             0.5,
             "#f7f7f7"
            ],
            [
             0.6,
             "#e6f5d0"
            ],
            [
             0.7,
             "#b8e186"
            ],
            [
             0.8,
             "#7fbc41"
            ],
            [
             0.9,
             "#4d9221"
            ],
            [
             1,
             "#276419"
            ]
           ],
           "sequential": [
            [
             0,
             "#0d0887"
            ],
            [
             0.1111111111111111,
             "#46039f"
            ],
            [
             0.2222222222222222,
             "#7201a8"
            ],
            [
             0.3333333333333333,
             "#9c179e"
            ],
            [
             0.4444444444444444,
             "#bd3786"
            ],
            [
             0.5555555555555556,
             "#d8576b"
            ],
            [
             0.6666666666666666,
             "#ed7953"
            ],
            [
             0.7777777777777778,
             "#fb9f3a"
            ],
            [
             0.8888888888888888,
             "#fdca26"
            ],
            [
             1,
             "#f0f921"
            ]
           ],
           "sequentialminus": [
            [
             0,
             "#0d0887"
            ],
            [
             0.1111111111111111,
             "#46039f"
            ],
            [
             0.2222222222222222,
             "#7201a8"
            ],
            [
             0.3333333333333333,
             "#9c179e"
            ],
            [
             0.4444444444444444,
             "#bd3786"
            ],
            [
             0.5555555555555556,
             "#d8576b"
            ],
            [
             0.6666666666666666,
             "#ed7953"
            ],
            [
             0.7777777777777778,
             "#fb9f3a"
            ],
            [
             0.8888888888888888,
             "#fdca26"
            ],
            [
             1,
             "#f0f921"
            ]
           ]
          },
          "colorway": [
           "#636efa",
           "#EF553B",
           "#00cc96",
           "#ab63fa",
           "#FFA15A",
           "#19d3f3",
           "#FF6692",
           "#B6E880",
           "#FF97FF",
           "#FECB52"
          ],
          "font": {
           "color": "#2a3f5f"
          },
          "geo": {
           "bgcolor": "white",
           "lakecolor": "white",
           "landcolor": "white",
           "showlakes": true,
           "showland": true,
           "subunitcolor": "#C8D4E3"
          },
          "hoverlabel": {
           "align": "left"
          },
          "hovermode": "closest",
          "mapbox": {
           "style": "light"
          },
          "paper_bgcolor": "white",
          "plot_bgcolor": "white",
          "polar": {
           "angularaxis": {
            "gridcolor": "#EBF0F8",
            "linecolor": "#EBF0F8",
            "ticks": ""
           },
           "bgcolor": "white",
           "radialaxis": {
            "gridcolor": "#EBF0F8",
            "linecolor": "#EBF0F8",
            "ticks": ""
           }
          },
          "scene": {
           "xaxis": {
            "backgroundcolor": "white",
            "gridcolor": "#DFE8F3",
            "gridwidth": 2,
            "linecolor": "#EBF0F8",
            "showbackground": true,
            "ticks": "",
            "zerolinecolor": "#EBF0F8"
           },
           "yaxis": {
            "backgroundcolor": "white",
            "gridcolor": "#DFE8F3",
            "gridwidth": 2,
            "linecolor": "#EBF0F8",
            "showbackground": true,
            "ticks": "",
            "zerolinecolor": "#EBF0F8"
           },
           "zaxis": {
            "backgroundcolor": "white",
            "gridcolor": "#DFE8F3",
            "gridwidth": 2,
            "linecolor": "#EBF0F8",
            "showbackground": true,
            "ticks": "",
            "zerolinecolor": "#EBF0F8"
           }
          },
          "shapedefaults": {
           "line": {
            "color": "#2a3f5f"
           }
          },
          "ternary": {
           "aaxis": {
            "gridcolor": "#DFE8F3",
            "linecolor": "#A2B1C6",
            "ticks": ""
           },
           "baxis": {
            "gridcolor": "#DFE8F3",
            "linecolor": "#A2B1C6",
            "ticks": ""
           },
           "bgcolor": "white",
           "caxis": {
            "gridcolor": "#DFE8F3",
            "linecolor": "#A2B1C6",
            "ticks": ""
           }
          },
          "title": {
           "x": 0.05
          },
          "xaxis": {
           "automargin": true,
           "gridcolor": "#EBF0F8",
           "linecolor": "#EBF0F8",
           "ticks": "",
           "title": {
            "standoff": 15
           },
           "zerolinecolor": "#EBF0F8",
           "zerolinewidth": 2
          },
          "yaxis": {
           "automargin": true,
           "gridcolor": "#EBF0F8",
           "linecolor": "#EBF0F8",
           "ticks": "",
           "title": {
            "standoff": 15
           },
           "zerolinecolor": "#EBF0F8",
           "zerolinewidth": 2
          }
         }
        },
        "title": {
         "font": {
          "color": "Black",
          "size": 22
         },
         "text": "<b>Topic Word Scores",
         "x": 0.5,
         "xanchor": "center",
         "yanchor": "top"
        },
        "width": 1000,
        "xaxis": {
         "anchor": "y",
         "autorange": true,
         "domain": [
          0,
          0.175
         ],
         "range": [
          0,
          0.02569485756479183
         ],
         "showgrid": true,
         "type": "linear"
        },
        "xaxis10": {
         "anchor": "y10",
         "autorange": true,
         "domain": [
          0.275,
          0.45
         ],
         "range": [
          0,
          0.0916163026378925
         ],
         "showgrid": true,
         "type": "linear"
        },
        "xaxis11": {
         "anchor": "y11",
         "autorange": true,
         "domain": [
          0.55,
          0.7250000000000001
         ],
         "range": [
          0,
          0.06607557806832824
         ],
         "showgrid": true,
         "type": "linear"
        },
        "xaxis12": {
         "anchor": "y12",
         "autorange": true,
         "domain": [
          0.825,
          1
         ],
         "range": [
          0,
          0.040128669023582274
         ],
         "showgrid": true,
         "type": "linear"
        },
        "xaxis13": {
         "anchor": "y13",
         "autorange": true,
         "domain": [
          0,
          0.175
         ],
         "range": [
          0,
          0.04414857033523821
         ],
         "showgrid": true,
         "type": "linear"
        },
        "xaxis14": {
         "anchor": "y14",
         "autorange": true,
         "domain": [
          0.275,
          0.45
         ],
         "range": [
          0,
          0.053376869702057315
         ],
         "showgrid": true,
         "type": "linear"
        },
        "xaxis15": {
         "anchor": "y15",
         "autorange": true,
         "domain": [
          0.55,
          0.7250000000000001
         ],
         "range": [
          0,
          0.05525973334500914
         ],
         "showgrid": true,
         "type": "linear"
        },
        "xaxis16": {
         "anchor": "y16",
         "autorange": true,
         "domain": [
          0.825,
          1
         ],
         "range": [
          0,
          0.044547133185246814
         ],
         "showgrid": true,
         "type": "linear"
        },
        "xaxis2": {
         "anchor": "y2",
         "autorange": true,
         "domain": [
          0.275,
          0.45
         ],
         "range": [
          0,
          0.0336859739589379
         ],
         "showgrid": true,
         "type": "linear"
        },
        "xaxis3": {
         "anchor": "y3",
         "autorange": true,
         "domain": [
          0.55,
          0.7250000000000001
         ],
         "range": [
          0,
          0.034984844385517216
         ],
         "showgrid": true,
         "type": "linear"
        },
        "xaxis4": {
         "anchor": "y4",
         "autorange": true,
         "domain": [
          0.825,
          1
         ],
         "range": [
          0,
          0.038987993681820314
         ],
         "showgrid": true,
         "type": "linear"
        },
        "xaxis5": {
         "anchor": "y5",
         "autorange": true,
         "domain": [
          0,
          0.175
         ],
         "range": [
          0,
          0.03347314200425795
         ],
         "showgrid": true,
         "type": "linear"
        },
        "xaxis6": {
         "anchor": "y6",
         "autorange": true,
         "domain": [
          0.275,
          0.45
         ],
         "range": [
          0,
          0.03315842015990658
         ],
         "showgrid": true,
         "type": "linear"
        },
        "xaxis7": {
         "anchor": "y7",
         "autorange": true,
         "domain": [
          0.55,
          0.7250000000000001
         ],
         "range": [
          0,
          0.06397545751328941
         ],
         "showgrid": true,
         "type": "linear"
        },
        "xaxis8": {
         "anchor": "y8",
         "autorange": true,
         "domain": [
          0.825,
          1
         ],
         "range": [
          0,
          0.02942767314537978
         ],
         "showgrid": true,
         "type": "linear"
        },
        "xaxis9": {
         "anchor": "y9",
         "autorange": true,
         "domain": [
          0,
          0.175
         ],
         "range": [
          0,
          0.06630109679352157
         ],
         "showgrid": true,
         "type": "linear"
        },
        "yaxis": {
         "anchor": "x",
         "autorange": true,
         "domain": [
          0.825,
          1
         ],
         "range": [
          -0.5,
          4.5
         ],
         "showgrid": true,
         "type": "category"
        },
        "yaxis10": {
         "anchor": "x10",
         "autorange": true,
         "domain": [
          0.275,
          0.45
         ],
         "range": [
          -0.5,
          4.5
         ],
         "showgrid": true,
         "type": "category"
        },
        "yaxis11": {
         "anchor": "x11",
         "autorange": true,
         "domain": [
          0.275,
          0.45
         ],
         "range": [
          -0.5,
          4.5
         ],
         "showgrid": true,
         "type": "category"
        },
        "yaxis12": {
         "anchor": "x12",
         "autorange": true,
         "domain": [
          0.275,
          0.45
         ],
         "range": [
          -0.5,
          4.5
         ],
         "showgrid": true,
         "type": "category"
        },
        "yaxis13": {
         "anchor": "x13",
         "autorange": true,
         "domain": [
          0,
          0.175
         ],
         "range": [
          -0.5,
          4.5
         ],
         "showgrid": true,
         "type": "category"
        },
        "yaxis14": {
         "anchor": "x14",
         "autorange": true,
         "domain": [
          0,
          0.175
         ],
         "range": [
          -0.5,
          4.5
         ],
         "showgrid": true,
         "type": "category"
        },
        "yaxis15": {
         "anchor": "x15",
         "autorange": true,
         "domain": [
          0,
          0.175
         ],
         "range": [
          -0.5,
          4.5
         ],
         "showgrid": true,
         "type": "category"
        },
        "yaxis16": {
         "anchor": "x16",
         "autorange": true,
         "domain": [
          0,
          0.175
         ],
         "range": [
          -0.5,
          4.5
         ],
         "showgrid": true,
         "type": "category"
        },
        "yaxis2": {
         "anchor": "x2",
         "autorange": true,
         "domain": [
          0.825,
          1
         ],
         "range": [
          -0.5,
          4.5
         ],
         "showgrid": true,
         "type": "category"
        },
        "yaxis3": {
         "anchor": "x3",
         "autorange": true,
         "domain": [
          0.825,
          1
         ],
         "range": [
          -0.5,
          4.5
         ],
         "showgrid": true,
         "type": "category"
        },
        "yaxis4": {
         "anchor": "x4",
         "autorange": true,
         "domain": [
          0.825,
          1
         ],
         "range": [
          -0.5,
          4.5
         ],
         "showgrid": true,
         "type": "category"
        },
        "yaxis5": {
         "anchor": "x5",
         "autorange": true,
         "domain": [
          0.55,
          0.7250000000000001
         ],
         "range": [
          -0.5,
          4.5
         ],
         "showgrid": true,
         "type": "category"
        },
        "yaxis6": {
         "anchor": "x6",
         "autorange": true,
         "domain": [
          0.55,
          0.7250000000000001
         ],
         "range": [
          -0.5,
          4.5
         ],
         "showgrid": true,
         "type": "category"
        },
        "yaxis7": {
         "anchor": "x7",
         "autorange": true,
         "domain": [
          0.55,
          0.7250000000000001
         ],
         "range": [
          -0.5,
          4.5
         ],
         "showgrid": true,
         "type": "category"
        },
        "yaxis8": {
         "anchor": "x8",
         "autorange": true,
         "domain": [
          0.55,
          0.7250000000000001
         ],
         "range": [
          -0.5,
          4.5
         ],
         "showgrid": true,
         "type": "category"
        },
        "yaxis9": {
         "anchor": "x9",
         "autorange": true,
         "domain": [
          0.275,
          0.45
         ],
         "range": [
          -0.5,
          4.5
         ],
         "showgrid": true,
         "type": "category"
        }
       }
      },
      "image/png": "[encoded data removed]",
      "text/html": [
       "<div>                            <div id=\"75ba8cb2-57ed-4209-85b5-fb19bb994531\" class=\"plotly-graph-div\" style=\"height:1000px; width:1000px;\"></div>            <script type=\"text/javascript\">                require([\"plotly\"], function(Plotly) {                    window.PLOTLYENV=window.PLOTLYENV || {};                                    if (document.getElementById(\"75ba8cb2-57ed-4209-85b5-fb19bb994531\")) {                    Plotly.newPlot(                        \"75ba8cb2-57ed-4209-85b5-fb19bb994531\",                        [{\"marker\":{\"color\":\"#D55E00\"},\"orientation\":\"h\",\"x\":[0.013493998573517749,0.014156268648108905,0.0146000473921928,0.016604933938954913,0.02441011468655224],\"y\":[\"task  \",\"knowledge  \",\"word  \",\"text  \",\"language  \"],\"type\":\"bar\",\"xaxis\":\"x\",\"yaxis\":\"y\"},{\"marker\":{\"color\":\"#0072B2\"},\"orientation\":\"h\",\"x\":[0.017220101008276194,0.017369603888364143,0.019476884332344263,0.030617918319019173,0.03200167526099101],\"y\":[\"agent  \",\"control  \",\"reward  \",\"rl  \",\"reinforcement  \"],\"type\":\"bar\",\"xaxis\":\"x2\",\"yaxis\":\"y2\"},{\"marker\":{\"color\":\"#CC79A7\"},\"orientation\":\"h\",\"x\":[0.021780484989332615,0.02350748727088941,0.025121787037924014,0.025123017313622518,0.03323560216624136],\"y\":[\"convex  \",\"descent  \",\"stochastic  \",\"convergence  \",\"gradient  \"],\"type\":\"bar\",\"xaxis\":\"x3\",\"yaxis\":\"y3\"},{\"marker\":{\"color\":\"#E69F00\"},\"orientation\":\"h\",\"x\":[0.016629401538065088,0.01872782063685215,0.019424976820020083,0.020539676994760794,0.0370385939977293],\"y\":[\"knowledge  \",\"ontology  \",\"semantics  \",\"reasoning  \",\"logic  \"],\"type\":\"bar\",\"xaxis\":\"x4\",\"yaxis\":\"y4\"},{\"marker\":{\"color\":\"#56B4E9\"},\"orientation\":\"h\",\"x\":[0.02068970351593709,0.022418072983588073,0.025577076864902824,0.03001038831593295,0.03179948490404506],\"y\":[\"medical  \",\"imaging  \",\"image  \",\"images  \",\"segmentation  \"],\"type\":\"bar\",\"xaxis\":\"x5\",\"yaxis\":\"y5\"},{\"marker\":{\"color\":\"#009E73\"},\"orientation\":\"h\",\"x\":[0.0172732679865528,0.025137982502245065,0.026508220132547902,0.02738213989190118,0.031500499151911256],\"y\":[\"regression  \",\"tensor  \",\"sparse  \",\"rank  \",\"matrix  \"],\"type\":\"bar\",\"xaxis\":\"x6\",\"yaxis\":\"y6\"},{\"marker\":{\"color\":\"#F0E442\"},\"orientation\":\"h\",\"x\":[0.019467553372203093,0.028243379847841817,0.03424505310470897,0.03978685866444304,0.06077668463762494],\"y\":[\"acoustic  \",\"music  \",\"speaker  \",\"audio  \",\"speech  \"],\"type\":\"bar\",\"xaxis\":\"x7\",\"yaxis\":\"y7\"},{\"marker\":{\"color\":\"#D55E00\"},\"orientation\":\"h\",\"x\":[0.018474916098127164,0.01878796708965421,0.021498501548647193,0.022971085722563466,0.02795628948811079],\"y\":[\"search  \",\"nas  \",\"hardware  \",\"quantization  \",\"pruning  \"],\"type\":\"bar\",\"xaxis\":\"x8\",\"yaxis\":\"y8\"},{\"marker\":{\"color\":\"#0072B2\"},\"orientation\":\"h\",\"x\":[0.018577211171277256,0.018976967066628235,0.02692996884399058,0.02697606465764941,0.0629860419538455],\"y\":[\"bayesian  \",\"graphical  \",\"variables  \",\"treatment  \",\"causal  \"],\"type\":\"bar\",\"xaxis\":\"x9\",\"yaxis\":\"y9\"},{\"marker\":{\"color\":\"#CC79A7\"},\"orientation\":\"h\",\"x\":[0.029259894208969826,0.0388784203534438,0.041057728225152086,0.05281898956434326,0.08703548750599788],\"y\":[\"examples  \",\"robustness  \",\"attack  \",\"attacks  \",\"adversarial  \"],\"type\":\"bar\",\"xaxis\":\"x10\",\"yaxis\":\"y10\"},{\"marker\":{\"color\":\"#E69F00\"},\"orientation\":\"h\",\"x\":[0.02355070424770598,0.025532507821271026,0.03055566937011022,0.044373635028269034,0.06277179916491182],\"y\":[\"arm  \",\"bandits  \",\"online  \",\"bandit  \",\"regret  \"],\"type\":\"bar\",\"xaxis\":\"x11\",\"yaxis\":\"y11\"},{\"marker\":{\"color\":\"#56B4E9\"},\"orientation\":\"h\",\"x\":[0.014796154356323109,0.015039976161646911,0.017197076463996198,0.01826848008359639,0.03812223557240316],\"y\":[\"decision  \",\"explainable  \",\"human  \",\"interpretability  \",\"explanations  \"],\"type\":\"bar\",\"xaxis\":\"x12\",\"yaxis\":\"y12\"},{\"marker\":{\"color\":\"#009E73\"},\"orientation\":\"h\",\"x\":[0.022655479400489564,0.02853670933449528,0.03124926722244318,0.03442016141323,0.0419411418184763],\"y\":[\"image  \",\"latent  \",\"gan  \",\"gans  \",\"generative  \"],\"type\":\"bar\",\"xaxis\":\"x13\",\"yaxis\":\"y13\"},{\"marker\":{\"color\":\"#F0E442\"},\"orientation\":\"h\",\"x\":[0.0191240195677805,0.021849124331804595,0.030767241231984575,0.04785559515234229,0.05070802621695445],\"y\":[\"attacks  \",\"anomalies  \",\"malware  \",\"anomaly  \",\"detection  \"],\"type\":\"bar\",\"xaxis\":\"x14\",\"yaxis\":\"y14\"},{\"marker\":{\"color\":\"#D55E00\"},\"orientation\":\"h\",\"x\":[0.01805539663063505,0.02397373457311794,0.03153382377464884,0.0323504173215394,0.05249674667775868],\"y\":[\"recommendations  \",\"ranking  \",\"users  \",\"recommender  \",\"recommendation  \"],\"type\":\"bar\",\"xaxis\":\"x15\",\"yaxis\":\"y15\"},{\"marker\":{\"color\":\"#0072B2\"},\"orientation\":\"h\",\"x\":[0.01867481081528012,0.024001897481460484,0.02578068328551813,0.03342184173783129,0.042319776525984475],\"y\":[\"depth  \",\"segmentation  \",\"point  \",\"object  \",\"3d  \"],\"type\":\"bar\",\"xaxis\":\"x16\",\"yaxis\":\"y16\"}],                        {\"template\":{\"data\":{\"barpolar\":[{\"marker\":{\"line\":{\"color\":\"white\",\"width\":0.5},\"pattern\":{\"fillmode\":\"overlay\",\"size\":10,\"solidity\":0.2}},\"type\":\"barpolar\"}],\"bar\":[{\"error_x\":{\"color\":\"#2a3f5f\"},\"error_y\":{\"color\":\"#2a3f5f\"},\"marker\":{\"line\":{\"color\":\"white\",\"width\":0.5},\"pattern\":{\"fillmode\":\"overlay\",\"size\":10,\"solidity\":0.2}},\"type\":\"bar\"}],\"carpet\":[{\"aaxis\":{\"endlinecolor\":\"#2a3f5f\",\"gridcolor\":\"#C8D4E3\",\"linecolor\":\"#C8D4E3\",\"minorgridcolor\":\"#C8D4E3\",\"startlinecolor\":\"#2a3f5f\"},\"baxis\":{\"endlinecolor\":\"#2a3f5f\",\"gridcolor\":\"#C8D4E3\",\"linecolor\":\"#C8D4E3\",\"minorgridcolor\":\"#C8D4E3\",\"startlinecolor\":\"#2a3f5f\"},\"type\":\"carpet\"}],\"choropleth\":[{\"colorbar\":{\"outlinewidth\":0,\"ticks\":\"\"},\"type\":\"choropleth\"}],\"contourcarpet\":[{\"colorbar\":{\"outlinewidth\":0,\"ticks\":\"\"},\"type\":\"contourcarpet\"}],\"contour\":[{\"colorbar\":{\"outlinewidth\":0,\"ticks\":\"\"},\"colorscale\":[[0.0,\"#0d0887\"],[0.1111111111111111,\"#46039f\"],[0.2222222222222222,\"#7201a8\"],[0.3333333333333333,\"#9c179e\"],[0.4444444444444444,\"#bd3786\"],[0.5555555555555556,\"#d8576b\"],[0.6666666666666666,\"#ed7953\"],[0.7777777777777778,\"#fb9f3a\"],[0.8888888888888888,\"#fdca26\"],[1.0,\"#f0f921\"]],\"type\":\"contour\"}],\"heatmapgl\":[{\"colorbar\":{\"outlinewidth\":0,\"ticks\":\"\"},\"colorscale\":[[0.0,\"#0d0887\"],[0.1111111111111111,\"#46039f\"],[0.2222222222222222,\"#7201a8\"],[0.3333333333333333,\"#9c179e\"],[0.4444444444444444,\"#bd3786\"],[0.5555555555555556,\"#d8576b\"],[0.6666666666666666,\"#ed7953\"],[0.7777777777777778,\"#fb9f3a\"],[0.8888888888888888,\"#fdca26\"],[1.0,\"#f0f921\"]],\"type\":\"heatmapgl\"}],\"heatmap\":[{\"colorbar\":{\"outlinewidth\":0,\"ticks\":\"\"},\"colorscale\":[[0.0,\"#0d0887\"],[0.1111111111111111,\"#46039f\"],[0.2222222222222222,\"#7201a8\"],[0.3333333333333333,\"#9c179e\"],[0.4444444444444444,\"#bd3786\"],[0.5555555555555556,\"#d8576b\"],[0.6666666666666666,\"#ed7953\"],[0.7777777777777778,\"#fb9f3a\"],[0.8888888888888888,\"#fdca26\"],[1.0,\"#f0f921\"]],\"type\":\"heatmap\"}],\"histogram2dcontour\":[{\"colorbar\":{\"outlinewidth\":0,\"ticks\":\"\"},\"colorscale\":[[0.0,\"#0d0887\"],[0.1111111111111111,\"#46039f\"],[0.2222222222222222,\"#7201a8\"],[0.3333333333333333,\"#9c179e\"],[0.4444444444444444,\"#bd3786\"],[0.5555555555555556,\"#d8576b\"],[0.6666666666666666,\"#ed7953\"],[0.7777777777777778,\"#fb9f3a\"],[0.8888888888888888,\"#fdca26\"],[1.0,\"#f0f921\"]],\"type\":\"histogram2dcontour\"}],\"histogram2d\":[{\"colorbar\":{\"outlinewidth\":0,\"ticks\":\"\"},\"colorscale\":[[0.0,\"#0d0887\"],[0.1111111111111111,\"#46039f\"],[0.2222222222222222,\"#7201a8\"],[0.3333333333333333,\"#9c179e\"],[0.4444444444444444,\"#bd3786\"],[0.5555555555555556,\"#d8576b\"],[0.6666666666666666,\"#ed7953\"],[0.7777777777777778,\"#fb9f3a\"],[0.8888888888888888,\"#fdca26\"],[1.0,\"#f0f921\"]],\"type\":\"histogram2d\"}],\"histogram\":[{\"marker\":{\"pattern\":{\"fillmode\":\"overlay\",\"size\":10,\"solidity\":0.2}},\"type\":\"histogram\"}],\"mesh3d\":[{\"colorbar\":{\"outlinewidth\":0,\"ticks\":\"\"},\"type\":\"mesh3d\"}],\"parcoords\":[{\"line\":{\"colorbar\":{\"outlinewidth\":0,\"ticks\":\"\"}},\"type\":\"parcoords\"}],\"pie\":[{\"automargin\":true,\"type\":\"pie\"}],\"scatter3d\":[{\"line\":{\"colorbar\":{\"outlinewidth\":0,\"ticks\":\"\"}},\"marker\":{\"colorbar\":{\"outlinewidth\":0,\"ticks\":\"\"}},\"type\":\"scatter3d\"}],\"scattercarpet\":[{\"marker\":{\"colorbar\":{\"outlinewidth\":0,\"ticks\":\"\"}},\"type\":\"scattercarpet\"}],\"scattergeo\":[{\"marker\":{\"colorbar\":{\"outlinewidth\":0,\"ticks\":\"\"}},\"type\":\"scattergeo\"}],\"scattergl\":[{\"marker\":{\"colorbar\":{\"outlinewidth\":0,\"ticks\":\"\"}},\"type\":\"scattergl\"}],\"scattermapbox\":[{\"marker\":{\"colorbar\":{\"outlinewidth\":0,\"ticks\":\"\"}},\"type\":\"scattermapbox\"}],\"scatterpolargl\":[{\"marker\":{\"colorbar\":{\"outlinewidth\":0,\"ticks\":\"\"}},\"type\":\"scatterpolargl\"}],\"scatterpolar\":[{\"marker\":{\"colorbar\":{\"outlinewidth\":0,\"ticks\":\"\"}},\"type\":\"scatterpolar\"}],\"scatter\":[{\"fillpattern\":{\"fillmode\":\"overlay\",\"size\":10,\"solidity\":0.2},\"type\":\"scatter\"}],\"scatterternary\":[{\"marker\":{\"colorbar\":{\"outlinewidth\":0,\"ticks\":\"\"}},\"type\":\"scatterternary\"}],\"surface\":[{\"colorbar\":{\"outlinewidth\":0,\"ticks\":\"\"},\"colorscale\":[[0.0,\"#0d0887\"],[0.1111111111111111,\"#46039f\"],[0.2222222222222222,\"#7201a8\"],[0.3333333333333333,\"#9c179e\"],[0.4444444444444444,\"#bd3786\"],[0.5555555555555556,\"#d8576b\"],[0.6666666666666666,\"#ed7953\"],[0.7777777777777778,\"#fb9f3a\"],[0.8888888888888888,\"#fdca26\"],[1.0,\"#f0f921\"]],\"type\":\"surface\"}],\"table\":[{\"cells\":{\"fill\":{\"color\":\"#EBF0F8\"},\"line\":{\"color\":\"white\"}},\"header\":{\"fill\":{\"color\":\"#C8D4E3\"},\"line\":{\"color\":\"white\"}},\"type\":\"table\"}]},\"layout\":{\"annotationdefaults\":{\"arrowcolor\":\"#2a3f5f\",\"arrowhead\":0,\"arrowwidth\":1},\"autotypenumbers\":\"strict\",\"coloraxis\":{\"colorbar\":{\"outlinewidth\":0,\"ticks\":\"\"}},\"colorscale\":{\"diverging\":[[0,\"#8e0152\"],[0.1,\"#c51b7d\"],[0.2,\"#de77ae\"],[0.3,\"#f1b6da\"],[0.4,\"#fde0ef\"],[0.5,\"#f7f7f7\"],[0.6,\"#e6f5d0\"],[0.7,\"#b8e186\"],[0.8,\"#7fbc41\"],[0.9,\"#4d9221\"],[1,\"#276419\"]],\"sequential\":[[0.0,\"#0d0887\"],[0.1111111111111111,\"#46039f\"],[0.2222222222222222,\"#7201a8\"],[0.3333333333333333,\"#9c179e\"],[0.4444444444444444,\"#bd3786\"],[0.5555555555555556,\"#d8576b\"],[0.6666666666666666,\"#ed7953\"],[0.7777777777777778,\"#fb9f3a\"],[0.8888888888888888,\"#fdca26\"],[1.0,\"#f0f921\"]],\"sequentialminus\":[[0.0,\"#0d0887\"],[0.1111111111111111,\"#46039f\"],[0.2222222222222222,\"#7201a8\"],[0.3333333333333333,\"#9c179e\"],[0.4444444444444444,\"#bd3786\"],[0.5555555555555556,\"#d8576b\"],[0.6666666666666666,\"#ed7953\"],[0.7777777777777778,\"#fb9f3a\"],[0.8888888888888888,\"#fdca26\"],[1.0,\"#f0f921\"]]},\"colorway\":[\"#636efa\",\"#EF553B\",\"#00cc96\",\"#ab63fa\",\"#FFA15A\",\"#19d3f3\",\"#FF6692\",\"#B6E880\",\"#FF97FF\",\"#FECB52\"],\"font\":{\"color\":\"#2a3f5f\"},\"geo\":{\"bgcolor\":\"white\",\"lakecolor\":\"white\",\"landcolor\":\"white\",\"showlakes\":true,\"showland\":true,\"subunitcolor\":\"#C8D4E3\"},\"hoverlabel\":{\"align\":\"left\"},\"hovermode\":\"closest\",\"mapbox\":{\"style\":\"light\"},\"paper_bgcolor\":\"white\",\"plot_bgcolor\":\"white\",\"polar\":{\"angularaxis\":{\"gridcolor\":\"#EBF0F8\",\"linecolor\":\"#EBF0F8\",\"ticks\":\"\"},\"bgcolor\":\"white\",\"radialaxis\":{\"gridcolor\":\"#EBF0F8\",\"linecolor\":\"#EBF0F8\",\"ticks\":\"\"}},\"scene\":{\"xaxis\":{\"backgroundcolor\":\"white\",\"gridcolor\":\"#DFE8F3\",\"gridwidth\":2,\"linecolor\":\"#EBF0F8\",\"showbackground\":true,\"ticks\":\"\",\"zerolinecolor\":\"#EBF0F8\"},\"yaxis\":{\"backgroundcolor\":\"white\",\"gridcolor\":\"#DFE8F3\",\"gridwidth\":2,\"linecolor\":\"#EBF0F8\",\"showbackground\":true,\"ticks\":\"\",\"zerolinecolor\":\"#EBF0F8\"},\"zaxis\":{\"backgroundcolor\":\"white\",\"gridcolor\":\"#DFE8F3\",\"gridwidth\":2,\"linecolor\":\"#EBF0F8\",\"showbackground\":true,\"ticks\":\"\",\"zerolinecolor\":\"#EBF0F8\"}},\"shapedefaults\":{\"line\":{\"color\":\"#2a3f5f\"}},\"ternary\":{\"aaxis\":{\"gridcolor\":\"#DFE8F3\",\"linecolor\":\"#A2B1C6\",\"ticks\":\"\"},\"baxis\":{\"gridcolor\":\"#DFE8F3\",\"linecolor\":\"#A2B1C6\",\"ticks\":\"\"},\"bgcolor\":\"white\",\"caxis\":{\"gridcolor\":\"#DFE8F3\",\"linecolor\":\"#A2B1C6\",\"ticks\":\"\"}},\"title\":{\"x\":0.05},\"xaxis\":{\"automargin\":true,\"gridcolor\":\"#EBF0F8\",\"linecolor\":\"#EBF0F8\",\"ticks\":\"\",\"title\":{\"standoff\":15},\"zerolinecolor\":\"#EBF0F8\",\"zerolinewidth\":2},\"yaxis\":{\"automargin\":true,\"gridcolor\":\"#EBF0F8\",\"linecolor\":\"#EBF0F8\",\"ticks\":\"\",\"title\":{\"standoff\":15},\"zerolinecolor\":\"#EBF0F8\",\"zerolinewidth\":2}}},\"xaxis\":{\"anchor\":\"y\",\"domain\":[0.0,0.175],\"showgrid\":true},\"yaxis\":{\"anchor\":\"x\",\"domain\":[0.825,1.0],\"showgrid\":true},\"xaxis2\":{\"anchor\":\"y2\",\"domain\":[0.275,0.45],\"showgrid\":true},\"yaxis2\":{\"anchor\":\"x2\",\"domain\":[0.825,1.0],\"showgrid\":true},\"xaxis3\":{\"anchor\":\"y3\",\"domain\":[0.55,0.7250000000000001],\"showgrid\":true},\"yaxis3\":{\"anchor\":\"x3\",\"domain\":[0.825,1.0],\"showgrid\":true},\"xaxis4\":{\"anchor\":\"y4\",\"domain\":[0.825,1.0],\"showgrid\":true},\"yaxis4\":{\"anchor\":\"x4\",\"domain\":[0.825,1.0],\"showgrid\":true},\"xaxis5\":{\"anchor\":\"y5\",\"domain\":[0.0,0.175],\"showgrid\":true},\"yaxis5\":{\"anchor\":\"x5\",\"domain\":[0.55,0.7250000000000001],\"showgrid\":true},\"xaxis6\":{\"anchor\":\"y6\",\"domain\":[0.275,0.45],\"showgrid\":true},\"yaxis6\":{\"anchor\":\"x6\",\"domain\":[0.55,0.7250000000000001],\"showgrid\":true},\"xaxis7\":{\"anchor\":\"y7\",\"domain\":[0.55,0.7250000000000001],\"showgrid\":true},\"yaxis7\":{\"anchor\":\"x7\",\"domain\":[0.55,0.7250000000000001],\"showgrid\":true},\"xaxis8\":{\"anchor\":\"y8\",\"domain\":[0.825,1.0],\"showgrid\":true},\"yaxis8\":{\"anchor\":\"x8\",\"domain\":[0.55,0.7250000000000001],\"showgrid\":true},\"xaxis9\":{\"anchor\":\"y9\",\"domain\":[0.0,0.175],\"showgrid\":true},\"yaxis9\":{\"anchor\":\"x9\",\"domain\":[0.275,0.45],\"showgrid\":true},\"xaxis10\":{\"anchor\":\"y10\",\"domain\":[0.275,0.45],\"showgrid\":true},\"yaxis10\":{\"anchor\":\"x10\",\"domain\":[0.275,0.45],\"showgrid\":true},\"xaxis11\":{\"anchor\":\"y11\",\"domain\":[0.55,0.7250000000000001],\"showgrid\":true},\"yaxis11\":{\"anchor\":\"x11\",\"domain\":[0.275,0.45],\"showgrid\":true},\"xaxis12\":{\"anchor\":\"y12\",\"domain\":[0.825,1.0],\"showgrid\":true},\"yaxis12\":{\"anchor\":\"x12\",\"domain\":[0.275,0.45],\"showgrid\":true},\"xaxis13\":{\"anchor\":\"y13\",\"domain\":[0.0,0.175],\"showgrid\":true},\"yaxis13\":{\"anchor\":\"x13\",\"domain\":[0.0,0.175],\"showgrid\":true},\"xaxis14\":{\"anchor\":\"y14\",\"domain\":[0.275,0.45],\"showgrid\":true},\"yaxis14\":{\"anchor\":\"x14\",\"domain\":[0.0,0.175],\"showgrid\":true},\"xaxis15\":{\"anchor\":\"y15\",\"domain\":[0.55,0.7250000000000001],\"showgrid\":true},\"yaxis15\":{\"anchor\":\"x15\",\"domain\":[0.0,0.175],\"showgrid\":true},\"xaxis16\":{\"anchor\":\"y16\",\"domain\":[0.825,1.0],\"showgrid\":true},\"yaxis16\":{\"anchor\":\"x16\",\"domain\":[0.0,0.175],\"showgrid\":true},\"annotations\":[{\"font\":{\"size\":16},\"showarrow\":false,\"text\":\"Topic 0\",\"x\":0.0875,\"xanchor\":\"center\",\"xref\":\"paper\",\"y\":1.0,\"yanchor\":\"bottom\",\"yref\":\"paper\"},{\"font\":{\"size\":16},\"showarrow\":false,\"text\":\"Topic 1\",\"x\":0.36250000000000004,\"xanchor\":\"center\",\"xref\":\"paper\",\"y\":1.0,\"yanchor\":\"bottom\",\"yref\":\"paper\"},{\"font\":{\"size\":16},\"showarrow\":false,\"text\":\"Topic 2\",\"x\":0.6375000000000001,\"xanchor\":\"center\",\"xref\":\"paper\",\"y\":1.0,\"yanchor\":\"bottom\",\"yref\":\"paper\"},{\"font\":{\"size\":16},\"showarrow\":false,\"text\":\"Topic 3\",\"x\":0.9125,\"xanchor\":\"center\",\"xref\":\"paper\",\"y\":1.0,\"yanchor\":\"bottom\",\"yref\":\"paper\"},{\"font\":{\"size\":16},\"showarrow\":false,\"text\":\"Topic 4\",\"x\":0.0875,\"xanchor\":\"center\",\"xref\":\"paper\",\"y\":0.7250000000000001,\"yanchor\":\"bottom\",\"yref\":\"paper\"},{\"font\":{\"size\":16},\"showarrow\":false,\"text\":\"Topic 5\",\"x\":0.36250000000000004,\"xanchor\":\"center\",\"xref\":\"paper\",\"y\":0.7250000000000001,\"yanchor\":\"bottom\",\"yref\":\"paper\"},{\"font\":{\"size\":16},\"showarrow\":false,\"text\":\"Topic 6\",\"x\":0.6375000000000001,\"xanchor\":\"center\",\"xref\":\"paper\",\"y\":0.7250000000000001,\"yanchor\":\"bottom\",\"yref\":\"paper\"},{\"font\":{\"size\":16},\"showarrow\":false,\"text\":\"Topic 7\",\"x\":0.9125,\"xanchor\":\"center\",\"xref\":\"paper\",\"y\":0.7250000000000001,\"yanchor\":\"bottom\",\"yref\":\"paper\"},{\"font\":{\"size\":16},\"showarrow\":false,\"text\":\"Topic 8\",\"x\":0.0875,\"xanchor\":\"center\",\"xref\":\"paper\",\"y\":0.45,\"yanchor\":\"bottom\",\"yref\":\"paper\"},{\"font\":{\"size\":16},\"showarrow\":false,\"text\":\"Topic 9\",\"x\":0.36250000000000004,\"xanchor\":\"center\",\"xref\":\"paper\",\"y\":0.45,\"yanchor\":\"bottom\",\"yref\":\"paper\"},{\"font\":{\"size\":16},\"showarrow\":false,\"text\":\"Topic 10\",\"x\":0.6375000000000001,\"xanchor\":\"center\",\"xref\":\"paper\",\"y\":0.45,\"yanchor\":\"bottom\",\"yref\":\"paper\"},{\"font\":{\"size\":16},\"showarrow\":false,\"text\":\"Topic 11\",\"x\":0.9125,\"xanchor\":\"center\",\"xref\":\"paper\",\"y\":0.45,\"yanchor\":\"bottom\",\"yref\":\"paper\"},{\"font\":{\"size\":16},\"showarrow\":false,\"text\":\"Topic 12\",\"x\":0.0875,\"xanchor\":\"center\",\"xref\":\"paper\",\"y\":0.175,\"yanchor\":\"bottom\",\"yref\":\"paper\"},{\"font\":{\"size\":16},\"showarrow\":false,\"text\":\"Topic 13\",\"x\":0.36250000000000004,\"xanchor\":\"center\",\"xref\":\"paper\",\"y\":0.175,\"yanchor\":\"bottom\",\"yref\":\"paper\"},{\"font\":{\"size\":16},\"showarrow\":false,\"text\":\"Topic 14\",\"x\":0.6375000000000001,\"xanchor\":\"center\",\"xref\":\"paper\",\"y\":0.175,\"yanchor\":\"bottom\",\"yref\":\"paper\"},{\"font\":{\"size\":16},\"showarrow\":false,\"text\":\"Topic 15\",\"x\":0.9125,\"xanchor\":\"center\",\"xref\":\"paper\",\"y\":0.175,\"yanchor\":\"bottom\",\"yref\":\"paper\"}],\"title\":{\"font\":{\"size\":22,\"color\":\"Black\"},\"text\":\"<b>Topic Word Scores\",\"x\":0.5,\"xanchor\":\"center\",\"yanchor\":\"top\"},\"hoverlabel\":{\"font\":{\"size\":16,\"family\":\"Rockwell\"},\"bgcolor\":\"white\"},\"showlegend\":false,\"width\":1000,\"height\":1000},                        {\"responsive\": true}                    ).then(function(){\n",
       "                            \n",
       "var gd = document.getElementById('75ba8cb2-57ed-4209-85b5-fb19bb994531');\n",
       "var x = new MutationObserver(function (mutations, observer) {{\n",
       "        var display = window.getComputedStyle(gd).display;\n",
       "        if (!display || display === 'none') {{\n",
       "            console.log([gd, 'removed!']);\n",
       "            Plotly.purge(gd);\n",
       "            observer.disconnect();\n",
       "        }}\n",
       "}});\n",
       "\n",
       "// Listen for the removal of the full notebook cells\n",
       "var notebookContainer = gd.closest('#notebook-container');\n",
       "if (notebookContainer) {{\n",
       "    x.observe(notebookContainer, {childList: true});\n",
       "}}\n",
       "\n",
       "// Listen for the clearing of the current output cell\n",
       "var outputEl = gd.closest('.output');\n",
       "if (outputEl) {{\n",
       "    x.observe(outputEl, {childList: true});\n",
       "}}\n",
       "\n",
       "                        })                };                });            </script>        </div>"
      ]
     },
     "metadata": {},
     "output_type": "display_data"
    }
   ],
   "source": [
    "topic_model.visualize_barchart(top_n_topics=16)"
   ]
  },
  {
   "cell_type": "markdown",
   "id": "f1b8fe76-3082-4d91-9368-b0f5a222e472",
   "metadata": {},
   "source": [
    "We can also view the topic relationships in 2d using [Umap's](https://umap-learn.readthedocs.io/en/latest/) dimensionality reduction:"
   ]
  },
  {
   "cell_type": "code",
   "execution_count": 100,
   "id": "a0d6e906-09fb-40a2-8cf1-d92a9814f0d7",
   "metadata": {},
   "outputs": [
    {
     "data": {
      "application/vnd.plotly.v1+json": {
       "config": {
        "plotlyServerURL": "https://plot.ly"
       },
       "data": [
        {
         "customdata": [
          [
           0,
           "language | text | word | knowledge | task",
           10973
          ],
          [
           1,
           "reinforcement | rl | reward | control | agent",
           7056
          ],
          [
           2,
           "gradient | convergence | stochastic | descent | convex",
           4793
          ],
          [
           3,
           "logic | reasoning | semantics | ontology | knowledge",
           4682
          ],
          [
           4,
           "segmentation | images | image | imaging | medical",
           4282
          ],
          [
           5,
           "matrix | rank | sparse | tensor | regression",
           4226
          ],
          [
           6,
           "speech | audio | speaker | music | acoustic",
           4032
          ],
          [
           7,
           "pruning | quantization | hardware | nas | search",
           3375
          ],
          [
           8,
           "causal | treatment | variables | graphical | bayesian",
           3149
          ],
          [
           9,
           "adversarial | attacks | attack | robustness | examples",
           3148
          ],
          [
           10,
           "regret | bandit | online | bandits | arm",
           3019
          ],
          [
           11,
           "explanations | interpretability | human | explainable | decision",
           2897
          ],
          [
           12,
           "generative | gans | gan | latent | image",
           2863
          ],
          [
           13,
           "detection | anomaly | malware | anomalies | attacks",
           2771
          ],
          [
           14,
           "recommendation | recommender | users | ranking | recommendations",
           2492
          ],
          [
           15,
           "3d | object | point | segmentation | depth",
           2330
          ],
          [
           16,
           "molecular | protein | drug | molecules | chemical",
           2281
          ],
          [
           17,
           "graph | node | graphs | gnns | nodes",
           2276
          ],
          [
           18,
           "channel | wireless | communication | radio | resource",
           2051
          ],
          [
           19,
           "ensemble | classification | uncertainty | class | label",
           2029
          ],
          [
           20,
           "series | time | forecasting | stock | market",
           1982
          ],
          [
           21,
           "equations | differential | physics | pdes | equation",
           1938
          ],
          [
           22,
           "gaussian | variational | posterior | gp | bayesian",
           1885
          ],
          [
           23,
           "eeg | sleep | signals | ecg | activity",
           1877
          ],
          [
           24,
           "patients | patient | health | clinical | covid",
           1844
          ],
          [
           25,
           "federated | fl | clients | privacy | client",
           1709
          ],
          [
           26,
           "visual | image | video | text | vqa",
           1474
          ],
          [
           27,
           "clustering | clusters | means | cluster | manifold",
           1389
          ],
          [
           28,
           "problems | search | solutions | solution | instances",
           1356
          ],
          [
           29,
           "driving | autonomous | vehicle | vehicles | trajectory",
           1256
          ],
          [
           30,
           "climate | satellite | weather | images | imagery",
           1255
          ],
          [
           31,
           "quantum | classical | circuits | states | circuit",
           1196
          ],
          [
           32,
           "privacy | private | differential | dp | differentially",
           1182
          ],
          [
           33,
           "game | agent | agents | games | marl",
           1140
          ],
          [
           34,
           "fairness | fair | bias | groups | discrimination",
           1129
          ],
          [
           35,
           "energy | power | load | forecasting | electricity",
           1115
          ],
          [
           36,
           "physics | galaxy | gravitational | particle | galaxies",
           984
          ],
          [
           37,
           "program | programs | source | language | bug",
           938
          ],
          [
           38,
           "traffic | temporal | spatial | travel | prediction",
           918
          ],
          [
           39,
           "domain | adaptation | target | source | domains",
           890
          ],
          [
           40,
           "meta | shot | tasks | classes | task",
           837
          ],
          [
           41,
           "bo | bayesian | function | objective | acquisition",
           828
          ],
          [
           42,
           "community | communities | block | clustering | nodes",
           820
          ],
          [
           43,
           "spiking | snns | neuromorphic | snn | spike",
           698
          ],
          [
           44,
           "continual | forgetting | catastrophic | tasks | incremental",
           674
          ],
          [
           45,
           "cognitive | human | consciousness | turing | brain",
           660
          ],
          [
           46,
           "distributed | communication | convergence | decentralized | gradient",
           634
          ],
          [
           47,
           "brain | fmri | functional | disease | neuroimaging",
           551
          ],
          [
           48,
           "video | action | motion | temporal | videos",
           540
          ]
         ],
         "hovertemplate": "<b>Topic %{customdata[0]}</b><br>Words: %{customdata[1]}<br>Size: %{customdata[2]}",
         "legendgroup": "",
         "marker": {
          "color": "#B0BEC5",
          "line": {
           "color": "DarkSlateGrey",
           "width": 2
          },
          "size": [
           10973,
           7056,
           4793,
           4682,
           4282,
           4226,
           4032,
           3375,
           3149,
           3148,
           3019,
           2897,
           2863,
           2771,
           2492,
           2330,
           2281,
           2276,
           2051,
           2029,
           1982,
           1938,
           1885,
           1877,
           1844,
           1709,
           1474,
           1389,
           1356,
           1256,
           1255,
           1196,
           1182,
           1140,
           1129,
           1115,
           984,
           938,
           918,
           890,
           837,
           828,
           820,
           698,
           674,
           660,
           634,
           551,
           540
          ],
          "sizemode": "area",
          "sizeref": 6.858125,
          "symbol": "circle"
         },
         "mode": "markers",
         "name": "",
         "orientation": "v",
         "showlegend": false,
         "type": "scatter",
         "x": [
          -8.010787010192871,
          4.530330181121826,
          11.334596633911133,
          9.292574882507324,
          12.870428085327148,
          11.401129722595215,
          -7.818854331970215,
          -5.442465305328369,
          17.892017364501953,
          11.310892105102539,
          11.136399269104004,
          9.37039566040039,
          17.450105667114258,
          -9.693836212158203,
          -6.424155235290527,
          -6.885170936584473,
          12.973869323730469,
          -6.621399402618408,
          11.819098472595215,
          -6.869213104248047,
          5.291131019592285,
          17.815839767456055,
          17.831350326538086,
          12.457273483276367,
          12.901114463806152,
          11.664726257324219,
          -7.564225196838379,
          16.10104751586914,
          17.474559783935547,
          4.9194536209106445,
          5.384200096130371,
          -4.928211212158203,
          11.285134315490723,
          4.72317361831665,
          9.836923599243164,
          5.417942523956299,
          -4.775378227233887,
          -9.695086479187012,
          5.072579860687256,
          -6.777823448181152,
          -6.6546454429626465,
          17.614299774169922,
          16.2019100189209,
          -5.4229512214660645,
          -5.872060775756836,
          9.126811981201172,
          11.197179794311523,
          12.364239692687988,
          -6.75175666809082
         ],
         "xaxis": "x",
         "y": [
          1.3002530336380005,
          11.01780891418457,
          14.38858413696289,
          16.149192810058594,
          6.043196678161621,
          14.31169605255127,
          1.1585603952407837,
          1.051131010055542,
          -4.513960838317871,
          15.74926471710205,
          15.596110343933105,
          16.19471549987793,
          -4.300891876220703,
          9.252708435058594,
          1.2026193141937256,
          0.7950011491775513,
          6.14768648147583,
          1.3301206827163696,
          15.37519645690918,
          2.3310000896453857,
          9.635660171508789,
          -4.508065700531006,
          -4.600423336029053,
          6.417253017425537,
          6.183905124664307,
          15.465804100036621,
          1.3814808130264282,
          10.50411319732666,
          -5.088485240936279,
          10.574893951416016,
          9.648430824279785,
          0.9508077502250671,
          15.679187774658203,
          10.821455001831055,
          16.006568908691406,
          9.596467971801758,
          0.8388748168945312,
          9.252639770507812,
          10.273619651794434,
          2.1865859031677246,
          1.3243669271469116,
          -4.923370361328125,
          10.405439376831055,
          1.017281413078308,
          1.1774120330810547,
          16.171184539794922,
          14.790083885192871,
          6.460751533508301,
          0.9427199959754944
         ],
         "yaxis": "y"
        }
       ],
       "layout": {
        "annotations": [
         {
          "showarrow": false,
          "text": "D1",
          "x": -11.149349451065063,
          "y": 6.386082398891449,
          "yshift": 10
         },
         {
          "showarrow": false,
          "text": "D2",
          "x": 4.713235259056091,
          "xshift": 10,
          "y": 18.62392282485962
         }
        ],
        "height": 650,
        "hoverlabel": {
         "bgcolor": "white",
         "font": {
          "family": "Rockwell",
          "size": 16
         }
        },
        "legend": {
         "itemsizing": "constant",
         "tracegroupgap": 0
        },
        "margin": {
         "t": 60
        },
        "shapes": [
         {
          "line": {
           "color": "#CFD8DC",
           "width": 2
          },
          "type": "line",
          "x0": 4.713235259056091,
          "x1": 4.713235259056091,
          "y0": -5.8517580270767215,
          "y1": 18.62392282485962
         },
         {
          "line": {
           "color": "#9E9E9E",
           "width": 2
          },
          "type": "line",
          "x0": -11.149349451065063,
          "x1": 20.575819969177246,
          "y0": 6.386082398891449,
          "y1": 6.386082398891449
         }
        ],
        "sliders": [
         {
          "active": 0,
          "pad": {
           "t": 50
          },
          "steps": [
           {
            "args": [
             {
              "marker.color": [
               [
                "red",
                "#B0BEC5",
                "#B0BEC5",
                "#B0BEC5",
                "#B0BEC5",
                "#B0BEC5",
                "#B0BEC5",
                "#B0BEC5",
                "#B0BEC5",
                "#B0BEC5",
                "#B0BEC5",
                "#B0BEC5",
                "#B0BEC5",
                "#B0BEC5",
                "#B0BEC5",
                "#B0BEC5",
                "#B0BEC5",
                "#B0BEC5",
                "#B0BEC5",
                "#B0BEC5",
                "#B0BEC5",
                "#B0BEC5",
                "#B0BEC5",
                "#B0BEC5",
                "#B0BEC5",
                "#B0BEC5",
                "#B0BEC5",
                "#B0BEC5",
                "#B0BEC5",
                "#B0BEC5",
                "#B0BEC5",
                "#B0BEC5",
                "#B0BEC5",
                "#B0BEC5",
                "#B0BEC5",
                "#B0BEC5",
                "#B0BEC5",
                "#B0BEC5",
                "#B0BEC5",
                "#B0BEC5",
                "#B0BEC5",
                "#B0BEC5",
                "#B0BEC5",
                "#B0BEC5",
                "#B0BEC5",
                "#B0BEC5",
                "#B0BEC5",
                "#B0BEC5",
                "#B0BEC5"
               ]
              ]
             }
            ],
            "label": "Topic 0",
            "method": "update"
           },
           {
            "args": [
             {
              "marker.color": [
               [
                "#B0BEC5",
                "red",
                "#B0BEC5",
                "#B0BEC5",
                "#B0BEC5",
                "#B0BEC5",
                "#B0BEC5",
                "#B0BEC5",
                "#B0BEC5",
                "#B0BEC5",
                "#B0BEC5",
                "#B0BEC5",
                "#B0BEC5",
                "#B0BEC5",
                "#B0BEC5",
                "#B0BEC5",
                "#B0BEC5",
                "#B0BEC5",
                "#B0BEC5",
                "#B0BEC5",
                "#B0BEC5",
                "#B0BEC5",
                "#B0BEC5",
                "#B0BEC5",
                "#B0BEC5",
                "#B0BEC5",
                "#B0BEC5",
                "#B0BEC5",
                "#B0BEC5",
                "#B0BEC5",
                "#B0BEC5",
                "#B0BEC5",
                "#B0BEC5",
                "#B0BEC5",
                "#B0BEC5",
                "#B0BEC5",
                "#B0BEC5",
                "#B0BEC5",
                "#B0BEC5",
                "#B0BEC5",
                "#B0BEC5",
                "#B0BEC5",
                "#B0BEC5",
                "#B0BEC5",
                "#B0BEC5",
                "#B0BEC5",
                "#B0BEC5",
                "#B0BEC5",
                "#B0BEC5"
               ]
              ]
             }
            ],
            "label": "Topic 1",
            "method": "update"
           },
           {
            "args": [
             {
              "marker.color": [
               [
                "#B0BEC5",
                "#B0BEC5",
                "red",
                "#B0BEC5",
                "#B0BEC5",
                "#B0BEC5",
                "#B0BEC5",
                "#B0BEC5",
                "#B0BEC5",
                "#B0BEC5",
                "#B0BEC5",
                "#B0BEC5",
                "#B0BEC5",
                "#B0BEC5",
                "#B0BEC5",
                "#B0BEC5",
                "#B0BEC5",
                "#B0BEC5",
                "#B0BEC5",
                "#B0BEC5",
                "#B0BEC5",
                "#B0BEC5",
                "#B0BEC5",
                "#B0BEC5",
                "#B0BEC5",
                "#B0BEC5",
                "#B0BEC5",
                "#B0BEC5",
                "#B0BEC5",
                "#B0BEC5",
                "#B0BEC5",
                "#B0BEC5",
                "#B0BEC5",
                "#B0BEC5",
                "#B0BEC5",
                "#B0BEC5",
                "#B0BEC5",
                "#B0BEC5",
                "#B0BEC5",
                "#B0BEC5",
                "#B0BEC5",
                "#B0BEC5",
                "#B0BEC5",
                "#B0BEC5",
                "#B0BEC5",
                "#B0BEC5",
                "#B0BEC5",
                "#B0BEC5",
                "#B0BEC5"
               ]
              ]
             }
            ],
            "label": "Topic 2",
            "method": "update"
           },
           {
            "args": [
             {
              "marker.color": [
               [
                "#B0BEC5",
                "#B0BEC5",
                "#B0BEC5",
                "red",
                "#B0BEC5",
                "#B0BEC5",
                "#B0BEC5",
                "#B0BEC5",
                "#B0BEC5",
                "#B0BEC5",
                "#B0BEC5",
                "#B0BEC5",
                "#B0BEC5",
                "#B0BEC5",
                "#B0BEC5",
                "#B0BEC5",
                "#B0BEC5",
                "#B0BEC5",
                "#B0BEC5",
                "#B0BEC5",
                "#B0BEC5",
                "#B0BEC5",
                "#B0BEC5",
                "#B0BEC5",
                "#B0BEC5",
                "#B0BEC5",
                "#B0BEC5",
                "#B0BEC5",
                "#B0BEC5",
                "#B0BEC5",
                "#B0BEC5",
                "#B0BEC5",
                "#B0BEC5",
                "#B0BEC5",
                "#B0BEC5",
                "#B0BEC5",
                "#B0BEC5",
                "#B0BEC5",
                "#B0BEC5",
                "#B0BEC5",
                "#B0BEC5",
                "#B0BEC5",
                "#B0BEC5",
                "#B0BEC5",
                "#B0BEC5",
                "#B0BEC5",
                "#B0BEC5",
                "#B0BEC5",
                "#B0BEC5"
               ]
              ]
             }
            ],
            "label": "Topic 3",
            "method": "update"
           },
           {
            "args": [
             {
              "marker.color": [
               [
                "#B0BEC5",
                "#B0BEC5",
                "#B0BEC5",
                "#B0BEC5",
                "red",
                "#B0BEC5",
                "#B0BEC5",
                "#B0BEC5",
                "#B0BEC5",
                "#B0BEC5",
                "#B0BEC5",
                "#B0BEC5",
                "#B0BEC5",
                "#B0BEC5",
                "#B0BEC5",
                "#B0BEC5",
                "#B0BEC5",
                "#B0BEC5",
                "#B0BEC5",
                "#B0BEC5",
                "#B0BEC5",
                "#B0BEC5",
                "#B0BEC5",
                "#B0BEC5",
                "#B0BEC5",
                "#B0BEC5",
                "#B0BEC5",
                "#B0BEC5",
                "#B0BEC5",
                "#B0BEC5",
                "#B0BEC5",
                "#B0BEC5",
                "#B0BEC5",
                "#B0BEC5",
                "#B0BEC5",
                "#B0BEC5",
                "#B0BEC5",
                "#B0BEC5",
                "#B0BEC5",
                "#B0BEC5",
                "#B0BEC5",
                "#B0BEC5",
                "#B0BEC5",
                "#B0BEC5",
                "#B0BEC5",
                "#B0BEC5",
                "#B0BEC5",
                "#B0BEC5",
                "#B0BEC5"
               ]
              ]
             }
            ],
            "label": "Topic 4",
            "method": "update"
           },
           {
            "args": [
             {
              "marker.color": [
               [
                "#B0BEC5",
                "#B0BEC5",
                "#B0BEC5",
                "#B0BEC5",
                "#B0BEC5",
                "red",
                "#B0BEC5",
                "#B0BEC5",
                "#B0BEC5",
                "#B0BEC5",
                "#B0BEC5",
                "#B0BEC5",
                "#B0BEC5",
                "#B0BEC5",
                "#B0BEC5",
                "#B0BEC5",
                "#B0BEC5",
                "#B0BEC5",
                "#B0BEC5",
                "#B0BEC5",
                "#B0BEC5",
                "#B0BEC5",
                "#B0BEC5",
                "#B0BEC5",
                "#B0BEC5",
                "#B0BEC5",
                "#B0BEC5",
                "#B0BEC5",
                "#B0BEC5",
                "#B0BEC5",
                "#B0BEC5",
                "#B0BEC5",
                "#B0BEC5",
                "#B0BEC5",
                "#B0BEC5",
                "#B0BEC5",
                "#B0BEC5",
                "#B0BEC5",
                "#B0BEC5",
                "#B0BEC5",
                "#B0BEC5",
                "#B0BEC5",
                "#B0BEC5",
                "#B0BEC5",
                "#B0BEC5",
                "#B0BEC5",
                "#B0BEC5",
                "#B0BEC5",
                "#B0BEC5"
               ]
              ]
             }
            ],
            "label": "Topic 5",
            "method": "update"
           },
           {
            "args": [
             {
              "marker.color": [
               [
                "#B0BEC5",
                "#B0BEC5",
                "#B0BEC5",
                "#B0BEC5",
                "#B0BEC5",
                "#B0BEC5",
                "red",
                "#B0BEC5",
                "#B0BEC5",
                "#B0BEC5",
                "#B0BEC5",
                "#B0BEC5",
                "#B0BEC5",
                "#B0BEC5",
                "#B0BEC5",
                "#B0BEC5",
                "#B0BEC5",
                "#B0BEC5",
                "#B0BEC5",
                "#B0BEC5",
                "#B0BEC5",
                "#B0BEC5",
                "#B0BEC5",
                "#B0BEC5",
                "#B0BEC5",
                "#B0BEC5",
                "#B0BEC5",
                "#B0BEC5",
                "#B0BEC5",
                "#B0BEC5",
                "#B0BEC5",
                "#B0BEC5",
                "#B0BEC5",
                "#B0BEC5",
                "#B0BEC5",
                "#B0BEC5",
                "#B0BEC5",
                "#B0BEC5",
                "#B0BEC5",
                "#B0BEC5",
                "#B0BEC5",
                "#B0BEC5",
                "#B0BEC5",
                "#B0BEC5",
                "#B0BEC5",
                "#B0BEC5",
                "#B0BEC5",
                "#B0BEC5",
                "#B0BEC5"
               ]
              ]
             }
            ],
            "label": "Topic 6",
            "method": "update"
           },
           {
            "args": [
             {
              "marker.color": [
               [
                "#B0BEC5",
                "#B0BEC5",
                "#B0BEC5",
                "#B0BEC5",
                "#B0BEC5",
                "#B0BEC5",
                "#B0BEC5",
                "red",
                "#B0BEC5",
                "#B0BEC5",
                "#B0BEC5",
                "#B0BEC5",
                "#B0BEC5",
                "#B0BEC5",
                "#B0BEC5",
                "#B0BEC5",
                "#B0BEC5",
                "#B0BEC5",
                "#B0BEC5",
                "#B0BEC5",
                "#B0BEC5",
                "#B0BEC5",
                "#B0BEC5",
                "#B0BEC5",
                "#B0BEC5",
                "#B0BEC5",
                "#B0BEC5",
                "#B0BEC5",
                "#B0BEC5",
                "#B0BEC5",
                "#B0BEC5",
                "#B0BEC5",
                "#B0BEC5",
                "#B0BEC5",
                "#B0BEC5",
                "#B0BEC5",
                "#B0BEC5",
                "#B0BEC5",
                "#B0BEC5",
                "#B0BEC5",
                "#B0BEC5",
                "#B0BEC5",
                "#B0BEC5",
                "#B0BEC5",
                "#B0BEC5",
                "#B0BEC5",
                "#B0BEC5",
                "#B0BEC5",
                "#B0BEC5"
               ]
              ]
             }
            ],
            "label": "Topic 7",
            "method": "update"
           },
           {
            "args": [
             {
              "marker.color": [
               [
                "#B0BEC5",
                "#B0BEC5",
                "#B0BEC5",
                "#B0BEC5",
                "#B0BEC5",
                "#B0BEC5",
                "#B0BEC5",
                "#B0BEC5",
                "red",
                "#B0BEC5",
                "#B0BEC5",
                "#B0BEC5",
                "#B0BEC5",
                "#B0BEC5",
                "#B0BEC5",
                "#B0BEC5",
                "#B0BEC5",
                "#B0BEC5",
                "#B0BEC5",
                "#B0BEC5",
                "#B0BEC5",
                "#B0BEC5",
                "#B0BEC5",
                "#B0BEC5",
                "#B0BEC5",
                "#B0BEC5",
                "#B0BEC5",
                "#B0BEC5",
                "#B0BEC5",
                "#B0BEC5",
                "#B0BEC5",
                "#B0BEC5",
                "#B0BEC5",
                "#B0BEC5",
                "#B0BEC5",
                "#B0BEC5",
                "#B0BEC5",
                "#B0BEC5",
                "#B0BEC5",
                "#B0BEC5",
                "#B0BEC5",
                "#B0BEC5",
                "#B0BEC5",
                "#B0BEC5",
                "#B0BEC5",
                "#B0BEC5",
                "#B0BEC5",
                "#B0BEC5",
                "#B0BEC5"
               ]
              ]
             }
            ],
            "label": "Topic 8",
            "method": "update"
           },
           {
            "args": [
             {
              "marker.color": [
               [
                "#B0BEC5",
                "#B0BEC5",
                "#B0BEC5",
                "#B0BEC5",
                "#B0BEC5",
                "#B0BEC5",
                "#B0BEC5",
                "#B0BEC5",
                "#B0BEC5",
                "red",
                "#B0BEC5",
                "#B0BEC5",
                "#B0BEC5",
                "#B0BEC5",
                "#B0BEC5",
                "#B0BEC5",
                "#B0BEC5",
                "#B0BEC5",
                "#B0BEC5",
                "#B0BEC5",
                "#B0BEC5",
                "#B0BEC5",
                "#B0BEC5",
                "#B0BEC5",
                "#B0BEC5",
                "#B0BEC5",
                "#B0BEC5",
                "#B0BEC5",
                "#B0BEC5",
                "#B0BEC5",
                "#B0BEC5",
                "#B0BEC5",
                "#B0BEC5",
                "#B0BEC5",
                "#B0BEC5",
                "#B0BEC5",
                "#B0BEC5",
                "#B0BEC5",
                "#B0BEC5",
                "#B0BEC5",
                "#B0BEC5",
                "#B0BEC5",
                "#B0BEC5",
                "#B0BEC5",
                "#B0BEC5",
                "#B0BEC5",
                "#B0BEC5",
                "#B0BEC5",
                "#B0BEC5"
               ]
              ]
             }
            ],
            "label": "Topic 9",
            "method": "update"
           },
           {
            "args": [
             {
              "marker.color": [
               [
                "#B0BEC5",
                "#B0BEC5",
                "#B0BEC5",
                "#B0BEC5",
                "#B0BEC5",
                "#B0BEC5",
                "#B0BEC5",
                "#B0BEC5",
                "#B0BEC5",
                "#B0BEC5",
                "red",
                "#B0BEC5",
                "#B0BEC5",
                "#B0BEC5",
                "#B0BEC5",
                "#B0BEC5",
                "#B0BEC5",
                "#B0BEC5",
                "#B0BEC5",
                "#B0BEC5",
                "#B0BEC5",
                "#B0BEC5",
                "#B0BEC5",
                "#B0BEC5",
                "#B0BEC5",
                "#B0BEC5",
                "#B0BEC5",
                "#B0BEC5",
                "#B0BEC5",
                "#B0BEC5",
                "#B0BEC5",
                "#B0BEC5",
                "#B0BEC5",
                "#B0BEC5",
                "#B0BEC5",
                "#B0BEC5",
                "#B0BEC5",
                "#B0BEC5",
                "#B0BEC5",
                "#B0BEC5",
                "#B0BEC5",
                "#B0BEC5",
                "#B0BEC5",
                "#B0BEC5",
                "#B0BEC5",
                "#B0BEC5",
                "#B0BEC5",
                "#B0BEC5",
                "#B0BEC5"
               ]
              ]
             }
            ],
            "label": "Topic 10",
            "method": "update"
           },
           {
            "args": [
             {
              "marker.color": [
               [
                "#B0BEC5",
                "#B0BEC5",
                "#B0BEC5",
                "#B0BEC5",
                "#B0BEC5",
                "#B0BEC5",
                "#B0BEC5",
                "#B0BEC5",
                "#B0BEC5",
                "#B0BEC5",
                "#B0BEC5",
                "red",
                "#B0BEC5",
                "#B0BEC5",
                "#B0BEC5",
                "#B0BEC5",
                "#B0BEC5",
                "#B0BEC5",
                "#B0BEC5",
                "#B0BEC5",
                "#B0BEC5",
                "#B0BEC5",
                "#B0BEC5",
                "#B0BEC5",
                "#B0BEC5",
                "#B0BEC5",
                "#B0BEC5",
                "#B0BEC5",
                "#B0BEC5",
                "#B0BEC5",
                "#B0BEC5",
                "#B0BEC5",
                "#B0BEC5",
                "#B0BEC5",
                "#B0BEC5",
                "#B0BEC5",
                "#B0BEC5",
                "#B0BEC5",
                "#B0BEC5",
                "#B0BEC5",
                "#B0BEC5",
                "#B0BEC5",
                "#B0BEC5",
                "#B0BEC5",
                "#B0BEC5",
                "#B0BEC5",
                "#B0BEC5",
                "#B0BEC5",
                "#B0BEC5"
               ]
              ]
             }
            ],
            "label": "Topic 11",
            "method": "update"
           },
           {
            "args": [
             {
              "marker.color": [
               [
                "#B0BEC5",
                "#B0BEC5",
                "#B0BEC5",
                "#B0BEC5",
                "#B0BEC5",
                "#B0BEC5",
                "#B0BEC5",
                "#B0BEC5",
                "#B0BEC5",
                "#B0BEC5",
                "#B0BEC5",
                "#B0BEC5",
                "red",
                "#B0BEC5",
                "#B0BEC5",
                "#B0BEC5",
                "#B0BEC5",
                "#B0BEC5",
                "#B0BEC5",
                "#B0BEC5",
                "#B0BEC5",
                "#B0BEC5",
                "#B0BEC5",
                "#B0BEC5",
                "#B0BEC5",
                "#B0BEC5",
                "#B0BEC5",
                "#B0BEC5",
                "#B0BEC5",
                "#B0BEC5",
                "#B0BEC5",
                "#B0BEC5",
                "#B0BEC5",
                "#B0BEC5",
                "#B0BEC5",
                "#B0BEC5",
                "#B0BEC5",
                "#B0BEC5",
                "#B0BEC5",
                "#B0BEC5",
                "#B0BEC5",
                "#B0BEC5",
                "#B0BEC5",
                "#B0BEC5",
                "#B0BEC5",
                "#B0BEC5",
                "#B0BEC5",
                "#B0BEC5",
                "#B0BEC5"
               ]
              ]
             }
            ],
            "label": "Topic 12",
            "method": "update"
           },
           {
            "args": [
             {
              "marker.color": [
               [
                "#B0BEC5",
                "#B0BEC5",
                "#B0BEC5",
                "#B0BEC5",
                "#B0BEC5",
                "#B0BEC5",
                "#B0BEC5",
                "#B0BEC5",
                "#B0BEC5",
                "#B0BEC5",
                "#B0BEC5",
                "#B0BEC5",
                "#B0BEC5",
                "red",
                "#B0BEC5",
                "#B0BEC5",
                "#B0BEC5",
                "#B0BEC5",
                "#B0BEC5",
                "#B0BEC5",
                "#B0BEC5",
                "#B0BEC5",
                "#B0BEC5",
                "#B0BEC5",
                "#B0BEC5",
                "#B0BEC5",
                "#B0BEC5",
                "#B0BEC5",
                "#B0BEC5",
                "#B0BEC5",
                "#B0BEC5",
                "#B0BEC5",
                "#B0BEC5",
                "#B0BEC5",
                "#B0BEC5",
                "#B0BEC5",
                "#B0BEC5",
                "#B0BEC5",
                "#B0BEC5",
                "#B0BEC5",
                "#B0BEC5",
                "#B0BEC5",
                "#B0BEC5",
                "#B0BEC5",
                "#B0BEC5",
                "#B0BEC5",
                "#B0BEC5",
                "#B0BEC5",
                "#B0BEC5"
               ]
              ]
             }
            ],
            "label": "Topic 13",
            "method": "update"
           },
           {
            "args": [
             {
              "marker.color": [
               [
                "#B0BEC5",
                "#B0BEC5",
                "#B0BEC5",
                "#B0BEC5",
                "#B0BEC5",
                "#B0BEC5",
                "#B0BEC5",
                "#B0BEC5",
                "#B0BEC5",
                "#B0BEC5",
                "#B0BEC5",
                "#B0BEC5",
                "#B0BEC5",
                "#B0BEC5",
                "red",
                "#B0BEC5",
                "#B0BEC5",
                "#B0BEC5",
                "#B0BEC5",
                "#B0BEC5",
                "#B0BEC5",
                "#B0BEC5",
                "#B0BEC5",
                "#B0BEC5",
                "#B0BEC5",
                "#B0BEC5",
                "#B0BEC5",
                "#B0BEC5",
                "#B0BEC5",
                "#B0BEC5",
                "#B0BEC5",
                "#B0BEC5",
                "#B0BEC5",
                "#B0BEC5",
                "#B0BEC5",
                "#B0BEC5",
                "#B0BEC5",
                "#B0BEC5",
                "#B0BEC5",
                "#B0BEC5",
                "#B0BEC5",
                "#B0BEC5",
                "#B0BEC5",
                "#B0BEC5",
                "#B0BEC5",
                "#B0BEC5",
                "#B0BEC5",
                "#B0BEC5",
                "#B0BEC5"
               ]
              ]
             }
            ],
            "label": "Topic 14",
            "method": "update"
           },
           {
            "args": [
             {
              "marker.color": [
               [
                "#B0BEC5",
                "#B0BEC5",
                "#B0BEC5",
                "#B0BEC5",
                "#B0BEC5",
                "#B0BEC5",
                "#B0BEC5",
                "#B0BEC5",
                "#B0BEC5",
                "#B0BEC5",
                "#B0BEC5",
                "#B0BEC5",
                "#B0BEC5",
                "#B0BEC5",
                "#B0BEC5",
                "red",
                "#B0BEC5",
                "#B0BEC5",
                "#B0BEC5",
                "#B0BEC5",
                "#B0BEC5",
                "#B0BEC5",
                "#B0BEC5",
                "#B0BEC5",
                "#B0BEC5",
                "#B0BEC5",
                "#B0BEC5",
                "#B0BEC5",
                "#B0BEC5",
                "#B0BEC5",
                "#B0BEC5",
                "#B0BEC5",
                "#B0BEC5",
                "#B0BEC5",
                "#B0BEC5",
                "#B0BEC5",
                "#B0BEC5",
                "#B0BEC5",
                "#B0BEC5",
                "#B0BEC5",
                "#B0BEC5",
                "#B0BEC5",
                "#B0BEC5",
                "#B0BEC5",
                "#B0BEC5",
                "#B0BEC5",
                "#B0BEC5",
                "#B0BEC5",
                "#B0BEC5"
               ]
              ]
             }
            ],
            "label": "Topic 15",
            "method": "update"
           },
           {
            "args": [
             {
              "marker.color": [
               [
                "#B0BEC5",
                "#B0BEC5",
                "#B0BEC5",
                "#B0BEC5",
                "#B0BEC5",
                "#B0BEC5",
                "#B0BEC5",
                "#B0BEC5",
                "#B0BEC5",
                "#B0BEC5",
                "#B0BEC5",
                "#B0BEC5",
                "#B0BEC5",
                "#B0BEC5",
                "#B0BEC5",
                "#B0BEC5",
                "red",
                "#B0BEC5",
                "#B0BEC5",
                "#B0BEC5",
                "#B0BEC5",
                "#B0BEC5",
                "#B0BEC5",
                "#B0BEC5",
                "#B0BEC5",
                "#B0BEC5",
                "#B0BEC5",
                "#B0BEC5",
                "#B0BEC5",
                "#B0BEC5",
                "#B0BEC5",
                "#B0BEC5",
                "#B0BEC5",
                "#B0BEC5",
                "#B0BEC5",
                "#B0BEC5",
                "#B0BEC5",
                "#B0BEC5",
                "#B0BEC5",
                "#B0BEC5",
                "#B0BEC5",
                "#B0BEC5",
                "#B0BEC5",
                "#B0BEC5",
                "#B0BEC5",
                "#B0BEC5",
                "#B0BEC5",
                "#B0BEC5",
                "#B0BEC5"
               ]
              ]
             }
            ],
            "label": "Topic 16",
            "method": "update"
           },
           {
            "args": [
             {
              "marker.color": [
               [
                "#B0BEC5",
                "#B0BEC5",
                "#B0BEC5",
                "#B0BEC5",
                "#B0BEC5",
                "#B0BEC5",
                "#B0BEC5",
                "#B0BEC5",
                "#B0BEC5",
                "#B0BEC5",
                "#B0BEC5",
                "#B0BEC5",
                "#B0BEC5",
                "#B0BEC5",
                "#B0BEC5",
                "#B0BEC5",
                "#B0BEC5",
                "red",
                "#B0BEC5",
                "#B0BEC5",
                "#B0BEC5",
                "#B0BEC5",
                "#B0BEC5",
                "#B0BEC5",
                "#B0BEC5",
                "#B0BEC5",
                "#B0BEC5",
                "#B0BEC5",
                "#B0BEC5",
                "#B0BEC5",
                "#B0BEC5",
                "#B0BEC5",
                "#B0BEC5",
                "#B0BEC5",
                "#B0BEC5",
                "#B0BEC5",
                "#B0BEC5",
                "#B0BEC5",
                "#B0BEC5",
                "#B0BEC5",
                "#B0BEC5",
                "#B0BEC5",
                "#B0BEC5",
                "#B0BEC5",
                "#B0BEC5",
                "#B0BEC5",
                "#B0BEC5",
                "#B0BEC5",
                "#B0BEC5"
               ]
              ]
             }
            ],
            "label": "Topic 17",
            "method": "update"
           },
           {
            "args": [
             {
              "marker.color": [
               [
                "#B0BEC5",
                "#B0BEC5",
                "#B0BEC5",
                "#B0BEC5",
                "#B0BEC5",
                "#B0BEC5",
                "#B0BEC5",
                "#B0BEC5",
                "#B0BEC5",
                "#B0BEC5",
                "#B0BEC5",
                "#B0BEC5",
                "#B0BEC5",
                "#B0BEC5",
                "#B0BEC5",
                "#B0BEC5",
                "#B0BEC5",
                "#B0BEC5",
                "red",
                "#B0BEC5",
                "#B0BEC5",
                "#B0BEC5",
                "#B0BEC5",
                "#B0BEC5",
                "#B0BEC5",
                "#B0BEC5",
                "#B0BEC5",
                "#B0BEC5",
                "#B0BEC5",
                "#B0BEC5",
                "#B0BEC5",
                "#B0BEC5",
                "#B0BEC5",
                "#B0BEC5",
                "#B0BEC5",
                "#B0BEC5",
                "#B0BEC5",
                "#B0BEC5",
                "#B0BEC5",
                "#B0BEC5",
                "#B0BEC5",
                "#B0BEC5",
                "#B0BEC5",
                "#B0BEC5",
                "#B0BEC5",
                "#B0BEC5",
                "#B0BEC5",
                "#B0BEC5",
                "#B0BEC5"
               ]
              ]
             }
            ],
            "label": "Topic 18",
            "method": "update"
           },
           {
            "args": [
             {
              "marker.color": [
               [
                "#B0BEC5",
                "#B0BEC5",
                "#B0BEC5",
                "#B0BEC5",
                "#B0BEC5",
                "#B0BEC5",
                "#B0BEC5",
                "#B0BEC5",
                "#B0BEC5",
                "#B0BEC5",
                "#B0BEC5",
                "#B0BEC5",
                "#B0BEC5",
                "#B0BEC5",
                "#B0BEC5",
                "#B0BEC5",
                "#B0BEC5",
                "#B0BEC5",
                "#B0BEC5",
                "red",
                "#B0BEC5",
                "#B0BEC5",
                "#B0BEC5",
                "#B0BEC5",
                "#B0BEC5",
                "#B0BEC5",
                "#B0BEC5",
                "#B0BEC5",
                "#B0BEC5",
                "#B0BEC5",
                "#B0BEC5",
                "#B0BEC5",
                "#B0BEC5",
                "#B0BEC5",
                "#B0BEC5",
                "#B0BEC5",
                "#B0BEC5",
                "#B0BEC5",
                "#B0BEC5",
                "#B0BEC5",
                "#B0BEC5",
                "#B0BEC5",
                "#B0BEC5",
                "#B0BEC5",
                "#B0BEC5",
                "#B0BEC5",
                "#B0BEC5",
                "#B0BEC5",
                "#B0BEC5"
               ]
              ]
             }
            ],
            "label": "Topic 19",
            "method": "update"
           },
           {
            "args": [
             {
              "marker.color": [
               [
                "#B0BEC5",
                "#B0BEC5",
                "#B0BEC5",
                "#B0BEC5",
                "#B0BEC5",
                "#B0BEC5",
                "#B0BEC5",
                "#B0BEC5",
                "#B0BEC5",
                "#B0BEC5",
                "#B0BEC5",
                "#B0BEC5",
                "#B0BEC5",
                "#B0BEC5",
                "#B0BEC5",
                "#B0BEC5",
                "#B0BEC5",
                "#B0BEC5",
                "#B0BEC5",
                "#B0BEC5",
                "red",
                "#B0BEC5",
                "#B0BEC5",
                "#B0BEC5",
                "#B0BEC5",
                "#B0BEC5",
                "#B0BEC5",
                "#B0BEC5",
                "#B0BEC5",
                "#B0BEC5",
                "#B0BEC5",
                "#B0BEC5",
                "#B0BEC5",
                "#B0BEC5",
                "#B0BEC5",
                "#B0BEC5",
                "#B0BEC5",
                "#B0BEC5",
                "#B0BEC5",
                "#B0BEC5",
                "#B0BEC5",
                "#B0BEC5",
                "#B0BEC5",
                "#B0BEC5",
                "#B0BEC5",
                "#B0BEC5",
                "#B0BEC5",
                "#B0BEC5",
                "#B0BEC5"
               ]
              ]
             }
            ],
            "label": "Topic 20",
            "method": "update"
           },
           {
            "args": [
             {
              "marker.color": [
               [
                "#B0BEC5",
                "#B0BEC5",
                "#B0BEC5",
                "#B0BEC5",
                "#B0BEC5",
                "#B0BEC5",
                "#B0BEC5",
                "#B0BEC5",
                "#B0BEC5",
                "#B0BEC5",
                "#B0BEC5",
                "#B0BEC5",
                "#B0BEC5",
                "#B0BEC5",
                "#B0BEC5",
                "#B0BEC5",
                "#B0BEC5",
                "#B0BEC5",
                "#B0BEC5",
                "#B0BEC5",
                "#B0BEC5",
                "red",
                "#B0BEC5",
                "#B0BEC5",
                "#B0BEC5",
                "#B0BEC5",
                "#B0BEC5",
                "#B0BEC5",
                "#B0BEC5",
                "#B0BEC5",
                "#B0BEC5",
                "#B0BEC5",
                "#B0BEC5",
                "#B0BEC5",
                "#B0BEC5",
                "#B0BEC5",
                "#B0BEC5",
                "#B0BEC5",
                "#B0BEC5",
                "#B0BEC5",
                "#B0BEC5",
                "#B0BEC5",
                "#B0BEC5",
                "#B0BEC5",
                "#B0BEC5",
                "#B0BEC5",
                "#B0BEC5",
                "#B0BEC5",
                "#B0BEC5"
               ]
              ]
             }
            ],
            "label": "Topic 21",
            "method": "update"
           },
           {
            "args": [
             {
              "marker.color": [
               [
                "#B0BEC5",
                "#B0BEC5",
                "#B0BEC5",
                "#B0BEC5",
                "#B0BEC5",
                "#B0BEC5",
                "#B0BEC5",
                "#B0BEC5",
                "#B0BEC5",
                "#B0BEC5",
                "#B0BEC5",
                "#B0BEC5",
                "#B0BEC5",
                "#B0BEC5",
                "#B0BEC5",
                "#B0BEC5",
                "#B0BEC5",
                "#B0BEC5",
                "#B0BEC5",
                "#B0BEC5",
                "#B0BEC5",
                "#B0BEC5",
                "red",
                "#B0BEC5",
                "#B0BEC5",
                "#B0BEC5",
                "#B0BEC5",
                "#B0BEC5",
                "#B0BEC5",
                "#B0BEC5",
                "#B0BEC5",
                "#B0BEC5",
                "#B0BEC5",
                "#B0BEC5",
                "#B0BEC5",
                "#B0BEC5",
                "#B0BEC5",
                "#B0BEC5",
                "#B0BEC5",
                "#B0BEC5",
                "#B0BEC5",
                "#B0BEC5",
                "#B0BEC5",
                "#B0BEC5",
                "#B0BEC5",
                "#B0BEC5",
                "#B0BEC5",
                "#B0BEC5",
                "#B0BEC5"
               ]
              ]
             }
            ],
            "label": "Topic 22",
            "method": "update"
           },
           {
            "args": [
             {
              "marker.color": [
               [
                "#B0BEC5",
                "#B0BEC5",
                "#B0BEC5",
                "#B0BEC5",
                "#B0BEC5",
                "#B0BEC5",
                "#B0BEC5",
                "#B0BEC5",
                "#B0BEC5",
                "#B0BEC5",
                "#B0BEC5",
                "#B0BEC5",
                "#B0BEC5",
                "#B0BEC5",
                "#B0BEC5",
                "#B0BEC5",
                "#B0BEC5",
                "#B0BEC5",
                "#B0BEC5",
                "#B0BEC5",
                "#B0BEC5",
                "#B0BEC5",
                "#B0BEC5",
                "red",
                "#B0BEC5",
                "#B0BEC5",
                "#B0BEC5",
                "#B0BEC5",
                "#B0BEC5",
                "#B0BEC5",
                "#B0BEC5",
                "#B0BEC5",
                "#B0BEC5",
                "#B0BEC5",
                "#B0BEC5",
                "#B0BEC5",
                "#B0BEC5",
                "#B0BEC5",
                "#B0BEC5",
                "#B0BEC5",
                "#B0BEC5",
                "#B0BEC5",
                "#B0BEC5",
                "#B0BEC5",
                "#B0BEC5",
                "#B0BEC5",
                "#B0BEC5",
                "#B0BEC5",
                "#B0BEC5"
               ]
              ]
             }
            ],
            "label": "Topic 23",
            "method": "update"
           },
           {
            "args": [
             {
              "marker.color": [
               [
                "#B0BEC5",
                "#B0BEC5",
                "#B0BEC5",
                "#B0BEC5",
                "#B0BEC5",
                "#B0BEC5",
                "#B0BEC5",
                "#B0BEC5",
                "#B0BEC5",
                "#B0BEC5",
                "#B0BEC5",
                "#B0BEC5",
                "#B0BEC5",
                "#B0BEC5",
                "#B0BEC5",
                "#B0BEC5",
                "#B0BEC5",
                "#B0BEC5",
                "#B0BEC5",
                "#B0BEC5",
                "#B0BEC5",
                "#B0BEC5",
                "#B0BEC5",
                "#B0BEC5",
                "red",
                "#B0BEC5",
                "#B0BEC5",
                "#B0BEC5",
                "#B0BEC5",
                "#B0BEC5",
                "#B0BEC5",
                "#B0BEC5",
                "#B0BEC5",
                "#B0BEC5",
                "#B0BEC5",
                "#B0BEC5",
                "#B0BEC5",
                "#B0BEC5",
                "#B0BEC5",
                "#B0BEC5",
                "#B0BEC5",
                "#B0BEC5",
                "#B0BEC5",
                "#B0BEC5",
                "#B0BEC5",
                "#B0BEC5",
                "#B0BEC5",
                "#B0BEC5",
                "#B0BEC5"
               ]
              ]
             }
            ],
            "label": "Topic 24",
            "method": "update"
           },
           {
            "args": [
             {
              "marker.color": [
               [
                "#B0BEC5",
                "#B0BEC5",
                "#B0BEC5",
                "#B0BEC5",
                "#B0BEC5",
                "#B0BEC5",
                "#B0BEC5",
                "#B0BEC5",
                "#B0BEC5",
                "#B0BEC5",
                "#B0BEC5",
                "#B0BEC5",
                "#B0BEC5",
                "#B0BEC5",
                "#B0BEC5",
                "#B0BEC5",
                "#B0BEC5",
                "#B0BEC5",
                "#B0BEC5",
                "#B0BEC5",
                "#B0BEC5",
                "#B0BEC5",
                "#B0BEC5",
                "#B0BEC5",
                "#B0BEC5",
                "red",
                "#B0BEC5",
                "#B0BEC5",
                "#B0BEC5",
                "#B0BEC5",
                "#B0BEC5",
                "#B0BEC5",
                "#B0BEC5",
                "#B0BEC5",
                "#B0BEC5",
                "#B0BEC5",
                "#B0BEC5",
                "#B0BEC5",
                "#B0BEC5",
                "#B0BEC5",
                "#B0BEC5",
                "#B0BEC5",
                "#B0BEC5",
                "#B0BEC5",
                "#B0BEC5",
                "#B0BEC5",
                "#B0BEC5",
                "#B0BEC5",
                "#B0BEC5"
               ]
              ]
             }
            ],
            "label": "Topic 25",
            "method": "update"
           },
           {
            "args": [
             {
              "marker.color": [
               [
                "#B0BEC5",
                "#B0BEC5",
                "#B0BEC5",
                "#B0BEC5",
                "#B0BEC5",
                "#B0BEC5",
                "#B0BEC5",
                "#B0BEC5",
                "#B0BEC5",
                "#B0BEC5",
                "#B0BEC5",
                "#B0BEC5",
                "#B0BEC5",
                "#B0BEC5",
                "#B0BEC5",
                "#B0BEC5",
                "#B0BEC5",
                "#B0BEC5",
                "#B0BEC5",
                "#B0BEC5",
                "#B0BEC5",
                "#B0BEC5",
                "#B0BEC5",
                "#B0BEC5",
                "#B0BEC5",
                "#B0BEC5",
                "red",
                "#B0BEC5",
                "#B0BEC5",
                "#B0BEC5",
                "#B0BEC5",
                "#B0BEC5",
                "#B0BEC5",
                "#B0BEC5",
                "#B0BEC5",
                "#B0BEC5",
                "#B0BEC5",
                "#B0BEC5",
                "#B0BEC5",
                "#B0BEC5",
                "#B0BEC5",
                "#B0BEC5",
                "#B0BEC5",
                "#B0BEC5",
                "#B0BEC5",
                "#B0BEC5",
                "#B0BEC5",
                "#B0BEC5",
                "#B0BEC5"
               ]
              ]
             }
            ],
            "label": "Topic 26",
            "method": "update"
           },
           {
            "args": [
             {
              "marker.color": [
               [
                "#B0BEC5",
                "#B0BEC5",
                "#B0BEC5",
                "#B0BEC5",
                "#B0BEC5",
                "#B0BEC5",
                "#B0BEC5",
                "#B0BEC5",
                "#B0BEC5",
                "#B0BEC5",
                "#B0BEC5",
                "#B0BEC5",
                "#B0BEC5",
                "#B0BEC5",
                "#B0BEC5",
                "#B0BEC5",
                "#B0BEC5",
                "#B0BEC5",
                "#B0BEC5",
                "#B0BEC5",
                "#B0BEC5",
                "#B0BEC5",
                "#B0BEC5",
                "#B0BEC5",
                "#B0BEC5",
                "#B0BEC5",
                "#B0BEC5",
                "red",
                "#B0BEC5",
                "#B0BEC5",
                "#B0BEC5",
                "#B0BEC5",
                "#B0BEC5",
                "#B0BEC5",
                "#B0BEC5",
                "#B0BEC5",
                "#B0BEC5",
                "#B0BEC5",
                "#B0BEC5",
                "#B0BEC5",
                "#B0BEC5",
                "#B0BEC5",
                "#B0BEC5",
                "#B0BEC5",
                "#B0BEC5",
                "#B0BEC5",
                "#B0BEC5",
                "#B0BEC5",
                "#B0BEC5"
               ]
              ]
             }
            ],
            "label": "Topic 27",
            "method": "update"
           },
           {
            "args": [
             {
              "marker.color": [
               [
                "#B0BEC5",
                "#B0BEC5",
                "#B0BEC5",
                "#B0BEC5",
                "#B0BEC5",
                "#B0BEC5",
                "#B0BEC5",
                "#B0BEC5",
                "#B0BEC5",
                "#B0BEC5",
                "#B0BEC5",
                "#B0BEC5",
                "#B0BEC5",
                "#B0BEC5",
                "#B0BEC5",
                "#B0BEC5",
                "#B0BEC5",
                "#B0BEC5",
                "#B0BEC5",
                "#B0BEC5",
                "#B0BEC5",
                "#B0BEC5",
                "#B0BEC5",
                "#B0BEC5",
                "#B0BEC5",
                "#B0BEC5",
                "#B0BEC5",
                "#B0BEC5",
                "red",
                "#B0BEC5",
                "#B0BEC5",
                "#B0BEC5",
                "#B0BEC5",
                "#B0BEC5",
                "#B0BEC5",
                "#B0BEC5",
                "#B0BEC5",
                "#B0BEC5",
                "#B0BEC5",
                "#B0BEC5",
                "#B0BEC5",
                "#B0BEC5",
                "#B0BEC5",
                "#B0BEC5",
                "#B0BEC5",
                "#B0BEC5",
                "#B0BEC5",
                "#B0BEC5",
                "#B0BEC5"
               ]
              ]
             }
            ],
            "label": "Topic 28",
            "method": "update"
           },
           {
            "args": [
             {
              "marker.color": [
               [
                "#B0BEC5",
                "#B0BEC5",
                "#B0BEC5",
                "#B0BEC5",
                "#B0BEC5",
                "#B0BEC5",
                "#B0BEC5",
                "#B0BEC5",
                "#B0BEC5",
                "#B0BEC5",
                "#B0BEC5",
                "#B0BEC5",
                "#B0BEC5",
                "#B0BEC5",
                "#B0BEC5",
                "#B0BEC5",
                "#B0BEC5",
                "#B0BEC5",
                "#B0BEC5",
                "#B0BEC5",
                "#B0BEC5",
                "#B0BEC5",
                "#B0BEC5",
                "#B0BEC5",
                "#B0BEC5",
                "#B0BEC5",
                "#B0BEC5",
                "#B0BEC5",
                "#B0BEC5",
                "red",
                "#B0BEC5",
                "#B0BEC5",
                "#B0BEC5",
                "#B0BEC5",
                "#B0BEC5",
                "#B0BEC5",
                "#B0BEC5",
                "#B0BEC5",
                "#B0BEC5",
                "#B0BEC5",
                "#B0BEC5",
                "#B0BEC5",
                "#B0BEC5",
                "#B0BEC5",
                "#B0BEC5",
                "#B0BEC5",
                "#B0BEC5",
                "#B0BEC5",
                "#B0BEC5"
               ]
              ]
             }
            ],
            "label": "Topic 29",
            "method": "update"
           },
           {
            "args": [
             {
              "marker.color": [
               [
                "#B0BEC5",
                "#B0BEC5",
                "#B0BEC5",
                "#B0BEC5",
                "#B0BEC5",
                "#B0BEC5",
                "#B0BEC5",
                "#B0BEC5",
                "#B0BEC5",
                "#B0BEC5",
                "#B0BEC5",
                "#B0BEC5",
                "#B0BEC5",
                "#B0BEC5",
                "#B0BEC5",
                "#B0BEC5",
                "#B0BEC5",
                "#B0BEC5",
                "#B0BEC5",
                "#B0BEC5",
                "#B0BEC5",
                "#B0BEC5",
                "#B0BEC5",
                "#B0BEC5",
                "#B0BEC5",
                "#B0BEC5",
                "#B0BEC5",
                "#B0BEC5",
                "#B0BEC5",
                "#B0BEC5",
                "red",
                "#B0BEC5",
                "#B0BEC5",
                "#B0BEC5",
                "#B0BEC5",
                "#B0BEC5",
                "#B0BEC5",
                "#B0BEC5",
                "#B0BEC5",
                "#B0BEC5",
                "#B0BEC5",
                "#B0BEC5",
                "#B0BEC5",
                "#B0BEC5",
                "#B0BEC5",
                "#B0BEC5",
                "#B0BEC5",
                "#B0BEC5",
                "#B0BEC5"
               ]
              ]
             }
            ],
            "label": "Topic 30",
            "method": "update"
           },
           {
            "args": [
             {
              "marker.color": [
               [
                "#B0BEC5",
                "#B0BEC5",
                "#B0BEC5",
                "#B0BEC5",
                "#B0BEC5",
                "#B0BEC5",
                "#B0BEC5",
                "#B0BEC5",
                "#B0BEC5",
                "#B0BEC5",
                "#B0BEC5",
                "#B0BEC5",
                "#B0BEC5",
                "#B0BEC5",
                "#B0BEC5",
                "#B0BEC5",
                "#B0BEC5",
                "#B0BEC5",
                "#B0BEC5",
                "#B0BEC5",
                "#B0BEC5",
                "#B0BEC5",
                "#B0BEC5",
                "#B0BEC5",
                "#B0BEC5",
                "#B0BEC5",
                "#B0BEC5",
                "#B0BEC5",
                "#B0BEC5",
                "#B0BEC5",
                "#B0BEC5",
                "red",
                "#B0BEC5",
                "#B0BEC5",
                "#B0BEC5",
                "#B0BEC5",
                "#B0BEC5",
                "#B0BEC5",
                "#B0BEC5",
                "#B0BEC5",
                "#B0BEC5",
                "#B0BEC5",
                "#B0BEC5",
                "#B0BEC5",
                "#B0BEC5",
                "#B0BEC5",
                "#B0BEC5",
                "#B0BEC5",
                "#B0BEC5"
               ]
              ]
             }
            ],
            "label": "Topic 31",
            "method": "update"
           },
           {
            "args": [
             {
              "marker.color": [
               [
                "#B0BEC5",
                "#B0BEC5",
                "#B0BEC5",
                "#B0BEC5",
                "#B0BEC5",
                "#B0BEC5",
                "#B0BEC5",
                "#B0BEC5",
                "#B0BEC5",
                "#B0BEC5",
                "#B0BEC5",
                "#B0BEC5",
                "#B0BEC5",
                "#B0BEC5",
                "#B0BEC5",
                "#B0BEC5",
                "#B0BEC5",
                "#B0BEC5",
                "#B0BEC5",
                "#B0BEC5",
                "#B0BEC5",
                "#B0BEC5",
                "#B0BEC5",
                "#B0BEC5",
                "#B0BEC5",
                "#B0BEC5",
                "#B0BEC5",
                "#B0BEC5",
                "#B0BEC5",
                "#B0BEC5",
                "#B0BEC5",
                "#B0BEC5",
                "red",
                "#B0BEC5",
                "#B0BEC5",
                "#B0BEC5",
                "#B0BEC5",
                "#B0BEC5",
                "#B0BEC5",
                "#B0BEC5",
                "#B0BEC5",
                "#B0BEC5",
                "#B0BEC5",
                "#B0BEC5",
                "#B0BEC5",
                "#B0BEC5",
                "#B0BEC5",
                "#B0BEC5",
                "#B0BEC5"
               ]
              ]
             }
            ],
            "label": "Topic 32",
            "method": "update"
           },
           {
            "args": [
             {
              "marker.color": [
               [
                "#B0BEC5",
                "#B0BEC5",
                "#B0BEC5",
                "#B0BEC5",
                "#B0BEC5",
                "#B0BEC5",
                "#B0BEC5",
                "#B0BEC5",
                "#B0BEC5",
                "#B0BEC5",
                "#B0BEC5",
                "#B0BEC5",
                "#B0BEC5",
                "#B0BEC5",
                "#B0BEC5",
                "#B0BEC5",
                "#B0BEC5",
                "#B0BEC5",
                "#B0BEC5",
                "#B0BEC5",
                "#B0BEC5",
                "#B0BEC5",
                "#B0BEC5",
                "#B0BEC5",
                "#B0BEC5",
                "#B0BEC5",
                "#B0BEC5",
                "#B0BEC5",
                "#B0BEC5",
                "#B0BEC5",
                "#B0BEC5",
                "#B0BEC5",
                "#B0BEC5",
                "red",
                "#B0BEC5",
                "#B0BEC5",
                "#B0BEC5",
                "#B0BEC5",
                "#B0BEC5",
                "#B0BEC5",
                "#B0BEC5",
                "#B0BEC5",
                "#B0BEC5",
                "#B0BEC5",
                "#B0BEC5",
                "#B0BEC5",
                "#B0BEC5",
                "#B0BEC5",
                "#B0BEC5"
               ]
              ]
             }
            ],
            "label": "Topic 33",
            "method": "update"
           },
           {
            "args": [
             {
              "marker.color": [
               [
                "#B0BEC5",
                "#B0BEC5",
                "#B0BEC5",
                "#B0BEC5",
                "#B0BEC5",
                "#B0BEC5",
                "#B0BEC5",
                "#B0BEC5",
                "#B0BEC5",
                "#B0BEC5",
                "#B0BEC5",
                "#B0BEC5",
                "#B0BEC5",
                "#B0BEC5",
                "#B0BEC5",
                "#B0BEC5",
                "#B0BEC5",
                "#B0BEC5",
                "#B0BEC5",
                "#B0BEC5",
                "#B0BEC5",
                "#B0BEC5",
                "#B0BEC5",
                "#B0BEC5",
                "#B0BEC5",
                "#B0BEC5",
                "#B0BEC5",
                "#B0BEC5",
                "#B0BEC5",
                "#B0BEC5",
                "#B0BEC5",
                "#B0BEC5",
                "#B0BEC5",
                "#B0BEC5",
                "red",
                "#B0BEC5",
                "#B0BEC5",
                "#B0BEC5",
                "#B0BEC5",
                "#B0BEC5",
                "#B0BEC5",
                "#B0BEC5",
                "#B0BEC5",
                "#B0BEC5",
                "#B0BEC5",
                "#B0BEC5",
                "#B0BEC5",
                "#B0BEC5",
                "#B0BEC5"
               ]
              ]
             }
            ],
            "label": "Topic 34",
            "method": "update"
           },
           {
            "args": [
             {
              "marker.color": [
               [
                "#B0BEC5",
                "#B0BEC5",
                "#B0BEC5",
                "#B0BEC5",
                "#B0BEC5",
                "#B0BEC5",
                "#B0BEC5",
                "#B0BEC5",
                "#B0BEC5",
                "#B0BEC5",
                "#B0BEC5",
                "#B0BEC5",
                "#B0BEC5",
                "#B0BEC5",
                "#B0BEC5",
                "#B0BEC5",
                "#B0BEC5",
                "#B0BEC5",
                "#B0BEC5",
                "#B0BEC5",
                "#B0BEC5",
                "#B0BEC5",
                "#B0BEC5",
                "#B0BEC5",
                "#B0BEC5",
                "#B0BEC5",
                "#B0BEC5",
                "#B0BEC5",
                "#B0BEC5",
                "#B0BEC5",
                "#B0BEC5",
                "#B0BEC5",
                "#B0BEC5",
                "#B0BEC5",
                "#B0BEC5",
                "red",
                "#B0BEC5",
                "#B0BEC5",
                "#B0BEC5",
                "#B0BEC5",
                "#B0BEC5",
                "#B0BEC5",
                "#B0BEC5",
                "#B0BEC5",
                "#B0BEC5",
                "#B0BEC5",
                "#B0BEC5",
                "#B0BEC5",
                "#B0BEC5"
               ]
              ]
             }
            ],
            "label": "Topic 35",
            "method": "update"
           },
           {
            "args": [
             {
              "marker.color": [
               [
                "#B0BEC5",
                "#B0BEC5",
                "#B0BEC5",
                "#B0BEC5",
                "#B0BEC5",
                "#B0BEC5",
                "#B0BEC5",
                "#B0BEC5",
                "#B0BEC5",
                "#B0BEC5",
                "#B0BEC5",
                "#B0BEC5",
                "#B0BEC5",
                "#B0BEC5",
                "#B0BEC5",
                "#B0BEC5",
                "#B0BEC5",
                "#B0BEC5",
                "#B0BEC5",
                "#B0BEC5",
                "#B0BEC5",
                "#B0BEC5",
                "#B0BEC5",
                "#B0BEC5",
                "#B0BEC5",
                "#B0BEC5",
                "#B0BEC5",
                "#B0BEC5",
                "#B0BEC5",
                "#B0BEC5",
                "#B0BEC5",
                "#B0BEC5",
                "#B0BEC5",
                "#B0BEC5",
                "#B0BEC5",
                "#B0BEC5",
                "red",
                "#B0BEC5",
                "#B0BEC5",
                "#B0BEC5",
                "#B0BEC5",
                "#B0BEC5",
                "#B0BEC5",
                "#B0BEC5",
                "#B0BEC5",
                "#B0BEC5",
                "#B0BEC5",
                "#B0BEC5",
                "#B0BEC5"
               ]
              ]
             }
            ],
            "label": "Topic 36",
            "method": "update"
           },
           {
            "args": [
             {
              "marker.color": [
               [
                "#B0BEC5",
                "#B0BEC5",
                "#B0BEC5",
                "#B0BEC5",
                "#B0BEC5",
                "#B0BEC5",
                "#B0BEC5",
                "#B0BEC5",
                "#B0BEC5",
                "#B0BEC5",
                "#B0BEC5",
                "#B0BEC5",
                "#B0BEC5",
                "#B0BEC5",
                "#B0BEC5",
                "#B0BEC5",
                "#B0BEC5",
                "#B0BEC5",
                "#B0BEC5",
                "#B0BEC5",
                "#B0BEC5",
                "#B0BEC5",
                "#B0BEC5",
                "#B0BEC5",
                "#B0BEC5",
                "#B0BEC5",
                "#B0BEC5",
                "#B0BEC5",
                "#B0BEC5",
                "#B0BEC5",
                "#B0BEC5",
                "#B0BEC5",
                "#B0BEC5",
                "#B0BEC5",
                "#B0BEC5",
                "#B0BEC5",
                "#B0BEC5",
                "red",
                "#B0BEC5",
                "#B0BEC5",
                "#B0BEC5",
                "#B0BEC5",
                "#B0BEC5",
                "#B0BEC5",
                "#B0BEC5",
                "#B0BEC5",
                "#B0BEC5",
                "#B0BEC5",
                "#B0BEC5"
               ]
              ]
             }
            ],
            "label": "Topic 37",
            "method": "update"
           },
           {
            "args": [
             {
              "marker.color": [
               [
                "#B0BEC5",
                "#B0BEC5",
                "#B0BEC5",
                "#B0BEC5",
                "#B0BEC5",
                "#B0BEC5",
                "#B0BEC5",
                "#B0BEC5",
                "#B0BEC5",
                "#B0BEC5",
                "#B0BEC5",
                "#B0BEC5",
                "#B0BEC5",
                "#B0BEC5",
                "#B0BEC5",
                "#B0BEC5",
                "#B0BEC5",
                "#B0BEC5",
                "#B0BEC5",
                "#B0BEC5",
                "#B0BEC5",
                "#B0BEC5",
                "#B0BEC5",
                "#B0BEC5",
                "#B0BEC5",
                "#B0BEC5",
                "#B0BEC5",
                "#B0BEC5",
                "#B0BEC5",
                "#B0BEC5",
                "#B0BEC5",
                "#B0BEC5",
                "#B0BEC5",
                "#B0BEC5",
                "#B0BEC5",
                "#B0BEC5",
                "#B0BEC5",
                "#B0BEC5",
                "red",
                "#B0BEC5",
                "#B0BEC5",
                "#B0BEC5",
                "#B0BEC5",
                "#B0BEC5",
                "#B0BEC5",
                "#B0BEC5",
                "#B0BEC5",
                "#B0BEC5",
                "#B0BEC5"
               ]
              ]
             }
            ],
            "label": "Topic 38",
            "method": "update"
           },
           {
            "args": [
             {
              "marker.color": [
               [
                "#B0BEC5",
                "#B0BEC5",
                "#B0BEC5",
                "#B0BEC5",
                "#B0BEC5",
                "#B0BEC5",
                "#B0BEC5",
                "#B0BEC5",
                "#B0BEC5",
                "#B0BEC5",
                "#B0BEC5",
                "#B0BEC5",
                "#B0BEC5",
                "#B0BEC5",
                "#B0BEC5",
                "#B0BEC5",
                "#B0BEC5",
                "#B0BEC5",
                "#B0BEC5",
                "#B0BEC5",
                "#B0BEC5",
                "#B0BEC5",
                "#B0BEC5",
                "#B0BEC5",
                "#B0BEC5",
                "#B0BEC5",
                "#B0BEC5",
                "#B0BEC5",
                "#B0BEC5",
                "#B0BEC5",
                "#B0BEC5",
                "#B0BEC5",
                "#B0BEC5",
                "#B0BEC5",
                "#B0BEC5",
                "#B0BEC5",
                "#B0BEC5",
                "#B0BEC5",
                "#B0BEC5",
                "red",
                "#B0BEC5",
                "#B0BEC5",
                "#B0BEC5",
                "#B0BEC5",
                "#B0BEC5",
                "#B0BEC5",
                "#B0BEC5",
                "#B0BEC5",
                "#B0BEC5"
               ]
              ]
             }
            ],
            "label": "Topic 39",
            "method": "update"
           },
           {
            "args": [
             {
              "marker.color": [
               [
                "#B0BEC5",
                "#B0BEC5",
                "#B0BEC5",
                "#B0BEC5",
                "#B0BEC5",
                "#B0BEC5",
                "#B0BEC5",
                "#B0BEC5",
                "#B0BEC5",
                "#B0BEC5",
                "#B0BEC5",
                "#B0BEC5",
                "#B0BEC5",
                "#B0BEC5",
                "#B0BEC5",
                "#B0BEC5",
                "#B0BEC5",
                "#B0BEC5",
                "#B0BEC5",
                "#B0BEC5",
                "#B0BEC5",
                "#B0BEC5",
                "#B0BEC5",
                "#B0BEC5",
                "#B0BEC5",
                "#B0BEC5",
                "#B0BEC5",
                "#B0BEC5",
                "#B0BEC5",
                "#B0BEC5",
                "#B0BEC5",
                "#B0BEC5",
                "#B0BEC5",
                "#B0BEC5",
                "#B0BEC5",
                "#B0BEC5",
                "#B0BEC5",
                "#B0BEC5",
                "#B0BEC5",
                "#B0BEC5",
                "red",
                "#B0BEC5",
                "#B0BEC5",
                "#B0BEC5",
                "#B0BEC5",
                "#B0BEC5",
                "#B0BEC5",
                "#B0BEC5",
                "#B0BEC5"
               ]
              ]
             }
            ],
            "label": "Topic 40",
            "method": "update"
           },
           {
            "args": [
             {
              "marker.color": [
               [
                "#B0BEC5",
                "#B0BEC5",
                "#B0BEC5",
                "#B0BEC5",
                "#B0BEC5",
                "#B0BEC5",
                "#B0BEC5",
                "#B0BEC5",
                "#B0BEC5",
                "#B0BEC5",
                "#B0BEC5",
                "#B0BEC5",
                "#B0BEC5",
                "#B0BEC5",
                "#B0BEC5",
                "#B0BEC5",
                "#B0BEC5",
                "#B0BEC5",
                "#B0BEC5",
                "#B0BEC5",
                "#B0BEC5",
                "#B0BEC5",
                "#B0BEC5",
                "#B0BEC5",
                "#B0BEC5",
                "#B0BEC5",
                "#B0BEC5",
                "#B0BEC5",
                "#B0BEC5",
                "#B0BEC5",
                "#B0BEC5",
                "#B0BEC5",
                "#B0BEC5",
                "#B0BEC5",
                "#B0BEC5",
                "#B0BEC5",
                "#B0BEC5",
                "#B0BEC5",
                "#B0BEC5",
                "#B0BEC5",
                "#B0BEC5",
                "red",
                "#B0BEC5",
                "#B0BEC5",
                "#B0BEC5",
                "#B0BEC5",
                "#B0BEC5",
                "#B0BEC5",
                "#B0BEC5"
               ]
              ]
             }
            ],
            "label": "Topic 41",
            "method": "update"
           },
           {
            "args": [
             {
              "marker.color": [
               [
                "#B0BEC5",
                "#B0BEC5",
                "#B0BEC5",
                "#B0BEC5",
                "#B0BEC5",
                "#B0BEC5",
                "#B0BEC5",
                "#B0BEC5",
                "#B0BEC5",
                "#B0BEC5",
                "#B0BEC5",
                "#B0BEC5",
                "#B0BEC5",
                "#B0BEC5",
                "#B0BEC5",
                "#B0BEC5",
                "#B0BEC5",
                "#B0BEC5",
                "#B0BEC5",
                "#B0BEC5",
                "#B0BEC5",
                "#B0BEC5",
                "#B0BEC5",
                "#B0BEC5",
                "#B0BEC5",
                "#B0BEC5",
                "#B0BEC5",
                "#B0BEC5",
                "#B0BEC5",
                "#B0BEC5",
                "#B0BEC5",
                "#B0BEC5",
                "#B0BEC5",
                "#B0BEC5",
                "#B0BEC5",
                "#B0BEC5",
                "#B0BEC5",
                "#B0BEC5",
                "#B0BEC5",
                "#B0BEC5",
                "#B0BEC5",
                "#B0BEC5",
                "red",
                "#B0BEC5",
                "#B0BEC5",
                "#B0BEC5",
                "#B0BEC5",
                "#B0BEC5",
                "#B0BEC5"
               ]
              ]
             }
            ],
            "label": "Topic 42",
            "method": "update"
           },
           {
            "args": [
             {
              "marker.color": [
               [
                "#B0BEC5",
                "#B0BEC5",
                "#B0BEC5",
                "#B0BEC5",
                "#B0BEC5",
                "#B0BEC5",
                "#B0BEC5",
                "#B0BEC5",
                "#B0BEC5",
                "#B0BEC5",
                "#B0BEC5",
                "#B0BEC5",
                "#B0BEC5",
                "#B0BEC5",
                "#B0BEC5",
                "#B0BEC5",
                "#B0BEC5",
                "#B0BEC5",
                "#B0BEC5",
                "#B0BEC5",
                "#B0BEC5",
                "#B0BEC5",
                "#B0BEC5",
                "#B0BEC5",
                "#B0BEC5",
                "#B0BEC5",
                "#B0BEC5",
                "#B0BEC5",
                "#B0BEC5",
                "#B0BEC5",
                "#B0BEC5",
                "#B0BEC5",
                "#B0BEC5",
                "#B0BEC5",
                "#B0BEC5",
                "#B0BEC5",
                "#B0BEC5",
                "#B0BEC5",
                "#B0BEC5",
                "#B0BEC5",
                "#B0BEC5",
                "#B0BEC5",
                "#B0BEC5",
                "red",
                "#B0BEC5",
                "#B0BEC5",
                "#B0BEC5",
                "#B0BEC5",
                "#B0BEC5"
               ]
              ]
             }
            ],
            "label": "Topic 43",
            "method": "update"
           },
           {
            "args": [
             {
              "marker.color": [
               [
                "#B0BEC5",
                "#B0BEC5",
                "#B0BEC5",
                "#B0BEC5",
                "#B0BEC5",
                "#B0BEC5",
                "#B0BEC5",
                "#B0BEC5",
                "#B0BEC5",
                "#B0BEC5",
                "#B0BEC5",
                "#B0BEC5",
                "#B0BEC5",
                "#B0BEC5",
                "#B0BEC5",
                "#B0BEC5",
                "#B0BEC5",
                "#B0BEC5",
                "#B0BEC5",
                "#B0BEC5",
                "#B0BEC5",
                "#B0BEC5",
                "#B0BEC5",
                "#B0BEC5",
                "#B0BEC5",
                "#B0BEC5",
                "#B0BEC5",
                "#B0BEC5",
                "#B0BEC5",
                "#B0BEC5",
                "#B0BEC5",
                "#B0BEC5",
                "#B0BEC5",
                "#B0BEC5",
                "#B0BEC5",
                "#B0BEC5",
                "#B0BEC5",
                "#B0BEC5",
                "#B0BEC5",
                "#B0BEC5",
                "#B0BEC5",
                "#B0BEC5",
                "#B0BEC5",
                "#B0BEC5",
                "red",
                "#B0BEC5",
                "#B0BEC5",
                "#B0BEC5",
                "#B0BEC5"
               ]
              ]
             }
            ],
            "label": "Topic 44",
            "method": "update"
           },
           {
            "args": [
             {
              "marker.color": [
               [
                "#B0BEC5",
                "#B0BEC5",
                "#B0BEC5",
                "#B0BEC5",
                "#B0BEC5",
                "#B0BEC5",
                "#B0BEC5",
                "#B0BEC5",
                "#B0BEC5",
                "#B0BEC5",
                "#B0BEC5",
                "#B0BEC5",
                "#B0BEC5",
                "#B0BEC5",
                "#B0BEC5",
                "#B0BEC5",
                "#B0BEC5",
                "#B0BEC5",
                "#B0BEC5",
                "#B0BEC5",
                "#B0BEC5",
                "#B0BEC5",
                "#B0BEC5",
                "#B0BEC5",
                "#B0BEC5",
                "#B0BEC5",
                "#B0BEC5",
                "#B0BEC5",
                "#B0BEC5",
                "#B0BEC5",
                "#B0BEC5",
                "#B0BEC5",
                "#B0BEC5",
                "#B0BEC5",
                "#B0BEC5",
                "#B0BEC5",
                "#B0BEC5",
                "#B0BEC5",
                "#B0BEC5",
                "#B0BEC5",
                "#B0BEC5",
                "#B0BEC5",
                "#B0BEC5",
                "#B0BEC5",
                "#B0BEC5",
                "red",
                "#B0BEC5",
                "#B0BEC5",
                "#B0BEC5"
               ]
              ]
             }
            ],
            "label": "Topic 45",
            "method": "update"
           },
           {
            "args": [
             {
              "marker.color": [
               [
                "#B0BEC5",
                "#B0BEC5",
                "#B0BEC5",
                "#B0BEC5",
                "#B0BEC5",
                "#B0BEC5",
                "#B0BEC5",
                "#B0BEC5",
                "#B0BEC5",
                "#B0BEC5",
                "#B0BEC5",
                "#B0BEC5",
                "#B0BEC5",
                "#B0BEC5",
                "#B0BEC5",
                "#B0BEC5",
                "#B0BEC5",
                "#B0BEC5",
                "#B0BEC5",
                "#B0BEC5",
                "#B0BEC5",
                "#B0BEC5",
                "#B0BEC5",
                "#B0BEC5",
                "#B0BEC5",
                "#B0BEC5",
                "#B0BEC5",
                "#B0BEC5",
                "#B0BEC5",
                "#B0BEC5",
                "#B0BEC5",
                "#B0BEC5",
                "#B0BEC5",
                "#B0BEC5",
                "#B0BEC5",
                "#B0BEC5",
                "#B0BEC5",
                "#B0BEC5",
                "#B0BEC5",
                "#B0BEC5",
                "#B0BEC5",
                "#B0BEC5",
                "#B0BEC5",
                "#B0BEC5",
                "#B0BEC5",
                "#B0BEC5",
                "red",
                "#B0BEC5",
                "#B0BEC5"
               ]
              ]
             }
            ],
            "label": "Topic 46",
            "method": "update"
           },
           {
            "args": [
             {
              "marker.color": [
               [
                "#B0BEC5",
                "#B0BEC5",
                "#B0BEC5",
                "#B0BEC5",
                "#B0BEC5",
                "#B0BEC5",
                "#B0BEC5",
                "#B0BEC5",
                "#B0BEC5",
                "#B0BEC5",
                "#B0BEC5",
                "#B0BEC5",
                "#B0BEC5",
                "#B0BEC5",
                "#B0BEC5",
                "#B0BEC5",
                "#B0BEC5",
                "#B0BEC5",
                "#B0BEC5",
                "#B0BEC5",
                "#B0BEC5",
                "#B0BEC5",
                "#B0BEC5",
                "#B0BEC5",
                "#B0BEC5",
                "#B0BEC5",
                "#B0BEC5",
                "#B0BEC5",
                "#B0BEC5",
                "#B0BEC5",
                "#B0BEC5",
                "#B0BEC5",
                "#B0BEC5",
                "#B0BEC5",
                "#B0BEC5",
                "#B0BEC5",
                "#B0BEC5",
                "#B0BEC5",
                "#B0BEC5",
                "#B0BEC5",
                "#B0BEC5",
                "#B0BEC5",
                "#B0BEC5",
                "#B0BEC5",
                "#B0BEC5",
                "#B0BEC5",
                "#B0BEC5",
                "red",
                "#B0BEC5"
               ]
              ]
             }
            ],
            "label": "Topic 47",
            "method": "update"
           },
           {
            "args": [
             {
              "marker.color": [
               [
                "#B0BEC5",
                "#B0BEC5",
                "#B0BEC5",
                "#B0BEC5",
                "#B0BEC5",
                "#B0BEC5",
                "#B0BEC5",
                "#B0BEC5",
                "#B0BEC5",
                "#B0BEC5",
                "#B0BEC5",
                "#B0BEC5",
                "#B0BEC5",
                "#B0BEC5",
                "#B0BEC5",
                "#B0BEC5",
                "#B0BEC5",
                "#B0BEC5",
                "#B0BEC5",
                "#B0BEC5",
                "#B0BEC5",
                "#B0BEC5",
                "#B0BEC5",
                "#B0BEC5",
                "#B0BEC5",
                "#B0BEC5",
                "#B0BEC5",
                "#B0BEC5",
                "#B0BEC5",
                "#B0BEC5",
                "#B0BEC5",
                "#B0BEC5",
                "#B0BEC5",
                "#B0BEC5",
                "#B0BEC5",
                "#B0BEC5",
                "#B0BEC5",
                "#B0BEC5",
                "#B0BEC5",
                "#B0BEC5",
                "#B0BEC5",
                "#B0BEC5",
                "#B0BEC5",
                "#B0BEC5",
                "#B0BEC5",
                "#B0BEC5",
                "#B0BEC5",
                "#B0BEC5",
                "red"
               ]
              ]
             }
            ],
            "label": "Topic 48",
            "method": "update"
           }
          ]
         }
        ],
        "template": {
         "data": {
          "bar": [
           {
            "error_x": {
             "color": "rgb(36,36,36)"
            },
            "error_y": {
             "color": "rgb(36,36,36)"
            },
            "marker": {
             "line": {
              "color": "white",
              "width": 0.5
             },
             "pattern": {
              "fillmode": "overlay",
              "size": 10,
              "solidity": 0.2
             }
            },
            "type": "bar"
           }
          ],
          "barpolar": [
           {
            "marker": {
             "line": {
              "color": "white",
              "width": 0.5
             },
             "pattern": {
              "fillmode": "overlay",
              "size": 10,
              "solidity": 0.2
             }
            },
            "type": "barpolar"
           }
          ],
          "carpet": [
           {
            "aaxis": {
             "endlinecolor": "rgb(36,36,36)",
             "gridcolor": "white",
             "linecolor": "white",
             "minorgridcolor": "white",
             "startlinecolor": "rgb(36,36,36)"
            },
            "baxis": {
             "endlinecolor": "rgb(36,36,36)",
             "gridcolor": "white",
             "linecolor": "white",
             "minorgridcolor": "white",
             "startlinecolor": "rgb(36,36,36)"
            },
            "type": "carpet"
           }
          ],
          "choropleth": [
           {
            "colorbar": {
             "outlinewidth": 1,
             "tickcolor": "rgb(36,36,36)",
             "ticks": "outside"
            },
            "type": "choropleth"
           }
          ],
          "contour": [
           {
            "colorbar": {
             "outlinewidth": 1,
             "tickcolor": "rgb(36,36,36)",
             "ticks": "outside"
            },
            "colorscale": [
             [
              0,
              "#440154"
             ],
             [
              0.1111111111111111,
              "#482878"
             ],
             [
              0.2222222222222222,
              "#3e4989"
             ],
             [
              0.3333333333333333,
              "#31688e"
             ],
             [
              0.4444444444444444,
              "#26828e"
             ],
             [
              0.5555555555555556,
              "#1f9e89"
             ],
             [
              0.6666666666666666,
              "#35b779"
             ],
             [
              0.7777777777777778,
              "#6ece58"
             ],
             [
              0.8888888888888888,
              "#b5de2b"
             ],
             [
              1,
              "#fde725"
             ]
            ],
            "type": "contour"
           }
          ],
          "contourcarpet": [
           {
            "colorbar": {
             "outlinewidth": 1,
             "tickcolor": "rgb(36,36,36)",
             "ticks": "outside"
            },
            "type": "contourcarpet"
           }
          ],
          "heatmap": [
           {
            "colorbar": {
             "outlinewidth": 1,
             "tickcolor": "rgb(36,36,36)",
             "ticks": "outside"
            },
            "colorscale": [
             [
              0,
              "#440154"
             ],
             [
              0.1111111111111111,
              "#482878"
             ],
             [
              0.2222222222222222,
              "#3e4989"
             ],
             [
              0.3333333333333333,
              "#31688e"
             ],
             [
              0.4444444444444444,
              "#26828e"
             ],
             [
              0.5555555555555556,
              "#1f9e89"
             ],
             [
              0.6666666666666666,
              "#35b779"
             ],
             [
              0.7777777777777778,
              "#6ece58"
             ],
             [
              0.8888888888888888,
              "#b5de2b"
             ],
             [
              1,
              "#fde725"
             ]
            ],
            "type": "heatmap"
           }
          ],
          "heatmapgl": [
           {
            "colorbar": {
             "outlinewidth": 1,
             "tickcolor": "rgb(36,36,36)",
             "ticks": "outside"
            },
            "colorscale": [
             [
              0,
              "#440154"
             ],
             [
              0.1111111111111111,
              "#482878"
             ],
             [
              0.2222222222222222,
              "#3e4989"
             ],
             [
              0.3333333333333333,
              "#31688e"
             ],
             [
              0.4444444444444444,
              "#26828e"
             ],
             [
              0.5555555555555556,
              "#1f9e89"
             ],
             [
              0.6666666666666666,
              "#35b779"
             ],
             [
              0.7777777777777778,
              "#6ece58"
             ],
             [
              0.8888888888888888,
              "#b5de2b"
             ],
             [
              1,
              "#fde725"
             ]
            ],
            "type": "heatmapgl"
           }
          ],
          "histogram": [
           {
            "marker": {
             "line": {
              "color": "white",
              "width": 0.6
             }
            },
            "type": "histogram"
           }
          ],
          "histogram2d": [
           {
            "colorbar": {
             "outlinewidth": 1,
             "tickcolor": "rgb(36,36,36)",
             "ticks": "outside"
            },
            "colorscale": [
             [
              0,
              "#440154"
             ],
             [
              0.1111111111111111,
              "#482878"
             ],
             [
              0.2222222222222222,
              "#3e4989"
             ],
             [
              0.3333333333333333,
              "#31688e"
             ],
             [
              0.4444444444444444,
              "#26828e"
             ],
             [
              0.5555555555555556,
              "#1f9e89"
             ],
             [
              0.6666666666666666,
              "#35b779"
             ],
             [
              0.7777777777777778,
              "#6ece58"
             ],
             [
              0.8888888888888888,
              "#b5de2b"
             ],
             [
              1,
              "#fde725"
             ]
            ],
            "type": "histogram2d"
           }
          ],
          "histogram2dcontour": [
           {
            "colorbar": {
             "outlinewidth": 1,
             "tickcolor": "rgb(36,36,36)",
             "ticks": "outside"
            },
            "colorscale": [
             [
              0,
              "#440154"
             ],
             [
              0.1111111111111111,
              "#482878"
             ],
             [
              0.2222222222222222,
              "#3e4989"
             ],
             [
              0.3333333333333333,
              "#31688e"
             ],
             [
              0.4444444444444444,
              "#26828e"
             ],
             [
              0.5555555555555556,
              "#1f9e89"
             ],
             [
              0.6666666666666666,
              "#35b779"
             ],
             [
              0.7777777777777778,
              "#6ece58"
             ],
             [
              0.8888888888888888,
              "#b5de2b"
             ],
             [
              1,
              "#fde725"
             ]
            ],
            "type": "histogram2dcontour"
           }
          ],
          "mesh3d": [
           {
            "colorbar": {
             "outlinewidth": 1,
             "tickcolor": "rgb(36,36,36)",
             "ticks": "outside"
            },
            "type": "mesh3d"
           }
          ],
          "parcoords": [
           {
            "line": {
             "colorbar": {
              "outlinewidth": 1,
              "tickcolor": "rgb(36,36,36)",
              "ticks": "outside"
             }
            },
            "type": "parcoords"
           }
          ],
          "pie": [
           {
            "automargin": true,
            "type": "pie"
           }
          ],
          "scatter": [
           {
            "fillpattern": {
             "fillmode": "overlay",
             "size": 10,
             "solidity": 0.2
            },
            "type": "scatter"
           }
          ],
          "scatter3d": [
           {
            "line": {
             "colorbar": {
              "outlinewidth": 1,
              "tickcolor": "rgb(36,36,36)",
              "ticks": "outside"
             }
            },
            "marker": {
             "colorbar": {
              "outlinewidth": 1,
              "tickcolor": "rgb(36,36,36)",
              "ticks": "outside"
             }
            },
            "type": "scatter3d"
           }
          ],
          "scattercarpet": [
           {
            "marker": {
             "colorbar": {
              "outlinewidth": 1,
              "tickcolor": "rgb(36,36,36)",
              "ticks": "outside"
             }
            },
            "type": "scattercarpet"
           }
          ],
          "scattergeo": [
           {
            "marker": {
             "colorbar": {
              "outlinewidth": 1,
              "tickcolor": "rgb(36,36,36)",
              "ticks": "outside"
             }
            },
            "type": "scattergeo"
           }
          ],
          "scattergl": [
           {
            "marker": {
             "colorbar": {
              "outlinewidth": 1,
              "tickcolor": "rgb(36,36,36)",
              "ticks": "outside"
             }
            },
            "type": "scattergl"
           }
          ],
          "scattermapbox": [
           {
            "marker": {
             "colorbar": {
              "outlinewidth": 1,
              "tickcolor": "rgb(36,36,36)",
              "ticks": "outside"
             }
            },
            "type": "scattermapbox"
           }
          ],
          "scatterpolar": [
           {
            "marker": {
             "colorbar": {
              "outlinewidth": 1,
              "tickcolor": "rgb(36,36,36)",
              "ticks": "outside"
             }
            },
            "type": "scatterpolar"
           }
          ],
          "scatterpolargl": [
           {
            "marker": {
             "colorbar": {
              "outlinewidth": 1,
              "tickcolor": "rgb(36,36,36)",
              "ticks": "outside"
             }
            },
            "type": "scatterpolargl"
           }
          ],
          "scatterternary": [
           {
            "marker": {
             "colorbar": {
              "outlinewidth": 1,
              "tickcolor": "rgb(36,36,36)",
              "ticks": "outside"
             }
            },
            "type": "scatterternary"
           }
          ],
          "surface": [
           {
            "colorbar": {
             "outlinewidth": 1,
             "tickcolor": "rgb(36,36,36)",
             "ticks": "outside"
            },
            "colorscale": [
             [
              0,
              "#440154"
             ],
             [
              0.1111111111111111,
              "#482878"
             ],
             [
              0.2222222222222222,
              "#3e4989"
             ],
             [
              0.3333333333333333,
              "#31688e"
             ],
             [
              0.4444444444444444,
              "#26828e"
             ],
             [
              0.5555555555555556,
              "#1f9e89"
             ],
             [
              0.6666666666666666,
              "#35b779"
             ],
             [
              0.7777777777777778,
              "#6ece58"
             ],
             [
              0.8888888888888888,
              "#b5de2b"
             ],
             [
              1,
              "#fde725"
             ]
            ],
            "type": "surface"
           }
          ],
          "table": [
           {
            "cells": {
             "fill": {
              "color": "rgb(237,237,237)"
             },
             "line": {
              "color": "white"
             }
            },
            "header": {
             "fill": {
              "color": "rgb(217,217,217)"
             },
             "line": {
              "color": "white"
             }
            },
            "type": "table"
           }
          ]
         },
         "layout": {
          "annotationdefaults": {
           "arrowhead": 0,
           "arrowwidth": 1
          },
          "autotypenumbers": "strict",
          "coloraxis": {
           "colorbar": {
            "outlinewidth": 1,
            "tickcolor": "rgb(36,36,36)",
            "ticks": "outside"
           }
          },
          "colorscale": {
           "diverging": [
            [
             0,
             "rgb(103,0,31)"
            ],
            [
             0.1,
             "rgb(178,24,43)"
            ],
            [
             0.2,
             "rgb(214,96,77)"
            ],
            [
             0.3,
             "rgb(244,165,130)"
            ],
            [
             0.4,
             "rgb(253,219,199)"
            ],
            [
             0.5,
             "rgb(247,247,247)"
            ],
            [
             0.6,
             "rgb(209,229,240)"
            ],
            [
             0.7,
             "rgb(146,197,222)"
            ],
            [
             0.8,
             "rgb(67,147,195)"
            ],
            [
             0.9,
             "rgb(33,102,172)"
            ],
            [
             1,
             "rgb(5,48,97)"
            ]
           ],
           "sequential": [
            [
             0,
             "#440154"
            ],
            [
             0.1111111111111111,
             "#482878"
            ],
            [
             0.2222222222222222,
             "#3e4989"
            ],
            [
             0.3333333333333333,
             "#31688e"
            ],
            [
             0.4444444444444444,
             "#26828e"
            ],
            [
             0.5555555555555556,
             "#1f9e89"
            ],
            [
             0.6666666666666666,
             "#35b779"
            ],
            [
             0.7777777777777778,
             "#6ece58"
            ],
            [
             0.8888888888888888,
             "#b5de2b"
            ],
            [
             1,
             "#fde725"
            ]
           ],
           "sequentialminus": [
            [
             0,
             "#440154"
            ],
            [
             0.1111111111111111,
             "#482878"
            ],
            [
             0.2222222222222222,
             "#3e4989"
            ],
            [
             0.3333333333333333,
             "#31688e"
            ],
            [
             0.4444444444444444,
             "#26828e"
            ],
            [
             0.5555555555555556,
             "#1f9e89"
            ],
            [
             0.6666666666666666,
             "#35b779"
            ],
            [
             0.7777777777777778,
             "#6ece58"
            ],
            [
             0.8888888888888888,
             "#b5de2b"
            ],
            [
             1,
             "#fde725"
            ]
           ]
          },
          "colorway": [
           "#1F77B4",
           "#FF7F0E",
           "#2CA02C",
           "#D62728",
           "#9467BD",
           "#8C564B",
           "#E377C2",
           "#7F7F7F",
           "#BCBD22",
           "#17BECF"
          ],
          "font": {
           "color": "rgb(36,36,36)"
          },
          "geo": {
           "bgcolor": "white",
           "lakecolor": "white",
           "landcolor": "white",
           "showlakes": true,
           "showland": true,
           "subunitcolor": "white"
          },
          "hoverlabel": {
           "align": "left"
          },
          "hovermode": "closest",
          "mapbox": {
           "style": "light"
          },
          "paper_bgcolor": "white",
          "plot_bgcolor": "white",
          "polar": {
           "angularaxis": {
            "gridcolor": "rgb(232,232,232)",
            "linecolor": "rgb(36,36,36)",
            "showgrid": false,
            "showline": true,
            "ticks": "outside"
           },
           "bgcolor": "white",
           "radialaxis": {
            "gridcolor": "rgb(232,232,232)",
            "linecolor": "rgb(36,36,36)",
            "showgrid": false,
            "showline": true,
            "ticks": "outside"
           }
          },
          "scene": {
           "xaxis": {
            "backgroundcolor": "white",
            "gridcolor": "rgb(232,232,232)",
            "gridwidth": 2,
            "linecolor": "rgb(36,36,36)",
            "showbackground": true,
            "showgrid": false,
            "showline": true,
            "ticks": "outside",
            "zeroline": false,
            "zerolinecolor": "rgb(36,36,36)"
           },
           "yaxis": {
            "backgroundcolor": "white",
            "gridcolor": "rgb(232,232,232)",
            "gridwidth": 2,
            "linecolor": "rgb(36,36,36)",
            "showbackground": true,
            "showgrid": false,
            "showline": true,
            "ticks": "outside",
            "zeroline": false,
            "zerolinecolor": "rgb(36,36,36)"
           },
           "zaxis": {
            "backgroundcolor": "white",
            "gridcolor": "rgb(232,232,232)",
            "gridwidth": 2,
            "linecolor": "rgb(36,36,36)",
            "showbackground": true,
            "showgrid": false,
            "showline": true,
            "ticks": "outside",
            "zeroline": false,
            "zerolinecolor": "rgb(36,36,36)"
           }
          },
          "shapedefaults": {
           "fillcolor": "black",
           "line": {
            "width": 0
           },
           "opacity": 0.3
          },
          "ternary": {
           "aaxis": {
            "gridcolor": "rgb(232,232,232)",
            "linecolor": "rgb(36,36,36)",
            "showgrid": false,
            "showline": true,
            "ticks": "outside"
           },
           "baxis": {
            "gridcolor": "rgb(232,232,232)",
            "linecolor": "rgb(36,36,36)",
            "showgrid": false,
            "showline": true,
            "ticks": "outside"
           },
           "bgcolor": "white",
           "caxis": {
            "gridcolor": "rgb(232,232,232)",
            "linecolor": "rgb(36,36,36)",
            "showgrid": false,
            "showline": true,
            "ticks": "outside"
           }
          },
          "title": {
           "x": 0.05
          },
          "xaxis": {
           "automargin": true,
           "gridcolor": "rgb(232,232,232)",
           "linecolor": "rgb(36,36,36)",
           "showgrid": false,
           "showline": true,
           "ticks": "outside",
           "title": {
            "standoff": 15
           },
           "zeroline": false,
           "zerolinecolor": "rgb(36,36,36)"
          },
          "yaxis": {
           "automargin": true,
           "gridcolor": "rgb(232,232,232)",
           "linecolor": "rgb(36,36,36)",
           "showgrid": false,
           "showline": true,
           "ticks": "outside",
           "title": {
            "standoff": 15
           },
           "zeroline": false,
           "zerolinecolor": "rgb(36,36,36)"
          }
         }
        },
        "title": {
         "font": {
          "color": "Black",
          "size": 22
         },
         "text": "<b>Intertopic Distance Map",
         "x": 0.5,
         "xanchor": "center",
         "y": 0.95,
         "yanchor": "top"
        },
        "width": 650,
        "xaxis": {
         "anchor": "y",
         "domain": [
          0,
          1
         ],
         "range": [
          -11.149349451065063,
          20.575819969177246
         ],
         "title": {
          "text": ""
         },
         "type": "linear",
         "visible": false
        },
        "yaxis": {
         "anchor": "x",
         "domain": [
          0,
          1
         ],
         "range": [
          -5.8517580270767215,
          18.62392282485962
         ],
         "title": {
          "text": ""
         },
         "type": "linear",
         "visible": false
        }
       }
      },
      "image/png": "[encoded data removed]",
      "text/html": [
       "<div>                            <div id=\"5638401b-98b7-4686-84ca-c47962fa4dca\" class=\"plotly-graph-div\" style=\"height:650px; width:650px;\"></div>            <script type=\"text/javascript\">                require([\"plotly\"], function(Plotly) {                    window.PLOTLYENV=window.PLOTLYENV || {};                                    if (document.getElementById(\"5638401b-98b7-4686-84ca-c47962fa4dca\")) {                    Plotly.newPlot(                        \"5638401b-98b7-4686-84ca-c47962fa4dca\",                        [{\"customdata\":[[0,\"language | text | word | knowledge | task\",10973],[1,\"reinforcement | rl | reward | control | agent\",7056],[2,\"gradient | convergence | stochastic | descent | convex\",4793],[3,\"logic | reasoning | semantics | ontology | knowledge\",4682],[4,\"segmentation | images | image | imaging | medical\",4282],[5,\"matrix | rank | sparse | tensor | regression\",4226],[6,\"speech | audio | speaker | music | acoustic\",4032],[7,\"pruning | quantization | hardware | nas | search\",3375],[8,\"causal | treatment | variables | graphical | bayesian\",3149],[9,\"adversarial | attacks | attack | robustness | examples\",3148],[10,\"regret | bandit | online | bandits | arm\",3019],[11,\"explanations | interpretability | human | explainable | decision\",2897],[12,\"generative | gans | gan | latent | image\",2863],[13,\"detection | anomaly | malware | anomalies | attacks\",2771],[14,\"recommendation | recommender | users | ranking | recommendations\",2492],[15,\"3d | object | point | segmentation | depth\",2330],[16,\"molecular | protein | drug | molecules | chemical\",2281],[17,\"graph | node | graphs | gnns | nodes\",2276],[18,\"channel | wireless | communication | radio | resource\",2051],[19,\"ensemble | classification | uncertainty | class | label\",2029],[20,\"series | time | forecasting | stock | market\",1982],[21,\"equations | differential | physics | pdes | equation\",1938],[22,\"gaussian | variational | posterior | gp | bayesian\",1885],[23,\"eeg | sleep | signals | ecg | activity\",1877],[24,\"patients | patient | health | clinical | covid\",1844],[25,\"federated | fl | clients | privacy | client\",1709],[26,\"visual | image | video | text | vqa\",1474],[27,\"clustering | clusters | means | cluster | manifold\",1389],[28,\"problems | search | solutions | solution | instances\",1356],[29,\"driving | autonomous | vehicle | vehicles | trajectory\",1256],[30,\"climate | satellite | weather | images | imagery\",1255],[31,\"quantum | classical | circuits | states | circuit\",1196],[32,\"privacy | private | differential | dp | differentially\",1182],[33,\"game | agent | agents | games | marl\",1140],[34,\"fairness | fair | bias | groups | discrimination\",1129],[35,\"energy | power | load | forecasting | electricity\",1115],[36,\"physics | galaxy | gravitational | particle | galaxies\",984],[37,\"program | programs | source | language | bug\",938],[38,\"traffic | temporal | spatial | travel | prediction\",918],[39,\"domain | adaptation | target | source | domains\",890],[40,\"meta | shot | tasks | classes | task\",837],[41,\"bo | bayesian | function | objective | acquisition\",828],[42,\"community | communities | block | clustering | nodes\",820],[43,\"spiking | snns | neuromorphic | snn | spike\",698],[44,\"continual | forgetting | catastrophic | tasks | incremental\",674],[45,\"cognitive | human | consciousness | turing | brain\",660],[46,\"distributed | communication | convergence | decentralized | gradient\",634],[47,\"brain | fmri | functional | disease | neuroimaging\",551],[48,\"video | action | motion | temporal | videos\",540]],\"hovertemplate\":\"<b>Topic %{customdata[0]}</b><br>Words: %{customdata[1]}<br>Size: %{customdata[2]}\",\"legendgroup\":\"\",\"marker\":{\"color\":\"#B0BEC5\",\"size\":[10973,7056,4793,4682,4282,4226,4032,3375,3149,3148,3019,2897,2863,2771,2492,2330,2281,2276,2051,2029,1982,1938,1885,1877,1844,1709,1474,1389,1356,1256,1255,1196,1182,1140,1129,1115,984,938,918,890,837,828,820,698,674,660,634,551,540],\"sizemode\":\"area\",\"sizeref\":6.858125,\"symbol\":\"circle\",\"line\":{\"color\":\"DarkSlateGrey\",\"width\":2}},\"mode\":\"markers\",\"name\":\"\",\"orientation\":\"v\",\"showlegend\":false,\"x\":[-8.010787010192871,4.530330181121826,11.334596633911133,9.292574882507324,12.870428085327148,11.401129722595215,-7.818854331970215,-5.442465305328369,17.892017364501953,11.310892105102539,11.136399269104004,9.37039566040039,17.450105667114258,-9.693836212158203,-6.424155235290527,-6.885170936584473,12.973869323730469,-6.621399402618408,11.819098472595215,-6.869213104248047,5.291131019592285,17.815839767456055,17.831350326538086,12.457273483276367,12.901114463806152,11.664726257324219,-7.564225196838379,16.10104751586914,17.474559783935547,4.9194536209106445,5.384200096130371,-4.928211212158203,11.285134315490723,4.72317361831665,9.836923599243164,5.417942523956299,-4.775378227233887,-9.695086479187012,5.072579860687256,-6.777823448181152,-6.6546454429626465,17.614299774169922,16.2019100189209,-5.4229512214660645,-5.872060775756836,9.126811981201172,11.197179794311523,12.364239692687988,-6.75175666809082],\"xaxis\":\"x\",\"y\":[1.3002530336380005,11.01780891418457,14.38858413696289,16.149192810058594,6.043196678161621,14.31169605255127,1.1585603952407837,1.051131010055542,-4.513960838317871,15.74926471710205,15.596110343933105,16.19471549987793,-4.300891876220703,9.252708435058594,1.2026193141937256,0.7950011491775513,6.14768648147583,1.3301206827163696,15.37519645690918,2.3310000896453857,9.635660171508789,-4.508065700531006,-4.600423336029053,6.417253017425537,6.183905124664307,15.465804100036621,1.3814808130264282,10.50411319732666,-5.088485240936279,10.574893951416016,9.648430824279785,0.9508077502250671,15.679187774658203,10.821455001831055,16.006568908691406,9.596467971801758,0.8388748168945312,9.252639770507812,10.273619651794434,2.1865859031677246,1.3243669271469116,-4.923370361328125,10.405439376831055,1.017281413078308,1.1774120330810547,16.171184539794922,14.790083885192871,6.460751533508301,0.9427199959754944],\"yaxis\":\"y\",\"type\":\"scatter\"}],                        {\"template\":{\"data\":{\"barpolar\":[{\"marker\":{\"line\":{\"color\":\"white\",\"width\":0.5},\"pattern\":{\"fillmode\":\"overlay\",\"size\":10,\"solidity\":0.2}},\"type\":\"barpolar\"}],\"bar\":[{\"error_x\":{\"color\":\"rgb(36,36,36)\"},\"error_y\":{\"color\":\"rgb(36,36,36)\"},\"marker\":{\"line\":{\"color\":\"white\",\"width\":0.5},\"pattern\":{\"fillmode\":\"overlay\",\"size\":10,\"solidity\":0.2}},\"type\":\"bar\"}],\"carpet\":[{\"aaxis\":{\"endlinecolor\":\"rgb(36,36,36)\",\"gridcolor\":\"white\",\"linecolor\":\"white\",\"minorgridcolor\":\"white\",\"startlinecolor\":\"rgb(36,36,36)\"},\"baxis\":{\"endlinecolor\":\"rgb(36,36,36)\",\"gridcolor\":\"white\",\"linecolor\":\"white\",\"minorgridcolor\":\"white\",\"startlinecolor\":\"rgb(36,36,36)\"},\"type\":\"carpet\"}],\"choropleth\":[{\"colorbar\":{\"outlinewidth\":1,\"tickcolor\":\"rgb(36,36,36)\",\"ticks\":\"outside\"},\"type\":\"choropleth\"}],\"contourcarpet\":[{\"colorbar\":{\"outlinewidth\":1,\"tickcolor\":\"rgb(36,36,36)\",\"ticks\":\"outside\"},\"type\":\"contourcarpet\"}],\"contour\":[{\"colorbar\":{\"outlinewidth\":1,\"tickcolor\":\"rgb(36,36,36)\",\"ticks\":\"outside\"},\"colorscale\":[[0.0,\"#440154\"],[0.1111111111111111,\"#482878\"],[0.2222222222222222,\"#3e4989\"],[0.3333333333333333,\"#31688e\"],[0.4444444444444444,\"#26828e\"],[0.5555555555555556,\"#1f9e89\"],[0.6666666666666666,\"#35b779\"],[0.7777777777777778,\"#6ece58\"],[0.8888888888888888,\"#b5de2b\"],[1.0,\"#fde725\"]],\"type\":\"contour\"}],\"heatmapgl\":[{\"colorbar\":{\"outlinewidth\":1,\"tickcolor\":\"rgb(36,36,36)\",\"ticks\":\"outside\"},\"colorscale\":[[0.0,\"#440154\"],[0.1111111111111111,\"#482878\"],[0.2222222222222222,\"#3e4989\"],[0.3333333333333333,\"#31688e\"],[0.4444444444444444,\"#26828e\"],[0.5555555555555556,\"#1f9e89\"],[0.6666666666666666,\"#35b779\"],[0.7777777777777778,\"#6ece58\"],[0.8888888888888888,\"#b5de2b\"],[1.0,\"#fde725\"]],\"type\":\"heatmapgl\"}],\"heatmap\":[{\"colorbar\":{\"outlinewidth\":1,\"tickcolor\":\"rgb(36,36,36)\",\"ticks\":\"outside\"},\"colorscale\":[[0.0,\"#440154\"],[0.1111111111111111,\"#482878\"],[0.2222222222222222,\"#3e4989\"],[0.3333333333333333,\"#31688e\"],[0.4444444444444444,\"#26828e\"],[0.5555555555555556,\"#1f9e89\"],[0.6666666666666666,\"#35b779\"],[0.7777777777777778,\"#6ece58\"],[0.8888888888888888,\"#b5de2b\"],[1.0,\"#fde725\"]],\"type\":\"heatmap\"}],\"histogram2dcontour\":[{\"colorbar\":{\"outlinewidth\":1,\"tickcolor\":\"rgb(36,36,36)\",\"ticks\":\"outside\"},\"colorscale\":[[0.0,\"#440154\"],[0.1111111111111111,\"#482878\"],[0.2222222222222222,\"#3e4989\"],[0.3333333333333333,\"#31688e\"],[0.4444444444444444,\"#26828e\"],[0.5555555555555556,\"#1f9e89\"],[0.6666666666666666,\"#35b779\"],[0.7777777777777778,\"#6ece58\"],[0.8888888888888888,\"#b5de2b\"],[1.0,\"#fde725\"]],\"type\":\"histogram2dcontour\"}],\"histogram2d\":[{\"colorbar\":{\"outlinewidth\":1,\"tickcolor\":\"rgb(36,36,36)\",\"ticks\":\"outside\"},\"colorscale\":[[0.0,\"#440154\"],[0.1111111111111111,\"#482878\"],[0.2222222222222222,\"#3e4989\"],[0.3333333333333333,\"#31688e\"],[0.4444444444444444,\"#26828e\"],[0.5555555555555556,\"#1f9e89\"],[0.6666666666666666,\"#35b779\"],[0.7777777777777778,\"#6ece58\"],[0.8888888888888888,\"#b5de2b\"],[1.0,\"#fde725\"]],\"type\":\"histogram2d\"}],\"histogram\":[{\"marker\":{\"line\":{\"color\":\"white\",\"width\":0.6}},\"type\":\"histogram\"}],\"mesh3d\":[{\"colorbar\":{\"outlinewidth\":1,\"tickcolor\":\"rgb(36,36,36)\",\"ticks\":\"outside\"},\"type\":\"mesh3d\"}],\"parcoords\":[{\"line\":{\"colorbar\":{\"outlinewidth\":1,\"tickcolor\":\"rgb(36,36,36)\",\"ticks\":\"outside\"}},\"type\":\"parcoords\"}],\"pie\":[{\"automargin\":true,\"type\":\"pie\"}],\"scatter3d\":[{\"line\":{\"colorbar\":{\"outlinewidth\":1,\"tickcolor\":\"rgb(36,36,36)\",\"ticks\":\"outside\"}},\"marker\":{\"colorbar\":{\"outlinewidth\":1,\"tickcolor\":\"rgb(36,36,36)\",\"ticks\":\"outside\"}},\"type\":\"scatter3d\"}],\"scattercarpet\":[{\"marker\":{\"colorbar\":{\"outlinewidth\":1,\"tickcolor\":\"rgb(36,36,36)\",\"ticks\":\"outside\"}},\"type\":\"scattercarpet\"}],\"scattergeo\":[{\"marker\":{\"colorbar\":{\"outlinewidth\":1,\"tickcolor\":\"rgb(36,36,36)\",\"ticks\":\"outside\"}},\"type\":\"scattergeo\"}],\"scattergl\":[{\"marker\":{\"colorbar\":{\"outlinewidth\":1,\"tickcolor\":\"rgb(36,36,36)\",\"ticks\":\"outside\"}},\"type\":\"scattergl\"}],\"scattermapbox\":[{\"marker\":{\"colorbar\":{\"outlinewidth\":1,\"tickcolor\":\"rgb(36,36,36)\",\"ticks\":\"outside\"}},\"type\":\"scattermapbox\"}],\"scatterpolargl\":[{\"marker\":{\"colorbar\":{\"outlinewidth\":1,\"tickcolor\":\"rgb(36,36,36)\",\"ticks\":\"outside\"}},\"type\":\"scatterpolargl\"}],\"scatterpolar\":[{\"marker\":{\"colorbar\":{\"outlinewidth\":1,\"tickcolor\":\"rgb(36,36,36)\",\"ticks\":\"outside\"}},\"type\":\"scatterpolar\"}],\"scatter\":[{\"fillpattern\":{\"fillmode\":\"overlay\",\"size\":10,\"solidity\":0.2},\"type\":\"scatter\"}],\"scatterternary\":[{\"marker\":{\"colorbar\":{\"outlinewidth\":1,\"tickcolor\":\"rgb(36,36,36)\",\"ticks\":\"outside\"}},\"type\":\"scatterternary\"}],\"surface\":[{\"colorbar\":{\"outlinewidth\":1,\"tickcolor\":\"rgb(36,36,36)\",\"ticks\":\"outside\"},\"colorscale\":[[0.0,\"#440154\"],[0.1111111111111111,\"#482878\"],[0.2222222222222222,\"#3e4989\"],[0.3333333333333333,\"#31688e\"],[0.4444444444444444,\"#26828e\"],[0.5555555555555556,\"#1f9e89\"],[0.6666666666666666,\"#35b779\"],[0.7777777777777778,\"#6ece58\"],[0.8888888888888888,\"#b5de2b\"],[1.0,\"#fde725\"]],\"type\":\"surface\"}],\"table\":[{\"cells\":{\"fill\":{\"color\":\"rgb(237,237,237)\"},\"line\":{\"color\":\"white\"}},\"header\":{\"fill\":{\"color\":\"rgb(217,217,217)\"},\"line\":{\"color\":\"white\"}},\"type\":\"table\"}]},\"layout\":{\"annotationdefaults\":{\"arrowhead\":0,\"arrowwidth\":1},\"autotypenumbers\":\"strict\",\"coloraxis\":{\"colorbar\":{\"outlinewidth\":1,\"tickcolor\":\"rgb(36,36,36)\",\"ticks\":\"outside\"}},\"colorscale\":{\"diverging\":[[0.0,\"rgb(103,0,31)\"],[0.1,\"rgb(178,24,43)\"],[0.2,\"rgb(214,96,77)\"],[0.3,\"rgb(244,165,130)\"],[0.4,\"rgb(253,219,199)\"],[0.5,\"rgb(247,247,247)\"],[0.6,\"rgb(209,229,240)\"],[0.7,\"rgb(146,197,222)\"],[0.8,\"rgb(67,147,195)\"],[0.9,\"rgb(33,102,172)\"],[1.0,\"rgb(5,48,97)\"]],\"sequential\":[[0.0,\"#440154\"],[0.1111111111111111,\"#482878\"],[0.2222222222222222,\"#3e4989\"],[0.3333333333333333,\"#31688e\"],[0.4444444444444444,\"#26828e\"],[0.5555555555555556,\"#1f9e89\"],[0.6666666666666666,\"#35b779\"],[0.7777777777777778,\"#6ece58\"],[0.8888888888888888,\"#b5de2b\"],[1.0,\"#fde725\"]],\"sequentialminus\":[[0.0,\"#440154\"],[0.1111111111111111,\"#482878\"],[0.2222222222222222,\"#3e4989\"],[0.3333333333333333,\"#31688e\"],[0.4444444444444444,\"#26828e\"],[0.5555555555555556,\"#1f9e89\"],[0.6666666666666666,\"#35b779\"],[0.7777777777777778,\"#6ece58\"],[0.8888888888888888,\"#b5de2b\"],[1.0,\"#fde725\"]]},\"colorway\":[\"#1F77B4\",\"#FF7F0E\",\"#2CA02C\",\"#D62728\",\"#9467BD\",\"#8C564B\",\"#E377C2\",\"#7F7F7F\",\"#BCBD22\",\"#17BECF\"],\"font\":{\"color\":\"rgb(36,36,36)\"},\"geo\":{\"bgcolor\":\"white\",\"lakecolor\":\"white\",\"landcolor\":\"white\",\"showlakes\":true,\"showland\":true,\"subunitcolor\":\"white\"},\"hoverlabel\":{\"align\":\"left\"},\"hovermode\":\"closest\",\"mapbox\":{\"style\":\"light\"},\"paper_bgcolor\":\"white\",\"plot_bgcolor\":\"white\",\"polar\":{\"angularaxis\":{\"gridcolor\":\"rgb(232,232,232)\",\"linecolor\":\"rgb(36,36,36)\",\"showgrid\":false,\"showline\":true,\"ticks\":\"outside\"},\"bgcolor\":\"white\",\"radialaxis\":{\"gridcolor\":\"rgb(232,232,232)\",\"linecolor\":\"rgb(36,36,36)\",\"showgrid\":false,\"showline\":true,\"ticks\":\"outside\"}},\"scene\":{\"xaxis\":{\"backgroundcolor\":\"white\",\"gridcolor\":\"rgb(232,232,232)\",\"gridwidth\":2,\"linecolor\":\"rgb(36,36,36)\",\"showbackground\":true,\"showgrid\":false,\"showline\":true,\"ticks\":\"outside\",\"zeroline\":false,\"zerolinecolor\":\"rgb(36,36,36)\"},\"yaxis\":{\"backgroundcolor\":\"white\",\"gridcolor\":\"rgb(232,232,232)\",\"gridwidth\":2,\"linecolor\":\"rgb(36,36,36)\",\"showbackground\":true,\"showgrid\":false,\"showline\":true,\"ticks\":\"outside\",\"zeroline\":false,\"zerolinecolor\":\"rgb(36,36,36)\"},\"zaxis\":{\"backgroundcolor\":\"white\",\"gridcolor\":\"rgb(232,232,232)\",\"gridwidth\":2,\"linecolor\":\"rgb(36,36,36)\",\"showbackground\":true,\"showgrid\":false,\"showline\":true,\"ticks\":\"outside\",\"zeroline\":false,\"zerolinecolor\":\"rgb(36,36,36)\"}},\"shapedefaults\":{\"fillcolor\":\"black\",\"line\":{\"width\":0},\"opacity\":0.3},\"ternary\":{\"aaxis\":{\"gridcolor\":\"rgb(232,232,232)\",\"linecolor\":\"rgb(36,36,36)\",\"showgrid\":false,\"showline\":true,\"ticks\":\"outside\"},\"baxis\":{\"gridcolor\":\"rgb(232,232,232)\",\"linecolor\":\"rgb(36,36,36)\",\"showgrid\":false,\"showline\":true,\"ticks\":\"outside\"},\"bgcolor\":\"white\",\"caxis\":{\"gridcolor\":\"rgb(232,232,232)\",\"linecolor\":\"rgb(36,36,36)\",\"showgrid\":false,\"showline\":true,\"ticks\":\"outside\"}},\"title\":{\"x\":0.05},\"xaxis\":{\"automargin\":true,\"gridcolor\":\"rgb(232,232,232)\",\"linecolor\":\"rgb(36,36,36)\",\"showgrid\":false,\"showline\":true,\"ticks\":\"outside\",\"title\":{\"standoff\":15},\"zeroline\":false,\"zerolinecolor\":\"rgb(36,36,36)\"},\"yaxis\":{\"automargin\":true,\"gridcolor\":\"rgb(232,232,232)\",\"linecolor\":\"rgb(36,36,36)\",\"showgrid\":false,\"showline\":true,\"ticks\":\"outside\",\"title\":{\"standoff\":15},\"zeroline\":false,\"zerolinecolor\":\"rgb(36,36,36)\"}}},\"xaxis\":{\"anchor\":\"y\",\"domain\":[0.0,1.0],\"title\":{\"text\":\"\"},\"visible\":false,\"range\":[-11.149349451065063,20.575819969177246]},\"yaxis\":{\"anchor\":\"x\",\"domain\":[0.0,1.0],\"title\":{\"text\":\"\"},\"visible\":false,\"range\":[-5.8517580270767215,18.62392282485962]},\"legend\":{\"tracegroupgap\":0,\"itemsizing\":\"constant\"},\"margin\":{\"t\":60},\"title\":{\"font\":{\"size\":22,\"color\":\"Black\"},\"text\":\"<b>Intertopic Distance Map\",\"y\":0.95,\"x\":0.5,\"xanchor\":\"center\",\"yanchor\":\"top\"},\"hoverlabel\":{\"font\":{\"size\":16,\"family\":\"Rockwell\"},\"bgcolor\":\"white\"},\"width\":650,\"height\":650,\"sliders\":[{\"active\":0,\"pad\":{\"t\":50},\"steps\":[{\"args\":[{\"marker.color\":[[\"red\",\"#B0BEC5\",\"#B0BEC5\",\"#B0BEC5\",\"#B0BEC5\",\"#B0BEC5\",\"#B0BEC5\",\"#B0BEC5\",\"#B0BEC5\",\"#B0BEC5\",\"#B0BEC5\",\"#B0BEC5\",\"#B0BEC5\",\"#B0BEC5\",\"#B0BEC5\",\"#B0BEC5\",\"#B0BEC5\",\"#B0BEC5\",\"#B0BEC5\",\"#B0BEC5\",\"#B0BEC5\",\"#B0BEC5\",\"#B0BEC5\",\"#B0BEC5\",\"#B0BEC5\",\"#B0BEC5\",\"#B0BEC5\",\"#B0BEC5\",\"#B0BEC5\",\"#B0BEC5\",\"#B0BEC5\",\"#B0BEC5\",\"#B0BEC5\",\"#B0BEC5\",\"#B0BEC5\",\"#B0BEC5\",\"#B0BEC5\",\"#B0BEC5\",\"#B0BEC5\",\"#B0BEC5\",\"#B0BEC5\",\"#B0BEC5\",\"#B0BEC5\",\"#B0BEC5\",\"#B0BEC5\",\"#B0BEC5\",\"#B0BEC5\",\"#B0BEC5\",\"#B0BEC5\"]]}],\"label\":\"Topic 0\",\"method\":\"update\"},{\"args\":[{\"marker.color\":[[\"#B0BEC5\",\"red\",\"#B0BEC5\",\"#B0BEC5\",\"#B0BEC5\",\"#B0BEC5\",\"#B0BEC5\",\"#B0BEC5\",\"#B0BEC5\",\"#B0BEC5\",\"#B0BEC5\",\"#B0BEC5\",\"#B0BEC5\",\"#B0BEC5\",\"#B0BEC5\",\"#B0BEC5\",\"#B0BEC5\",\"#B0BEC5\",\"#B0BEC5\",\"#B0BEC5\",\"#B0BEC5\",\"#B0BEC5\",\"#B0BEC5\",\"#B0BEC5\",\"#B0BEC5\",\"#B0BEC5\",\"#B0BEC5\",\"#B0BEC5\",\"#B0BEC5\",\"#B0BEC5\",\"#B0BEC5\",\"#B0BEC5\",\"#B0BEC5\",\"#B0BEC5\",\"#B0BEC5\",\"#B0BEC5\",\"#B0BEC5\",\"#B0BEC5\",\"#B0BEC5\",\"#B0BEC5\",\"#B0BEC5\",\"#B0BEC5\",\"#B0BEC5\",\"#B0BEC5\",\"#B0BEC5\",\"#B0BEC5\",\"#B0BEC5\",\"#B0BEC5\",\"#B0BEC5\"]]}],\"label\":\"Topic 1\",\"method\":\"update\"},{\"args\":[{\"marker.color\":[[\"#B0BEC5\",\"#B0BEC5\",\"red\",\"#B0BEC5\",\"#B0BEC5\",\"#B0BEC5\",\"#B0BEC5\",\"#B0BEC5\",\"#B0BEC5\",\"#B0BEC5\",\"#B0BEC5\",\"#B0BEC5\",\"#B0BEC5\",\"#B0BEC5\",\"#B0BEC5\",\"#B0BEC5\",\"#B0BEC5\",\"#B0BEC5\",\"#B0BEC5\",\"#B0BEC5\",\"#B0BEC5\",\"#B0BEC5\",\"#B0BEC5\",\"#B0BEC5\",\"#B0BEC5\",\"#B0BEC5\",\"#B0BEC5\",\"#B0BEC5\",\"#B0BEC5\",\"#B0BEC5\",\"#B0BEC5\",\"#B0BEC5\",\"#B0BEC5\",\"#B0BEC5\",\"#B0BEC5\",\"#B0BEC5\",\"#B0BEC5\",\"#B0BEC5\",\"#B0BEC5\",\"#B0BEC5\",\"#B0BEC5\",\"#B0BEC5\",\"#B0BEC5\",\"#B0BEC5\",\"#B0BEC5\",\"#B0BEC5\",\"#B0BEC5\",\"#B0BEC5\",\"#B0BEC5\"]]}],\"label\":\"Topic 2\",\"method\":\"update\"},{\"args\":[{\"marker.color\":[[\"#B0BEC5\",\"#B0BEC5\",\"#B0BEC5\",\"red\",\"#B0BEC5\",\"#B0BEC5\",\"#B0BEC5\",\"#B0BEC5\",\"#B0BEC5\",\"#B0BEC5\",\"#B0BEC5\",\"#B0BEC5\",\"#B0BEC5\",\"#B0BEC5\",\"#B0BEC5\",\"#B0BEC5\",\"#B0BEC5\",\"#B0BEC5\",\"#B0BEC5\",\"#B0BEC5\",\"#B0BEC5\",\"#B0BEC5\",\"#B0BEC5\",\"#B0BEC5\",\"#B0BEC5\",\"#B0BEC5\",\"#B0BEC5\",\"#B0BEC5\",\"#B0BEC5\",\"#B0BEC5\",\"#B0BEC5\",\"#B0BEC5\",\"#B0BEC5\",\"#B0BEC5\",\"#B0BEC5\",\"#B0BEC5\",\"#B0BEC5\",\"#B0BEC5\",\"#B0BEC5\",\"#B0BEC5\",\"#B0BEC5\",\"#B0BEC5\",\"#B0BEC5\",\"#B0BEC5\",\"#B0BEC5\",\"#B0BEC5\",\"#B0BEC5\",\"#B0BEC5\",\"#B0BEC5\"]]}],\"label\":\"Topic 3\",\"method\":\"update\"},{\"args\":[{\"marker.color\":[[\"#B0BEC5\",\"#B0BEC5\",\"#B0BEC5\",\"#B0BEC5\",\"red\",\"#B0BEC5\",\"#B0BEC5\",\"#B0BEC5\",\"#B0BEC5\",\"#B0BEC5\",\"#B0BEC5\",\"#B0BEC5\",\"#B0BEC5\",\"#B0BEC5\",\"#B0BEC5\",\"#B0BEC5\",\"#B0BEC5\",\"#B0BEC5\",\"#B0BEC5\",\"#B0BEC5\",\"#B0BEC5\",\"#B0BEC5\",\"#B0BEC5\",\"#B0BEC5\",\"#B0BEC5\",\"#B0BEC5\",\"#B0BEC5\",\"#B0BEC5\",\"#B0BEC5\",\"#B0BEC5\",\"#B0BEC5\",\"#B0BEC5\",\"#B0BEC5\",\"#B0BEC5\",\"#B0BEC5\",\"#B0BEC5\",\"#B0BEC5\",\"#B0BEC5\",\"#B0BEC5\",\"#B0BEC5\",\"#B0BEC5\",\"#B0BEC5\",\"#B0BEC5\",\"#B0BEC5\",\"#B0BEC5\",\"#B0BEC5\",\"#B0BEC5\",\"#B0BEC5\",\"#B0BEC5\"]]}],\"label\":\"Topic 4\",\"method\":\"update\"},{\"args\":[{\"marker.color\":[[\"#B0BEC5\",\"#B0BEC5\",\"#B0BEC5\",\"#B0BEC5\",\"#B0BEC5\",\"red\",\"#B0BEC5\",\"#B0BEC5\",\"#B0BEC5\",\"#B0BEC5\",\"#B0BEC5\",\"#B0BEC5\",\"#B0BEC5\",\"#B0BEC5\",\"#B0BEC5\",\"#B0BEC5\",\"#B0BEC5\",\"#B0BEC5\",\"#B0BEC5\",\"#B0BEC5\",\"#B0BEC5\",\"#B0BEC5\",\"#B0BEC5\",\"#B0BEC5\",\"#B0BEC5\",\"#B0BEC5\",\"#B0BEC5\",\"#B0BEC5\",\"#B0BEC5\",\"#B0BEC5\",\"#B0BEC5\",\"#B0BEC5\",\"#B0BEC5\",\"#B0BEC5\",\"#B0BEC5\",\"#B0BEC5\",\"#B0BEC5\",\"#B0BEC5\",\"#B0BEC5\",\"#B0BEC5\",\"#B0BEC5\",\"#B0BEC5\",\"#B0BEC5\",\"#B0BEC5\",\"#B0BEC5\",\"#B0BEC5\",\"#B0BEC5\",\"#B0BEC5\",\"#B0BEC5\"]]}],\"label\":\"Topic 5\",\"method\":\"update\"},{\"args\":[{\"marker.color\":[[\"#B0BEC5\",\"#B0BEC5\",\"#B0BEC5\",\"#B0BEC5\",\"#B0BEC5\",\"#B0BEC5\",\"red\",\"#B0BEC5\",\"#B0BEC5\",\"#B0BEC5\",\"#B0BEC5\",\"#B0BEC5\",\"#B0BEC5\",\"#B0BEC5\",\"#B0BEC5\",\"#B0BEC5\",\"#B0BEC5\",\"#B0BEC5\",\"#B0BEC5\",\"#B0BEC5\",\"#B0BEC5\",\"#B0BEC5\",\"#B0BEC5\",\"#B0BEC5\",\"#B0BEC5\",\"#B0BEC5\",\"#B0BEC5\",\"#B0BEC5\",\"#B0BEC5\",\"#B0BEC5\",\"#B0BEC5\",\"#B0BEC5\",\"#B0BEC5\",\"#B0BEC5\",\"#B0BEC5\",\"#B0BEC5\",\"#B0BEC5\",\"#B0BEC5\",\"#B0BEC5\",\"#B0BEC5\",\"#B0BEC5\",\"#B0BEC5\",\"#B0BEC5\",\"#B0BEC5\",\"#B0BEC5\",\"#B0BEC5\",\"#B0BEC5\",\"#B0BEC5\",\"#B0BEC5\"]]}],\"label\":\"Topic 6\",\"method\":\"update\"},{\"args\":[{\"marker.color\":[[\"#B0BEC5\",\"#B0BEC5\",\"#B0BEC5\",\"#B0BEC5\",\"#B0BEC5\",\"#B0BEC5\",\"#B0BEC5\",\"red\",\"#B0BEC5\",\"#B0BEC5\",\"#B0BEC5\",\"#B0BEC5\",\"#B0BEC5\",\"#B0BEC5\",\"#B0BEC5\",\"#B0BEC5\",\"#B0BEC5\",\"#B0BEC5\",\"#B0BEC5\",\"#B0BEC5\",\"#B0BEC5\",\"#B0BEC5\",\"#B0BEC5\",\"#B0BEC5\",\"#B0BEC5\",\"#B0BEC5\",\"#B0BEC5\",\"#B0BEC5\",\"#B0BEC5\",\"#B0BEC5\",\"#B0BEC5\",\"#B0BEC5\",\"#B0BEC5\",\"#B0BEC5\",\"#B0BEC5\",\"#B0BEC5\",\"#B0BEC5\",\"#B0BEC5\",\"#B0BEC5\",\"#B0BEC5\",\"#B0BEC5\",\"#B0BEC5\",\"#B0BEC5\",\"#B0BEC5\",\"#B0BEC5\",\"#B0BEC5\",\"#B0BEC5\",\"#B0BEC5\",\"#B0BEC5\"]]}],\"label\":\"Topic 7\",\"method\":\"update\"},{\"args\":[{\"marker.color\":[[\"#B0BEC5\",\"#B0BEC5\",\"#B0BEC5\",\"#B0BEC5\",\"#B0BEC5\",\"#B0BEC5\",\"#B0BEC5\",\"#B0BEC5\",\"red\",\"#B0BEC5\",\"#B0BEC5\",\"#B0BEC5\",\"#B0BEC5\",\"#B0BEC5\",\"#B0BEC5\",\"#B0BEC5\",\"#B0BEC5\",\"#B0BEC5\",\"#B0BEC5\",\"#B0BEC5\",\"#B0BEC5\",\"#B0BEC5\",\"#B0BEC5\",\"#B0BEC5\",\"#B0BEC5\",\"#B0BEC5\",\"#B0BEC5\",\"#B0BEC5\",\"#B0BEC5\",\"#B0BEC5\",\"#B0BEC5\",\"#B0BEC5\",\"#B0BEC5\",\"#B0BEC5\",\"#B0BEC5\",\"#B0BEC5\",\"#B0BEC5\",\"#B0BEC5\",\"#B0BEC5\",\"#B0BEC5\",\"#B0BEC5\",\"#B0BEC5\",\"#B0BEC5\",\"#B0BEC5\",\"#B0BEC5\",\"#B0BEC5\",\"#B0BEC5\",\"#B0BEC5\",\"#B0BEC5\"]]}],\"label\":\"Topic 8\",\"method\":\"update\"},{\"args\":[{\"marker.color\":[[\"#B0BEC5\",\"#B0BEC5\",\"#B0BEC5\",\"#B0BEC5\",\"#B0BEC5\",\"#B0BEC5\",\"#B0BEC5\",\"#B0BEC5\",\"#B0BEC5\",\"red\",\"#B0BEC5\",\"#B0BEC5\",\"#B0BEC5\",\"#B0BEC5\",\"#B0BEC5\",\"#B0BEC5\",\"#B0BEC5\",\"#B0BEC5\",\"#B0BEC5\",\"#B0BEC5\",\"#B0BEC5\",\"#B0BEC5\",\"#B0BEC5\",\"#B0BEC5\",\"#B0BEC5\",\"#B0BEC5\",\"#B0BEC5\",\"#B0BEC5\",\"#B0BEC5\",\"#B0BEC5\",\"#B0BEC5\",\"#B0BEC5\",\"#B0BEC5\",\"#B0BEC5\",\"#B0BEC5\",\"#B0BEC5\",\"#B0BEC5\",\"#B0BEC5\",\"#B0BEC5\",\"#B0BEC5\",\"#B0BEC5\",\"#B0BEC5\",\"#B0BEC5\",\"#B0BEC5\",\"#B0BEC5\",\"#B0BEC5\",\"#B0BEC5\",\"#B0BEC5\",\"#B0BEC5\"]]}],\"label\":\"Topic 9\",\"method\":\"update\"},{\"args\":[{\"marker.color\":[[\"#B0BEC5\",\"#B0BEC5\",\"#B0BEC5\",\"#B0BEC5\",\"#B0BEC5\",\"#B0BEC5\",\"#B0BEC5\",\"#B0BEC5\",\"#B0BEC5\",\"#B0BEC5\",\"red\",\"#B0BEC5\",\"#B0BEC5\",\"#B0BEC5\",\"#B0BEC5\",\"#B0BEC5\",\"#B0BEC5\",\"#B0BEC5\",\"#B0BEC5\",\"#B0BEC5\",\"#B0BEC5\",\"#B0BEC5\",\"#B0BEC5\",\"#B0BEC5\",\"#B0BEC5\",\"#B0BEC5\",\"#B0BEC5\",\"#B0BEC5\",\"#B0BEC5\",\"#B0BEC5\",\"#B0BEC5\",\"#B0BEC5\",\"#B0BEC5\",\"#B0BEC5\",\"#B0BEC5\",\"#B0BEC5\",\"#B0BEC5\",\"#B0BEC5\",\"#B0BEC5\",\"#B0BEC5\",\"#B0BEC5\",\"#B0BEC5\",\"#B0BEC5\",\"#B0BEC5\",\"#B0BEC5\",\"#B0BEC5\",\"#B0BEC5\",\"#B0BEC5\",\"#B0BEC5\"]]}],\"label\":\"Topic 10\",\"method\":\"update\"},{\"args\":[{\"marker.color\":[[\"#B0BEC5\",\"#B0BEC5\",\"#B0BEC5\",\"#B0BEC5\",\"#B0BEC5\",\"#B0BEC5\",\"#B0BEC5\",\"#B0BEC5\",\"#B0BEC5\",\"#B0BEC5\",\"#B0BEC5\",\"red\",\"#B0BEC5\",\"#B0BEC5\",\"#B0BEC5\",\"#B0BEC5\",\"#B0BEC5\",\"#B0BEC5\",\"#B0BEC5\",\"#B0BEC5\",\"#B0BEC5\",\"#B0BEC5\",\"#B0BEC5\",\"#B0BEC5\",\"#B0BEC5\",\"#B0BEC5\",\"#B0BEC5\",\"#B0BEC5\",\"#B0BEC5\",\"#B0BEC5\",\"#B0BEC5\",\"#B0BEC5\",\"#B0BEC5\",\"#B0BEC5\",\"#B0BEC5\",\"#B0BEC5\",\"#B0BEC5\",\"#B0BEC5\",\"#B0BEC5\",\"#B0BEC5\",\"#B0BEC5\",\"#B0BEC5\",\"#B0BEC5\",\"#B0BEC5\",\"#B0BEC5\",\"#B0BEC5\",\"#B0BEC5\",\"#B0BEC5\",\"#B0BEC5\"]]}],\"label\":\"Topic 11\",\"method\":\"update\"},{\"args\":[{\"marker.color\":[[\"#B0BEC5\",\"#B0BEC5\",\"#B0BEC5\",\"#B0BEC5\",\"#B0BEC5\",\"#B0BEC5\",\"#B0BEC5\",\"#B0BEC5\",\"#B0BEC5\",\"#B0BEC5\",\"#B0BEC5\",\"#B0BEC5\",\"red\",\"#B0BEC5\",\"#B0BEC5\",\"#B0BEC5\",\"#B0BEC5\",\"#B0BEC5\",\"#B0BEC5\",\"#B0BEC5\",\"#B0BEC5\",\"#B0BEC5\",\"#B0BEC5\",\"#B0BEC5\",\"#B0BEC5\",\"#B0BEC5\",\"#B0BEC5\",\"#B0BEC5\",\"#B0BEC5\",\"#B0BEC5\",\"#B0BEC5\",\"#B0BEC5\",\"#B0BEC5\",\"#B0BEC5\",\"#B0BEC5\",\"#B0BEC5\",\"#B0BEC5\",\"#B0BEC5\",\"#B0BEC5\",\"#B0BEC5\",\"#B0BEC5\",\"#B0BEC5\",\"#B0BEC5\",\"#B0BEC5\",\"#B0BEC5\",\"#B0BEC5\",\"#B0BEC5\",\"#B0BEC5\",\"#B0BEC5\"]]}],\"label\":\"Topic 12\",\"method\":\"update\"},{\"args\":[{\"marker.color\":[[\"#B0BEC5\",\"#B0BEC5\",\"#B0BEC5\",\"#B0BEC5\",\"#B0BEC5\",\"#B0BEC5\",\"#B0BEC5\",\"#B0BEC5\",\"#B0BEC5\",\"#B0BEC5\",\"#B0BEC5\",\"#B0BEC5\",\"#B0BEC5\",\"red\",\"#B0BEC5\",\"#B0BEC5\",\"#B0BEC5\",\"#B0BEC5\",\"#B0BEC5\",\"#B0BEC5\",\"#B0BEC5\",\"#B0BEC5\",\"#B0BEC5\",\"#B0BEC5\",\"#B0BEC5\",\"#B0BEC5\",\"#B0BEC5\",\"#B0BEC5\",\"#B0BEC5\",\"#B0BEC5\",\"#B0BEC5\",\"#B0BEC5\",\"#B0BEC5\",\"#B0BEC5\",\"#B0BEC5\",\"#B0BEC5\",\"#B0BEC5\",\"#B0BEC5\",\"#B0BEC5\",\"#B0BEC5\",\"#B0BEC5\",\"#B0BEC5\",\"#B0BEC5\",\"#B0BEC5\",\"#B0BEC5\",\"#B0BEC5\",\"#B0BEC5\",\"#B0BEC5\",\"#B0BEC5\"]]}],\"label\":\"Topic 13\",\"method\":\"update\"},{\"args\":[{\"marker.color\":[[\"#B0BEC5\",\"#B0BEC5\",\"#B0BEC5\",\"#B0BEC5\",\"#B0BEC5\",\"#B0BEC5\",\"#B0BEC5\",\"#B0BEC5\",\"#B0BEC5\",\"#B0BEC5\",\"#B0BEC5\",\"#B0BEC5\",\"#B0BEC5\",\"#B0BEC5\",\"red\",\"#B0BEC5\",\"#B0BEC5\",\"#B0BEC5\",\"#B0BEC5\",\"#B0BEC5\",\"#B0BEC5\",\"#B0BEC5\",\"#B0BEC5\",\"#B0BEC5\",\"#B0BEC5\",\"#B0BEC5\",\"#B0BEC5\",\"#B0BEC5\",\"#B0BEC5\",\"#B0BEC5\",\"#B0BEC5\",\"#B0BEC5\",\"#B0BEC5\",\"#B0BEC5\",\"#B0BEC5\",\"#B0BEC5\",\"#B0BEC5\",\"#B0BEC5\",\"#B0BEC5\",\"#B0BEC5\",\"#B0BEC5\",\"#B0BEC5\",\"#B0BEC5\",\"#B0BEC5\",\"#B0BEC5\",\"#B0BEC5\",\"#B0BEC5\",\"#B0BEC5\",\"#B0BEC5\"]]}],\"label\":\"Topic 14\",\"method\":\"update\"},{\"args\":[{\"marker.color\":[[\"#B0BEC5\",\"#B0BEC5\",\"#B0BEC5\",\"#B0BEC5\",\"#B0BEC5\",\"#B0BEC5\",\"#B0BEC5\",\"#B0BEC5\",\"#B0BEC5\",\"#B0BEC5\",\"#B0BEC5\",\"#B0BEC5\",\"#B0BEC5\",\"#B0BEC5\",\"#B0BEC5\",\"red\",\"#B0BEC5\",\"#B0BEC5\",\"#B0BEC5\",\"#B0BEC5\",\"#B0BEC5\",\"#B0BEC5\",\"#B0BEC5\",\"#B0BEC5\",\"#B0BEC5\",\"#B0BEC5\",\"#B0BEC5\",\"#B0BEC5\",\"#B0BEC5\",\"#B0BEC5\",\"#B0BEC5\",\"#B0BEC5\",\"#B0BEC5\",\"#B0BEC5\",\"#B0BEC5\",\"#B0BEC5\",\"#B0BEC5\",\"#B0BEC5\",\"#B0BEC5\",\"#B0BEC5\",\"#B0BEC5\",\"#B0BEC5\",\"#B0BEC5\",\"#B0BEC5\",\"#B0BEC5\",\"#B0BEC5\",\"#B0BEC5\",\"#B0BEC5\",\"#B0BEC5\"]]}],\"label\":\"Topic 15\",\"method\":\"update\"},{\"args\":[{\"marker.color\":[[\"#B0BEC5\",\"#B0BEC5\",\"#B0BEC5\",\"#B0BEC5\",\"#B0BEC5\",\"#B0BEC5\",\"#B0BEC5\",\"#B0BEC5\",\"#B0BEC5\",\"#B0BEC5\",\"#B0BEC5\",\"#B0BEC5\",\"#B0BEC5\",\"#B0BEC5\",\"#B0BEC5\",\"#B0BEC5\",\"red\",\"#B0BEC5\",\"#B0BEC5\",\"#B0BEC5\",\"#B0BEC5\",\"#B0BEC5\",\"#B0BEC5\",\"#B0BEC5\",\"#B0BEC5\",\"#B0BEC5\",\"#B0BEC5\",\"#B0BEC5\",\"#B0BEC5\",\"#B0BEC5\",\"#B0BEC5\",\"#B0BEC5\",\"#B0BEC5\",\"#B0BEC5\",\"#B0BEC5\",\"#B0BEC5\",\"#B0BEC5\",\"#B0BEC5\",\"#B0BEC5\",\"#B0BEC5\",\"#B0BEC5\",\"#B0BEC5\",\"#B0BEC5\",\"#B0BEC5\",\"#B0BEC5\",\"#B0BEC5\",\"#B0BEC5\",\"#B0BEC5\",\"#B0BEC5\"]]}],\"label\":\"Topic 16\",\"method\":\"update\"},{\"args\":[{\"marker.color\":[[\"#B0BEC5\",\"#B0BEC5\",\"#B0BEC5\",\"#B0BEC5\",\"#B0BEC5\",\"#B0BEC5\",\"#B0BEC5\",\"#B0BEC5\",\"#B0BEC5\",\"#B0BEC5\",\"#B0BEC5\",\"#B0BEC5\",\"#B0BEC5\",\"#B0BEC5\",\"#B0BEC5\",\"#B0BEC5\",\"#B0BEC5\",\"red\",\"#B0BEC5\",\"#B0BEC5\",\"#B0BEC5\",\"#B0BEC5\",\"#B0BEC5\",\"#B0BEC5\",\"#B0BEC5\",\"#B0BEC5\",\"#B0BEC5\",\"#B0BEC5\",\"#B0BEC5\",\"#B0BEC5\",\"#B0BEC5\",\"#B0BEC5\",\"#B0BEC5\",\"#B0BEC5\",\"#B0BEC5\",\"#B0BEC5\",\"#B0BEC5\",\"#B0BEC5\",\"#B0BEC5\",\"#B0BEC5\",\"#B0BEC5\",\"#B0BEC5\",\"#B0BEC5\",\"#B0BEC5\",\"#B0BEC5\",\"#B0BEC5\",\"#B0BEC5\",\"#B0BEC5\",\"#B0BEC5\"]]}],\"label\":\"Topic 17\",\"method\":\"update\"},{\"args\":[{\"marker.color\":[[\"#B0BEC5\",\"#B0BEC5\",\"#B0BEC5\",\"#B0BEC5\",\"#B0BEC5\",\"#B0BEC5\",\"#B0BEC5\",\"#B0BEC5\",\"#B0BEC5\",\"#B0BEC5\",\"#B0BEC5\",\"#B0BEC5\",\"#B0BEC5\",\"#B0BEC5\",\"#B0BEC5\",\"#B0BEC5\",\"#B0BEC5\",\"#B0BEC5\",\"red\",\"#B0BEC5\",\"#B0BEC5\",\"#B0BEC5\",\"#B0BEC5\",\"#B0BEC5\",\"#B0BEC5\",\"#B0BEC5\",\"#B0BEC5\",\"#B0BEC5\",\"#B0BEC5\",\"#B0BEC5\",\"#B0BEC5\",\"#B0BEC5\",\"#B0BEC5\",\"#B0BEC5\",\"#B0BEC5\",\"#B0BEC5\",\"#B0BEC5\",\"#B0BEC5\",\"#B0BEC5\",\"#B0BEC5\",\"#B0BEC5\",\"#B0BEC5\",\"#B0BEC5\",\"#B0BEC5\",\"#B0BEC5\",\"#B0BEC5\",\"#B0BEC5\",\"#B0BEC5\",\"#B0BEC5\"]]}],\"label\":\"Topic 18\",\"method\":\"update\"},{\"args\":[{\"marker.color\":[[\"#B0BEC5\",\"#B0BEC5\",\"#B0BEC5\",\"#B0BEC5\",\"#B0BEC5\",\"#B0BEC5\",\"#B0BEC5\",\"#B0BEC5\",\"#B0BEC5\",\"#B0BEC5\",\"#B0BEC5\",\"#B0BEC5\",\"#B0BEC5\",\"#B0BEC5\",\"#B0BEC5\",\"#B0BEC5\",\"#B0BEC5\",\"#B0BEC5\",\"#B0BEC5\",\"red\",\"#B0BEC5\",\"#B0BEC5\",\"#B0BEC5\",\"#B0BEC5\",\"#B0BEC5\",\"#B0BEC5\",\"#B0BEC5\",\"#B0BEC5\",\"#B0BEC5\",\"#B0BEC5\",\"#B0BEC5\",\"#B0BEC5\",\"#B0BEC5\",\"#B0BEC5\",\"#B0BEC5\",\"#B0BEC5\",\"#B0BEC5\",\"#B0BEC5\",\"#B0BEC5\",\"#B0BEC5\",\"#B0BEC5\",\"#B0BEC5\",\"#B0BEC5\",\"#B0BEC5\",\"#B0BEC5\",\"#B0BEC5\",\"#B0BEC5\",\"#B0BEC5\",\"#B0BEC5\"]]}],\"label\":\"Topic 19\",\"method\":\"update\"},{\"args\":[{\"marker.color\":[[\"#B0BEC5\",\"#B0BEC5\",\"#B0BEC5\",\"#B0BEC5\",\"#B0BEC5\",\"#B0BEC5\",\"#B0BEC5\",\"#B0BEC5\",\"#B0BEC5\",\"#B0BEC5\",\"#B0BEC5\",\"#B0BEC5\",\"#B0BEC5\",\"#B0BEC5\",\"#B0BEC5\",\"#B0BEC5\",\"#B0BEC5\",\"#B0BEC5\",\"#B0BEC5\",\"#B0BEC5\",\"red\",\"#B0BEC5\",\"#B0BEC5\",\"#B0BEC5\",\"#B0BEC5\",\"#B0BEC5\",\"#B0BEC5\",\"#B0BEC5\",\"#B0BEC5\",\"#B0BEC5\",\"#B0BEC5\",\"#B0BEC5\",\"#B0BEC5\",\"#B0BEC5\",\"#B0BEC5\",\"#B0BEC5\",\"#B0BEC5\",\"#B0BEC5\",\"#B0BEC5\",\"#B0BEC5\",\"#B0BEC5\",\"#B0BEC5\",\"#B0BEC5\",\"#B0BEC5\",\"#B0BEC5\",\"#B0BEC5\",\"#B0BEC5\",\"#B0BEC5\",\"#B0BEC5\"]]}],\"label\":\"Topic 20\",\"method\":\"update\"},{\"args\":[{\"marker.color\":[[\"#B0BEC5\",\"#B0BEC5\",\"#B0BEC5\",\"#B0BEC5\",\"#B0BEC5\",\"#B0BEC5\",\"#B0BEC5\",\"#B0BEC5\",\"#B0BEC5\",\"#B0BEC5\",\"#B0BEC5\",\"#B0BEC5\",\"#B0BEC5\",\"#B0BEC5\",\"#B0BEC5\",\"#B0BEC5\",\"#B0BEC5\",\"#B0BEC5\",\"#B0BEC5\",\"#B0BEC5\",\"#B0BEC5\",\"red\",\"#B0BEC5\",\"#B0BEC5\",\"#B0BEC5\",\"#B0BEC5\",\"#B0BEC5\",\"#B0BEC5\",\"#B0BEC5\",\"#B0BEC5\",\"#B0BEC5\",\"#B0BEC5\",\"#B0BEC5\",\"#B0BEC5\",\"#B0BEC5\",\"#B0BEC5\",\"#B0BEC5\",\"#B0BEC5\",\"#B0BEC5\",\"#B0BEC5\",\"#B0BEC5\",\"#B0BEC5\",\"#B0BEC5\",\"#B0BEC5\",\"#B0BEC5\",\"#B0BEC5\",\"#B0BEC5\",\"#B0BEC5\",\"#B0BEC5\"]]}],\"label\":\"Topic 21\",\"method\":\"update\"},{\"args\":[{\"marker.color\":[[\"#B0BEC5\",\"#B0BEC5\",\"#B0BEC5\",\"#B0BEC5\",\"#B0BEC5\",\"#B0BEC5\",\"#B0BEC5\",\"#B0BEC5\",\"#B0BEC5\",\"#B0BEC5\",\"#B0BEC5\",\"#B0BEC5\",\"#B0BEC5\",\"#B0BEC5\",\"#B0BEC5\",\"#B0BEC5\",\"#B0BEC5\",\"#B0BEC5\",\"#B0BEC5\",\"#B0BEC5\",\"#B0BEC5\",\"#B0BEC5\",\"red\",\"#B0BEC5\",\"#B0BEC5\",\"#B0BEC5\",\"#B0BEC5\",\"#B0BEC5\",\"#B0BEC5\",\"#B0BEC5\",\"#B0BEC5\",\"#B0BEC5\",\"#B0BEC5\",\"#B0BEC5\",\"#B0BEC5\",\"#B0BEC5\",\"#B0BEC5\",\"#B0BEC5\",\"#B0BEC5\",\"#B0BEC5\",\"#B0BEC5\",\"#B0BEC5\",\"#B0BEC5\",\"#B0BEC5\",\"#B0BEC5\",\"#B0BEC5\",\"#B0BEC5\",\"#B0BEC5\",\"#B0BEC5\"]]}],\"label\":\"Topic 22\",\"method\":\"update\"},{\"args\":[{\"marker.color\":[[\"#B0BEC5\",\"#B0BEC5\",\"#B0BEC5\",\"#B0BEC5\",\"#B0BEC5\",\"#B0BEC5\",\"#B0BEC5\",\"#B0BEC5\",\"#B0BEC5\",\"#B0BEC5\",\"#B0BEC5\",\"#B0BEC5\",\"#B0BEC5\",\"#B0BEC5\",\"#B0BEC5\",\"#B0BEC5\",\"#B0BEC5\",\"#B0BEC5\",\"#B0BEC5\",\"#B0BEC5\",\"#B0BEC5\",\"#B0BEC5\",\"#B0BEC5\",\"red\",\"#B0BEC5\",\"#B0BEC5\",\"#B0BEC5\",\"#B0BEC5\",\"#B0BEC5\",\"#B0BEC5\",\"#B0BEC5\",\"#B0BEC5\",\"#B0BEC5\",\"#B0BEC5\",\"#B0BEC5\",\"#B0BEC5\",\"#B0BEC5\",\"#B0BEC5\",\"#B0BEC5\",\"#B0BEC5\",\"#B0BEC5\",\"#B0BEC5\",\"#B0BEC5\",\"#B0BEC5\",\"#B0BEC5\",\"#B0BEC5\",\"#B0BEC5\",\"#B0BEC5\",\"#B0BEC5\"]]}],\"label\":\"Topic 23\",\"method\":\"update\"},{\"args\":[{\"marker.color\":[[\"#B0BEC5\",\"#B0BEC5\",\"#B0BEC5\",\"#B0BEC5\",\"#B0BEC5\",\"#B0BEC5\",\"#B0BEC5\",\"#B0BEC5\",\"#B0BEC5\",\"#B0BEC5\",\"#B0BEC5\",\"#B0BEC5\",\"#B0BEC5\",\"#B0BEC5\",\"#B0BEC5\",\"#B0BEC5\",\"#B0BEC5\",\"#B0BEC5\",\"#B0BEC5\",\"#B0BEC5\",\"#B0BEC5\",\"#B0BEC5\",\"#B0BEC5\",\"#B0BEC5\",\"red\",\"#B0BEC5\",\"#B0BEC5\",\"#B0BEC5\",\"#B0BEC5\",\"#B0BEC5\",\"#B0BEC5\",\"#B0BEC5\",\"#B0BEC5\",\"#B0BEC5\",\"#B0BEC5\",\"#B0BEC5\",\"#B0BEC5\",\"#B0BEC5\",\"#B0BEC5\",\"#B0BEC5\",\"#B0BEC5\",\"#B0BEC5\",\"#B0BEC5\",\"#B0BEC5\",\"#B0BEC5\",\"#B0BEC5\",\"#B0BEC5\",\"#B0BEC5\",\"#B0BEC5\"]]}],\"label\":\"Topic 24\",\"method\":\"update\"},{\"args\":[{\"marker.color\":[[\"#B0BEC5\",\"#B0BEC5\",\"#B0BEC5\",\"#B0BEC5\",\"#B0BEC5\",\"#B0BEC5\",\"#B0BEC5\",\"#B0BEC5\",\"#B0BEC5\",\"#B0BEC5\",\"#B0BEC5\",\"#B0BEC5\",\"#B0BEC5\",\"#B0BEC5\",\"#B0BEC5\",\"#B0BEC5\",\"#B0BEC5\",\"#B0BEC5\",\"#B0BEC5\",\"#B0BEC5\",\"#B0BEC5\",\"#B0BEC5\",\"#B0BEC5\",\"#B0BEC5\",\"#B0BEC5\",\"red\",\"#B0BEC5\",\"#B0BEC5\",\"#B0BEC5\",\"#B0BEC5\",\"#B0BEC5\",\"#B0BEC5\",\"#B0BEC5\",\"#B0BEC5\",\"#B0BEC5\",\"#B0BEC5\",\"#B0BEC5\",\"#B0BEC5\",\"#B0BEC5\",\"#B0BEC5\",\"#B0BEC5\",\"#B0BEC5\",\"#B0BEC5\",\"#B0BEC5\",\"#B0BEC5\",\"#B0BEC5\",\"#B0BEC5\",\"#B0BEC5\",\"#B0BEC5\"]]}],\"label\":\"Topic 25\",\"method\":\"update\"},{\"args\":[{\"marker.color\":[[\"#B0BEC5\",\"#B0BEC5\",\"#B0BEC5\",\"#B0BEC5\",\"#B0BEC5\",\"#B0BEC5\",\"#B0BEC5\",\"#B0BEC5\",\"#B0BEC5\",\"#B0BEC5\",\"#B0BEC5\",\"#B0BEC5\",\"#B0BEC5\",\"#B0BEC5\",\"#B0BEC5\",\"#B0BEC5\",\"#B0BEC5\",\"#B0BEC5\",\"#B0BEC5\",\"#B0BEC5\",\"#B0BEC5\",\"#B0BEC5\",\"#B0BEC5\",\"#B0BEC5\",\"#B0BEC5\",\"#B0BEC5\",\"red\",\"#B0BEC5\",\"#B0BEC5\",\"#B0BEC5\",\"#B0BEC5\",\"#B0BEC5\",\"#B0BEC5\",\"#B0BEC5\",\"#B0BEC5\",\"#B0BEC5\",\"#B0BEC5\",\"#B0BEC5\",\"#B0BEC5\",\"#B0BEC5\",\"#B0BEC5\",\"#B0BEC5\",\"#B0BEC5\",\"#B0BEC5\",\"#B0BEC5\",\"#B0BEC5\",\"#B0BEC5\",\"#B0BEC5\",\"#B0BEC5\"]]}],\"label\":\"Topic 26\",\"method\":\"update\"},{\"args\":[{\"marker.color\":[[\"#B0BEC5\",\"#B0BEC5\",\"#B0BEC5\",\"#B0BEC5\",\"#B0BEC5\",\"#B0BEC5\",\"#B0BEC5\",\"#B0BEC5\",\"#B0BEC5\",\"#B0BEC5\",\"#B0BEC5\",\"#B0BEC5\",\"#B0BEC5\",\"#B0BEC5\",\"#B0BEC5\",\"#B0BEC5\",\"#B0BEC5\",\"#B0BEC5\",\"#B0BEC5\",\"#B0BEC5\",\"#B0BEC5\",\"#B0BEC5\",\"#B0BEC5\",\"#B0BEC5\",\"#B0BEC5\",\"#B0BEC5\",\"#B0BEC5\",\"red\",\"#B0BEC5\",\"#B0BEC5\",\"#B0BEC5\",\"#B0BEC5\",\"#B0BEC5\",\"#B0BEC5\",\"#B0BEC5\",\"#B0BEC5\",\"#B0BEC5\",\"#B0BEC5\",\"#B0BEC5\",\"#B0BEC5\",\"#B0BEC5\",\"#B0BEC5\",\"#B0BEC5\",\"#B0BEC5\",\"#B0BEC5\",\"#B0BEC5\",\"#B0BEC5\",\"#B0BEC5\",\"#B0BEC5\"]]}],\"label\":\"Topic 27\",\"method\":\"update\"},{\"args\":[{\"marker.color\":[[\"#B0BEC5\",\"#B0BEC5\",\"#B0BEC5\",\"#B0BEC5\",\"#B0BEC5\",\"#B0BEC5\",\"#B0BEC5\",\"#B0BEC5\",\"#B0BEC5\",\"#B0BEC5\",\"#B0BEC5\",\"#B0BEC5\",\"#B0BEC5\",\"#B0BEC5\",\"#B0BEC5\",\"#B0BEC5\",\"#B0BEC5\",\"#B0BEC5\",\"#B0BEC5\",\"#B0BEC5\",\"#B0BEC5\",\"#B0BEC5\",\"#B0BEC5\",\"#B0BEC5\",\"#B0BEC5\",\"#B0BEC5\",\"#B0BEC5\",\"#B0BEC5\",\"red\",\"#B0BEC5\",\"#B0BEC5\",\"#B0BEC5\",\"#B0BEC5\",\"#B0BEC5\",\"#B0BEC5\",\"#B0BEC5\",\"#B0BEC5\",\"#B0BEC5\",\"#B0BEC5\",\"#B0BEC5\",\"#B0BEC5\",\"#B0BEC5\",\"#B0BEC5\",\"#B0BEC5\",\"#B0BEC5\",\"#B0BEC5\",\"#B0BEC5\",\"#B0BEC5\",\"#B0BEC5\"]]}],\"label\":\"Topic 28\",\"method\":\"update\"},{\"args\":[{\"marker.color\":[[\"#B0BEC5\",\"#B0BEC5\",\"#B0BEC5\",\"#B0BEC5\",\"#B0BEC5\",\"#B0BEC5\",\"#B0BEC5\",\"#B0BEC5\",\"#B0BEC5\",\"#B0BEC5\",\"#B0BEC5\",\"#B0BEC5\",\"#B0BEC5\",\"#B0BEC5\",\"#B0BEC5\",\"#B0BEC5\",\"#B0BEC5\",\"#B0BEC5\",\"#B0BEC5\",\"#B0BEC5\",\"#B0BEC5\",\"#B0BEC5\",\"#B0BEC5\",\"#B0BEC5\",\"#B0BEC5\",\"#B0BEC5\",\"#B0BEC5\",\"#B0BEC5\",\"#B0BEC5\",\"red\",\"#B0BEC5\",\"#B0BEC5\",\"#B0BEC5\",\"#B0BEC5\",\"#B0BEC5\",\"#B0BEC5\",\"#B0BEC5\",\"#B0BEC5\",\"#B0BEC5\",\"#B0BEC5\",\"#B0BEC5\",\"#B0BEC5\",\"#B0BEC5\",\"#B0BEC5\",\"#B0BEC5\",\"#B0BEC5\",\"#B0BEC5\",\"#B0BEC5\",\"#B0BEC5\"]]}],\"label\":\"Topic 29\",\"method\":\"update\"},{\"args\":[{\"marker.color\":[[\"#B0BEC5\",\"#B0BEC5\",\"#B0BEC5\",\"#B0BEC5\",\"#B0BEC5\",\"#B0BEC5\",\"#B0BEC5\",\"#B0BEC5\",\"#B0BEC5\",\"#B0BEC5\",\"#B0BEC5\",\"#B0BEC5\",\"#B0BEC5\",\"#B0BEC5\",\"#B0BEC5\",\"#B0BEC5\",\"#B0BEC5\",\"#B0BEC5\",\"#B0BEC5\",\"#B0BEC5\",\"#B0BEC5\",\"#B0BEC5\",\"#B0BEC5\",\"#B0BEC5\",\"#B0BEC5\",\"#B0BEC5\",\"#B0BEC5\",\"#B0BEC5\",\"#B0BEC5\",\"#B0BEC5\",\"red\",\"#B0BEC5\",\"#B0BEC5\",\"#B0BEC5\",\"#B0BEC5\",\"#B0BEC5\",\"#B0BEC5\",\"#B0BEC5\",\"#B0BEC5\",\"#B0BEC5\",\"#B0BEC5\",\"#B0BEC5\",\"#B0BEC5\",\"#B0BEC5\",\"#B0BEC5\",\"#B0BEC5\",\"#B0BEC5\",\"#B0BEC5\",\"#B0BEC5\"]]}],\"label\":\"Topic 30\",\"method\":\"update\"},{\"args\":[{\"marker.color\":[[\"#B0BEC5\",\"#B0BEC5\",\"#B0BEC5\",\"#B0BEC5\",\"#B0BEC5\",\"#B0BEC5\",\"#B0BEC5\",\"#B0BEC5\",\"#B0BEC5\",\"#B0BEC5\",\"#B0BEC5\",\"#B0BEC5\",\"#B0BEC5\",\"#B0BEC5\",\"#B0BEC5\",\"#B0BEC5\",\"#B0BEC5\",\"#B0BEC5\",\"#B0BEC5\",\"#B0BEC5\",\"#B0BEC5\",\"#B0BEC5\",\"#B0BEC5\",\"#B0BEC5\",\"#B0BEC5\",\"#B0BEC5\",\"#B0BEC5\",\"#B0BEC5\",\"#B0BEC5\",\"#B0BEC5\",\"#B0BEC5\",\"red\",\"#B0BEC5\",\"#B0BEC5\",\"#B0BEC5\",\"#B0BEC5\",\"#B0BEC5\",\"#B0BEC5\",\"#B0BEC5\",\"#B0BEC5\",\"#B0BEC5\",\"#B0BEC5\",\"#B0BEC5\",\"#B0BEC5\",\"#B0BEC5\",\"#B0BEC5\",\"#B0BEC5\",\"#B0BEC5\",\"#B0BEC5\"]]}],\"label\":\"Topic 31\",\"method\":\"update\"},{\"args\":[{\"marker.color\":[[\"#B0BEC5\",\"#B0BEC5\",\"#B0BEC5\",\"#B0BEC5\",\"#B0BEC5\",\"#B0BEC5\",\"#B0BEC5\",\"#B0BEC5\",\"#B0BEC5\",\"#B0BEC5\",\"#B0BEC5\",\"#B0BEC5\",\"#B0BEC5\",\"#B0BEC5\",\"#B0BEC5\",\"#B0BEC5\",\"#B0BEC5\",\"#B0BEC5\",\"#B0BEC5\",\"#B0BEC5\",\"#B0BEC5\",\"#B0BEC5\",\"#B0BEC5\",\"#B0BEC5\",\"#B0BEC5\",\"#B0BEC5\",\"#B0BEC5\",\"#B0BEC5\",\"#B0BEC5\",\"#B0BEC5\",\"#B0BEC5\",\"#B0BEC5\",\"red\",\"#B0BEC5\",\"#B0BEC5\",\"#B0BEC5\",\"#B0BEC5\",\"#B0BEC5\",\"#B0BEC5\",\"#B0BEC5\",\"#B0BEC5\",\"#B0BEC5\",\"#B0BEC5\",\"#B0BEC5\",\"#B0BEC5\",\"#B0BEC5\",\"#B0BEC5\",\"#B0BEC5\",\"#B0BEC5\"]]}],\"label\":\"Topic 32\",\"method\":\"update\"},{\"args\":[{\"marker.color\":[[\"#B0BEC5\",\"#B0BEC5\",\"#B0BEC5\",\"#B0BEC5\",\"#B0BEC5\",\"#B0BEC5\",\"#B0BEC5\",\"#B0BEC5\",\"#B0BEC5\",\"#B0BEC5\",\"#B0BEC5\",\"#B0BEC5\",\"#B0BEC5\",\"#B0BEC5\",\"#B0BEC5\",\"#B0BEC5\",\"#B0BEC5\",\"#B0BEC5\",\"#B0BEC5\",\"#B0BEC5\",\"#B0BEC5\",\"#B0BEC5\",\"#B0BEC5\",\"#B0BEC5\",\"#B0BEC5\",\"#B0BEC5\",\"#B0BEC5\",\"#B0BEC5\",\"#B0BEC5\",\"#B0BEC5\",\"#B0BEC5\",\"#B0BEC5\",\"#B0BEC5\",\"red\",\"#B0BEC5\",\"#B0BEC5\",\"#B0BEC5\",\"#B0BEC5\",\"#B0BEC5\",\"#B0BEC5\",\"#B0BEC5\",\"#B0BEC5\",\"#B0BEC5\",\"#B0BEC5\",\"#B0BEC5\",\"#B0BEC5\",\"#B0BEC5\",\"#B0BEC5\",\"#B0BEC5\"]]}],\"label\":\"Topic 33\",\"method\":\"update\"},{\"args\":[{\"marker.color\":[[\"#B0BEC5\",\"#B0BEC5\",\"#B0BEC5\",\"#B0BEC5\",\"#B0BEC5\",\"#B0BEC5\",\"#B0BEC5\",\"#B0BEC5\",\"#B0BEC5\",\"#B0BEC5\",\"#B0BEC5\",\"#B0BEC5\",\"#B0BEC5\",\"#B0BEC5\",\"#B0BEC5\",\"#B0BEC5\",\"#B0BEC5\",\"#B0BEC5\",\"#B0BEC5\",\"#B0BEC5\",\"#B0BEC5\",\"#B0BEC5\",\"#B0BEC5\",\"#B0BEC5\",\"#B0BEC5\",\"#B0BEC5\",\"#B0BEC5\",\"#B0BEC5\",\"#B0BEC5\",\"#B0BEC5\",\"#B0BEC5\",\"#B0BEC5\",\"#B0BEC5\",\"#B0BEC5\",\"red\",\"#B0BEC5\",\"#B0BEC5\",\"#B0BEC5\",\"#B0BEC5\",\"#B0BEC5\",\"#B0BEC5\",\"#B0BEC5\",\"#B0BEC5\",\"#B0BEC5\",\"#B0BEC5\",\"#B0BEC5\",\"#B0BEC5\",\"#B0BEC5\",\"#B0BEC5\"]]}],\"label\":\"Topic 34\",\"method\":\"update\"},{\"args\":[{\"marker.color\":[[\"#B0BEC5\",\"#B0BEC5\",\"#B0BEC5\",\"#B0BEC5\",\"#B0BEC5\",\"#B0BEC5\",\"#B0BEC5\",\"#B0BEC5\",\"#B0BEC5\",\"#B0BEC5\",\"#B0BEC5\",\"#B0BEC5\",\"#B0BEC5\",\"#B0BEC5\",\"#B0BEC5\",\"#B0BEC5\",\"#B0BEC5\",\"#B0BEC5\",\"#B0BEC5\",\"#B0BEC5\",\"#B0BEC5\",\"#B0BEC5\",\"#B0BEC5\",\"#B0BEC5\",\"#B0BEC5\",\"#B0BEC5\",\"#B0BEC5\",\"#B0BEC5\",\"#B0BEC5\",\"#B0BEC5\",\"#B0BEC5\",\"#B0BEC5\",\"#B0BEC5\",\"#B0BEC5\",\"#B0BEC5\",\"red\",\"#B0BEC5\",\"#B0BEC5\",\"#B0BEC5\",\"#B0BEC5\",\"#B0BEC5\",\"#B0BEC5\",\"#B0BEC5\",\"#B0BEC5\",\"#B0BEC5\",\"#B0BEC5\",\"#B0BEC5\",\"#B0BEC5\",\"#B0BEC5\"]]}],\"label\":\"Topic 35\",\"method\":\"update\"},{\"args\":[{\"marker.color\":[[\"#B0BEC5\",\"#B0BEC5\",\"#B0BEC5\",\"#B0BEC5\",\"#B0BEC5\",\"#B0BEC5\",\"#B0BEC5\",\"#B0BEC5\",\"#B0BEC5\",\"#B0BEC5\",\"#B0BEC5\",\"#B0BEC5\",\"#B0BEC5\",\"#B0BEC5\",\"#B0BEC5\",\"#B0BEC5\",\"#B0BEC5\",\"#B0BEC5\",\"#B0BEC5\",\"#B0BEC5\",\"#B0BEC5\",\"#B0BEC5\",\"#B0BEC5\",\"#B0BEC5\",\"#B0BEC5\",\"#B0BEC5\",\"#B0BEC5\",\"#B0BEC5\",\"#B0BEC5\",\"#B0BEC5\",\"#B0BEC5\",\"#B0BEC5\",\"#B0BEC5\",\"#B0BEC5\",\"#B0BEC5\",\"#B0BEC5\",\"red\",\"#B0BEC5\",\"#B0BEC5\",\"#B0BEC5\",\"#B0BEC5\",\"#B0BEC5\",\"#B0BEC5\",\"#B0BEC5\",\"#B0BEC5\",\"#B0BEC5\",\"#B0BEC5\",\"#B0BEC5\",\"#B0BEC5\"]]}],\"label\":\"Topic 36\",\"method\":\"update\"},{\"args\":[{\"marker.color\":[[\"#B0BEC5\",\"#B0BEC5\",\"#B0BEC5\",\"#B0BEC5\",\"#B0BEC5\",\"#B0BEC5\",\"#B0BEC5\",\"#B0BEC5\",\"#B0BEC5\",\"#B0BEC5\",\"#B0BEC5\",\"#B0BEC5\",\"#B0BEC5\",\"#B0BEC5\",\"#B0BEC5\",\"#B0BEC5\",\"#B0BEC5\",\"#B0BEC5\",\"#B0BEC5\",\"#B0BEC5\",\"#B0BEC5\",\"#B0BEC5\",\"#B0BEC5\",\"#B0BEC5\",\"#B0BEC5\",\"#B0BEC5\",\"#B0BEC5\",\"#B0BEC5\",\"#B0BEC5\",\"#B0BEC5\",\"#B0BEC5\",\"#B0BEC5\",\"#B0BEC5\",\"#B0BEC5\",\"#B0BEC5\",\"#B0BEC5\",\"#B0BEC5\",\"red\",\"#B0BEC5\",\"#B0BEC5\",\"#B0BEC5\",\"#B0BEC5\",\"#B0BEC5\",\"#B0BEC5\",\"#B0BEC5\",\"#B0BEC5\",\"#B0BEC5\",\"#B0BEC5\",\"#B0BEC5\"]]}],\"label\":\"Topic 37\",\"method\":\"update\"},{\"args\":[{\"marker.color\":[[\"#B0BEC5\",\"#B0BEC5\",\"#B0BEC5\",\"#B0BEC5\",\"#B0BEC5\",\"#B0BEC5\",\"#B0BEC5\",\"#B0BEC5\",\"#B0BEC5\",\"#B0BEC5\",\"#B0BEC5\",\"#B0BEC5\",\"#B0BEC5\",\"#B0BEC5\",\"#B0BEC5\",\"#B0BEC5\",\"#B0BEC5\",\"#B0BEC5\",\"#B0BEC5\",\"#B0BEC5\",\"#B0BEC5\",\"#B0BEC5\",\"#B0BEC5\",\"#B0BEC5\",\"#B0BEC5\",\"#B0BEC5\",\"#B0BEC5\",\"#B0BEC5\",\"#B0BEC5\",\"#B0BEC5\",\"#B0BEC5\",\"#B0BEC5\",\"#B0BEC5\",\"#B0BEC5\",\"#B0BEC5\",\"#B0BEC5\",\"#B0BEC5\",\"#B0BEC5\",\"red\",\"#B0BEC5\",\"#B0BEC5\",\"#B0BEC5\",\"#B0BEC5\",\"#B0BEC5\",\"#B0BEC5\",\"#B0BEC5\",\"#B0BEC5\",\"#B0BEC5\",\"#B0BEC5\"]]}],\"label\":\"Topic 38\",\"method\":\"update\"},{\"args\":[{\"marker.color\":[[\"#B0BEC5\",\"#B0BEC5\",\"#B0BEC5\",\"#B0BEC5\",\"#B0BEC5\",\"#B0BEC5\",\"#B0BEC5\",\"#B0BEC5\",\"#B0BEC5\",\"#B0BEC5\",\"#B0BEC5\",\"#B0BEC5\",\"#B0BEC5\",\"#B0BEC5\",\"#B0BEC5\",\"#B0BEC5\",\"#B0BEC5\",\"#B0BEC5\",\"#B0BEC5\",\"#B0BEC5\",\"#B0BEC5\",\"#B0BEC5\",\"#B0BEC5\",\"#B0BEC5\",\"#B0BEC5\",\"#B0BEC5\",\"#B0BEC5\",\"#B0BEC5\",\"#B0BEC5\",\"#B0BEC5\",\"#B0BEC5\",\"#B0BEC5\",\"#B0BEC5\",\"#B0BEC5\",\"#B0BEC5\",\"#B0BEC5\",\"#B0BEC5\",\"#B0BEC5\",\"#B0BEC5\",\"red\",\"#B0BEC5\",\"#B0BEC5\",\"#B0BEC5\",\"#B0BEC5\",\"#B0BEC5\",\"#B0BEC5\",\"#B0BEC5\",\"#B0BEC5\",\"#B0BEC5\"]]}],\"label\":\"Topic 39\",\"method\":\"update\"},{\"args\":[{\"marker.color\":[[\"#B0BEC5\",\"#B0BEC5\",\"#B0BEC5\",\"#B0BEC5\",\"#B0BEC5\",\"#B0BEC5\",\"#B0BEC5\",\"#B0BEC5\",\"#B0BEC5\",\"#B0BEC5\",\"#B0BEC5\",\"#B0BEC5\",\"#B0BEC5\",\"#B0BEC5\",\"#B0BEC5\",\"#B0BEC5\",\"#B0BEC5\",\"#B0BEC5\",\"#B0BEC5\",\"#B0BEC5\",\"#B0BEC5\",\"#B0BEC5\",\"#B0BEC5\",\"#B0BEC5\",\"#B0BEC5\",\"#B0BEC5\",\"#B0BEC5\",\"#B0BEC5\",\"#B0BEC5\",\"#B0BEC5\",\"#B0BEC5\",\"#B0BEC5\",\"#B0BEC5\",\"#B0BEC5\",\"#B0BEC5\",\"#B0BEC5\",\"#B0BEC5\",\"#B0BEC5\",\"#B0BEC5\",\"#B0BEC5\",\"red\",\"#B0BEC5\",\"#B0BEC5\",\"#B0BEC5\",\"#B0BEC5\",\"#B0BEC5\",\"#B0BEC5\",\"#B0BEC5\",\"#B0BEC5\"]]}],\"label\":\"Topic 40\",\"method\":\"update\"},{\"args\":[{\"marker.color\":[[\"#B0BEC5\",\"#B0BEC5\",\"#B0BEC5\",\"#B0BEC5\",\"#B0BEC5\",\"#B0BEC5\",\"#B0BEC5\",\"#B0BEC5\",\"#B0BEC5\",\"#B0BEC5\",\"#B0BEC5\",\"#B0BEC5\",\"#B0BEC5\",\"#B0BEC5\",\"#B0BEC5\",\"#B0BEC5\",\"#B0BEC5\",\"#B0BEC5\",\"#B0BEC5\",\"#B0BEC5\",\"#B0BEC5\",\"#B0BEC5\",\"#B0BEC5\",\"#B0BEC5\",\"#B0BEC5\",\"#B0BEC5\",\"#B0BEC5\",\"#B0BEC5\",\"#B0BEC5\",\"#B0BEC5\",\"#B0BEC5\",\"#B0BEC5\",\"#B0BEC5\",\"#B0BEC5\",\"#B0BEC5\",\"#B0BEC5\",\"#B0BEC5\",\"#B0BEC5\",\"#B0BEC5\",\"#B0BEC5\",\"#B0BEC5\",\"red\",\"#B0BEC5\",\"#B0BEC5\",\"#B0BEC5\",\"#B0BEC5\",\"#B0BEC5\",\"#B0BEC5\",\"#B0BEC5\"]]}],\"label\":\"Topic 41\",\"method\":\"update\"},{\"args\":[{\"marker.color\":[[\"#B0BEC5\",\"#B0BEC5\",\"#B0BEC5\",\"#B0BEC5\",\"#B0BEC5\",\"#B0BEC5\",\"#B0BEC5\",\"#B0BEC5\",\"#B0BEC5\",\"#B0BEC5\",\"#B0BEC5\",\"#B0BEC5\",\"#B0BEC5\",\"#B0BEC5\",\"#B0BEC5\",\"#B0BEC5\",\"#B0BEC5\",\"#B0BEC5\",\"#B0BEC5\",\"#B0BEC5\",\"#B0BEC5\",\"#B0BEC5\",\"#B0BEC5\",\"#B0BEC5\",\"#B0BEC5\",\"#B0BEC5\",\"#B0BEC5\",\"#B0BEC5\",\"#B0BEC5\",\"#B0BEC5\",\"#B0BEC5\",\"#B0BEC5\",\"#B0BEC5\",\"#B0BEC5\",\"#B0BEC5\",\"#B0BEC5\",\"#B0BEC5\",\"#B0BEC5\",\"#B0BEC5\",\"#B0BEC5\",\"#B0BEC5\",\"#B0BEC5\",\"red\",\"#B0BEC5\",\"#B0BEC5\",\"#B0BEC5\",\"#B0BEC5\",\"#B0BEC5\",\"#B0BEC5\"]]}],\"label\":\"Topic 42\",\"method\":\"update\"},{\"args\":[{\"marker.color\":[[\"#B0BEC5\",\"#B0BEC5\",\"#B0BEC5\",\"#B0BEC5\",\"#B0BEC5\",\"#B0BEC5\",\"#B0BEC5\",\"#B0BEC5\",\"#B0BEC5\",\"#B0BEC5\",\"#B0BEC5\",\"#B0BEC5\",\"#B0BEC5\",\"#B0BEC5\",\"#B0BEC5\",\"#B0BEC5\",\"#B0BEC5\",\"#B0BEC5\",\"#B0BEC5\",\"#B0BEC5\",\"#B0BEC5\",\"#B0BEC5\",\"#B0BEC5\",\"#B0BEC5\",\"#B0BEC5\",\"#B0BEC5\",\"#B0BEC5\",\"#B0BEC5\",\"#B0BEC5\",\"#B0BEC5\",\"#B0BEC5\",\"#B0BEC5\",\"#B0BEC5\",\"#B0BEC5\",\"#B0BEC5\",\"#B0BEC5\",\"#B0BEC5\",\"#B0BEC5\",\"#B0BEC5\",\"#B0BEC5\",\"#B0BEC5\",\"#B0BEC5\",\"#B0BEC5\",\"red\",\"#B0BEC5\",\"#B0BEC5\",\"#B0BEC5\",\"#B0BEC5\",\"#B0BEC5\"]]}],\"label\":\"Topic 43\",\"method\":\"update\"},{\"args\":[{\"marker.color\":[[\"#B0BEC5\",\"#B0BEC5\",\"#B0BEC5\",\"#B0BEC5\",\"#B0BEC5\",\"#B0BEC5\",\"#B0BEC5\",\"#B0BEC5\",\"#B0BEC5\",\"#B0BEC5\",\"#B0BEC5\",\"#B0BEC5\",\"#B0BEC5\",\"#B0BEC5\",\"#B0BEC5\",\"#B0BEC5\",\"#B0BEC5\",\"#B0BEC5\",\"#B0BEC5\",\"#B0BEC5\",\"#B0BEC5\",\"#B0BEC5\",\"#B0BEC5\",\"#B0BEC5\",\"#B0BEC5\",\"#B0BEC5\",\"#B0BEC5\",\"#B0BEC5\",\"#B0BEC5\",\"#B0BEC5\",\"#B0BEC5\",\"#B0BEC5\",\"#B0BEC5\",\"#B0BEC5\",\"#B0BEC5\",\"#B0BEC5\",\"#B0BEC5\",\"#B0BEC5\",\"#B0BEC5\",\"#B0BEC5\",\"#B0BEC5\",\"#B0BEC5\",\"#B0BEC5\",\"#B0BEC5\",\"red\",\"#B0BEC5\",\"#B0BEC5\",\"#B0BEC5\",\"#B0BEC5\"]]}],\"label\":\"Topic 44\",\"method\":\"update\"},{\"args\":[{\"marker.color\":[[\"#B0BEC5\",\"#B0BEC5\",\"#B0BEC5\",\"#B0BEC5\",\"#B0BEC5\",\"#B0BEC5\",\"#B0BEC5\",\"#B0BEC5\",\"#B0BEC5\",\"#B0BEC5\",\"#B0BEC5\",\"#B0BEC5\",\"#B0BEC5\",\"#B0BEC5\",\"#B0BEC5\",\"#B0BEC5\",\"#B0BEC5\",\"#B0BEC5\",\"#B0BEC5\",\"#B0BEC5\",\"#B0BEC5\",\"#B0BEC5\",\"#B0BEC5\",\"#B0BEC5\",\"#B0BEC5\",\"#B0BEC5\",\"#B0BEC5\",\"#B0BEC5\",\"#B0BEC5\",\"#B0BEC5\",\"#B0BEC5\",\"#B0BEC5\",\"#B0BEC5\",\"#B0BEC5\",\"#B0BEC5\",\"#B0BEC5\",\"#B0BEC5\",\"#B0BEC5\",\"#B0BEC5\",\"#B0BEC5\",\"#B0BEC5\",\"#B0BEC5\",\"#B0BEC5\",\"#B0BEC5\",\"#B0BEC5\",\"red\",\"#B0BEC5\",\"#B0BEC5\",\"#B0BEC5\"]]}],\"label\":\"Topic 45\",\"method\":\"update\"},{\"args\":[{\"marker.color\":[[\"#B0BEC5\",\"#B0BEC5\",\"#B0BEC5\",\"#B0BEC5\",\"#B0BEC5\",\"#B0BEC5\",\"#B0BEC5\",\"#B0BEC5\",\"#B0BEC5\",\"#B0BEC5\",\"#B0BEC5\",\"#B0BEC5\",\"#B0BEC5\",\"#B0BEC5\",\"#B0BEC5\",\"#B0BEC5\",\"#B0BEC5\",\"#B0BEC5\",\"#B0BEC5\",\"#B0BEC5\",\"#B0BEC5\",\"#B0BEC5\",\"#B0BEC5\",\"#B0BEC5\",\"#B0BEC5\",\"#B0BEC5\",\"#B0BEC5\",\"#B0BEC5\",\"#B0BEC5\",\"#B0BEC5\",\"#B0BEC5\",\"#B0BEC5\",\"#B0BEC5\",\"#B0BEC5\",\"#B0BEC5\",\"#B0BEC5\",\"#B0BEC5\",\"#B0BEC5\",\"#B0BEC5\",\"#B0BEC5\",\"#B0BEC5\",\"#B0BEC5\",\"#B0BEC5\",\"#B0BEC5\",\"#B0BEC5\",\"#B0BEC5\",\"red\",\"#B0BEC5\",\"#B0BEC5\"]]}],\"label\":\"Topic 46\",\"method\":\"update\"},{\"args\":[{\"marker.color\":[[\"#B0BEC5\",\"#B0BEC5\",\"#B0BEC5\",\"#B0BEC5\",\"#B0BEC5\",\"#B0BEC5\",\"#B0BEC5\",\"#B0BEC5\",\"#B0BEC5\",\"#B0BEC5\",\"#B0BEC5\",\"#B0BEC5\",\"#B0BEC5\",\"#B0BEC5\",\"#B0BEC5\",\"#B0BEC5\",\"#B0BEC5\",\"#B0BEC5\",\"#B0BEC5\",\"#B0BEC5\",\"#B0BEC5\",\"#B0BEC5\",\"#B0BEC5\",\"#B0BEC5\",\"#B0BEC5\",\"#B0BEC5\",\"#B0BEC5\",\"#B0BEC5\",\"#B0BEC5\",\"#B0BEC5\",\"#B0BEC5\",\"#B0BEC5\",\"#B0BEC5\",\"#B0BEC5\",\"#B0BEC5\",\"#B0BEC5\",\"#B0BEC5\",\"#B0BEC5\",\"#B0BEC5\",\"#B0BEC5\",\"#B0BEC5\",\"#B0BEC5\",\"#B0BEC5\",\"#B0BEC5\",\"#B0BEC5\",\"#B0BEC5\",\"#B0BEC5\",\"red\",\"#B0BEC5\"]]}],\"label\":\"Topic 47\",\"method\":\"update\"},{\"args\":[{\"marker.color\":[[\"#B0BEC5\",\"#B0BEC5\",\"#B0BEC5\",\"#B0BEC5\",\"#B0BEC5\",\"#B0BEC5\",\"#B0BEC5\",\"#B0BEC5\",\"#B0BEC5\",\"#B0BEC5\",\"#B0BEC5\",\"#B0BEC5\",\"#B0BEC5\",\"#B0BEC5\",\"#B0BEC5\",\"#B0BEC5\",\"#B0BEC5\",\"#B0BEC5\",\"#B0BEC5\",\"#B0BEC5\",\"#B0BEC5\",\"#B0BEC5\",\"#B0BEC5\",\"#B0BEC5\",\"#B0BEC5\",\"#B0BEC5\",\"#B0BEC5\",\"#B0BEC5\",\"#B0BEC5\",\"#B0BEC5\",\"#B0BEC5\",\"#B0BEC5\",\"#B0BEC5\",\"#B0BEC5\",\"#B0BEC5\",\"#B0BEC5\",\"#B0BEC5\",\"#B0BEC5\",\"#B0BEC5\",\"#B0BEC5\",\"#B0BEC5\",\"#B0BEC5\",\"#B0BEC5\",\"#B0BEC5\",\"#B0BEC5\",\"#B0BEC5\",\"#B0BEC5\",\"#B0BEC5\",\"red\"]]}],\"label\":\"Topic 48\",\"method\":\"update\"}]}],\"shapes\":[{\"line\":{\"color\":\"#CFD8DC\",\"width\":2},\"type\":\"line\",\"x0\":4.713235259056091,\"x1\":4.713235259056091,\"y0\":-5.8517580270767215,\"y1\":18.62392282485962},{\"line\":{\"color\":\"#9E9E9E\",\"width\":2},\"type\":\"line\",\"x0\":-11.149349451065063,\"x1\":20.575819969177246,\"y0\":6.386082398891449,\"y1\":6.386082398891449}],\"annotations\":[{\"showarrow\":false,\"text\":\"D1\",\"x\":-11.149349451065063,\"y\":6.386082398891449,\"yshift\":10},{\"showarrow\":false,\"text\":\"D2\",\"x\":4.713235259056091,\"xshift\":10,\"y\":18.62392282485962}]},                        {\"responsive\": true}                    ).then(function(){\n",
       "                            \n",
       "var gd = document.getElementById('5638401b-98b7-4686-84ca-c47962fa4dca');\n",
       "var x = new MutationObserver(function (mutations, observer) {{\n",
       "        var display = window.getComputedStyle(gd).display;\n",
       "        if (!display || display === 'none') {{\n",
       "            console.log([gd, 'removed!']);\n",
       "            Plotly.purge(gd);\n",
       "            observer.disconnect();\n",
       "        }}\n",
       "}});\n",
       "\n",
       "// Listen for the removal of the full notebook cells\n",
       "var notebookContainer = gd.closest('#notebook-container');\n",
       "if (notebookContainer) {{\n",
       "    x.observe(notebookContainer, {childList: true});\n",
       "}}\n",
       "\n",
       "// Listen for the clearing of the current output cell\n",
       "var outputEl = gd.closest('.output');\n",
       "if (outputEl) {{\n",
       "    x.observe(outputEl, {childList: true});\n",
       "}}\n",
       "\n",
       "                        })                };                });            </script>        </div>"
      ]
     },
     "metadata": {},
     "output_type": "display_data"
    }
   ],
   "source": [
    "topic_model.visualize_topics()"
   ]
  },
  {
   "cell_type": "markdown",
   "id": "52237072-6493-4212-8789-ebf30eff19a8",
   "metadata": {},
   "source": [
    "### Topic Checks\n",
    "\n",
    "In addition, we can look at some specific papers, to check they are being categorized in the way that we would expect."
   ]
  },
  {
   "cell_type": "code",
   "execution_count": 121,
   "id": "5f1a86a3-e891-4ea5-91d1-1a712695b460",
   "metadata": {},
   "outputs": [
    {
     "data": {
      "application/vnd.jupyter.widget-view+json": {
       "model_id": "4eb6679edb1a42059471c979041f1a0f",
       "version_major": 2,
       "version_minor": 0
      },
      "text/plain": [
       "Dropdown(description='Topic:', options=(('0_language_text_word_knowledge', 0), ('1_reinforcement_rl_reward_con…"
      ]
     },
     "metadata": {},
     "output_type": "display_data"
    },
    {
     "data": {
      "application/vnd.jupyter.widget-view+json": {
       "model_id": "8703ed1f94134383bc6d6010d75e01fb",
       "version_major": 2,
       "version_minor": 0
      },
      "text/plain": [
       "Output()"
      ]
     },
     "metadata": {},
     "output_type": "display_data"
    }
   ],
   "source": [
    "# Create the topic dropdown\n",
    "topic_df = topic_model.get_topic_info()\n",
    "topic_options = topic_df[['Name', 'Topic']].apply(tuple, axis=1).to_list()\n",
    "topic_options = topic_options[1:] # Remove -1 topic\n",
    "\n",
    "topic_dropdown = widgets.Dropdown(\n",
    "    options=topic_options,\n",
    "    value=0,\n",
    "    description='Topic:'\n",
    ")\n",
    "display.display(topic_dropdown)\n",
    "\n",
    "# Show the abstract samples\n",
    "out = widgets.Output()\n",
    "display.display(out)\n",
    "\n",
    "def on_change(change):\n",
    "    with out:\n",
    "        display.clear_output()\n",
    "        \n",
    "        # Show the new samples\n",
    "        topic = change[\"old\"][\"index\"]\n",
    "        samples = topic_model.get_representative_docs(topic)\n",
    "        \n",
    "        keywords = [word for word, _p in topic_model.get_topic(topic)]\n",
    "        \n",
    "        for sample in samples:\n",
    "            matched_keywords = [word for word in keywords if word in sample]\n",
    "            print(\"Matched keywords:\", matched_keywords)\n",
    "            print (sample, \"\\n\")\n",
    "\n",
    "# Default to the first topic & display\n",
    "on_change({\"old\": {\"index\": 0}})\n",
    "topic_dropdown.observe(on_change)"
   ]
  },
  {
   "cell_type": "markdown",
   "id": "91dab044-6b70-4a7b-9952-12b906358fac",
   "metadata": {},
   "source": [
    "## Trends over time\n",
    "\n",
    "Finally we can show the trends of topics over time. Note that as the category as a whole is growing so fast, we'll show the relative frequency of topics in each year (i.e. the percent of all papers in that year)."
   ]
  },
  {
   "cell_type": "code",
   "execution_count": 102,
   "id": "49b493aa-3e85-449e-a58a-3ce699ea404b",
   "metadata": {},
   "outputs": [
    {
     "name": "stderr",
     "output_type": "stream",
     "text": [
      "16it [00:36,  2.30s/it]\n"
     ]
    }
   ],
   "source": [
    "# Generate the topics over time\n",
    "years = ai_papers[\"update_date\"].dt.year.tolist()\n",
    "topics_over_time = topic_model.topics_over_time(abstracts, topics, years)"
   ]
  },
  {
   "cell_type": "code",
   "execution_count": 236,
   "id": "5344d5e6-19e7-4c69-a672-6c07823820f0",
   "metadata": {
    "tags": []
   },
   "outputs": [
    {
     "data": {
      "application/vnd.plotly.v1+json": {
       "config": {
        "plotlyServerURL": "https://plot.ly"
       },
       "data": [
        {
         "hoverinfo": "text",
         "hovertext": [
          "<b>Topic 0</b><br>Words: dialogue, language, document, topic, transliteration",
          "<b>Topic 0</b><br>Words: topic, text, documents, document, language",
          "<b>Topic 0</b><br>Words: topic, text, language, document, words",
          "<b>Topic 0</b><br>Words: word, language, topic, text, words",
          "<b>Topic 0</b><br>Words: language, topic, word, text, words",
          "<b>Topic 0</b><br>Words: language, word, text, words, topic",
          "<b>Topic 0</b><br>Words: language, word, text, knowledge, task",
          "<b>Topic 0</b><br>Words: language, word, text, knowledge, task",
          "<b>Topic 0</b><br>Words: language, word, text, task, knowledge",
          "<b>Topic 0</b><br>Words: language, text, word, knowledge, task",
          "<b>Topic 0</b><br>Words: language, text, knowledge, task, tasks",
          "<b>Topic 0</b><br>Words: language, text, knowledge, tasks, task"
         ],
         "marker": {
          "color": "#E69F00"
         },
         "mode": "lines",
         "name": "0_language_text_word_knowledge",
         "type": "scatter",
         "x": [
          2011,
          2012,
          2013,
          2014,
          2015,
          2016,
          2017,
          2018,
          2019,
          2020,
          2021,
          2022
         ],
         "y": [
          0.027923211169284468,
          0.03844350679793718,
          0.025308025308025308,
          0.04354136429608128,
          0.06525157232704402,
          0.07928950741622413,
          0.07834796926454446,
          0.07832719170451624,
          0.08068831645768848,
          0.07851772287862513,
          0.07383771377389649,
          0.06321893416532728
         ]
        },
        {
         "hoverinfo": "text",
         "hovertext": [
          "<b>Topic 1</b><br>Words: reinforcement, value, rls, mdps, function",
          "<b>Topic 1</b><br>Words: reinforcement, value, rl, function, reward",
          "<b>Topic 1</b><br>Words: reinforcement, value, markov, control, mdps",
          "<b>Topic 1</b><br>Words: reinforcement, agent, rl, state, environment",
          "<b>Topic 1</b><br>Words: reinforcement, rl, value, control, action",
          "<b>Topic 1</b><br>Words: reinforcement, rl, control, agent, exploration",
          "<b>Topic 1</b><br>Words: reinforcement, rl, robot, control, reward",
          "<b>Topic 1</b><br>Words: reinforcement, rl, reward, agent, tasks",
          "<b>Topic 1</b><br>Words: reinforcement, rl, reward, agent, environment",
          "<b>Topic 1</b><br>Words: reinforcement, rl, reward, control, agent",
          "<b>Topic 1</b><br>Words: rl, reinforcement, reward, control, tasks",
          "<b>Topic 1</b><br>Words: rl, reinforcement, reward, agent, tasks"
         ],
         "marker": {
          "color": "#56B4E9"
         },
         "mode": "lines",
         "name": "1_reinforcement_rl_reward_control",
         "type": "scatter",
         "x": [
          2011,
          2012,
          2013,
          2014,
          2015,
          2016,
          2017,
          2018,
          2019,
          2020,
          2021,
          2022
         ],
         "y": [
          0.02356020942408377,
          0.0403187998124707,
          0.02664002664002664,
          0.02177068214804064,
          0.023322851153039833,
          0.03076359641091375,
          0.045279912184412734,
          0.05098980203959208,
          0.05220082891768533,
          0.04765485141424991,
          0.04735914014610799,
          0.04878509974472913
         ]
        },
        {
         "hoverinfo": "text",
         "hovertext": [
          "<b>Topic 2</b><br>Words: gradient, smooth, convex, descent, asgd",
          "<b>Topic 2</b><br>Words: descent, convergence, gradient, stochastic, rate",
          "<b>Topic 2</b><br>Words: stochastic, gradient, convex, convergence, smooth",
          "<b>Topic 2</b><br>Words: gradient, convex, stochastic, descent, convergence",
          "<b>Topic 2</b><br>Words: convex, gradient, stochastic, descent, convergence",
          "<b>Topic 2</b><br>Words: gradient, convex, stochastic, convergence, descent",
          "<b>Topic 2</b><br>Words: gradient, stochastic, convergence, convex, descent",
          "<b>Topic 2</b><br>Words: gradient, stochastic, convergence, descent, convex",
          "<b>Topic 2</b><br>Words: gradient, convergence, stochastic, descent, sgd",
          "<b>Topic 2</b><br>Words: gradient, convergence, stochastic, descent, sgd",
          "<b>Topic 2</b><br>Words: gradient, convergence, descent, stochastic, sgd",
          "<b>Topic 2</b><br>Words: gradient, convergence, stochastic, descent, sgd"
         ],
         "marker": {
          "color": "#009E73"
         },
         "mode": "lines",
         "name": "2_gradient_convergence_stochastic_descen...",
         "type": "scatter",
         "x": [
          2011,
          2012,
          2013,
          2014,
          2015,
          2016,
          2017,
          2018,
          2019,
          2020,
          2021,
          2022
         ],
         "y": [
          0.011343804537521814,
          0.009845288326300985,
          0.013986013986013986,
          0.021407837445573296,
          0.03668763102725367,
          0.030214246475004577,
          0.04102634467618002,
          0.03933499014482818,
          0.03598971722365039,
          0.03107769423558897,
          0.030005318106753994,
          0.029844631432983517
         ]
        },
        {
         "hoverinfo": "text",
         "hovertext": [
          "<b>Topic 3</b><br>Words: logic, semantics, reasoning, programs, knowledge",
          "<b>Topic 3</b><br>Words: logic, ontology, fuzzy, knowledge, reasoning",
          "<b>Topic 3</b><br>Words: logic, reasoning, belief, knowledge, semantics",
          "<b>Topic 3</b><br>Words: logic, reasoning, semantics, knowledge, ontology",
          "<b>Topic 3</b><br>Words: logic, ontology, reasoning, knowledge, semantics",
          "<b>Topic 3</b><br>Words: logic, semantics, ontology, fuzzy, knowledge",
          "<b>Topic 3</b><br>Words: logic, ontology, reasoning, knowledge, belief",
          "<b>Topic 3</b><br>Words: logic, ontology, reasoning, ontologies, semantics",
          "<b>Topic 3</b><br>Words: logic, ontology, semantics, reasoning, sat",
          "<b>Topic 3</b><br>Words: logic, asp, reasoning, semantics, ontology",
          "<b>Topic 3</b><br>Words: logic, reasoning, semantics, ontology, knowledge",
          "<b>Topic 3</b><br>Words: logic, ontology, reasoning, semantics, knowledge"
         ],
         "marker": {
          "color": "#F0E442"
         },
         "mode": "lines",
         "name": "3_logic_reasoning_semantics_ontology",
         "type": "scatter",
         "x": [
          2011,
          2012,
          2013,
          2014,
          2015,
          2016,
          2017,
          2018,
          2019,
          2020,
          2021,
          2022
         ],
         "y": [
          0.19633507853403143,
          0.07782466010314111,
          0.18947718947718947,
          0.13352685050798258,
          0.06892033542976939,
          0.05035707745834096,
          0.035949506037321624,
          0.025023566715228384,
          0.01563401710298515,
          0.016970998925886143,
          0.011643854787695581,
          0.010116290063344994
         ]
        },
        {
         "hoverinfo": "text",
         "hovertext": [
          "<b>Topic 4</b><br>Words: tb, tuberculosis, ptb, retroviral, rptb",
          "<b>Topic 4</b><br>Words: undeformed, brain, deformed, image, imaging",
          "<b>Topic 4</b><br>Words: segmentation, image, psf, tissue, breast",
          "<b>Topic 4</b><br>Words: imaging, medical, image, bone, dwi",
          "<b>Topic 4</b><br>Words: cancer, images, segmentation, image, ct",
          "<b>Topic 4</b><br>Words: segmentation, images, imaging, image, medical",
          "<b>Topic 4</b><br>Words: images, segmentation, image, imaging, medical",
          "<b>Topic 4</b><br>Words: images, segmentation, image, imaging, medical",
          "<b>Topic 4</b><br>Words: segmentation, images, image, imaging, medical",
          "<b>Topic 4</b><br>Words: images, segmentation, image, imaging, covid",
          "<b>Topic 4</b><br>Words: segmentation, images, image, imaging, medical",
          "<b>Topic 4</b><br>Words: segmentation, images, image, imaging, medical"
         ],
         "marker": {
          "color": "#D55E00"
         },
         "mode": "lines",
         "name": "4_segmentation_images_image_imaging",
         "type": "scatter",
         "x": [
          2011,
          2012,
          2013,
          2014,
          2015,
          2016,
          2017,
          2018,
          2019,
          2020,
          2021,
          2022
         ],
         "y": [
          0.0008726003490401396,
          0.003750586029067042,
          0.002331002331002331,
          0.003265602322206096,
          0.00550314465408805,
          0.0062259659403039735,
          0.01221185510428101,
          0.021595680863827234,
          0.0302712344577934,
          0.03788041532402435,
          0.03246844123492037,
          0.03331127288771233
         ]
        },
        {
         "hoverinfo": "text",
         "hovertext": [
          "<b>Topic 5</b><br>Words: sparse, matrix, norm, rank, kernel",
          "<b>Topic 5</b><br>Words: sparse, matrix, rank, regression, lasso",
          "<b>Topic 5</b><br>Words: sparse, matrix, rank, lasso, tensor",
          "<b>Topic 5</b><br>Words: matrix, rank, sparse, tensor, low",
          "<b>Topic 5</b><br>Words: sparse, matrix, rank, tensor, norm",
          "<b>Topic 5</b><br>Words: matrix, rank, sparse, tensor, kernel",
          "<b>Topic 5</b><br>Words: matrix, rank, sparse, tensor, regression",
          "<b>Topic 5</b><br>Words: matrix, rank, sparse, tensor, regression",
          "<b>Topic 5</b><br>Words: matrix, rank, sparse, tensor, kernel",
          "<b>Topic 5</b><br>Words: matrix, tensor, rank, sparse, regression",
          "<b>Topic 5</b><br>Words: matrix, tensor, rank, sparse, low",
          "<b>Topic 5</b><br>Words: tensor, matrix, rank, sparse, regression"
         ],
         "marker": {
          "color": "#0072B2"
         },
         "mode": "lines",
         "name": "5_matrix_rank_sparse_tensor",
         "type": "scatter",
         "x": [
          2011,
          2012,
          2013,
          2014,
          2015,
          2016,
          2017,
          2018,
          2019,
          2020,
          2021,
          2022
         ],
         "y": [
          0.06980802792321117,
          0.06610407876230662,
          0.06626706626706627,
          0.09034833091436865,
          0.08936058700209644,
          0.06665445889031313,
          0.046789242590559825,
          0.034964435684291716,
          0.022349299617019043,
          0.01811672037235947,
          0.016178240546365494,
          0.015064132866912484
         ]
        },
        {
         "hoverinfo": "text",
         "hovertext": [
          "<b>Topic 6</b><br>Words: music, vmm, tempo, speech, audio",
          "<b>Topic 6</b><br>Words: musical, speech, speaker, music, audio",
          "<b>Topic 6</b><br>Words: speech, audio, speaker, dysfluent, features",
          "<b>Topic 6</b><br>Words: speech, audio, music, speaker, acoustic",
          "<b>Topic 6</b><br>Words: speech, speaker, audio, acoustic, dnn",
          "<b>Topic 6</b><br>Words: speech, music, audio, speaker, acoustic",
          "<b>Topic 6</b><br>Words: speech, audio, music, speaker, acoustic",
          "<b>Topic 6</b><br>Words: speech, audio, speaker, music, recognition",
          "<b>Topic 6</b><br>Words: speech, audio, speaker, music, acoustic",
          "<b>Topic 6</b><br>Words: speech, audio, speaker, music, acoustic",
          "<b>Topic 6</b><br>Words: speech, audio, speaker, music, asr",
          "<b>Topic 6</b><br>Words: speech, audio, speaker, music, asr"
         ],
         "marker": {
          "color": "#CC79A7"
         },
         "mode": "lines",
         "name": "6_speech_audio_speaker_music",
         "type": "scatter",
         "x": [
          2011,
          2012,
          2013,
          2014,
          2015,
          2016,
          2017,
          2018,
          2019,
          2020,
          2021,
          2022
         ],
         "y": [
          0.006108202443280977,
          0.005625879043600563,
          0.00666000666000666,
          0.014876632801161103,
          0.017557651991614256,
          0.025086980406518952,
          0.02703073545554336,
          0.028280058274059473,
          0.032317297098788104,
          0.029180093089867527,
          0.02617068323676771,
          0.026441019822886137
         ]
        },
        {
         "hoverinfo": "text",
         "hovertext": [
          "<b>Topic 7</b><br>Words: norb, epochs, parameterizable, mnist, wired",
          "<b>Topic 7</b><br>Words: theano, evolutionary, torch7, distributed, library",
          "<b>Topic 7</b><br>Words: parallelism, gpu, sgd, weights, vision",
          "<b>Topic 7</b><br>Words: computation, caffe, library, hardware, convolutional",
          "<b>Topic 7</b><br>Words: convolutional, layers, gpu, memory, gpus",
          "<b>Topic 7</b><br>Words: bit, hardware, memory, pruning, gpu",
          "<b>Topic 7</b><br>Words: quantization, memory, pruning, hardware, precision",
          "<b>Topic 7</b><br>Words: pruning, hardware, quantization, memory, compression",
          "<b>Topic 7</b><br>Words: pruning, quantization, hardware, architecture, search",
          "<b>Topic 7</b><br>Words: pruning, quantization, hardware, search, nas",
          "<b>Topic 7</b><br>Words: pruning, nas, hardware, quantization, search",
          "<b>Topic 7</b><br>Words: pruning, quantization, nas, hardware, search"
         ],
         "marker": {
          "color": "#E69F00"
         },
         "mode": "lines",
         "name": "7_pruning_quantization_hardware_nas",
         "type": "scatter",
         "x": [
          2011,
          2012,
          2013,
          2014,
          2015,
          2016,
          2017,
          2018,
          2019,
          2020,
          2021,
          2022
         ],
         "y": [
          0.0008726003490401396,
          0.0009376465072667605,
          0.000999000999000999,
          0.0039912917271407835,
          0.008123689727463312,
          0.01593114814136605,
          0.022091108671789244,
          0.024852172422658324,
          0.026756203766853785,
          0.025671321160042965,
          0.02530299213480001,
          0.02067378903911002
         ]
        },
        {
         "hoverinfo": "text",
         "hovertext": [
          "<b>Topic 8</b><br>Words: causal, variables, graphical, bayesian, structure",
          "<b>Topic 8</b><br>Words: causal, variables, bayesian, graphical, structure",
          "<b>Topic 8</b><br>Words: causal, variables, bayesian, belief, independence",
          "<b>Topic 8</b><br>Words: causal, variables, graphical, bayesian, structure",
          "<b>Topic 8</b><br>Words: causal, graphical, variables, bayesian, structure",
          "<b>Topic 8</b><br>Words: causal, variables, graphical, treatment, bayesian",
          "<b>Topic 8</b><br>Words: causal, variables, treatment, graphical, structure",
          "<b>Topic 8</b><br>Words: causal, treatment, variables, graphical, bayesian",
          "<b>Topic 8</b><br>Words: causal, treatment, variables, graphical, observational",
          "<b>Topic 8</b><br>Words: causal, treatment, variables, effect, observational",
          "<b>Topic 8</b><br>Words: causal, treatment, variables, effect, observational",
          "<b>Topic 8</b><br>Words: causal, treatment, variables, effect, observational"
         ],
         "marker": {
          "color": "#56B4E9"
         },
         "mode": "lines",
         "name": "8_causal_treatment_variables_graphical",
         "type": "scatter",
         "x": [
          2011,
          2012,
          2013,
          2014,
          2015,
          2016,
          2017,
          2018,
          2019,
          2020,
          2021,
          2022
         ],
         "y": [
          0.03926701570680628,
          0.14533520862634786,
          0.14618714618714618,
          0.03991291727140784,
          0.03039832285115304,
          0.02069218091924556,
          0.022091108671789244,
          0.016539549233010542,
          0.011436965531713972,
          0.01342642320085929,
          0.013883057631483191,
          0.015568371623963947
         ]
        },
        {
         "hoverinfo": "text",
         "hovertext": [
          "<b>Topic 9</b><br>Words: bitstream, watermark, message, attack, watermarking",
          "<b>Topic 9</b><br>Words: subsvms, svm, attacks, adversarial, subsampled",
          "<b>Topic 9</b><br>Words: svms, security, evasion, poisoning, attack",
          "<b>Topic 9</b><br>Words: adversarial, dnns, examples, lion, perturbations",
          "<b>Topic 9</b><br>Words: adversarial, attacks, perturbations, robustness, examples",
          "<b>Topic 9</b><br>Words: adversarial, attacks, examples, attack, robustness",
          "<b>Topic 9</b><br>Words: adversarial, attacks, attack, examples, robustness",
          "<b>Topic 9</b><br>Words: adversarial, attacks, attack, robustness, examples",
          "<b>Topic 9</b><br>Words: adversarial, attacks, attack, robustness, perturbations",
          "<b>Topic 9</b><br>Words: adversarial, attacks, attack, robustness, perturbations",
          "<b>Topic 9</b><br>Words: adversarial, attacks, robustness, attack, examples"
         ],
         "marker": {
          "color": "#009E73"
         },
         "mode": "lines",
         "name": "9_adversarial_attacks_attack_robustness",
         "type": "scatter",
         "x": [
          2012,
          2013,
          2014,
          2015,
          2016,
          2017,
          2018,
          2019,
          2020,
          2021,
          2022
         ],
         "y": [
          0.00046882325363338024,
          0.000666000666000666,
          0.000362844702467344,
          0.0010482180293501049,
          0.005676616004394799,
          0.012760702524698134,
          0.022366955180392493,
          0.026651277477572007,
          0.024167561761546726,
          0.02421138074845355,
          0.022154990387948693
         ]
        },
        {
         "hoverinfo": "text",
         "hovertext": [
          "<b>Topic 10</b><br>Words: regret, bandit, online, bound, arms",
          "<b>Topic 10</b><br>Words: regret, bandit, online, armed, bound",
          "<b>Topic 10</b><br>Words: regret, bandit, online, armed, arm",
          "<b>Topic 10</b><br>Words: regret, bandit, online, arms, bandits",
          "<b>Topic 10</b><br>Words: regret, bandit, online, bandits, bound",
          "<b>Topic 10</b><br>Words: regret, bandit, online, arm, bandits",
          "<b>Topic 10</b><br>Words: regret, bandit, online, arm, arms",
          "<b>Topic 10</b><br>Words: regret, bandit, online, bandits, bound",
          "<b>Topic 10</b><br>Words: regret, bandit, online, arms, bound",
          "<b>Topic 10</b><br>Words: regret, bandit, online, bandits, arm",
          "<b>Topic 10</b><br>Words: regret, bandit, online, bandits, arm",
          "<b>Topic 10</b><br>Words: regret, bandit, online, bandits, bound"
         ],
         "marker": {
          "color": "#F0E442"
         },
         "mode": "lines",
         "name": "10_regret_bandit_online_bandits",
         "type": "scatter",
         "x": [
          2011,
          2012,
          2013,
          2014,
          2015,
          2016,
          2017,
          2018,
          2019,
          2020,
          2021,
          2022
         ],
         "y": [
          0.030541012216404886,
          0.029067041725269572,
          0.026307026307026308,
          0.030478955007256895,
          0.02908805031446541,
          0.025819446987731184,
          0.02565861690450055,
          0.015511183477590196,
          0.017785006033261632,
          0.017006802721088437,
          0.017829652643658857,
          0.01931864737953421
         ]
        },
        {
         "hoverinfo": "text",
         "hovertext": [
          "<b>Topic 11</b><br>Words: hypothesis, projects, bandwidth, stage, given",
          "<b>Topic 11</b><br>Words: generalisation, publishing, corporate, education, evaluation",
          "<b>Topic 11</b><br>Words: agi, aid, fallible, unaided, decision",
          "<b>Topic 11</b><br>Words: morally, ethical, explanations, rl, halting",
          "<b>Topic 11</b><br>Words: sociotechnological, triclustering, ethical, progress, explanations",
          "<b>Topic 11</b><br>Words: explanations, interpretable, ethical, predictions, human",
          "<b>Topic 11</b><br>Words: explanations, interpretability, human, ethical, ethics",
          "<b>Topic 11</b><br>Words: explanations, interpretability, human, black, ethical",
          "<b>Topic 11</b><br>Words: explanations, interpretability, human, interpretable, black",
          "<b>Topic 11</b><br>Words: explanations, interpretability, human, explainable, decision",
          "<b>Topic 11</b><br>Words: explanations, interpretability, xai, explainable, human",
          "<b>Topic 11</b><br>Words: explanations, human, xai, ml, interpretability"
         ],
         "marker": {
          "color": "#D55E00"
         },
         "mode": "lines",
         "name": "11_explanations_interpretability_human_e...",
         "type": "scatter",
         "x": [
          2011,
          2012,
          2013,
          2014,
          2015,
          2016,
          2017,
          2018,
          2019,
          2020,
          2021,
          2022
         ],
         "y": [
          0.0034904013961605585,
          0.001875293014533521,
          0.000999000999000999,
          0.00181422351233672,
          0.0020964360587002098,
          0.00750778245742538,
          0.012074643249176729,
          0.016882337818150656,
          0.017417764020775404,
          0.0200859291084855,
          0.024743191423853107,
          0.024045885726891682
         ]
        },
        {
         "hoverinfo": "text",
         "hovertext": [
          "<b>Topic 12</b><br>Words: encoders, penalty, auto, guidance, latent",
          "<b>Topic 12</b><br>Words: latent, density, layer, auto, generative",
          "<b>Topic 12</b><br>Words: corruption, encoders, auto, contractive, satae",
          "<b>Topic 12</b><br>Words: nade, generative, auto, encoder, distribution",
          "<b>Topic 12</b><br>Words: generative, distribution, latent, gans, autoencoders",
          "<b>Topic 12</b><br>Words: generative, latent, variational, gans, image",
          "<b>Topic 12</b><br>Words: generative, gans, gan, latent, generator",
          "<b>Topic 12</b><br>Words: generative, gans, gan, latent, generator",
          "<b>Topic 12</b><br>Words: generative, gans, gan, latent, image",
          "<b>Topic 12</b><br>Words: generative, gans, gan, latent, image",
          "<b>Topic 12</b><br>Words: generative, gans, gan, latent, image",
          "<b>Topic 12</b><br>Words: generative, gans, latent, gan, image"
         ],
         "marker": {
          "color": "#0072B2"
         },
         "mode": "lines",
         "name": "12_generative_gans_gan_latent",
         "type": "scatter",
         "x": [
          2011,
          2012,
          2013,
          2014,
          2015,
          2016,
          2017,
          2018,
          2019,
          2020,
          2021,
          2022
         ],
         "y": [
          0.0017452006980802793,
          0.0046882325363338025,
          0.001332001332001332,
          0.007619738751814224,
          0.008123689727463312,
          0.014832448269547702,
          0.02593304061470911,
          0.027337389664924158,
          0.025182309427627093,
          0.020515574650912995,
          0.017689702465922132,
          0.01641927452648829
         ]
        },
        {
         "hoverinfo": "text",
         "hovertext": [
          "<b>Topic 13</b><br>Words: ctd, anomaly, detection, spam, pe",
          "<b>Topic 13</b><br>Words: detection, intrusion, client, security, anomaly",
          "<b>Topic 13</b><br>Words: detection, anomaly, malware, attack, security",
          "<b>Topic 13</b><br>Words: detection, anomaly, phishing, outliers, anomalies",
          "<b>Topic 13</b><br>Words: anomaly, detection, outlier, anomalies, detect",
          "<b>Topic 13</b><br>Words: detection, anomaly, malware, anomalies, security",
          "<b>Topic 13</b><br>Words: detection, malware, anomaly, anomalies, security",
          "<b>Topic 13</b><br>Words: detection, anomaly, malware, security, anomalies",
          "<b>Topic 13</b><br>Words: detection, anomaly, malware, anomalies, attacks",
          "<b>Topic 13</b><br>Words: detection, anomaly, malware, anomalies, attacks",
          "<b>Topic 13</b><br>Words: detection, anomaly, malware, anomalies, attacks",
          "<b>Topic 13</b><br>Words: anomaly, detection, malware, anomalies, attacks"
         ],
         "marker": {
          "color": "#CC79A7"
         },
         "mode": "lines",
         "name": "13_detection_anomaly_malware_anomalies",
         "type": "scatter",
         "x": [
          2011,
          2012,
          2013,
          2014,
          2015,
          2016,
          2017,
          2018,
          2019,
          2020,
          2021,
          2022
         ],
         "y": [
          0.004363001745200698,
          0.007969995311767463,
          0.01098901098901099,
          0.011248185776487663,
          0.00890985324947589,
          0.019227247756821095,
          0.012486278814489571,
          0.01868197789013626,
          0.017680079743979855,
          0.017185821697099892,
          0.021132476838245585,
          0.0181525952538527
         ]
        },
        {
         "hoverinfo": "text",
         "hovertext": [
          "<b>Topic 14</b><br>Words: ranking, recommendation, recommender, preference, search",
          "<b>Topic 14</b><br>Words: recommendation, users, collaborative, ratings, filtering",
          "<b>Topic 14</b><br>Words: recommendation, ranking, users, recommender, collaborative",
          "<b>Topic 14</b><br>Words: ranking, recommendation, users, recommender, rating",
          "<b>Topic 14</b><br>Words: recommendation, users, ranking, ratings, recommender",
          "<b>Topic 14</b><br>Words: recommendation, recommender, users, ranking, recommendations",
          "<b>Topic 14</b><br>Words: recommendation, users, ranking, recommender, recommendations",
          "<b>Topic 14</b><br>Words: recommendation, users, recommender, ranking, recommendations",
          "<b>Topic 14</b><br>Words: recommendation, recommender, users, ranking, recommendations",
          "<b>Topic 14</b><br>Words: recommendation, recommender, users, ranking, recommendations",
          "<b>Topic 14</b><br>Words: recommendation, recommender, users, ranking, recommendations",
          "<b>Topic 14</b><br>Words: recommendation, recommender, users, ranking, recommendations"
         ],
         "marker": {
          "color": "#E69F00"
         },
         "mode": "lines",
         "name": "14_recommendation_recommender_users_rank...",
         "type": "scatter",
         "x": [
          2011,
          2012,
          2013,
          2014,
          2015,
          2016,
          2017,
          2018,
          2019,
          2020,
          2021,
          2022
         ],
         "y": [
          0.014834205933682374,
          0.02109704641350211,
          0.010656010656010656,
          0.017053701015965168,
          0.014412997903563941,
          0.022157114081670023,
          0.018386388583973654,
          0.016968034964435684,
          0.01836210062431142,
          0.015503043322592195,
          0.015086629160019033,
          0.014969588099965334
         ]
        },
        {
         "hoverinfo": "text",
         "hovertext": [
          "<b>Topic 15</b><br>Words: 3d, camera, dtm, omnidirectional, terrain",
          "<b>Topic 15</b><br>Words: object, keypoints, asift, 3d, mht",
          "<b>Topic 15</b><br>Words: object, detection, objects, epipolar, 3d",
          "<b>Topic 15</b><br>Words: dem, object, 3d, registration, image",
          "<b>Topic 15</b><br>Words: object, detection, 3d, image, objects",
          "<b>Topic 15</b><br>Words: object, 3d, detection, segmentation, image",
          "<b>Topic 15</b><br>Words: 3d, object, segmentation, depth, objects",
          "<b>Topic 15</b><br>Words: 3d, object, segmentation, point, shape",
          "<b>Topic 15</b><br>Words: 3d, object, point, segmentation, shape",
          "<b>Topic 15</b><br>Words: 3d, object, point, segmentation, depth",
          "<b>Topic 15</b><br>Words: 3d, object, point, segmentation, depth",
          "<b>Topic 15</b><br>Words: 3d, object, point, segmentation, depth"
         ],
         "marker": {
          "color": "#56B4E9"
         },
         "mode": "lines",
         "name": "15_3d_object_point_segmentation",
         "type": "scatter",
         "x": [
          2011,
          2012,
          2013,
          2014,
          2015,
          2016,
          2017,
          2018,
          2019,
          2020,
          2021,
          2022
         ],
         "y": [
          0.0034904013961605585,
          0.0032817627754336614,
          0.00333000333000333,
          0.003265602322206096,
          0.008123689727463312,
          0.008240249038637612,
          0.009604829857299671,
          0.01336875482046448,
          0.016158648549394052,
          0.01861797350519155,
          0.016514120972933637,
          0.0179635057199584
         ]
        },
        {
         "hoverinfo": "text",
         "hovertext": [
          "<b>Topic 16</b><br>Words: genes, disease, gene, sffs, rcnet",
          "<b>Topic 16</b><br>Words: protein, gene, abbrev, proteins, amino",
          "<b>Topic 16</b><br>Words: protein, gene, molecular, rna, drug",
          "<b>Topic 16</b><br>Words: protein, drug, molecular, gene, sequences",
          "<b>Topic 16</b><br>Words: protein, drug, molecular, proteins, gene",
          "<b>Topic 16</b><br>Words: protein, gene, molecular, cancer, drug",
          "<b>Topic 16</b><br>Words: protein, molecular, molecules, chemical, drug",
          "<b>Topic 16</b><br>Words: drug, molecular, protein, chemical, molecules",
          "<b>Topic 16</b><br>Words: molecular, protein, drug, molecules, chemical",
          "<b>Topic 16</b><br>Words: molecular, drug, protein, molecules, chemical",
          "<b>Topic 16</b><br>Words: molecular, drug, protein, molecules, chemical",
          "<b>Topic 16</b><br>Words: molecular, protein, drug, molecules, chemical"
         ],
         "marker": {
          "color": "#009E73"
         },
         "mode": "lines",
         "name": "16_molecular_protein_drug_molecules",
         "type": "scatter",
         "x": [
          2011,
          2012,
          2013,
          2014,
          2015,
          2016,
          2017,
          2018,
          2019,
          2020,
          2021,
          2022
         ],
         "y": [
          0.005235602094240838,
          0.0046882325363338025,
          0.007659007659007659,
          0.013062409288824383,
          0.013888888888888888,
          0.010437648782274309,
          0.015916575192096598,
          0.014739909161024937,
          0.013483028172708671,
          0.014249910490511995,
          0.015030649088924344,
          0.01859380416627273
         ]
        },
        {
         "hoverinfo": "text",
         "hovertext": [
          "<b>Topic 17</b><br>Words: relational, temporal, mucca, graph, ensembles",
          "<b>Topic 17</b><br>Words: graph, wvrn, node, sampling, relational",
          "<b>Topic 17</b><br>Words: objects, hetesim, collective, types, graph",
          "<b>Topic 17</b><br>Words: graph, deepwalk, node, graphs, representations",
          "<b>Topic 17</b><br>Words: graph, mf, ae, node, embedding",
          "<b>Topic 17</b><br>Words: graph, node, nodes, graphs, embedding",
          "<b>Topic 17</b><br>Words: graph, node, graphs, nodes, representations",
          "<b>Topic 17</b><br>Words: graph, node, graphs, nodes, embedding",
          "<b>Topic 17</b><br>Words: graph, node, graphs, nodes, embedding",
          "<b>Topic 17</b><br>Words: graph, node, graphs, gnns, nodes",
          "<b>Topic 17</b><br>Words: graph, node, gnns, graphs, nodes",
          "<b>Topic 17</b><br>Words: graph, node, gnns, graphs, gnn"
         ],
         "marker": {
          "color": "#F0E442"
         },
         "mode": "lines",
         "name": "17_graph_node_graphs_gnns",
         "type": "scatter",
         "x": [
          2011,
          2012,
          2013,
          2014,
          2015,
          2016,
          2017,
          2018,
          2019,
          2020,
          2021,
          2022
         ],
         "y": [
          0.002617801047120419,
          0.0023441162681669013,
          0.000999000999000999,
          0.003265602322206096,
          0.0018343815513626835,
          0.004028566196667277,
          0.006311745334796927,
          0.011054931870768704,
          0.015319238235139815,
          0.01639813820264948,
          0.01838945335460576,
          0.02020106520437427
         ]
        },
        {
         "hoverinfo": "text",
         "hovertext": [
          "<b>Topic 18</b><br>Words: srcs, channel, users, channels, secondary",
          "<b>Topic 18</b><br>Words: femtocells, sensing, wireless, spectrum, scheduling",
          "<b>Topic 18</b><br>Words: routing, channel, femtocells, shortest, wireless",
          "<b>Topic 18</b><br>Words: channel, radio, cache, wireless, infostation",
          "<b>Topic 18</b><br>Words: channel, radio, wireless, distributive, energy",
          "<b>Topic 18</b><br>Words: channel, wireless, radio, users, modulation",
          "<b>Topic 18</b><br>Words: channel, wireless, allocation, radio, resource",
          "<b>Topic 18</b><br>Words: channel, wireless, communication, radio, csi",
          "<b>Topic 18</b><br>Words: channel, wireless, communication, radio, allocation",
          "<b>Topic 18</b><br>Words: channel, wireless, communication, radio, resource",
          "<b>Topic 18</b><br>Words: channel, wireless, communication, radio, 5g",
          "<b>Topic 18</b><br>Words: channel, wireless, communication, radio, communications"
         ],
         "marker": {
          "color": "#D55E00"
         },
         "mode": "lines",
         "name": "18_channel_wireless_communication_radio",
         "type": "scatter",
         "x": [
          2011,
          2012,
          2013,
          2014,
          2015,
          2016,
          2017,
          2018,
          2019,
          2020,
          2021,
          2022
         ],
         "y": [
          0.010471204188481676,
          0.005625879043600563,
          0.004995004995004995,
          0.00544267053701016,
          0.005241090146750524,
          0.007324665812122322,
          0.00672338090010977,
          0.011054931870768704,
          0.014427364776244688,
          0.015180809165771572,
          0.01550647969322921,
          0.0149065582553339
         ]
        },
        {
         "hoverinfo": "text",
         "hovertext": [
          "<b>Topic 19</b><br>Words: boosting, ensemble, classifiers, classification, class",
          "<b>Topic 19</b><br>Words: boosting, class, logitboost, classification, classifier",
          "<b>Topic 19</b><br>Words: ensemble, class, boosting, classifiers, classification",
          "<b>Topic 19</b><br>Words: ensemble, classifiers, class, tree, classification",
          "<b>Topic 19</b><br>Words: classification, classifiers, trees, ensemble, boosting",
          "<b>Topic 19</b><br>Words: classification, tree, ensemble, trees, class",
          "<b>Topic 19</b><br>Words: ensemble, boosting, classification, class, trees",
          "<b>Topic 19</b><br>Words: ensemble, classification, class, classifier, classifiers",
          "<b>Topic 19</b><br>Words: ensemble, uncertainty, classification, trees, class",
          "<b>Topic 19</b><br>Words: classification, ensemble, uncertainty, class, label",
          "<b>Topic 19</b><br>Words: uncertainty, ensemble, label, classification, class",
          "<b>Topic 19</b><br>Words: uncertainty, ensemble, class, label, classification"
         ],
         "marker": {
          "color": "#0072B2"
         },
         "mode": "lines",
         "name": "19_ensemble_classification_uncertainty_c...",
         "type": "scatter",
         "x": [
          2011,
          2012,
          2013,
          2014,
          2015,
          2016,
          2017,
          2018,
          2019,
          2020,
          2021,
          2022
         ],
         "y": [
          0.015706806282722512,
          0.017815283638068447,
          0.015651015651015652,
          0.015965166908563134,
          0.024633123689727462,
          0.013733748397729353,
          0.012897914379802415,
          0.013711543405604593,
          0.012643617858454435,
          0.012674543501611171,
          0.013043356565062838,
          0.01096719296586934
         ]
        },
        {
         "hoverinfo": "text",
         "hovertext": [
          "<b>Topic 20</b><br>Words: series, forecasting, deseasonalization, time, market",
          "<b>Topic 20</b><br>Words: series, time, market, reversion, markets",
          "<b>Topic 20</b><br>Words: series, time, stock, forecasting, financial",
          "<b>Topic 20</b><br>Words: series, time, market, stock, forecasting",
          "<b>Topic 20</b><br>Words: series, time, market, stock, forecasting",
          "<b>Topic 20</b><br>Words: series, time, stock, market, forecasting",
          "<b>Topic 20</b><br>Words: series, time, stock, market, forecasting",
          "<b>Topic 20</b><br>Words: series, time, financial, market, forecasting",
          "<b>Topic 20</b><br>Words: series, time, stock, forecasting, market",
          "<b>Topic 20</b><br>Words: series, time, forecasting, market, financial",
          "<b>Topic 20</b><br>Words: series, time, forecasting, stock, market",
          "<b>Topic 20</b><br>Words: series, time, forecasting, market, stock"
         ],
         "marker": {
          "color": "#CC79A7"
         },
         "mode": "lines",
         "name": "20_series_time_forecasting_stock",
         "type": "scatter",
         "x": [
          2011,
          2012,
          2013,
          2014,
          2015,
          2016,
          2017,
          2018,
          2019,
          2020,
          2021,
          2022
         ],
         "y": [
          0.005235602094240838,
          0.007501172058134084,
          0.009657009657009658,
          0.009433962264150943,
          0.012578616352201259,
          0.008606482329243728,
          0.008369923161361141,
          0.012683177650184249,
          0.012853470437017995,
          0.011994271392767633,
          0.014806728804545581,
          0.014843528410702467
         ]
        },
        {
         "hoverinfo": "text",
         "hovertext": [
          "<b>Topic 21</b><br>Words: tension, elastic, term, mexican, discretised",
          "<b>Topic 21</b><br>Words: withdrawn, icml2008, author, helsinki, 111",
          "<b>Topic 21</b><br>Words: materials, fiber, polymer, fibers, composite",
          "<b>Topic 21</b><br>Words: identification, droplets, dimensional, reprap3d, ncomms6571",
          "<b>Topic 21</b><br>Words: wind, reduced, cycle, hcci, combustion",
          "<b>Topic 21</b><br>Words: combustion, dynamics, equations, time, dynamical",
          "<b>Topic 21</b><br>Words: equations, differential, fluid, physics, flow",
          "<b>Topic 21</b><br>Words: equations, differential, physical, pdes, physics",
          "<b>Topic 21</b><br>Words: equations, differential, pdes, physics, equation",
          "<b>Topic 21</b><br>Words: equations, differential, physics, equation, pdes",
          "<b>Topic 21</b><br>Words: equations, physics, differential, pdes, equation",
          "<b>Topic 21</b><br>Words: equations, differential, physics, pdes, pde"
         ],
         "marker": {
          "color": "#E69F00"
         },
         "mode": "lines",
         "name": "21_equations_differential_physics_pdes",
         "type": "scatter",
         "x": [
          2011,
          2012,
          2013,
          2014,
          2015,
          2016,
          2017,
          2018,
          2019,
          2020,
          2021,
          2022
         ],
         "y": [
          0.002617801047120419,
          0.00046882325363338024,
          0.000666000666000666,
          0.000725689404934688,
          0.0020964360587002098,
          0.0018311664530305805,
          0.003704720087815587,
          0.005227525923386751,
          0.00897119773359215,
          0.012746151092015753,
          0.0172978419682593,
          0.021335602407740066
         ]
        },
        {
         "hoverinfo": "text",
         "hovertext": [
          "<b>Topic 22</b><br>Words: gaussian, process, bayesian, kernel, posterior",
          "<b>Topic 22</b><br>Words: gp, gaussian, variational, posterior, process",
          "<b>Topic 22</b><br>Words: gaussian, gp, variational, process, bayesian",
          "<b>Topic 22</b><br>Words: gaussian, mcmc, posterior, variational, gp",
          "<b>Topic 22</b><br>Words: gaussian, variational, posterior, bayesian, gp",
          "<b>Topic 22</b><br>Words: gaussian, posterior, variational, mcmc, bayesian",
          "<b>Topic 22</b><br>Words: gaussian, posterior, variational, bayesian, carlo",
          "<b>Topic 22</b><br>Words: gaussian, variational, gp, posterior, bayesian",
          "<b>Topic 22</b><br>Words: gaussian, posterior, variational, gp, bayesian",
          "<b>Topic 22</b><br>Words: gaussian, variational, posterior, gp, carlo",
          "<b>Topic 22</b><br>Words: gaussian, gp, posterior, variational, bayesian",
          "<b>Topic 22</b><br>Words: gaussian, variational, posterior, gp, bayesian"
         ],
         "marker": {
          "color": "#56B4E9"
         },
         "mode": "lines",
         "name": "22_gaussian_variational_posterior_gp",
         "type": "scatter",
         "x": [
          2011,
          2012,
          2013,
          2014,
          2015,
          2016,
          2017,
          2018,
          2019,
          2020,
          2021,
          2022
         ],
         "y": [
          0.012216404886561954,
          0.02390998593530239,
          0.015984015984015984,
          0.023947750362844702,
          0.03170859538784067,
          0.02069218091924556,
          0.020718990120746433,
          0.016025366355300368,
          0.011961596978122869,
          0.009774436090225564,
          0.009600582192739385,
          0.008572058869874886
         ]
        },
        {
         "hoverinfo": "text",
         "hovertext": [
          "<b>Topic 23</b><br>Words: outlooks, swapper, finger, bci, ecog",
          "<b>Topic 23</b><br>Words: bmi, mlc, hdp, eeg, walker",
          "<b>Topic 23</b><br>Words: bci, activity, sounds, eeg, subjects",
          "<b>Topic 23</b><br>Words: eeg, classification, ecg, recognition, signals",
          "<b>Topic 23</b><br>Words: esips, eeg, activity, finger, series",
          "<b>Topic 23</b><br>Words: eeg, sleep, recognition, activity, classification",
          "<b>Topic 23</b><br>Words: eeg, sleep, activity, features, signals",
          "<b>Topic 23</b><br>Words: eeg, sleep, activity, signals, brain",
          "<b>Topic 23</b><br>Words: eeg, ecg, activity, sleep, signals",
          "<b>Topic 23</b><br>Words: eeg, ecg, signals, sleep, activity",
          "<b>Topic 23</b><br>Words: eeg, signals, sleep, ecg, activity",
          "<b>Topic 23</b><br>Words: eeg, ecg, sleep, signals, activity"
         ],
         "marker": {
          "color": "#009E73"
         },
         "mode": "lines",
         "name": "23_eeg_sleep_signals_ecg",
         "type": "scatter",
         "x": [
          2011,
          2012,
          2013,
          2014,
          2015,
          2016,
          2017,
          2018,
          2019,
          2020,
          2021,
          2022
         ],
         "y": [
          0.004363001745200698,
          0.0028129395218002813,
          0.003996003996003996,
          0.008708272859216255,
          0.002620545073375262,
          0.010437648782274309,
          0.010976948408342482,
          0.01259748050389922,
          0.012328838990609096,
          0.014751163623344074,
          0.012875416351778766,
          0.013015662916390912
         ]
        },
        {
         "hoverinfo": "text",
         "hovertext": [
          "<b>Topic 24</b><br>Words: cdoi, omop, spreader, disease, chronic",
          "<b>Topic 24</b><br>Words: health, patient, patients, clinical, disease",
          "<b>Topic 24</b><br>Words: pharmacists, clinical, drug, health, alert",
          "<b>Topic 24</b><br>Words: medical, patient, health, patients, clinical",
          "<b>Topic 24</b><br>Words: patient, clinical, patients, disease, health",
          "<b>Topic 24</b><br>Words: patients, patient, clinical, health, medical",
          "<b>Topic 24</b><br>Words: patients, patient, health, medical, clinical",
          "<b>Topic 24</b><br>Words: health, patients, patient, clinical, medical",
          "<b>Topic 24</b><br>Words: patient, patients, clinical, health, prediction",
          "<b>Topic 24</b><br>Words: patients, patient, health, covid, 19",
          "<b>Topic 24</b><br>Words: covid, patients, 19, patient, health",
          "<b>Topic 24</b><br>Words: patients, health, patient, covid, 19"
         ],
         "marker": {
          "color": "#F0E442"
         },
         "mode": "lines",
         "name": "24_patients_patient_health_clinical",
         "type": "scatter",
         "x": [
          2011,
          2012,
          2013,
          2014,
          2015,
          2016,
          2017,
          2018,
          2019,
          2020,
          2021,
          2022
         ],
         "y": [
          0.004363001745200698,
          0.0032817627754336614,
          0.004329004329004329,
          0.007982583454281567,
          0.006027253668763103,
          0.011719465299395715,
          0.011525795828759604,
          0.011226326163338761,
          0.01201406012276376,
          0.01435732187611887,
          0.01463878859126151,
          0.010525984053449308
         ]
        }
       ],
       "layout": {
        "height": 800,
        "hoverlabel": {
         "bgcolor": "white",
         "font": {
          "family": "Rockwell",
          "size": 16
         }
        },
        "legend": {
         "title": {
          "text": "<b>Global Topic Representation"
         }
        },
        "template": {
         "data": {
          "bar": [
           {
            "error_x": {
             "color": "rgb(36,36,36)"
            },
            "error_y": {
             "color": "rgb(36,36,36)"
            },
            "marker": {
             "line": {
              "color": "white",
              "width": 0.5
             },
             "pattern": {
              "fillmode": "overlay",
              "size": 10,
              "solidity": 0.2
             }
            },
            "type": "bar"
           }
          ],
          "barpolar": [
           {
            "marker": {
             "line": {
              "color": "white",
              "width": 0.5
             },
             "pattern": {
              "fillmode": "overlay",
              "size": 10,
              "solidity": 0.2
             }
            },
            "type": "barpolar"
           }
          ],
          "carpet": [
           {
            "aaxis": {
             "endlinecolor": "rgb(36,36,36)",
             "gridcolor": "white",
             "linecolor": "white",
             "minorgridcolor": "white",
             "startlinecolor": "rgb(36,36,36)"
            },
            "baxis": {
             "endlinecolor": "rgb(36,36,36)",
             "gridcolor": "white",
             "linecolor": "white",
             "minorgridcolor": "white",
             "startlinecolor": "rgb(36,36,36)"
            },
            "type": "carpet"
           }
          ],
          "choropleth": [
           {
            "colorbar": {
             "outlinewidth": 1,
             "tickcolor": "rgb(36,36,36)",
             "ticks": "outside"
            },
            "type": "choropleth"
           }
          ],
          "contour": [
           {
            "colorbar": {
             "outlinewidth": 1,
             "tickcolor": "rgb(36,36,36)",
             "ticks": "outside"
            },
            "colorscale": [
             [
              0,
              "#440154"
             ],
             [
              0.1111111111111111,
              "#482878"
             ],
             [
              0.2222222222222222,
              "#3e4989"
             ],
             [
              0.3333333333333333,
              "#31688e"
             ],
             [
              0.4444444444444444,
              "#26828e"
             ],
             [
              0.5555555555555556,
              "#1f9e89"
             ],
             [
              0.6666666666666666,
              "#35b779"
             ],
             [
              0.7777777777777778,
              "#6ece58"
             ],
             [
              0.8888888888888888,
              "#b5de2b"
             ],
             [
              1,
              "#fde725"
             ]
            ],
            "type": "contour"
           }
          ],
          "contourcarpet": [
           {
            "colorbar": {
             "outlinewidth": 1,
             "tickcolor": "rgb(36,36,36)",
             "ticks": "outside"
            },
            "type": "contourcarpet"
           }
          ],
          "heatmap": [
           {
            "colorbar": {
             "outlinewidth": 1,
             "tickcolor": "rgb(36,36,36)",
             "ticks": "outside"
            },
            "colorscale": [
             [
              0,
              "#440154"
             ],
             [
              0.1111111111111111,
              "#482878"
             ],
             [
              0.2222222222222222,
              "#3e4989"
             ],
             [
              0.3333333333333333,
              "#31688e"
             ],
             [
              0.4444444444444444,
              "#26828e"
             ],
             [
              0.5555555555555556,
              "#1f9e89"
             ],
             [
              0.6666666666666666,
              "#35b779"
             ],
             [
              0.7777777777777778,
              "#6ece58"
             ],
             [
              0.8888888888888888,
              "#b5de2b"
             ],
             [
              1,
              "#fde725"
             ]
            ],
            "type": "heatmap"
           }
          ],
          "heatmapgl": [
           {
            "colorbar": {
             "outlinewidth": 1,
             "tickcolor": "rgb(36,36,36)",
             "ticks": "outside"
            },
            "colorscale": [
             [
              0,
              "#440154"
             ],
             [
              0.1111111111111111,
              "#482878"
             ],
             [
              0.2222222222222222,
              "#3e4989"
             ],
             [
              0.3333333333333333,
              "#31688e"
             ],
             [
              0.4444444444444444,
              "#26828e"
             ],
             [
              0.5555555555555556,
              "#1f9e89"
             ],
             [
              0.6666666666666666,
              "#35b779"
             ],
             [
              0.7777777777777778,
              "#6ece58"
             ],
             [
              0.8888888888888888,
              "#b5de2b"
             ],
             [
              1,
              "#fde725"
             ]
            ],
            "type": "heatmapgl"
           }
          ],
          "histogram": [
           {
            "marker": {
             "line": {
              "color": "white",
              "width": 0.6
             }
            },
            "type": "histogram"
           }
          ],
          "histogram2d": [
           {
            "colorbar": {
             "outlinewidth": 1,
             "tickcolor": "rgb(36,36,36)",
             "ticks": "outside"
            },
            "colorscale": [
             [
              0,
              "#440154"
             ],
             [
              0.1111111111111111,
              "#482878"
             ],
             [
              0.2222222222222222,
              "#3e4989"
             ],
             [
              0.3333333333333333,
              "#31688e"
             ],
             [
              0.4444444444444444,
              "#26828e"
             ],
             [
              0.5555555555555556,
              "#1f9e89"
             ],
             [
              0.6666666666666666,
              "#35b779"
             ],
             [
              0.7777777777777778,
              "#6ece58"
             ],
             [
              0.8888888888888888,
              "#b5de2b"
             ],
             [
              1,
              "#fde725"
             ]
            ],
            "type": "histogram2d"
           }
          ],
          "histogram2dcontour": [
           {
            "colorbar": {
             "outlinewidth": 1,
             "tickcolor": "rgb(36,36,36)",
             "ticks": "outside"
            },
            "colorscale": [
             [
              0,
              "#440154"
             ],
             [
              0.1111111111111111,
              "#482878"
             ],
             [
              0.2222222222222222,
              "#3e4989"
             ],
             [
              0.3333333333333333,
              "#31688e"
             ],
             [
              0.4444444444444444,
              "#26828e"
             ],
             [
              0.5555555555555556,
              "#1f9e89"
             ],
             [
              0.6666666666666666,
              "#35b779"
             ],
             [
              0.7777777777777778,
              "#6ece58"
             ],
             [
              0.8888888888888888,
              "#b5de2b"
             ],
             [
              1,
              "#fde725"
             ]
            ],
            "type": "histogram2dcontour"
           }
          ],
          "mesh3d": [
           {
            "colorbar": {
             "outlinewidth": 1,
             "tickcolor": "rgb(36,36,36)",
             "ticks": "outside"
            },
            "type": "mesh3d"
           }
          ],
          "parcoords": [
           {
            "line": {
             "colorbar": {
              "outlinewidth": 1,
              "tickcolor": "rgb(36,36,36)",
              "ticks": "outside"
             }
            },
            "type": "parcoords"
           }
          ],
          "pie": [
           {
            "automargin": true,
            "type": "pie"
           }
          ],
          "scatter": [
           {
            "fillpattern": {
             "fillmode": "overlay",
             "size": 10,
             "solidity": 0.2
            },
            "type": "scatter"
           }
          ],
          "scatter3d": [
           {
            "line": {
             "colorbar": {
              "outlinewidth": 1,
              "tickcolor": "rgb(36,36,36)",
              "ticks": "outside"
             }
            },
            "marker": {
             "colorbar": {
              "outlinewidth": 1,
              "tickcolor": "rgb(36,36,36)",
              "ticks": "outside"
             }
            },
            "type": "scatter3d"
           }
          ],
          "scattercarpet": [
           {
            "marker": {
             "colorbar": {
              "outlinewidth": 1,
              "tickcolor": "rgb(36,36,36)",
              "ticks": "outside"
             }
            },
            "type": "scattercarpet"
           }
          ],
          "scattergeo": [
           {
            "marker": {
             "colorbar": {
              "outlinewidth": 1,
              "tickcolor": "rgb(36,36,36)",
              "ticks": "outside"
             }
            },
            "type": "scattergeo"
           }
          ],
          "scattergl": [
           {
            "marker": {
             "colorbar": {
              "outlinewidth": 1,
              "tickcolor": "rgb(36,36,36)",
              "ticks": "outside"
             }
            },
            "type": "scattergl"
           }
          ],
          "scattermapbox": [
           {
            "marker": {
             "colorbar": {
              "outlinewidth": 1,
              "tickcolor": "rgb(36,36,36)",
              "ticks": "outside"
             }
            },
            "type": "scattermapbox"
           }
          ],
          "scatterpolar": [
           {
            "marker": {
             "colorbar": {
              "outlinewidth": 1,
              "tickcolor": "rgb(36,36,36)",
              "ticks": "outside"
             }
            },
            "type": "scatterpolar"
           }
          ],
          "scatterpolargl": [
           {
            "marker": {
             "colorbar": {
              "outlinewidth": 1,
              "tickcolor": "rgb(36,36,36)",
              "ticks": "outside"
             }
            },
            "type": "scatterpolargl"
           }
          ],
          "scatterternary": [
           {
            "marker": {
             "colorbar": {
              "outlinewidth": 1,
              "tickcolor": "rgb(36,36,36)",
              "ticks": "outside"
             }
            },
            "type": "scatterternary"
           }
          ],
          "surface": [
           {
            "colorbar": {
             "outlinewidth": 1,
             "tickcolor": "rgb(36,36,36)",
             "ticks": "outside"
            },
            "colorscale": [
             [
              0,
              "#440154"
             ],
             [
              0.1111111111111111,
              "#482878"
             ],
             [
              0.2222222222222222,
              "#3e4989"
             ],
             [
              0.3333333333333333,
              "#31688e"
             ],
             [
              0.4444444444444444,
              "#26828e"
             ],
             [
              0.5555555555555556,
              "#1f9e89"
             ],
             [
              0.6666666666666666,
              "#35b779"
             ],
             [
              0.7777777777777778,
              "#6ece58"
             ],
             [
              0.8888888888888888,
              "#b5de2b"
             ],
             [
              1,
              "#fde725"
             ]
            ],
            "type": "surface"
           }
          ],
          "table": [
           {
            "cells": {
             "fill": {
              "color": "rgb(237,237,237)"
             },
             "line": {
              "color": "white"
             }
            },
            "header": {
             "fill": {
              "color": "rgb(217,217,217)"
             },
             "line": {
              "color": "white"
             }
            },
            "type": "table"
           }
          ]
         },
         "layout": {
          "annotationdefaults": {
           "arrowhead": 0,
           "arrowwidth": 1
          },
          "autotypenumbers": "strict",
          "coloraxis": {
           "colorbar": {
            "outlinewidth": 1,
            "tickcolor": "rgb(36,36,36)",
            "ticks": "outside"
           }
          },
          "colorscale": {
           "diverging": [
            [
             0,
             "rgb(103,0,31)"
            ],
            [
             0.1,
             "rgb(178,24,43)"
            ],
            [
             0.2,
             "rgb(214,96,77)"
            ],
            [
             0.3,
             "rgb(244,165,130)"
            ],
            [
             0.4,
             "rgb(253,219,199)"
            ],
            [
             0.5,
             "rgb(247,247,247)"
            ],
            [
             0.6,
             "rgb(209,229,240)"
            ],
            [
             0.7,
             "rgb(146,197,222)"
            ],
            [
             0.8,
             "rgb(67,147,195)"
            ],
            [
             0.9,
             "rgb(33,102,172)"
            ],
            [
             1,
             "rgb(5,48,97)"
            ]
           ],
           "sequential": [
            [
             0,
             "#440154"
            ],
            [
             0.1111111111111111,
             "#482878"
            ],
            [
             0.2222222222222222,
             "#3e4989"
            ],
            [
             0.3333333333333333,
             "#31688e"
            ],
            [
             0.4444444444444444,
             "#26828e"
            ],
            [
             0.5555555555555556,
             "#1f9e89"
            ],
            [
             0.6666666666666666,
             "#35b779"
            ],
            [
             0.7777777777777778,
             "#6ece58"
            ],
            [
             0.8888888888888888,
             "#b5de2b"
            ],
            [
             1,
             "#fde725"
            ]
           ],
           "sequentialminus": [
            [
             0,
             "#440154"
            ],
            [
             0.1111111111111111,
             "#482878"
            ],
            [
             0.2222222222222222,
             "#3e4989"
            ],
            [
             0.3333333333333333,
             "#31688e"
            ],
            [
             0.4444444444444444,
             "#26828e"
            ],
            [
             0.5555555555555556,
             "#1f9e89"
            ],
            [
             0.6666666666666666,
             "#35b779"
            ],
            [
             0.7777777777777778,
             "#6ece58"
            ],
            [
             0.8888888888888888,
             "#b5de2b"
            ],
            [
             1,
             "#fde725"
            ]
           ]
          },
          "colorway": [
           "#1F77B4",
           "#FF7F0E",
           "#2CA02C",
           "#D62728",
           "#9467BD",
           "#8C564B",
           "#E377C2",
           "#7F7F7F",
           "#BCBD22",
           "#17BECF"
          ],
          "font": {
           "color": "rgb(36,36,36)"
          },
          "geo": {
           "bgcolor": "white",
           "lakecolor": "white",
           "landcolor": "white",
           "showlakes": true,
           "showland": true,
           "subunitcolor": "white"
          },
          "hoverlabel": {
           "align": "left"
          },
          "hovermode": "closest",
          "mapbox": {
           "style": "light"
          },
          "paper_bgcolor": "white",
          "plot_bgcolor": "white",
          "polar": {
           "angularaxis": {
            "gridcolor": "rgb(232,232,232)",
            "linecolor": "rgb(36,36,36)",
            "showgrid": false,
            "showline": true,
            "ticks": "outside"
           },
           "bgcolor": "white",
           "radialaxis": {
            "gridcolor": "rgb(232,232,232)",
            "linecolor": "rgb(36,36,36)",
            "showgrid": false,
            "showline": true,
            "ticks": "outside"
           }
          },
          "scene": {
           "xaxis": {
            "backgroundcolor": "white",
            "gridcolor": "rgb(232,232,232)",
            "gridwidth": 2,
            "linecolor": "rgb(36,36,36)",
            "showbackground": true,
            "showgrid": false,
            "showline": true,
            "ticks": "outside",
            "zeroline": false,
            "zerolinecolor": "rgb(36,36,36)"
           },
           "yaxis": {
            "backgroundcolor": "white",
            "gridcolor": "rgb(232,232,232)",
            "gridwidth": 2,
            "linecolor": "rgb(36,36,36)",
            "showbackground": true,
            "showgrid": false,
            "showline": true,
            "ticks": "outside",
            "zeroline": false,
            "zerolinecolor": "rgb(36,36,36)"
           },
           "zaxis": {
            "backgroundcolor": "white",
            "gridcolor": "rgb(232,232,232)",
            "gridwidth": 2,
            "linecolor": "rgb(36,36,36)",
            "showbackground": true,
            "showgrid": false,
            "showline": true,
            "ticks": "outside",
            "zeroline": false,
            "zerolinecolor": "rgb(36,36,36)"
           }
          },
          "shapedefaults": {
           "fillcolor": "black",
           "line": {
            "width": 0
           },
           "opacity": 0.3
          },
          "ternary": {
           "aaxis": {
            "gridcolor": "rgb(232,232,232)",
            "linecolor": "rgb(36,36,36)",
            "showgrid": false,
            "showline": true,
            "ticks": "outside"
           },
           "baxis": {
            "gridcolor": "rgb(232,232,232)",
            "linecolor": "rgb(36,36,36)",
            "showgrid": false,
            "showline": true,
            "ticks": "outside"
           },
           "bgcolor": "white",
           "caxis": {
            "gridcolor": "rgb(232,232,232)",
            "linecolor": "rgb(36,36,36)",
            "showgrid": false,
            "showline": true,
            "ticks": "outside"
           }
          },
          "title": {
           "x": 0.05
          },
          "xaxis": {
           "automargin": true,
           "gridcolor": "rgb(232,232,232)",
           "linecolor": "rgb(36,36,36)",
           "showgrid": false,
           "showline": true,
           "ticks": "outside",
           "title": {
            "standoff": 15
           },
           "zeroline": false,
           "zerolinecolor": "rgb(36,36,36)"
          },
          "yaxis": {
           "automargin": true,
           "gridcolor": "rgb(232,232,232)",
           "linecolor": "rgb(36,36,36)",
           "showgrid": false,
           "showline": true,
           "ticks": "outside",
           "title": {
            "standoff": 15
           },
           "zeroline": false,
           "zerolinecolor": "rgb(36,36,36)"
          }
         }
        },
        "title": {
         "font": {
          "color": "Black",
          "size": 22
         },
         "text": "<b>Topics over Time",
         "x": 0.4,
         "xanchor": "center",
         "y": 0.95,
         "yanchor": "top"
        },
        "width": 1250,
        "xaxis": {
         "autorange": true,
         "range": [
          2011,
          2022
         ],
         "showgrid": true,
         "type": "linear"
        },
        "yaxis": {
         "range": [
          0,
          0.1
         ],
         "showgrid": true,
         "title": {
          "text": "Frequency"
         },
         "type": "linear"
        }
       }
      },
      "image/png": "[encoded data removed]",
      "text/html": [
       "<div>                            <div id=\"5f716d69-f2aa-4d7f-8986-980fc7b1703e\" class=\"plotly-graph-div\" style=\"height:800px; width:1250px;\"></div>            <script type=\"text/javascript\">                require([\"plotly\"], function(Plotly) {                    window.PLOTLYENV=window.PLOTLYENV || {};                                    if (document.getElementById(\"5f716d69-f2aa-4d7f-8986-980fc7b1703e\")) {                    Plotly.newPlot(                        \"5f716d69-f2aa-4d7f-8986-980fc7b1703e\",                        [{\"hoverinfo\":\"text\",\"hovertext\":[\"<b>Topic 0</b><br>Words: dialogue, language, document, topic, transliteration\",\"<b>Topic 0</b><br>Words: topic, text, documents, document, language\",\"<b>Topic 0</b><br>Words: topic, text, language, document, words\",\"<b>Topic 0</b><br>Words: word, language, topic, text, words\",\"<b>Topic 0</b><br>Words: language, topic, word, text, words\",\"<b>Topic 0</b><br>Words: language, word, text, words, topic\",\"<b>Topic 0</b><br>Words: language, word, text, knowledge, task\",\"<b>Topic 0</b><br>Words: language, word, text, knowledge, task\",\"<b>Topic 0</b><br>Words: language, word, text, task, knowledge\",\"<b>Topic 0</b><br>Words: language, text, word, knowledge, task\",\"<b>Topic 0</b><br>Words: language, text, knowledge, task, tasks\",\"<b>Topic 0</b><br>Words: language, text, knowledge, tasks, task\"],\"marker\":{\"color\":\"#E69F00\"},\"mode\":\"lines\",\"name\":\"0_language_text_word_knowledge\",\"x\":[2011,2012,2013,2014,2015,2016,2017,2018,2019,2020,2021,2022],\"y\":[0.027923211169284468,0.03844350679793718,0.025308025308025308,0.04354136429608128,0.06525157232704402,0.07928950741622413,0.07834796926454446,0.07832719170451624,0.08068831645768848,0.07851772287862513,0.07383771377389649,0.06321893416532728],\"type\":\"scatter\"},{\"hoverinfo\":\"text\",\"hovertext\":[\"<b>Topic 1</b><br>Words: reinforcement, value, rls, mdps, function\",\"<b>Topic 1</b><br>Words: reinforcement, value, rl, function, reward\",\"<b>Topic 1</b><br>Words: reinforcement, value, markov, control, mdps\",\"<b>Topic 1</b><br>Words: reinforcement, agent, rl, state, environment\",\"<b>Topic 1</b><br>Words: reinforcement, rl, value, control, action\",\"<b>Topic 1</b><br>Words: reinforcement, rl, control, agent, exploration\",\"<b>Topic 1</b><br>Words: reinforcement, rl, robot, control, reward\",\"<b>Topic 1</b><br>Words: reinforcement, rl, reward, agent, tasks\",\"<b>Topic 1</b><br>Words: reinforcement, rl, reward, agent, environment\",\"<b>Topic 1</b><br>Words: reinforcement, rl, reward, control, agent\",\"<b>Topic 1</b><br>Words: rl, reinforcement, reward, control, tasks\",\"<b>Topic 1</b><br>Words: rl, reinforcement, reward, agent, tasks\"],\"marker\":{\"color\":\"#56B4E9\"},\"mode\":\"lines\",\"name\":\"1_reinforcement_rl_reward_control\",\"x\":[2011,2012,2013,2014,2015,2016,2017,2018,2019,2020,2021,2022],\"y\":[0.02356020942408377,0.0403187998124707,0.02664002664002664,0.02177068214804064,0.023322851153039833,0.03076359641091375,0.045279912184412734,0.05098980203959208,0.05220082891768533,0.04765485141424991,0.04735914014610799,0.04878509974472913],\"type\":\"scatter\"},{\"hoverinfo\":\"text\",\"hovertext\":[\"<b>Topic 2</b><br>Words: gradient, smooth, convex, descent, asgd\",\"<b>Topic 2</b><br>Words: descent, convergence, gradient, stochastic, rate\",\"<b>Topic 2</b><br>Words: stochastic, gradient, convex, convergence, smooth\",\"<b>Topic 2</b><br>Words: gradient, convex, stochastic, descent, convergence\",\"<b>Topic 2</b><br>Words: convex, gradient, stochastic, descent, convergence\",\"<b>Topic 2</b><br>Words: gradient, convex, stochastic, convergence, descent\",\"<b>Topic 2</b><br>Words: gradient, stochastic, convergence, convex, descent\",\"<b>Topic 2</b><br>Words: gradient, stochastic, convergence, descent, convex\",\"<b>Topic 2</b><br>Words: gradient, convergence, stochastic, descent, sgd\",\"<b>Topic 2</b><br>Words: gradient, convergence, stochastic, descent, sgd\",\"<b>Topic 2</b><br>Words: gradient, convergence, descent, stochastic, sgd\",\"<b>Topic 2</b><br>Words: gradient, convergence, stochastic, descent, sgd\"],\"marker\":{\"color\":\"#009E73\"},\"mode\":\"lines\",\"name\":\"2_gradient_convergence_stochastic_descen...\",\"x\":[2011,2012,2013,2014,2015,2016,2017,2018,2019,2020,2021,2022],\"y\":[0.011343804537521814,0.009845288326300985,0.013986013986013986,0.021407837445573296,0.03668763102725367,0.030214246475004577,0.04102634467618002,0.03933499014482818,0.03598971722365039,0.03107769423558897,0.030005318106753994,0.029844631432983517],\"type\":\"scatter\"},{\"hoverinfo\":\"text\",\"hovertext\":[\"<b>Topic 3</b><br>Words: logic, semantics, reasoning, programs, knowledge\",\"<b>Topic 3</b><br>Words: logic, ontology, fuzzy, knowledge, reasoning\",\"<b>Topic 3</b><br>Words: logic, reasoning, belief, knowledge, semantics\",\"<b>Topic 3</b><br>Words: logic, reasoning, semantics, knowledge, ontology\",\"<b>Topic 3</b><br>Words: logic, ontology, reasoning, knowledge, semantics\",\"<b>Topic 3</b><br>Words: logic, semantics, ontology, fuzzy, knowledge\",\"<b>Topic 3</b><br>Words: logic, ontology, reasoning, knowledge, belief\",\"<b>Topic 3</b><br>Words: logic, ontology, reasoning, ontologies, semantics\",\"<b>Topic 3</b><br>Words: logic, ontology, semantics, reasoning, sat\",\"<b>Topic 3</b><br>Words: logic, asp, reasoning, semantics, ontology\",\"<b>Topic 3</b><br>Words: logic, reasoning, semantics, ontology, knowledge\",\"<b>Topic 3</b><br>Words: logic, ontology, reasoning, semantics, knowledge\"],\"marker\":{\"color\":\"#F0E442\"},\"mode\":\"lines\",\"name\":\"3_logic_reasoning_semantics_ontology\",\"x\":[2011,2012,2013,2014,2015,2016,2017,2018,2019,2020,2021,2022],\"y\":[0.19633507853403143,0.07782466010314111,0.18947718947718947,0.13352685050798258,0.06892033542976939,0.05035707745834096,0.035949506037321624,0.025023566715228384,0.01563401710298515,0.016970998925886143,0.011643854787695581,0.010116290063344994],\"type\":\"scatter\"},{\"hoverinfo\":\"text\",\"hovertext\":[\"<b>Topic 4</b><br>Words: tb, tuberculosis, ptb, retroviral, rptb\",\"<b>Topic 4</b><br>Words: undeformed, brain, deformed, image, imaging\",\"<b>Topic 4</b><br>Words: segmentation, image, psf, tissue, breast\",\"<b>Topic 4</b><br>Words: imaging, medical, image, bone, dwi\",\"<b>Topic 4</b><br>Words: cancer, images, segmentation, image, ct\",\"<b>Topic 4</b><br>Words: segmentation, images, imaging, image, medical\",\"<b>Topic 4</b><br>Words: images, segmentation, image, imaging, medical\",\"<b>Topic 4</b><br>Words: images, segmentation, image, imaging, medical\",\"<b>Topic 4</b><br>Words: segmentation, images, image, imaging, medical\",\"<b>Topic 4</b><br>Words: images, segmentation, image, imaging, covid\",\"<b>Topic 4</b><br>Words: segmentation, images, image, imaging, medical\",\"<b>Topic 4</b><br>Words: segmentation, images, image, imaging, medical\"],\"marker\":{\"color\":\"#D55E00\"},\"mode\":\"lines\",\"name\":\"4_segmentation_images_image_imaging\",\"x\":[2011,2012,2013,2014,2015,2016,2017,2018,2019,2020,2021,2022],\"y\":[0.0008726003490401396,0.003750586029067042,0.002331002331002331,0.003265602322206096,0.00550314465408805,0.0062259659403039735,0.01221185510428101,0.021595680863827234,0.0302712344577934,0.03788041532402435,0.03246844123492037,0.03331127288771233],\"type\":\"scatter\"},{\"hoverinfo\":\"text\",\"hovertext\":[\"<b>Topic 5</b><br>Words: sparse, matrix, norm, rank, kernel\",\"<b>Topic 5</b><br>Words: sparse, matrix, rank, regression, lasso\",\"<b>Topic 5</b><br>Words: sparse, matrix, rank, lasso, tensor\",\"<b>Topic 5</b><br>Words: matrix, rank, sparse, tensor, low\",\"<b>Topic 5</b><br>Words: sparse, matrix, rank, tensor, norm\",\"<b>Topic 5</b><br>Words: matrix, rank, sparse, tensor, kernel\",\"<b>Topic 5</b><br>Words: matrix, rank, sparse, tensor, regression\",\"<b>Topic 5</b><br>Words: matrix, rank, sparse, tensor, regression\",\"<b>Topic 5</b><br>Words: matrix, rank, sparse, tensor, kernel\",\"<b>Topic 5</b><br>Words: matrix, tensor, rank, sparse, regression\",\"<b>Topic 5</b><br>Words: matrix, tensor, rank, sparse, low\",\"<b>Topic 5</b><br>Words: tensor, matrix, rank, sparse, regression\"],\"marker\":{\"color\":\"#0072B2\"},\"mode\":\"lines\",\"name\":\"5_matrix_rank_sparse_tensor\",\"x\":[2011,2012,2013,2014,2015,2016,2017,2018,2019,2020,2021,2022],\"y\":[0.06980802792321117,0.06610407876230662,0.06626706626706627,0.09034833091436865,0.08936058700209644,0.06665445889031313,0.046789242590559825,0.034964435684291716,0.022349299617019043,0.01811672037235947,0.016178240546365494,0.015064132866912484],\"type\":\"scatter\"},{\"hoverinfo\":\"text\",\"hovertext\":[\"<b>Topic 6</b><br>Words: music, vmm, tempo, speech, audio\",\"<b>Topic 6</b><br>Words: musical, speech, speaker, music, audio\",\"<b>Topic 6</b><br>Words: speech, audio, speaker, dysfluent, features\",\"<b>Topic 6</b><br>Words: speech, audio, music, speaker, acoustic\",\"<b>Topic 6</b><br>Words: speech, speaker, audio, acoustic, dnn\",\"<b>Topic 6</b><br>Words: speech, music, audio, speaker, acoustic\",\"<b>Topic 6</b><br>Words: speech, audio, music, speaker, acoustic\",\"<b>Topic 6</b><br>Words: speech, audio, speaker, music, recognition\",\"<b>Topic 6</b><br>Words: speech, audio, speaker, music, acoustic\",\"<b>Topic 6</b><br>Words: speech, audio, speaker, music, acoustic\",\"<b>Topic 6</b><br>Words: speech, audio, speaker, music, asr\",\"<b>Topic 6</b><br>Words: speech, audio, speaker, music, asr\"],\"marker\":{\"color\":\"#CC79A7\"},\"mode\":\"lines\",\"name\":\"6_speech_audio_speaker_music\",\"x\":[2011,2012,2013,2014,2015,2016,2017,2018,2019,2020,2021,2022],\"y\":[0.006108202443280977,0.005625879043600563,0.00666000666000666,0.014876632801161103,0.017557651991614256,0.025086980406518952,0.02703073545554336,0.028280058274059473,0.032317297098788104,0.029180093089867527,0.02617068323676771,0.026441019822886137],\"type\":\"scatter\"},{\"hoverinfo\":\"text\",\"hovertext\":[\"<b>Topic 7</b><br>Words: norb, epochs, parameterizable, mnist, wired\",\"<b>Topic 7</b><br>Words: theano, evolutionary, torch7, distributed, library\",\"<b>Topic 7</b><br>Words: parallelism, gpu, sgd, weights, vision\",\"<b>Topic 7</b><br>Words: computation, caffe, library, hardware, convolutional\",\"<b>Topic 7</b><br>Words: convolutional, layers, gpu, memory, gpus\",\"<b>Topic 7</b><br>Words: bit, hardware, memory, pruning, gpu\",\"<b>Topic 7</b><br>Words: quantization, memory, pruning, hardware, precision\",\"<b>Topic 7</b><br>Words: pruning, hardware, quantization, memory, compression\",\"<b>Topic 7</b><br>Words: pruning, quantization, hardware, architecture, search\",\"<b>Topic 7</b><br>Words: pruning, quantization, hardware, search, nas\",\"<b>Topic 7</b><br>Words: pruning, nas, hardware, quantization, search\",\"<b>Topic 7</b><br>Words: pruning, quantization, nas, hardware, search\"],\"marker\":{\"color\":\"#E69F00\"},\"mode\":\"lines\",\"name\":\"7_pruning_quantization_hardware_nas\",\"x\":[2011,2012,2013,2014,2015,2016,2017,2018,2019,2020,2021,2022],\"y\":[0.0008726003490401396,0.0009376465072667605,0.000999000999000999,0.0039912917271407835,0.008123689727463312,0.01593114814136605,0.022091108671789244,0.024852172422658324,0.026756203766853785,0.025671321160042965,0.02530299213480001,0.02067378903911002],\"type\":\"scatter\"},{\"hoverinfo\":\"text\",\"hovertext\":[\"<b>Topic 8</b><br>Words: causal, variables, graphical, bayesian, structure\",\"<b>Topic 8</b><br>Words: causal, variables, bayesian, graphical, structure\",\"<b>Topic 8</b><br>Words: causal, variables, bayesian, belief, independence\",\"<b>Topic 8</b><br>Words: causal, variables, graphical, bayesian, structure\",\"<b>Topic 8</b><br>Words: causal, graphical, variables, bayesian, structure\",\"<b>Topic 8</b><br>Words: causal, variables, graphical, treatment, bayesian\",\"<b>Topic 8</b><br>Words: causal, variables, treatment, graphical, structure\",\"<b>Topic 8</b><br>Words: causal, treatment, variables, graphical, bayesian\",\"<b>Topic 8</b><br>Words: causal, treatment, variables, graphical, observational\",\"<b>Topic 8</b><br>Words: causal, treatment, variables, effect, observational\",\"<b>Topic 8</b><br>Words: causal, treatment, variables, effect, observational\",\"<b>Topic 8</b><br>Words: causal, treatment, variables, effect, observational\"],\"marker\":{\"color\":\"#56B4E9\"},\"mode\":\"lines\",\"name\":\"8_causal_treatment_variables_graphical\",\"x\":[2011,2012,2013,2014,2015,2016,2017,2018,2019,2020,2021,2022],\"y\":[0.03926701570680628,0.14533520862634786,0.14618714618714618,0.03991291727140784,0.03039832285115304,0.02069218091924556,0.022091108671789244,0.016539549233010542,0.011436965531713972,0.01342642320085929,0.013883057631483191,0.015568371623963947],\"type\":\"scatter\"},{\"hoverinfo\":\"text\",\"hovertext\":[\"<b>Topic 9</b><br>Words: bitstream, watermark, message, attack, watermarking\",\"<b>Topic 9</b><br>Words: subsvms, svm, attacks, adversarial, subsampled\",\"<b>Topic 9</b><br>Words: svms, security, evasion, poisoning, attack\",\"<b>Topic 9</b><br>Words: adversarial, dnns, examples, lion, perturbations\",\"<b>Topic 9</b><br>Words: adversarial, attacks, perturbations, robustness, examples\",\"<b>Topic 9</b><br>Words: adversarial, attacks, examples, attack, robustness\",\"<b>Topic 9</b><br>Words: adversarial, attacks, attack, examples, robustness\",\"<b>Topic 9</b><br>Words: adversarial, attacks, attack, robustness, examples\",\"<b>Topic 9</b><br>Words: adversarial, attacks, attack, robustness, perturbations\",\"<b>Topic 9</b><br>Words: adversarial, attacks, attack, robustness, perturbations\",\"<b>Topic 9</b><br>Words: adversarial, attacks, robustness, attack, examples\"],\"marker\":{\"color\":\"#009E73\"},\"mode\":\"lines\",\"name\":\"9_adversarial_attacks_attack_robustness\",\"x\":[2012,2013,2014,2015,2016,2017,2018,2019,2020,2021,2022],\"y\":[0.00046882325363338024,0.000666000666000666,0.000362844702467344,0.0010482180293501049,0.005676616004394799,0.012760702524698134,0.022366955180392493,0.026651277477572007,0.024167561761546726,0.02421138074845355,0.022154990387948693],\"type\":\"scatter\"},{\"hoverinfo\":\"text\",\"hovertext\":[\"<b>Topic 10</b><br>Words: regret, bandit, online, bound, arms\",\"<b>Topic 10</b><br>Words: regret, bandit, online, armed, bound\",\"<b>Topic 10</b><br>Words: regret, bandit, online, armed, arm\",\"<b>Topic 10</b><br>Words: regret, bandit, online, arms, bandits\",\"<b>Topic 10</b><br>Words: regret, bandit, online, bandits, bound\",\"<b>Topic 10</b><br>Words: regret, bandit, online, arm, bandits\",\"<b>Topic 10</b><br>Words: regret, bandit, online, arm, arms\",\"<b>Topic 10</b><br>Words: regret, bandit, online, bandits, bound\",\"<b>Topic 10</b><br>Words: regret, bandit, online, arms, bound\",\"<b>Topic 10</b><br>Words: regret, bandit, online, bandits, arm\",\"<b>Topic 10</b><br>Words: regret, bandit, online, bandits, arm\",\"<b>Topic 10</b><br>Words: regret, bandit, online, bandits, bound\"],\"marker\":{\"color\":\"#F0E442\"},\"mode\":\"lines\",\"name\":\"10_regret_bandit_online_bandits\",\"x\":[2011,2012,2013,2014,2015,2016,2017,2018,2019,2020,2021,2022],\"y\":[0.030541012216404886,0.029067041725269572,0.026307026307026308,0.030478955007256895,0.02908805031446541,0.025819446987731184,0.02565861690450055,0.015511183477590196,0.017785006033261632,0.017006802721088437,0.017829652643658857,0.01931864737953421],\"type\":\"scatter\"},{\"hoverinfo\":\"text\",\"hovertext\":[\"<b>Topic 11</b><br>Words: hypothesis, projects, bandwidth, stage, given\",\"<b>Topic 11</b><br>Words: generalisation, publishing, corporate, education, evaluation\",\"<b>Topic 11</b><br>Words: agi, aid, fallible, unaided, decision\",\"<b>Topic 11</b><br>Words: morally, ethical, explanations, rl, halting\",\"<b>Topic 11</b><br>Words: sociotechnological, triclustering, ethical, progress, explanations\",\"<b>Topic 11</b><br>Words: explanations, interpretable, ethical, predictions, human\",\"<b>Topic 11</b><br>Words: explanations, interpretability, human, ethical, ethics\",\"<b>Topic 11</b><br>Words: explanations, interpretability, human, black, ethical\",\"<b>Topic 11</b><br>Words: explanations, interpretability, human, interpretable, black\",\"<b>Topic 11</b><br>Words: explanations, interpretability, human, explainable, decision\",\"<b>Topic 11</b><br>Words: explanations, interpretability, xai, explainable, human\",\"<b>Topic 11</b><br>Words: explanations, human, xai, ml, interpretability\"],\"marker\":{\"color\":\"#D55E00\"},\"mode\":\"lines\",\"name\":\"11_explanations_interpretability_human_e...\",\"x\":[2011,2012,2013,2014,2015,2016,2017,2018,2019,2020,2021,2022],\"y\":[0.0034904013961605585,0.001875293014533521,0.000999000999000999,0.00181422351233672,0.0020964360587002098,0.00750778245742538,0.012074643249176729,0.016882337818150656,0.017417764020775404,0.0200859291084855,0.024743191423853107,0.024045885726891682],\"type\":\"scatter\"},{\"hoverinfo\":\"text\",\"hovertext\":[\"<b>Topic 12</b><br>Words: encoders, penalty, auto, guidance, latent\",\"<b>Topic 12</b><br>Words: latent, density, layer, auto, generative\",\"<b>Topic 12</b><br>Words: corruption, encoders, auto, contractive, satae\",\"<b>Topic 12</b><br>Words: nade, generative, auto, encoder, distribution\",\"<b>Topic 12</b><br>Words: generative, distribution, latent, gans, autoencoders\",\"<b>Topic 12</b><br>Words: generative, latent, variational, gans, image\",\"<b>Topic 12</b><br>Words: generative, gans, gan, latent, generator\",\"<b>Topic 12</b><br>Words: generative, gans, gan, latent, generator\",\"<b>Topic 12</b><br>Words: generative, gans, gan, latent, image\",\"<b>Topic 12</b><br>Words: generative, gans, gan, latent, image\",\"<b>Topic 12</b><br>Words: generative, gans, gan, latent, image\",\"<b>Topic 12</b><br>Words: generative, gans, latent, gan, image\"],\"marker\":{\"color\":\"#0072B2\"},\"mode\":\"lines\",\"name\":\"12_generative_gans_gan_latent\",\"x\":[2011,2012,2013,2014,2015,2016,2017,2018,2019,2020,2021,2022],\"y\":[0.0017452006980802793,0.0046882325363338025,0.001332001332001332,0.007619738751814224,0.008123689727463312,0.014832448269547702,0.02593304061470911,0.027337389664924158,0.025182309427627093,0.020515574650912995,0.017689702465922132,0.01641927452648829],\"type\":\"scatter\"},{\"hoverinfo\":\"text\",\"hovertext\":[\"<b>Topic 13</b><br>Words: ctd, anomaly, detection, spam, pe\",\"<b>Topic 13</b><br>Words: detection, intrusion, client, security, anomaly\",\"<b>Topic 13</b><br>Words: detection, anomaly, malware, attack, security\",\"<b>Topic 13</b><br>Words: detection, anomaly, phishing, outliers, anomalies\",\"<b>Topic 13</b><br>Words: anomaly, detection, outlier, anomalies, detect\",\"<b>Topic 13</b><br>Words: detection, anomaly, malware, anomalies, security\",\"<b>Topic 13</b><br>Words: detection, malware, anomaly, anomalies, security\",\"<b>Topic 13</b><br>Words: detection, anomaly, malware, security, anomalies\",\"<b>Topic 13</b><br>Words: detection, anomaly, malware, anomalies, attacks\",\"<b>Topic 13</b><br>Words: detection, anomaly, malware, anomalies, attacks\",\"<b>Topic 13</b><br>Words: detection, anomaly, malware, anomalies, attacks\",\"<b>Topic 13</b><br>Words: anomaly, detection, malware, anomalies, attacks\"],\"marker\":{\"color\":\"#CC79A7\"},\"mode\":\"lines\",\"name\":\"13_detection_anomaly_malware_anomalies\",\"x\":[2011,2012,2013,2014,2015,2016,2017,2018,2019,2020,2021,2022],\"y\":[0.004363001745200698,0.007969995311767463,0.01098901098901099,0.011248185776487663,0.00890985324947589,0.019227247756821095,0.012486278814489571,0.01868197789013626,0.017680079743979855,0.017185821697099892,0.021132476838245585,0.0181525952538527],\"type\":\"scatter\"},{\"hoverinfo\":\"text\",\"hovertext\":[\"<b>Topic 14</b><br>Words: ranking, recommendation, recommender, preference, search\",\"<b>Topic 14</b><br>Words: recommendation, users, collaborative, ratings, filtering\",\"<b>Topic 14</b><br>Words: recommendation, ranking, users, recommender, collaborative\",\"<b>Topic 14</b><br>Words: ranking, recommendation, users, recommender, rating\",\"<b>Topic 14</b><br>Words: recommendation, users, ranking, ratings, recommender\",\"<b>Topic 14</b><br>Words: recommendation, recommender, users, ranking, recommendations\",\"<b>Topic 14</b><br>Words: recommendation, users, ranking, recommender, recommendations\",\"<b>Topic 14</b><br>Words: recommendation, users, recommender, ranking, recommendations\",\"<b>Topic 14</b><br>Words: recommendation, recommender, users, ranking, recommendations\",\"<b>Topic 14</b><br>Words: recommendation, recommender, users, ranking, recommendations\",\"<b>Topic 14</b><br>Words: recommendation, recommender, users, ranking, recommendations\",\"<b>Topic 14</b><br>Words: recommendation, recommender, users, ranking, recommendations\"],\"marker\":{\"color\":\"#E69F00\"},\"mode\":\"lines\",\"name\":\"14_recommendation_recommender_users_rank...\",\"x\":[2011,2012,2013,2014,2015,2016,2017,2018,2019,2020,2021,2022],\"y\":[0.014834205933682374,0.02109704641350211,0.010656010656010656,0.017053701015965168,0.014412997903563941,0.022157114081670023,0.018386388583973654,0.016968034964435684,0.01836210062431142,0.015503043322592195,0.015086629160019033,0.014969588099965334],\"type\":\"scatter\"},{\"hoverinfo\":\"text\",\"hovertext\":[\"<b>Topic 15</b><br>Words: 3d, camera, dtm, omnidirectional, terrain\",\"<b>Topic 15</b><br>Words: object, keypoints, asift, 3d, mht\",\"<b>Topic 15</b><br>Words: object, detection, objects, epipolar, 3d\",\"<b>Topic 15</b><br>Words: dem, object, 3d, registration, image\",\"<b>Topic 15</b><br>Words: object, detection, 3d, image, objects\",\"<b>Topic 15</b><br>Words: object, 3d, detection, segmentation, image\",\"<b>Topic 15</b><br>Words: 3d, object, segmentation, depth, objects\",\"<b>Topic 15</b><br>Words: 3d, object, segmentation, point, shape\",\"<b>Topic 15</b><br>Words: 3d, object, point, segmentation, shape\",\"<b>Topic 15</b><br>Words: 3d, object, point, segmentation, depth\",\"<b>Topic 15</b><br>Words: 3d, object, point, segmentation, depth\",\"<b>Topic 15</b><br>Words: 3d, object, point, segmentation, depth\"],\"marker\":{\"color\":\"#56B4E9\"},\"mode\":\"lines\",\"name\":\"15_3d_object_point_segmentation\",\"x\":[2011,2012,2013,2014,2015,2016,2017,2018,2019,2020,2021,2022],\"y\":[0.0034904013961605585,0.0032817627754336614,0.00333000333000333,0.003265602322206096,0.008123689727463312,0.008240249038637612,0.009604829857299671,0.01336875482046448,0.016158648549394052,0.01861797350519155,0.016514120972933637,0.0179635057199584],\"type\":\"scatter\"},{\"hoverinfo\":\"text\",\"hovertext\":[\"<b>Topic 16</b><br>Words: genes, disease, gene, sffs, rcnet\",\"<b>Topic 16</b><br>Words: protein, gene, abbrev, proteins, amino\",\"<b>Topic 16</b><br>Words: protein, gene, molecular, rna, drug\",\"<b>Topic 16</b><br>Words: protein, drug, molecular, gene, sequences\",\"<b>Topic 16</b><br>Words: protein, drug, molecular, proteins, gene\",\"<b>Topic 16</b><br>Words: protein, gene, molecular, cancer, drug\",\"<b>Topic 16</b><br>Words: protein, molecular, molecules, chemical, drug\",\"<b>Topic 16</b><br>Words: drug, molecular, protein, chemical, molecules\",\"<b>Topic 16</b><br>Words: molecular, protein, drug, molecules, chemical\",\"<b>Topic 16</b><br>Words: molecular, drug, protein, molecules, chemical\",\"<b>Topic 16</b><br>Words: molecular, drug, protein, molecules, chemical\",\"<b>Topic 16</b><br>Words: molecular, protein, drug, molecules, chemical\"],\"marker\":{\"color\":\"#009E73\"},\"mode\":\"lines\",\"name\":\"16_molecular_protein_drug_molecules\",\"x\":[2011,2012,2013,2014,2015,2016,2017,2018,2019,2020,2021,2022],\"y\":[0.005235602094240838,0.0046882325363338025,0.007659007659007659,0.013062409288824383,0.013888888888888888,0.010437648782274309,0.015916575192096598,0.014739909161024937,0.013483028172708671,0.014249910490511995,0.015030649088924344,0.01859380416627273],\"type\":\"scatter\"},{\"hoverinfo\":\"text\",\"hovertext\":[\"<b>Topic 17</b><br>Words: relational, temporal, mucca, graph, ensembles\",\"<b>Topic 17</b><br>Words: graph, wvrn, node, sampling, relational\",\"<b>Topic 17</b><br>Words: objects, hetesim, collective, types, graph\",\"<b>Topic 17</b><br>Words: graph, deepwalk, node, graphs, representations\",\"<b>Topic 17</b><br>Words: graph, mf, ae, node, embedding\",\"<b>Topic 17</b><br>Words: graph, node, nodes, graphs, embedding\",\"<b>Topic 17</b><br>Words: graph, node, graphs, nodes, representations\",\"<b>Topic 17</b><br>Words: graph, node, graphs, nodes, embedding\",\"<b>Topic 17</b><br>Words: graph, node, graphs, nodes, embedding\",\"<b>Topic 17</b><br>Words: graph, node, graphs, gnns, nodes\",\"<b>Topic 17</b><br>Words: graph, node, gnns, graphs, nodes\",\"<b>Topic 17</b><br>Words: graph, node, gnns, graphs, gnn\"],\"marker\":{\"color\":\"#F0E442\"},\"mode\":\"lines\",\"name\":\"17_graph_node_graphs_gnns\",\"x\":[2011,2012,2013,2014,2015,2016,2017,2018,2019,2020,2021,2022],\"y\":[0.002617801047120419,0.0023441162681669013,0.000999000999000999,0.003265602322206096,0.0018343815513626835,0.004028566196667277,0.006311745334796927,0.011054931870768704,0.015319238235139815,0.01639813820264948,0.01838945335460576,0.02020106520437427],\"type\":\"scatter\"},{\"hoverinfo\":\"text\",\"hovertext\":[\"<b>Topic 18</b><br>Words: srcs, channel, users, channels, secondary\",\"<b>Topic 18</b><br>Words: femtocells, sensing, wireless, spectrum, scheduling\",\"<b>Topic 18</b><br>Words: routing, channel, femtocells, shortest, wireless\",\"<b>Topic 18</b><br>Words: channel, radio, cache, wireless, infostation\",\"<b>Topic 18</b><br>Words: channel, radio, wireless, distributive, energy\",\"<b>Topic 18</b><br>Words: channel, wireless, radio, users, modulation\",\"<b>Topic 18</b><br>Words: channel, wireless, allocation, radio, resource\",\"<b>Topic 18</b><br>Words: channel, wireless, communication, radio, csi\",\"<b>Topic 18</b><br>Words: channel, wireless, communication, radio, allocation\",\"<b>Topic 18</b><br>Words: channel, wireless, communication, radio, resource\",\"<b>Topic 18</b><br>Words: channel, wireless, communication, radio, 5g\",\"<b>Topic 18</b><br>Words: channel, wireless, communication, radio, communications\"],\"marker\":{\"color\":\"#D55E00\"},\"mode\":\"lines\",\"name\":\"18_channel_wireless_communication_radio\",\"x\":[2011,2012,2013,2014,2015,2016,2017,2018,2019,2020,2021,2022],\"y\":[0.010471204188481676,0.005625879043600563,0.004995004995004995,0.00544267053701016,0.005241090146750524,0.007324665812122322,0.00672338090010977,0.011054931870768704,0.014427364776244688,0.015180809165771572,0.01550647969322921,0.0149065582553339],\"type\":\"scatter\"},{\"hoverinfo\":\"text\",\"hovertext\":[\"<b>Topic 19</b><br>Words: boosting, ensemble, classifiers, classification, class\",\"<b>Topic 19</b><br>Words: boosting, class, logitboost, classification, classifier\",\"<b>Topic 19</b><br>Words: ensemble, class, boosting, classifiers, classification\",\"<b>Topic 19</b><br>Words: ensemble, classifiers, class, tree, classification\",\"<b>Topic 19</b><br>Words: classification, classifiers, trees, ensemble, boosting\",\"<b>Topic 19</b><br>Words: classification, tree, ensemble, trees, class\",\"<b>Topic 19</b><br>Words: ensemble, boosting, classification, class, trees\",\"<b>Topic 19</b><br>Words: ensemble, classification, class, classifier, classifiers\",\"<b>Topic 19</b><br>Words: ensemble, uncertainty, classification, trees, class\",\"<b>Topic 19</b><br>Words: classification, ensemble, uncertainty, class, label\",\"<b>Topic 19</b><br>Words: uncertainty, ensemble, label, classification, class\",\"<b>Topic 19</b><br>Words: uncertainty, ensemble, class, label, classification\"],\"marker\":{\"color\":\"#0072B2\"},\"mode\":\"lines\",\"name\":\"19_ensemble_classification_uncertainty_c...\",\"x\":[2011,2012,2013,2014,2015,2016,2017,2018,2019,2020,2021,2022],\"y\":[0.015706806282722512,0.017815283638068447,0.015651015651015652,0.015965166908563134,0.024633123689727462,0.013733748397729353,0.012897914379802415,0.013711543405604593,0.012643617858454435,0.012674543501611171,0.013043356565062838,0.01096719296586934],\"type\":\"scatter\"},{\"hoverinfo\":\"text\",\"hovertext\":[\"<b>Topic 20</b><br>Words: series, forecasting, deseasonalization, time, market\",\"<b>Topic 20</b><br>Words: series, time, market, reversion, markets\",\"<b>Topic 20</b><br>Words: series, time, stock, forecasting, financial\",\"<b>Topic 20</b><br>Words: series, time, market, stock, forecasting\",\"<b>Topic 20</b><br>Words: series, time, market, stock, forecasting\",\"<b>Topic 20</b><br>Words: series, time, stock, market, forecasting\",\"<b>Topic 20</b><br>Words: series, time, stock, market, forecasting\",\"<b>Topic 20</b><br>Words: series, time, financial, market, forecasting\",\"<b>Topic 20</b><br>Words: series, time, stock, forecasting, market\",\"<b>Topic 20</b><br>Words: series, time, forecasting, market, financial\",\"<b>Topic 20</b><br>Words: series, time, forecasting, stock, market\",\"<b>Topic 20</b><br>Words: series, time, forecasting, market, stock\"],\"marker\":{\"color\":\"#CC79A7\"},\"mode\":\"lines\",\"name\":\"20_series_time_forecasting_stock\",\"x\":[2011,2012,2013,2014,2015,2016,2017,2018,2019,2020,2021,2022],\"y\":[0.005235602094240838,0.007501172058134084,0.009657009657009658,0.009433962264150943,0.012578616352201259,0.008606482329243728,0.008369923161361141,0.012683177650184249,0.012853470437017995,0.011994271392767633,0.014806728804545581,0.014843528410702467],\"type\":\"scatter\"},{\"hoverinfo\":\"text\",\"hovertext\":[\"<b>Topic 21</b><br>Words: tension, elastic, term, mexican, discretised\",\"<b>Topic 21</b><br>Words: withdrawn, icml2008, author, helsinki, 111\",\"<b>Topic 21</b><br>Words: materials, fiber, polymer, fibers, composite\",\"<b>Topic 21</b><br>Words: identification, droplets, dimensional, reprap3d, ncomms6571\",\"<b>Topic 21</b><br>Words: wind, reduced, cycle, hcci, combustion\",\"<b>Topic 21</b><br>Words: combustion, dynamics, equations, time, dynamical\",\"<b>Topic 21</b><br>Words: equations, differential, fluid, physics, flow\",\"<b>Topic 21</b><br>Words: equations, differential, physical, pdes, physics\",\"<b>Topic 21</b><br>Words: equations, differential, pdes, physics, equation\",\"<b>Topic 21</b><br>Words: equations, differential, physics, equation, pdes\",\"<b>Topic 21</b><br>Words: equations, physics, differential, pdes, equation\",\"<b>Topic 21</b><br>Words: equations, differential, physics, pdes, pde\"],\"marker\":{\"color\":\"#E69F00\"},\"mode\":\"lines\",\"name\":\"21_equations_differential_physics_pdes\",\"x\":[2011,2012,2013,2014,2015,2016,2017,2018,2019,2020,2021,2022],\"y\":[0.002617801047120419,0.00046882325363338024,0.000666000666000666,0.000725689404934688,0.0020964360587002098,0.0018311664530305805,0.003704720087815587,0.005227525923386751,0.00897119773359215,0.012746151092015753,0.0172978419682593,0.021335602407740066],\"type\":\"scatter\"},{\"hoverinfo\":\"text\",\"hovertext\":[\"<b>Topic 22</b><br>Words: gaussian, process, bayesian, kernel, posterior\",\"<b>Topic 22</b><br>Words: gp, gaussian, variational, posterior, process\",\"<b>Topic 22</b><br>Words: gaussian, gp, variational, process, bayesian\",\"<b>Topic 22</b><br>Words: gaussian, mcmc, posterior, variational, gp\",\"<b>Topic 22</b><br>Words: gaussian, variational, posterior, bayesian, gp\",\"<b>Topic 22</b><br>Words: gaussian, posterior, variational, mcmc, bayesian\",\"<b>Topic 22</b><br>Words: gaussian, posterior, variational, bayesian, carlo\",\"<b>Topic 22</b><br>Words: gaussian, variational, gp, posterior, bayesian\",\"<b>Topic 22</b><br>Words: gaussian, posterior, variational, gp, bayesian\",\"<b>Topic 22</b><br>Words: gaussian, variational, posterior, gp, carlo\",\"<b>Topic 22</b><br>Words: gaussian, gp, posterior, variational, bayesian\",\"<b>Topic 22</b><br>Words: gaussian, variational, posterior, gp, bayesian\"],\"marker\":{\"color\":\"#56B4E9\"},\"mode\":\"lines\",\"name\":\"22_gaussian_variational_posterior_gp\",\"x\":[2011,2012,2013,2014,2015,2016,2017,2018,2019,2020,2021,2022],\"y\":[0.012216404886561954,0.02390998593530239,0.015984015984015984,0.023947750362844702,0.03170859538784067,0.02069218091924556,0.020718990120746433,0.016025366355300368,0.011961596978122869,0.009774436090225564,0.009600582192739385,0.008572058869874886],\"type\":\"scatter\"},{\"hoverinfo\":\"text\",\"hovertext\":[\"<b>Topic 23</b><br>Words: outlooks, swapper, finger, bci, ecog\",\"<b>Topic 23</b><br>Words: bmi, mlc, hdp, eeg, walker\",\"<b>Topic 23</b><br>Words: bci, activity, sounds, eeg, subjects\",\"<b>Topic 23</b><br>Words: eeg, classification, ecg, recognition, signals\",\"<b>Topic 23</b><br>Words: esips, eeg, activity, finger, series\",\"<b>Topic 23</b><br>Words: eeg, sleep, recognition, activity, classification\",\"<b>Topic 23</b><br>Words: eeg, sleep, activity, features, signals\",\"<b>Topic 23</b><br>Words: eeg, sleep, activity, signals, brain\",\"<b>Topic 23</b><br>Words: eeg, ecg, activity, sleep, signals\",\"<b>Topic 23</b><br>Words: eeg, ecg, signals, sleep, activity\",\"<b>Topic 23</b><br>Words: eeg, signals, sleep, ecg, activity\",\"<b>Topic 23</b><br>Words: eeg, ecg, sleep, signals, activity\"],\"marker\":{\"color\":\"#009E73\"},\"mode\":\"lines\",\"name\":\"23_eeg_sleep_signals_ecg\",\"x\":[2011,2012,2013,2014,2015,2016,2017,2018,2019,2020,2021,2022],\"y\":[0.004363001745200698,0.0028129395218002813,0.003996003996003996,0.008708272859216255,0.002620545073375262,0.010437648782274309,0.010976948408342482,0.01259748050389922,0.012328838990609096,0.014751163623344074,0.012875416351778766,0.013015662916390912],\"type\":\"scatter\"},{\"hoverinfo\":\"text\",\"hovertext\":[\"<b>Topic 24</b><br>Words: cdoi, omop, spreader, disease, chronic\",\"<b>Topic 24</b><br>Words: health, patient, patients, clinical, disease\",\"<b>Topic 24</b><br>Words: pharmacists, clinical, drug, health, alert\",\"<b>Topic 24</b><br>Words: medical, patient, health, patients, clinical\",\"<b>Topic 24</b><br>Words: patient, clinical, patients, disease, health\",\"<b>Topic 24</b><br>Words: patients, patient, clinical, health, medical\",\"<b>Topic 24</b><br>Words: patients, patient, health, medical, clinical\",\"<b>Topic 24</b><br>Words: health, patients, patient, clinical, medical\",\"<b>Topic 24</b><br>Words: patient, patients, clinical, health, prediction\",\"<b>Topic 24</b><br>Words: patients, patient, health, covid, 19\",\"<b>Topic 24</b><br>Words: covid, patients, 19, patient, health\",\"<b>Topic 24</b><br>Words: patients, health, patient, covid, 19\"],\"marker\":{\"color\":\"#F0E442\"},\"mode\":\"lines\",\"name\":\"24_patients_patient_health_clinical\",\"x\":[2011,2012,2013,2014,2015,2016,2017,2018,2019,2020,2021,2022],\"y\":[0.004363001745200698,0.0032817627754336614,0.004329004329004329,0.007982583454281567,0.006027253668763103,0.011719465299395715,0.011525795828759604,0.011226326163338761,0.01201406012276376,0.01435732187611887,0.01463878859126151,0.010525984053449308],\"type\":\"scatter\"}],                        {\"template\":{\"data\":{\"barpolar\":[{\"marker\":{\"line\":{\"color\":\"white\",\"width\":0.5},\"pattern\":{\"fillmode\":\"overlay\",\"size\":10,\"solidity\":0.2}},\"type\":\"barpolar\"}],\"bar\":[{\"error_x\":{\"color\":\"rgb(36,36,36)\"},\"error_y\":{\"color\":\"rgb(36,36,36)\"},\"marker\":{\"line\":{\"color\":\"white\",\"width\":0.5},\"pattern\":{\"fillmode\":\"overlay\",\"size\":10,\"solidity\":0.2}},\"type\":\"bar\"}],\"carpet\":[{\"aaxis\":{\"endlinecolor\":\"rgb(36,36,36)\",\"gridcolor\":\"white\",\"linecolor\":\"white\",\"minorgridcolor\":\"white\",\"startlinecolor\":\"rgb(36,36,36)\"},\"baxis\":{\"endlinecolor\":\"rgb(36,36,36)\",\"gridcolor\":\"white\",\"linecolor\":\"white\",\"minorgridcolor\":\"white\",\"startlinecolor\":\"rgb(36,36,36)\"},\"type\":\"carpet\"}],\"choropleth\":[{\"colorbar\":{\"outlinewidth\":1,\"tickcolor\":\"rgb(36,36,36)\",\"ticks\":\"outside\"},\"type\":\"choropleth\"}],\"contourcarpet\":[{\"colorbar\":{\"outlinewidth\":1,\"tickcolor\":\"rgb(36,36,36)\",\"ticks\":\"outside\"},\"type\":\"contourcarpet\"}],\"contour\":[{\"colorbar\":{\"outlinewidth\":1,\"tickcolor\":\"rgb(36,36,36)\",\"ticks\":\"outside\"},\"colorscale\":[[0.0,\"#440154\"],[0.1111111111111111,\"#482878\"],[0.2222222222222222,\"#3e4989\"],[0.3333333333333333,\"#31688e\"],[0.4444444444444444,\"#26828e\"],[0.5555555555555556,\"#1f9e89\"],[0.6666666666666666,\"#35b779\"],[0.7777777777777778,\"#6ece58\"],[0.8888888888888888,\"#b5de2b\"],[1.0,\"#fde725\"]],\"type\":\"contour\"}],\"heatmapgl\":[{\"colorbar\":{\"outlinewidth\":1,\"tickcolor\":\"rgb(36,36,36)\",\"ticks\":\"outside\"},\"colorscale\":[[0.0,\"#440154\"],[0.1111111111111111,\"#482878\"],[0.2222222222222222,\"#3e4989\"],[0.3333333333333333,\"#31688e\"],[0.4444444444444444,\"#26828e\"],[0.5555555555555556,\"#1f9e89\"],[0.6666666666666666,\"#35b779\"],[0.7777777777777778,\"#6ece58\"],[0.8888888888888888,\"#b5de2b\"],[1.0,\"#fde725\"]],\"type\":\"heatmapgl\"}],\"heatmap\":[{\"colorbar\":{\"outlinewidth\":1,\"tickcolor\":\"rgb(36,36,36)\",\"ticks\":\"outside\"},\"colorscale\":[[0.0,\"#440154\"],[0.1111111111111111,\"#482878\"],[0.2222222222222222,\"#3e4989\"],[0.3333333333333333,\"#31688e\"],[0.4444444444444444,\"#26828e\"],[0.5555555555555556,\"#1f9e89\"],[0.6666666666666666,\"#35b779\"],[0.7777777777777778,\"#6ece58\"],[0.8888888888888888,\"#b5de2b\"],[1.0,\"#fde725\"]],\"type\":\"heatmap\"}],\"histogram2dcontour\":[{\"colorbar\":{\"outlinewidth\":1,\"tickcolor\":\"rgb(36,36,36)\",\"ticks\":\"outside\"},\"colorscale\":[[0.0,\"#440154\"],[0.1111111111111111,\"#482878\"],[0.2222222222222222,\"#3e4989\"],[0.3333333333333333,\"#31688e\"],[0.4444444444444444,\"#26828e\"],[0.5555555555555556,\"#1f9e89\"],[0.6666666666666666,\"#35b779\"],[0.7777777777777778,\"#6ece58\"],[0.8888888888888888,\"#b5de2b\"],[1.0,\"#fde725\"]],\"type\":\"histogram2dcontour\"}],\"histogram2d\":[{\"colorbar\":{\"outlinewidth\":1,\"tickcolor\":\"rgb(36,36,36)\",\"ticks\":\"outside\"},\"colorscale\":[[0.0,\"#440154\"],[0.1111111111111111,\"#482878\"],[0.2222222222222222,\"#3e4989\"],[0.3333333333333333,\"#31688e\"],[0.4444444444444444,\"#26828e\"],[0.5555555555555556,\"#1f9e89\"],[0.6666666666666666,\"#35b779\"],[0.7777777777777778,\"#6ece58\"],[0.8888888888888888,\"#b5de2b\"],[1.0,\"#fde725\"]],\"type\":\"histogram2d\"}],\"histogram\":[{\"marker\":{\"line\":{\"color\":\"white\",\"width\":0.6}},\"type\":\"histogram\"}],\"mesh3d\":[{\"colorbar\":{\"outlinewidth\":1,\"tickcolor\":\"rgb(36,36,36)\",\"ticks\":\"outside\"},\"type\":\"mesh3d\"}],\"parcoords\":[{\"line\":{\"colorbar\":{\"outlinewidth\":1,\"tickcolor\":\"rgb(36,36,36)\",\"ticks\":\"outside\"}},\"type\":\"parcoords\"}],\"pie\":[{\"automargin\":true,\"type\":\"pie\"}],\"scatter3d\":[{\"line\":{\"colorbar\":{\"outlinewidth\":1,\"tickcolor\":\"rgb(36,36,36)\",\"ticks\":\"outside\"}},\"marker\":{\"colorbar\":{\"outlinewidth\":1,\"tickcolor\":\"rgb(36,36,36)\",\"ticks\":\"outside\"}},\"type\":\"scatter3d\"}],\"scattercarpet\":[{\"marker\":{\"colorbar\":{\"outlinewidth\":1,\"tickcolor\":\"rgb(36,36,36)\",\"ticks\":\"outside\"}},\"type\":\"scattercarpet\"}],\"scattergeo\":[{\"marker\":{\"colorbar\":{\"outlinewidth\":1,\"tickcolor\":\"rgb(36,36,36)\",\"ticks\":\"outside\"}},\"type\":\"scattergeo\"}],\"scattergl\":[{\"marker\":{\"colorbar\":{\"outlinewidth\":1,\"tickcolor\":\"rgb(36,36,36)\",\"ticks\":\"outside\"}},\"type\":\"scattergl\"}],\"scattermapbox\":[{\"marker\":{\"colorbar\":{\"outlinewidth\":1,\"tickcolor\":\"rgb(36,36,36)\",\"ticks\":\"outside\"}},\"type\":\"scattermapbox\"}],\"scatterpolargl\":[{\"marker\":{\"colorbar\":{\"outlinewidth\":1,\"tickcolor\":\"rgb(36,36,36)\",\"ticks\":\"outside\"}},\"type\":\"scatterpolargl\"}],\"scatterpolar\":[{\"marker\":{\"colorbar\":{\"outlinewidth\":1,\"tickcolor\":\"rgb(36,36,36)\",\"ticks\":\"outside\"}},\"type\":\"scatterpolar\"}],\"scatter\":[{\"fillpattern\":{\"fillmode\":\"overlay\",\"size\":10,\"solidity\":0.2},\"type\":\"scatter\"}],\"scatterternary\":[{\"marker\":{\"colorbar\":{\"outlinewidth\":1,\"tickcolor\":\"rgb(36,36,36)\",\"ticks\":\"outside\"}},\"type\":\"scatterternary\"}],\"surface\":[{\"colorbar\":{\"outlinewidth\":1,\"tickcolor\":\"rgb(36,36,36)\",\"ticks\":\"outside\"},\"colorscale\":[[0.0,\"#440154\"],[0.1111111111111111,\"#482878\"],[0.2222222222222222,\"#3e4989\"],[0.3333333333333333,\"#31688e\"],[0.4444444444444444,\"#26828e\"],[0.5555555555555556,\"#1f9e89\"],[0.6666666666666666,\"#35b779\"],[0.7777777777777778,\"#6ece58\"],[0.8888888888888888,\"#b5de2b\"],[1.0,\"#fde725\"]],\"type\":\"surface\"}],\"table\":[{\"cells\":{\"fill\":{\"color\":\"rgb(237,237,237)\"},\"line\":{\"color\":\"white\"}},\"header\":{\"fill\":{\"color\":\"rgb(217,217,217)\"},\"line\":{\"color\":\"white\"}},\"type\":\"table\"}]},\"layout\":{\"annotationdefaults\":{\"arrowhead\":0,\"arrowwidth\":1},\"autotypenumbers\":\"strict\",\"coloraxis\":{\"colorbar\":{\"outlinewidth\":1,\"tickcolor\":\"rgb(36,36,36)\",\"ticks\":\"outside\"}},\"colorscale\":{\"diverging\":[[0.0,\"rgb(103,0,31)\"],[0.1,\"rgb(178,24,43)\"],[0.2,\"rgb(214,96,77)\"],[0.3,\"rgb(244,165,130)\"],[0.4,\"rgb(253,219,199)\"],[0.5,\"rgb(247,247,247)\"],[0.6,\"rgb(209,229,240)\"],[0.7,\"rgb(146,197,222)\"],[0.8,\"rgb(67,147,195)\"],[0.9,\"rgb(33,102,172)\"],[1.0,\"rgb(5,48,97)\"]],\"sequential\":[[0.0,\"#440154\"],[0.1111111111111111,\"#482878\"],[0.2222222222222222,\"#3e4989\"],[0.3333333333333333,\"#31688e\"],[0.4444444444444444,\"#26828e\"],[0.5555555555555556,\"#1f9e89\"],[0.6666666666666666,\"#35b779\"],[0.7777777777777778,\"#6ece58\"],[0.8888888888888888,\"#b5de2b\"],[1.0,\"#fde725\"]],\"sequentialminus\":[[0.0,\"#440154\"],[0.1111111111111111,\"#482878\"],[0.2222222222222222,\"#3e4989\"],[0.3333333333333333,\"#31688e\"],[0.4444444444444444,\"#26828e\"],[0.5555555555555556,\"#1f9e89\"],[0.6666666666666666,\"#35b779\"],[0.7777777777777778,\"#6ece58\"],[0.8888888888888888,\"#b5de2b\"],[1.0,\"#fde725\"]]},\"colorway\":[\"#1F77B4\",\"#FF7F0E\",\"#2CA02C\",\"#D62728\",\"#9467BD\",\"#8C564B\",\"#E377C2\",\"#7F7F7F\",\"#BCBD22\",\"#17BECF\"],\"font\":{\"color\":\"rgb(36,36,36)\"},\"geo\":{\"bgcolor\":\"white\",\"lakecolor\":\"white\",\"landcolor\":\"white\",\"showlakes\":true,\"showland\":true,\"subunitcolor\":\"white\"},\"hoverlabel\":{\"align\":\"left\"},\"hovermode\":\"closest\",\"mapbox\":{\"style\":\"light\"},\"paper_bgcolor\":\"white\",\"plot_bgcolor\":\"white\",\"polar\":{\"angularaxis\":{\"gridcolor\":\"rgb(232,232,232)\",\"linecolor\":\"rgb(36,36,36)\",\"showgrid\":false,\"showline\":true,\"ticks\":\"outside\"},\"bgcolor\":\"white\",\"radialaxis\":{\"gridcolor\":\"rgb(232,232,232)\",\"linecolor\":\"rgb(36,36,36)\",\"showgrid\":false,\"showline\":true,\"ticks\":\"outside\"}},\"scene\":{\"xaxis\":{\"backgroundcolor\":\"white\",\"gridcolor\":\"rgb(232,232,232)\",\"gridwidth\":2,\"linecolor\":\"rgb(36,36,36)\",\"showbackground\":true,\"showgrid\":false,\"showline\":true,\"ticks\":\"outside\",\"zeroline\":false,\"zerolinecolor\":\"rgb(36,36,36)\"},\"yaxis\":{\"backgroundcolor\":\"white\",\"gridcolor\":\"rgb(232,232,232)\",\"gridwidth\":2,\"linecolor\":\"rgb(36,36,36)\",\"showbackground\":true,\"showgrid\":false,\"showline\":true,\"ticks\":\"outside\",\"zeroline\":false,\"zerolinecolor\":\"rgb(36,36,36)\"},\"zaxis\":{\"backgroundcolor\":\"white\",\"gridcolor\":\"rgb(232,232,232)\",\"gridwidth\":2,\"linecolor\":\"rgb(36,36,36)\",\"showbackground\":true,\"showgrid\":false,\"showline\":true,\"ticks\":\"outside\",\"zeroline\":false,\"zerolinecolor\":\"rgb(36,36,36)\"}},\"shapedefaults\":{\"fillcolor\":\"black\",\"line\":{\"width\":0},\"opacity\":0.3},\"ternary\":{\"aaxis\":{\"gridcolor\":\"rgb(232,232,232)\",\"linecolor\":\"rgb(36,36,36)\",\"showgrid\":false,\"showline\":true,\"ticks\":\"outside\"},\"baxis\":{\"gridcolor\":\"rgb(232,232,232)\",\"linecolor\":\"rgb(36,36,36)\",\"showgrid\":false,\"showline\":true,\"ticks\":\"outside\"},\"bgcolor\":\"white\",\"caxis\":{\"gridcolor\":\"rgb(232,232,232)\",\"linecolor\":\"rgb(36,36,36)\",\"showgrid\":false,\"showline\":true,\"ticks\":\"outside\"}},\"title\":{\"x\":0.05},\"xaxis\":{\"automargin\":true,\"gridcolor\":\"rgb(232,232,232)\",\"linecolor\":\"rgb(36,36,36)\",\"showgrid\":false,\"showline\":true,\"ticks\":\"outside\",\"title\":{\"standoff\":15},\"zeroline\":false,\"zerolinecolor\":\"rgb(36,36,36)\"},\"yaxis\":{\"automargin\":true,\"gridcolor\":\"rgb(232,232,232)\",\"linecolor\":\"rgb(36,36,36)\",\"showgrid\":false,\"showline\":true,\"ticks\":\"outside\",\"title\":{\"standoff\":15},\"zeroline\":false,\"zerolinecolor\":\"rgb(36,36,36)\"}}},\"xaxis\":{\"showgrid\":true},\"yaxis\":{\"showgrid\":true,\"title\":{\"text\":\"Frequency\"},\"range\":[0,0.1]},\"title\":{\"font\":{\"size\":22,\"color\":\"Black\"},\"text\":\"<b>Topics over Time\",\"y\":0.95,\"x\":0.4,\"xanchor\":\"center\",\"yanchor\":\"top\"},\"hoverlabel\":{\"font\":{\"size\":16,\"family\":\"Rockwell\"},\"bgcolor\":\"white\"},\"width\":1250,\"height\":800,\"legend\":{\"title\":{\"text\":\"<b>Global Topic Representation\"}}},                        {\"responsive\": true}                    ).then(function(){\n",
       "                            \n",
       "var gd = document.getElementById('5f716d69-f2aa-4d7f-8986-980fc7b1703e');\n",
       "var x = new MutationObserver(function (mutations, observer) {{\n",
       "        var display = window.getComputedStyle(gd).display;\n",
       "        if (!display || display === 'none') {{\n",
       "            console.log([gd, 'removed!']);\n",
       "            Plotly.purge(gd);\n",
       "            observer.disconnect();\n",
       "        }}\n",
       "}});\n",
       "\n",
       "// Listen for the removal of the full notebook cells\n",
       "var notebookContainer = gd.closest('#notebook-container');\n",
       "if (notebookContainer) {{\n",
       "    x.observe(notebookContainer, {childList: true});\n",
       "}}\n",
       "\n",
       "// Listen for the clearing of the current output cell\n",
       "var outputEl = gd.closest('.output');\n",
       "if (outputEl) {{\n",
       "    x.observe(outputEl, {childList: true});\n",
       "}}\n",
       "\n",
       "                        })                };                });            </script>        </div>"
      ]
     },
     "metadata": {},
     "output_type": "display_data"
    }
   ],
   "source": [
    "# Filter down the data\n",
    "topics_filtered = topics_over_time[topics_over_time[\"Timestamp\"] > 2010] # Remove the first few years of small data\n",
    "topics_filtered = topics_filtered[topics_filtered[\"Topic\"] > -1] # Remove BERTopic excluded keywords\n",
    "topics_filtered = topics_filtered[topics_filtered[\"Topic\"] < 25] # Remove small categories\n",
    "topics_relative = topics_filtered.copy()\n",
    "\n",
    "def get_percentage_of_year_total(row):\n",
    "    # Get the total number of articles for this year\n",
    "    timestamp = row[\"Timestamp\"]\n",
    "    year_rows = topics_over_time[topics_over_time['Timestamp'] == timestamp]\n",
    "    year_total = year_rows[\"Frequency\"].sum()\n",
    "    \n",
    "    # Return the relative frequency for the year\n",
    "    return row[\"Frequency\"] / year_total\n",
    "\n",
    "topics_relative[\"Frequency\"] = topics_relative.apply(get_percentage_of_year_total, axis=1)\n",
    "\n",
    "plt = topic_model.visualize_topics_over_time(topics_relative, height=800)\n",
    "plt.update_layout(yaxis_range=[0,0.1])\n",
    "plt"
   ]
  },
  {
   "cell_type": "markdown",
   "id": "606d1374-dd62-4a2a-a47e-87ebc2bec0a5",
   "metadata": {},
   "source": [
    "We can also see the relative changes in a pivot table:"
   ]
  },
  {
   "cell_type": "code",
   "execution_count": 237,
   "id": "9b10c90b-99f6-448e-b483-361ba25ff360",
   "metadata": {},
   "outputs": [
    {
     "data": {
      "text/html": [
       "<div>\n",
       "<style scoped>\n",
       "    .dataframe tbody tr th:only-of-type {\n",
       "        vertical-align: middle;\n",
       "    }\n",
       "\n",
       "    .dataframe tbody tr th {\n",
       "        vertical-align: top;\n",
       "    }\n",
       "\n",
       "    .dataframe thead th {\n",
       "        text-align: right;\n",
       "    }\n",
       "</style>\n",
       "<table border=\"1\" class=\"dataframe\">\n",
       "  <thead>\n",
       "    <tr style=\"text-align: right;\">\n",
       "      <th></th>\n",
       "      <th>2011</th>\n",
       "      <th>2012</th>\n",
       "      <th>2013</th>\n",
       "      <th>2014</th>\n",
       "      <th>2015</th>\n",
       "      <th>2016</th>\n",
       "      <th>2017</th>\n",
       "      <th>2018</th>\n",
       "      <th>2019</th>\n",
       "      <th>2020</th>\n",
       "      <th>2021</th>\n",
       "      <th>2022</th>\n",
       "      <th>Change</th>\n",
       "    </tr>\n",
       "    <tr>\n",
       "      <th>Name</th>\n",
       "      <th></th>\n",
       "      <th></th>\n",
       "      <th></th>\n",
       "      <th></th>\n",
       "      <th></th>\n",
       "      <th></th>\n",
       "      <th></th>\n",
       "      <th></th>\n",
       "      <th></th>\n",
       "      <th></th>\n",
       "      <th></th>\n",
       "      <th></th>\n",
       "      <th></th>\n",
       "    </tr>\n",
       "  </thead>\n",
       "  <tbody>\n",
       "    <tr>\n",
       "      <th>0_language_text_word_knowledge</th>\n",
       "      <td>0.027923</td>\n",
       "      <td>0.038444</td>\n",
       "      <td>0.025308</td>\n",
       "      <td>0.043541</td>\n",
       "      <td>0.065252</td>\n",
       "      <td>0.079290</td>\n",
       "      <td>0.078348</td>\n",
       "      <td>0.078327</td>\n",
       "      <td>0.080688</td>\n",
       "      <td>0.078518</td>\n",
       "      <td>0.073838</td>\n",
       "      <td>0.063219</td>\n",
       "      <td>0.035296</td>\n",
       "    </tr>\n",
       "    <tr>\n",
       "      <th>1_reinforcement_rl_reward_control</th>\n",
       "      <td>0.023560</td>\n",
       "      <td>0.040319</td>\n",
       "      <td>0.026640</td>\n",
       "      <td>0.021771</td>\n",
       "      <td>0.023323</td>\n",
       "      <td>0.030764</td>\n",
       "      <td>0.045280</td>\n",
       "      <td>0.050990</td>\n",
       "      <td>0.052201</td>\n",
       "      <td>0.047655</td>\n",
       "      <td>0.047359</td>\n",
       "      <td>0.048785</td>\n",
       "      <td>0.025225</td>\n",
       "    </tr>\n",
       "    <tr>\n",
       "      <th>2_gradient_convergence_stochastic_descent</th>\n",
       "      <td>0.011344</td>\n",
       "      <td>0.009845</td>\n",
       "      <td>0.013986</td>\n",
       "      <td>0.021408</td>\n",
       "      <td>0.036688</td>\n",
       "      <td>0.030214</td>\n",
       "      <td>0.041026</td>\n",
       "      <td>0.039335</td>\n",
       "      <td>0.035990</td>\n",
       "      <td>0.031078</td>\n",
       "      <td>0.030005</td>\n",
       "      <td>0.029845</td>\n",
       "      <td>0.018501</td>\n",
       "    </tr>\n",
       "    <tr>\n",
       "      <th>3_logic_reasoning_semantics_ontology</th>\n",
       "      <td>0.196335</td>\n",
       "      <td>0.077825</td>\n",
       "      <td>0.189477</td>\n",
       "      <td>0.133527</td>\n",
       "      <td>0.068920</td>\n",
       "      <td>0.050357</td>\n",
       "      <td>0.035950</td>\n",
       "      <td>0.025024</td>\n",
       "      <td>0.015634</td>\n",
       "      <td>0.016971</td>\n",
       "      <td>0.011644</td>\n",
       "      <td>0.010116</td>\n",
       "      <td>-0.186219</td>\n",
       "    </tr>\n",
       "    <tr>\n",
       "      <th>4_segmentation_images_image_imaging</th>\n",
       "      <td>0.000873</td>\n",
       "      <td>0.003751</td>\n",
       "      <td>0.002331</td>\n",
       "      <td>0.003266</td>\n",
       "      <td>0.005503</td>\n",
       "      <td>0.006226</td>\n",
       "      <td>0.012212</td>\n",
       "      <td>0.021596</td>\n",
       "      <td>0.030271</td>\n",
       "      <td>0.037880</td>\n",
       "      <td>0.032468</td>\n",
       "      <td>0.033311</td>\n",
       "      <td>0.032439</td>\n",
       "    </tr>\n",
       "    <tr>\n",
       "      <th>5_matrix_rank_sparse_tensor</th>\n",
       "      <td>0.069808</td>\n",
       "      <td>0.066104</td>\n",
       "      <td>0.066267</td>\n",
       "      <td>0.090348</td>\n",
       "      <td>0.089361</td>\n",
       "      <td>0.066654</td>\n",
       "      <td>0.046789</td>\n",
       "      <td>0.034964</td>\n",
       "      <td>0.022349</td>\n",
       "      <td>0.018117</td>\n",
       "      <td>0.016178</td>\n",
       "      <td>0.015064</td>\n",
       "      <td>-0.054744</td>\n",
       "    </tr>\n",
       "    <tr>\n",
       "      <th>6_speech_audio_speaker_music</th>\n",
       "      <td>0.006108</td>\n",
       "      <td>0.005626</td>\n",
       "      <td>0.006660</td>\n",
       "      <td>0.014877</td>\n",
       "      <td>0.017558</td>\n",
       "      <td>0.025087</td>\n",
       "      <td>0.027031</td>\n",
       "      <td>0.028280</td>\n",
       "      <td>0.032317</td>\n",
       "      <td>0.029180</td>\n",
       "      <td>0.026171</td>\n",
       "      <td>0.026441</td>\n",
       "      <td>0.020333</td>\n",
       "    </tr>\n",
       "    <tr>\n",
       "      <th>7_pruning_quantization_hardware_nas</th>\n",
       "      <td>0.000873</td>\n",
       "      <td>0.000938</td>\n",
       "      <td>0.000999</td>\n",
       "      <td>0.003991</td>\n",
       "      <td>0.008124</td>\n",
       "      <td>0.015931</td>\n",
       "      <td>0.022091</td>\n",
       "      <td>0.024852</td>\n",
       "      <td>0.026756</td>\n",
       "      <td>0.025671</td>\n",
       "      <td>0.025303</td>\n",
       "      <td>0.020674</td>\n",
       "      <td>0.019801</td>\n",
       "    </tr>\n",
       "    <tr>\n",
       "      <th>8_causal_treatment_variables_graphical</th>\n",
       "      <td>0.039267</td>\n",
       "      <td>0.145335</td>\n",
       "      <td>0.146187</td>\n",
       "      <td>0.039913</td>\n",
       "      <td>0.030398</td>\n",
       "      <td>0.020692</td>\n",
       "      <td>0.022091</td>\n",
       "      <td>0.016540</td>\n",
       "      <td>0.011437</td>\n",
       "      <td>0.013426</td>\n",
       "      <td>0.013883</td>\n",
       "      <td>0.015568</td>\n",
       "      <td>-0.023699</td>\n",
       "    </tr>\n",
       "    <tr>\n",
       "      <th>9_adversarial_attacks_attack_robustness</th>\n",
       "      <td>0.000000</td>\n",
       "      <td>0.000469</td>\n",
       "      <td>0.000666</td>\n",
       "      <td>0.000363</td>\n",
       "      <td>0.001048</td>\n",
       "      <td>0.005677</td>\n",
       "      <td>0.012761</td>\n",
       "      <td>0.022367</td>\n",
       "      <td>0.026651</td>\n",
       "      <td>0.024168</td>\n",
       "      <td>0.024211</td>\n",
       "      <td>0.022155</td>\n",
       "      <td>0.022155</td>\n",
       "    </tr>\n",
       "    <tr>\n",
       "      <th>10_regret_bandit_online_bandits</th>\n",
       "      <td>0.030541</td>\n",
       "      <td>0.029067</td>\n",
       "      <td>0.026307</td>\n",
       "      <td>0.030479</td>\n",
       "      <td>0.029088</td>\n",
       "      <td>0.025819</td>\n",
       "      <td>0.025659</td>\n",
       "      <td>0.015511</td>\n",
       "      <td>0.017785</td>\n",
       "      <td>0.017007</td>\n",
       "      <td>0.017830</td>\n",
       "      <td>0.019319</td>\n",
       "      <td>-0.011222</td>\n",
       "    </tr>\n",
       "    <tr>\n",
       "      <th>11_explanations_interpretability_human_explainable</th>\n",
       "      <td>0.003490</td>\n",
       "      <td>0.001875</td>\n",
       "      <td>0.000999</td>\n",
       "      <td>0.001814</td>\n",
       "      <td>0.002096</td>\n",
       "      <td>0.007508</td>\n",
       "      <td>0.012075</td>\n",
       "      <td>0.016882</td>\n",
       "      <td>0.017418</td>\n",
       "      <td>0.020086</td>\n",
       "      <td>0.024743</td>\n",
       "      <td>0.024046</td>\n",
       "      <td>0.020555</td>\n",
       "    </tr>\n",
       "    <tr>\n",
       "      <th>12_generative_gans_gan_latent</th>\n",
       "      <td>0.001745</td>\n",
       "      <td>0.004688</td>\n",
       "      <td>0.001332</td>\n",
       "      <td>0.007620</td>\n",
       "      <td>0.008124</td>\n",
       "      <td>0.014832</td>\n",
       "      <td>0.025933</td>\n",
       "      <td>0.027337</td>\n",
       "      <td>0.025182</td>\n",
       "      <td>0.020516</td>\n",
       "      <td>0.017690</td>\n",
       "      <td>0.016419</td>\n",
       "      <td>0.014674</td>\n",
       "    </tr>\n",
       "    <tr>\n",
       "      <th>13_detection_anomaly_malware_anomalies</th>\n",
       "      <td>0.004363</td>\n",
       "      <td>0.007970</td>\n",
       "      <td>0.010989</td>\n",
       "      <td>0.011248</td>\n",
       "      <td>0.008910</td>\n",
       "      <td>0.019227</td>\n",
       "      <td>0.012486</td>\n",
       "      <td>0.018682</td>\n",
       "      <td>0.017680</td>\n",
       "      <td>0.017186</td>\n",
       "      <td>0.021132</td>\n",
       "      <td>0.018153</td>\n",
       "      <td>0.013790</td>\n",
       "    </tr>\n",
       "    <tr>\n",
       "      <th>14_recommendation_recommender_users_ranking</th>\n",
       "      <td>0.014834</td>\n",
       "      <td>0.021097</td>\n",
       "      <td>0.010656</td>\n",
       "      <td>0.017054</td>\n",
       "      <td>0.014413</td>\n",
       "      <td>0.022157</td>\n",
       "      <td>0.018386</td>\n",
       "      <td>0.016968</td>\n",
       "      <td>0.018362</td>\n",
       "      <td>0.015503</td>\n",
       "      <td>0.015087</td>\n",
       "      <td>0.014970</td>\n",
       "      <td>0.000135</td>\n",
       "    </tr>\n",
       "    <tr>\n",
       "      <th>15_3d_object_point_segmentation</th>\n",
       "      <td>0.003490</td>\n",
       "      <td>0.003282</td>\n",
       "      <td>0.003330</td>\n",
       "      <td>0.003266</td>\n",
       "      <td>0.008124</td>\n",
       "      <td>0.008240</td>\n",
       "      <td>0.009605</td>\n",
       "      <td>0.013369</td>\n",
       "      <td>0.016159</td>\n",
       "      <td>0.018618</td>\n",
       "      <td>0.016514</td>\n",
       "      <td>0.017964</td>\n",
       "      <td>0.014473</td>\n",
       "    </tr>\n",
       "    <tr>\n",
       "      <th>16_molecular_protein_drug_molecules</th>\n",
       "      <td>0.005236</td>\n",
       "      <td>0.004688</td>\n",
       "      <td>0.007659</td>\n",
       "      <td>0.013062</td>\n",
       "      <td>0.013889</td>\n",
       "      <td>0.010438</td>\n",
       "      <td>0.015917</td>\n",
       "      <td>0.014740</td>\n",
       "      <td>0.013483</td>\n",
       "      <td>0.014250</td>\n",
       "      <td>0.015031</td>\n",
       "      <td>0.018594</td>\n",
       "      <td>0.013358</td>\n",
       "    </tr>\n",
       "    <tr>\n",
       "      <th>17_graph_node_graphs_gnns</th>\n",
       "      <td>0.002618</td>\n",
       "      <td>0.002344</td>\n",
       "      <td>0.000999</td>\n",
       "      <td>0.003266</td>\n",
       "      <td>0.001834</td>\n",
       "      <td>0.004029</td>\n",
       "      <td>0.006312</td>\n",
       "      <td>0.011055</td>\n",
       "      <td>0.015319</td>\n",
       "      <td>0.016398</td>\n",
       "      <td>0.018389</td>\n",
       "      <td>0.020201</td>\n",
       "      <td>0.017583</td>\n",
       "    </tr>\n",
       "    <tr>\n",
       "      <th>18_channel_wireless_communication_radio</th>\n",
       "      <td>0.010471</td>\n",
       "      <td>0.005626</td>\n",
       "      <td>0.004995</td>\n",
       "      <td>0.005443</td>\n",
       "      <td>0.005241</td>\n",
       "      <td>0.007325</td>\n",
       "      <td>0.006723</td>\n",
       "      <td>0.011055</td>\n",
       "      <td>0.014427</td>\n",
       "      <td>0.015181</td>\n",
       "      <td>0.015506</td>\n",
       "      <td>0.014907</td>\n",
       "      <td>0.004435</td>\n",
       "    </tr>\n",
       "    <tr>\n",
       "      <th>19_ensemble_classification_uncertainty_class</th>\n",
       "      <td>0.015707</td>\n",
       "      <td>0.017815</td>\n",
       "      <td>0.015651</td>\n",
       "      <td>0.015965</td>\n",
       "      <td>0.024633</td>\n",
       "      <td>0.013734</td>\n",
       "      <td>0.012898</td>\n",
       "      <td>0.013712</td>\n",
       "      <td>0.012644</td>\n",
       "      <td>0.012675</td>\n",
       "      <td>0.013043</td>\n",
       "      <td>0.010967</td>\n",
       "      <td>-0.004740</td>\n",
       "    </tr>\n",
       "    <tr>\n",
       "      <th>20_series_time_forecasting_stock</th>\n",
       "      <td>0.005236</td>\n",
       "      <td>0.007501</td>\n",
       "      <td>0.009657</td>\n",
       "      <td>0.009434</td>\n",
       "      <td>0.012579</td>\n",
       "      <td>0.008606</td>\n",
       "      <td>0.008370</td>\n",
       "      <td>0.012683</td>\n",
       "      <td>0.012853</td>\n",
       "      <td>0.011994</td>\n",
       "      <td>0.014807</td>\n",
       "      <td>0.014844</td>\n",
       "      <td>0.009608</td>\n",
       "    </tr>\n",
       "    <tr>\n",
       "      <th>21_equations_differential_physics_pdes</th>\n",
       "      <td>0.002618</td>\n",
       "      <td>0.000469</td>\n",
       "      <td>0.000666</td>\n",
       "      <td>0.000726</td>\n",
       "      <td>0.002096</td>\n",
       "      <td>0.001831</td>\n",
       "      <td>0.003705</td>\n",
       "      <td>0.005228</td>\n",
       "      <td>0.008971</td>\n",
       "      <td>0.012746</td>\n",
       "      <td>0.017298</td>\n",
       "      <td>0.021336</td>\n",
       "      <td>0.018718</td>\n",
       "    </tr>\n",
       "    <tr>\n",
       "      <th>22_gaussian_variational_posterior_gp</th>\n",
       "      <td>0.012216</td>\n",
       "      <td>0.023910</td>\n",
       "      <td>0.015984</td>\n",
       "      <td>0.023948</td>\n",
       "      <td>0.031709</td>\n",
       "      <td>0.020692</td>\n",
       "      <td>0.020719</td>\n",
       "      <td>0.016025</td>\n",
       "      <td>0.011962</td>\n",
       "      <td>0.009774</td>\n",
       "      <td>0.009601</td>\n",
       "      <td>0.008572</td>\n",
       "      <td>-0.003644</td>\n",
       "    </tr>\n",
       "    <tr>\n",
       "      <th>23_eeg_sleep_signals_ecg</th>\n",
       "      <td>0.004363</td>\n",
       "      <td>0.002813</td>\n",
       "      <td>0.003996</td>\n",
       "      <td>0.008708</td>\n",
       "      <td>0.002621</td>\n",
       "      <td>0.010438</td>\n",
       "      <td>0.010977</td>\n",
       "      <td>0.012597</td>\n",
       "      <td>0.012329</td>\n",
       "      <td>0.014751</td>\n",
       "      <td>0.012875</td>\n",
       "      <td>0.013016</td>\n",
       "      <td>0.008653</td>\n",
       "    </tr>\n",
       "    <tr>\n",
       "      <th>24_patients_patient_health_clinical</th>\n",
       "      <td>0.004363</td>\n",
       "      <td>0.003282</td>\n",
       "      <td>0.004329</td>\n",
       "      <td>0.007983</td>\n",
       "      <td>0.006027</td>\n",
       "      <td>0.011719</td>\n",
       "      <td>0.011526</td>\n",
       "      <td>0.011226</td>\n",
       "      <td>0.012014</td>\n",
       "      <td>0.014357</td>\n",
       "      <td>0.014639</td>\n",
       "      <td>0.010526</td>\n",
       "      <td>0.006163</td>\n",
       "    </tr>\n",
       "  </tbody>\n",
       "</table>\n",
       "</div>"
      ],
      "text/plain": [
       "                                                        2011      2012  \\\n",
       "Name                                                                     \n",
       "0_language_text_word_knowledge                      0.027923  0.038444   \n",
       "1_reinforcement_rl_reward_control                   0.023560  0.040319   \n",
       "2_gradient_convergence_stochastic_descent           0.011344  0.009845   \n",
       "3_logic_reasoning_semantics_ontology                0.196335  0.077825   \n",
       "4_segmentation_images_image_imaging                 0.000873  0.003751   \n",
       "5_matrix_rank_sparse_tensor                         0.069808  0.066104   \n",
       "6_speech_audio_speaker_music                        0.006108  0.005626   \n",
       "7_pruning_quantization_hardware_nas                 0.000873  0.000938   \n",
       "8_causal_treatment_variables_graphical              0.039267  0.145335   \n",
       "9_adversarial_attacks_attack_robustness             0.000000  0.000469   \n",
       "10_regret_bandit_online_bandits                     0.030541  0.029067   \n",
       "11_explanations_interpretability_human_explainable  0.003490  0.001875   \n",
       "12_generative_gans_gan_latent                       0.001745  0.004688   \n",
       "13_detection_anomaly_malware_anomalies              0.004363  0.007970   \n",
       "14_recommendation_recommender_users_ranking         0.014834  0.021097   \n",
       "15_3d_object_point_segmentation                     0.003490  0.003282   \n",
       "16_molecular_protein_drug_molecules                 0.005236  0.004688   \n",
       "17_graph_node_graphs_gnns                           0.002618  0.002344   \n",
       "18_channel_wireless_communication_radio             0.010471  0.005626   \n",
       "19_ensemble_classification_uncertainty_class        0.015707  0.017815   \n",
       "20_series_time_forecasting_stock                    0.005236  0.007501   \n",
       "21_equations_differential_physics_pdes              0.002618  0.000469   \n",
       "22_gaussian_variational_posterior_gp                0.012216  0.023910   \n",
       "23_eeg_sleep_signals_ecg                            0.004363  0.002813   \n",
       "24_patients_patient_health_clinical                 0.004363  0.003282   \n",
       "\n",
       "                                                        2013      2014  \\\n",
       "Name                                                                     \n",
       "0_language_text_word_knowledge                      0.025308  0.043541   \n",
       "1_reinforcement_rl_reward_control                   0.026640  0.021771   \n",
       "2_gradient_convergence_stochastic_descent           0.013986  0.021408   \n",
       "3_logic_reasoning_semantics_ontology                0.189477  0.133527   \n",
       "4_segmentation_images_image_imaging                 0.002331  0.003266   \n",
       "5_matrix_rank_sparse_tensor                         0.066267  0.090348   \n",
       "6_speech_audio_speaker_music                        0.006660  0.014877   \n",
       "7_pruning_quantization_hardware_nas                 0.000999  0.003991   \n",
       "8_causal_treatment_variables_graphical              0.146187  0.039913   \n",
       "9_adversarial_attacks_attack_robustness             0.000666  0.000363   \n",
       "10_regret_bandit_online_bandits                     0.026307  0.030479   \n",
       "11_explanations_interpretability_human_explainable  0.000999  0.001814   \n",
       "12_generative_gans_gan_latent                       0.001332  0.007620   \n",
       "13_detection_anomaly_malware_anomalies              0.010989  0.011248   \n",
       "14_recommendation_recommender_users_ranking         0.010656  0.017054   \n",
       "15_3d_object_point_segmentation                     0.003330  0.003266   \n",
       "16_molecular_protein_drug_molecules                 0.007659  0.013062   \n",
       "17_graph_node_graphs_gnns                           0.000999  0.003266   \n",
       "18_channel_wireless_communication_radio             0.004995  0.005443   \n",
       "19_ensemble_classification_uncertainty_class        0.015651  0.015965   \n",
       "20_series_time_forecasting_stock                    0.009657  0.009434   \n",
       "21_equations_differential_physics_pdes              0.000666  0.000726   \n",
       "22_gaussian_variational_posterior_gp                0.015984  0.023948   \n",
       "23_eeg_sleep_signals_ecg                            0.003996  0.008708   \n",
       "24_patients_patient_health_clinical                 0.004329  0.007983   \n",
       "\n",
       "                                                        2015      2016  \\\n",
       "Name                                                                     \n",
       "0_language_text_word_knowledge                      0.065252  0.079290   \n",
       "1_reinforcement_rl_reward_control                   0.023323  0.030764   \n",
       "2_gradient_convergence_stochastic_descent           0.036688  0.030214   \n",
       "3_logic_reasoning_semantics_ontology                0.068920  0.050357   \n",
       "4_segmentation_images_image_imaging                 0.005503  0.006226   \n",
       "5_matrix_rank_sparse_tensor                         0.089361  0.066654   \n",
       "6_speech_audio_speaker_music                        0.017558  0.025087   \n",
       "7_pruning_quantization_hardware_nas                 0.008124  0.015931   \n",
       "8_causal_treatment_variables_graphical              0.030398  0.020692   \n",
       "9_adversarial_attacks_attack_robustness             0.001048  0.005677   \n",
       "10_regret_bandit_online_bandits                     0.029088  0.025819   \n",
       "11_explanations_interpretability_human_explainable  0.002096  0.007508   \n",
       "12_generative_gans_gan_latent                       0.008124  0.014832   \n",
       "13_detection_anomaly_malware_anomalies              0.008910  0.019227   \n",
       "14_recommendation_recommender_users_ranking         0.014413  0.022157   \n",
       "15_3d_object_point_segmentation                     0.008124  0.008240   \n",
       "16_molecular_protein_drug_molecules                 0.013889  0.010438   \n",
       "17_graph_node_graphs_gnns                           0.001834  0.004029   \n",
       "18_channel_wireless_communication_radio             0.005241  0.007325   \n",
       "19_ensemble_classification_uncertainty_class        0.024633  0.013734   \n",
       "20_series_time_forecasting_stock                    0.012579  0.008606   \n",
       "21_equations_differential_physics_pdes              0.002096  0.001831   \n",
       "22_gaussian_variational_posterior_gp                0.031709  0.020692   \n",
       "23_eeg_sleep_signals_ecg                            0.002621  0.010438   \n",
       "24_patients_patient_health_clinical                 0.006027  0.011719   \n",
       "\n",
       "                                                        2017      2018  \\\n",
       "Name                                                                     \n",
       "0_language_text_word_knowledge                      0.078348  0.078327   \n",
       "1_reinforcement_rl_reward_control                   0.045280  0.050990   \n",
       "2_gradient_convergence_stochastic_descent           0.041026  0.039335   \n",
       "3_logic_reasoning_semantics_ontology                0.035950  0.025024   \n",
       "4_segmentation_images_image_imaging                 0.012212  0.021596   \n",
       "5_matrix_rank_sparse_tensor                         0.046789  0.034964   \n",
       "6_speech_audio_speaker_music                        0.027031  0.028280   \n",
       "7_pruning_quantization_hardware_nas                 0.022091  0.024852   \n",
       "8_causal_treatment_variables_graphical              0.022091  0.016540   \n",
       "9_adversarial_attacks_attack_robustness             0.012761  0.022367   \n",
       "10_regret_bandit_online_bandits                     0.025659  0.015511   \n",
       "11_explanations_interpretability_human_explainable  0.012075  0.016882   \n",
       "12_generative_gans_gan_latent                       0.025933  0.027337   \n",
       "13_detection_anomaly_malware_anomalies              0.012486  0.018682   \n",
       "14_recommendation_recommender_users_ranking         0.018386  0.016968   \n",
       "15_3d_object_point_segmentation                     0.009605  0.013369   \n",
       "16_molecular_protein_drug_molecules                 0.015917  0.014740   \n",
       "17_graph_node_graphs_gnns                           0.006312  0.011055   \n",
       "18_channel_wireless_communication_radio             0.006723  0.011055   \n",
       "19_ensemble_classification_uncertainty_class        0.012898  0.013712   \n",
       "20_series_time_forecasting_stock                    0.008370  0.012683   \n",
       "21_equations_differential_physics_pdes              0.003705  0.005228   \n",
       "22_gaussian_variational_posterior_gp                0.020719  0.016025   \n",
       "23_eeg_sleep_signals_ecg                            0.010977  0.012597   \n",
       "24_patients_patient_health_clinical                 0.011526  0.011226   \n",
       "\n",
       "                                                        2019      2020  \\\n",
       "Name                                                                     \n",
       "0_language_text_word_knowledge                      0.080688  0.078518   \n",
       "1_reinforcement_rl_reward_control                   0.052201  0.047655   \n",
       "2_gradient_convergence_stochastic_descent           0.035990  0.031078   \n",
       "3_logic_reasoning_semantics_ontology                0.015634  0.016971   \n",
       "4_segmentation_images_image_imaging                 0.030271  0.037880   \n",
       "5_matrix_rank_sparse_tensor                         0.022349  0.018117   \n",
       "6_speech_audio_speaker_music                        0.032317  0.029180   \n",
       "7_pruning_quantization_hardware_nas                 0.026756  0.025671   \n",
       "8_causal_treatment_variables_graphical              0.011437  0.013426   \n",
       "9_adversarial_attacks_attack_robustness             0.026651  0.024168   \n",
       "10_regret_bandit_online_bandits                     0.017785  0.017007   \n",
       "11_explanations_interpretability_human_explainable  0.017418  0.020086   \n",
       "12_generative_gans_gan_latent                       0.025182  0.020516   \n",
       "13_detection_anomaly_malware_anomalies              0.017680  0.017186   \n",
       "14_recommendation_recommender_users_ranking         0.018362  0.015503   \n",
       "15_3d_object_point_segmentation                     0.016159  0.018618   \n",
       "16_molecular_protein_drug_molecules                 0.013483  0.014250   \n",
       "17_graph_node_graphs_gnns                           0.015319  0.016398   \n",
       "18_channel_wireless_communication_radio             0.014427  0.015181   \n",
       "19_ensemble_classification_uncertainty_class        0.012644  0.012675   \n",
       "20_series_time_forecasting_stock                    0.012853  0.011994   \n",
       "21_equations_differential_physics_pdes              0.008971  0.012746   \n",
       "22_gaussian_variational_posterior_gp                0.011962  0.009774   \n",
       "23_eeg_sleep_signals_ecg                            0.012329  0.014751   \n",
       "24_patients_patient_health_clinical                 0.012014  0.014357   \n",
       "\n",
       "                                                        2021      2022  \\\n",
       "Name                                                                     \n",
       "0_language_text_word_knowledge                      0.073838  0.063219   \n",
       "1_reinforcement_rl_reward_control                   0.047359  0.048785   \n",
       "2_gradient_convergence_stochastic_descent           0.030005  0.029845   \n",
       "3_logic_reasoning_semantics_ontology                0.011644  0.010116   \n",
       "4_segmentation_images_image_imaging                 0.032468  0.033311   \n",
       "5_matrix_rank_sparse_tensor                         0.016178  0.015064   \n",
       "6_speech_audio_speaker_music                        0.026171  0.026441   \n",
       "7_pruning_quantization_hardware_nas                 0.025303  0.020674   \n",
       "8_causal_treatment_variables_graphical              0.013883  0.015568   \n",
       "9_adversarial_attacks_attack_robustness             0.024211  0.022155   \n",
       "10_regret_bandit_online_bandits                     0.017830  0.019319   \n",
       "11_explanations_interpretability_human_explainable  0.024743  0.024046   \n",
       "12_generative_gans_gan_latent                       0.017690  0.016419   \n",
       "13_detection_anomaly_malware_anomalies              0.021132  0.018153   \n",
       "14_recommendation_recommender_users_ranking         0.015087  0.014970   \n",
       "15_3d_object_point_segmentation                     0.016514  0.017964   \n",
       "16_molecular_protein_drug_molecules                 0.015031  0.018594   \n",
       "17_graph_node_graphs_gnns                           0.018389  0.020201   \n",
       "18_channel_wireless_communication_radio             0.015506  0.014907   \n",
       "19_ensemble_classification_uncertainty_class        0.013043  0.010967   \n",
       "20_series_time_forecasting_stock                    0.014807  0.014844   \n",
       "21_equations_differential_physics_pdes              0.017298  0.021336   \n",
       "22_gaussian_variational_posterior_gp                0.009601  0.008572   \n",
       "23_eeg_sleep_signals_ecg                            0.012875  0.013016   \n",
       "24_patients_patient_health_clinical                 0.014639  0.010526   \n",
       "\n",
       "                                                      Change  \n",
       "Name                                                          \n",
       "0_language_text_word_knowledge                      0.035296  \n",
       "1_reinforcement_rl_reward_control                   0.025225  \n",
       "2_gradient_convergence_stochastic_descent           0.018501  \n",
       "3_logic_reasoning_semantics_ontology               -0.186219  \n",
       "4_segmentation_images_image_imaging                 0.032439  \n",
       "5_matrix_rank_sparse_tensor                        -0.054744  \n",
       "6_speech_audio_speaker_music                        0.020333  \n",
       "7_pruning_quantization_hardware_nas                 0.019801  \n",
       "8_causal_treatment_variables_graphical             -0.023699  \n",
       "9_adversarial_attacks_attack_robustness             0.022155  \n",
       "10_regret_bandit_online_bandits                    -0.011222  \n",
       "11_explanations_interpretability_human_explainable  0.020555  \n",
       "12_generative_gans_gan_latent                       0.014674  \n",
       "13_detection_anomaly_malware_anomalies              0.013790  \n",
       "14_recommendation_recommender_users_ranking         0.000135  \n",
       "15_3d_object_point_segmentation                     0.014473  \n",
       "16_molecular_protein_drug_molecules                 0.013358  \n",
       "17_graph_node_graphs_gnns                           0.017583  \n",
       "18_channel_wireless_communication_radio             0.004435  \n",
       "19_ensemble_classification_uncertainty_class       -0.004740  \n",
       "20_series_time_forecasting_stock                    0.009608  \n",
       "21_equations_differential_physics_pdes              0.018718  \n",
       "22_gaussian_variational_posterior_gp               -0.003644  \n",
       "23_eeg_sleep_signals_ecg                            0.008653  \n",
       "24_patients_patient_health_clinical                 0.006163  "
      ]
     },
     "execution_count": 237,
     "metadata": {},
     "output_type": "execute_result"
    }
   ],
   "source": [
    "# Create the pivot table\n",
    "pivot = topics_relative.pivot(index=\"Topic\", columns=\"Timestamp\", values=\"Frequency\")\n",
    "pivot = pivot.fillna(value=0)\n",
    "\n",
    "# Add a change column\n",
    "first_year = topics_relative[\"Timestamp\"].min()\n",
    "last_year = topics_relative[\"Timestamp\"].max()\n",
    "pivot[\"Change\"] = pivot[last_year] - pivot[first_year]\n",
    "\n",
    "# Add topic names\n",
    "names = topic_model.get_topic_info()[[\"Topic\", \"Name\"]]\n",
    "pivot = pd.merge(pivot, names, on=\"Topic\")\n",
    "pivot = pivot.set_index(\"Name\")\n",
    "pivot = pivot.drop(\"Topic\", axis=1)\n",
    "pivot"
   ]
  }
 ],
 "metadata": {
  "kernelspec": {
   "display_name": "Python 3 (ipykernel)",
   "language": "python",
   "name": "python3"
  },
  "language_info": {
   "codemirror_mode": {
    "name": "ipython",
    "version": 3
   },
   "file_extension": ".py",
   "mimetype": "text/x-python",
   "name": "python",
   "nbconvert_exporter": "python",
   "pygments_lexer": "ipython3",
   "version": "3.9.5"
  },
  "vscode": {
   "interpreter": {
    "hash": "d609e04381741618cd8e1dc7b6d538ef773af9bc8a189182f82e56e6d0c924d6"
   }
  }
 },
 "nbformat": 4,
 "nbformat_minor": 5
}
