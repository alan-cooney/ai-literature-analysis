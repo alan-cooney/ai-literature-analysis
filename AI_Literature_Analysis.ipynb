{
 "cells": [
  {
   "cell_type": "markdown",
   "id": "a5b828f6-e80c-4f1d-bd56-e3121e8642e4",
   "metadata": {},
   "source": [
    "# AI Literature Analysis"
   ]
  },
  {
   "cell_type": "code",
   "execution_count": 1,
   "id": "6bec11d8-2bc4-4311-a4ed-5082d3b0fcde",
   "metadata": {},
   "outputs": [],
   "source": [
    "from os import path\n",
    "\n",
    "import bertopic\n",
    "import kaggle\n",
    "import pandas as pd"
   ]
  },
  {
   "cell_type": "markdown",
   "id": "661bec71-5bc5-4734-89ba-810716233f07",
   "metadata": {},
   "source": [
    "## Arxiv Dataset\n",
    "\n",
    "The [Arxiv dataset](https://www.kaggle.com/datasets/Cornell-University/arxiv) was chosen as:\n",
    "\n",
    " - Arxiv is widely used within the AI research community, to publish preprints and postprints of papers.\n",
    " - The dataset is updated on a weekly basis, which is useful given that the field is both young and evolving rapidly.\n",
    " - A team of moderators [re-categorize papers](https://arxiv.org/help/moderation), resulting in robust categories that can be used to pick out just AI research.\n",
    " \n",
    " To begin we'll download the data and clean it a little:"
   ]
  },
  {
   "cell_type": "code",
   "execution_count": 2,
   "id": "d70b6085-da15-4801-91f9-9c0870337652",
   "metadata": {},
   "outputs": [
    {
     "name": "stdout",
     "output_type": "stream",
     "text": [
      "Downloading arxiv.zip to /tmp/arxiv\n"
     ]
    },
    {
     "name": "stderr",
     "output_type": "stream",
     "text": [
      "100%|█████████████████████████████████████████| 1.07G/1.07G [00:05<00:00, 197MB/s]\n"
     ]
    },
    {
     "name": "stdout",
     "output_type": "stream",
     "text": [
      "\n"
     ]
    },
    {
     "data": {
      "text/plain": [
       "'Dataset contains 2,117,092 papers, from 2007-2022.'"
      ]
     },
     "execution_count": 2,
     "metadata": {},
     "output_type": "execute_result"
    }
   ],
   "source": [
    "# Download dataset\n",
    "data_dir = \"/tmp/arxiv\"\n",
    "kaggle.api.dataset_download_files(\n",
    "    dataset='Cornell-University/arxiv',\n",
    "    path=data_dir,\n",
    "    quiet=False,\n",
    "    unzip=True,\n",
    ")\n",
    "\n",
    "# Set as a Pandas Dataframe\n",
    "data_path = path.join(data_dir, \"arxiv-metadata-oai-snapshot.json\")\n",
    "metadata = pd.read_json(data_path, orient=\"columns\", lines=True)\n",
    "\n",
    "# Clean data\n",
    "metadata[\"id\"] = metadata[\"id\"].str.split(\"/\").str[-1] # Remove ID prefix\n",
    "metadata['categories'] = metadata['categories'].str.split(' ') # Convert string separated categories to lists\n",
    "metadata[\"update_date\"] = pd.to_datetime(metadata[\"update_date\"], format=\"%Y-%m-%d\") # Use date type\n",
    "metadata.set_index('id', inplace=True) # Set ID as index\n",
    "\n",
    "# Output key facts\n",
    "number_papers = len(metadata)\n",
    "oldest_paper = metadata[\"update_date\"].dt.year.min()\n",
    "newest_paper = metadata[\"update_date\"].dt.year.max()\n",
    "\"Dataset contains {:,} papers, from {}-{}.\".format(number_papers, oldest_paper, newest_paper)"
   ]
  },
  {
   "cell_type": "markdown",
   "id": "56cd5a1d-d7e7-4f21-9fe9-2156259aac5f",
   "metadata": {},
   "source": [
    "Next we'll select just the relevant categories from the broader [Arxiv taxonomy](https://arxiv.org/category_taxonomy)."
   ]
  },
  {
   "cell_type": "code",
   "execution_count": 8,
   "id": "9662d1bc-9036-463b-8842-f0aed7aa6520",
   "metadata": {},
   "outputs": [
    {
     "data": {
      "text/plain": [
       "<AxesSubplot:xlabel='update_date'>"
      ]
     },
     "execution_count": 8,
     "metadata": {},
     "output_type": "execute_result"
    },
    {
     "data": {
      "image/png": "[encoded data removed]",
      "text/plain": [
       "<Figure size 640x480 with 1 Axes>"
      ]
     },
     "metadata": {},
     "output_type": "display_data"
    }
   ],
   "source": [
    "# List of AI categories\n",
    "relevant_categories = [\n",
    "    \"cs.AI\",  # Computer Science: Artificial Intelligence\n",
    "    \"cs.LG\",  # Computer Science: Machine Learning\n",
    "    \"stat.ML\",  # Statistics: Machine Learning\n",
    "]\n",
    "\n",
    "# Apply filter\n",
    "def check_if_ai_paper(paper_categories: list[str]) -> bool:\n",
    "    \"\"\"Determine if the paper is in one of the AI categories\"\"\"\n",
    "    return any(i in paper_categories for i in relevant_categories)\n",
    "\n",
    "is_ai_paper = metadata[\"categories\"].apply(check_if_ai_paper)\n",
    "ai_papers = metadata[is_ai_paper]\n",
    "\n",
    "# Show number of papers over time\n",
    "ai_papers[\"update_date\"].groupby(ai_papers[\"update_date\"].dt.year).count().plot(kind=\"bar\")"
   ]
  }
 ],
 "metadata": {
  "kernelspec": {
   "display_name": "Python 3 (ipykernel)",
   "language": "python",
   "name": "python3"
  },
  "language_info": {
   "codemirror_mode": {
    "name": "ipython",
    "version": 3
   },
   "file_extension": ".py",
   "mimetype": "text/x-python",
   "name": "python",
   "nbconvert_exporter": "python",
   "pygments_lexer": "ipython3",
   "version": "3.9.5"
  },
  "vscode": {
   "interpreter": {
    "hash": "d609e04381741618cd8e1dc7b6d538ef773af9bc8a189182f82e56e6d0c924d6"
   }
  }
 },
 "nbformat": 4,
 "nbformat_minor": 5
}
